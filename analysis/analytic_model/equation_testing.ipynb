{
 "cells": [
  {
   "cell_type": "code",
   "execution_count": 1,
   "metadata": {
    "collapsed": false
   },
   "outputs": [
    {
     "name": "stdout",
     "output_type": "stream",
     "text": [
      "using cgs py\n"
     ]
    }
   ],
   "source": [
    "%matplotlib inline\n",
    "import matplotlib.pyplot as plt\n",
    "import numpy as np\n",
    "from scipy import integrate\n",
    "import cgs as cgs"
   ]
  },
  {
   "cell_type": "code",
   "execution_count": 2,
   "metadata": {
    "collapsed": true
   },
   "outputs": [],
   "source": [
    "def solvr(x,t,A):\n",
    "    return [x[1],A/x[0]]"
   ]
  },
  {
   "cell_type": "code",
   "execution_count": 3,
   "metadata": {
    "collapsed": true
   },
   "outputs": [],
   "source": [
    "rho_i = 1.0 * cgs.mp * 1.31\n",
    "rho_h = 1.0E-4 * cgs.mp * 0.62\n",
    "v = 200.0E5\n",
    "r_o = 400.*cgs.pc\n",
    "\n",
    "A = rho_h * v*v * 0.5 / rho_i"
   ]
  },
  {
   "cell_type": "code",
   "execution_count": 4,
   "metadata": {
    "collapsed": false
   },
   "outputs": [],
   "source": [
    "t = np.linspace(0.0,500.0,1000.0)*cgs.Myr\n",
    "r = integrate.odeint(solvr, [r_o,0], t, args=(A,))"
   ]
  },
  {
   "cell_type": "code",
   "execution_count": 5,
   "metadata": {
    "collapsed": false
   },
   "outputs": [
    {
     "data": {
      "text/plain": [
       "[<matplotlib.lines.Line2D at 0x7fc4de928710>,\n",
       " <matplotlib.lines.Line2D at 0x7fc4de928990>]"
      ]
     },
     "execution_count": 5,
     "metadata": {},
     "output_type": "execute_result"
    },
    {
     "data": {
      "image/png": "[encoded data removed]",
      "text/plain": [
       "<matplotlib.figure.Figure at 0x7fc4df2331d0>"
      ]
     },
     "metadata": {},
     "output_type": "display_data"
    }
   ],
   "source": [
    "plt.plot(t/cgs.Myr,r/cgs.pc)"
   ]
  },
  {
   "cell_type": "code",
   "execution_count": 6,
   "metadata": {
    "collapsed": false
   },
   "outputs": [
    {
     "name": "stdout",
     "output_type": "stream",
     "text": [
      "Loading IC for  Leo_T_burkert\n",
      "Loading IC for  Leo_T\n",
      "MUST SET A 'potential_type'\n",
      "Loading IC for  Sextans_test\n",
      "MUST SET A 'potential_type'\n",
      "Loading IC for  Leo_T_obs\n",
      "Assuming primordial neutral for dwarf mu = 1.31\n",
      "Assuming primordial ionized for halo mu = 0.6\n",
      "If M200 or n_o are not set, they will be solved for\n",
      "using the profile choice\n",
      "Loading IC for  CarinaMidMed\n",
      "If M200 or n_o are not set, they will be solved for\n",
      "using the profile choice\n",
      "Loading IC for  Leo_T_solve_burkert\n",
      "Assuming primordial neutral for dwarf mu = 1.31\n",
      "Assuming primordial ionized for halo mu = 0.6\n",
      "If M200 or n_o are not set, they will be solved for\n",
      "using the profile choice\n",
      "Loading IC for  Leo_test\n",
      "MUST SET A 'potential_type'\n",
      "Loaded IC's for  7  dwarf galaxies\n"
     ]
    }
   ],
   "source": [
    "from initial_conditions import ic_list as icl"
   ]
  },
  {
   "cell_type": "code",
   "execution_count": 7,
   "metadata": {
    "collapsed": true
   },
   "outputs": [],
   "source": [
    "carina = icl.ic_object_dict['CarinaMidMed']"
   ]
  },
  {
   "cell_type": "code",
   "execution_count": null,
   "metadata": {
    "collapsed": true
   },
   "outputs": [],
   "source": []
  },
  {
   "cell_type": "code",
   "execution_count": null,
   "metadata": {
    "collapsed": true
   },
   "outputs": [],
   "source": []
  },
  {
   "cell_type": "code",
   "execution_count": 8,
   "metadata": {
    "collapsed": true
   },
   "outputs": [],
   "source": [
    "### now for something entirely different ###\n",
    "\n",
    "def f(y, t, rho_halo, v, rho_gas):\n",
    "    # y contains mass as y[0] and radius as y[1]\n",
    "    Mi = y[0]\n",
    "    Ri = y[1]\n",
    "    \n",
    "    \n",
    "    num = 1.0\n",
    "    if Mi <= 0 or Ri <=0:\n",
    "        Ri = 0.0\n",
    "        num = 0.0\n",
    "    #else: \n",
    "    rdot = -0.5 * (4.0/3.0)*(rho_halo/rho_gas(Ri))**0.5 * v\n",
    "    mdot = 4.0*np.pi*Ri**2 * rho_gas(Ri) * rdot\n",
    "  \n",
    "\n",
    "    \n",
    "    return [num*mdot, num*rdot]\n",
    "    \n",
    "    \n",
    "    "
   ]
  },
  {
   "cell_type": "code",
   "execution_count": 9,
   "metadata": {
    "collapsed": false
   },
   "outputs": [
    {
     "name": "stdout",
     "output_type": "stream",
     "text": [
      "['r_s', 'T_dwarf', 'b', 'mu_halo', 'RM', 'M200', 'n_halo', 'potential_type', 'M_DM', 'mu_dwarf', 'n_o', 'r_DM', 'c', 'T_halo', 'rho_crit']\n",
      "423.12007563\n"
     ]
    }
   ],
   "source": [
    "print carina.ic.keys()\n",
    "print carina.ic['RM'] / cgs.pc\n"
   ]
  },
  {
   "cell_type": "code",
   "execution_count": null,
   "metadata": {
    "collapsed": true
   },
   "outputs": [],
   "source": []
  },
  {
   "cell_type": "code",
   "execution_count": null,
   "metadata": {
    "collapsed": true
   },
   "outputs": [],
   "source": []
  },
  {
   "cell_type": "code",
   "execution_count": 10,
   "metadata": {
    "collapsed": false
   },
   "outputs": [],
   "source": [
    "rho_halo = carina.ic['n_halo'] * cgs.mp * carina.ic['mu_halo']\n",
    "v = 200.0E5\n",
    "R_o = carina.ic['RM']\n",
    "M_o = 6.6E5 * cgs.Msun # approx\n",
    "\n",
    "t = np.linspace(0.0,120.0,10000.0)*cgs.Myr\n",
    "\n",
    "soln = integrate.odeint(f, [M_o,R_o],t, args=(rho_halo, v, carina.find_density_profile,))\n"
   ]
  },
  {
   "cell_type": "code",
   "execution_count": 11,
   "metadata": {
    "collapsed": true
   },
   "outputs": [],
   "source": [
    "M = soln[:,0]; R = soln[:,1]\n",
    "select = M > 0\n",
    "M = M[select]; t = t[select]; R = R[select]"
   ]
  },
  {
   "cell_type": "code",
   "execution_count": 12,
   "metadata": {
    "collapsed": false
   },
   "outputs": [
    {
     "data": {
      "text/plain": [
       "[<matplotlib.lines.Line2D at 0x7fc4db499c10>]"
      ]
     },
     "execution_count": 12,
     "metadata": {},
     "output_type": "execute_result"
    },
    {
     "data": {
      "image/png": "[encoded data removed]",
      "text/plain": [
       "<matplotlib.figure.Figure at 0x7fc4db924f50>"
      ]
     },
     "metadata": {},
     "output_type": "display_data"
    }
   ],
   "source": [
    "plt.plot(t/cgs.Myr, M/(1.0E4*cgs.Msun))"
   ]
  },
  {
   "cell_type": "code",
   "execution_count": 13,
   "metadata": {
    "collapsed": false
   },
   "outputs": [
    {
     "data": {
      "text/plain": [
       "7.196275478746473e-13"
      ]
     },
     "execution_count": 13,
     "metadata": {},
     "output_type": "execute_result"
    }
   ],
   "source": [
    "cgs.G*1.0E4*cgs.Msun*1.0*cgs.mp/(cgs.pc)"
   ]
  },
  {
   "cell_type": "code",
   "execution_count": 14,
   "metadata": {
    "collapsed": false
   },
   "outputs": [
    {
     "data": {
      "text/plain": [
       "6.69048e-14"
      ]
     },
     "execution_count": 14,
     "metadata": {},
     "output_type": "execute_result"
    }
   ],
   "source": [
    "1.0E-4*cgs.mp*200E5*200E5"
   ]
  },
  {
   "cell_type": "code",
   "execution_count": 32,
   "metadata": {
    "collapsed": false
   },
   "outputs": [],
   "source": [
    "r  = np.linspace(1.0*cgs.pc,R_o,1000)\n",
    "rho_gas = carina.find_density_profile(r)\n",
    "rho_DM  = carina.DM_density(r)\n",
    "integrand = lambda x: x*x*carina.DM_density(x)\n",
    "gas = lambda x: x*x*carina.find_density_profile(x)\n",
    "M_DM = np.zeros(np.size(r)-1)\n",
    "M_gas = np.zeros(np.size(r)-1)\n",
    "for i in np.arange(1,np.size(r)):\n",
    "    M_DM[i-1] = 4.0*np.pi* integrate.quad(integrand, r[i-1], r[i])[0]\n",
    "    M_gas[i-1] = 4.0*np.pi* integrate.quad(gas, r[i-1],r[i])[0]"
   ]
  },
  {
   "cell_type": "code",
   "execution_count": 44,
   "metadata": {
    "collapsed": false
   },
   "outputs": [
    {
     "data": {
      "text/plain": [
       "999"
      ]
     },
     "execution_count": 44,
     "metadata": {},
     "output_type": "execute_result"
    }
   ],
   "source": [
    "RHS = (M_DM + 10.0*M_gas) * rho_gas[:-1] / r[:-1] * cgs.G * np.pi * 0.5\n",
    "LHS = rho_halo * v*v\n",
    "RPS = np.zeros(np.size(r[:-1]))\n",
    "np.size(RPS[LHS>RHS])\n"
   ]
  },
  {
   "cell_type": "code",
   "execution_count": 42,
   "metadata": {
    "collapsed": false
   },
   "outputs": [
    {
     "name": "stdout",
     "output_type": "stream",
     "text": [
      "7.05176592e-14\n",
      "[  1.08943236e-12   1.02797154e-12   9.92683213e-13   9.68949962e-13\n",
      "   9.51338062e-13   9.37364164e-13   9.25732116e-13   9.15699224e-13\n",
      "   9.06809312e-13   8.98766687e-13   8.91371253e-13   8.84482753e-13\n",
      "   8.77999942e-13   8.71847897e-13   8.65969971e-13   8.60322536e-13\n",
      "   8.54871435e-13   8.49589541e-13   8.44455028e-13   8.39450132e-13\n",
      "   8.34560245e-13   8.29773236e-13   8.25078946e-13   8.20468799e-13\n",
      "   8.15935500e-13   8.11472803e-13   8.07075328e-13   8.02738407e-13\n",
      "   7.98457975e-13   7.94230470e-13   7.90052754e-13   7.85922052e-13\n",
      "   7.81835900e-13   7.77792098e-13   7.73788677e-13   7.69823865e-13\n",
      "   7.65896066e-13   7.62003832e-13   7.58145849e-13   7.54320919e-13\n",
      "   7.50527949e-13   7.46765935e-13   7.43033954e-13   7.39331156e-13\n",
      "   7.35656755e-13   7.32010022e-13   7.28390281e-13   7.24796903e-13\n",
      "   7.21229298e-13   7.17686918e-13   7.14169247e-13   7.10675800e-13\n",
      "   7.07206123e-13   7.03759785e-13   7.00336380e-13   6.96935524e-13\n",
      "   6.93556852e-13   6.90200019e-13   6.86864695e-13   6.83550566e-13\n",
      "   6.80257332e-13   6.76984707e-13   6.73732416e-13   6.70500198e-13\n",
      "   6.67287800e-13   6.64094978e-13   6.60921501e-13   6.57767142e-13\n",
      "   6.54631685e-13   6.51514920e-13   6.48416645e-13   6.45336663e-13\n",
      "   6.42274786e-13   6.39230827e-13   6.36204609e-13   6.33195958e-13\n",
      "   6.30204704e-13   6.27230684e-13   6.24273736e-13   6.21333706e-13\n",
      "   6.18410440e-13   6.15503790e-13   6.12613610e-13   6.09739759e-13\n",
      "   6.06882098e-13   6.04040491e-13   6.01214804e-13   5.98404908e-13\n",
      "   5.95610674e-13   5.92831977e-13   5.90068694e-13   5.87320705e-13\n",
      "   5.84587890e-13   5.81870133e-13   5.79167319e-13   5.76479335e-13\n",
      "   5.73806072e-13   5.71147419e-13   5.68503269e-13   5.65873516e-13\n",
      "   5.63258056e-13   5.60656787e-13   5.58069606e-13   5.55496414e-13\n",
      "   5.52937113e-13   5.50391605e-13   5.47859794e-13   5.45341586e-13\n",
      "   5.42836887e-13   5.40345605e-13   5.37867648e-13   5.35402927e-13\n",
      "   5.32951353e-13   5.30512837e-13   5.28087293e-13   5.25674634e-13\n",
      "   5.23274775e-13   5.20887633e-13   5.18513124e-13   5.16151166e-13\n",
      "   5.13801677e-13   5.11464577e-13   5.09139786e-13   5.06827225e-13\n",
      "   5.04526815e-13   5.02238480e-13   4.99962143e-13   4.97697727e-13\n",
      "   4.95445158e-13   4.93204361e-13   4.90975261e-13   4.88757787e-13\n",
      "   4.86551866e-13   4.84357425e-13   4.82174394e-13   4.80002702e-13\n",
      "   4.77842279e-13   4.75693056e-13   4.73554964e-13   4.71427935e-13\n",
      "   4.69311902e-13   4.67206797e-13   4.65112554e-13   4.63029107e-13\n",
      "   4.60956391e-13   4.58894341e-13   4.56842893e-13   4.54801983e-13\n",
      "   4.52771548e-13   4.50751525e-13   4.48741852e-13   4.46742467e-13\n",
      "   4.44753308e-13   4.42774316e-13   4.40805429e-13   4.38846589e-13\n",
      "   4.36897734e-13   4.34958807e-13   4.33029749e-13   4.31110502e-13\n",
      "   4.29201008e-13   4.27301210e-13   4.25411051e-13   4.23530475e-13\n",
      "   4.21659426e-13   4.19797849e-13   4.17945687e-13   4.16102887e-13\n",
      "   4.14269393e-13   4.12445153e-13   4.10630112e-13   4.08824218e-13\n",
      "   4.07027417e-13   4.05239657e-13   4.03460886e-13   4.01691052e-13\n",
      "   3.99930104e-13   3.98177990e-13   3.96434661e-13   3.94700066e-13\n",
      "   3.92974154e-13   3.91256877e-13   3.89548185e-13   3.87848029e-13\n",
      "   3.86156360e-13   3.84473131e-13   3.82798293e-13   3.81131798e-13\n",
      "   3.79473600e-13   3.77823651e-13   3.76181905e-13   3.74548315e-13\n",
      "   3.72922836e-13   3.71305421e-13   3.69696025e-13   3.68094603e-13\n",
      "   3.66501110e-13   3.64915502e-13   3.63337734e-13   3.61767762e-13\n",
      "   3.60205543e-13   3.58651034e-13   3.57104190e-13   3.55564970e-13\n",
      "   3.54033331e-13   3.52509230e-13   3.50992626e-13   3.49483477e-13\n",
      "   3.47981740e-13   3.46487376e-13   3.45000344e-13   3.43520601e-13\n",
      "   3.42048109e-13   3.40582827e-13   3.39124715e-13   3.37673733e-13\n",
      "   3.36229843e-13   3.34793004e-13   3.33363178e-13   3.31940327e-13\n",
      "   3.30524411e-13   3.29115394e-13   3.27713236e-13   3.26317900e-13\n",
      "   3.24929349e-13   3.23547546e-13   3.22172453e-13   3.20804034e-13\n",
      "   3.19442253e-13   3.18087072e-13   3.16738456e-13   3.15396369e-13\n",
      "   3.14060776e-13   3.12731640e-13   3.11408928e-13   3.10092603e-13\n",
      "   3.08782632e-13   3.07478979e-13   3.06181611e-13   3.04890492e-13\n",
      "   3.03605590e-13   3.02326871e-13   3.01054300e-13   2.99787845e-13\n",
      "   2.98527474e-13   2.97273152e-13   2.96024847e-13   2.94782527e-13\n",
      "   2.93546159e-13   2.92315711e-13   2.91091152e-13   2.89872450e-13\n",
      "   2.88659573e-13   2.87452490e-13   2.86251170e-13   2.85055582e-13\n",
      "   2.83865695e-13   2.82681478e-13   2.81502901e-13   2.80329935e-13\n",
      "   2.79162549e-13   2.78000712e-13   2.76844396e-13   2.75693571e-13\n",
      "   2.74548208e-13   2.73408278e-13   2.72273751e-13   2.71144599e-13\n",
      "   2.70020793e-13   2.68902305e-13   2.67789106e-13   2.66681169e-13\n",
      "   2.65578465e-13   2.64480967e-13   2.63388648e-13   2.62301478e-13\n",
      "   2.61219433e-13   2.60142483e-13   2.59070603e-13   2.58003766e-13\n",
      "   2.56941945e-13   2.55885112e-13   2.54833243e-13   2.53786311e-13\n",
      "   2.52744290e-13   2.51707154e-13   2.50674878e-13   2.49647435e-13\n",
      "   2.48624801e-13   2.47606949e-13   2.46593856e-13   2.45585496e-13\n",
      "   2.44581844e-13   2.43582876e-13   2.42588566e-13   2.41598892e-13\n",
      "   2.40613828e-13   2.39633350e-13   2.38657434e-13   2.37686057e-13\n",
      "   2.36719195e-13   2.35756824e-13   2.34798921e-13   2.33845463e-13\n",
      "   2.32896426e-13   2.31951788e-13   2.31011525e-13   2.30075615e-13\n",
      "   2.29144035e-13   2.28216764e-13   2.27293777e-13   2.26375054e-13\n",
      "   2.25460572e-13   2.24550309e-13   2.23644243e-13   2.22742353e-13\n",
      "   2.21844617e-13   2.20951014e-13   2.20061522e-13   2.19176120e-13\n",
      "   2.18294787e-13   2.17417501e-13   2.16544243e-13   2.15674991e-13\n",
      "   2.14809725e-13   2.13948424e-13   2.13091068e-13   2.12237637e-13\n",
      "   2.11388110e-13   2.10542467e-13   2.09700689e-13   2.08862756e-13\n",
      "   2.08028648e-13   2.07198345e-13   2.06371828e-13   2.05549077e-13\n",
      "   2.04730074e-13   2.03914799e-13   2.03103233e-13   2.02295358e-13\n",
      "   2.01491154e-13   2.00690602e-13   1.99893685e-13   1.99100383e-13\n",
      "   1.98310678e-13   1.97524553e-13   1.96741988e-13   1.95962966e-13\n",
      "   1.95187468e-13   1.94415477e-13   1.93646975e-13   1.92881944e-13\n",
      "   1.92120367e-13   1.91362227e-13   1.90607505e-13   1.89856185e-13\n",
      "   1.89108249e-13   1.88363680e-13   1.87622462e-13   1.86884577e-13\n",
      "   1.86150008e-13   1.85418739e-13   1.84690754e-13   1.83966035e-13\n",
      "   1.83244567e-13   1.82526332e-13   1.81811315e-13   1.81099499e-13\n",
      "   1.80390869e-13   1.79685409e-13   1.78983101e-13   1.78283932e-13\n",
      "   1.77587884e-13   1.76894943e-13   1.76205093e-13   1.75518318e-13\n",
      "   1.74834603e-13   1.74153933e-13   1.73476292e-13   1.72801665e-13\n",
      "   1.72130038e-13   1.71461395e-13   1.70795722e-13   1.70133004e-13\n",
      "   1.69473225e-13   1.68816372e-13   1.68162429e-13   1.67511383e-13\n",
      "   1.66863219e-13   1.66217923e-13   1.65575480e-13   1.64935876e-13\n",
      "   1.64299098e-13   1.63665131e-13   1.63033961e-13   1.62405575e-13\n",
      "   1.61779958e-13   1.61157097e-13   1.60536979e-13   1.59919589e-13\n",
      "   1.59304915e-13   1.58692943e-13   1.58083659e-13   1.57477051e-13\n",
      "   1.56873106e-13   1.56271809e-13   1.55673148e-13   1.55077111e-13\n",
      "   1.54483683e-13   1.53892854e-13   1.53304609e-13   1.52718935e-13\n",
      "   1.52135822e-13   1.51555255e-13   1.50977222e-13   1.50401711e-13\n",
      "   1.49828710e-13   1.49258207e-13   1.48690188e-13   1.48124643e-13\n",
      "   1.47561558e-13   1.47000922e-13   1.46442723e-13   1.45886949e-13\n",
      "   1.45333589e-13   1.44782630e-13   1.44234060e-13   1.43687869e-13\n",
      "   1.43144045e-13   1.42602575e-13   1.42063449e-13   1.41526656e-13\n",
      "   1.40992183e-13   1.40460021e-13   1.39930156e-13   1.39402579e-13\n",
      "   1.38877279e-13   1.38354243e-13   1.37833462e-13   1.37314924e-13\n",
      "   1.36798619e-13   1.36284536e-13   1.35772664e-13   1.35262992e-13\n",
      "   1.34755510e-13   1.34250207e-13   1.33747073e-13   1.33246097e-13\n",
      "   1.32747269e-13   1.32250578e-13   1.31756015e-13   1.31263569e-13\n",
      "   1.30773230e-13   1.30284988e-13   1.29798832e-13   1.29314753e-13\n",
      "   1.28832741e-13   1.28352785e-13   1.27874877e-13   1.27399006e-13\n",
      "   1.26925162e-13   1.26453336e-13   1.25983518e-13   1.25515699e-13\n",
      "   1.25049868e-13   1.24586017e-13   1.24124137e-13   1.23664217e-13\n",
      "   1.23206248e-13   1.22750221e-13   1.22296127e-13   1.21843957e-13\n",
      "   1.21393701e-13   1.20945351e-13   1.20498897e-13   1.20054330e-13\n",
      "   1.19611641e-13   1.19170822e-13   1.18731864e-13   1.18294757e-13\n",
      "   1.17859493e-13   1.17426064e-13   1.16994460e-13   1.16564674e-13\n",
      "   1.16136695e-13   1.15710517e-13   1.15286130e-13   1.14863525e-13\n",
      "   1.14442696e-13   1.14023632e-13   1.13606326e-13   1.13190770e-13\n",
      "   1.12776955e-13   1.12364873e-13   1.11954516e-13   1.11545876e-13\n",
      "   1.11138945e-13   1.10733714e-13   1.10330177e-13   1.09928324e-13\n",
      "   1.09528148e-13   1.09129641e-13   1.08732796e-13   1.08337604e-13\n",
      "   1.07944058e-13   1.07552149e-13   1.07161872e-13   1.06773217e-13\n",
      "   1.06386177e-13   1.06000745e-13   1.05616914e-13   1.05234674e-13\n",
      "   1.04854021e-13   1.04474945e-13   1.04097440e-13   1.03721498e-13\n",
      "   1.03347112e-13   1.02974275e-13   1.02602979e-13   1.02233218e-13\n",
      "   1.01864984e-13   1.01498271e-13   1.01133071e-13   1.00769376e-13\n",
      "   1.00407181e-13   1.00046478e-13   9.96872610e-14   9.93295221e-14\n",
      "   9.89732548e-14   9.86184523e-14   9.82651079e-14   9.79132148e-14\n",
      "   9.75627664e-14   9.72137560e-14   9.68661769e-14   9.65200227e-14\n",
      "   9.61752866e-14   9.58319622e-14   9.54900430e-14   9.51495226e-14\n",
      "   9.48103944e-14   9.44726522e-14   9.41362895e-14   9.38013001e-14\n",
      "   9.34676775e-14   9.31354156e-14   9.28045082e-14   9.24749489e-14\n",
      "   9.21467317e-14   9.18198505e-14   9.14942990e-14   9.11700712e-14\n",
      "   9.08471612e-14   9.05255628e-14   9.02052700e-14   8.98862770e-14\n",
      "   8.95685778e-14   8.92521665e-14   8.89370372e-14   8.86231842e-14\n",
      "   8.83106015e-14   8.79992834e-14   8.76892242e-14   8.73804182e-14\n",
      "   8.70728596e-14   8.67665428e-14   8.64614622e-14   8.61576121e-14\n",
      "   8.58549870e-14   8.55535813e-14   8.52533896e-14   8.49544062e-14\n",
      "   8.46566258e-14   8.43600430e-14   8.40646522e-14   8.37704481e-14\n",
      "   8.34774254e-14   8.31855787e-14   8.28949027e-14   8.26053922e-14\n",
      "   8.23170419e-14   8.20298465e-14   8.17438009e-14   8.14588999e-14\n",
      "   8.11751384e-14   8.08925112e-14   8.06110132e-14   8.03306393e-14\n",
      "   8.00513846e-14   7.97732440e-14   7.94962124e-14   7.92202850e-14\n",
      "   7.89454568e-14   7.86717229e-14   7.83990782e-14   7.81275181e-14\n",
      "   7.78570377e-14   7.75876320e-14   7.73192963e-14   7.70520259e-14\n",
      "   7.67858160e-14   7.65206618e-14   7.62565587e-14   7.59935019e-14\n",
      "   7.57314869e-14   7.54705089e-14   7.52105633e-14   7.49516456e-14\n",
      "   7.46937512e-14   7.44368755e-14   7.41810141e-14   7.39261624e-14\n",
      "   7.36723159e-14   7.34194702e-14   7.31676208e-14   7.29167634e-14\n",
      "   7.26668934e-14   7.24180067e-14   7.21700988e-14   7.19231653e-14\n",
      "   7.16772021e-14   7.14322047e-14   7.11881690e-14   7.09450906e-14\n",
      "   7.07029654e-14   7.04617892e-14   7.02215577e-14   6.99822668e-14\n",
      "   6.97439125e-14   6.95064904e-14   6.92699967e-14   6.90344271e-14\n",
      "   6.87997775e-14   6.85660441e-14   6.83332227e-14   6.81013094e-14\n",
      "   6.78703001e-14   6.76401909e-14   6.74109778e-14   6.71826570e-14\n",
      "   6.69552245e-14   6.67286764e-14   6.65030089e-14   6.62782181e-14\n",
      "   6.60543002e-14   6.58312513e-14   6.56090677e-14   6.53877457e-14\n",
      "   6.51672813e-14   6.49476710e-14   6.47289110e-14   6.45109975e-14\n",
      "   6.42939269e-14   6.40776956e-14   6.38622998e-14   6.36477360e-14\n",
      "   6.34340005e-14   6.32210897e-14   6.30090001e-14   6.27977281e-14\n",
      "   6.25872701e-14   6.23776227e-14   6.21687822e-14   6.19607453e-14\n",
      "   6.17535083e-14   6.15470680e-14   6.13414208e-14   6.11365632e-14\n",
      "   6.09324920e-14   6.07292036e-14   6.05266948e-14   6.03249621e-14\n",
      "   6.01240022e-14   5.99238117e-14   5.97243874e-14   5.95257260e-14\n",
      "   5.93278241e-14   5.91306786e-14   5.89342860e-14   5.87386433e-14\n",
      "   5.85437472e-14   5.83495945e-14   5.81561819e-14   5.79635064e-14\n",
      "   5.77715648e-14   5.75803538e-14   5.73898704e-14   5.72001115e-14\n",
      "   5.70110740e-14   5.68227547e-14   5.66351507e-14   5.64482588e-14\n",
      "   5.62620760e-14   5.60765993e-14   5.58918256e-14   5.57077520e-14\n",
      "   5.55243755e-14   5.53416931e-14   5.51597019e-14   5.49783988e-14\n",
      "   5.47977811e-14   5.46178457e-14   5.44385897e-14   5.42600104e-14\n",
      "   5.40821047e-14   5.39048699e-14   5.37283031e-14   5.35524014e-14\n",
      "   5.33771620e-14   5.32025822e-14   5.30286591e-14   5.28553900e-14\n",
      "   5.26827721e-14   5.25108026e-14   5.23394787e-14   5.21687979e-14\n",
      "   5.19987572e-14   5.18293541e-14   5.16605859e-14   5.14924498e-14\n",
      "   5.13249432e-14   5.11580635e-14   5.09918080e-14   5.08261740e-14\n",
      "   5.06611591e-14   5.04967604e-14   5.03329756e-14   5.01698019e-14\n",
      "   5.00072368e-14   4.98452778e-14   4.96839223e-14   4.95231678e-14\n",
      "   4.93630118e-14   4.92034517e-14   4.90444851e-14   4.88861094e-14\n",
      "   4.87283222e-14   4.85711211e-14   4.84145036e-14   4.82584672e-14\n",
      "   4.81030095e-14   4.79481281e-14   4.77938206e-14   4.76400846e-14\n",
      "   4.74869177e-14   4.73343175e-14   4.71822818e-14   4.70308080e-14\n",
      "   4.68798940e-14   4.67295373e-14   4.65797356e-14   4.64304867e-14\n",
      "   4.62817882e-14   4.61336378e-14   4.59860334e-14   4.58389725e-14\n",
      "   4.56924530e-14   4.55464726e-14   4.54010290e-14   4.52561201e-14\n",
      "   4.51117437e-14   4.49678974e-14   4.48245792e-14   4.46817869e-14\n",
      "   4.45395182e-14   4.43977711e-14   4.42565433e-14   4.41158327e-14\n",
      "   4.39756372e-14   4.38359547e-14   4.36967830e-14   4.35581201e-14\n",
      "   4.34199638e-14   4.32823121e-14   4.31451628e-14   4.30085140e-14\n",
      "   4.28723635e-14   4.27367093e-14   4.26015495e-14   4.24668818e-14\n",
      "   4.23327044e-14   4.21990152e-14   4.20658122e-14   4.19330934e-14\n",
      "   4.18008569e-14   4.16691006e-14   4.15378226e-14   4.14070209e-14\n",
      "   4.12766937e-14   4.11468389e-14   4.10174546e-14   4.08885389e-14\n",
      "   4.07600899e-14   4.06321057e-14   4.05045843e-14   4.03775240e-14\n",
      "   4.02509228e-14   4.01247789e-14   3.99990903e-14   3.98738553e-14\n",
      "   3.97490720e-14   3.96247385e-14   3.95008531e-14   3.93774139e-14\n",
      "   3.92544191e-14   3.91318669e-14   3.90097554e-14   3.88880830e-14\n",
      "   3.87668479e-14   3.86460482e-14   3.85256822e-14   3.84057481e-14\n",
      "   3.82862443e-14   3.81671689e-14   3.80485202e-14   3.79302965e-14\n",
      "   3.78124961e-14   3.76951173e-14   3.75781584e-14   3.74616177e-14\n",
      "   3.73454934e-14   3.72297840e-14   3.71144877e-14   3.69996030e-14\n",
      "   3.68851280e-14   3.67710613e-14   3.66574010e-14   3.65441457e-14\n",
      "   3.64312937e-14   3.63188433e-14   3.62067930e-14   3.60951411e-14\n",
      "   3.59838861e-14   3.58730264e-14   3.57625603e-14   3.56524863e-14\n",
      "   3.55428028e-14   3.54335083e-14   3.53246013e-14   3.52160801e-14\n",
      "   3.51079432e-14   3.50001891e-14   3.48928162e-14   3.47858231e-14\n",
      "   3.46792082e-14   3.45729701e-14   3.44671071e-14   3.43616179e-14\n",
      "   3.42565009e-14   3.41517546e-14   3.40473777e-14   3.39433685e-14\n",
      "   3.38397257e-14   3.37364477e-14   3.36335333e-14   3.35309808e-14\n",
      "   3.34287889e-14   3.33269561e-14   3.32254810e-14   3.31243622e-14\n",
      "   3.30235983e-14   3.29231879e-14   3.28231295e-14   3.27234219e-14\n",
      "   3.26240635e-14   3.25250531e-14   3.24263892e-14   3.23280705e-14\n",
      "   3.22300955e-14   3.21324631e-14   3.20351718e-14   3.19382202e-14\n",
      "   3.18416070e-14   3.17453310e-14   3.16493907e-14   3.15537848e-14\n",
      "   3.14585121e-14   3.13635712e-14   3.12689608e-14   3.11746797e-14\n",
      "   3.10807264e-14   3.09870998e-14   3.08937986e-14   3.08008214e-14\n",
      "   3.07081671e-14   3.06158343e-14   3.05238218e-14   3.04321283e-14\n",
      "   3.03407526e-14   3.02496934e-14   3.01589496e-14   3.00685198e-14\n",
      "   2.99784029e-14   2.98885976e-14   2.97991027e-14   2.97099170e-14\n",
      "   2.96210393e-14   2.95324685e-14   2.94442032e-14   2.93562423e-14\n",
      "   2.92685846e-14   2.91812290e-14   2.90941742e-14   2.90074192e-14\n",
      "   2.89209627e-14   2.88348036e-14   2.87489406e-14   2.86633728e-14\n",
      "   2.85780989e-14   2.84931178e-14   2.84084283e-14   2.83240294e-14\n",
      "   2.82399199e-14   2.81560986e-14   2.80725645e-14   2.79893165e-14\n",
      "   2.79063534e-14   2.78236741e-14   2.77412777e-14   2.76591628e-14\n",
      "   2.75773286e-14   2.74957738e-14   2.74144975e-14   2.73334985e-14\n",
      "   2.72527757e-14   2.71723282e-14   2.70921548e-14   2.70122546e-14\n",
      "   2.69326263e-14   2.68532691e-14   2.67741818e-14   2.66953635e-14\n",
      "   2.66168130e-14   2.65385294e-14   2.64605117e-14   2.63827587e-14\n",
      "   2.63052696e-14   2.62280432e-14   2.61510787e-14   2.60743749e-14\n",
      "   2.59979309e-14   2.59217457e-14   2.58458183e-14   2.57701478e-14\n",
      "   2.56947331e-14   2.56195732e-14   2.55446672e-14   2.54700142e-14\n",
      "   2.53956131e-14   2.53214630e-14   2.52475629e-14   2.51739120e-14\n",
      "   2.51005092e-14   2.50273535e-14   2.49544442e-14   2.48817801e-14\n",
      "   2.48093604e-14   2.47371843e-14   2.46652506e-14   2.45935585e-14\n",
      "   2.45221072e-14   2.44508956e-14   2.43799230e-14   2.43091882e-14\n",
      "   2.42386906e-14   2.41684291e-14   2.40984030e-14   2.40286112e-14\n",
      "   2.39590529e-14   2.38897272e-14   2.38206333e-14   2.37517703e-14\n",
      "   2.36831372e-14   2.36147333e-14   2.35465576e-14   2.34786094e-14\n",
      "   2.34108877e-14   2.33433917e-14   2.32761205e-14   2.32090734e-14\n",
      "   2.31422494e-14   2.30756477e-14   2.30092675e-14   2.29431079e-14\n",
      "   2.28771682e-14   2.28114475e-14   2.27459449e-14   2.26806598e-14\n",
      "   2.26155911e-14   2.25507382e-14   2.24861002e-14   2.24216763e-14\n",
      "   2.23574658e-14   2.22934677e-14   2.22296814e-14   2.21661060e-14\n",
      "   2.21027408e-14   2.20395849e-14   2.19766376e-14]\n"
     ]
    }
   ],
   "source": [
    "print LHS\n",
    "print RHS"
   ]
  },
  {
   "cell_type": "code",
   "execution_count": null,
   "metadata": {
    "collapsed": true
   },
   "outputs": [],
   "source": []
  }
 ],
 "metadata": {
  "kernelspec": {
   "display_name": "Python 2",
   "language": "python",
   "name": "python2"
  },
  "language_info": {
   "codemirror_mode": {
    "name": "ipython",
    "version": 2
   },
   "file_extension": ".py",
   "mimetype": "text/x-python",
   "name": "python",
   "nbconvert_exporter": "python",
   "pygments_lexer": "ipython2",
   "version": "2.7.9"
  }
 },
 "nbformat": 4,
 "nbformat_minor": 0
}
