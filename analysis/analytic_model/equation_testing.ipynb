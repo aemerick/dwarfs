{
 "cells": [
  {
   "cell_type": "code",
   "execution_count": 1,
   "metadata": {
    "collapsed": false
   },
   "outputs": [
    {
     "name": "stdout",
     "output_type": "stream",
     "text": [
      "using cgs py\n"
     ]
    }
   ],
   "source": [
    "%matplotlib inline\n",
    "import matplotlib.pyplot as plt\n",
    "import numpy as np\n",
    "from scipy import integrate\n",
    "import cgs as cgs\n",
    "from scipy import interpolate\n",
    "import dwarf_model as dw_model"
   ]
  },
  {
   "cell_type": "code",
   "execution_count": 2,
   "metadata": {
    "collapsed": true
   },
   "outputs": [],
   "source": [
    "fpath = '/home/emerick/Research/dwarfs/flash_runs/carina_final/'\n",
    "\n",
    "mass_adiabatic = np.genfromtxt(fpath + \"../carina_adiabatic/mass_evolution_0-300.dat\",names=True)\n"
   ]
  },
  {
   "cell_type": "code",
   "execution_count": 3,
   "metadata": {
    "collapsed": true
   },
   "outputs": [],
   "source": [
    "def solvr(x,t,A):\n",
    "    return [x[1],A/x[0]]"
   ]
  },
  {
   "cell_type": "code",
   "execution_count": 4,
   "metadata": {
    "collapsed": true
   },
   "outputs": [],
   "source": [
    "rho_i = 1.0 * cgs.mp * 1.31\n",
    "rho_h = 1.0E-4 * cgs.mp * 0.62\n",
    "v = 200.0E5\n",
    "r_o = 400.*cgs.pc\n",
    "\n",
    "A = rho_h * v*v * 0.5 / rho_i"
   ]
  },
  {
   "cell_type": "code",
   "execution_count": 5,
   "metadata": {
    "collapsed": false
   },
   "outputs": [],
   "source": [
    "t = np.linspace(0.0,500.0,1000.0)*cgs.Myr\n",
    "r = integrate.odeint(solvr, [r_o,0], t, args=(A,))"
   ]
  },
  {
   "cell_type": "code",
   "execution_count": 6,
   "metadata": {
    "collapsed": false
   },
   "outputs": [
    {
     "data": {
      "text/plain": [
       "[<matplotlib.lines.Line2D at 0x7f278193e6d0>,\n",
       " <matplotlib.lines.Line2D at 0x7f278193e950>]"
      ]
     },
     "execution_count": 6,
     "metadata": {},
     "output_type": "execute_result"
    },
    {
     "data": {
      "image/png": "[encoded data removed]",
      "text/plain": [
       "<matplotlib.figure.Figure at 0x7f278c066590>"
      ]
     },
     "metadata": {},
     "output_type": "display_data"
    }
   ],
   "source": [
    "plt.plot(t/cgs.Myr,r/cgs.pc)"
   ]
  },
  {
   "cell_type": "code",
   "execution_count": 7,
   "metadata": {
    "collapsed": false
   },
   "outputs": [
    {
     "name": "stdout",
     "output_type": "stream",
     "text": [
      "Loading IC for  Leo_T_burkert\n",
      "Loading IC for  Leo_T\n",
      "MUST SET A 'potential_type'\n",
      "Loading IC for  Sextans_test\n",
      "MUST SET A 'potential_type'\n",
      "Loading IC for  Leo_T_obs\n",
      "Assuming primordial neutral for dwarf mu = 1.31\n",
      "Assuming primordial ionized for halo mu = 0.6\n",
      "If M200 or n_o are not set, they will be solved for\n",
      "using the profile choice\n",
      "Loading IC for  CarinaMidMed\n",
      "If M200 or n_o are not set, they will be solved for\n",
      "using the profile choice\n",
      "Loading IC for  Leo_T_solve_burkert\n",
      "Assuming primordial neutral for dwarf mu = 1.31\n",
      "Assuming primordial ionized for halo mu = 0.6\n",
      "If M200 or n_o are not set, they will be solved for\n",
      "using the profile choice\n",
      "Loading IC for  Leo_test\n",
      "MUST SET A 'potential_type'\n",
      "Loaded IC's for  7  dwarf galaxies\n"
     ]
    }
   ],
   "source": [
    "from initial_conditions import ic_list as icl"
   ]
  },
  {
   "cell_type": "code",
   "execution_count": 8,
   "metadata": {
    "collapsed": true
   },
   "outputs": [],
   "source": [
    "carina = icl.ic_object_dict['CarinaMidMed']"
   ]
  },
  {
   "cell_type": "code",
   "execution_count": null,
   "metadata": {
    "collapsed": true
   },
   "outputs": [],
   "source": []
  },
  {
   "cell_type": "code",
   "execution_count": null,
   "metadata": {
    "collapsed": true
   },
   "outputs": [],
   "source": []
  },
  {
   "cell_type": "code",
   "execution_count": 9,
   "metadata": {
    "collapsed": false
   },
   "outputs": [],
   "source": [
    "### now for something entirely different ###\n",
    "\n",
    "def f(y, t, rho_halo, v, rho_gas, rho_gas_o):\n",
    "    # y contains mass as y[0] and radius as y[1]\n",
    "    Mi = y[0]\n",
    "    Ri = y[1]\n",
    "    \n",
    "    \n",
    "    num = 1.0\n",
    "    if Mi <= 0 or Ri <=0:\n",
    "        Ri = 0.0\n",
    "        num = 0.0\n",
    "    rdot = -0.5 * (4.0/3.0)*(rho_halo/rho_gas_o)**0.5 * v\n",
    "    #c_sound = ((5.0/3.0)*cgs.kb*1.0E4/(cgs.mp*1.31))**0.5\n",
    "    #rdot = -c_sound\n",
    "    \n",
    "    mdot = 4.0*np.pi*Ri**2 * rho_gas(Ri) * rdot\n",
    "  \n",
    "\n",
    "    \n",
    "    return [num*mdot, num*rdot]\n",
    "\n",
    "def f_method2(y, t, rho_halo, v, rho_gas, rho_gas_o):\n",
    "    # y contains mass as y[0] and radius as y[1]\n",
    "    Mi = y[0]\n",
    "    Ri = y[1]\n",
    "    \n",
    "    \n",
    "    num = 1.0\n",
    "    if Mi <= 0 or Ri <=0:\n",
    "        Ri = 0.0\n",
    "        num = 0.0\n",
    "        \n",
    "    vshock = (4./3.)*(rho_halo/rho_gas_o)**0.5 * v\n",
    "    tau_rps = 2.0*Ri/ vshock\n",
    "    mdot = -Mi / tau_rps      \n",
    "    rdot = mdot / (4.0*np.pi*Ri**2 * rho_gas(Ri))\n",
    "        \n",
    "\n",
    "   # rdot = -0.5 * (4.0/3.0)*(rho_halo/rho_gas_o)**0.5 * v\n",
    "    #c_sound = ((5.0/3.0)*cgs.kb*1.0E4/(cgs.mp*1.31))**0.5\n",
    "    #rdot = -c_sound\n",
    "    \n",
    "    #mdot = 4.0*np.pi*Ri**2 * rho_gas(Ri) * rdot\n",
    "  \n",
    "\n",
    "    \n",
    "    return [num*mdot, num*rdot]\n",
    "    \n",
    "def KH(y, t, rho_halo, v, rho_gas):\n",
    "    Mi = y[0]\n",
    "    Ri = y[1]\n",
    "    \n",
    "    Mdot = -np.pi * Ri**2 * rho_halo * v\n",
    "    Rdot = Mdot / (4.0*np.pi*Ri**2 * rho_gas(Ri))\n",
    "    \n",
    "    return [Mdot,Rdot]\n",
    "\n",
    "def KH_t(y, t, rho_halo, v, rho_gas):\n",
    "    Mi = y[0]\n",
    "    Ri = y[1]\n",
    "    \n",
    "    Mdot = -np.pi * Ri**2 * rho_halo(t) * v(t)\n",
    "    Rdot = Mdot / (4.0*np.pi*Ri**2 * rho_gas(Ri))\n",
    "    \n",
    "    return [Mdot,Rdot]"
   ]
  },
  {
   "cell_type": "code",
   "execution_count": 10,
   "metadata": {
    "collapsed": false
   },
   "outputs": [
    {
     "name": "stdout",
     "output_type": "stream",
     "text": [
      "['r_s', 'T_dwarf', 'b', 'mu_halo', 'RM', 'M200', 'n_halo', 'potential_type', 'M_DM', 'mu_dwarf', 'n_o', 'r_DM', 'c', 'T_halo', 'rho_crit']\n",
      "423.12007563\n",
      "40.3727153889\n",
      "10.2478293046\n"
     ]
    }
   ],
   "source": [
    "print carina.ic.keys()\n",
    "print carina.ic['RM'] / cgs.pc\n",
    "print (carina.ic['RM']/((5.0/3.0)*cgs.kb*1.0E4/(cgs.mp*1.31))**0.5)/cgs.Myr\n",
    "c_sound = ((5.0/3.0)*cgs.kb*1.0E4/(cgs.mp*1.31))**0.5\n",
    "print c_sound / 1.0E5"
   ]
  },
  {
   "cell_type": "code",
   "execution_count": null,
   "metadata": {
    "collapsed": true
   },
   "outputs": [],
   "source": []
  },
  {
   "cell_type": "code",
   "execution_count": null,
   "metadata": {
    "collapsed": true
   },
   "outputs": [],
   "source": []
  },
  {
   "cell_type": "code",
   "execution_count": 11,
   "metadata": {
    "collapsed": false
   },
   "outputs": [
    {
     "name": "stdout",
     "output_type": "stream",
     "text": [
      "M200 = 3.3885e+08\n",
      "Excess work done on this call (perhaps wrong Dfun type).\n",
      "Run with full_output = 1 to get quantitative information.\n"
     ]
    }
   ],
   "source": [
    "rho_halo = carina.ic['n_halo'] * cgs.mp * carina.ic['mu_halo']\n",
    "v = 200.0E5\n",
    "R_o = carina.ic['RM']\n",
    "print \"M200 = %4.4e\"%(carina.ic['M200']/cgs.Msun)\n",
    "M_o = 6.6E5 * cgs.Msun # approx\n",
    "\n",
    "t = np.linspace(0.0,600,100.0)*cgs.Myr\n",
    "\n",
    "soln = integrate.odeint(f, [M_o,R_o],t, args=(rho_halo, v, carina.find_density_profile,carina.find_density_profile(0.0)))\n",
    "soln2 = integrate.odeint(f_method2, [M_o,R_o],t, args=(rho_halo, v, carina.find_density_profile,carina.find_density_profile(0.0)))\n",
    "\n"
   ]
  },
  {
   "cell_type": "code",
   "execution_count": 12,
   "metadata": {
    "collapsed": false
   },
   "outputs": [
    {
     "data": {
      "text/plain": [
       "(0, 500)"
      ]
     },
     "execution_count": 12,
     "metadata": {},
     "output_type": "execute_result"
    },
    {
     "data": {
      "image/png": "[encoded data removed]",
      "text/plain": [
       "<matplotlib.figure.Figure at 0x7f27818d5450>"
      ]
     },
     "metadata": {},
     "output_type": "display_data"
    }
   ],
   "source": [
    "# plotting the ram pressure stripping evolution\n",
    "fig = plt.figure(figsize=[12,6])\n",
    "t = np.linspace(0.0,600,100.0)*cgs.Myr\n",
    "\n",
    "M = soln[:,0]; R = soln[:,1]\n",
    "M2 = soln2[:,0]; R2 = soln2[:,1]\n",
    "\n",
    "select = M > 0\n",
    "M = M[select]; t = t[select]; R = R[select]\n",
    "\n",
    "ax1 = fig.add_subplot(1,2,1)\n",
    "ax1.plot(t/cgs.Myr, M/M[0],label='1')\n",
    "ax1.plot(t/cgs.Myr, M2/M2[0],label='2')\n",
    "ax1.legend(loc='best'); ax1.set_xlabel('time (Myr)'); ax1.set_ylabel(r'M / M$_{o}$')\n",
    "\n",
    "ax2 = fig.add_subplot(1,2,2)\n",
    "ax2.plot(t/cgs.Myr, R/cgs.pc, label='1')\n",
    "ax2.plot(t/cgs.Myr, R2/cgs.pc, label='2')\n",
    "ax2.legend(loc='best'); ax2.set_xlabel('time (Myr)'); ax2.set_ylabel(r'R (pc)')\n",
    "ax2.set_ylim(0,500)\n"
   ]
  },
  {
   "cell_type": "code",
   "execution_count": null,
   "metadata": {
    "collapsed": false
   },
   "outputs": [],
   "source": []
  },
  {
   "cell_type": "code",
   "execution_count": 13,
   "metadata": {
    "collapsed": false
   },
   "outputs": [
    {
     "data": {
      "text/plain": [
       "[<matplotlib.lines.Line2D at 0x7f278173eb10>]"
      ]
     },
     "execution_count": 13,
     "metadata": {},
     "output_type": "execute_result"
    },
    {
     "data": {
      "image/png": "[encoded data removed]",
      "text/plain": [
       "<matplotlib.figure.Figure at 0x7f278194c410>"
      ]
     },
     "metadata": {},
     "output_type": "display_data"
    }
   ],
   "source": [
    "plt.plot(t[0:-1]/cgs.Myr, -np.diff(M/cgs.Msun)/np.diff(t/cgs.Myr))"
   ]
  },
  {
   "cell_type": "code",
   "execution_count": 14,
   "metadata": {
    "collapsed": false
   },
   "outputs": [
    {
     "data": {
      "text/plain": [
       "(0, 500)"
      ]
     },
     "execution_count": 14,
     "metadata": {},
     "output_type": "execute_result"
    },
    {
     "data": {
      "image/png": "[encoded data removed]",
      "text/plain": [
       "<matplotlib.figure.Figure at 0x7f278c075f10>"
      ]
     },
     "metadata": {},
     "output_type": "display_data"
    }
   ],
   "source": [
    "rho_halo = carina.ic['n_halo'] * cgs.mp * carina.ic['mu_halo']\n",
    "v = 200.0E5\n",
    "R_o = carina.ic['RM']\n",
    "M_o = 6.6E5 * cgs.Msun # approx\n",
    "\n",
    "t = np.linspace(0.0,1200.0,1000.0)*cgs.Myr\n",
    "\n",
    "soln = integrate.odeint(KH, [M_o,R_o],t, args=(rho_halo, v, carina.find_density_profile,))\n",
    "M_KH = soln[:,0]; R_KH = soln[:,1]\n",
    "plt.plot(t/cgs.Myr,M_KH/(M_KH[0]))\n",
    "plt.plot(mass_adiabatic['t'], mass_adiabatic['m']/mass_adiabatic['m'][0])\n",
    "plt.ylim(0,1)\n",
    "plt.xlim(0,500)"
   ]
  },
  {
   "cell_type": "code",
   "execution_count": 15,
   "metadata": {
    "collapsed": false
   },
   "outputs": [],
   "source": [
    "carina_orbit = np.genfromtxt(\"./../orbits/carina_orbit_tab.dat\")\n",
    "t_orbit = carina_orbit[:,0] * cgs.Myr\n",
    "v_orbit = carina_orbit[:,2] * 1.0E5"
   ]
  },
  {
   "cell_type": "code",
   "execution_count": 16,
   "metadata": {
    "collapsed": false
   },
   "outputs": [
    {
     "name": "stdout",
     "output_type": "stream",
     "text": [
      "1.31206437896e+39\n",
      "1.312806e+39 1.30561213102e+21\n",
      "[  0.00000000e+00   3.79061862e+13] 3.79061861862e+13\n"
     ]
    },
    {
     "data": {
      "image/png": "[encoded data removed]",
      "text/plain": [
       "<matplotlib.figure.Figure at 0x7f2781587bd0>"
      ]
     },
     "metadata": {},
     "output_type": "display_data"
    }
   ],
   "source": [
    "\n",
    "def rho_halo_func(t):\n",
    "    rho_halo = carina.ic['n_halo'] * cgs.mp * carina.ic['mu_halo']\n",
    "    return rho_halo # constant density\n",
    "\n",
    "velocity_func = interpolate.UnivariateSpline(t_orbit, v_orbit,k=3)     # cubic spline \n",
    "\n",
    "R_o = carina.ic['RM']\n",
    "M_o = 6.6E5 * cgs.Msun # approx\n",
    "\n",
    "t = np.linspace(0.0,1200.0,1000.0)*cgs.Myr\n",
    "\n",
    "soln = integrate.odeint(KH_t, [M_o,R_o],t, args=(rho_halo_func, velocity_func, carina.find_density_profile,))\n",
    "M_KH = soln[:,0]; R_KH = soln[:,1]\n",
    "plt.plot(t/cgs.Myr,M_KH/(M_KH[0]))\n",
    "plt.plot(mass_adiabatic['t'], mass_adiabatic['m']/mass_adiabatic['m'][0])\n",
    "plt.ylim(0,1)\n",
    "plt.xlim(0,500)\n",
    "soln_test = integrate.odeint(KH_t, [M_o,R_o], np.array([t[0],t[1]]), args=(rho_halo_func, velocity_func, carina.find_density_profile,))\n",
    "print soln_test[1,0]\n",
    "print M_o, R_o\n",
    "print t[0:2], t[1]"
   ]
  },
  {
   "cell_type": "code",
   "execution_count": 17,
   "metadata": {
    "collapsed": false
   },
   "outputs": [
    {
     "data": {
      "text/plain": [
       "[<matplotlib.lines.Line2D at 0x7f278131a7d0>]"
      ]
     },
     "execution_count": 17,
     "metadata": {},
     "output_type": "execute_result"
    },
    {
     "data": {
      "image/png": "[encoded data removed]",
      "text/plain": [
       "<matplotlib.figure.Figure at 0x7f27815873d0>"
      ]
     },
     "metadata": {},
     "output_type": "display_data"
    }
   ],
   "source": [
    "plt.plot(t/cgs.Myr, R_KH/cgs.pc)"
   ]
  },
  {
   "cell_type": "code",
   "execution_count": 18,
   "metadata": {
    "collapsed": false
   },
   "outputs": [
    {
     "data": {
      "text/plain": [
       "[]"
      ]
     },
     "execution_count": 18,
     "metadata": {},
     "output_type": "execute_result"
    },
    {
     "data": {
      "image/png": "[encoded data removed]",
      "text/plain": [
       "<matplotlib.figure.Figure at 0x7f2781271390>"
      ]
     },
     "metadata": {},
     "output_type": "display_data"
    }
   ],
   "source": [
    "r  = np.linspace(1.0*cgs.pc,R_o,1000)\n",
    "rho_gas = carina.find_density_profile(r)\n",
    "rho_DM  = carina.DM_density(r)\n",
    "integrand = lambda x: x*x*carina.DM_density(x)\n",
    "gas = lambda x: x*x*carina.find_density_profile(x)\n",
    "M_DM = np.zeros(np.size(r)-1)\n",
    "M_gas = np.zeros(np.size(r)-1)\n",
    "for i in np.arange(1,np.size(r)):\n",
    "    M_DM[i-1] = 4.0*np.pi* integrate.quad(integrand, 0.0, r[i])[0]\n",
    "    M_gas[i-1] = 4.0*np.pi* integrate.quad(gas, 0.0,r[i])[0]\n",
    "plt.plot(r[:-1]/cgs.pc,M_DM/cgs.Msun,label='Dark Matter Mass')\n",
    "plt.plot(r[:-1]/cgs.pc,M_gas/cgs.Msun,label='Gas Mass')\n",
    "plt.legend(loc='best')\n",
    "plt.semilogy()"
   ]
  },
  {
   "cell_type": "code",
   "execution_count": 19,
   "metadata": {
    "collapsed": false
   },
   "outputs": [
    {
     "data": {
      "text/plain": [
       "[<matplotlib.lines.Line2D at 0x7f27811cd890>]"
      ]
     },
     "execution_count": 19,
     "metadata": {},
     "output_type": "execute_result"
    },
    {
     "data": {
      "image/png": "[encoded data removed]",
      "text/plain": [
       "<matplotlib.figure.Figure at 0x7f27812a6a10>"
      ]
     },
     "metadata": {},
     "output_type": "display_data"
    }
   ],
   "source": [
    "rho_halo = carina.ic['n_halo'] * cgs.mp * carina.ic['mu_halo']\n",
    "v = 300.0E5\n",
    "\n",
    "for beta in np.array([np.pi/2.0,1.0/3.0,0.5,1.0,2.0,3.0]):\n",
    "    RHS = (M_DM + M_gas) * rho_gas[:-1] / r[:-1] * cgs.G * beta\n",
    "    LHS = rho_halo * v*v\n",
    "    RPS = LHS - RHS\n",
    "    plt.plot(r[:-1]/cgs.pc,RPS,label='beta = %.2f'%(beta))\n",
    "    \n",
    "plt.legend(loc='best')\n",
    "plt.plot(plt.xlim(),[0,0],color='red')"
   ]
  },
  {
   "cell_type": "code",
   "execution_count": 20,
   "metadata": {
    "collapsed": false
   },
   "outputs": [
    {
     "name": "stdout",
     "output_type": "stream",
     "text": [
      "(array([706, 707, 708, 709, 710]),)\n",
      "0.413841166851\n"
     ]
    }
   ],
   "source": [
    "print np.where(np.abs(r/cgs.pc -300.16) < 1)\n",
    "print (M_gas[-1] - M_gas[707])/cgs.Msun  /(M_gas[-1]/cgs.Msun)\n",
    "\n"
   ]
  },
  {
   "cell_type": "code",
   "execution_count": 21,
   "metadata": {
    "collapsed": false
   },
   "outputs": [
    {
     "ename": "TypeError",
     "evalue": "_KH_evolution() takes exactly 5 arguments (6 given)",
     "output_type": "error",
     "traceback": [
      "\u001b[1;31m---------------------------------------------------------------------------\u001b[0m",
      "\u001b[1;31mTypeError\u001b[0m                                 Traceback (most recent call last)",
      "\u001b[1;32m/home/emerick/Research/dwarfs/analysis/analytic_model/dwarf_model.py\u001b[0m in \u001b[0;36m<lambda>\u001b[1;34m(y, t, A, B)\u001b[0m\n\u001b[0;32m    152\u001b[0m     \u001b[0mode_function\u001b[0m \u001b[1;33m=\u001b[0m \u001b[1;32mlambda\u001b[0m \u001b[0my\u001b[0m\u001b[1;33m,\u001b[0m \u001b[0mt\u001b[0m\u001b[1;33m,\u001b[0m \u001b[0mA\u001b[0m\u001b[1;33m,\u001b[0m \u001b[0mB\u001b[0m\u001b[1;33m:\u001b[0m\u001b[0;31m\\\u001b[0m\u001b[1;33m\u001b[0m\u001b[0m\n\u001b[0;32m    153\u001b[0m                  A *  _KH_evolution(y, t, halo_gas_density, galaxy_velocity,\n\u001b[1;32m--> 154\u001b[1;33m                                                  galaxy_gas_density,physics_kwargs['KH'])+\\\n\u001b[0m\u001b[0;32m    155\u001b[0m                  B * _RPS_evolution(y, t, halo_gas_density, galaxy_velocity,\n\u001b[0;32m    156\u001b[0m                                            galaxy_gas_density, galaxy_gas_density(0.0),physics_kwargs['RPS'])\n",
      "\u001b[1;31mTypeError\u001b[0m: _KH_evolution() takes exactly 5 arguments (6 given)"
     ]
    },
    {
     "ename": "TypeError",
     "evalue": "_KH_evolution() takes exactly 5 arguments (6 given)",
     "output_type": "error",
     "traceback": [
      "\u001b[1;31m---------------------------------------------------------------------------\u001b[0m",
      "\u001b[1;31mTypeError\u001b[0m                                 Traceback (most recent call last)",
      "\u001b[1;32m/home/emerick/Research/dwarfs/analysis/analytic_model/dwarf_model.py\u001b[0m in \u001b[0;36m<lambda>\u001b[1;34m(y, t, A, B)\u001b[0m\n\u001b[0;32m    152\u001b[0m     \u001b[0mode_function\u001b[0m \u001b[1;33m=\u001b[0m \u001b[1;32mlambda\u001b[0m \u001b[0my\u001b[0m\u001b[1;33m,\u001b[0m \u001b[0mt\u001b[0m\u001b[1;33m,\u001b[0m \u001b[0mA\u001b[0m\u001b[1;33m,\u001b[0m \u001b[0mB\u001b[0m\u001b[1;33m:\u001b[0m\u001b[0;31m\\\u001b[0m\u001b[1;33m\u001b[0m\u001b[0m\n\u001b[0;32m    153\u001b[0m                  A *  _KH_evolution(y, t, halo_gas_density, galaxy_velocity,\n\u001b[1;32m--> 154\u001b[1;33m                                                  galaxy_gas_density,physics_kwargs['KH'])+\\\n\u001b[0m\u001b[0;32m    155\u001b[0m                  B * _RPS_evolution(y, t, halo_gas_density, galaxy_velocity,\n\u001b[0;32m    156\u001b[0m                                            galaxy_gas_density, galaxy_gas_density(0.0),physics_kwargs['RPS'])\n",
      "\u001b[1;31mTypeError\u001b[0m: _KH_evolution() takes exactly 5 arguments (6 given)"
     ]
    },
    {
     "ename": "TypeError",
     "evalue": "_KH_evolution() takes exactly 5 arguments (6 given)",
     "output_type": "error",
     "traceback": [
      "\u001b[1;31m---------------------------------------------------------------------------\u001b[0m",
      "\u001b[1;31mTypeError\u001b[0m                                 Traceback (most recent call last)",
      "\u001b[1;32m/home/emerick/Research/dwarfs/analysis/analytic_model/dwarf_model.py\u001b[0m in \u001b[0;36m<lambda>\u001b[1;34m(y, t, A, B)\u001b[0m\n\u001b[0;32m    152\u001b[0m     \u001b[0mode_function\u001b[0m \u001b[1;33m=\u001b[0m \u001b[1;32mlambda\u001b[0m \u001b[0my\u001b[0m\u001b[1;33m,\u001b[0m \u001b[0mt\u001b[0m\u001b[1;33m,\u001b[0m \u001b[0mA\u001b[0m\u001b[1;33m,\u001b[0m \u001b[0mB\u001b[0m\u001b[1;33m:\u001b[0m\u001b[0;31m\\\u001b[0m\u001b[1;33m\u001b[0m\u001b[0m\n\u001b[0;32m    153\u001b[0m                  A *  _KH_evolution(y, t, halo_gas_density, galaxy_velocity,\n\u001b[1;32m--> 154\u001b[1;33m                                                  galaxy_gas_density,physics_kwargs['KH'])+\\\n\u001b[0m\u001b[0;32m    155\u001b[0m                  B * _RPS_evolution(y, t, halo_gas_density, galaxy_velocity,\n\u001b[0;32m    156\u001b[0m                                            galaxy_gas_density, galaxy_gas_density(0.0),physics_kwargs['RPS'])\n",
      "\u001b[1;31mTypeError\u001b[0m: _KH_evolution() takes exactly 5 arguments (6 given)"
     ]
    },
    {
     "ename": "TypeError",
     "evalue": "_KH_evolution() takes exactly 5 arguments (6 given)",
     "output_type": "error",
     "traceback": [
      "\u001b[1;31m---------------------------------------------------------------------------\u001b[0m",
      "\u001b[1;31mTypeError\u001b[0m                                 Traceback (most recent call last)",
      "\u001b[1;32m/home/emerick/Research/dwarfs/analysis/analytic_model/dwarf_model.py\u001b[0m in \u001b[0;36m<lambda>\u001b[1;34m(y, t, A, B)\u001b[0m\n\u001b[0;32m    152\u001b[0m     \u001b[0mode_function\u001b[0m \u001b[1;33m=\u001b[0m \u001b[1;32mlambda\u001b[0m \u001b[0my\u001b[0m\u001b[1;33m,\u001b[0m \u001b[0mt\u001b[0m\u001b[1;33m,\u001b[0m \u001b[0mA\u001b[0m\u001b[1;33m,\u001b[0m \u001b[0mB\u001b[0m\u001b[1;33m:\u001b[0m\u001b[0;31m\\\u001b[0m\u001b[1;33m\u001b[0m\u001b[0m\n\u001b[0;32m    153\u001b[0m                  A *  _KH_evolution(y, t, halo_gas_density, galaxy_velocity,\n\u001b[1;32m--> 154\u001b[1;33m                                                  galaxy_gas_density,physics_kwargs['KH'])+\\\n\u001b[0m\u001b[0;32m    155\u001b[0m                  B * _RPS_evolution(y, t, halo_gas_density, galaxy_velocity,\n\u001b[0;32m    156\u001b[0m                                            galaxy_gas_density, galaxy_gas_density(0.0),physics_kwargs['RPS'])\n",
      "\u001b[1;31mTypeError\u001b[0m: _KH_evolution() takes exactly 5 arguments (6 given)"
     ]
    },
    {
     "ename": "TypeError",
     "evalue": "_KH_evolution() takes exactly 5 arguments (6 given)",
     "output_type": "error",
     "traceback": [
      "\u001b[1;31m---------------------------------------------------------------------------\u001b[0m",
      "\u001b[1;31mTypeError\u001b[0m                                 Traceback (most recent call last)",
      "\u001b[1;32m/home/emerick/Research/dwarfs/analysis/analytic_model/dwarf_model.py\u001b[0m in \u001b[0;36m<lambda>\u001b[1;34m(y, t, A, B)\u001b[0m\n\u001b[0;32m    152\u001b[0m     \u001b[0mode_function\u001b[0m \u001b[1;33m=\u001b[0m \u001b[1;32mlambda\u001b[0m \u001b[0my\u001b[0m\u001b[1;33m,\u001b[0m \u001b[0mt\u001b[0m\u001b[1;33m,\u001b[0m \u001b[0mA\u001b[0m\u001b[1;33m,\u001b[0m \u001b[0mB\u001b[0m\u001b[1;33m:\u001b[0m\u001b[0;31m\\\u001b[0m\u001b[1;33m\u001b[0m\u001b[0m\n\u001b[0;32m    153\u001b[0m                  A *  _KH_evolution(y, t, halo_gas_density, galaxy_velocity,\n\u001b[1;32m--> 154\u001b[1;33m                                                  galaxy_gas_density,physics_kwargs['KH'])+\\\n\u001b[0m\u001b[0;32m    155\u001b[0m                  B * _RPS_evolution(y, t, halo_gas_density, galaxy_velocity,\n\u001b[0;32m    156\u001b[0m                                            galaxy_gas_density, galaxy_gas_density(0.0),physics_kwargs['RPS'])\n",
      "\u001b[1;31mTypeError\u001b[0m: _KH_evolution() takes exactly 5 arguments (6 given)"
     ]
    },
    {
     "ename": "TypeError",
     "evalue": "_KH_evolution() takes exactly 5 arguments (6 given)",
     "output_type": "error",
     "traceback": [
      "\u001b[1;31m---------------------------------------------------------------------------\u001b[0m",
      "\u001b[1;31mTypeError\u001b[0m                                 Traceback (most recent call last)",
      "\u001b[1;32m/home/emerick/Research/dwarfs/analysis/analytic_model/dwarf_model.py\u001b[0m in \u001b[0;36m<lambda>\u001b[1;34m(y, t, A, B)\u001b[0m\n\u001b[0;32m    152\u001b[0m     \u001b[0mode_function\u001b[0m \u001b[1;33m=\u001b[0m \u001b[1;32mlambda\u001b[0m \u001b[0my\u001b[0m\u001b[1;33m,\u001b[0m \u001b[0mt\u001b[0m\u001b[1;33m,\u001b[0m \u001b[0mA\u001b[0m\u001b[1;33m,\u001b[0m \u001b[0mB\u001b[0m\u001b[1;33m:\u001b[0m\u001b[0;31m\\\u001b[0m\u001b[1;33m\u001b[0m\u001b[0m\n\u001b[0;32m    153\u001b[0m                  A *  _KH_evolution(y, t, halo_gas_density, galaxy_velocity,\n\u001b[1;32m--> 154\u001b[1;33m                                                  galaxy_gas_density,physics_kwargs['KH'])+\\\n\u001b[0m\u001b[0;32m    155\u001b[0m                  B * _RPS_evolution(y, t, halo_gas_density, galaxy_velocity,\n\u001b[0;32m    156\u001b[0m                                            galaxy_gas_density, galaxy_gas_density(0.0),physics_kwargs['RPS'])\n",
      "\u001b[1;31mTypeError\u001b[0m: _KH_evolution() takes exactly 5 arguments (6 given)"
     ]
    },
    {
     "ename": "TypeError",
     "evalue": "_KH_evolution() takes exactly 5 arguments (6 given)",
     "output_type": "error",
     "traceback": [
      "\u001b[1;31m---------------------------------------------------------------------------\u001b[0m",
      "\u001b[1;31mTypeError\u001b[0m                                 Traceback (most recent call last)",
      "\u001b[1;32m/home/emerick/Research/dwarfs/analysis/analytic_model/dwarf_model.py\u001b[0m in \u001b[0;36m<lambda>\u001b[1;34m(y, t, A, B)\u001b[0m\n\u001b[0;32m    152\u001b[0m     \u001b[0mode_function\u001b[0m \u001b[1;33m=\u001b[0m \u001b[1;32mlambda\u001b[0m \u001b[0my\u001b[0m\u001b[1;33m,\u001b[0m \u001b[0mt\u001b[0m\u001b[1;33m,\u001b[0m \u001b[0mA\u001b[0m\u001b[1;33m,\u001b[0m \u001b[0mB\u001b[0m\u001b[1;33m:\u001b[0m\u001b[0;31m\\\u001b[0m\u001b[1;33m\u001b[0m\u001b[0m\n\u001b[0;32m    153\u001b[0m                  A *  _KH_evolution(y, t, halo_gas_density, galaxy_velocity,\n\u001b[1;32m--> 154\u001b[1;33m                                                  galaxy_gas_density,physics_kwargs['KH'])+\\\n\u001b[0m\u001b[0;32m    155\u001b[0m                  B * _RPS_evolution(y, t, halo_gas_density, galaxy_velocity,\n\u001b[0;32m    156\u001b[0m                                            galaxy_gas_density, galaxy_gas_density(0.0),physics_kwargs['RPS'])\n",
      "\u001b[1;31mTypeError\u001b[0m: _KH_evolution() takes exactly 5 arguments (6 given)"
     ]
    },
    {
     "ename": "TypeError",
     "evalue": "_KH_evolution() takes exactly 5 arguments (6 given)",
     "output_type": "error",
     "traceback": [
      "\u001b[1;31m---------------------------------------------------------------------------\u001b[0m",
      "\u001b[1;31mTypeError\u001b[0m                                 Traceback (most recent call last)",
      "\u001b[1;32m/home/emerick/Research/dwarfs/analysis/analytic_model/dwarf_model.py\u001b[0m in \u001b[0;36m<lambda>\u001b[1;34m(y, t, A, B)\u001b[0m\n\u001b[0;32m    152\u001b[0m     \u001b[0mode_function\u001b[0m \u001b[1;33m=\u001b[0m \u001b[1;32mlambda\u001b[0m \u001b[0my\u001b[0m\u001b[1;33m,\u001b[0m \u001b[0mt\u001b[0m\u001b[1;33m,\u001b[0m \u001b[0mA\u001b[0m\u001b[1;33m,\u001b[0m \u001b[0mB\u001b[0m\u001b[1;33m:\u001b[0m\u001b[0;31m\\\u001b[0m\u001b[1;33m\u001b[0m\u001b[0m\n\u001b[0;32m    153\u001b[0m                  A *  _KH_evolution(y, t, halo_gas_density, galaxy_velocity,\n\u001b[1;32m--> 154\u001b[1;33m                                                  galaxy_gas_density,physics_kwargs['KH'])+\\\n\u001b[0m\u001b[0;32m    155\u001b[0m                  B * _RPS_evolution(y, t, halo_gas_density, galaxy_velocity,\n\u001b[0;32m    156\u001b[0m                                            galaxy_gas_density, galaxy_gas_density(0.0),physics_kwargs['RPS'])\n",
      "\u001b[1;31mTypeError\u001b[0m: _KH_evolution() takes exactly 5 arguments (6 given)"
     ]
    },
    {
     "ename": "TypeError",
     "evalue": "_KH_evolution() takes exactly 5 arguments (6 given)",
     "output_type": "error",
     "traceback": [
      "\u001b[1;31m---------------------------------------------------------------------------\u001b[0m",
      "\u001b[1;31mTypeError\u001b[0m                                 Traceback (most recent call last)",
      "\u001b[1;32m/home/emerick/Research/dwarfs/analysis/analytic_model/dwarf_model.py\u001b[0m in \u001b[0;36m<lambda>\u001b[1;34m(y, t, A, B)\u001b[0m\n\u001b[0;32m    152\u001b[0m     \u001b[0mode_function\u001b[0m \u001b[1;33m=\u001b[0m \u001b[1;32mlambda\u001b[0m \u001b[0my\u001b[0m\u001b[1;33m,\u001b[0m \u001b[0mt\u001b[0m\u001b[1;33m,\u001b[0m \u001b[0mA\u001b[0m\u001b[1;33m,\u001b[0m \u001b[0mB\u001b[0m\u001b[1;33m:\u001b[0m\u001b[0;31m\\\u001b[0m\u001b[1;33m\u001b[0m\u001b[0m\n\u001b[0;32m    153\u001b[0m                  A *  _KH_evolution(y, t, halo_gas_density, galaxy_velocity,\n\u001b[1;32m--> 154\u001b[1;33m                                                  galaxy_gas_density,physics_kwargs['KH'])+\\\n\u001b[0m\u001b[0;32m    155\u001b[0m                  B * _RPS_evolution(y, t, halo_gas_density, galaxy_velocity,\n\u001b[0;32m    156\u001b[0m                                            galaxy_gas_density, galaxy_gas_density(0.0),physics_kwargs['RPS'])\n",
      "\u001b[1;31mTypeError\u001b[0m: _KH_evolution() takes exactly 5 arguments (6 given)"
     ]
    },
    {
     "ename": "TypeError",
     "evalue": "_KH_evolution() takes exactly 5 arguments (6 given)",
     "output_type": "error",
     "traceback": [
      "\u001b[1;31m---------------------------------------------------------------------------\u001b[0m",
      "\u001b[1;31mTypeError\u001b[0m                                 Traceback (most recent call last)",
      "\u001b[1;32m/home/emerick/Research/dwarfs/analysis/analytic_model/dwarf_model.py\u001b[0m in \u001b[0;36m<lambda>\u001b[1;34m(y, t, A, B)\u001b[0m\n\u001b[0;32m    152\u001b[0m     \u001b[0mode_function\u001b[0m \u001b[1;33m=\u001b[0m \u001b[1;32mlambda\u001b[0m \u001b[0my\u001b[0m\u001b[1;33m,\u001b[0m \u001b[0mt\u001b[0m\u001b[1;33m,\u001b[0m \u001b[0mA\u001b[0m\u001b[1;33m,\u001b[0m \u001b[0mB\u001b[0m\u001b[1;33m:\u001b[0m\u001b[0;31m\\\u001b[0m\u001b[1;33m\u001b[0m\u001b[0m\n\u001b[0;32m    153\u001b[0m                  A *  _KH_evolution(y, t, halo_gas_density, galaxy_velocity,\n\u001b[1;32m--> 154\u001b[1;33m                                                  galaxy_gas_density,physics_kwargs['KH'])+\\\n\u001b[0m\u001b[0;32m    155\u001b[0m                  B * _RPS_evolution(y, t, halo_gas_density, galaxy_velocity,\n\u001b[0;32m    156\u001b[0m                                            galaxy_gas_density, galaxy_gas_density(0.0),physics_kwargs['RPS'])\n",
      "\u001b[1;31mTypeError\u001b[0m: _KH_evolution() takes exactly 5 arguments (6 given)"
     ]
    },
    {
     "ename": "TypeError",
     "evalue": "_KH_evolution() takes exactly 5 arguments (6 given)",
     "output_type": "error",
     "traceback": [
      "\u001b[1;31m---------------------------------------------------------------------------\u001b[0m",
      "\u001b[1;31mTypeError\u001b[0m                                 Traceback (most recent call last)",
      "\u001b[1;32m/home/emerick/Research/dwarfs/analysis/analytic_model/dwarf_model.py\u001b[0m in \u001b[0;36m<lambda>\u001b[1;34m(y, t, A, B)\u001b[0m\n\u001b[0;32m    152\u001b[0m     \u001b[0mode_function\u001b[0m \u001b[1;33m=\u001b[0m \u001b[1;32mlambda\u001b[0m \u001b[0my\u001b[0m\u001b[1;33m,\u001b[0m \u001b[0mt\u001b[0m\u001b[1;33m,\u001b[0m \u001b[0mA\u001b[0m\u001b[1;33m,\u001b[0m \u001b[0mB\u001b[0m\u001b[1;33m:\u001b[0m\u001b[0;31m\\\u001b[0m\u001b[1;33m\u001b[0m\u001b[0m\n\u001b[0;32m    153\u001b[0m                  A *  _KH_evolution(y, t, halo_gas_density, galaxy_velocity,\n\u001b[1;32m--> 154\u001b[1;33m                                                  galaxy_gas_density,physics_kwargs['KH'])+\\\n\u001b[0m\u001b[0;32m    155\u001b[0m                  B * _RPS_evolution(y, t, halo_gas_density, galaxy_velocity,\n\u001b[0;32m    156\u001b[0m                                            galaxy_gas_density, galaxy_gas_density(0.0),physics_kwargs['RPS'])\n",
      "\u001b[1;31mTypeError\u001b[0m: _KH_evolution() takes exactly 5 arguments (6 given)"
     ]
    },
    {
     "ename": "TypeError",
     "evalue": "_KH_evolution() takes exactly 5 arguments (6 given)",
     "output_type": "error",
     "traceback": [
      "\u001b[1;31m---------------------------------------------------------------------------\u001b[0m",
      "\u001b[1;31mTypeError\u001b[0m                                 Traceback (most recent call last)",
      "\u001b[1;32m/home/emerick/Research/dwarfs/analysis/analytic_model/dwarf_model.py\u001b[0m in \u001b[0;36m<lambda>\u001b[1;34m(y, t, A, B)\u001b[0m\n\u001b[0;32m    152\u001b[0m     \u001b[0mode_function\u001b[0m \u001b[1;33m=\u001b[0m \u001b[1;32mlambda\u001b[0m \u001b[0my\u001b[0m\u001b[1;33m,\u001b[0m \u001b[0mt\u001b[0m\u001b[1;33m,\u001b[0m \u001b[0mA\u001b[0m\u001b[1;33m,\u001b[0m \u001b[0mB\u001b[0m\u001b[1;33m:\u001b[0m\u001b[0;31m\\\u001b[0m\u001b[1;33m\u001b[0m\u001b[0m\n\u001b[0;32m    153\u001b[0m                  A *  _KH_evolution(y, t, halo_gas_density, galaxy_velocity,\n\u001b[1;32m--> 154\u001b[1;33m                                                  galaxy_gas_density,physics_kwargs['KH'])+\\\n\u001b[0m\u001b[0;32m    155\u001b[0m                  B * _RPS_evolution(y, t, halo_gas_density, galaxy_velocity,\n\u001b[0;32m    156\u001b[0m                                            galaxy_gas_density, galaxy_gas_density(0.0),physics_kwargs['RPS'])\n",
      "\u001b[1;31mTypeError\u001b[0m: _KH_evolution() takes exactly 5 arguments (6 given)"
     ]
    },
    {
     "ename": "TypeError",
     "evalue": "_KH_evolution() takes exactly 5 arguments (6 given)",
     "output_type": "error",
     "traceback": [
      "\u001b[1;31m---------------------------------------------------------------------------\u001b[0m",
      "\u001b[1;31mTypeError\u001b[0m                                 Traceback (most recent call last)",
      "\u001b[1;32m/home/emerick/Research/dwarfs/analysis/analytic_model/dwarf_model.py\u001b[0m in \u001b[0;36m<lambda>\u001b[1;34m(y, t, A, B)\u001b[0m\n\u001b[0;32m    152\u001b[0m     \u001b[0mode_function\u001b[0m \u001b[1;33m=\u001b[0m \u001b[1;32mlambda\u001b[0m \u001b[0my\u001b[0m\u001b[1;33m,\u001b[0m \u001b[0mt\u001b[0m\u001b[1;33m,\u001b[0m \u001b[0mA\u001b[0m\u001b[1;33m,\u001b[0m \u001b[0mB\u001b[0m\u001b[1;33m:\u001b[0m\u001b[0;31m\\\u001b[0m\u001b[1;33m\u001b[0m\u001b[0m\n\u001b[0;32m    153\u001b[0m                  A *  _KH_evolution(y, t, halo_gas_density, galaxy_velocity,\n\u001b[1;32m--> 154\u001b[1;33m                                                  galaxy_gas_density,physics_kwargs['KH'])+\\\n\u001b[0m\u001b[0;32m    155\u001b[0m                  B * _RPS_evolution(y, t, halo_gas_density, galaxy_velocity,\n\u001b[0;32m    156\u001b[0m                                            galaxy_gas_density, galaxy_gas_density(0.0),physics_kwargs['RPS'])\n",
      "\u001b[1;31mTypeError\u001b[0m: _KH_evolution() takes exactly 5 arguments (6 given)"
     ]
    },
    {
     "ename": "TypeError",
     "evalue": "_KH_evolution() takes exactly 5 arguments (6 given)",
     "output_type": "error",
     "traceback": [
      "\u001b[1;31m---------------------------------------------------------------------------\u001b[0m",
      "\u001b[1;31mTypeError\u001b[0m                                 Traceback (most recent call last)",
      "\u001b[1;32m/home/emerick/Research/dwarfs/analysis/analytic_model/dwarf_model.py\u001b[0m in \u001b[0;36m<lambda>\u001b[1;34m(y, t, A, B)\u001b[0m\n\u001b[0;32m    152\u001b[0m     \u001b[0mode_function\u001b[0m \u001b[1;33m=\u001b[0m \u001b[1;32mlambda\u001b[0m \u001b[0my\u001b[0m\u001b[1;33m,\u001b[0m \u001b[0mt\u001b[0m\u001b[1;33m,\u001b[0m \u001b[0mA\u001b[0m\u001b[1;33m,\u001b[0m \u001b[0mB\u001b[0m\u001b[1;33m:\u001b[0m\u001b[0;31m\\\u001b[0m\u001b[1;33m\u001b[0m\u001b[0m\n\u001b[0;32m    153\u001b[0m                  A *  _KH_evolution(y, t, halo_gas_density, galaxy_velocity,\n\u001b[1;32m--> 154\u001b[1;33m                                                  galaxy_gas_density,physics_kwargs['KH'])+\\\n\u001b[0m\u001b[0;32m    155\u001b[0m                  B * _RPS_evolution(y, t, halo_gas_density, galaxy_velocity,\n\u001b[0;32m    156\u001b[0m                                            galaxy_gas_density, galaxy_gas_density(0.0),physics_kwargs['RPS'])\n",
      "\u001b[1;31mTypeError\u001b[0m: _KH_evolution() takes exactly 5 arguments (6 given)"
     ]
    },
    {
     "ename": "TypeError",
     "evalue": "_KH_evolution() takes exactly 5 arguments (6 given)",
     "output_type": "error",
     "traceback": [
      "\u001b[1;31m---------------------------------------------------------------------------\u001b[0m",
      "\u001b[1;31mTypeError\u001b[0m                                 Traceback (most recent call last)",
      "\u001b[1;32m/home/emerick/Research/dwarfs/analysis/analytic_model/dwarf_model.py\u001b[0m in \u001b[0;36m<lambda>\u001b[1;34m(y, t, A, B)\u001b[0m\n\u001b[0;32m    152\u001b[0m     \u001b[0mode_function\u001b[0m \u001b[1;33m=\u001b[0m \u001b[1;32mlambda\u001b[0m \u001b[0my\u001b[0m\u001b[1;33m,\u001b[0m \u001b[0mt\u001b[0m\u001b[1;33m,\u001b[0m \u001b[0mA\u001b[0m\u001b[1;33m,\u001b[0m \u001b[0mB\u001b[0m\u001b[1;33m:\u001b[0m\u001b[0;31m\\\u001b[0m\u001b[1;33m\u001b[0m\u001b[0m\n\u001b[0;32m    153\u001b[0m                  A *  _KH_evolution(y, t, halo_gas_density, galaxy_velocity,\n\u001b[1;32m--> 154\u001b[1;33m                                                  galaxy_gas_density,physics_kwargs['KH'])+\\\n\u001b[0m\u001b[0;32m    155\u001b[0m                  B * _RPS_evolution(y, t, halo_gas_density, galaxy_velocity,\n\u001b[0;32m    156\u001b[0m                                            galaxy_gas_density, galaxy_gas_density(0.0),physics_kwargs['RPS'])\n",
      "\u001b[1;31mTypeError\u001b[0m: _KH_evolution() takes exactly 5 arguments (6 given)"
     ]
    },
    {
     "ename": "TypeError",
     "evalue": "_KH_evolution() takes exactly 5 arguments (6 given)",
     "output_type": "error",
     "traceback": [
      "\u001b[1;31m---------------------------------------------------------------------------\u001b[0m",
      "\u001b[1;31mTypeError\u001b[0m                                 Traceback (most recent call last)",
      "\u001b[1;32m/home/emerick/Research/dwarfs/analysis/analytic_model/dwarf_model.py\u001b[0m in \u001b[0;36m<lambda>\u001b[1;34m(y, t, A, B)\u001b[0m\n\u001b[0;32m    152\u001b[0m     \u001b[0mode_function\u001b[0m \u001b[1;33m=\u001b[0m \u001b[1;32mlambda\u001b[0m \u001b[0my\u001b[0m\u001b[1;33m,\u001b[0m \u001b[0mt\u001b[0m\u001b[1;33m,\u001b[0m \u001b[0mA\u001b[0m\u001b[1;33m,\u001b[0m \u001b[0mB\u001b[0m\u001b[1;33m:\u001b[0m\u001b[0;31m\\\u001b[0m\u001b[1;33m\u001b[0m\u001b[0m\n\u001b[0;32m    153\u001b[0m                  A *  _KH_evolution(y, t, halo_gas_density, galaxy_velocity,\n\u001b[1;32m--> 154\u001b[1;33m                                                  galaxy_gas_density,physics_kwargs['KH'])+\\\n\u001b[0m\u001b[0;32m    155\u001b[0m                  B * _RPS_evolution(y, t, halo_gas_density, galaxy_velocity,\n\u001b[0;32m    156\u001b[0m                                            galaxy_gas_density, galaxy_gas_density(0.0),physics_kwargs['RPS'])\n",
      "\u001b[1;31mTypeError\u001b[0m: _KH_evolution() takes exactly 5 arguments (6 given)"
     ]
    },
    {
     "ename": "TypeError",
     "evalue": "_KH_evolution() takes exactly 5 arguments (6 given)",
     "output_type": "error",
     "traceback": [
      "\u001b[1;31m---------------------------------------------------------------------------\u001b[0m",
      "\u001b[1;31mTypeError\u001b[0m                                 Traceback (most recent call last)",
      "\u001b[1;32m/home/emerick/Research/dwarfs/analysis/analytic_model/dwarf_model.py\u001b[0m in \u001b[0;36m<lambda>\u001b[1;34m(y, t, A, B)\u001b[0m\n\u001b[0;32m    152\u001b[0m     \u001b[0mode_function\u001b[0m \u001b[1;33m=\u001b[0m \u001b[1;32mlambda\u001b[0m \u001b[0my\u001b[0m\u001b[1;33m,\u001b[0m \u001b[0mt\u001b[0m\u001b[1;33m,\u001b[0m \u001b[0mA\u001b[0m\u001b[1;33m,\u001b[0m \u001b[0mB\u001b[0m\u001b[1;33m:\u001b[0m\u001b[0;31m\\\u001b[0m\u001b[1;33m\u001b[0m\u001b[0m\n\u001b[0;32m    153\u001b[0m                  A *  _KH_evolution(y, t, halo_gas_density, galaxy_velocity,\n\u001b[1;32m--> 154\u001b[1;33m                                                  galaxy_gas_density,physics_kwargs['KH'])+\\\n\u001b[0m\u001b[0;32m    155\u001b[0m                  B * _RPS_evolution(y, t, halo_gas_density, galaxy_velocity,\n\u001b[0;32m    156\u001b[0m                                            galaxy_gas_density, galaxy_gas_density(0.0),physics_kwargs['RPS'])\n",
      "\u001b[1;31mTypeError\u001b[0m: _KH_evolution() takes exactly 5 arguments (6 given)"
     ]
    },
    {
     "ename": "TypeError",
     "evalue": "_KH_evolution() takes exactly 5 arguments (6 given)",
     "output_type": "error",
     "traceback": [
      "\u001b[1;31m---------------------------------------------------------------------------\u001b[0m",
      "\u001b[1;31mTypeError\u001b[0m                                 Traceback (most recent call last)",
      "\u001b[1;32m/home/emerick/Research/dwarfs/analysis/analytic_model/dwarf_model.py\u001b[0m in \u001b[0;36m<lambda>\u001b[1;34m(y, t, A, B)\u001b[0m\n\u001b[0;32m    152\u001b[0m     \u001b[0mode_function\u001b[0m \u001b[1;33m=\u001b[0m \u001b[1;32mlambda\u001b[0m \u001b[0my\u001b[0m\u001b[1;33m,\u001b[0m \u001b[0mt\u001b[0m\u001b[1;33m,\u001b[0m \u001b[0mA\u001b[0m\u001b[1;33m,\u001b[0m \u001b[0mB\u001b[0m\u001b[1;33m:\u001b[0m\u001b[0;31m\\\u001b[0m\u001b[1;33m\u001b[0m\u001b[0m\n\u001b[0;32m    153\u001b[0m                  A *  _KH_evolution(y, t, halo_gas_density, galaxy_velocity,\n\u001b[1;32m--> 154\u001b[1;33m                                                  galaxy_gas_density,physics_kwargs['KH'])+\\\n\u001b[0m\u001b[0;32m    155\u001b[0m                  B * _RPS_evolution(y, t, halo_gas_density, galaxy_velocity,\n\u001b[0;32m    156\u001b[0m                                            galaxy_gas_density, galaxy_gas_density(0.0),physics_kwargs['RPS'])\n",
      "\u001b[1;31mTypeError\u001b[0m: _KH_evolution() takes exactly 5 arguments (6 given)"
     ]
    },
    {
     "ename": "TypeError",
     "evalue": "_KH_evolution() takes exactly 5 arguments (6 given)",
     "output_type": "error",
     "traceback": [
      "\u001b[1;31m---------------------------------------------------------------------------\u001b[0m",
      "\u001b[1;31mTypeError\u001b[0m                                 Traceback (most recent call last)",
      "\u001b[1;32m/home/emerick/Research/dwarfs/analysis/analytic_model/dwarf_model.py\u001b[0m in \u001b[0;36m<lambda>\u001b[1;34m(y, t, A, B)\u001b[0m\n\u001b[0;32m    152\u001b[0m     \u001b[0mode_function\u001b[0m \u001b[1;33m=\u001b[0m \u001b[1;32mlambda\u001b[0m \u001b[0my\u001b[0m\u001b[1;33m,\u001b[0m \u001b[0mt\u001b[0m\u001b[1;33m,\u001b[0m \u001b[0mA\u001b[0m\u001b[1;33m,\u001b[0m \u001b[0mB\u001b[0m\u001b[1;33m:\u001b[0m\u001b[0;31m\\\u001b[0m\u001b[1;33m\u001b[0m\u001b[0m\n\u001b[0;32m    153\u001b[0m                  A *  _KH_evolution(y, t, halo_gas_density, galaxy_velocity,\n\u001b[1;32m--> 154\u001b[1;33m                                                  galaxy_gas_density,physics_kwargs['KH'])+\\\n\u001b[0m\u001b[0;32m    155\u001b[0m                  B * _RPS_evolution(y, t, halo_gas_density, galaxy_velocity,\n\u001b[0;32m    156\u001b[0m                                            galaxy_gas_density, galaxy_gas_density(0.0),physics_kwargs['RPS'])\n",
      "\u001b[1;31mTypeError\u001b[0m: _KH_evolution() takes exactly 5 arguments (6 given)"
     ]
    },
    {
     "ename": "TypeError",
     "evalue": "_KH_evolution() takes exactly 5 arguments (6 given)",
     "output_type": "error",
     "traceback": [
      "\u001b[1;31m---------------------------------------------------------------------------\u001b[0m",
      "\u001b[1;31mTypeError\u001b[0m                                 Traceback (most recent call last)",
      "\u001b[1;32m/home/emerick/Research/dwarfs/analysis/analytic_model/dwarf_model.py\u001b[0m in \u001b[0;36m<lambda>\u001b[1;34m(y, t, A, B)\u001b[0m\n\u001b[0;32m    152\u001b[0m     \u001b[0mode_function\u001b[0m \u001b[1;33m=\u001b[0m \u001b[1;32mlambda\u001b[0m \u001b[0my\u001b[0m\u001b[1;33m,\u001b[0m \u001b[0mt\u001b[0m\u001b[1;33m,\u001b[0m \u001b[0mA\u001b[0m\u001b[1;33m,\u001b[0m \u001b[0mB\u001b[0m\u001b[1;33m:\u001b[0m\u001b[0;31m\\\u001b[0m\u001b[1;33m\u001b[0m\u001b[0m\n\u001b[0;32m    153\u001b[0m                  A *  _KH_evolution(y, t, halo_gas_density, galaxy_velocity,\n\u001b[1;32m--> 154\u001b[1;33m                                                  galaxy_gas_density,physics_kwargs['KH'])+\\\n\u001b[0m\u001b[0;32m    155\u001b[0m                  B * _RPS_evolution(y, t, halo_gas_density, galaxy_velocity,\n\u001b[0;32m    156\u001b[0m                                            galaxy_gas_density, galaxy_gas_density(0.0),physics_kwargs['RPS'])\n",
      "\u001b[1;31mTypeError\u001b[0m: _KH_evolution() takes exactly 5 arguments (6 given)"
     ]
    },
    {
     "ename": "TypeError",
     "evalue": "_KH_evolution() takes exactly 5 arguments (6 given)",
     "output_type": "error",
     "traceback": [
      "\u001b[1;31m---------------------------------------------------------------------------\u001b[0m",
      "\u001b[1;31mTypeError\u001b[0m                                 Traceback (most recent call last)",
      "\u001b[1;32m/home/emerick/Research/dwarfs/analysis/analytic_model/dwarf_model.py\u001b[0m in \u001b[0;36m<lambda>\u001b[1;34m(y, t, A, B)\u001b[0m\n\u001b[0;32m    152\u001b[0m     \u001b[0mode_function\u001b[0m \u001b[1;33m=\u001b[0m \u001b[1;32mlambda\u001b[0m \u001b[0my\u001b[0m\u001b[1;33m,\u001b[0m \u001b[0mt\u001b[0m\u001b[1;33m,\u001b[0m \u001b[0mA\u001b[0m\u001b[1;33m,\u001b[0m \u001b[0mB\u001b[0m\u001b[1;33m:\u001b[0m\u001b[0;31m\\\u001b[0m\u001b[1;33m\u001b[0m\u001b[0m\n\u001b[0;32m    153\u001b[0m                  A *  _KH_evolution(y, t, halo_gas_density, galaxy_velocity,\n\u001b[1;32m--> 154\u001b[1;33m                                                  galaxy_gas_density,physics_kwargs['KH'])+\\\n\u001b[0m\u001b[0;32m    155\u001b[0m                  B * _RPS_evolution(y, t, halo_gas_density, galaxy_velocity,\n\u001b[0;32m    156\u001b[0m                                            galaxy_gas_density, galaxy_gas_density(0.0),physics_kwargs['RPS'])\n",
      "\u001b[1;31mTypeError\u001b[0m: _KH_evolution() takes exactly 5 arguments (6 given)"
     ]
    },
    {
     "ename": "TypeError",
     "evalue": "_KH_evolution() takes exactly 5 arguments (6 given)",
     "output_type": "error",
     "traceback": [
      "\u001b[1;31m---------------------------------------------------------------------------\u001b[0m",
      "\u001b[1;31mTypeError\u001b[0m                                 Traceback (most recent call last)",
      "\u001b[1;32m/home/emerick/Research/dwarfs/analysis/analytic_model/dwarf_model.py\u001b[0m in \u001b[0;36m<lambda>\u001b[1;34m(y, t, A, B)\u001b[0m\n\u001b[0;32m    152\u001b[0m     \u001b[0mode_function\u001b[0m \u001b[1;33m=\u001b[0m \u001b[1;32mlambda\u001b[0m \u001b[0my\u001b[0m\u001b[1;33m,\u001b[0m \u001b[0mt\u001b[0m\u001b[1;33m,\u001b[0m \u001b[0mA\u001b[0m\u001b[1;33m,\u001b[0m \u001b[0mB\u001b[0m\u001b[1;33m:\u001b[0m\u001b[0;31m\\\u001b[0m\u001b[1;33m\u001b[0m\u001b[0m\n\u001b[0;32m    153\u001b[0m                  A *  _KH_evolution(y, t, halo_gas_density, galaxy_velocity,\n\u001b[1;32m--> 154\u001b[1;33m                                                  galaxy_gas_density,physics_kwargs['KH'])+\\\n\u001b[0m\u001b[0;32m    155\u001b[0m                  B * _RPS_evolution(y, t, halo_gas_density, galaxy_velocity,\n\u001b[0;32m    156\u001b[0m                                            galaxy_gas_density, galaxy_gas_density(0.0),physics_kwargs['RPS'])\n",
      "\u001b[1;31mTypeError\u001b[0m: _KH_evolution() takes exactly 5 arguments (6 given)"
     ]
    },
    {
     "ename": "TypeError",
     "evalue": "_KH_evolution() takes exactly 5 arguments (6 given)",
     "output_type": "error",
     "traceback": [
      "\u001b[1;31m---------------------------------------------------------------------------\u001b[0m",
      "\u001b[1;31mTypeError\u001b[0m                                 Traceback (most recent call last)",
      "\u001b[1;32m/home/emerick/Research/dwarfs/analysis/analytic_model/dwarf_model.py\u001b[0m in \u001b[0;36m<lambda>\u001b[1;34m(y, t, A, B)\u001b[0m\n\u001b[0;32m    152\u001b[0m     \u001b[0mode_function\u001b[0m \u001b[1;33m=\u001b[0m \u001b[1;32mlambda\u001b[0m \u001b[0my\u001b[0m\u001b[1;33m,\u001b[0m \u001b[0mt\u001b[0m\u001b[1;33m,\u001b[0m \u001b[0mA\u001b[0m\u001b[1;33m,\u001b[0m \u001b[0mB\u001b[0m\u001b[1;33m:\u001b[0m\u001b[0;31m\\\u001b[0m\u001b[1;33m\u001b[0m\u001b[0m\n\u001b[0;32m    153\u001b[0m                  A *  _KH_evolution(y, t, halo_gas_density, galaxy_velocity,\n\u001b[1;32m--> 154\u001b[1;33m                                                  galaxy_gas_density,physics_kwargs['KH'])+\\\n\u001b[0m\u001b[0;32m    155\u001b[0m                  B * _RPS_evolution(y, t, halo_gas_density, galaxy_velocity,\n\u001b[0;32m    156\u001b[0m                                            galaxy_gas_density, galaxy_gas_density(0.0),physics_kwargs['RPS'])\n",
      "\u001b[1;31mTypeError\u001b[0m: _KH_evolution() takes exactly 5 arguments (6 given)"
     ]
    },
    {
     "ename": "TypeError",
     "evalue": "_KH_evolution() takes exactly 5 arguments (6 given)",
     "output_type": "error",
     "traceback": [
      "\u001b[1;31m---------------------------------------------------------------------------\u001b[0m",
      "\u001b[1;31mTypeError\u001b[0m                                 Traceback (most recent call last)",
      "\u001b[1;32m/home/emerick/Research/dwarfs/analysis/analytic_model/dwarf_model.py\u001b[0m in \u001b[0;36m<lambda>\u001b[1;34m(y, t, A, B)\u001b[0m\n\u001b[0;32m    152\u001b[0m     \u001b[0mode_function\u001b[0m \u001b[1;33m=\u001b[0m \u001b[1;32mlambda\u001b[0m \u001b[0my\u001b[0m\u001b[1;33m,\u001b[0m \u001b[0mt\u001b[0m\u001b[1;33m,\u001b[0m \u001b[0mA\u001b[0m\u001b[1;33m,\u001b[0m \u001b[0mB\u001b[0m\u001b[1;33m:\u001b[0m\u001b[0;31m\\\u001b[0m\u001b[1;33m\u001b[0m\u001b[0m\n\u001b[0;32m    153\u001b[0m                  A *  _KH_evolution(y, t, halo_gas_density, galaxy_velocity,\n\u001b[1;32m--> 154\u001b[1;33m                                                  galaxy_gas_density,physics_kwargs['KH'])+\\\n\u001b[0m\u001b[0;32m    155\u001b[0m                  B * _RPS_evolution(y, t, halo_gas_density, galaxy_velocity,\n\u001b[0;32m    156\u001b[0m                                            galaxy_gas_density, galaxy_gas_density(0.0),physics_kwargs['RPS'])\n",
      "\u001b[1;31mTypeError\u001b[0m: _KH_evolution() takes exactly 5 arguments (6 given)"
     ]
    },
    {
     "ename": "TypeError",
     "evalue": "_KH_evolution() takes exactly 5 arguments (6 given)",
     "output_type": "error",
     "traceback": [
      "\u001b[1;31m---------------------------------------------------------------------------\u001b[0m",
      "\u001b[1;31mTypeError\u001b[0m                                 Traceback (most recent call last)",
      "\u001b[1;32m/home/emerick/Research/dwarfs/analysis/analytic_model/dwarf_model.py\u001b[0m in \u001b[0;36m<lambda>\u001b[1;34m(y, t, A, B)\u001b[0m\n\u001b[0;32m    152\u001b[0m     \u001b[0mode_function\u001b[0m \u001b[1;33m=\u001b[0m \u001b[1;32mlambda\u001b[0m \u001b[0my\u001b[0m\u001b[1;33m,\u001b[0m \u001b[0mt\u001b[0m\u001b[1;33m,\u001b[0m \u001b[0mA\u001b[0m\u001b[1;33m,\u001b[0m \u001b[0mB\u001b[0m\u001b[1;33m:\u001b[0m\u001b[0;31m\\\u001b[0m\u001b[1;33m\u001b[0m\u001b[0m\n\u001b[0;32m    153\u001b[0m                  A *  _KH_evolution(y, t, halo_gas_density, galaxy_velocity,\n\u001b[1;32m--> 154\u001b[1;33m                                                  galaxy_gas_density,physics_kwargs['KH'])+\\\n\u001b[0m\u001b[0;32m    155\u001b[0m                  B * _RPS_evolution(y, t, halo_gas_density, galaxy_velocity,\n\u001b[0;32m    156\u001b[0m                                            galaxy_gas_density, galaxy_gas_density(0.0),physics_kwargs['RPS'])\n",
      "\u001b[1;31mTypeError\u001b[0m: _KH_evolution() takes exactly 5 arguments (6 given)"
     ]
    },
    {
     "ename": "TypeError",
     "evalue": "_KH_evolution() takes exactly 5 arguments (6 given)",
     "output_type": "error",
     "traceback": [
      "\u001b[1;31m---------------------------------------------------------------------------\u001b[0m",
      "\u001b[1;31mTypeError\u001b[0m                                 Traceback (most recent call last)",
      "\u001b[1;32m/home/emerick/Research/dwarfs/analysis/analytic_model/dwarf_model.py\u001b[0m in \u001b[0;36m<lambda>\u001b[1;34m(y, t, A, B)\u001b[0m\n\u001b[0;32m    152\u001b[0m     \u001b[0mode_function\u001b[0m \u001b[1;33m=\u001b[0m \u001b[1;32mlambda\u001b[0m \u001b[0my\u001b[0m\u001b[1;33m,\u001b[0m \u001b[0mt\u001b[0m\u001b[1;33m,\u001b[0m \u001b[0mA\u001b[0m\u001b[1;33m,\u001b[0m \u001b[0mB\u001b[0m\u001b[1;33m:\u001b[0m\u001b[0;31m\\\u001b[0m\u001b[1;33m\u001b[0m\u001b[0m\n\u001b[0;32m    153\u001b[0m                  A *  _KH_evolution(y, t, halo_gas_density, galaxy_velocity,\n\u001b[1;32m--> 154\u001b[1;33m                                                  galaxy_gas_density,physics_kwargs['KH'])+\\\n\u001b[0m\u001b[0;32m    155\u001b[0m                  B * _RPS_evolution(y, t, halo_gas_density, galaxy_velocity,\n\u001b[0;32m    156\u001b[0m                                            galaxy_gas_density, galaxy_gas_density(0.0),physics_kwargs['RPS'])\n",
      "\u001b[1;31mTypeError\u001b[0m: _KH_evolution() takes exactly 5 arguments (6 given)"
     ]
    },
    {
     "ename": "TypeError",
     "evalue": "_KH_evolution() takes exactly 5 arguments (6 given)",
     "output_type": "error",
     "traceback": [
      "\u001b[1;31m---------------------------------------------------------------------------\u001b[0m",
      "\u001b[1;31mTypeError\u001b[0m                                 Traceback (most recent call last)",
      "\u001b[1;32m/home/emerick/Research/dwarfs/analysis/analytic_model/dwarf_model.py\u001b[0m in \u001b[0;36m<lambda>\u001b[1;34m(y, t, A, B)\u001b[0m\n\u001b[0;32m    152\u001b[0m     \u001b[0mode_function\u001b[0m \u001b[1;33m=\u001b[0m \u001b[1;32mlambda\u001b[0m \u001b[0my\u001b[0m\u001b[1;33m,\u001b[0m \u001b[0mt\u001b[0m\u001b[1;33m,\u001b[0m \u001b[0mA\u001b[0m\u001b[1;33m,\u001b[0m \u001b[0mB\u001b[0m\u001b[1;33m:\u001b[0m\u001b[0;31m\\\u001b[0m\u001b[1;33m\u001b[0m\u001b[0m\n\u001b[0;32m    153\u001b[0m                  A *  _KH_evolution(y, t, halo_gas_density, galaxy_velocity,\n\u001b[1;32m--> 154\u001b[1;33m                                                  galaxy_gas_density,physics_kwargs['KH'])+\\\n\u001b[0m\u001b[0;32m    155\u001b[0m                  B * _RPS_evolution(y, t, halo_gas_density, galaxy_velocity,\n\u001b[0;32m    156\u001b[0m                                            galaxy_gas_density, galaxy_gas_density(0.0),physics_kwargs['RPS'])\n",
      "\u001b[1;31mTypeError\u001b[0m: _KH_evolution() takes exactly 5 arguments (6 given)"
     ]
    },
    {
     "ename": "TypeError",
     "evalue": "_KH_evolution() takes exactly 5 arguments (6 given)",
     "output_type": "error",
     "traceback": [
      "\u001b[1;31m---------------------------------------------------------------------------\u001b[0m",
      "\u001b[1;31mTypeError\u001b[0m                                 Traceback (most recent call last)",
      "\u001b[1;32m/home/emerick/Research/dwarfs/analysis/analytic_model/dwarf_model.py\u001b[0m in \u001b[0;36m<lambda>\u001b[1;34m(y, t, A, B)\u001b[0m\n\u001b[0;32m    152\u001b[0m     \u001b[0mode_function\u001b[0m \u001b[1;33m=\u001b[0m \u001b[1;32mlambda\u001b[0m \u001b[0my\u001b[0m\u001b[1;33m,\u001b[0m \u001b[0mt\u001b[0m\u001b[1;33m,\u001b[0m \u001b[0mA\u001b[0m\u001b[1;33m,\u001b[0m \u001b[0mB\u001b[0m\u001b[1;33m:\u001b[0m\u001b[0;31m\\\u001b[0m\u001b[1;33m\u001b[0m\u001b[0m\n\u001b[0;32m    153\u001b[0m                  A *  _KH_evolution(y, t, halo_gas_density, galaxy_velocity,\n\u001b[1;32m--> 154\u001b[1;33m                                                  galaxy_gas_density,physics_kwargs['KH'])+\\\n\u001b[0m\u001b[0;32m    155\u001b[0m                  B * _RPS_evolution(y, t, halo_gas_density, galaxy_velocity,\n\u001b[0;32m    156\u001b[0m                                            galaxy_gas_density, galaxy_gas_density(0.0),physics_kwargs['RPS'])\n",
      "\u001b[1;31mTypeError\u001b[0m: _KH_evolution() takes exactly 5 arguments (6 given)"
     ]
    },
    {
     "ename": "TypeError",
     "evalue": "_KH_evolution() takes exactly 5 arguments (6 given)",
     "output_type": "error",
     "traceback": [
      "\u001b[1;31m---------------------------------------------------------------------------\u001b[0m",
      "\u001b[1;31mTypeError\u001b[0m                                 Traceback (most recent call last)",
      "\u001b[1;32m/home/emerick/Research/dwarfs/analysis/analytic_model/dwarf_model.py\u001b[0m in \u001b[0;36m<lambda>\u001b[1;34m(y, t, A, B)\u001b[0m\n\u001b[0;32m    152\u001b[0m     \u001b[0mode_function\u001b[0m \u001b[1;33m=\u001b[0m \u001b[1;32mlambda\u001b[0m \u001b[0my\u001b[0m\u001b[1;33m,\u001b[0m \u001b[0mt\u001b[0m\u001b[1;33m,\u001b[0m \u001b[0mA\u001b[0m\u001b[1;33m,\u001b[0m \u001b[0mB\u001b[0m\u001b[1;33m:\u001b[0m\u001b[0;31m\\\u001b[0m\u001b[1;33m\u001b[0m\u001b[0m\n\u001b[0;32m    153\u001b[0m                  A *  _KH_evolution(y, t, halo_gas_density, galaxy_velocity,\n\u001b[1;32m--> 154\u001b[1;33m                                                  galaxy_gas_density,physics_kwargs['KH'])+\\\n\u001b[0m\u001b[0;32m    155\u001b[0m                  B * _RPS_evolution(y, t, halo_gas_density, galaxy_velocity,\n\u001b[0;32m    156\u001b[0m                                            galaxy_gas_density, galaxy_gas_density(0.0),physics_kwargs['RPS'])\n",
      "\u001b[1;31mTypeError\u001b[0m: _KH_evolution() takes exactly 5 arguments (6 given)"
     ]
    },
    {
     "ename": "TypeError",
     "evalue": "_KH_evolution() takes exactly 5 arguments (6 given)",
     "output_type": "error",
     "traceback": [
      "\u001b[1;31m---------------------------------------------------------------------------\u001b[0m",
      "\u001b[1;31mTypeError\u001b[0m                                 Traceback (most recent call last)",
      "\u001b[1;32m/home/emerick/Research/dwarfs/analysis/analytic_model/dwarf_model.py\u001b[0m in \u001b[0;36m<lambda>\u001b[1;34m(y, t, A, B)\u001b[0m\n\u001b[0;32m    152\u001b[0m     \u001b[0mode_function\u001b[0m \u001b[1;33m=\u001b[0m \u001b[1;32mlambda\u001b[0m \u001b[0my\u001b[0m\u001b[1;33m,\u001b[0m \u001b[0mt\u001b[0m\u001b[1;33m,\u001b[0m \u001b[0mA\u001b[0m\u001b[1;33m,\u001b[0m \u001b[0mB\u001b[0m\u001b[1;33m:\u001b[0m\u001b[0;31m\\\u001b[0m\u001b[1;33m\u001b[0m\u001b[0m\n\u001b[0;32m    153\u001b[0m                  A *  _KH_evolution(y, t, halo_gas_density, galaxy_velocity,\n\u001b[1;32m--> 154\u001b[1;33m                                                  galaxy_gas_density,physics_kwargs['KH'])+\\\n\u001b[0m\u001b[0;32m    155\u001b[0m                  B * _RPS_evolution(y, t, halo_gas_density, galaxy_velocity,\n\u001b[0;32m    156\u001b[0m                                            galaxy_gas_density, galaxy_gas_density(0.0),physics_kwargs['RPS'])\n",
      "\u001b[1;31mTypeError\u001b[0m: _KH_evolution() takes exactly 5 arguments (6 given)"
     ]
    },
    {
     "ename": "TypeError",
     "evalue": "_KH_evolution() takes exactly 5 arguments (6 given)",
     "output_type": "error",
     "traceback": [
      "\u001b[1;31m---------------------------------------------------------------------------\u001b[0m",
      "\u001b[1;31mTypeError\u001b[0m                                 Traceback (most recent call last)",
      "\u001b[1;32m/home/emerick/Research/dwarfs/analysis/analytic_model/dwarf_model.py\u001b[0m in \u001b[0;36m<lambda>\u001b[1;34m(y, t, A, B)\u001b[0m\n\u001b[0;32m    152\u001b[0m     \u001b[0mode_function\u001b[0m \u001b[1;33m=\u001b[0m \u001b[1;32mlambda\u001b[0m \u001b[0my\u001b[0m\u001b[1;33m,\u001b[0m \u001b[0mt\u001b[0m\u001b[1;33m,\u001b[0m \u001b[0mA\u001b[0m\u001b[1;33m,\u001b[0m \u001b[0mB\u001b[0m\u001b[1;33m:\u001b[0m\u001b[0;31m\\\u001b[0m\u001b[1;33m\u001b[0m\u001b[0m\n\u001b[0;32m    153\u001b[0m                  A *  _KH_evolution(y, t, halo_gas_density, galaxy_velocity,\n\u001b[1;32m--> 154\u001b[1;33m                                                  galaxy_gas_density,physics_kwargs['KH'])+\\\n\u001b[0m\u001b[0;32m    155\u001b[0m                  B * _RPS_evolution(y, t, halo_gas_density, galaxy_velocity,\n\u001b[0;32m    156\u001b[0m                                            galaxy_gas_density, galaxy_gas_density(0.0),physics_kwargs['RPS'])\n",
      "\u001b[1;31mTypeError\u001b[0m: _KH_evolution() takes exactly 5 arguments (6 given)"
     ]
    },
    {
     "ename": "TypeError",
     "evalue": "_KH_evolution() takes exactly 5 arguments (6 given)",
     "output_type": "error",
     "traceback": [
      "\u001b[1;31m---------------------------------------------------------------------------\u001b[0m",
      "\u001b[1;31mTypeError\u001b[0m                                 Traceback (most recent call last)",
      "\u001b[1;32m/home/emerick/Research/dwarfs/analysis/analytic_model/dwarf_model.py\u001b[0m in \u001b[0;36m<lambda>\u001b[1;34m(y, t, A, B)\u001b[0m\n\u001b[0;32m    152\u001b[0m     \u001b[0mode_function\u001b[0m \u001b[1;33m=\u001b[0m \u001b[1;32mlambda\u001b[0m \u001b[0my\u001b[0m\u001b[1;33m,\u001b[0m \u001b[0mt\u001b[0m\u001b[1;33m,\u001b[0m \u001b[0mA\u001b[0m\u001b[1;33m,\u001b[0m \u001b[0mB\u001b[0m\u001b[1;33m:\u001b[0m\u001b[0;31m\\\u001b[0m\u001b[1;33m\u001b[0m\u001b[0m\n\u001b[0;32m    153\u001b[0m                  A *  _KH_evolution(y, t, halo_gas_density, galaxy_velocity,\n\u001b[1;32m--> 154\u001b[1;33m                                                  galaxy_gas_density,physics_kwargs['KH'])+\\\n\u001b[0m\u001b[0;32m    155\u001b[0m                  B * _RPS_evolution(y, t, halo_gas_density, galaxy_velocity,\n\u001b[0;32m    156\u001b[0m                                            galaxy_gas_density, galaxy_gas_density(0.0),physics_kwargs['RPS'])\n",
      "\u001b[1;31mTypeError\u001b[0m: _KH_evolution() takes exactly 5 arguments (6 given)"
     ]
    },
    {
     "ename": "TypeError",
     "evalue": "_KH_evolution() takes exactly 5 arguments (6 given)",
     "output_type": "error",
     "traceback": [
      "\u001b[1;31m---------------------------------------------------------------------------\u001b[0m",
      "\u001b[1;31mTypeError\u001b[0m                                 Traceback (most recent call last)",
      "\u001b[1;32m/home/emerick/Research/dwarfs/analysis/analytic_model/dwarf_model.py\u001b[0m in \u001b[0;36m<lambda>\u001b[1;34m(y, t, A, B)\u001b[0m\n\u001b[0;32m    152\u001b[0m     \u001b[0mode_function\u001b[0m \u001b[1;33m=\u001b[0m \u001b[1;32mlambda\u001b[0m \u001b[0my\u001b[0m\u001b[1;33m,\u001b[0m \u001b[0mt\u001b[0m\u001b[1;33m,\u001b[0m \u001b[0mA\u001b[0m\u001b[1;33m,\u001b[0m \u001b[0mB\u001b[0m\u001b[1;33m:\u001b[0m\u001b[0;31m\\\u001b[0m\u001b[1;33m\u001b[0m\u001b[0m\n\u001b[0;32m    153\u001b[0m                  A *  _KH_evolution(y, t, halo_gas_density, galaxy_velocity,\n\u001b[1;32m--> 154\u001b[1;33m                                                  galaxy_gas_density,physics_kwargs['KH'])+\\\n\u001b[0m\u001b[0;32m    155\u001b[0m                  B * _RPS_evolution(y, t, halo_gas_density, galaxy_velocity,\n\u001b[0;32m    156\u001b[0m                                            galaxy_gas_density, galaxy_gas_density(0.0),physics_kwargs['RPS'])\n",
      "\u001b[1;31mTypeError\u001b[0m: _KH_evolution() takes exactly 5 arguments (6 given)"
     ]
    },
    {
     "ename": "TypeError",
     "evalue": "_KH_evolution() takes exactly 5 arguments (6 given)",
     "output_type": "error",
     "traceback": [
      "\u001b[1;31m---------------------------------------------------------------------------\u001b[0m",
      "\u001b[1;31mTypeError\u001b[0m                                 Traceback (most recent call last)",
      "\u001b[1;32m/home/emerick/Research/dwarfs/analysis/analytic_model/dwarf_model.py\u001b[0m in \u001b[0;36m<lambda>\u001b[1;34m(y, t, A, B)\u001b[0m\n\u001b[0;32m    152\u001b[0m     \u001b[0mode_function\u001b[0m \u001b[1;33m=\u001b[0m \u001b[1;32mlambda\u001b[0m \u001b[0my\u001b[0m\u001b[1;33m,\u001b[0m \u001b[0mt\u001b[0m\u001b[1;33m,\u001b[0m \u001b[0mA\u001b[0m\u001b[1;33m,\u001b[0m \u001b[0mB\u001b[0m\u001b[1;33m:\u001b[0m\u001b[0;31m\\\u001b[0m\u001b[1;33m\u001b[0m\u001b[0m\n\u001b[0;32m    153\u001b[0m                  A *  _KH_evolution(y, t, halo_gas_density, galaxy_velocity,\n\u001b[1;32m--> 154\u001b[1;33m                                                  galaxy_gas_density,physics_kwargs['KH'])+\\\n\u001b[0m\u001b[0;32m    155\u001b[0m                  B * _RPS_evolution(y, t, halo_gas_density, galaxy_velocity,\n\u001b[0;32m    156\u001b[0m                                            galaxy_gas_density, galaxy_gas_density(0.0),physics_kwargs['RPS'])\n",
      "\u001b[1;31mTypeError\u001b[0m: _KH_evolution() takes exactly 5 arguments (6 given)"
     ]
    },
    {
     "ename": "TypeError",
     "evalue": "_KH_evolution() takes exactly 5 arguments (6 given)",
     "output_type": "error",
     "traceback": [
      "\u001b[1;31m---------------------------------------------------------------------------\u001b[0m",
      "\u001b[1;31mTypeError\u001b[0m                                 Traceback (most recent call last)",
      "\u001b[1;32m/home/emerick/Research/dwarfs/analysis/analytic_model/dwarf_model.py\u001b[0m in \u001b[0;36m<lambda>\u001b[1;34m(y, t, A, B)\u001b[0m\n\u001b[0;32m    152\u001b[0m     \u001b[0mode_function\u001b[0m \u001b[1;33m=\u001b[0m \u001b[1;32mlambda\u001b[0m \u001b[0my\u001b[0m\u001b[1;33m,\u001b[0m \u001b[0mt\u001b[0m\u001b[1;33m,\u001b[0m \u001b[0mA\u001b[0m\u001b[1;33m,\u001b[0m \u001b[0mB\u001b[0m\u001b[1;33m:\u001b[0m\u001b[0;31m\\\u001b[0m\u001b[1;33m\u001b[0m\u001b[0m\n\u001b[0;32m    153\u001b[0m                  A *  _KH_evolution(y, t, halo_gas_density, galaxy_velocity,\n\u001b[1;32m--> 154\u001b[1;33m                                                  galaxy_gas_density,physics_kwargs['KH'])+\\\n\u001b[0m\u001b[0;32m    155\u001b[0m                  B * _RPS_evolution(y, t, halo_gas_density, galaxy_velocity,\n\u001b[0;32m    156\u001b[0m                                            galaxy_gas_density, galaxy_gas_density(0.0),physics_kwargs['RPS'])\n",
      "\u001b[1;31mTypeError\u001b[0m: _KH_evolution() takes exactly 5 arguments (6 given)"
     ]
    },
    {
     "ename": "TypeError",
     "evalue": "_KH_evolution() takes exactly 5 arguments (6 given)",
     "output_type": "error",
     "traceback": [
      "\u001b[1;31m---------------------------------------------------------------------------\u001b[0m",
      "\u001b[1;31mTypeError\u001b[0m                                 Traceback (most recent call last)",
      "\u001b[1;32m/home/emerick/Research/dwarfs/analysis/analytic_model/dwarf_model.py\u001b[0m in \u001b[0;36m<lambda>\u001b[1;34m(y, t, A, B)\u001b[0m\n\u001b[0;32m    152\u001b[0m     \u001b[0mode_function\u001b[0m \u001b[1;33m=\u001b[0m \u001b[1;32mlambda\u001b[0m \u001b[0my\u001b[0m\u001b[1;33m,\u001b[0m \u001b[0mt\u001b[0m\u001b[1;33m,\u001b[0m \u001b[0mA\u001b[0m\u001b[1;33m,\u001b[0m \u001b[0mB\u001b[0m\u001b[1;33m:\u001b[0m\u001b[0;31m\\\u001b[0m\u001b[1;33m\u001b[0m\u001b[0m\n\u001b[0;32m    153\u001b[0m                  A *  _KH_evolution(y, t, halo_gas_density, galaxy_velocity,\n\u001b[1;32m--> 154\u001b[1;33m                                                  galaxy_gas_density,physics_kwargs['KH'])+\\\n\u001b[0m\u001b[0;32m    155\u001b[0m                  B * _RPS_evolution(y, t, halo_gas_density, galaxy_velocity,\n\u001b[0;32m    156\u001b[0m                                            galaxy_gas_density, galaxy_gas_density(0.0),physics_kwargs['RPS'])\n",
      "\u001b[1;31mTypeError\u001b[0m: _KH_evolution() takes exactly 5 arguments (6 given)"
     ]
    },
    {
     "ename": "TypeError",
     "evalue": "_KH_evolution() takes exactly 5 arguments (6 given)",
     "output_type": "error",
     "traceback": [
      "\u001b[1;31m---------------------------------------------------------------------------\u001b[0m",
      "\u001b[1;31mTypeError\u001b[0m                                 Traceback (most recent call last)",
      "\u001b[1;32m/home/emerick/Research/dwarfs/analysis/analytic_model/dwarf_model.py\u001b[0m in \u001b[0;36m<lambda>\u001b[1;34m(y, t, A, B)\u001b[0m\n\u001b[0;32m    152\u001b[0m     \u001b[0mode_function\u001b[0m \u001b[1;33m=\u001b[0m \u001b[1;32mlambda\u001b[0m \u001b[0my\u001b[0m\u001b[1;33m,\u001b[0m \u001b[0mt\u001b[0m\u001b[1;33m,\u001b[0m \u001b[0mA\u001b[0m\u001b[1;33m,\u001b[0m \u001b[0mB\u001b[0m\u001b[1;33m:\u001b[0m\u001b[0;31m\\\u001b[0m\u001b[1;33m\u001b[0m\u001b[0m\n\u001b[0;32m    153\u001b[0m                  A *  _KH_evolution(y, t, halo_gas_density, galaxy_velocity,\n\u001b[1;32m--> 154\u001b[1;33m                                                  galaxy_gas_density,physics_kwargs['KH'])+\\\n\u001b[0m\u001b[0;32m    155\u001b[0m                  B * _RPS_evolution(y, t, halo_gas_density, galaxy_velocity,\n\u001b[0;32m    156\u001b[0m                                            galaxy_gas_density, galaxy_gas_density(0.0),physics_kwargs['RPS'])\n",
      "\u001b[1;31mTypeError\u001b[0m: _KH_evolution() takes exactly 5 arguments (6 given)"
     ]
    },
    {
     "ename": "TypeError",
     "evalue": "_KH_evolution() takes exactly 5 arguments (6 given)",
     "output_type": "error",
     "traceback": [
      "\u001b[1;31m---------------------------------------------------------------------------\u001b[0m",
      "\u001b[1;31mTypeError\u001b[0m                                 Traceback (most recent call last)",
      "\u001b[1;32m/home/emerick/Research/dwarfs/analysis/analytic_model/dwarf_model.py\u001b[0m in \u001b[0;36m<lambda>\u001b[1;34m(y, t, A, B)\u001b[0m\n\u001b[0;32m    152\u001b[0m     \u001b[0mode_function\u001b[0m \u001b[1;33m=\u001b[0m \u001b[1;32mlambda\u001b[0m \u001b[0my\u001b[0m\u001b[1;33m,\u001b[0m \u001b[0mt\u001b[0m\u001b[1;33m,\u001b[0m \u001b[0mA\u001b[0m\u001b[1;33m,\u001b[0m \u001b[0mB\u001b[0m\u001b[1;33m:\u001b[0m\u001b[0;31m\\\u001b[0m\u001b[1;33m\u001b[0m\u001b[0m\n\u001b[0;32m    153\u001b[0m                  A *  _KH_evolution(y, t, halo_gas_density, galaxy_velocity,\n\u001b[1;32m--> 154\u001b[1;33m                                                  galaxy_gas_density,physics_kwargs['KH'])+\\\n\u001b[0m\u001b[0;32m    155\u001b[0m                  B * _RPS_evolution(y, t, halo_gas_density, galaxy_velocity,\n\u001b[0;32m    156\u001b[0m                                            galaxy_gas_density, galaxy_gas_density(0.0),physics_kwargs['RPS'])\n",
      "\u001b[1;31mTypeError\u001b[0m: _KH_evolution() takes exactly 5 arguments (6 given)"
     ]
    },
    {
     "ename": "TypeError",
     "evalue": "_KH_evolution() takes exactly 5 arguments (6 given)",
     "output_type": "error",
     "traceback": [
      "\u001b[1;31m---------------------------------------------------------------------------\u001b[0m",
      "\u001b[1;31mTypeError\u001b[0m                                 Traceback (most recent call last)",
      "\u001b[1;32m/home/emerick/Research/dwarfs/analysis/analytic_model/dwarf_model.py\u001b[0m in \u001b[0;36m<lambda>\u001b[1;34m(y, t, A, B)\u001b[0m\n\u001b[0;32m    152\u001b[0m     \u001b[0mode_function\u001b[0m \u001b[1;33m=\u001b[0m \u001b[1;32mlambda\u001b[0m \u001b[0my\u001b[0m\u001b[1;33m,\u001b[0m \u001b[0mt\u001b[0m\u001b[1;33m,\u001b[0m \u001b[0mA\u001b[0m\u001b[1;33m,\u001b[0m \u001b[0mB\u001b[0m\u001b[1;33m:\u001b[0m\u001b[0;31m\\\u001b[0m\u001b[1;33m\u001b[0m\u001b[0m\n\u001b[0;32m    153\u001b[0m                  A *  _KH_evolution(y, t, halo_gas_density, galaxy_velocity,\n\u001b[1;32m--> 154\u001b[1;33m                                                  galaxy_gas_density,physics_kwargs['KH'])+\\\n\u001b[0m\u001b[0;32m    155\u001b[0m                  B * _RPS_evolution(y, t, halo_gas_density, galaxy_velocity,\n\u001b[0;32m    156\u001b[0m                                            galaxy_gas_density, galaxy_gas_density(0.0),physics_kwargs['RPS'])\n",
      "\u001b[1;31mTypeError\u001b[0m: _KH_evolution() takes exactly 5 arguments (6 given)"
     ]
    },
    {
     "ename": "TypeError",
     "evalue": "_KH_evolution() takes exactly 5 arguments (6 given)",
     "output_type": "error",
     "traceback": [
      "\u001b[1;31m---------------------------------------------------------------------------\u001b[0m",
      "\u001b[1;31mTypeError\u001b[0m                                 Traceback (most recent call last)",
      "\u001b[1;32m/home/emerick/Research/dwarfs/analysis/analytic_model/dwarf_model.py\u001b[0m in \u001b[0;36m<lambda>\u001b[1;34m(y, t, A, B)\u001b[0m\n\u001b[0;32m    152\u001b[0m     \u001b[0mode_function\u001b[0m \u001b[1;33m=\u001b[0m \u001b[1;32mlambda\u001b[0m \u001b[0my\u001b[0m\u001b[1;33m,\u001b[0m \u001b[0mt\u001b[0m\u001b[1;33m,\u001b[0m \u001b[0mA\u001b[0m\u001b[1;33m,\u001b[0m \u001b[0mB\u001b[0m\u001b[1;33m:\u001b[0m\u001b[0;31m\\\u001b[0m\u001b[1;33m\u001b[0m\u001b[0m\n\u001b[0;32m    153\u001b[0m                  A *  _KH_evolution(y, t, halo_gas_density, galaxy_velocity,\n\u001b[1;32m--> 154\u001b[1;33m                                                  galaxy_gas_density,physics_kwargs['KH'])+\\\n\u001b[0m\u001b[0;32m    155\u001b[0m                  B * _RPS_evolution(y, t, halo_gas_density, galaxy_velocity,\n\u001b[0;32m    156\u001b[0m                                            galaxy_gas_density, galaxy_gas_density(0.0),physics_kwargs['RPS'])\n",
      "\u001b[1;31mTypeError\u001b[0m: _KH_evolution() takes exactly 5 arguments (6 given)"
     ]
    },
    {
     "ename": "TypeError",
     "evalue": "_KH_evolution() takes exactly 5 arguments (6 given)",
     "output_type": "error",
     "traceback": [
      "\u001b[1;31m---------------------------------------------------------------------------\u001b[0m",
      "\u001b[1;31mTypeError\u001b[0m                                 Traceback (most recent call last)",
      "\u001b[1;32m/home/emerick/Research/dwarfs/analysis/analytic_model/dwarf_model.py\u001b[0m in \u001b[0;36m<lambda>\u001b[1;34m(y, t, A, B)\u001b[0m\n\u001b[0;32m    152\u001b[0m     \u001b[0mode_function\u001b[0m \u001b[1;33m=\u001b[0m \u001b[1;32mlambda\u001b[0m \u001b[0my\u001b[0m\u001b[1;33m,\u001b[0m \u001b[0mt\u001b[0m\u001b[1;33m,\u001b[0m \u001b[0mA\u001b[0m\u001b[1;33m,\u001b[0m \u001b[0mB\u001b[0m\u001b[1;33m:\u001b[0m\u001b[0;31m\\\u001b[0m\u001b[1;33m\u001b[0m\u001b[0m\n\u001b[0;32m    153\u001b[0m                  A *  _KH_evolution(y, t, halo_gas_density, galaxy_velocity,\n\u001b[1;32m--> 154\u001b[1;33m                                                  galaxy_gas_density,physics_kwargs['KH'])+\\\n\u001b[0m\u001b[0;32m    155\u001b[0m                  B * _RPS_evolution(y, t, halo_gas_density, galaxy_velocity,\n\u001b[0;32m    156\u001b[0m                                            galaxy_gas_density, galaxy_gas_density(0.0),physics_kwargs['RPS'])\n",
      "\u001b[1;31mTypeError\u001b[0m: _KH_evolution() takes exactly 5 arguments (6 given)"
     ]
    },
    {
     "ename": "TypeError",
     "evalue": "_KH_evolution() takes exactly 5 arguments (6 given)",
     "output_type": "error",
     "traceback": [
      "\u001b[1;31m---------------------------------------------------------------------------\u001b[0m",
      "\u001b[1;31mTypeError\u001b[0m                                 Traceback (most recent call last)",
      "\u001b[1;32m/home/emerick/Research/dwarfs/analysis/analytic_model/dwarf_model.py\u001b[0m in \u001b[0;36m<lambda>\u001b[1;34m(y, t, A, B)\u001b[0m\n\u001b[0;32m    152\u001b[0m     \u001b[0mode_function\u001b[0m \u001b[1;33m=\u001b[0m \u001b[1;32mlambda\u001b[0m \u001b[0my\u001b[0m\u001b[1;33m,\u001b[0m \u001b[0mt\u001b[0m\u001b[1;33m,\u001b[0m \u001b[0mA\u001b[0m\u001b[1;33m,\u001b[0m \u001b[0mB\u001b[0m\u001b[1;33m:\u001b[0m\u001b[0;31m\\\u001b[0m\u001b[1;33m\u001b[0m\u001b[0m\n\u001b[0;32m    153\u001b[0m                  A *  _KH_evolution(y, t, halo_gas_density, galaxy_velocity,\n\u001b[1;32m--> 154\u001b[1;33m                                                  galaxy_gas_density,physics_kwargs['KH'])+\\\n\u001b[0m\u001b[0;32m    155\u001b[0m                  B * _RPS_evolution(y, t, halo_gas_density, galaxy_velocity,\n\u001b[0;32m    156\u001b[0m                                            galaxy_gas_density, galaxy_gas_density(0.0),physics_kwargs['RPS'])\n",
      "\u001b[1;31mTypeError\u001b[0m: _KH_evolution() takes exactly 5 arguments (6 given)"
     ]
    },
    {
     "ename": "TypeError",
     "evalue": "_KH_evolution() takes exactly 5 arguments (6 given)",
     "output_type": "error",
     "traceback": [
      "\u001b[1;31m---------------------------------------------------------------------------\u001b[0m",
      "\u001b[1;31mTypeError\u001b[0m                                 Traceback (most recent call last)",
      "\u001b[1;32m/home/emerick/Research/dwarfs/analysis/analytic_model/dwarf_model.py\u001b[0m in \u001b[0;36m<lambda>\u001b[1;34m(y, t, A, B)\u001b[0m\n\u001b[0;32m    152\u001b[0m     \u001b[0mode_function\u001b[0m \u001b[1;33m=\u001b[0m \u001b[1;32mlambda\u001b[0m \u001b[0my\u001b[0m\u001b[1;33m,\u001b[0m \u001b[0mt\u001b[0m\u001b[1;33m,\u001b[0m \u001b[0mA\u001b[0m\u001b[1;33m,\u001b[0m \u001b[0mB\u001b[0m\u001b[1;33m:\u001b[0m\u001b[0;31m\\\u001b[0m\u001b[1;33m\u001b[0m\u001b[0m\n\u001b[0;32m    153\u001b[0m                  A *  _KH_evolution(y, t, halo_gas_density, galaxy_velocity,\n\u001b[1;32m--> 154\u001b[1;33m                                                  galaxy_gas_density,physics_kwargs['KH'])+\\\n\u001b[0m\u001b[0;32m    155\u001b[0m                  B * _RPS_evolution(y, t, halo_gas_density, galaxy_velocity,\n\u001b[0;32m    156\u001b[0m                                            galaxy_gas_density, galaxy_gas_density(0.0),physics_kwargs['RPS'])\n",
      "\u001b[1;31mTypeError\u001b[0m: _KH_evolution() takes exactly 5 arguments (6 given)"
     ]
    },
    {
     "ename": "TypeError",
     "evalue": "_KH_evolution() takes exactly 5 arguments (6 given)",
     "output_type": "error",
     "traceback": [
      "\u001b[1;31m---------------------------------------------------------------------------\u001b[0m",
      "\u001b[1;31mTypeError\u001b[0m                                 Traceback (most recent call last)",
      "\u001b[1;32m/home/emerick/Research/dwarfs/analysis/analytic_model/dwarf_model.py\u001b[0m in \u001b[0;36m<lambda>\u001b[1;34m(y, t, A, B)\u001b[0m\n\u001b[0;32m    152\u001b[0m     \u001b[0mode_function\u001b[0m \u001b[1;33m=\u001b[0m \u001b[1;32mlambda\u001b[0m \u001b[0my\u001b[0m\u001b[1;33m,\u001b[0m \u001b[0mt\u001b[0m\u001b[1;33m,\u001b[0m \u001b[0mA\u001b[0m\u001b[1;33m,\u001b[0m \u001b[0mB\u001b[0m\u001b[1;33m:\u001b[0m\u001b[0;31m\\\u001b[0m\u001b[1;33m\u001b[0m\u001b[0m\n\u001b[0;32m    153\u001b[0m                  A *  _KH_evolution(y, t, halo_gas_density, galaxy_velocity,\n\u001b[1;32m--> 154\u001b[1;33m                                                  galaxy_gas_density,physics_kwargs['KH'])+\\\n\u001b[0m\u001b[0;32m    155\u001b[0m                  B * _RPS_evolution(y, t, halo_gas_density, galaxy_velocity,\n\u001b[0;32m    156\u001b[0m                                            galaxy_gas_density, galaxy_gas_density(0.0),physics_kwargs['RPS'])\n",
      "\u001b[1;31mTypeError\u001b[0m: _KH_evolution() takes exactly 5 arguments (6 given)"
     ]
    },
    {
     "ename": "TypeError",
     "evalue": "_KH_evolution() takes exactly 5 arguments (6 given)",
     "output_type": "error",
     "traceback": [
      "\u001b[1;31m---------------------------------------------------------------------------\u001b[0m",
      "\u001b[1;31mTypeError\u001b[0m                                 Traceback (most recent call last)",
      "\u001b[1;32m/home/emerick/Research/dwarfs/analysis/analytic_model/dwarf_model.py\u001b[0m in \u001b[0;36m<lambda>\u001b[1;34m(y, t, A, B)\u001b[0m\n\u001b[0;32m    152\u001b[0m     \u001b[0mode_function\u001b[0m \u001b[1;33m=\u001b[0m \u001b[1;32mlambda\u001b[0m \u001b[0my\u001b[0m\u001b[1;33m,\u001b[0m \u001b[0mt\u001b[0m\u001b[1;33m,\u001b[0m \u001b[0mA\u001b[0m\u001b[1;33m,\u001b[0m \u001b[0mB\u001b[0m\u001b[1;33m:\u001b[0m\u001b[0;31m\\\u001b[0m\u001b[1;33m\u001b[0m\u001b[0m\n\u001b[0;32m    153\u001b[0m                  A *  _KH_evolution(y, t, halo_gas_density, galaxy_velocity,\n\u001b[1;32m--> 154\u001b[1;33m                                                  galaxy_gas_density,physics_kwargs['KH'])+\\\n\u001b[0m\u001b[0;32m    155\u001b[0m                  B * _RPS_evolution(y, t, halo_gas_density, galaxy_velocity,\n\u001b[0;32m    156\u001b[0m                                            galaxy_gas_density, galaxy_gas_density(0.0),physics_kwargs['RPS'])\n",
      "\u001b[1;31mTypeError\u001b[0m: _KH_evolution() takes exactly 5 arguments (6 given)"
     ]
    },
    {
     "ename": "TypeError",
     "evalue": "_KH_evolution() takes exactly 5 arguments (6 given)",
     "output_type": "error",
     "traceback": [
      "\u001b[1;31m---------------------------------------------------------------------------\u001b[0m",
      "\u001b[1;31mTypeError\u001b[0m                                 Traceback (most recent call last)",
      "\u001b[1;32m/home/emerick/Research/dwarfs/analysis/analytic_model/dwarf_model.py\u001b[0m in \u001b[0;36m<lambda>\u001b[1;34m(y, t, A, B)\u001b[0m\n\u001b[0;32m    152\u001b[0m     \u001b[0mode_function\u001b[0m \u001b[1;33m=\u001b[0m \u001b[1;32mlambda\u001b[0m \u001b[0my\u001b[0m\u001b[1;33m,\u001b[0m \u001b[0mt\u001b[0m\u001b[1;33m,\u001b[0m \u001b[0mA\u001b[0m\u001b[1;33m,\u001b[0m \u001b[0mB\u001b[0m\u001b[1;33m:\u001b[0m\u001b[0;31m\\\u001b[0m\u001b[1;33m\u001b[0m\u001b[0m\n\u001b[0;32m    153\u001b[0m                  A *  _KH_evolution(y, t, halo_gas_density, galaxy_velocity,\n\u001b[1;32m--> 154\u001b[1;33m                                                  galaxy_gas_density,physics_kwargs['KH'])+\\\n\u001b[0m\u001b[0;32m    155\u001b[0m                  B * _RPS_evolution(y, t, halo_gas_density, galaxy_velocity,\n\u001b[0;32m    156\u001b[0m                                            galaxy_gas_density, galaxy_gas_density(0.0),physics_kwargs['RPS'])\n",
      "\u001b[1;31mTypeError\u001b[0m: _KH_evolution() takes exactly 5 arguments (6 given)"
     ]
    },
    {
     "ename": "TypeError",
     "evalue": "_KH_evolution() takes exactly 5 arguments (6 given)",
     "output_type": "error",
     "traceback": [
      "\u001b[1;31m---------------------------------------------------------------------------\u001b[0m",
      "\u001b[1;31mTypeError\u001b[0m                                 Traceback (most recent call last)",
      "\u001b[1;32m/home/emerick/Research/dwarfs/analysis/analytic_model/dwarf_model.py\u001b[0m in \u001b[0;36m<lambda>\u001b[1;34m(y, t, A, B)\u001b[0m\n\u001b[0;32m    152\u001b[0m     \u001b[0mode_function\u001b[0m \u001b[1;33m=\u001b[0m \u001b[1;32mlambda\u001b[0m \u001b[0my\u001b[0m\u001b[1;33m,\u001b[0m \u001b[0mt\u001b[0m\u001b[1;33m,\u001b[0m \u001b[0mA\u001b[0m\u001b[1;33m,\u001b[0m \u001b[0mB\u001b[0m\u001b[1;33m:\u001b[0m\u001b[0;31m\\\u001b[0m\u001b[1;33m\u001b[0m\u001b[0m\n\u001b[0;32m    153\u001b[0m                  A *  _KH_evolution(y, t, halo_gas_density, galaxy_velocity,\n\u001b[1;32m--> 154\u001b[1;33m                                                  galaxy_gas_density,physics_kwargs['KH'])+\\\n\u001b[0m\u001b[0;32m    155\u001b[0m                  B * _RPS_evolution(y, t, halo_gas_density, galaxy_velocity,\n\u001b[0;32m    156\u001b[0m                                            galaxy_gas_density, galaxy_gas_density(0.0),physics_kwargs['RPS'])\n",
      "\u001b[1;31mTypeError\u001b[0m: _KH_evolution() takes exactly 5 arguments (6 given)"
     ]
    },
    {
     "ename": "TypeError",
     "evalue": "_KH_evolution() takes exactly 5 arguments (6 given)",
     "output_type": "error",
     "traceback": [
      "\u001b[1;31m---------------------------------------------------------------------------\u001b[0m",
      "\u001b[1;31mTypeError\u001b[0m                                 Traceback (most recent call last)",
      "\u001b[1;32m/home/emerick/Research/dwarfs/analysis/analytic_model/dwarf_model.py\u001b[0m in \u001b[0;36m<lambda>\u001b[1;34m(y, t, A, B)\u001b[0m\n\u001b[0;32m    152\u001b[0m     \u001b[0mode_function\u001b[0m \u001b[1;33m=\u001b[0m \u001b[1;32mlambda\u001b[0m \u001b[0my\u001b[0m\u001b[1;33m,\u001b[0m \u001b[0mt\u001b[0m\u001b[1;33m,\u001b[0m \u001b[0mA\u001b[0m\u001b[1;33m,\u001b[0m \u001b[0mB\u001b[0m\u001b[1;33m:\u001b[0m\u001b[0;31m\\\u001b[0m\u001b[1;33m\u001b[0m\u001b[0m\n\u001b[0;32m    153\u001b[0m                  A *  _KH_evolution(y, t, halo_gas_density, galaxy_velocity,\n\u001b[1;32m--> 154\u001b[1;33m                                                  galaxy_gas_density,physics_kwargs['KH'])+\\\n\u001b[0m\u001b[0;32m    155\u001b[0m                  B * _RPS_evolution(y, t, halo_gas_density, galaxy_velocity,\n\u001b[0;32m    156\u001b[0m                                            galaxy_gas_density, galaxy_gas_density(0.0),physics_kwargs['RPS'])\n",
      "\u001b[1;31mTypeError\u001b[0m: _KH_evolution() takes exactly 5 arguments (6 given)"
     ]
    },
    {
     "ename": "TypeError",
     "evalue": "_KH_evolution() takes exactly 5 arguments (6 given)",
     "output_type": "error",
     "traceback": [
      "\u001b[1;31m---------------------------------------------------------------------------\u001b[0m",
      "\u001b[1;31mTypeError\u001b[0m                                 Traceback (most recent call last)",
      "\u001b[1;32m/home/emerick/Research/dwarfs/analysis/analytic_model/dwarf_model.py\u001b[0m in \u001b[0;36m<lambda>\u001b[1;34m(y, t, A, B)\u001b[0m\n\u001b[0;32m    152\u001b[0m     \u001b[0mode_function\u001b[0m \u001b[1;33m=\u001b[0m \u001b[1;32mlambda\u001b[0m \u001b[0my\u001b[0m\u001b[1;33m,\u001b[0m \u001b[0mt\u001b[0m\u001b[1;33m,\u001b[0m \u001b[0mA\u001b[0m\u001b[1;33m,\u001b[0m \u001b[0mB\u001b[0m\u001b[1;33m:\u001b[0m\u001b[0;31m\\\u001b[0m\u001b[1;33m\u001b[0m\u001b[0m\n\u001b[0;32m    153\u001b[0m                  A *  _KH_evolution(y, t, halo_gas_density, galaxy_velocity,\n\u001b[1;32m--> 154\u001b[1;33m                                                  galaxy_gas_density,physics_kwargs['KH'])+\\\n\u001b[0m\u001b[0;32m    155\u001b[0m                  B * _RPS_evolution(y, t, halo_gas_density, galaxy_velocity,\n\u001b[0;32m    156\u001b[0m                                            galaxy_gas_density, galaxy_gas_density(0.0),physics_kwargs['RPS'])\n",
      "\u001b[1;31mTypeError\u001b[0m: _KH_evolution() takes exactly 5 arguments (6 given)"
     ]
    },
    {
     "ename": "TypeError",
     "evalue": "_KH_evolution() takes exactly 5 arguments (6 given)",
     "output_type": "error",
     "traceback": [
      "\u001b[1;31m---------------------------------------------------------------------------\u001b[0m",
      "\u001b[1;31mTypeError\u001b[0m                                 Traceback (most recent call last)",
      "\u001b[1;32m/home/emerick/Research/dwarfs/analysis/analytic_model/dwarf_model.py\u001b[0m in \u001b[0;36m<lambda>\u001b[1;34m(y, t, A, B)\u001b[0m\n\u001b[0;32m    152\u001b[0m     \u001b[0mode_function\u001b[0m \u001b[1;33m=\u001b[0m \u001b[1;32mlambda\u001b[0m \u001b[0my\u001b[0m\u001b[1;33m,\u001b[0m \u001b[0mt\u001b[0m\u001b[1;33m,\u001b[0m \u001b[0mA\u001b[0m\u001b[1;33m,\u001b[0m \u001b[0mB\u001b[0m\u001b[1;33m:\u001b[0m\u001b[0;31m\\\u001b[0m\u001b[1;33m\u001b[0m\u001b[0m\n\u001b[0;32m    153\u001b[0m                  A *  _KH_evolution(y, t, halo_gas_density, galaxy_velocity,\n\u001b[1;32m--> 154\u001b[1;33m                                                  galaxy_gas_density,physics_kwargs['KH'])+\\\n\u001b[0m\u001b[0;32m    155\u001b[0m                  B * _RPS_evolution(y, t, halo_gas_density, galaxy_velocity,\n\u001b[0;32m    156\u001b[0m                                            galaxy_gas_density, galaxy_gas_density(0.0),physics_kwargs['RPS'])\n",
      "\u001b[1;31mTypeError\u001b[0m: _KH_evolution() takes exactly 5 arguments (6 given)"
     ]
    },
    {
     "ename": "TypeError",
     "evalue": "_KH_evolution() takes exactly 5 arguments (6 given)",
     "output_type": "error",
     "traceback": [
      "\u001b[1;31m---------------------------------------------------------------------------\u001b[0m",
      "\u001b[1;31mTypeError\u001b[0m                                 Traceback (most recent call last)",
      "\u001b[1;32m/home/emerick/Research/dwarfs/analysis/analytic_model/dwarf_model.py\u001b[0m in \u001b[0;36m<lambda>\u001b[1;34m(y, t, A, B)\u001b[0m\n\u001b[0;32m    152\u001b[0m     \u001b[0mode_function\u001b[0m \u001b[1;33m=\u001b[0m \u001b[1;32mlambda\u001b[0m \u001b[0my\u001b[0m\u001b[1;33m,\u001b[0m \u001b[0mt\u001b[0m\u001b[1;33m,\u001b[0m \u001b[0mA\u001b[0m\u001b[1;33m,\u001b[0m \u001b[0mB\u001b[0m\u001b[1;33m:\u001b[0m\u001b[0;31m\\\u001b[0m\u001b[1;33m\u001b[0m\u001b[0m\n\u001b[0;32m    153\u001b[0m                  A *  _KH_evolution(y, t, halo_gas_density, galaxy_velocity,\n\u001b[1;32m--> 154\u001b[1;33m                                                  galaxy_gas_density,physics_kwargs['KH'])+\\\n\u001b[0m\u001b[0;32m    155\u001b[0m                  B * _RPS_evolution(y, t, halo_gas_density, galaxy_velocity,\n\u001b[0;32m    156\u001b[0m                                            galaxy_gas_density, galaxy_gas_density(0.0),physics_kwargs['RPS'])\n",
      "\u001b[1;31mTypeError\u001b[0m: _KH_evolution() takes exactly 5 arguments (6 given)"
     ]
    },
    {
     "ename": "TypeError",
     "evalue": "_KH_evolution() takes exactly 5 arguments (6 given)",
     "output_type": "error",
     "traceback": [
      "\u001b[1;31m---------------------------------------------------------------------------\u001b[0m",
      "\u001b[1;31mTypeError\u001b[0m                                 Traceback (most recent call last)",
      "\u001b[1;32m/home/emerick/Research/dwarfs/analysis/analytic_model/dwarf_model.py\u001b[0m in \u001b[0;36m<lambda>\u001b[1;34m(y, t, A, B)\u001b[0m\n\u001b[0;32m    152\u001b[0m     \u001b[0mode_function\u001b[0m \u001b[1;33m=\u001b[0m \u001b[1;32mlambda\u001b[0m \u001b[0my\u001b[0m\u001b[1;33m,\u001b[0m \u001b[0mt\u001b[0m\u001b[1;33m,\u001b[0m \u001b[0mA\u001b[0m\u001b[1;33m,\u001b[0m \u001b[0mB\u001b[0m\u001b[1;33m:\u001b[0m\u001b[0;31m\\\u001b[0m\u001b[1;33m\u001b[0m\u001b[0m\n\u001b[0;32m    153\u001b[0m                  A *  _KH_evolution(y, t, halo_gas_density, galaxy_velocity,\n\u001b[1;32m--> 154\u001b[1;33m                                                  galaxy_gas_density,physics_kwargs['KH'])+\\\n\u001b[0m\u001b[0;32m    155\u001b[0m                  B * _RPS_evolution(y, t, halo_gas_density, galaxy_velocity,\n\u001b[0;32m    156\u001b[0m                                            galaxy_gas_density, galaxy_gas_density(0.0),physics_kwargs['RPS'])\n",
      "\u001b[1;31mTypeError\u001b[0m: _KH_evolution() takes exactly 5 arguments (6 given)"
     ]
    },
    {
     "ename": "TypeError",
     "evalue": "_KH_evolution() takes exactly 5 arguments (6 given)",
     "output_type": "error",
     "traceback": [
      "\u001b[1;31m---------------------------------------------------------------------------\u001b[0m",
      "\u001b[1;31mTypeError\u001b[0m                                 Traceback (most recent call last)",
      "\u001b[1;32m/home/emerick/Research/dwarfs/analysis/analytic_model/dwarf_model.py\u001b[0m in \u001b[0;36m<lambda>\u001b[1;34m(y, t, A, B)\u001b[0m\n\u001b[0;32m    152\u001b[0m     \u001b[0mode_function\u001b[0m \u001b[1;33m=\u001b[0m \u001b[1;32mlambda\u001b[0m \u001b[0my\u001b[0m\u001b[1;33m,\u001b[0m \u001b[0mt\u001b[0m\u001b[1;33m,\u001b[0m \u001b[0mA\u001b[0m\u001b[1;33m,\u001b[0m \u001b[0mB\u001b[0m\u001b[1;33m:\u001b[0m\u001b[0;31m\\\u001b[0m\u001b[1;33m\u001b[0m\u001b[0m\n\u001b[0;32m    153\u001b[0m                  A *  _KH_evolution(y, t, halo_gas_density, galaxy_velocity,\n\u001b[1;32m--> 154\u001b[1;33m                                                  galaxy_gas_density,physics_kwargs['KH'])+\\\n\u001b[0m\u001b[0;32m    155\u001b[0m                  B * _RPS_evolution(y, t, halo_gas_density, galaxy_velocity,\n\u001b[0;32m    156\u001b[0m                                            galaxy_gas_density, galaxy_gas_density(0.0),physics_kwargs['RPS'])\n",
      "\u001b[1;31mTypeError\u001b[0m: _KH_evolution() takes exactly 5 arguments (6 given)"
     ]
    },
    {
     "ename": "TypeError",
     "evalue": "_KH_evolution() takes exactly 5 arguments (6 given)",
     "output_type": "error",
     "traceback": [
      "\u001b[1;31m---------------------------------------------------------------------------\u001b[0m",
      "\u001b[1;31mTypeError\u001b[0m                                 Traceback (most recent call last)",
      "\u001b[1;32m/home/emerick/Research/dwarfs/analysis/analytic_model/dwarf_model.py\u001b[0m in \u001b[0;36m<lambda>\u001b[1;34m(y, t, A, B)\u001b[0m\n\u001b[0;32m    152\u001b[0m     \u001b[0mode_function\u001b[0m \u001b[1;33m=\u001b[0m \u001b[1;32mlambda\u001b[0m \u001b[0my\u001b[0m\u001b[1;33m,\u001b[0m \u001b[0mt\u001b[0m\u001b[1;33m,\u001b[0m \u001b[0mA\u001b[0m\u001b[1;33m,\u001b[0m \u001b[0mB\u001b[0m\u001b[1;33m:\u001b[0m\u001b[0;31m\\\u001b[0m\u001b[1;33m\u001b[0m\u001b[0m\n\u001b[0;32m    153\u001b[0m                  A *  _KH_evolution(y, t, halo_gas_density, galaxy_velocity,\n\u001b[1;32m--> 154\u001b[1;33m                                                  galaxy_gas_density,physics_kwargs['KH'])+\\\n\u001b[0m\u001b[0;32m    155\u001b[0m                  B * _RPS_evolution(y, t, halo_gas_density, galaxy_velocity,\n\u001b[0;32m    156\u001b[0m                                            galaxy_gas_density, galaxy_gas_density(0.0),physics_kwargs['RPS'])\n",
      "\u001b[1;31mTypeError\u001b[0m: _KH_evolution() takes exactly 5 arguments (6 given)"
     ]
    },
    {
     "ename": "TypeError",
     "evalue": "_KH_evolution() takes exactly 5 arguments (6 given)",
     "output_type": "error",
     "traceback": [
      "\u001b[1;31m---------------------------------------------------------------------------\u001b[0m",
      "\u001b[1;31mTypeError\u001b[0m                                 Traceback (most recent call last)",
      "\u001b[1;32m/home/emerick/Research/dwarfs/analysis/analytic_model/dwarf_model.py\u001b[0m in \u001b[0;36m<lambda>\u001b[1;34m(y, t, A, B)\u001b[0m\n\u001b[0;32m    152\u001b[0m     \u001b[0mode_function\u001b[0m \u001b[1;33m=\u001b[0m \u001b[1;32mlambda\u001b[0m \u001b[0my\u001b[0m\u001b[1;33m,\u001b[0m \u001b[0mt\u001b[0m\u001b[1;33m,\u001b[0m \u001b[0mA\u001b[0m\u001b[1;33m,\u001b[0m \u001b[0mB\u001b[0m\u001b[1;33m:\u001b[0m\u001b[0;31m\\\u001b[0m\u001b[1;33m\u001b[0m\u001b[0m\n\u001b[0;32m    153\u001b[0m                  A *  _KH_evolution(y, t, halo_gas_density, galaxy_velocity,\n\u001b[1;32m--> 154\u001b[1;33m                                                  galaxy_gas_density,physics_kwargs['KH'])+\\\n\u001b[0m\u001b[0;32m    155\u001b[0m                  B * _RPS_evolution(y, t, halo_gas_density, galaxy_velocity,\n\u001b[0;32m    156\u001b[0m                                            galaxy_gas_density, galaxy_gas_density(0.0),physics_kwargs['RPS'])\n",
      "\u001b[1;31mTypeError\u001b[0m: _KH_evolution() takes exactly 5 arguments (6 given)"
     ]
    },
    {
     "ename": "TypeError",
     "evalue": "_KH_evolution() takes exactly 5 arguments (6 given)",
     "output_type": "error",
     "traceback": [
      "\u001b[1;31m---------------------------------------------------------------------------\u001b[0m",
      "\u001b[1;31mTypeError\u001b[0m                                 Traceback (most recent call last)",
      "\u001b[1;32m/home/emerick/Research/dwarfs/analysis/analytic_model/dwarf_model.py\u001b[0m in \u001b[0;36m<lambda>\u001b[1;34m(y, t, A, B)\u001b[0m\n\u001b[0;32m    152\u001b[0m     \u001b[0mode_function\u001b[0m \u001b[1;33m=\u001b[0m \u001b[1;32mlambda\u001b[0m \u001b[0my\u001b[0m\u001b[1;33m,\u001b[0m \u001b[0mt\u001b[0m\u001b[1;33m,\u001b[0m \u001b[0mA\u001b[0m\u001b[1;33m,\u001b[0m \u001b[0mB\u001b[0m\u001b[1;33m:\u001b[0m\u001b[0;31m\\\u001b[0m\u001b[1;33m\u001b[0m\u001b[0m\n\u001b[0;32m    153\u001b[0m                  A *  _KH_evolution(y, t, halo_gas_density, galaxy_velocity,\n\u001b[1;32m--> 154\u001b[1;33m                                                  galaxy_gas_density,physics_kwargs['KH'])+\\\n\u001b[0m\u001b[0;32m    155\u001b[0m                  B * _RPS_evolution(y, t, halo_gas_density, galaxy_velocity,\n\u001b[0;32m    156\u001b[0m                                            galaxy_gas_density, galaxy_gas_density(0.0),physics_kwargs['RPS'])\n",
      "\u001b[1;31mTypeError\u001b[0m: _KH_evolution() takes exactly 5 arguments (6 given)"
     ]
    },
    {
     "ename": "TypeError",
     "evalue": "_KH_evolution() takes exactly 5 arguments (6 given)",
     "output_type": "error",
     "traceback": [
      "\u001b[1;31m---------------------------------------------------------------------------\u001b[0m",
      "\u001b[1;31mTypeError\u001b[0m                                 Traceback (most recent call last)",
      "\u001b[1;32m/home/emerick/Research/dwarfs/analysis/analytic_model/dwarf_model.py\u001b[0m in \u001b[0;36m<lambda>\u001b[1;34m(y, t, A, B)\u001b[0m\n\u001b[0;32m    152\u001b[0m     \u001b[0mode_function\u001b[0m \u001b[1;33m=\u001b[0m \u001b[1;32mlambda\u001b[0m \u001b[0my\u001b[0m\u001b[1;33m,\u001b[0m \u001b[0mt\u001b[0m\u001b[1;33m,\u001b[0m \u001b[0mA\u001b[0m\u001b[1;33m,\u001b[0m \u001b[0mB\u001b[0m\u001b[1;33m:\u001b[0m\u001b[0;31m\\\u001b[0m\u001b[1;33m\u001b[0m\u001b[0m\n\u001b[0;32m    153\u001b[0m                  A *  _KH_evolution(y, t, halo_gas_density, galaxy_velocity,\n\u001b[1;32m--> 154\u001b[1;33m                                                  galaxy_gas_density,physics_kwargs['KH'])+\\\n\u001b[0m\u001b[0;32m    155\u001b[0m                  B * _RPS_evolution(y, t, halo_gas_density, galaxy_velocity,\n\u001b[0;32m    156\u001b[0m                                            galaxy_gas_density, galaxy_gas_density(0.0),physics_kwargs['RPS'])\n",
      "\u001b[1;31mTypeError\u001b[0m: _KH_evolution() takes exactly 5 arguments (6 given)"
     ]
    },
    {
     "ename": "TypeError",
     "evalue": "_KH_evolution() takes exactly 5 arguments (6 given)",
     "output_type": "error",
     "traceback": [
      "\u001b[1;31m---------------------------------------------------------------------------\u001b[0m",
      "\u001b[1;31mTypeError\u001b[0m                                 Traceback (most recent call last)",
      "\u001b[1;32m/home/emerick/Research/dwarfs/analysis/analytic_model/dwarf_model.py\u001b[0m in \u001b[0;36m<lambda>\u001b[1;34m(y, t, A, B)\u001b[0m\n\u001b[0;32m    152\u001b[0m     \u001b[0mode_function\u001b[0m \u001b[1;33m=\u001b[0m \u001b[1;32mlambda\u001b[0m \u001b[0my\u001b[0m\u001b[1;33m,\u001b[0m \u001b[0mt\u001b[0m\u001b[1;33m,\u001b[0m \u001b[0mA\u001b[0m\u001b[1;33m,\u001b[0m \u001b[0mB\u001b[0m\u001b[1;33m:\u001b[0m\u001b[0;31m\\\u001b[0m\u001b[1;33m\u001b[0m\u001b[0m\n\u001b[0;32m    153\u001b[0m                  A *  _KH_evolution(y, t, halo_gas_density, galaxy_velocity,\n\u001b[1;32m--> 154\u001b[1;33m                                                  galaxy_gas_density,physics_kwargs['KH'])+\\\n\u001b[0m\u001b[0;32m    155\u001b[0m                  B * _RPS_evolution(y, t, halo_gas_density, galaxy_velocity,\n\u001b[0;32m    156\u001b[0m                                            galaxy_gas_density, galaxy_gas_density(0.0),physics_kwargs['RPS'])\n",
      "\u001b[1;31mTypeError\u001b[0m: _KH_evolution() takes exactly 5 arguments (6 given)"
     ]
    },
    {
     "ename": "TypeError",
     "evalue": "_KH_evolution() takes exactly 5 arguments (6 given)",
     "output_type": "error",
     "traceback": [
      "\u001b[1;31m---------------------------------------------------------------------------\u001b[0m",
      "\u001b[1;31mTypeError\u001b[0m                                 Traceback (most recent call last)",
      "\u001b[1;32m/home/emerick/Research/dwarfs/analysis/analytic_model/dwarf_model.py\u001b[0m in \u001b[0;36m<lambda>\u001b[1;34m(y, t, A, B)\u001b[0m\n\u001b[0;32m    152\u001b[0m     \u001b[0mode_function\u001b[0m \u001b[1;33m=\u001b[0m \u001b[1;32mlambda\u001b[0m \u001b[0my\u001b[0m\u001b[1;33m,\u001b[0m \u001b[0mt\u001b[0m\u001b[1;33m,\u001b[0m \u001b[0mA\u001b[0m\u001b[1;33m,\u001b[0m \u001b[0mB\u001b[0m\u001b[1;33m:\u001b[0m\u001b[0;31m\\\u001b[0m\u001b[1;33m\u001b[0m\u001b[0m\n\u001b[0;32m    153\u001b[0m                  A *  _KH_evolution(y, t, halo_gas_density, galaxy_velocity,\n\u001b[1;32m--> 154\u001b[1;33m                                                  galaxy_gas_density,physics_kwargs['KH'])+\\\n\u001b[0m\u001b[0;32m    155\u001b[0m                  B * _RPS_evolution(y, t, halo_gas_density, galaxy_velocity,\n\u001b[0;32m    156\u001b[0m                                            galaxy_gas_density, galaxy_gas_density(0.0),physics_kwargs['RPS'])\n",
      "\u001b[1;31mTypeError\u001b[0m: _KH_evolution() takes exactly 5 arguments (6 given)"
     ]
    },
    {
     "ename": "TypeError",
     "evalue": "_KH_evolution() takes exactly 5 arguments (6 given)",
     "output_type": "error",
     "traceback": [
      "\u001b[1;31m---------------------------------------------------------------------------\u001b[0m",
      "\u001b[1;31mTypeError\u001b[0m                                 Traceback (most recent call last)",
      "\u001b[1;32m/home/emerick/Research/dwarfs/analysis/analytic_model/dwarf_model.py\u001b[0m in \u001b[0;36m<lambda>\u001b[1;34m(y, t, A, B)\u001b[0m\n\u001b[0;32m    152\u001b[0m     \u001b[0mode_function\u001b[0m \u001b[1;33m=\u001b[0m \u001b[1;32mlambda\u001b[0m \u001b[0my\u001b[0m\u001b[1;33m,\u001b[0m \u001b[0mt\u001b[0m\u001b[1;33m,\u001b[0m \u001b[0mA\u001b[0m\u001b[1;33m,\u001b[0m \u001b[0mB\u001b[0m\u001b[1;33m:\u001b[0m\u001b[0;31m\\\u001b[0m\u001b[1;33m\u001b[0m\u001b[0m\n\u001b[0;32m    153\u001b[0m                  A *  _KH_evolution(y, t, halo_gas_density, galaxy_velocity,\n\u001b[1;32m--> 154\u001b[1;33m                                                  galaxy_gas_density,physics_kwargs['KH'])+\\\n\u001b[0m\u001b[0;32m    155\u001b[0m                  B * _RPS_evolution(y, t, halo_gas_density, galaxy_velocity,\n\u001b[0;32m    156\u001b[0m                                            galaxy_gas_density, galaxy_gas_density(0.0),physics_kwargs['RPS'])\n",
      "\u001b[1;31mTypeError\u001b[0m: _KH_evolution() takes exactly 5 arguments (6 given)"
     ]
    },
    {
     "ename": "TypeError",
     "evalue": "_KH_evolution() takes exactly 5 arguments (6 given)",
     "output_type": "error",
     "traceback": [
      "\u001b[1;31m---------------------------------------------------------------------------\u001b[0m",
      "\u001b[1;31mTypeError\u001b[0m                                 Traceback (most recent call last)",
      "\u001b[1;32m/home/emerick/Research/dwarfs/analysis/analytic_model/dwarf_model.py\u001b[0m in \u001b[0;36m<lambda>\u001b[1;34m(y, t, A, B)\u001b[0m\n\u001b[0;32m    152\u001b[0m     \u001b[0mode_function\u001b[0m \u001b[1;33m=\u001b[0m \u001b[1;32mlambda\u001b[0m \u001b[0my\u001b[0m\u001b[1;33m,\u001b[0m \u001b[0mt\u001b[0m\u001b[1;33m,\u001b[0m \u001b[0mA\u001b[0m\u001b[1;33m,\u001b[0m \u001b[0mB\u001b[0m\u001b[1;33m:\u001b[0m\u001b[0;31m\\\u001b[0m\u001b[1;33m\u001b[0m\u001b[0m\n\u001b[0;32m    153\u001b[0m                  A *  _KH_evolution(y, t, halo_gas_density, galaxy_velocity,\n\u001b[1;32m--> 154\u001b[1;33m                                                  galaxy_gas_density,physics_kwargs['KH'])+\\\n\u001b[0m\u001b[0;32m    155\u001b[0m                  B * _RPS_evolution(y, t, halo_gas_density, galaxy_velocity,\n\u001b[0;32m    156\u001b[0m                                            galaxy_gas_density, galaxy_gas_density(0.0),physics_kwargs['RPS'])\n",
      "\u001b[1;31mTypeError\u001b[0m: _KH_evolution() takes exactly 5 arguments (6 given)"
     ]
    },
    {
     "ename": "TypeError",
     "evalue": "_KH_evolution() takes exactly 5 arguments (6 given)",
     "output_type": "error",
     "traceback": [
      "\u001b[1;31m---------------------------------------------------------------------------\u001b[0m",
      "\u001b[1;31mTypeError\u001b[0m                                 Traceback (most recent call last)",
      "\u001b[1;32m/home/emerick/Research/dwarfs/analysis/analytic_model/dwarf_model.py\u001b[0m in \u001b[0;36m<lambda>\u001b[1;34m(y, t, A, B)\u001b[0m\n\u001b[0;32m    152\u001b[0m     \u001b[0mode_function\u001b[0m \u001b[1;33m=\u001b[0m \u001b[1;32mlambda\u001b[0m \u001b[0my\u001b[0m\u001b[1;33m,\u001b[0m \u001b[0mt\u001b[0m\u001b[1;33m,\u001b[0m \u001b[0mA\u001b[0m\u001b[1;33m,\u001b[0m \u001b[0mB\u001b[0m\u001b[1;33m:\u001b[0m\u001b[0;31m\\\u001b[0m\u001b[1;33m\u001b[0m\u001b[0m\n\u001b[0;32m    153\u001b[0m                  A *  _KH_evolution(y, t, halo_gas_density, galaxy_velocity,\n\u001b[1;32m--> 154\u001b[1;33m                                                  galaxy_gas_density,physics_kwargs['KH'])+\\\n\u001b[0m\u001b[0;32m    155\u001b[0m                  B * _RPS_evolution(y, t, halo_gas_density, galaxy_velocity,\n\u001b[0;32m    156\u001b[0m                                            galaxy_gas_density, galaxy_gas_density(0.0),physics_kwargs['RPS'])\n",
      "\u001b[1;31mTypeError\u001b[0m: _KH_evolution() takes exactly 5 arguments (6 given)"
     ]
    },
    {
     "ename": "TypeError",
     "evalue": "_KH_evolution() takes exactly 5 arguments (6 given)",
     "output_type": "error",
     "traceback": [
      "\u001b[1;31m---------------------------------------------------------------------------\u001b[0m",
      "\u001b[1;31mTypeError\u001b[0m                                 Traceback (most recent call last)",
      "\u001b[1;32m/home/emerick/Research/dwarfs/analysis/analytic_model/dwarf_model.py\u001b[0m in \u001b[0;36m<lambda>\u001b[1;34m(y, t, A, B)\u001b[0m\n\u001b[0;32m    152\u001b[0m     \u001b[0mode_function\u001b[0m \u001b[1;33m=\u001b[0m \u001b[1;32mlambda\u001b[0m \u001b[0my\u001b[0m\u001b[1;33m,\u001b[0m \u001b[0mt\u001b[0m\u001b[1;33m,\u001b[0m \u001b[0mA\u001b[0m\u001b[1;33m,\u001b[0m \u001b[0mB\u001b[0m\u001b[1;33m:\u001b[0m\u001b[0;31m\\\u001b[0m\u001b[1;33m\u001b[0m\u001b[0m\n\u001b[0;32m    153\u001b[0m                  A *  _KH_evolution(y, t, halo_gas_density, galaxy_velocity,\n\u001b[1;32m--> 154\u001b[1;33m                                                  galaxy_gas_density,physics_kwargs['KH'])+\\\n\u001b[0m\u001b[0;32m    155\u001b[0m                  B * _RPS_evolution(y, t, halo_gas_density, galaxy_velocity,\n\u001b[0;32m    156\u001b[0m                                            galaxy_gas_density, galaxy_gas_density(0.0),physics_kwargs['RPS'])\n",
      "\u001b[1;31mTypeError\u001b[0m: _KH_evolution() takes exactly 5 arguments (6 given)"
     ]
    },
    {
     "ename": "TypeError",
     "evalue": "_KH_evolution() takes exactly 5 arguments (6 given)",
     "output_type": "error",
     "traceback": [
      "\u001b[1;31m---------------------------------------------------------------------------\u001b[0m",
      "\u001b[1;31mTypeError\u001b[0m                                 Traceback (most recent call last)",
      "\u001b[1;32m/home/emerick/Research/dwarfs/analysis/analytic_model/dwarf_model.py\u001b[0m in \u001b[0;36m<lambda>\u001b[1;34m(y, t, A, B)\u001b[0m\n\u001b[0;32m    152\u001b[0m     \u001b[0mode_function\u001b[0m \u001b[1;33m=\u001b[0m \u001b[1;32mlambda\u001b[0m \u001b[0my\u001b[0m\u001b[1;33m,\u001b[0m \u001b[0mt\u001b[0m\u001b[1;33m,\u001b[0m \u001b[0mA\u001b[0m\u001b[1;33m,\u001b[0m \u001b[0mB\u001b[0m\u001b[1;33m:\u001b[0m\u001b[0;31m\\\u001b[0m\u001b[1;33m\u001b[0m\u001b[0m\n\u001b[0;32m    153\u001b[0m                  A *  _KH_evolution(y, t, halo_gas_density, galaxy_velocity,\n\u001b[1;32m--> 154\u001b[1;33m                                                  galaxy_gas_density,physics_kwargs['KH'])+\\\n\u001b[0m\u001b[0;32m    155\u001b[0m                  B * _RPS_evolution(y, t, halo_gas_density, galaxy_velocity,\n\u001b[0;32m    156\u001b[0m                                            galaxy_gas_density, galaxy_gas_density(0.0),physics_kwargs['RPS'])\n",
      "\u001b[1;31mTypeError\u001b[0m: _KH_evolution() takes exactly 5 arguments (6 given)"
     ]
    },
    {
     "ename": "TypeError",
     "evalue": "_KH_evolution() takes exactly 5 arguments (6 given)",
     "output_type": "error",
     "traceback": [
      "\u001b[1;31m---------------------------------------------------------------------------\u001b[0m",
      "\u001b[1;31mTypeError\u001b[0m                                 Traceback (most recent call last)",
      "\u001b[1;32m/home/emerick/Research/dwarfs/analysis/analytic_model/dwarf_model.py\u001b[0m in \u001b[0;36m<lambda>\u001b[1;34m(y, t, A, B)\u001b[0m\n\u001b[0;32m    152\u001b[0m     \u001b[0mode_function\u001b[0m \u001b[1;33m=\u001b[0m \u001b[1;32mlambda\u001b[0m \u001b[0my\u001b[0m\u001b[1;33m,\u001b[0m \u001b[0mt\u001b[0m\u001b[1;33m,\u001b[0m \u001b[0mA\u001b[0m\u001b[1;33m,\u001b[0m \u001b[0mB\u001b[0m\u001b[1;33m:\u001b[0m\u001b[0;31m\\\u001b[0m\u001b[1;33m\u001b[0m\u001b[0m\n\u001b[0;32m    153\u001b[0m                  A *  _KH_evolution(y, t, halo_gas_density, galaxy_velocity,\n\u001b[1;32m--> 154\u001b[1;33m                                                  galaxy_gas_density,physics_kwargs['KH'])+\\\n\u001b[0m\u001b[0;32m    155\u001b[0m                  B * _RPS_evolution(y, t, halo_gas_density, galaxy_velocity,\n\u001b[0;32m    156\u001b[0m                                            galaxy_gas_density, galaxy_gas_density(0.0),physics_kwargs['RPS'])\n",
      "\u001b[1;31mTypeError\u001b[0m: _KH_evolution() takes exactly 5 arguments (6 given)"
     ]
    },
    {
     "ename": "TypeError",
     "evalue": "_KH_evolution() takes exactly 5 arguments (6 given)",
     "output_type": "error",
     "traceback": [
      "\u001b[1;31m---------------------------------------------------------------------------\u001b[0m",
      "\u001b[1;31mTypeError\u001b[0m                                 Traceback (most recent call last)",
      "\u001b[1;32m/home/emerick/Research/dwarfs/analysis/analytic_model/dwarf_model.py\u001b[0m in \u001b[0;36m<lambda>\u001b[1;34m(y, t, A, B)\u001b[0m\n\u001b[0;32m    152\u001b[0m     \u001b[0mode_function\u001b[0m \u001b[1;33m=\u001b[0m \u001b[1;32mlambda\u001b[0m \u001b[0my\u001b[0m\u001b[1;33m,\u001b[0m \u001b[0mt\u001b[0m\u001b[1;33m,\u001b[0m \u001b[0mA\u001b[0m\u001b[1;33m,\u001b[0m \u001b[0mB\u001b[0m\u001b[1;33m:\u001b[0m\u001b[0;31m\\\u001b[0m\u001b[1;33m\u001b[0m\u001b[0m\n\u001b[0;32m    153\u001b[0m                  A *  _KH_evolution(y, t, halo_gas_density, galaxy_velocity,\n\u001b[1;32m--> 154\u001b[1;33m                                                  galaxy_gas_density,physics_kwargs['KH'])+\\\n\u001b[0m\u001b[0;32m    155\u001b[0m                  B * _RPS_evolution(y, t, halo_gas_density, galaxy_velocity,\n\u001b[0;32m    156\u001b[0m                                            galaxy_gas_density, galaxy_gas_density(0.0),physics_kwargs['RPS'])\n",
      "\u001b[1;31mTypeError\u001b[0m: _KH_evolution() takes exactly 5 arguments (6 given)"
     ]
    },
    {
     "ename": "TypeError",
     "evalue": "_KH_evolution() takes exactly 5 arguments (6 given)",
     "output_type": "error",
     "traceback": [
      "\u001b[1;31m---------------------------------------------------------------------------\u001b[0m",
      "\u001b[1;31mTypeError\u001b[0m                                 Traceback (most recent call last)",
      "\u001b[1;32m/home/emerick/Research/dwarfs/analysis/analytic_model/dwarf_model.py\u001b[0m in \u001b[0;36m<lambda>\u001b[1;34m(y, t, A, B)\u001b[0m\n\u001b[0;32m    152\u001b[0m     \u001b[0mode_function\u001b[0m \u001b[1;33m=\u001b[0m \u001b[1;32mlambda\u001b[0m \u001b[0my\u001b[0m\u001b[1;33m,\u001b[0m \u001b[0mt\u001b[0m\u001b[1;33m,\u001b[0m \u001b[0mA\u001b[0m\u001b[1;33m,\u001b[0m \u001b[0mB\u001b[0m\u001b[1;33m:\u001b[0m\u001b[0;31m\\\u001b[0m\u001b[1;33m\u001b[0m\u001b[0m\n\u001b[0;32m    153\u001b[0m                  A *  _KH_evolution(y, t, halo_gas_density, galaxy_velocity,\n\u001b[1;32m--> 154\u001b[1;33m                                                  galaxy_gas_density,physics_kwargs['KH'])+\\\n\u001b[0m\u001b[0;32m    155\u001b[0m                  B * _RPS_evolution(y, t, halo_gas_density, galaxy_velocity,\n\u001b[0;32m    156\u001b[0m                                            galaxy_gas_density, galaxy_gas_density(0.0),physics_kwargs['RPS'])\n",
      "\u001b[1;31mTypeError\u001b[0m: _KH_evolution() takes exactly 5 arguments (6 given)"
     ]
    },
    {
     "ename": "TypeError",
     "evalue": "_KH_evolution() takes exactly 5 arguments (6 given)",
     "output_type": "error",
     "traceback": [
      "\u001b[1;31m---------------------------------------------------------------------------\u001b[0m",
      "\u001b[1;31mTypeError\u001b[0m                                 Traceback (most recent call last)",
      "\u001b[1;32m/home/emerick/Research/dwarfs/analysis/analytic_model/dwarf_model.py\u001b[0m in \u001b[0;36m<lambda>\u001b[1;34m(y, t, A, B)\u001b[0m\n\u001b[0;32m    152\u001b[0m     \u001b[0mode_function\u001b[0m \u001b[1;33m=\u001b[0m \u001b[1;32mlambda\u001b[0m \u001b[0my\u001b[0m\u001b[1;33m,\u001b[0m \u001b[0mt\u001b[0m\u001b[1;33m,\u001b[0m \u001b[0mA\u001b[0m\u001b[1;33m,\u001b[0m \u001b[0mB\u001b[0m\u001b[1;33m:\u001b[0m\u001b[0;31m\\\u001b[0m\u001b[1;33m\u001b[0m\u001b[0m\n\u001b[0;32m    153\u001b[0m                  A *  _KH_evolution(y, t, halo_gas_density, galaxy_velocity,\n\u001b[1;32m--> 154\u001b[1;33m                                                  galaxy_gas_density,physics_kwargs['KH'])+\\\n\u001b[0m\u001b[0;32m    155\u001b[0m                  B * _RPS_evolution(y, t, halo_gas_density, galaxy_velocity,\n\u001b[0;32m    156\u001b[0m                                            galaxy_gas_density, galaxy_gas_density(0.0),physics_kwargs['RPS'])\n",
      "\u001b[1;31mTypeError\u001b[0m: _KH_evolution() takes exactly 5 arguments (6 given)"
     ]
    },
    {
     "ename": "TypeError",
     "evalue": "_KH_evolution() takes exactly 5 arguments (6 given)",
     "output_type": "error",
     "traceback": [
      "\u001b[1;31m---------------------------------------------------------------------------\u001b[0m",
      "\u001b[1;31mTypeError\u001b[0m                                 Traceback (most recent call last)",
      "\u001b[1;32m/home/emerick/Research/dwarfs/analysis/analytic_model/dwarf_model.py\u001b[0m in \u001b[0;36m<lambda>\u001b[1;34m(y, t, A, B)\u001b[0m\n\u001b[0;32m    152\u001b[0m     \u001b[0mode_function\u001b[0m \u001b[1;33m=\u001b[0m \u001b[1;32mlambda\u001b[0m \u001b[0my\u001b[0m\u001b[1;33m,\u001b[0m \u001b[0mt\u001b[0m\u001b[1;33m,\u001b[0m \u001b[0mA\u001b[0m\u001b[1;33m,\u001b[0m \u001b[0mB\u001b[0m\u001b[1;33m:\u001b[0m\u001b[0;31m\\\u001b[0m\u001b[1;33m\u001b[0m\u001b[0m\n\u001b[0;32m    153\u001b[0m                  A *  _KH_evolution(y, t, halo_gas_density, galaxy_velocity,\n\u001b[1;32m--> 154\u001b[1;33m                                                  galaxy_gas_density,physics_kwargs['KH'])+\\\n\u001b[0m\u001b[0;32m    155\u001b[0m                  B * _RPS_evolution(y, t, halo_gas_density, galaxy_velocity,\n\u001b[0;32m    156\u001b[0m                                            galaxy_gas_density, galaxy_gas_density(0.0),physics_kwargs['RPS'])\n",
      "\u001b[1;31mTypeError\u001b[0m: _KH_evolution() takes exactly 5 arguments (6 given)"
     ]
    },
    {
     "ename": "TypeError",
     "evalue": "_KH_evolution() takes exactly 5 arguments (6 given)",
     "output_type": "error",
     "traceback": [
      "\u001b[1;31m---------------------------------------------------------------------------\u001b[0m",
      "\u001b[1;31mTypeError\u001b[0m                                 Traceback (most recent call last)",
      "\u001b[1;32m/home/emerick/Research/dwarfs/analysis/analytic_model/dwarf_model.py\u001b[0m in \u001b[0;36m<lambda>\u001b[1;34m(y, t, A, B)\u001b[0m\n\u001b[0;32m    152\u001b[0m     \u001b[0mode_function\u001b[0m \u001b[1;33m=\u001b[0m \u001b[1;32mlambda\u001b[0m \u001b[0my\u001b[0m\u001b[1;33m,\u001b[0m \u001b[0mt\u001b[0m\u001b[1;33m,\u001b[0m \u001b[0mA\u001b[0m\u001b[1;33m,\u001b[0m \u001b[0mB\u001b[0m\u001b[1;33m:\u001b[0m\u001b[0;31m\\\u001b[0m\u001b[1;33m\u001b[0m\u001b[0m\n\u001b[0;32m    153\u001b[0m                  A *  _KH_evolution(y, t, halo_gas_density, galaxy_velocity,\n\u001b[1;32m--> 154\u001b[1;33m                                                  galaxy_gas_density,physics_kwargs['KH'])+\\\n\u001b[0m\u001b[0;32m    155\u001b[0m                  B * _RPS_evolution(y, t, halo_gas_density, galaxy_velocity,\n\u001b[0;32m    156\u001b[0m                                            galaxy_gas_density, galaxy_gas_density(0.0),physics_kwargs['RPS'])\n",
      "\u001b[1;31mTypeError\u001b[0m: _KH_evolution() takes exactly 5 arguments (6 given)"
     ]
    },
    {
     "ename": "TypeError",
     "evalue": "_KH_evolution() takes exactly 5 arguments (6 given)",
     "output_type": "error",
     "traceback": [
      "\u001b[1;31m---------------------------------------------------------------------------\u001b[0m",
      "\u001b[1;31mTypeError\u001b[0m                                 Traceback (most recent call last)",
      "\u001b[1;32m/home/emerick/Research/dwarfs/analysis/analytic_model/dwarf_model.py\u001b[0m in \u001b[0;36m<lambda>\u001b[1;34m(y, t, A, B)\u001b[0m\n\u001b[0;32m    152\u001b[0m     \u001b[0mode_function\u001b[0m \u001b[1;33m=\u001b[0m \u001b[1;32mlambda\u001b[0m \u001b[0my\u001b[0m\u001b[1;33m,\u001b[0m \u001b[0mt\u001b[0m\u001b[1;33m,\u001b[0m \u001b[0mA\u001b[0m\u001b[1;33m,\u001b[0m \u001b[0mB\u001b[0m\u001b[1;33m:\u001b[0m\u001b[0;31m\\\u001b[0m\u001b[1;33m\u001b[0m\u001b[0m\n\u001b[0;32m    153\u001b[0m                  A *  _KH_evolution(y, t, halo_gas_density, galaxy_velocity,\n\u001b[1;32m--> 154\u001b[1;33m                                                  galaxy_gas_density,physics_kwargs['KH'])+\\\n\u001b[0m\u001b[0;32m    155\u001b[0m                  B * _RPS_evolution(y, t, halo_gas_density, galaxy_velocity,\n\u001b[0;32m    156\u001b[0m                                            galaxy_gas_density, galaxy_gas_density(0.0),physics_kwargs['RPS'])\n",
      "\u001b[1;31mTypeError\u001b[0m: _KH_evolution() takes exactly 5 arguments (6 given)"
     ]
    },
    {
     "ename": "TypeError",
     "evalue": "_KH_evolution() takes exactly 5 arguments (6 given)",
     "output_type": "error",
     "traceback": [
      "\u001b[1;31m---------------------------------------------------------------------------\u001b[0m",
      "\u001b[1;31mTypeError\u001b[0m                                 Traceback (most recent call last)",
      "\u001b[1;32m/home/emerick/Research/dwarfs/analysis/analytic_model/dwarf_model.py\u001b[0m in \u001b[0;36m<lambda>\u001b[1;34m(y, t, A, B)\u001b[0m\n\u001b[0;32m    152\u001b[0m     \u001b[0mode_function\u001b[0m \u001b[1;33m=\u001b[0m \u001b[1;32mlambda\u001b[0m \u001b[0my\u001b[0m\u001b[1;33m,\u001b[0m \u001b[0mt\u001b[0m\u001b[1;33m,\u001b[0m \u001b[0mA\u001b[0m\u001b[1;33m,\u001b[0m \u001b[0mB\u001b[0m\u001b[1;33m:\u001b[0m\u001b[0;31m\\\u001b[0m\u001b[1;33m\u001b[0m\u001b[0m\n\u001b[0;32m    153\u001b[0m                  A *  _KH_evolution(y, t, halo_gas_density, galaxy_velocity,\n\u001b[1;32m--> 154\u001b[1;33m                                                  galaxy_gas_density,physics_kwargs['KH'])+\\\n\u001b[0m\u001b[0;32m    155\u001b[0m                  B * _RPS_evolution(y, t, halo_gas_density, galaxy_velocity,\n\u001b[0;32m    156\u001b[0m                                            galaxy_gas_density, galaxy_gas_density(0.0),physics_kwargs['RPS'])\n",
      "\u001b[1;31mTypeError\u001b[0m: _KH_evolution() takes exactly 5 arguments (6 given)"
     ]
    },
    {
     "ename": "TypeError",
     "evalue": "_KH_evolution() takes exactly 5 arguments (6 given)",
     "output_type": "error",
     "traceback": [
      "\u001b[1;31m---------------------------------------------------------------------------\u001b[0m",
      "\u001b[1;31mTypeError\u001b[0m                                 Traceback (most recent call last)",
      "\u001b[1;32m/home/emerick/Research/dwarfs/analysis/analytic_model/dwarf_model.py\u001b[0m in \u001b[0;36m<lambda>\u001b[1;34m(y, t, A, B)\u001b[0m\n\u001b[0;32m    152\u001b[0m     \u001b[0mode_function\u001b[0m \u001b[1;33m=\u001b[0m \u001b[1;32mlambda\u001b[0m \u001b[0my\u001b[0m\u001b[1;33m,\u001b[0m \u001b[0mt\u001b[0m\u001b[1;33m,\u001b[0m \u001b[0mA\u001b[0m\u001b[1;33m,\u001b[0m \u001b[0mB\u001b[0m\u001b[1;33m:\u001b[0m\u001b[0;31m\\\u001b[0m\u001b[1;33m\u001b[0m\u001b[0m\n\u001b[0;32m    153\u001b[0m                  A *  _KH_evolution(y, t, halo_gas_density, galaxy_velocity,\n\u001b[1;32m--> 154\u001b[1;33m                                                  galaxy_gas_density,physics_kwargs['KH'])+\\\n\u001b[0m\u001b[0;32m    155\u001b[0m                  B * _RPS_evolution(y, t, halo_gas_density, galaxy_velocity,\n\u001b[0;32m    156\u001b[0m                                            galaxy_gas_density, galaxy_gas_density(0.0),physics_kwargs['RPS'])\n",
      "\u001b[1;31mTypeError\u001b[0m: _KH_evolution() takes exactly 5 arguments (6 given)"
     ]
    },
    {
     "ename": "TypeError",
     "evalue": "_KH_evolution() takes exactly 5 arguments (6 given)",
     "output_type": "error",
     "traceback": [
      "\u001b[1;31m---------------------------------------------------------------------------\u001b[0m",
      "\u001b[1;31mTypeError\u001b[0m                                 Traceback (most recent call last)",
      "\u001b[1;32m/home/emerick/Research/dwarfs/analysis/analytic_model/dwarf_model.py\u001b[0m in \u001b[0;36m<lambda>\u001b[1;34m(y, t, A, B)\u001b[0m\n\u001b[0;32m    152\u001b[0m     \u001b[0mode_function\u001b[0m \u001b[1;33m=\u001b[0m \u001b[1;32mlambda\u001b[0m \u001b[0my\u001b[0m\u001b[1;33m,\u001b[0m \u001b[0mt\u001b[0m\u001b[1;33m,\u001b[0m \u001b[0mA\u001b[0m\u001b[1;33m,\u001b[0m \u001b[0mB\u001b[0m\u001b[1;33m:\u001b[0m\u001b[0;31m\\\u001b[0m\u001b[1;33m\u001b[0m\u001b[0m\n\u001b[0;32m    153\u001b[0m                  A *  _KH_evolution(y, t, halo_gas_density, galaxy_velocity,\n\u001b[1;32m--> 154\u001b[1;33m                                                  galaxy_gas_density,physics_kwargs['KH'])+\\\n\u001b[0m\u001b[0;32m    155\u001b[0m                  B * _RPS_evolution(y, t, halo_gas_density, galaxy_velocity,\n\u001b[0;32m    156\u001b[0m                                            galaxy_gas_density, galaxy_gas_density(0.0),physics_kwargs['RPS'])\n",
      "\u001b[1;31mTypeError\u001b[0m: _KH_evolution() takes exactly 5 arguments (6 given)"
     ]
    },
    {
     "ename": "TypeError",
     "evalue": "_KH_evolution() takes exactly 5 arguments (6 given)",
     "output_type": "error",
     "traceback": [
      "\u001b[1;31m---------------------------------------------------------------------------\u001b[0m",
      "\u001b[1;31mTypeError\u001b[0m                                 Traceback (most recent call last)",
      "\u001b[1;32m/home/emerick/Research/dwarfs/analysis/analytic_model/dwarf_model.py\u001b[0m in \u001b[0;36m<lambda>\u001b[1;34m(y, t, A, B)\u001b[0m\n\u001b[0;32m    152\u001b[0m     \u001b[0mode_function\u001b[0m \u001b[1;33m=\u001b[0m \u001b[1;32mlambda\u001b[0m \u001b[0my\u001b[0m\u001b[1;33m,\u001b[0m \u001b[0mt\u001b[0m\u001b[1;33m,\u001b[0m \u001b[0mA\u001b[0m\u001b[1;33m,\u001b[0m \u001b[0mB\u001b[0m\u001b[1;33m:\u001b[0m\u001b[0;31m\\\u001b[0m\u001b[1;33m\u001b[0m\u001b[0m\n\u001b[0;32m    153\u001b[0m                  A *  _KH_evolution(y, t, halo_gas_density, galaxy_velocity,\n\u001b[1;32m--> 154\u001b[1;33m                                                  galaxy_gas_density,physics_kwargs['KH'])+\\\n\u001b[0m\u001b[0;32m    155\u001b[0m                  B * _RPS_evolution(y, t, halo_gas_density, galaxy_velocity,\n\u001b[0;32m    156\u001b[0m                                            galaxy_gas_density, galaxy_gas_density(0.0),physics_kwargs['RPS'])\n",
      "\u001b[1;31mTypeError\u001b[0m: _KH_evolution() takes exactly 5 arguments (6 given)"
     ]
    },
    {
     "ename": "TypeError",
     "evalue": "_KH_evolution() takes exactly 5 arguments (6 given)",
     "output_type": "error",
     "traceback": [
      "\u001b[1;31m---------------------------------------------------------------------------\u001b[0m",
      "\u001b[1;31mTypeError\u001b[0m                                 Traceback (most recent call last)",
      "\u001b[1;32m/home/emerick/Research/dwarfs/analysis/analytic_model/dwarf_model.py\u001b[0m in \u001b[0;36m<lambda>\u001b[1;34m(y, t, A, B)\u001b[0m\n\u001b[0;32m    152\u001b[0m     \u001b[0mode_function\u001b[0m \u001b[1;33m=\u001b[0m \u001b[1;32mlambda\u001b[0m \u001b[0my\u001b[0m\u001b[1;33m,\u001b[0m \u001b[0mt\u001b[0m\u001b[1;33m,\u001b[0m \u001b[0mA\u001b[0m\u001b[1;33m,\u001b[0m \u001b[0mB\u001b[0m\u001b[1;33m:\u001b[0m\u001b[0;31m\\\u001b[0m\u001b[1;33m\u001b[0m\u001b[0m\n\u001b[0;32m    153\u001b[0m                  A *  _KH_evolution(y, t, halo_gas_density, galaxy_velocity,\n\u001b[1;32m--> 154\u001b[1;33m                                                  galaxy_gas_density,physics_kwargs['KH'])+\\\n\u001b[0m\u001b[0;32m    155\u001b[0m                  B * _RPS_evolution(y, t, halo_gas_density, galaxy_velocity,\n\u001b[0;32m    156\u001b[0m                                            galaxy_gas_density, galaxy_gas_density(0.0),physics_kwargs['RPS'])\n",
      "\u001b[1;31mTypeError\u001b[0m: _KH_evolution() takes exactly 5 arguments (6 given)"
     ]
    },
    {
     "ename": "TypeError",
     "evalue": "_KH_evolution() takes exactly 5 arguments (6 given)",
     "output_type": "error",
     "traceback": [
      "\u001b[1;31m---------------------------------------------------------------------------\u001b[0m",
      "\u001b[1;31mTypeError\u001b[0m                                 Traceback (most recent call last)",
      "\u001b[1;32m/home/emerick/Research/dwarfs/analysis/analytic_model/dwarf_model.py\u001b[0m in \u001b[0;36m<lambda>\u001b[1;34m(y, t, A, B)\u001b[0m\n\u001b[0;32m    152\u001b[0m     \u001b[0mode_function\u001b[0m \u001b[1;33m=\u001b[0m \u001b[1;32mlambda\u001b[0m \u001b[0my\u001b[0m\u001b[1;33m,\u001b[0m \u001b[0mt\u001b[0m\u001b[1;33m,\u001b[0m \u001b[0mA\u001b[0m\u001b[1;33m,\u001b[0m \u001b[0mB\u001b[0m\u001b[1;33m:\u001b[0m\u001b[0;31m\\\u001b[0m\u001b[1;33m\u001b[0m\u001b[0m\n\u001b[0;32m    153\u001b[0m                  A *  _KH_evolution(y, t, halo_gas_density, galaxy_velocity,\n\u001b[1;32m--> 154\u001b[1;33m                                                  galaxy_gas_density,physics_kwargs['KH'])+\\\n\u001b[0m\u001b[0;32m    155\u001b[0m                  B * _RPS_evolution(y, t, halo_gas_density, galaxy_velocity,\n\u001b[0;32m    156\u001b[0m                                            galaxy_gas_density, galaxy_gas_density(0.0),physics_kwargs['RPS'])\n",
      "\u001b[1;31mTypeError\u001b[0m: _KH_evolution() takes exactly 5 arguments (6 given)"
     ]
    },
    {
     "ename": "TypeError",
     "evalue": "_KH_evolution() takes exactly 5 arguments (6 given)",
     "output_type": "error",
     "traceback": [
      "\u001b[1;31m---------------------------------------------------------------------------\u001b[0m",
      "\u001b[1;31mTypeError\u001b[0m                                 Traceback (most recent call last)",
      "\u001b[1;32m/home/emerick/Research/dwarfs/analysis/analytic_model/dwarf_model.py\u001b[0m in \u001b[0;36m<lambda>\u001b[1;34m(y, t, A, B)\u001b[0m\n\u001b[0;32m    152\u001b[0m     \u001b[0mode_function\u001b[0m \u001b[1;33m=\u001b[0m \u001b[1;32mlambda\u001b[0m \u001b[0my\u001b[0m\u001b[1;33m,\u001b[0m \u001b[0mt\u001b[0m\u001b[1;33m,\u001b[0m \u001b[0mA\u001b[0m\u001b[1;33m,\u001b[0m \u001b[0mB\u001b[0m\u001b[1;33m:\u001b[0m\u001b[0;31m\\\u001b[0m\u001b[1;33m\u001b[0m\u001b[0m\n\u001b[0;32m    153\u001b[0m                  A *  _KH_evolution(y, t, halo_gas_density, galaxy_velocity,\n\u001b[1;32m--> 154\u001b[1;33m                                                  galaxy_gas_density,physics_kwargs['KH'])+\\\n\u001b[0m\u001b[0;32m    155\u001b[0m                  B * _RPS_evolution(y, t, halo_gas_density, galaxy_velocity,\n\u001b[0;32m    156\u001b[0m                                            galaxy_gas_density, galaxy_gas_density(0.0),physics_kwargs['RPS'])\n",
      "\u001b[1;31mTypeError\u001b[0m: _KH_evolution() takes exactly 5 arguments (6 given)"
     ]
    },
    {
     "ename": "TypeError",
     "evalue": "_KH_evolution() takes exactly 5 arguments (6 given)",
     "output_type": "error",
     "traceback": [
      "\u001b[1;31m---------------------------------------------------------------------------\u001b[0m",
      "\u001b[1;31mTypeError\u001b[0m                                 Traceback (most recent call last)",
      "\u001b[1;32m/home/emerick/Research/dwarfs/analysis/analytic_model/dwarf_model.py\u001b[0m in \u001b[0;36m<lambda>\u001b[1;34m(y, t, A, B)\u001b[0m\n\u001b[0;32m    152\u001b[0m     \u001b[0mode_function\u001b[0m \u001b[1;33m=\u001b[0m \u001b[1;32mlambda\u001b[0m \u001b[0my\u001b[0m\u001b[1;33m,\u001b[0m \u001b[0mt\u001b[0m\u001b[1;33m,\u001b[0m \u001b[0mA\u001b[0m\u001b[1;33m,\u001b[0m \u001b[0mB\u001b[0m\u001b[1;33m:\u001b[0m\u001b[0;31m\\\u001b[0m\u001b[1;33m\u001b[0m\u001b[0m\n\u001b[0;32m    153\u001b[0m                  A *  _KH_evolution(y, t, halo_gas_density, galaxy_velocity,\n\u001b[1;32m--> 154\u001b[1;33m                                                  galaxy_gas_density,physics_kwargs['KH'])+\\\n\u001b[0m\u001b[0;32m    155\u001b[0m                  B * _RPS_evolution(y, t, halo_gas_density, galaxy_velocity,\n\u001b[0;32m    156\u001b[0m                                            galaxy_gas_density, galaxy_gas_density(0.0),physics_kwargs['RPS'])\n",
      "\u001b[1;31mTypeError\u001b[0m: _KH_evolution() takes exactly 5 arguments (6 given)"
     ]
    },
    {
     "ename": "TypeError",
     "evalue": "_KH_evolution() takes exactly 5 arguments (6 given)",
     "output_type": "error",
     "traceback": [
      "\u001b[1;31m---------------------------------------------------------------------------\u001b[0m",
      "\u001b[1;31mTypeError\u001b[0m                                 Traceback (most recent call last)",
      "\u001b[1;32m/home/emerick/Research/dwarfs/analysis/analytic_model/dwarf_model.py\u001b[0m in \u001b[0;36m<lambda>\u001b[1;34m(y, t, A, B)\u001b[0m\n\u001b[0;32m    152\u001b[0m     \u001b[0mode_function\u001b[0m \u001b[1;33m=\u001b[0m \u001b[1;32mlambda\u001b[0m \u001b[0my\u001b[0m\u001b[1;33m,\u001b[0m \u001b[0mt\u001b[0m\u001b[1;33m,\u001b[0m \u001b[0mA\u001b[0m\u001b[1;33m,\u001b[0m \u001b[0mB\u001b[0m\u001b[1;33m:\u001b[0m\u001b[0;31m\\\u001b[0m\u001b[1;33m\u001b[0m\u001b[0m\n\u001b[0;32m    153\u001b[0m                  A *  _KH_evolution(y, t, halo_gas_density, galaxy_velocity,\n\u001b[1;32m--> 154\u001b[1;33m                                                  galaxy_gas_density,physics_kwargs['KH'])+\\\n\u001b[0m\u001b[0;32m    155\u001b[0m                  B * _RPS_evolution(y, t, halo_gas_density, galaxy_velocity,\n\u001b[0;32m    156\u001b[0m                                            galaxy_gas_density, galaxy_gas_density(0.0),physics_kwargs['RPS'])\n",
      "\u001b[1;31mTypeError\u001b[0m: _KH_evolution() takes exactly 5 arguments (6 given)"
     ]
    },
    {
     "ename": "TypeError",
     "evalue": "_KH_evolution() takes exactly 5 arguments (6 given)",
     "output_type": "error",
     "traceback": [
      "\u001b[1;31m---------------------------------------------------------------------------\u001b[0m",
      "\u001b[1;31mTypeError\u001b[0m                                 Traceback (most recent call last)",
      "\u001b[1;32m/home/emerick/Research/dwarfs/analysis/analytic_model/dwarf_model.py\u001b[0m in \u001b[0;36m<lambda>\u001b[1;34m(y, t, A, B)\u001b[0m\n\u001b[0;32m    152\u001b[0m     \u001b[0mode_function\u001b[0m \u001b[1;33m=\u001b[0m \u001b[1;32mlambda\u001b[0m \u001b[0my\u001b[0m\u001b[1;33m,\u001b[0m \u001b[0mt\u001b[0m\u001b[1;33m,\u001b[0m \u001b[0mA\u001b[0m\u001b[1;33m,\u001b[0m \u001b[0mB\u001b[0m\u001b[1;33m:\u001b[0m\u001b[0;31m\\\u001b[0m\u001b[1;33m\u001b[0m\u001b[0m\n\u001b[0;32m    153\u001b[0m                  A *  _KH_evolution(y, t, halo_gas_density, galaxy_velocity,\n\u001b[1;32m--> 154\u001b[1;33m                                                  galaxy_gas_density,physics_kwargs['KH'])+\\\n\u001b[0m\u001b[0;32m    155\u001b[0m                  B * _RPS_evolution(y, t, halo_gas_density, galaxy_velocity,\n\u001b[0;32m    156\u001b[0m                                            galaxy_gas_density, galaxy_gas_density(0.0),physics_kwargs['RPS'])\n",
      "\u001b[1;31mTypeError\u001b[0m: _KH_evolution() takes exactly 5 arguments (6 given)"
     ]
    },
    {
     "ename": "TypeError",
     "evalue": "_KH_evolution() takes exactly 5 arguments (6 given)",
     "output_type": "error",
     "traceback": [
      "\u001b[1;31m---------------------------------------------------------------------------\u001b[0m",
      "\u001b[1;31mTypeError\u001b[0m                                 Traceback (most recent call last)",
      "\u001b[1;32m/home/emerick/Research/dwarfs/analysis/analytic_model/dwarf_model.py\u001b[0m in \u001b[0;36m<lambda>\u001b[1;34m(y, t, A, B)\u001b[0m\n\u001b[0;32m    152\u001b[0m     \u001b[0mode_function\u001b[0m \u001b[1;33m=\u001b[0m \u001b[1;32mlambda\u001b[0m \u001b[0my\u001b[0m\u001b[1;33m,\u001b[0m \u001b[0mt\u001b[0m\u001b[1;33m,\u001b[0m \u001b[0mA\u001b[0m\u001b[1;33m,\u001b[0m \u001b[0mB\u001b[0m\u001b[1;33m:\u001b[0m\u001b[0;31m\\\u001b[0m\u001b[1;33m\u001b[0m\u001b[0m\n\u001b[0;32m    153\u001b[0m                  A *  _KH_evolution(y, t, halo_gas_density, galaxy_velocity,\n\u001b[1;32m--> 154\u001b[1;33m                                                  galaxy_gas_density,physics_kwargs['KH'])+\\\n\u001b[0m\u001b[0;32m    155\u001b[0m                  B * _RPS_evolution(y, t, halo_gas_density, galaxy_velocity,\n\u001b[0;32m    156\u001b[0m                                            galaxy_gas_density, galaxy_gas_density(0.0),physics_kwargs['RPS'])\n",
      "\u001b[1;31mTypeError\u001b[0m: _KH_evolution() takes exactly 5 arguments (6 given)"
     ]
    },
    {
     "ename": "TypeError",
     "evalue": "_KH_evolution() takes exactly 5 arguments (6 given)",
     "output_type": "error",
     "traceback": [
      "\u001b[1;31m---------------------------------------------------------------------------\u001b[0m",
      "\u001b[1;31mTypeError\u001b[0m                                 Traceback (most recent call last)",
      "\u001b[1;32m/home/emerick/Research/dwarfs/analysis/analytic_model/dwarf_model.py\u001b[0m in \u001b[0;36m<lambda>\u001b[1;34m(y, t, A, B)\u001b[0m\n\u001b[0;32m    152\u001b[0m     \u001b[0mode_function\u001b[0m \u001b[1;33m=\u001b[0m \u001b[1;32mlambda\u001b[0m \u001b[0my\u001b[0m\u001b[1;33m,\u001b[0m \u001b[0mt\u001b[0m\u001b[1;33m,\u001b[0m \u001b[0mA\u001b[0m\u001b[1;33m,\u001b[0m \u001b[0mB\u001b[0m\u001b[1;33m:\u001b[0m\u001b[0;31m\\\u001b[0m\u001b[1;33m\u001b[0m\u001b[0m\n\u001b[0;32m    153\u001b[0m                  A *  _KH_evolution(y, t, halo_gas_density, galaxy_velocity,\n\u001b[1;32m--> 154\u001b[1;33m                                                  galaxy_gas_density,physics_kwargs['KH'])+\\\n\u001b[0m\u001b[0;32m    155\u001b[0m                  B * _RPS_evolution(y, t, halo_gas_density, galaxy_velocity,\n\u001b[0;32m    156\u001b[0m                                            galaxy_gas_density, galaxy_gas_density(0.0),physics_kwargs['RPS'])\n",
      "\u001b[1;31mTypeError\u001b[0m: _KH_evolution() takes exactly 5 arguments (6 given)"
     ]
    },
    {
     "ename": "TypeError",
     "evalue": "_KH_evolution() takes exactly 5 arguments (6 given)",
     "output_type": "error",
     "traceback": [
      "\u001b[1;31m---------------------------------------------------------------------------\u001b[0m",
      "\u001b[1;31mTypeError\u001b[0m                                 Traceback (most recent call last)",
      "\u001b[1;32m/home/emerick/Research/dwarfs/analysis/analytic_model/dwarf_model.py\u001b[0m in \u001b[0;36m<lambda>\u001b[1;34m(y, t, A, B)\u001b[0m\n\u001b[0;32m    152\u001b[0m     \u001b[0mode_function\u001b[0m \u001b[1;33m=\u001b[0m \u001b[1;32mlambda\u001b[0m \u001b[0my\u001b[0m\u001b[1;33m,\u001b[0m \u001b[0mt\u001b[0m\u001b[1;33m,\u001b[0m \u001b[0mA\u001b[0m\u001b[1;33m,\u001b[0m \u001b[0mB\u001b[0m\u001b[1;33m:\u001b[0m\u001b[0;31m\\\u001b[0m\u001b[1;33m\u001b[0m\u001b[0m\n\u001b[0;32m    153\u001b[0m                  A *  _KH_evolution(y, t, halo_gas_density, galaxy_velocity,\n\u001b[1;32m--> 154\u001b[1;33m                                                  galaxy_gas_density,physics_kwargs['KH'])+\\\n\u001b[0m\u001b[0;32m    155\u001b[0m                  B * _RPS_evolution(y, t, halo_gas_density, galaxy_velocity,\n\u001b[0;32m    156\u001b[0m                                            galaxy_gas_density, galaxy_gas_density(0.0),physics_kwargs['RPS'])\n",
      "\u001b[1;31mTypeError\u001b[0m: _KH_evolution() takes exactly 5 arguments (6 given)"
     ]
    },
    {
     "ename": "TypeError",
     "evalue": "_KH_evolution() takes exactly 5 arguments (6 given)",
     "output_type": "error",
     "traceback": [
      "\u001b[1;31m---------------------------------------------------------------------------\u001b[0m",
      "\u001b[1;31mTypeError\u001b[0m                                 Traceback (most recent call last)",
      "\u001b[1;32m/home/emerick/Research/dwarfs/analysis/analytic_model/dwarf_model.py\u001b[0m in \u001b[0;36m<lambda>\u001b[1;34m(y, t, A, B)\u001b[0m\n\u001b[0;32m    152\u001b[0m     \u001b[0mode_function\u001b[0m \u001b[1;33m=\u001b[0m \u001b[1;32mlambda\u001b[0m \u001b[0my\u001b[0m\u001b[1;33m,\u001b[0m \u001b[0mt\u001b[0m\u001b[1;33m,\u001b[0m \u001b[0mA\u001b[0m\u001b[1;33m,\u001b[0m \u001b[0mB\u001b[0m\u001b[1;33m:\u001b[0m\u001b[0;31m\\\u001b[0m\u001b[1;33m\u001b[0m\u001b[0m\n\u001b[0;32m    153\u001b[0m                  A *  _KH_evolution(y, t, halo_gas_density, galaxy_velocity,\n\u001b[1;32m--> 154\u001b[1;33m                                                  galaxy_gas_density,physics_kwargs['KH'])+\\\n\u001b[0m\u001b[0;32m    155\u001b[0m                  B * _RPS_evolution(y, t, halo_gas_density, galaxy_velocity,\n\u001b[0;32m    156\u001b[0m                                            galaxy_gas_density, galaxy_gas_density(0.0),physics_kwargs['RPS'])\n",
      "\u001b[1;31mTypeError\u001b[0m: _KH_evolution() takes exactly 5 arguments (6 given)"
     ]
    },
    {
     "ename": "TypeError",
     "evalue": "_KH_evolution() takes exactly 5 arguments (6 given)",
     "output_type": "error",
     "traceback": [
      "\u001b[1;31m---------------------------------------------------------------------------\u001b[0m",
      "\u001b[1;31mTypeError\u001b[0m                                 Traceback (most recent call last)",
      "\u001b[1;32m/home/emerick/Research/dwarfs/analysis/analytic_model/dwarf_model.py\u001b[0m in \u001b[0;36m<lambda>\u001b[1;34m(y, t, A, B)\u001b[0m\n\u001b[0;32m    152\u001b[0m     \u001b[0mode_function\u001b[0m \u001b[1;33m=\u001b[0m \u001b[1;32mlambda\u001b[0m \u001b[0my\u001b[0m\u001b[1;33m,\u001b[0m \u001b[0mt\u001b[0m\u001b[1;33m,\u001b[0m \u001b[0mA\u001b[0m\u001b[1;33m,\u001b[0m \u001b[0mB\u001b[0m\u001b[1;33m:\u001b[0m\u001b[0;31m\\\u001b[0m\u001b[1;33m\u001b[0m\u001b[0m\n\u001b[0;32m    153\u001b[0m                  A *  _KH_evolution(y, t, halo_gas_density, galaxy_velocity,\n\u001b[1;32m--> 154\u001b[1;33m                                                  galaxy_gas_density,physics_kwargs['KH'])+\\\n\u001b[0m\u001b[0;32m    155\u001b[0m                  B * _RPS_evolution(y, t, halo_gas_density, galaxy_velocity,\n\u001b[0;32m    156\u001b[0m                                            galaxy_gas_density, galaxy_gas_density(0.0),physics_kwargs['RPS'])\n",
      "\u001b[1;31mTypeError\u001b[0m: _KH_evolution() takes exactly 5 arguments (6 given)"
     ]
    },
    {
     "ename": "TypeError",
     "evalue": "_KH_evolution() takes exactly 5 arguments (6 given)",
     "output_type": "error",
     "traceback": [
      "\u001b[1;31m---------------------------------------------------------------------------\u001b[0m",
      "\u001b[1;31mTypeError\u001b[0m                                 Traceback (most recent call last)",
      "\u001b[1;32m/home/emerick/Research/dwarfs/analysis/analytic_model/dwarf_model.py\u001b[0m in \u001b[0;36m<lambda>\u001b[1;34m(y, t, A, B)\u001b[0m\n\u001b[0;32m    152\u001b[0m     \u001b[0mode_function\u001b[0m \u001b[1;33m=\u001b[0m \u001b[1;32mlambda\u001b[0m \u001b[0my\u001b[0m\u001b[1;33m,\u001b[0m \u001b[0mt\u001b[0m\u001b[1;33m,\u001b[0m \u001b[0mA\u001b[0m\u001b[1;33m,\u001b[0m \u001b[0mB\u001b[0m\u001b[1;33m:\u001b[0m\u001b[0;31m\\\u001b[0m\u001b[1;33m\u001b[0m\u001b[0m\n\u001b[0;32m    153\u001b[0m                  A *  _KH_evolution(y, t, halo_gas_density, galaxy_velocity,\n\u001b[1;32m--> 154\u001b[1;33m                                                  galaxy_gas_density,physics_kwargs['KH'])+\\\n\u001b[0m\u001b[0;32m    155\u001b[0m                  B * _RPS_evolution(y, t, halo_gas_density, galaxy_velocity,\n\u001b[0;32m    156\u001b[0m                                            galaxy_gas_density, galaxy_gas_density(0.0),physics_kwargs['RPS'])\n",
      "\u001b[1;31mTypeError\u001b[0m: _KH_evolution() takes exactly 5 arguments (6 given)"
     ]
    },
    {
     "ename": "TypeError",
     "evalue": "_KH_evolution() takes exactly 5 arguments (6 given)",
     "output_type": "error",
     "traceback": [
      "\u001b[1;31m---------------------------------------------------------------------------\u001b[0m",
      "\u001b[1;31mTypeError\u001b[0m                                 Traceback (most recent call last)",
      "\u001b[1;32m/home/emerick/Research/dwarfs/analysis/analytic_model/dwarf_model.py\u001b[0m in \u001b[0;36m<lambda>\u001b[1;34m(y, t, A, B)\u001b[0m\n\u001b[0;32m    152\u001b[0m     \u001b[0mode_function\u001b[0m \u001b[1;33m=\u001b[0m \u001b[1;32mlambda\u001b[0m \u001b[0my\u001b[0m\u001b[1;33m,\u001b[0m \u001b[0mt\u001b[0m\u001b[1;33m,\u001b[0m \u001b[0mA\u001b[0m\u001b[1;33m,\u001b[0m \u001b[0mB\u001b[0m\u001b[1;33m:\u001b[0m\u001b[0;31m\\\u001b[0m\u001b[1;33m\u001b[0m\u001b[0m\n\u001b[0;32m    153\u001b[0m                  A *  _KH_evolution(y, t, halo_gas_density, galaxy_velocity,\n\u001b[1;32m--> 154\u001b[1;33m                                                  galaxy_gas_density,physics_kwargs['KH'])+\\\n\u001b[0m\u001b[0;32m    155\u001b[0m                  B * _RPS_evolution(y, t, halo_gas_density, galaxy_velocity,\n\u001b[0;32m    156\u001b[0m                                            galaxy_gas_density, galaxy_gas_density(0.0),physics_kwargs['RPS'])\n",
      "\u001b[1;31mTypeError\u001b[0m: _KH_evolution() takes exactly 5 arguments (6 given)"
     ]
    },
    {
     "ename": "TypeError",
     "evalue": "_KH_evolution() takes exactly 5 arguments (6 given)",
     "output_type": "error",
     "traceback": [
      "\u001b[1;31m---------------------------------------------------------------------------\u001b[0m",
      "\u001b[1;31mTypeError\u001b[0m                                 Traceback (most recent call last)",
      "\u001b[1;32m/home/emerick/Research/dwarfs/analysis/analytic_model/dwarf_model.py\u001b[0m in \u001b[0;36m<lambda>\u001b[1;34m(y, t, A, B)\u001b[0m\n\u001b[0;32m    152\u001b[0m     \u001b[0mode_function\u001b[0m \u001b[1;33m=\u001b[0m \u001b[1;32mlambda\u001b[0m \u001b[0my\u001b[0m\u001b[1;33m,\u001b[0m \u001b[0mt\u001b[0m\u001b[1;33m,\u001b[0m \u001b[0mA\u001b[0m\u001b[1;33m,\u001b[0m \u001b[0mB\u001b[0m\u001b[1;33m:\u001b[0m\u001b[0;31m\\\u001b[0m\u001b[1;33m\u001b[0m\u001b[0m\n\u001b[0;32m    153\u001b[0m                  A *  _KH_evolution(y, t, halo_gas_density, galaxy_velocity,\n\u001b[1;32m--> 154\u001b[1;33m                                                  galaxy_gas_density,physics_kwargs['KH'])+\\\n\u001b[0m\u001b[0;32m    155\u001b[0m                  B * _RPS_evolution(y, t, halo_gas_density, galaxy_velocity,\n\u001b[0;32m    156\u001b[0m                                            galaxy_gas_density, galaxy_gas_density(0.0),physics_kwargs['RPS'])\n",
      "\u001b[1;31mTypeError\u001b[0m: _KH_evolution() takes exactly 5 arguments (6 given)"
     ]
    },
    {
     "ename": "TypeError",
     "evalue": "_KH_evolution() takes exactly 5 arguments (6 given)",
     "output_type": "error",
     "traceback": [
      "\u001b[1;31m---------------------------------------------------------------------------\u001b[0m",
      "\u001b[1;31mTypeError\u001b[0m                                 Traceback (most recent call last)",
      "\u001b[1;32m/home/emerick/Research/dwarfs/analysis/analytic_model/dwarf_model.py\u001b[0m in \u001b[0;36m<lambda>\u001b[1;34m(y, t, A, B)\u001b[0m\n\u001b[0;32m    152\u001b[0m     \u001b[0mode_function\u001b[0m \u001b[1;33m=\u001b[0m \u001b[1;32mlambda\u001b[0m \u001b[0my\u001b[0m\u001b[1;33m,\u001b[0m \u001b[0mt\u001b[0m\u001b[1;33m,\u001b[0m \u001b[0mA\u001b[0m\u001b[1;33m,\u001b[0m \u001b[0mB\u001b[0m\u001b[1;33m:\u001b[0m\u001b[0;31m\\\u001b[0m\u001b[1;33m\u001b[0m\u001b[0m\n\u001b[0;32m    153\u001b[0m                  A *  _KH_evolution(y, t, halo_gas_density, galaxy_velocity,\n\u001b[1;32m--> 154\u001b[1;33m                                                  galaxy_gas_density,physics_kwargs['KH'])+\\\n\u001b[0m\u001b[0;32m    155\u001b[0m                  B * _RPS_evolution(y, t, halo_gas_density, galaxy_velocity,\n\u001b[0;32m    156\u001b[0m                                            galaxy_gas_density, galaxy_gas_density(0.0),physics_kwargs['RPS'])\n",
      "\u001b[1;31mTypeError\u001b[0m: _KH_evolution() takes exactly 5 arguments (6 given)"
     ]
    },
    {
     "ename": "TypeError",
     "evalue": "_KH_evolution() takes exactly 5 arguments (6 given)",
     "output_type": "error",
     "traceback": [
      "\u001b[1;31m---------------------------------------------------------------------------\u001b[0m",
      "\u001b[1;31mTypeError\u001b[0m                                 Traceback (most recent call last)",
      "\u001b[1;32m/home/emerick/Research/dwarfs/analysis/analytic_model/dwarf_model.py\u001b[0m in \u001b[0;36m<lambda>\u001b[1;34m(y, t, A, B)\u001b[0m\n\u001b[0;32m    152\u001b[0m     \u001b[0mode_function\u001b[0m \u001b[1;33m=\u001b[0m \u001b[1;32mlambda\u001b[0m \u001b[0my\u001b[0m\u001b[1;33m,\u001b[0m \u001b[0mt\u001b[0m\u001b[1;33m,\u001b[0m \u001b[0mA\u001b[0m\u001b[1;33m,\u001b[0m \u001b[0mB\u001b[0m\u001b[1;33m:\u001b[0m\u001b[0;31m\\\u001b[0m\u001b[1;33m\u001b[0m\u001b[0m\n\u001b[0;32m    153\u001b[0m                  A *  _KH_evolution(y, t, halo_gas_density, galaxy_velocity,\n\u001b[1;32m--> 154\u001b[1;33m                                                  galaxy_gas_density,physics_kwargs['KH'])+\\\n\u001b[0m\u001b[0;32m    155\u001b[0m                  B * _RPS_evolution(y, t, halo_gas_density, galaxy_velocity,\n\u001b[0;32m    156\u001b[0m                                            galaxy_gas_density, galaxy_gas_density(0.0),physics_kwargs['RPS'])\n",
      "\u001b[1;31mTypeError\u001b[0m: _KH_evolution() takes exactly 5 arguments (6 given)"
     ]
    },
    {
     "ename": "TypeError",
     "evalue": "_KH_evolution() takes exactly 5 arguments (6 given)",
     "output_type": "error",
     "traceback": [
      "\u001b[1;31m---------------------------------------------------------------------------\u001b[0m",
      "\u001b[1;31mTypeError\u001b[0m                                 Traceback (most recent call last)",
      "\u001b[1;32m/home/emerick/Research/dwarfs/analysis/analytic_model/dwarf_model.py\u001b[0m in \u001b[0;36m<lambda>\u001b[1;34m(y, t, A, B)\u001b[0m\n\u001b[0;32m    152\u001b[0m     \u001b[0mode_function\u001b[0m \u001b[1;33m=\u001b[0m \u001b[1;32mlambda\u001b[0m \u001b[0my\u001b[0m\u001b[1;33m,\u001b[0m \u001b[0mt\u001b[0m\u001b[1;33m,\u001b[0m \u001b[0mA\u001b[0m\u001b[1;33m,\u001b[0m \u001b[0mB\u001b[0m\u001b[1;33m:\u001b[0m\u001b[0;31m\\\u001b[0m\u001b[1;33m\u001b[0m\u001b[0m\n\u001b[0;32m    153\u001b[0m                  A *  _KH_evolution(y, t, halo_gas_density, galaxy_velocity,\n\u001b[1;32m--> 154\u001b[1;33m                                                  galaxy_gas_density,physics_kwargs['KH'])+\\\n\u001b[0m\u001b[0;32m    155\u001b[0m                  B * _RPS_evolution(y, t, halo_gas_density, galaxy_velocity,\n\u001b[0;32m    156\u001b[0m                                            galaxy_gas_density, galaxy_gas_density(0.0),physics_kwargs['RPS'])\n",
      "\u001b[1;31mTypeError\u001b[0m: _KH_evolution() takes exactly 5 arguments (6 given)"
     ]
    },
    {
     "ename": "TypeError",
     "evalue": "_KH_evolution() takes exactly 5 arguments (6 given)",
     "output_type": "error",
     "traceback": [
      "\u001b[1;31m---------------------------------------------------------------------------\u001b[0m",
      "\u001b[1;31mTypeError\u001b[0m                                 Traceback (most recent call last)",
      "\u001b[1;32m/home/emerick/Research/dwarfs/analysis/analytic_model/dwarf_model.py\u001b[0m in \u001b[0;36m<lambda>\u001b[1;34m(y, t, A, B)\u001b[0m\n\u001b[0;32m    152\u001b[0m     \u001b[0mode_function\u001b[0m \u001b[1;33m=\u001b[0m \u001b[1;32mlambda\u001b[0m \u001b[0my\u001b[0m\u001b[1;33m,\u001b[0m \u001b[0mt\u001b[0m\u001b[1;33m,\u001b[0m \u001b[0mA\u001b[0m\u001b[1;33m,\u001b[0m \u001b[0mB\u001b[0m\u001b[1;33m:\u001b[0m\u001b[0;31m\\\u001b[0m\u001b[1;33m\u001b[0m\u001b[0m\n\u001b[0;32m    153\u001b[0m                  A *  _KH_evolution(y, t, halo_gas_density, galaxy_velocity,\n\u001b[1;32m--> 154\u001b[1;33m                                                  galaxy_gas_density,physics_kwargs['KH'])+\\\n\u001b[0m\u001b[0;32m    155\u001b[0m                  B * _RPS_evolution(y, t, halo_gas_density, galaxy_velocity,\n\u001b[0;32m    156\u001b[0m                                            galaxy_gas_density, galaxy_gas_density(0.0),physics_kwargs['RPS'])\n",
      "\u001b[1;31mTypeError\u001b[0m: _KH_evolution() takes exactly 5 arguments (6 given)"
     ]
    },
    {
     "ename": "TypeError",
     "evalue": "_KH_evolution() takes exactly 5 arguments (6 given)",
     "output_type": "error",
     "traceback": [
      "\u001b[1;31m---------------------------------------------------------------------------\u001b[0m",
      "\u001b[1;31mTypeError\u001b[0m                                 Traceback (most recent call last)",
      "\u001b[1;32m/home/emerick/Research/dwarfs/analysis/analytic_model/dwarf_model.py\u001b[0m in \u001b[0;36m<lambda>\u001b[1;34m(y, t, A, B)\u001b[0m\n\u001b[0;32m    152\u001b[0m     \u001b[0mode_function\u001b[0m \u001b[1;33m=\u001b[0m \u001b[1;32mlambda\u001b[0m \u001b[0my\u001b[0m\u001b[1;33m,\u001b[0m \u001b[0mt\u001b[0m\u001b[1;33m,\u001b[0m \u001b[0mA\u001b[0m\u001b[1;33m,\u001b[0m \u001b[0mB\u001b[0m\u001b[1;33m:\u001b[0m\u001b[0;31m\\\u001b[0m\u001b[1;33m\u001b[0m\u001b[0m\n\u001b[0;32m    153\u001b[0m                  A *  _KH_evolution(y, t, halo_gas_density, galaxy_velocity,\n\u001b[1;32m--> 154\u001b[1;33m                                                  galaxy_gas_density,physics_kwargs['KH'])+\\\n\u001b[0m\u001b[0;32m    155\u001b[0m                  B * _RPS_evolution(y, t, halo_gas_density, galaxy_velocity,\n\u001b[0;32m    156\u001b[0m                                            galaxy_gas_density, galaxy_gas_density(0.0),physics_kwargs['RPS'])\n",
      "\u001b[1;31mTypeError\u001b[0m: _KH_evolution() takes exactly 5 arguments (6 given)"
     ]
    },
    {
     "ename": "TypeError",
     "evalue": "_KH_evolution() takes exactly 5 arguments (6 given)",
     "output_type": "error",
     "traceback": [
      "\u001b[1;31m---------------------------------------------------------------------------\u001b[0m",
      "\u001b[1;31mTypeError\u001b[0m                                 Traceback (most recent call last)",
      "\u001b[1;32m/home/emerick/Research/dwarfs/analysis/analytic_model/dwarf_model.py\u001b[0m in \u001b[0;36m<lambda>\u001b[1;34m(y, t, A, B)\u001b[0m\n\u001b[0;32m    152\u001b[0m     \u001b[0mode_function\u001b[0m \u001b[1;33m=\u001b[0m \u001b[1;32mlambda\u001b[0m \u001b[0my\u001b[0m\u001b[1;33m,\u001b[0m \u001b[0mt\u001b[0m\u001b[1;33m,\u001b[0m \u001b[0mA\u001b[0m\u001b[1;33m,\u001b[0m \u001b[0mB\u001b[0m\u001b[1;33m:\u001b[0m\u001b[0;31m\\\u001b[0m\u001b[1;33m\u001b[0m\u001b[0m\n\u001b[0;32m    153\u001b[0m                  A *  _KH_evolution(y, t, halo_gas_density, galaxy_velocity,\n\u001b[1;32m--> 154\u001b[1;33m                                                  galaxy_gas_density,physics_kwargs['KH'])+\\\n\u001b[0m\u001b[0;32m    155\u001b[0m                  B * _RPS_evolution(y, t, halo_gas_density, galaxy_velocity,\n\u001b[0;32m    156\u001b[0m                                            galaxy_gas_density, galaxy_gas_density(0.0),physics_kwargs['RPS'])\n",
      "\u001b[1;31mTypeError\u001b[0m: _KH_evolution() takes exactly 5 arguments (6 given)"
     ]
    },
    {
     "ename": "TypeError",
     "evalue": "_KH_evolution() takes exactly 5 arguments (6 given)",
     "output_type": "error",
     "traceback": [
      "\u001b[1;31m---------------------------------------------------------------------------\u001b[0m",
      "\u001b[1;31mTypeError\u001b[0m                                 Traceback (most recent call last)",
      "\u001b[1;32m/home/emerick/Research/dwarfs/analysis/analytic_model/dwarf_model.py\u001b[0m in \u001b[0;36m<lambda>\u001b[1;34m(y, t, A, B)\u001b[0m\n\u001b[0;32m    152\u001b[0m     \u001b[0mode_function\u001b[0m \u001b[1;33m=\u001b[0m \u001b[1;32mlambda\u001b[0m \u001b[0my\u001b[0m\u001b[1;33m,\u001b[0m \u001b[0mt\u001b[0m\u001b[1;33m,\u001b[0m \u001b[0mA\u001b[0m\u001b[1;33m,\u001b[0m \u001b[0mB\u001b[0m\u001b[1;33m:\u001b[0m\u001b[0;31m\\\u001b[0m\u001b[1;33m\u001b[0m\u001b[0m\n\u001b[0;32m    153\u001b[0m                  A *  _KH_evolution(y, t, halo_gas_density, galaxy_velocity,\n\u001b[1;32m--> 154\u001b[1;33m                                                  galaxy_gas_density,physics_kwargs['KH'])+\\\n\u001b[0m\u001b[0;32m    155\u001b[0m                  B * _RPS_evolution(y, t, halo_gas_density, galaxy_velocity,\n\u001b[0;32m    156\u001b[0m                                            galaxy_gas_density, galaxy_gas_density(0.0),physics_kwargs['RPS'])\n",
      "\u001b[1;31mTypeError\u001b[0m: _KH_evolution() takes exactly 5 arguments (6 given)"
     ]
    },
    {
     "ename": "TypeError",
     "evalue": "_KH_evolution() takes exactly 5 arguments (6 given)",
     "output_type": "error",
     "traceback": [
      "\u001b[1;31m---------------------------------------------------------------------------\u001b[0m",
      "\u001b[1;31mTypeError\u001b[0m                                 Traceback (most recent call last)",
      "\u001b[1;32m/home/emerick/Research/dwarfs/analysis/analytic_model/dwarf_model.py\u001b[0m in \u001b[0;36m<lambda>\u001b[1;34m(y, t, A, B)\u001b[0m\n\u001b[0;32m    152\u001b[0m     \u001b[0mode_function\u001b[0m \u001b[1;33m=\u001b[0m \u001b[1;32mlambda\u001b[0m \u001b[0my\u001b[0m\u001b[1;33m,\u001b[0m \u001b[0mt\u001b[0m\u001b[1;33m,\u001b[0m \u001b[0mA\u001b[0m\u001b[1;33m,\u001b[0m \u001b[0mB\u001b[0m\u001b[1;33m:\u001b[0m\u001b[0;31m\\\u001b[0m\u001b[1;33m\u001b[0m\u001b[0m\n\u001b[0;32m    153\u001b[0m                  A *  _KH_evolution(y, t, halo_gas_density, galaxy_velocity,\n\u001b[1;32m--> 154\u001b[1;33m                                                  galaxy_gas_density,physics_kwargs['KH'])+\\\n\u001b[0m\u001b[0;32m    155\u001b[0m                  B * _RPS_evolution(y, t, halo_gas_density, galaxy_velocity,\n\u001b[0;32m    156\u001b[0m                                            galaxy_gas_density, galaxy_gas_density(0.0),physics_kwargs['RPS'])\n",
      "\u001b[1;31mTypeError\u001b[0m: _KH_evolution() takes exactly 5 arguments (6 given)"
     ]
    },
    {
     "ename": "TypeError",
     "evalue": "_KH_evolution() takes exactly 5 arguments (6 given)",
     "output_type": "error",
     "traceback": [
      "\u001b[1;31m---------------------------------------------------------------------------\u001b[0m",
      "\u001b[1;31mTypeError\u001b[0m                                 Traceback (most recent call last)",
      "\u001b[1;32m/home/emerick/Research/dwarfs/analysis/analytic_model/dwarf_model.py\u001b[0m in \u001b[0;36m<lambda>\u001b[1;34m(y, t, A, B)\u001b[0m\n\u001b[0;32m    152\u001b[0m     \u001b[0mode_function\u001b[0m \u001b[1;33m=\u001b[0m \u001b[1;32mlambda\u001b[0m \u001b[0my\u001b[0m\u001b[1;33m,\u001b[0m \u001b[0mt\u001b[0m\u001b[1;33m,\u001b[0m \u001b[0mA\u001b[0m\u001b[1;33m,\u001b[0m \u001b[0mB\u001b[0m\u001b[1;33m:\u001b[0m\u001b[0;31m\\\u001b[0m\u001b[1;33m\u001b[0m\u001b[0m\n\u001b[0;32m    153\u001b[0m                  A *  _KH_evolution(y, t, halo_gas_density, galaxy_velocity,\n\u001b[1;32m--> 154\u001b[1;33m                                                  galaxy_gas_density,physics_kwargs['KH'])+\\\n\u001b[0m\u001b[0;32m    155\u001b[0m                  B * _RPS_evolution(y, t, halo_gas_density, galaxy_velocity,\n\u001b[0;32m    156\u001b[0m                                            galaxy_gas_density, galaxy_gas_density(0.0),physics_kwargs['RPS'])\n",
      "\u001b[1;31mTypeError\u001b[0m: _KH_evolution() takes exactly 5 arguments (6 given)"
     ]
    },
    {
     "ename": "TypeError",
     "evalue": "_KH_evolution() takes exactly 5 arguments (6 given)",
     "output_type": "error",
     "traceback": [
      "\u001b[1;31m---------------------------------------------------------------------------\u001b[0m",
      "\u001b[1;31mTypeError\u001b[0m                                 Traceback (most recent call last)",
      "\u001b[1;32m/home/emerick/Research/dwarfs/analysis/analytic_model/dwarf_model.py\u001b[0m in \u001b[0;36m<lambda>\u001b[1;34m(y, t, A, B)\u001b[0m\n\u001b[0;32m    152\u001b[0m     \u001b[0mode_function\u001b[0m \u001b[1;33m=\u001b[0m \u001b[1;32mlambda\u001b[0m \u001b[0my\u001b[0m\u001b[1;33m,\u001b[0m \u001b[0mt\u001b[0m\u001b[1;33m,\u001b[0m \u001b[0mA\u001b[0m\u001b[1;33m,\u001b[0m \u001b[0mB\u001b[0m\u001b[1;33m:\u001b[0m\u001b[0;31m\\\u001b[0m\u001b[1;33m\u001b[0m\u001b[0m\n\u001b[0;32m    153\u001b[0m                  A *  _KH_evolution(y, t, halo_gas_density, galaxy_velocity,\n\u001b[1;32m--> 154\u001b[1;33m                                                  galaxy_gas_density,physics_kwargs['KH'])+\\\n\u001b[0m\u001b[0;32m    155\u001b[0m                  B * _RPS_evolution(y, t, halo_gas_density, galaxy_velocity,\n\u001b[0;32m    156\u001b[0m                                            galaxy_gas_density, galaxy_gas_density(0.0),physics_kwargs['RPS'])\n",
      "\u001b[1;31mTypeError\u001b[0m: _KH_evolution() takes exactly 5 arguments (6 given)"
     ]
    },
    {
     "ename": "TypeError",
     "evalue": "_KH_evolution() takes exactly 5 arguments (6 given)",
     "output_type": "error",
     "traceback": [
      "\u001b[1;31m---------------------------------------------------------------------------\u001b[0m",
      "\u001b[1;31mTypeError\u001b[0m                                 Traceback (most recent call last)",
      "\u001b[1;32m/home/emerick/Research/dwarfs/analysis/analytic_model/dwarf_model.py\u001b[0m in \u001b[0;36m<lambda>\u001b[1;34m(y, t, A, B)\u001b[0m\n\u001b[0;32m    152\u001b[0m     \u001b[0mode_function\u001b[0m \u001b[1;33m=\u001b[0m \u001b[1;32mlambda\u001b[0m \u001b[0my\u001b[0m\u001b[1;33m,\u001b[0m \u001b[0mt\u001b[0m\u001b[1;33m,\u001b[0m \u001b[0mA\u001b[0m\u001b[1;33m,\u001b[0m \u001b[0mB\u001b[0m\u001b[1;33m:\u001b[0m\u001b[0;31m\\\u001b[0m\u001b[1;33m\u001b[0m\u001b[0m\n\u001b[0;32m    153\u001b[0m                  A *  _KH_evolution(y, t, halo_gas_density, galaxy_velocity,\n\u001b[1;32m--> 154\u001b[1;33m                                                  galaxy_gas_density,physics_kwargs['KH'])+\\\n\u001b[0m\u001b[0;32m    155\u001b[0m                  B * _RPS_evolution(y, t, halo_gas_density, galaxy_velocity,\n\u001b[0;32m    156\u001b[0m                                            galaxy_gas_density, galaxy_gas_density(0.0),physics_kwargs['RPS'])\n",
      "\u001b[1;31mTypeError\u001b[0m: _KH_evolution() takes exactly 5 arguments (6 given)"
     ]
    },
    {
     "ename": "TypeError",
     "evalue": "_KH_evolution() takes exactly 5 arguments (6 given)",
     "output_type": "error",
     "traceback": [
      "\u001b[1;31m---------------------------------------------------------------------------\u001b[0m",
      "\u001b[1;31mTypeError\u001b[0m                                 Traceback (most recent call last)",
      "\u001b[1;32m/home/emerick/Research/dwarfs/analysis/analytic_model/dwarf_model.py\u001b[0m in \u001b[0;36m<lambda>\u001b[1;34m(y, t, A, B)\u001b[0m\n\u001b[0;32m    152\u001b[0m     \u001b[0mode_function\u001b[0m \u001b[1;33m=\u001b[0m \u001b[1;32mlambda\u001b[0m \u001b[0my\u001b[0m\u001b[1;33m,\u001b[0m \u001b[0mt\u001b[0m\u001b[1;33m,\u001b[0m \u001b[0mA\u001b[0m\u001b[1;33m,\u001b[0m \u001b[0mB\u001b[0m\u001b[1;33m:\u001b[0m\u001b[0;31m\\\u001b[0m\u001b[1;33m\u001b[0m\u001b[0m\n\u001b[0;32m    153\u001b[0m                  A *  _KH_evolution(y, t, halo_gas_density, galaxy_velocity,\n\u001b[1;32m--> 154\u001b[1;33m                                                  galaxy_gas_density,physics_kwargs['KH'])+\\\n\u001b[0m\u001b[0;32m    155\u001b[0m                  B * _RPS_evolution(y, t, halo_gas_density, galaxy_velocity,\n\u001b[0;32m    156\u001b[0m                                            galaxy_gas_density, galaxy_gas_density(0.0),physics_kwargs['RPS'])\n",
      "\u001b[1;31mTypeError\u001b[0m: _KH_evolution() takes exactly 5 arguments (6 given)"
     ]
    },
    {
     "ename": "TypeError",
     "evalue": "_KH_evolution() takes exactly 5 arguments (6 given)",
     "output_type": "error",
     "traceback": [
      "\u001b[1;31m---------------------------------------------------------------------------\u001b[0m",
      "\u001b[1;31mTypeError\u001b[0m                                 Traceback (most recent call last)",
      "\u001b[1;32m/home/emerick/Research/dwarfs/analysis/analytic_model/dwarf_model.py\u001b[0m in \u001b[0;36m<lambda>\u001b[1;34m(y, t, A, B)\u001b[0m\n\u001b[0;32m    152\u001b[0m     \u001b[0mode_function\u001b[0m \u001b[1;33m=\u001b[0m \u001b[1;32mlambda\u001b[0m \u001b[0my\u001b[0m\u001b[1;33m,\u001b[0m \u001b[0mt\u001b[0m\u001b[1;33m,\u001b[0m \u001b[0mA\u001b[0m\u001b[1;33m,\u001b[0m \u001b[0mB\u001b[0m\u001b[1;33m:\u001b[0m\u001b[0;31m\\\u001b[0m\u001b[1;33m\u001b[0m\u001b[0m\n\u001b[0;32m    153\u001b[0m                  A *  _KH_evolution(y, t, halo_gas_density, galaxy_velocity,\n\u001b[1;32m--> 154\u001b[1;33m                                                  galaxy_gas_density,physics_kwargs['KH'])+\\\n\u001b[0m\u001b[0;32m    155\u001b[0m                  B * _RPS_evolution(y, t, halo_gas_density, galaxy_velocity,\n\u001b[0;32m    156\u001b[0m                                            galaxy_gas_density, galaxy_gas_density(0.0),physics_kwargs['RPS'])\n",
      "\u001b[1;31mTypeError\u001b[0m: _KH_evolution() takes exactly 5 arguments (6 given)"
     ]
    },
    {
     "ename": "TypeError",
     "evalue": "_KH_evolution() takes exactly 5 arguments (6 given)",
     "output_type": "error",
     "traceback": [
      "\u001b[1;31m---------------------------------------------------------------------------\u001b[0m",
      "\u001b[1;31mTypeError\u001b[0m                                 Traceback (most recent call last)",
      "\u001b[1;32m/home/emerick/Research/dwarfs/analysis/analytic_model/dwarf_model.py\u001b[0m in \u001b[0;36m<lambda>\u001b[1;34m(y, t, A, B)\u001b[0m\n\u001b[0;32m    152\u001b[0m     \u001b[0mode_function\u001b[0m \u001b[1;33m=\u001b[0m \u001b[1;32mlambda\u001b[0m \u001b[0my\u001b[0m\u001b[1;33m,\u001b[0m \u001b[0mt\u001b[0m\u001b[1;33m,\u001b[0m \u001b[0mA\u001b[0m\u001b[1;33m,\u001b[0m \u001b[0mB\u001b[0m\u001b[1;33m:\u001b[0m\u001b[0;31m\\\u001b[0m\u001b[1;33m\u001b[0m\u001b[0m\n\u001b[0;32m    153\u001b[0m                  A *  _KH_evolution(y, t, halo_gas_density, galaxy_velocity,\n\u001b[1;32m--> 154\u001b[1;33m                                                  galaxy_gas_density,physics_kwargs['KH'])+\\\n\u001b[0m\u001b[0;32m    155\u001b[0m                  B * _RPS_evolution(y, t, halo_gas_density, galaxy_velocity,\n\u001b[0;32m    156\u001b[0m                                            galaxy_gas_density, galaxy_gas_density(0.0),physics_kwargs['RPS'])\n",
      "\u001b[1;31mTypeError\u001b[0m: _KH_evolution() takes exactly 5 arguments (6 given)"
     ]
    },
    {
     "ename": "TypeError",
     "evalue": "_KH_evolution() takes exactly 5 arguments (6 given)",
     "output_type": "error",
     "traceback": [
      "\u001b[1;31m---------------------------------------------------------------------------\u001b[0m",
      "\u001b[1;31mTypeError\u001b[0m                                 Traceback (most recent call last)",
      "\u001b[1;32m/home/emerick/Research/dwarfs/analysis/analytic_model/dwarf_model.py\u001b[0m in \u001b[0;36m<lambda>\u001b[1;34m(y, t, A, B)\u001b[0m\n\u001b[0;32m    152\u001b[0m     \u001b[0mode_function\u001b[0m \u001b[1;33m=\u001b[0m \u001b[1;32mlambda\u001b[0m \u001b[0my\u001b[0m\u001b[1;33m,\u001b[0m \u001b[0mt\u001b[0m\u001b[1;33m,\u001b[0m \u001b[0mA\u001b[0m\u001b[1;33m,\u001b[0m \u001b[0mB\u001b[0m\u001b[1;33m:\u001b[0m\u001b[0;31m\\\u001b[0m\u001b[1;33m\u001b[0m\u001b[0m\n\u001b[0;32m    153\u001b[0m                  A *  _KH_evolution(y, t, halo_gas_density, galaxy_velocity,\n\u001b[1;32m--> 154\u001b[1;33m                                                  galaxy_gas_density,physics_kwargs['KH'])+\\\n\u001b[0m\u001b[0;32m    155\u001b[0m                  B * _RPS_evolution(y, t, halo_gas_density, galaxy_velocity,\n\u001b[0;32m    156\u001b[0m                                            galaxy_gas_density, galaxy_gas_density(0.0),physics_kwargs['RPS'])\n",
      "\u001b[1;31mTypeError\u001b[0m: _KH_evolution() takes exactly 5 arguments (6 given)"
     ]
    },
    {
     "ename": "TypeError",
     "evalue": "_KH_evolution() takes exactly 5 arguments (6 given)",
     "output_type": "error",
     "traceback": [
      "\u001b[1;31m---------------------------------------------------------------------------\u001b[0m",
      "\u001b[1;31mTypeError\u001b[0m                                 Traceback (most recent call last)",
      "\u001b[1;32m/home/emerick/Research/dwarfs/analysis/analytic_model/dwarf_model.py\u001b[0m in \u001b[0;36m<lambda>\u001b[1;34m(y, t, A, B)\u001b[0m\n\u001b[0;32m    152\u001b[0m     \u001b[0mode_function\u001b[0m \u001b[1;33m=\u001b[0m \u001b[1;32mlambda\u001b[0m \u001b[0my\u001b[0m\u001b[1;33m,\u001b[0m \u001b[0mt\u001b[0m\u001b[1;33m,\u001b[0m \u001b[0mA\u001b[0m\u001b[1;33m,\u001b[0m \u001b[0mB\u001b[0m\u001b[1;33m:\u001b[0m\u001b[0;31m\\\u001b[0m\u001b[1;33m\u001b[0m\u001b[0m\n\u001b[0;32m    153\u001b[0m                  A *  _KH_evolution(y, t, halo_gas_density, galaxy_velocity,\n\u001b[1;32m--> 154\u001b[1;33m                                                  galaxy_gas_density,physics_kwargs['KH'])+\\\n\u001b[0m\u001b[0;32m    155\u001b[0m                  B * _RPS_evolution(y, t, halo_gas_density, galaxy_velocity,\n\u001b[0;32m    156\u001b[0m                                            galaxy_gas_density, galaxy_gas_density(0.0),physics_kwargs['RPS'])\n",
      "\u001b[1;31mTypeError\u001b[0m: _KH_evolution() takes exactly 5 arguments (6 given)"
     ]
    },
    {
     "ename": "TypeError",
     "evalue": "_KH_evolution() takes exactly 5 arguments (6 given)",
     "output_type": "error",
     "traceback": [
      "\u001b[1;31m---------------------------------------------------------------------------\u001b[0m",
      "\u001b[1;31mTypeError\u001b[0m                                 Traceback (most recent call last)",
      "\u001b[1;32m/home/emerick/Research/dwarfs/analysis/analytic_model/dwarf_model.py\u001b[0m in \u001b[0;36m<lambda>\u001b[1;34m(y, t, A, B)\u001b[0m\n\u001b[0;32m    152\u001b[0m     \u001b[0mode_function\u001b[0m \u001b[1;33m=\u001b[0m \u001b[1;32mlambda\u001b[0m \u001b[0my\u001b[0m\u001b[1;33m,\u001b[0m \u001b[0mt\u001b[0m\u001b[1;33m,\u001b[0m \u001b[0mA\u001b[0m\u001b[1;33m,\u001b[0m \u001b[0mB\u001b[0m\u001b[1;33m:\u001b[0m\u001b[0;31m\\\u001b[0m\u001b[1;33m\u001b[0m\u001b[0m\n\u001b[0;32m    153\u001b[0m                  A *  _KH_evolution(y, t, halo_gas_density, galaxy_velocity,\n\u001b[1;32m--> 154\u001b[1;33m                                                  galaxy_gas_density,physics_kwargs['KH'])+\\\n\u001b[0m\u001b[0;32m    155\u001b[0m                  B * _RPS_evolution(y, t, halo_gas_density, galaxy_velocity,\n\u001b[0;32m    156\u001b[0m                                            galaxy_gas_density, galaxy_gas_density(0.0),physics_kwargs['RPS'])\n",
      "\u001b[1;31mTypeError\u001b[0m: _KH_evolution() takes exactly 5 arguments (6 given)"
     ]
    },
    {
     "ename": "TypeError",
     "evalue": "_KH_evolution() takes exactly 5 arguments (6 given)",
     "output_type": "error",
     "traceback": [
      "\u001b[1;31m---------------------------------------------------------------------------\u001b[0m",
      "\u001b[1;31mTypeError\u001b[0m                                 Traceback (most recent call last)",
      "\u001b[1;32m/home/emerick/Research/dwarfs/analysis/analytic_model/dwarf_model.py\u001b[0m in \u001b[0;36m<lambda>\u001b[1;34m(y, t, A, B)\u001b[0m\n\u001b[0;32m    152\u001b[0m     \u001b[0mode_function\u001b[0m \u001b[1;33m=\u001b[0m \u001b[1;32mlambda\u001b[0m \u001b[0my\u001b[0m\u001b[1;33m,\u001b[0m \u001b[0mt\u001b[0m\u001b[1;33m,\u001b[0m \u001b[0mA\u001b[0m\u001b[1;33m,\u001b[0m \u001b[0mB\u001b[0m\u001b[1;33m:\u001b[0m\u001b[0;31m\\\u001b[0m\u001b[1;33m\u001b[0m\u001b[0m\n\u001b[0;32m    153\u001b[0m                  A *  _KH_evolution(y, t, halo_gas_density, galaxy_velocity,\n\u001b[1;32m--> 154\u001b[1;33m                                                  galaxy_gas_density,physics_kwargs['KH'])+\\\n\u001b[0m\u001b[0;32m    155\u001b[0m                  B * _RPS_evolution(y, t, halo_gas_density, galaxy_velocity,\n\u001b[0;32m    156\u001b[0m                                            galaxy_gas_density, galaxy_gas_density(0.0),physics_kwargs['RPS'])\n",
      "\u001b[1;31mTypeError\u001b[0m: _KH_evolution() takes exactly 5 arguments (6 given)"
     ]
    },
    {
     "ename": "TypeError",
     "evalue": "_KH_evolution() takes exactly 5 arguments (6 given)",
     "output_type": "error",
     "traceback": [
      "\u001b[1;31m---------------------------------------------------------------------------\u001b[0m",
      "\u001b[1;31mTypeError\u001b[0m                                 Traceback (most recent call last)",
      "\u001b[1;32m/home/emerick/Research/dwarfs/analysis/analytic_model/dwarf_model.py\u001b[0m in \u001b[0;36m<lambda>\u001b[1;34m(y, t, A, B)\u001b[0m\n\u001b[0;32m    152\u001b[0m     \u001b[0mode_function\u001b[0m \u001b[1;33m=\u001b[0m \u001b[1;32mlambda\u001b[0m \u001b[0my\u001b[0m\u001b[1;33m,\u001b[0m \u001b[0mt\u001b[0m\u001b[1;33m,\u001b[0m \u001b[0mA\u001b[0m\u001b[1;33m,\u001b[0m \u001b[0mB\u001b[0m\u001b[1;33m:\u001b[0m\u001b[0;31m\\\u001b[0m\u001b[1;33m\u001b[0m\u001b[0m\n\u001b[0;32m    153\u001b[0m                  A *  _KH_evolution(y, t, halo_gas_density, galaxy_velocity,\n\u001b[1;32m--> 154\u001b[1;33m                                                  galaxy_gas_density,physics_kwargs['KH'])+\\\n\u001b[0m\u001b[0;32m    155\u001b[0m                  B * _RPS_evolution(y, t, halo_gas_density, galaxy_velocity,\n\u001b[0;32m    156\u001b[0m                                            galaxy_gas_density, galaxy_gas_density(0.0),physics_kwargs['RPS'])\n",
      "\u001b[1;31mTypeError\u001b[0m: _KH_evolution() takes exactly 5 arguments (6 given)"
     ]
    },
    {
     "ename": "TypeError",
     "evalue": "_KH_evolution() takes exactly 5 arguments (6 given)",
     "output_type": "error",
     "traceback": [
      "\u001b[1;31m---------------------------------------------------------------------------\u001b[0m",
      "\u001b[1;31mTypeError\u001b[0m                                 Traceback (most recent call last)",
      "\u001b[1;32m/home/emerick/Research/dwarfs/analysis/analytic_model/dwarf_model.py\u001b[0m in \u001b[0;36m<lambda>\u001b[1;34m(y, t, A, B)\u001b[0m\n\u001b[0;32m    152\u001b[0m     \u001b[0mode_function\u001b[0m \u001b[1;33m=\u001b[0m \u001b[1;32mlambda\u001b[0m \u001b[0my\u001b[0m\u001b[1;33m,\u001b[0m \u001b[0mt\u001b[0m\u001b[1;33m,\u001b[0m \u001b[0mA\u001b[0m\u001b[1;33m,\u001b[0m \u001b[0mB\u001b[0m\u001b[1;33m:\u001b[0m\u001b[0;31m\\\u001b[0m\u001b[1;33m\u001b[0m\u001b[0m\n\u001b[0;32m    153\u001b[0m                  A *  _KH_evolution(y, t, halo_gas_density, galaxy_velocity,\n\u001b[1;32m--> 154\u001b[1;33m                                                  galaxy_gas_density,physics_kwargs['KH'])+\\\n\u001b[0m\u001b[0;32m    155\u001b[0m                  B * _RPS_evolution(y, t, halo_gas_density, galaxy_velocity,\n\u001b[0;32m    156\u001b[0m                                            galaxy_gas_density, galaxy_gas_density(0.0),physics_kwargs['RPS'])\n",
      "\u001b[1;31mTypeError\u001b[0m: _KH_evolution() takes exactly 5 arguments (6 given)"
     ]
    },
    {
     "ename": "TypeError",
     "evalue": "_KH_evolution() takes exactly 5 arguments (6 given)",
     "output_type": "error",
     "traceback": [
      "\u001b[1;31m---------------------------------------------------------------------------\u001b[0m",
      "\u001b[1;31mTypeError\u001b[0m                                 Traceback (most recent call last)",
      "\u001b[1;32m/home/emerick/Research/dwarfs/analysis/analytic_model/dwarf_model.py\u001b[0m in \u001b[0;36m<lambda>\u001b[1;34m(y, t, A, B)\u001b[0m\n\u001b[0;32m    152\u001b[0m     \u001b[0mode_function\u001b[0m \u001b[1;33m=\u001b[0m \u001b[1;32mlambda\u001b[0m \u001b[0my\u001b[0m\u001b[1;33m,\u001b[0m \u001b[0mt\u001b[0m\u001b[1;33m,\u001b[0m \u001b[0mA\u001b[0m\u001b[1;33m,\u001b[0m \u001b[0mB\u001b[0m\u001b[1;33m:\u001b[0m\u001b[0;31m\\\u001b[0m\u001b[1;33m\u001b[0m\u001b[0m\n\u001b[0;32m    153\u001b[0m                  A *  _KH_evolution(y, t, halo_gas_density, galaxy_velocity,\n\u001b[1;32m--> 154\u001b[1;33m                                                  galaxy_gas_density,physics_kwargs['KH'])+\\\n\u001b[0m\u001b[0;32m    155\u001b[0m                  B * _RPS_evolution(y, t, halo_gas_density, galaxy_velocity,\n\u001b[0;32m    156\u001b[0m                                            galaxy_gas_density, galaxy_gas_density(0.0),physics_kwargs['RPS'])\n",
      "\u001b[1;31mTypeError\u001b[0m: _KH_evolution() takes exactly 5 arguments (6 given)"
     ]
    },
    {
     "ename": "TypeError",
     "evalue": "_KH_evolution() takes exactly 5 arguments (6 given)",
     "output_type": "error",
     "traceback": [
      "\u001b[1;31m---------------------------------------------------------------------------\u001b[0m",
      "\u001b[1;31mTypeError\u001b[0m                                 Traceback (most recent call last)",
      "\u001b[1;32m/home/emerick/Research/dwarfs/analysis/analytic_model/dwarf_model.py\u001b[0m in \u001b[0;36m<lambda>\u001b[1;34m(y, t, A, B)\u001b[0m\n\u001b[0;32m    152\u001b[0m     \u001b[0mode_function\u001b[0m \u001b[1;33m=\u001b[0m \u001b[1;32mlambda\u001b[0m \u001b[0my\u001b[0m\u001b[1;33m,\u001b[0m \u001b[0mt\u001b[0m\u001b[1;33m,\u001b[0m \u001b[0mA\u001b[0m\u001b[1;33m,\u001b[0m \u001b[0mB\u001b[0m\u001b[1;33m:\u001b[0m\u001b[0;31m\\\u001b[0m\u001b[1;33m\u001b[0m\u001b[0m\n\u001b[0;32m    153\u001b[0m                  A *  _KH_evolution(y, t, halo_gas_density, galaxy_velocity,\n\u001b[1;32m--> 154\u001b[1;33m                                                  galaxy_gas_density,physics_kwargs['KH'])+\\\n\u001b[0m\u001b[0;32m    155\u001b[0m                  B * _RPS_evolution(y, t, halo_gas_density, galaxy_velocity,\n\u001b[0;32m    156\u001b[0m                                            galaxy_gas_density, galaxy_gas_density(0.0),physics_kwargs['RPS'])\n",
      "\u001b[1;31mTypeError\u001b[0m: _KH_evolution() takes exactly 5 arguments (6 given)"
     ]
    },
    {
     "ename": "TypeError",
     "evalue": "_KH_evolution() takes exactly 5 arguments (6 given)",
     "output_type": "error",
     "traceback": [
      "\u001b[1;31m---------------------------------------------------------------------------\u001b[0m",
      "\u001b[1;31mTypeError\u001b[0m                                 Traceback (most recent call last)",
      "\u001b[1;32m/home/emerick/Research/dwarfs/analysis/analytic_model/dwarf_model.py\u001b[0m in \u001b[0;36m<lambda>\u001b[1;34m(y, t, A, B)\u001b[0m\n\u001b[0;32m    152\u001b[0m     \u001b[0mode_function\u001b[0m \u001b[1;33m=\u001b[0m \u001b[1;32mlambda\u001b[0m \u001b[0my\u001b[0m\u001b[1;33m,\u001b[0m \u001b[0mt\u001b[0m\u001b[1;33m,\u001b[0m \u001b[0mA\u001b[0m\u001b[1;33m,\u001b[0m \u001b[0mB\u001b[0m\u001b[1;33m:\u001b[0m\u001b[0;31m\\\u001b[0m\u001b[1;33m\u001b[0m\u001b[0m\n\u001b[0;32m    153\u001b[0m                  A *  _KH_evolution(y, t, halo_gas_density, galaxy_velocity,\n\u001b[1;32m--> 154\u001b[1;33m                                                  galaxy_gas_density,physics_kwargs['KH'])+\\\n\u001b[0m\u001b[0;32m    155\u001b[0m                  B * _RPS_evolution(y, t, halo_gas_density, galaxy_velocity,\n\u001b[0;32m    156\u001b[0m                                            galaxy_gas_density, galaxy_gas_density(0.0),physics_kwargs['RPS'])\n",
      "\u001b[1;31mTypeError\u001b[0m: _KH_evolution() takes exactly 5 arguments (6 given)"
     ]
    },
    {
     "ename": "TypeError",
     "evalue": "_KH_evolution() takes exactly 5 arguments (6 given)",
     "output_type": "error",
     "traceback": [
      "\u001b[1;31m---------------------------------------------------------------------------\u001b[0m",
      "\u001b[1;31mTypeError\u001b[0m                                 Traceback (most recent call last)",
      "\u001b[1;32m/home/emerick/Research/dwarfs/analysis/analytic_model/dwarf_model.py\u001b[0m in \u001b[0;36m<lambda>\u001b[1;34m(y, t, A, B)\u001b[0m\n\u001b[0;32m    152\u001b[0m     \u001b[0mode_function\u001b[0m \u001b[1;33m=\u001b[0m \u001b[1;32mlambda\u001b[0m \u001b[0my\u001b[0m\u001b[1;33m,\u001b[0m \u001b[0mt\u001b[0m\u001b[1;33m,\u001b[0m \u001b[0mA\u001b[0m\u001b[1;33m,\u001b[0m \u001b[0mB\u001b[0m\u001b[1;33m:\u001b[0m\u001b[0;31m\\\u001b[0m\u001b[1;33m\u001b[0m\u001b[0m\n\u001b[0;32m    153\u001b[0m                  A *  _KH_evolution(y, t, halo_gas_density, galaxy_velocity,\n\u001b[1;32m--> 154\u001b[1;33m                                                  galaxy_gas_density,physics_kwargs['KH'])+\\\n\u001b[0m\u001b[0;32m    155\u001b[0m                  B * _RPS_evolution(y, t, halo_gas_density, galaxy_velocity,\n\u001b[0;32m    156\u001b[0m                                            galaxy_gas_density, galaxy_gas_density(0.0),physics_kwargs['RPS'])\n",
      "\u001b[1;31mTypeError\u001b[0m: _KH_evolution() takes exactly 5 arguments (6 given)"
     ]
    },
    {
     "ename": "TypeError",
     "evalue": "_KH_evolution() takes exactly 5 arguments (6 given)",
     "output_type": "error",
     "traceback": [
      "\u001b[1;31m---------------------------------------------------------------------------\u001b[0m",
      "\u001b[1;31mTypeError\u001b[0m                                 Traceback (most recent call last)",
      "\u001b[1;32m/home/emerick/Research/dwarfs/analysis/analytic_model/dwarf_model.py\u001b[0m in \u001b[0;36m<lambda>\u001b[1;34m(y, t, A, B)\u001b[0m\n\u001b[0;32m    152\u001b[0m     \u001b[0mode_function\u001b[0m \u001b[1;33m=\u001b[0m \u001b[1;32mlambda\u001b[0m \u001b[0my\u001b[0m\u001b[1;33m,\u001b[0m \u001b[0mt\u001b[0m\u001b[1;33m,\u001b[0m \u001b[0mA\u001b[0m\u001b[1;33m,\u001b[0m \u001b[0mB\u001b[0m\u001b[1;33m:\u001b[0m\u001b[0;31m\\\u001b[0m\u001b[1;33m\u001b[0m\u001b[0m\n\u001b[0;32m    153\u001b[0m                  A *  _KH_evolution(y, t, halo_gas_density, galaxy_velocity,\n\u001b[1;32m--> 154\u001b[1;33m                                                  galaxy_gas_density,physics_kwargs['KH'])+\\\n\u001b[0m\u001b[0;32m    155\u001b[0m                  B * _RPS_evolution(y, t, halo_gas_density, galaxy_velocity,\n\u001b[0;32m    156\u001b[0m                                            galaxy_gas_density, galaxy_gas_density(0.0),physics_kwargs['RPS'])\n",
      "\u001b[1;31mTypeError\u001b[0m: _KH_evolution() takes exactly 5 arguments (6 given)"
     ]
    },
    {
     "ename": "TypeError",
     "evalue": "_KH_evolution() takes exactly 5 arguments (6 given)",
     "output_type": "error",
     "traceback": [
      "\u001b[1;31m---------------------------------------------------------------------------\u001b[0m",
      "\u001b[1;31mTypeError\u001b[0m                                 Traceback (most recent call last)",
      "\u001b[1;32m/home/emerick/Research/dwarfs/analysis/analytic_model/dwarf_model.py\u001b[0m in \u001b[0;36m<lambda>\u001b[1;34m(y, t, A, B)\u001b[0m\n\u001b[0;32m    152\u001b[0m     \u001b[0mode_function\u001b[0m \u001b[1;33m=\u001b[0m \u001b[1;32mlambda\u001b[0m \u001b[0my\u001b[0m\u001b[1;33m,\u001b[0m \u001b[0mt\u001b[0m\u001b[1;33m,\u001b[0m \u001b[0mA\u001b[0m\u001b[1;33m,\u001b[0m \u001b[0mB\u001b[0m\u001b[1;33m:\u001b[0m\u001b[0;31m\\\u001b[0m\u001b[1;33m\u001b[0m\u001b[0m\n\u001b[0;32m    153\u001b[0m                  A *  _KH_evolution(y, t, halo_gas_density, galaxy_velocity,\n\u001b[1;32m--> 154\u001b[1;33m                                                  galaxy_gas_density,physics_kwargs['KH'])+\\\n\u001b[0m\u001b[0;32m    155\u001b[0m                  B * _RPS_evolution(y, t, halo_gas_density, galaxy_velocity,\n\u001b[0;32m    156\u001b[0m                                            galaxy_gas_density, galaxy_gas_density(0.0),physics_kwargs['RPS'])\n",
      "\u001b[1;31mTypeError\u001b[0m: _KH_evolution() takes exactly 5 arguments (6 given)"
     ]
    },
    {
     "ename": "TypeError",
     "evalue": "_KH_evolution() takes exactly 5 arguments (6 given)",
     "output_type": "error",
     "traceback": [
      "\u001b[1;31m---------------------------------------------------------------------------\u001b[0m",
      "\u001b[1;31mTypeError\u001b[0m                                 Traceback (most recent call last)",
      "\u001b[1;32m/home/emerick/Research/dwarfs/analysis/analytic_model/dwarf_model.py\u001b[0m in \u001b[0;36m<lambda>\u001b[1;34m(y, t, A, B)\u001b[0m\n\u001b[0;32m    152\u001b[0m     \u001b[0mode_function\u001b[0m \u001b[1;33m=\u001b[0m \u001b[1;32mlambda\u001b[0m \u001b[0my\u001b[0m\u001b[1;33m,\u001b[0m \u001b[0mt\u001b[0m\u001b[1;33m,\u001b[0m \u001b[0mA\u001b[0m\u001b[1;33m,\u001b[0m \u001b[0mB\u001b[0m\u001b[1;33m:\u001b[0m\u001b[0;31m\\\u001b[0m\u001b[1;33m\u001b[0m\u001b[0m\n\u001b[0;32m    153\u001b[0m                  A *  _KH_evolution(y, t, halo_gas_density, galaxy_velocity,\n\u001b[1;32m--> 154\u001b[1;33m                                                  galaxy_gas_density,physics_kwargs['KH'])+\\\n\u001b[0m\u001b[0;32m    155\u001b[0m                  B * _RPS_evolution(y, t, halo_gas_density, galaxy_velocity,\n\u001b[0;32m    156\u001b[0m                                            galaxy_gas_density, galaxy_gas_density(0.0),physics_kwargs['RPS'])\n",
      "\u001b[1;31mTypeError\u001b[0m: _KH_evolution() takes exactly 5 arguments (6 given)"
     ]
    },
    {
     "ename": "TypeError",
     "evalue": "_KH_evolution() takes exactly 5 arguments (6 given)",
     "output_type": "error",
     "traceback": [
      "\u001b[1;31m---------------------------------------------------------------------------\u001b[0m",
      "\u001b[1;31mTypeError\u001b[0m                                 Traceback (most recent call last)",
      "\u001b[1;32m/home/emerick/Research/dwarfs/analysis/analytic_model/dwarf_model.py\u001b[0m in \u001b[0;36m<lambda>\u001b[1;34m(y, t, A, B)\u001b[0m\n\u001b[0;32m    152\u001b[0m     \u001b[0mode_function\u001b[0m \u001b[1;33m=\u001b[0m \u001b[1;32mlambda\u001b[0m \u001b[0my\u001b[0m\u001b[1;33m,\u001b[0m \u001b[0mt\u001b[0m\u001b[1;33m,\u001b[0m \u001b[0mA\u001b[0m\u001b[1;33m,\u001b[0m \u001b[0mB\u001b[0m\u001b[1;33m:\u001b[0m\u001b[0;31m\\\u001b[0m\u001b[1;33m\u001b[0m\u001b[0m\n\u001b[0;32m    153\u001b[0m                  A *  _KH_evolution(y, t, halo_gas_density, galaxy_velocity,\n\u001b[1;32m--> 154\u001b[1;33m                                                  galaxy_gas_density,physics_kwargs['KH'])+\\\n\u001b[0m\u001b[0;32m    155\u001b[0m                  B * _RPS_evolution(y, t, halo_gas_density, galaxy_velocity,\n\u001b[0;32m    156\u001b[0m                                            galaxy_gas_density, galaxy_gas_density(0.0),physics_kwargs['RPS'])\n",
      "\u001b[1;31mTypeError\u001b[0m: _KH_evolution() takes exactly 5 arguments (6 given)"
     ]
    },
    {
     "ename": "TypeError",
     "evalue": "_KH_evolution() takes exactly 5 arguments (6 given)",
     "output_type": "error",
     "traceback": [
      "\u001b[1;31m---------------------------------------------------------------------------\u001b[0m",
      "\u001b[1;31mTypeError\u001b[0m                                 Traceback (most recent call last)",
      "\u001b[1;32m/home/emerick/Research/dwarfs/analysis/analytic_model/dwarf_model.py\u001b[0m in \u001b[0;36m<lambda>\u001b[1;34m(y, t, A, B)\u001b[0m\n\u001b[0;32m    152\u001b[0m     \u001b[0mode_function\u001b[0m \u001b[1;33m=\u001b[0m \u001b[1;32mlambda\u001b[0m \u001b[0my\u001b[0m\u001b[1;33m,\u001b[0m \u001b[0mt\u001b[0m\u001b[1;33m,\u001b[0m \u001b[0mA\u001b[0m\u001b[1;33m,\u001b[0m \u001b[0mB\u001b[0m\u001b[1;33m:\u001b[0m\u001b[0;31m\\\u001b[0m\u001b[1;33m\u001b[0m\u001b[0m\n\u001b[0;32m    153\u001b[0m                  A *  _KH_evolution(y, t, halo_gas_density, galaxy_velocity,\n\u001b[1;32m--> 154\u001b[1;33m                                                  galaxy_gas_density,physics_kwargs['KH'])+\\\n\u001b[0m\u001b[0;32m    155\u001b[0m                  B * _RPS_evolution(y, t, halo_gas_density, galaxy_velocity,\n\u001b[0;32m    156\u001b[0m                                            galaxy_gas_density, galaxy_gas_density(0.0),physics_kwargs['RPS'])\n",
      "\u001b[1;31mTypeError\u001b[0m: _KH_evolution() takes exactly 5 arguments (6 given)"
     ]
    },
    {
     "ename": "TypeError",
     "evalue": "_KH_evolution() takes exactly 5 arguments (6 given)",
     "output_type": "error",
     "traceback": [
      "\u001b[1;31m---------------------------------------------------------------------------\u001b[0m",
      "\u001b[1;31mTypeError\u001b[0m                                 Traceback (most recent call last)",
      "\u001b[1;32m/home/emerick/Research/dwarfs/analysis/analytic_model/dwarf_model.py\u001b[0m in \u001b[0;36m<lambda>\u001b[1;34m(y, t, A, B)\u001b[0m\n\u001b[0;32m    152\u001b[0m     \u001b[0mode_function\u001b[0m \u001b[1;33m=\u001b[0m \u001b[1;32mlambda\u001b[0m \u001b[0my\u001b[0m\u001b[1;33m,\u001b[0m \u001b[0mt\u001b[0m\u001b[1;33m,\u001b[0m \u001b[0mA\u001b[0m\u001b[1;33m,\u001b[0m \u001b[0mB\u001b[0m\u001b[1;33m:\u001b[0m\u001b[0;31m\\\u001b[0m\u001b[1;33m\u001b[0m\u001b[0m\n\u001b[0;32m    153\u001b[0m                  A *  _KH_evolution(y, t, halo_gas_density, galaxy_velocity,\n\u001b[1;32m--> 154\u001b[1;33m                                                  galaxy_gas_density,physics_kwargs['KH'])+\\\n\u001b[0m\u001b[0;32m    155\u001b[0m                  B * _RPS_evolution(y, t, halo_gas_density, galaxy_velocity,\n\u001b[0;32m    156\u001b[0m                                            galaxy_gas_density, galaxy_gas_density(0.0),physics_kwargs['RPS'])\n",
      "\u001b[1;31mTypeError\u001b[0m: _KH_evolution() takes exactly 5 arguments (6 given)"
     ]
    },
    {
     "ename": "TypeError",
     "evalue": "_KH_evolution() takes exactly 5 arguments (6 given)",
     "output_type": "error",
     "traceback": [
      "\u001b[1;31m---------------------------------------------------------------------------\u001b[0m",
      "\u001b[1;31mTypeError\u001b[0m                                 Traceback (most recent call last)",
      "\u001b[1;32m/home/emerick/Research/dwarfs/analysis/analytic_model/dwarf_model.py\u001b[0m in \u001b[0;36m<lambda>\u001b[1;34m(y, t, A, B)\u001b[0m\n\u001b[0;32m    152\u001b[0m     \u001b[0mode_function\u001b[0m \u001b[1;33m=\u001b[0m \u001b[1;32mlambda\u001b[0m \u001b[0my\u001b[0m\u001b[1;33m,\u001b[0m \u001b[0mt\u001b[0m\u001b[1;33m,\u001b[0m \u001b[0mA\u001b[0m\u001b[1;33m,\u001b[0m \u001b[0mB\u001b[0m\u001b[1;33m:\u001b[0m\u001b[0;31m\\\u001b[0m\u001b[1;33m\u001b[0m\u001b[0m\n\u001b[0;32m    153\u001b[0m                  A *  _KH_evolution(y, t, halo_gas_density, galaxy_velocity,\n\u001b[1;32m--> 154\u001b[1;33m                                                  galaxy_gas_density,physics_kwargs['KH'])+\\\n\u001b[0m\u001b[0;32m    155\u001b[0m                  B * _RPS_evolution(y, t, halo_gas_density, galaxy_velocity,\n\u001b[0;32m    156\u001b[0m                                            galaxy_gas_density, galaxy_gas_density(0.0),physics_kwargs['RPS'])\n",
      "\u001b[1;31mTypeError\u001b[0m: _KH_evolution() takes exactly 5 arguments (6 given)"
     ]
    },
    {
     "ename": "TypeError",
     "evalue": "_KH_evolution() takes exactly 5 arguments (6 given)",
     "output_type": "error",
     "traceback": [
      "\u001b[1;31m---------------------------------------------------------------------------\u001b[0m",
      "\u001b[1;31mTypeError\u001b[0m                                 Traceback (most recent call last)",
      "\u001b[1;32m/home/emerick/Research/dwarfs/analysis/analytic_model/dwarf_model.py\u001b[0m in \u001b[0;36m<lambda>\u001b[1;34m(y, t, A, B)\u001b[0m\n\u001b[0;32m    152\u001b[0m     \u001b[0mode_function\u001b[0m \u001b[1;33m=\u001b[0m \u001b[1;32mlambda\u001b[0m \u001b[0my\u001b[0m\u001b[1;33m,\u001b[0m \u001b[0mt\u001b[0m\u001b[1;33m,\u001b[0m \u001b[0mA\u001b[0m\u001b[1;33m,\u001b[0m \u001b[0mB\u001b[0m\u001b[1;33m:\u001b[0m\u001b[0;31m\\\u001b[0m\u001b[1;33m\u001b[0m\u001b[0m\n\u001b[0;32m    153\u001b[0m                  A *  _KH_evolution(y, t, halo_gas_density, galaxy_velocity,\n\u001b[1;32m--> 154\u001b[1;33m                                                  galaxy_gas_density,physics_kwargs['KH'])+\\\n\u001b[0m\u001b[0;32m    155\u001b[0m                  B * _RPS_evolution(y, t, halo_gas_density, galaxy_velocity,\n\u001b[0;32m    156\u001b[0m                                            galaxy_gas_density, galaxy_gas_density(0.0),physics_kwargs['RPS'])\n",
      "\u001b[1;31mTypeError\u001b[0m: _KH_evolution() takes exactly 5 arguments (6 given)"
     ]
    },
    {
     "ename": "TypeError",
     "evalue": "_KH_evolution() takes exactly 5 arguments (6 given)",
     "output_type": "error",
     "traceback": [
      "\u001b[1;31m---------------------------------------------------------------------------\u001b[0m",
      "\u001b[1;31mTypeError\u001b[0m                                 Traceback (most recent call last)",
      "\u001b[1;32m/home/emerick/Research/dwarfs/analysis/analytic_model/dwarf_model.py\u001b[0m in \u001b[0;36m<lambda>\u001b[1;34m(y, t, A, B)\u001b[0m\n\u001b[0;32m    152\u001b[0m     \u001b[0mode_function\u001b[0m \u001b[1;33m=\u001b[0m \u001b[1;32mlambda\u001b[0m \u001b[0my\u001b[0m\u001b[1;33m,\u001b[0m \u001b[0mt\u001b[0m\u001b[1;33m,\u001b[0m \u001b[0mA\u001b[0m\u001b[1;33m,\u001b[0m \u001b[0mB\u001b[0m\u001b[1;33m:\u001b[0m\u001b[0;31m\\\u001b[0m\u001b[1;33m\u001b[0m\u001b[0m\n\u001b[0;32m    153\u001b[0m                  A *  _KH_evolution(y, t, halo_gas_density, galaxy_velocity,\n\u001b[1;32m--> 154\u001b[1;33m                                                  galaxy_gas_density,physics_kwargs['KH'])+\\\n\u001b[0m\u001b[0;32m    155\u001b[0m                  B * _RPS_evolution(y, t, halo_gas_density, galaxy_velocity,\n\u001b[0;32m    156\u001b[0m                                            galaxy_gas_density, galaxy_gas_density(0.0),physics_kwargs['RPS'])\n",
      "\u001b[1;31mTypeError\u001b[0m: _KH_evolution() takes exactly 5 arguments (6 given)"
     ]
    },
    {
     "ename": "TypeError",
     "evalue": "_KH_evolution() takes exactly 5 arguments (6 given)",
     "output_type": "error",
     "traceback": [
      "\u001b[1;31m---------------------------------------------------------------------------\u001b[0m",
      "\u001b[1;31mTypeError\u001b[0m                                 Traceback (most recent call last)",
      "\u001b[1;32m/home/emerick/Research/dwarfs/analysis/analytic_model/dwarf_model.py\u001b[0m in \u001b[0;36m<lambda>\u001b[1;34m(y, t, A, B)\u001b[0m\n\u001b[0;32m    152\u001b[0m     \u001b[0mode_function\u001b[0m \u001b[1;33m=\u001b[0m \u001b[1;32mlambda\u001b[0m \u001b[0my\u001b[0m\u001b[1;33m,\u001b[0m \u001b[0mt\u001b[0m\u001b[1;33m,\u001b[0m \u001b[0mA\u001b[0m\u001b[1;33m,\u001b[0m \u001b[0mB\u001b[0m\u001b[1;33m:\u001b[0m\u001b[0;31m\\\u001b[0m\u001b[1;33m\u001b[0m\u001b[0m\n\u001b[0;32m    153\u001b[0m                  A *  _KH_evolution(y, t, halo_gas_density, galaxy_velocity,\n\u001b[1;32m--> 154\u001b[1;33m                                                  galaxy_gas_density,physics_kwargs['KH'])+\\\n\u001b[0m\u001b[0;32m    155\u001b[0m                  B * _RPS_evolution(y, t, halo_gas_density, galaxy_velocity,\n\u001b[0;32m    156\u001b[0m                                            galaxy_gas_density, galaxy_gas_density(0.0),physics_kwargs['RPS'])\n",
      "\u001b[1;31mTypeError\u001b[0m: _KH_evolution() takes exactly 5 arguments (6 given)"
     ]
    },
    {
     "ename": "TypeError",
     "evalue": "_KH_evolution() takes exactly 5 arguments (6 given)",
     "output_type": "error",
     "traceback": [
      "\u001b[1;31m---------------------------------------------------------------------------\u001b[0m",
      "\u001b[1;31mTypeError\u001b[0m                                 Traceback (most recent call last)",
      "\u001b[1;32m/home/emerick/Research/dwarfs/analysis/analytic_model/dwarf_model.py\u001b[0m in \u001b[0;36m<lambda>\u001b[1;34m(y, t, A, B)\u001b[0m\n\u001b[0;32m    152\u001b[0m     \u001b[0mode_function\u001b[0m \u001b[1;33m=\u001b[0m \u001b[1;32mlambda\u001b[0m \u001b[0my\u001b[0m\u001b[1;33m,\u001b[0m \u001b[0mt\u001b[0m\u001b[1;33m,\u001b[0m \u001b[0mA\u001b[0m\u001b[1;33m,\u001b[0m \u001b[0mB\u001b[0m\u001b[1;33m:\u001b[0m\u001b[0;31m\\\u001b[0m\u001b[1;33m\u001b[0m\u001b[0m\n\u001b[0;32m    153\u001b[0m                  A *  _KH_evolution(y, t, halo_gas_density, galaxy_velocity,\n\u001b[1;32m--> 154\u001b[1;33m                                                  galaxy_gas_density,physics_kwargs['KH'])+\\\n\u001b[0m\u001b[0;32m    155\u001b[0m                  B * _RPS_evolution(y, t, halo_gas_density, galaxy_velocity,\n\u001b[0;32m    156\u001b[0m                                            galaxy_gas_density, galaxy_gas_density(0.0),physics_kwargs['RPS'])\n",
      "\u001b[1;31mTypeError\u001b[0m: _KH_evolution() takes exactly 5 arguments (6 given)"
     ]
    },
    {
     "ename": "TypeError",
     "evalue": "_KH_evolution() takes exactly 5 arguments (6 given)",
     "output_type": "error",
     "traceback": [
      "\u001b[1;31m---------------------------------------------------------------------------\u001b[0m",
      "\u001b[1;31mTypeError\u001b[0m                                 Traceback (most recent call last)",
      "\u001b[1;32m/home/emerick/Research/dwarfs/analysis/analytic_model/dwarf_model.py\u001b[0m in \u001b[0;36m<lambda>\u001b[1;34m(y, t, A, B)\u001b[0m\n\u001b[0;32m    152\u001b[0m     \u001b[0mode_function\u001b[0m \u001b[1;33m=\u001b[0m \u001b[1;32mlambda\u001b[0m \u001b[0my\u001b[0m\u001b[1;33m,\u001b[0m \u001b[0mt\u001b[0m\u001b[1;33m,\u001b[0m \u001b[0mA\u001b[0m\u001b[1;33m,\u001b[0m \u001b[0mB\u001b[0m\u001b[1;33m:\u001b[0m\u001b[0;31m\\\u001b[0m\u001b[1;33m\u001b[0m\u001b[0m\n\u001b[0;32m    153\u001b[0m                  A *  _KH_evolution(y, t, halo_gas_density, galaxy_velocity,\n\u001b[1;32m--> 154\u001b[1;33m                                                  galaxy_gas_density,physics_kwargs['KH'])+\\\n\u001b[0m\u001b[0;32m    155\u001b[0m                  B * _RPS_evolution(y, t, halo_gas_density, galaxy_velocity,\n\u001b[0;32m    156\u001b[0m                                            galaxy_gas_density, galaxy_gas_density(0.0),physics_kwargs['RPS'])\n",
      "\u001b[1;31mTypeError\u001b[0m: _KH_evolution() takes exactly 5 arguments (6 given)"
     ]
    },
    {
     "ename": "TypeError",
     "evalue": "_KH_evolution() takes exactly 5 arguments (6 given)",
     "output_type": "error",
     "traceback": [
      "\u001b[1;31m---------------------------------------------------------------------------\u001b[0m",
      "\u001b[1;31mTypeError\u001b[0m                                 Traceback (most recent call last)",
      "\u001b[1;32m/home/emerick/Research/dwarfs/analysis/analytic_model/dwarf_model.py\u001b[0m in \u001b[0;36m<lambda>\u001b[1;34m(y, t, A, B)\u001b[0m\n\u001b[0;32m    152\u001b[0m     \u001b[0mode_function\u001b[0m \u001b[1;33m=\u001b[0m \u001b[1;32mlambda\u001b[0m \u001b[0my\u001b[0m\u001b[1;33m,\u001b[0m \u001b[0mt\u001b[0m\u001b[1;33m,\u001b[0m \u001b[0mA\u001b[0m\u001b[1;33m,\u001b[0m \u001b[0mB\u001b[0m\u001b[1;33m:\u001b[0m\u001b[0;31m\\\u001b[0m\u001b[1;33m\u001b[0m\u001b[0m\n\u001b[0;32m    153\u001b[0m                  A *  _KH_evolution(y, t, halo_gas_density, galaxy_velocity,\n\u001b[1;32m--> 154\u001b[1;33m                                                  galaxy_gas_density,physics_kwargs['KH'])+\\\n\u001b[0m\u001b[0;32m    155\u001b[0m                  B * _RPS_evolution(y, t, halo_gas_density, galaxy_velocity,\n\u001b[0;32m    156\u001b[0m                                            galaxy_gas_density, galaxy_gas_density(0.0),physics_kwargs['RPS'])\n",
      "\u001b[1;31mTypeError\u001b[0m: _KH_evolution() takes exactly 5 arguments (6 given)"
     ]
    },
    {
     "ename": "TypeError",
     "evalue": "_KH_evolution() takes exactly 5 arguments (6 given)",
     "output_type": "error",
     "traceback": [
      "\u001b[1;31m---------------------------------------------------------------------------\u001b[0m",
      "\u001b[1;31mTypeError\u001b[0m                                 Traceback (most recent call last)",
      "\u001b[1;32m/home/emerick/Research/dwarfs/analysis/analytic_model/dwarf_model.py\u001b[0m in \u001b[0;36m<lambda>\u001b[1;34m(y, t, A, B)\u001b[0m\n\u001b[0;32m    152\u001b[0m     \u001b[0mode_function\u001b[0m \u001b[1;33m=\u001b[0m \u001b[1;32mlambda\u001b[0m \u001b[0my\u001b[0m\u001b[1;33m,\u001b[0m \u001b[0mt\u001b[0m\u001b[1;33m,\u001b[0m \u001b[0mA\u001b[0m\u001b[1;33m,\u001b[0m \u001b[0mB\u001b[0m\u001b[1;33m:\u001b[0m\u001b[0;31m\\\u001b[0m\u001b[1;33m\u001b[0m\u001b[0m\n\u001b[0;32m    153\u001b[0m                  A *  _KH_evolution(y, t, halo_gas_density, galaxy_velocity,\n\u001b[1;32m--> 154\u001b[1;33m                                                  galaxy_gas_density,physics_kwargs['KH'])+\\\n\u001b[0m\u001b[0;32m    155\u001b[0m                  B * _RPS_evolution(y, t, halo_gas_density, galaxy_velocity,\n\u001b[0;32m    156\u001b[0m                                            galaxy_gas_density, galaxy_gas_density(0.0),physics_kwargs['RPS'])\n",
      "\u001b[1;31mTypeError\u001b[0m: _KH_evolution() takes exactly 5 arguments (6 given)"
     ]
    },
    {
     "ename": "TypeError",
     "evalue": "_KH_evolution() takes exactly 5 arguments (6 given)",
     "output_type": "error",
     "traceback": [
      "\u001b[1;31m---------------------------------------------------------------------------\u001b[0m",
      "\u001b[1;31mTypeError\u001b[0m                                 Traceback (most recent call last)",
      "\u001b[1;32m/home/emerick/Research/dwarfs/analysis/analytic_model/dwarf_model.py\u001b[0m in \u001b[0;36m<lambda>\u001b[1;34m(y, t, A, B)\u001b[0m\n\u001b[0;32m    152\u001b[0m     \u001b[0mode_function\u001b[0m \u001b[1;33m=\u001b[0m \u001b[1;32mlambda\u001b[0m \u001b[0my\u001b[0m\u001b[1;33m,\u001b[0m \u001b[0mt\u001b[0m\u001b[1;33m,\u001b[0m \u001b[0mA\u001b[0m\u001b[1;33m,\u001b[0m \u001b[0mB\u001b[0m\u001b[1;33m:\u001b[0m\u001b[0;31m\\\u001b[0m\u001b[1;33m\u001b[0m\u001b[0m\n\u001b[0;32m    153\u001b[0m                  A *  _KH_evolution(y, t, halo_gas_density, galaxy_velocity,\n\u001b[1;32m--> 154\u001b[1;33m                                                  galaxy_gas_density,physics_kwargs['KH'])+\\\n\u001b[0m\u001b[0;32m    155\u001b[0m                  B * _RPS_evolution(y, t, halo_gas_density, galaxy_velocity,\n\u001b[0;32m    156\u001b[0m                                            galaxy_gas_density, galaxy_gas_density(0.0),physics_kwargs['RPS'])\n",
      "\u001b[1;31mTypeError\u001b[0m: _KH_evolution() takes exactly 5 arguments (6 given)"
     ]
    },
    {
     "ename": "TypeError",
     "evalue": "_KH_evolution() takes exactly 5 arguments (6 given)",
     "output_type": "error",
     "traceback": [
      "\u001b[1;31m---------------------------------------------------------------------------\u001b[0m",
      "\u001b[1;31mTypeError\u001b[0m                                 Traceback (most recent call last)",
      "\u001b[1;32m/home/emerick/Research/dwarfs/analysis/analytic_model/dwarf_model.py\u001b[0m in \u001b[0;36m<lambda>\u001b[1;34m(y, t, A, B)\u001b[0m\n\u001b[0;32m    152\u001b[0m     \u001b[0mode_function\u001b[0m \u001b[1;33m=\u001b[0m \u001b[1;32mlambda\u001b[0m \u001b[0my\u001b[0m\u001b[1;33m,\u001b[0m \u001b[0mt\u001b[0m\u001b[1;33m,\u001b[0m \u001b[0mA\u001b[0m\u001b[1;33m,\u001b[0m \u001b[0mB\u001b[0m\u001b[1;33m:\u001b[0m\u001b[0;31m\\\u001b[0m\u001b[1;33m\u001b[0m\u001b[0m\n\u001b[0;32m    153\u001b[0m                  A *  _KH_evolution(y, t, halo_gas_density, galaxy_velocity,\n\u001b[1;32m--> 154\u001b[1;33m                                                  galaxy_gas_density,physics_kwargs['KH'])+\\\n\u001b[0m\u001b[0;32m    155\u001b[0m                  B * _RPS_evolution(y, t, halo_gas_density, galaxy_velocity,\n\u001b[0;32m    156\u001b[0m                                            galaxy_gas_density, galaxy_gas_density(0.0),physics_kwargs['RPS'])\n",
      "\u001b[1;31mTypeError\u001b[0m: _KH_evolution() takes exactly 5 arguments (6 given)"
     ]
    },
    {
     "ename": "TypeError",
     "evalue": "_KH_evolution() takes exactly 5 arguments (6 given)",
     "output_type": "error",
     "traceback": [
      "\u001b[1;31m---------------------------------------------------------------------------\u001b[0m",
      "\u001b[1;31mTypeError\u001b[0m                                 Traceback (most recent call last)",
      "\u001b[1;32m/home/emerick/Research/dwarfs/analysis/analytic_model/dwarf_model.py\u001b[0m in \u001b[0;36m<lambda>\u001b[1;34m(y, t, A, B)\u001b[0m\n\u001b[0;32m    152\u001b[0m     \u001b[0mode_function\u001b[0m \u001b[1;33m=\u001b[0m \u001b[1;32mlambda\u001b[0m \u001b[0my\u001b[0m\u001b[1;33m,\u001b[0m \u001b[0mt\u001b[0m\u001b[1;33m,\u001b[0m \u001b[0mA\u001b[0m\u001b[1;33m,\u001b[0m \u001b[0mB\u001b[0m\u001b[1;33m:\u001b[0m\u001b[0;31m\\\u001b[0m\u001b[1;33m\u001b[0m\u001b[0m\n\u001b[0;32m    153\u001b[0m                  A *  _KH_evolution(y, t, halo_gas_density, galaxy_velocity,\n\u001b[1;32m--> 154\u001b[1;33m                                                  galaxy_gas_density,physics_kwargs['KH'])+\\\n\u001b[0m\u001b[0;32m    155\u001b[0m                  B * _RPS_evolution(y, t, halo_gas_density, galaxy_velocity,\n\u001b[0;32m    156\u001b[0m                                            galaxy_gas_density, galaxy_gas_density(0.0),physics_kwargs['RPS'])\n",
      "\u001b[1;31mTypeError\u001b[0m: _KH_evolution() takes exactly 5 arguments (6 given)"
     ]
    },
    {
     "ename": "TypeError",
     "evalue": "_KH_evolution() takes exactly 5 arguments (6 given)",
     "output_type": "error",
     "traceback": [
      "\u001b[1;31m---------------------------------------------------------------------------\u001b[0m",
      "\u001b[1;31mTypeError\u001b[0m                                 Traceback (most recent call last)",
      "\u001b[1;32m/home/emerick/Research/dwarfs/analysis/analytic_model/dwarf_model.py\u001b[0m in \u001b[0;36m<lambda>\u001b[1;34m(y, t, A, B)\u001b[0m\n\u001b[0;32m    152\u001b[0m     \u001b[0mode_function\u001b[0m \u001b[1;33m=\u001b[0m \u001b[1;32mlambda\u001b[0m \u001b[0my\u001b[0m\u001b[1;33m,\u001b[0m \u001b[0mt\u001b[0m\u001b[1;33m,\u001b[0m \u001b[0mA\u001b[0m\u001b[1;33m,\u001b[0m \u001b[0mB\u001b[0m\u001b[1;33m:\u001b[0m\u001b[0;31m\\\u001b[0m\u001b[1;33m\u001b[0m\u001b[0m\n\u001b[0;32m    153\u001b[0m                  A *  _KH_evolution(y, t, halo_gas_density, galaxy_velocity,\n\u001b[1;32m--> 154\u001b[1;33m                                                  galaxy_gas_density,physics_kwargs['KH'])+\\\n\u001b[0m\u001b[0;32m    155\u001b[0m                  B * _RPS_evolution(y, t, halo_gas_density, galaxy_velocity,\n\u001b[0;32m    156\u001b[0m                                            galaxy_gas_density, galaxy_gas_density(0.0),physics_kwargs['RPS'])\n",
      "\u001b[1;31mTypeError\u001b[0m: _KH_evolution() takes exactly 5 arguments (6 given)"
     ]
    },
    {
     "ename": "TypeError",
     "evalue": "_KH_evolution() takes exactly 5 arguments (6 given)",
     "output_type": "error",
     "traceback": [
      "\u001b[1;31m---------------------------------------------------------------------------\u001b[0m",
      "\u001b[1;31mTypeError\u001b[0m                                 Traceback (most recent call last)",
      "\u001b[1;32m/home/emerick/Research/dwarfs/analysis/analytic_model/dwarf_model.py\u001b[0m in \u001b[0;36m<lambda>\u001b[1;34m(y, t, A, B)\u001b[0m\n\u001b[0;32m    152\u001b[0m     \u001b[0mode_function\u001b[0m \u001b[1;33m=\u001b[0m \u001b[1;32mlambda\u001b[0m \u001b[0my\u001b[0m\u001b[1;33m,\u001b[0m \u001b[0mt\u001b[0m\u001b[1;33m,\u001b[0m \u001b[0mA\u001b[0m\u001b[1;33m,\u001b[0m \u001b[0mB\u001b[0m\u001b[1;33m:\u001b[0m\u001b[0;31m\\\u001b[0m\u001b[1;33m\u001b[0m\u001b[0m\n\u001b[0;32m    153\u001b[0m                  A *  _KH_evolution(y, t, halo_gas_density, galaxy_velocity,\n\u001b[1;32m--> 154\u001b[1;33m                                                  galaxy_gas_density,physics_kwargs['KH'])+\\\n\u001b[0m\u001b[0;32m    155\u001b[0m                  B * _RPS_evolution(y, t, halo_gas_density, galaxy_velocity,\n\u001b[0;32m    156\u001b[0m                                            galaxy_gas_density, galaxy_gas_density(0.0),physics_kwargs['RPS'])\n",
      "\u001b[1;31mTypeError\u001b[0m: _KH_evolution() takes exactly 5 arguments (6 given)"
     ]
    },
    {
     "ename": "TypeError",
     "evalue": "_KH_evolution() takes exactly 5 arguments (6 given)",
     "output_type": "error",
     "traceback": [
      "\u001b[1;31m---------------------------------------------------------------------------\u001b[0m",
      "\u001b[1;31mTypeError\u001b[0m                                 Traceback (most recent call last)",
      "\u001b[1;32m/home/emerick/Research/dwarfs/analysis/analytic_model/dwarf_model.py\u001b[0m in \u001b[0;36m<lambda>\u001b[1;34m(y, t, A, B)\u001b[0m\n\u001b[0;32m    152\u001b[0m     \u001b[0mode_function\u001b[0m \u001b[1;33m=\u001b[0m \u001b[1;32mlambda\u001b[0m \u001b[0my\u001b[0m\u001b[1;33m,\u001b[0m \u001b[0mt\u001b[0m\u001b[1;33m,\u001b[0m \u001b[0mA\u001b[0m\u001b[1;33m,\u001b[0m \u001b[0mB\u001b[0m\u001b[1;33m:\u001b[0m\u001b[0;31m\\\u001b[0m\u001b[1;33m\u001b[0m\u001b[0m\n\u001b[0;32m    153\u001b[0m                  A *  _KH_evolution(y, t, halo_gas_density, galaxy_velocity,\n\u001b[1;32m--> 154\u001b[1;33m                                                  galaxy_gas_density,physics_kwargs['KH'])+\\\n\u001b[0m\u001b[0;32m    155\u001b[0m                  B * _RPS_evolution(y, t, halo_gas_density, galaxy_velocity,\n\u001b[0;32m    156\u001b[0m                                            galaxy_gas_density, galaxy_gas_density(0.0),physics_kwargs['RPS'])\n",
      "\u001b[1;31mTypeError\u001b[0m: _KH_evolution() takes exactly 5 arguments (6 given)"
     ]
    },
    {
     "ename": "TypeError",
     "evalue": "_KH_evolution() takes exactly 5 arguments (6 given)",
     "output_type": "error",
     "traceback": [
      "\u001b[1;31m---------------------------------------------------------------------------\u001b[0m",
      "\u001b[1;31mTypeError\u001b[0m                                 Traceback (most recent call last)",
      "\u001b[1;32m/home/emerick/Research/dwarfs/analysis/analytic_model/dwarf_model.py\u001b[0m in \u001b[0;36m<lambda>\u001b[1;34m(y, t, A, B)\u001b[0m\n\u001b[0;32m    152\u001b[0m     \u001b[0mode_function\u001b[0m \u001b[1;33m=\u001b[0m \u001b[1;32mlambda\u001b[0m \u001b[0my\u001b[0m\u001b[1;33m,\u001b[0m \u001b[0mt\u001b[0m\u001b[1;33m,\u001b[0m \u001b[0mA\u001b[0m\u001b[1;33m,\u001b[0m \u001b[0mB\u001b[0m\u001b[1;33m:\u001b[0m\u001b[0;31m\\\u001b[0m\u001b[1;33m\u001b[0m\u001b[0m\n\u001b[0;32m    153\u001b[0m                  A *  _KH_evolution(y, t, halo_gas_density, galaxy_velocity,\n\u001b[1;32m--> 154\u001b[1;33m                                                  galaxy_gas_density,physics_kwargs['KH'])+\\\n\u001b[0m\u001b[0;32m    155\u001b[0m                  B * _RPS_evolution(y, t, halo_gas_density, galaxy_velocity,\n\u001b[0;32m    156\u001b[0m                                            galaxy_gas_density, galaxy_gas_density(0.0),physics_kwargs['RPS'])\n",
      "\u001b[1;31mTypeError\u001b[0m: _KH_evolution() takes exactly 5 arguments (6 given)"
     ]
    },
    {
     "ename": "TypeError",
     "evalue": "_KH_evolution() takes exactly 5 arguments (6 given)",
     "output_type": "error",
     "traceback": [
      "\u001b[1;31m---------------------------------------------------------------------------\u001b[0m",
      "\u001b[1;31mTypeError\u001b[0m                                 Traceback (most recent call last)",
      "\u001b[1;32m/home/emerick/Research/dwarfs/analysis/analytic_model/dwarf_model.py\u001b[0m in \u001b[0;36m<lambda>\u001b[1;34m(y, t, A, B)\u001b[0m\n\u001b[0;32m    152\u001b[0m     \u001b[0mode_function\u001b[0m \u001b[1;33m=\u001b[0m \u001b[1;32mlambda\u001b[0m \u001b[0my\u001b[0m\u001b[1;33m,\u001b[0m \u001b[0mt\u001b[0m\u001b[1;33m,\u001b[0m \u001b[0mA\u001b[0m\u001b[1;33m,\u001b[0m \u001b[0mB\u001b[0m\u001b[1;33m:\u001b[0m\u001b[0;31m\\\u001b[0m\u001b[1;33m\u001b[0m\u001b[0m\n\u001b[0;32m    153\u001b[0m                  A *  _KH_evolution(y, t, halo_gas_density, galaxy_velocity,\n\u001b[1;32m--> 154\u001b[1;33m                                                  galaxy_gas_density,physics_kwargs['KH'])+\\\n\u001b[0m\u001b[0;32m    155\u001b[0m                  B * _RPS_evolution(y, t, halo_gas_density, galaxy_velocity,\n\u001b[0;32m    156\u001b[0m                                            galaxy_gas_density, galaxy_gas_density(0.0),physics_kwargs['RPS'])\n",
      "\u001b[1;31mTypeError\u001b[0m: _KH_evolution() takes exactly 5 arguments (6 given)"
     ]
    },
    {
     "ename": "TypeError",
     "evalue": "_KH_evolution() takes exactly 5 arguments (6 given)",
     "output_type": "error",
     "traceback": [
      "\u001b[1;31m---------------------------------------------------------------------------\u001b[0m",
      "\u001b[1;31mTypeError\u001b[0m                                 Traceback (most recent call last)",
      "\u001b[1;32m/home/emerick/Research/dwarfs/analysis/analytic_model/dwarf_model.py\u001b[0m in \u001b[0;36m<lambda>\u001b[1;34m(y, t, A, B)\u001b[0m\n\u001b[0;32m    152\u001b[0m     \u001b[0mode_function\u001b[0m \u001b[1;33m=\u001b[0m \u001b[1;32mlambda\u001b[0m \u001b[0my\u001b[0m\u001b[1;33m,\u001b[0m \u001b[0mt\u001b[0m\u001b[1;33m,\u001b[0m \u001b[0mA\u001b[0m\u001b[1;33m,\u001b[0m \u001b[0mB\u001b[0m\u001b[1;33m:\u001b[0m\u001b[0;31m\\\u001b[0m\u001b[1;33m\u001b[0m\u001b[0m\n\u001b[0;32m    153\u001b[0m                  A *  _KH_evolution(y, t, halo_gas_density, galaxy_velocity,\n\u001b[1;32m--> 154\u001b[1;33m                                                  galaxy_gas_density,physics_kwargs['KH'])+\\\n\u001b[0m\u001b[0;32m    155\u001b[0m                  B * _RPS_evolution(y, t, halo_gas_density, galaxy_velocity,\n\u001b[0;32m    156\u001b[0m                                            galaxy_gas_density, galaxy_gas_density(0.0),physics_kwargs['RPS'])\n",
      "\u001b[1;31mTypeError\u001b[0m: _KH_evolution() takes exactly 5 arguments (6 given)"
     ]
    },
    {
     "ename": "TypeError",
     "evalue": "_KH_evolution() takes exactly 5 arguments (6 given)",
     "output_type": "error",
     "traceback": [
      "\u001b[1;31m---------------------------------------------------------------------------\u001b[0m",
      "\u001b[1;31mTypeError\u001b[0m                                 Traceback (most recent call last)",
      "\u001b[1;32m/home/emerick/Research/dwarfs/analysis/analytic_model/dwarf_model.py\u001b[0m in \u001b[0;36m<lambda>\u001b[1;34m(y, t, A, B)\u001b[0m\n\u001b[0;32m    152\u001b[0m     \u001b[0mode_function\u001b[0m \u001b[1;33m=\u001b[0m \u001b[1;32mlambda\u001b[0m \u001b[0my\u001b[0m\u001b[1;33m,\u001b[0m \u001b[0mt\u001b[0m\u001b[1;33m,\u001b[0m \u001b[0mA\u001b[0m\u001b[1;33m,\u001b[0m \u001b[0mB\u001b[0m\u001b[1;33m:\u001b[0m\u001b[0;31m\\\u001b[0m\u001b[1;33m\u001b[0m\u001b[0m\n\u001b[0;32m    153\u001b[0m                  A *  _KH_evolution(y, t, halo_gas_density, galaxy_velocity,\n\u001b[1;32m--> 154\u001b[1;33m                                                  galaxy_gas_density,physics_kwargs['KH'])+\\\n\u001b[0m\u001b[0;32m    155\u001b[0m                  B * _RPS_evolution(y, t, halo_gas_density, galaxy_velocity,\n\u001b[0;32m    156\u001b[0m                                            galaxy_gas_density, galaxy_gas_density(0.0),physics_kwargs['RPS'])\n",
      "\u001b[1;31mTypeError\u001b[0m: _KH_evolution() takes exactly 5 arguments (6 given)"
     ]
    },
    {
     "ename": "TypeError",
     "evalue": "_KH_evolution() takes exactly 5 arguments (6 given)",
     "output_type": "error",
     "traceback": [
      "\u001b[1;31m---------------------------------------------------------------------------\u001b[0m",
      "\u001b[1;31mTypeError\u001b[0m                                 Traceback (most recent call last)",
      "\u001b[1;32m/home/emerick/Research/dwarfs/analysis/analytic_model/dwarf_model.py\u001b[0m in \u001b[0;36m<lambda>\u001b[1;34m(y, t, A, B)\u001b[0m\n\u001b[0;32m    152\u001b[0m     \u001b[0mode_function\u001b[0m \u001b[1;33m=\u001b[0m \u001b[1;32mlambda\u001b[0m \u001b[0my\u001b[0m\u001b[1;33m,\u001b[0m \u001b[0mt\u001b[0m\u001b[1;33m,\u001b[0m \u001b[0mA\u001b[0m\u001b[1;33m,\u001b[0m \u001b[0mB\u001b[0m\u001b[1;33m:\u001b[0m\u001b[0;31m\\\u001b[0m\u001b[1;33m\u001b[0m\u001b[0m\n\u001b[0;32m    153\u001b[0m                  A *  _KH_evolution(y, t, halo_gas_density, galaxy_velocity,\n\u001b[1;32m--> 154\u001b[1;33m                                                  galaxy_gas_density,physics_kwargs['KH'])+\\\n\u001b[0m\u001b[0;32m    155\u001b[0m                  B * _RPS_evolution(y, t, halo_gas_density, galaxy_velocity,\n\u001b[0;32m    156\u001b[0m                                            galaxy_gas_density, galaxy_gas_density(0.0),physics_kwargs['RPS'])\n",
      "\u001b[1;31mTypeError\u001b[0m: _KH_evolution() takes exactly 5 arguments (6 given)"
     ]
    },
    {
     "ename": "TypeError",
     "evalue": "_KH_evolution() takes exactly 5 arguments (6 given)",
     "output_type": "error",
     "traceback": [
      "\u001b[1;31m---------------------------------------------------------------------------\u001b[0m",
      "\u001b[1;31mTypeError\u001b[0m                                 Traceback (most recent call last)",
      "\u001b[1;32m/home/emerick/Research/dwarfs/analysis/analytic_model/dwarf_model.py\u001b[0m in \u001b[0;36m<lambda>\u001b[1;34m(y, t, A, B)\u001b[0m\n\u001b[0;32m    152\u001b[0m     \u001b[0mode_function\u001b[0m \u001b[1;33m=\u001b[0m \u001b[1;32mlambda\u001b[0m \u001b[0my\u001b[0m\u001b[1;33m,\u001b[0m \u001b[0mt\u001b[0m\u001b[1;33m,\u001b[0m \u001b[0mA\u001b[0m\u001b[1;33m,\u001b[0m \u001b[0mB\u001b[0m\u001b[1;33m:\u001b[0m\u001b[0;31m\\\u001b[0m\u001b[1;33m\u001b[0m\u001b[0m\n\u001b[0;32m    153\u001b[0m                  A *  _KH_evolution(y, t, halo_gas_density, galaxy_velocity,\n\u001b[1;32m--> 154\u001b[1;33m                                                  galaxy_gas_density,physics_kwargs['KH'])+\\\n\u001b[0m\u001b[0;32m    155\u001b[0m                  B * _RPS_evolution(y, t, halo_gas_density, galaxy_velocity,\n\u001b[0;32m    156\u001b[0m                                            galaxy_gas_density, galaxy_gas_density(0.0),physics_kwargs['RPS'])\n",
      "\u001b[1;31mTypeError\u001b[0m: _KH_evolution() takes exactly 5 arguments (6 given)"
     ]
    },
    {
     "ename": "TypeError",
     "evalue": "_KH_evolution() takes exactly 5 arguments (6 given)",
     "output_type": "error",
     "traceback": [
      "\u001b[1;31m---------------------------------------------------------------------------\u001b[0m",
      "\u001b[1;31mTypeError\u001b[0m                                 Traceback (most recent call last)",
      "\u001b[1;32m/home/emerick/Research/dwarfs/analysis/analytic_model/dwarf_model.py\u001b[0m in \u001b[0;36m<lambda>\u001b[1;34m(y, t, A, B)\u001b[0m\n\u001b[0;32m    152\u001b[0m     \u001b[0mode_function\u001b[0m \u001b[1;33m=\u001b[0m \u001b[1;32mlambda\u001b[0m \u001b[0my\u001b[0m\u001b[1;33m,\u001b[0m \u001b[0mt\u001b[0m\u001b[1;33m,\u001b[0m \u001b[0mA\u001b[0m\u001b[1;33m,\u001b[0m \u001b[0mB\u001b[0m\u001b[1;33m:\u001b[0m\u001b[0;31m\\\u001b[0m\u001b[1;33m\u001b[0m\u001b[0m\n\u001b[0;32m    153\u001b[0m                  A *  _KH_evolution(y, t, halo_gas_density, galaxy_velocity,\n\u001b[1;32m--> 154\u001b[1;33m                                                  galaxy_gas_density,physics_kwargs['KH'])+\\\n\u001b[0m\u001b[0;32m    155\u001b[0m                  B * _RPS_evolution(y, t, halo_gas_density, galaxy_velocity,\n\u001b[0;32m    156\u001b[0m                                            galaxy_gas_density, galaxy_gas_density(0.0),physics_kwargs['RPS'])\n",
      "\u001b[1;31mTypeError\u001b[0m: _KH_evolution() takes exactly 5 arguments (6 given)"
     ]
    },
    {
     "ename": "TypeError",
     "evalue": "_KH_evolution() takes exactly 5 arguments (6 given)",
     "output_type": "error",
     "traceback": [
      "\u001b[1;31m---------------------------------------------------------------------------\u001b[0m",
      "\u001b[1;31mTypeError\u001b[0m                                 Traceback (most recent call last)",
      "\u001b[1;32m/home/emerick/Research/dwarfs/analysis/analytic_model/dwarf_model.py\u001b[0m in \u001b[0;36m<lambda>\u001b[1;34m(y, t, A, B)\u001b[0m\n\u001b[0;32m    152\u001b[0m     \u001b[0mode_function\u001b[0m \u001b[1;33m=\u001b[0m \u001b[1;32mlambda\u001b[0m \u001b[0my\u001b[0m\u001b[1;33m,\u001b[0m \u001b[0mt\u001b[0m\u001b[1;33m,\u001b[0m \u001b[0mA\u001b[0m\u001b[1;33m,\u001b[0m \u001b[0mB\u001b[0m\u001b[1;33m:\u001b[0m\u001b[0;31m\\\u001b[0m\u001b[1;33m\u001b[0m\u001b[0m\n\u001b[0;32m    153\u001b[0m                  A *  _KH_evolution(y, t, halo_gas_density, galaxy_velocity,\n\u001b[1;32m--> 154\u001b[1;33m                                                  galaxy_gas_density,physics_kwargs['KH'])+\\\n\u001b[0m\u001b[0;32m    155\u001b[0m                  B * _RPS_evolution(y, t, halo_gas_density, galaxy_velocity,\n\u001b[0;32m    156\u001b[0m                                            galaxy_gas_density, galaxy_gas_density(0.0),physics_kwargs['RPS'])\n",
      "\u001b[1;31mTypeError\u001b[0m: _KH_evolution() takes exactly 5 arguments (6 given)"
     ]
    },
    {
     "ename": "TypeError",
     "evalue": "_KH_evolution() takes exactly 5 arguments (6 given)",
     "output_type": "error",
     "traceback": [
      "\u001b[1;31m---------------------------------------------------------------------------\u001b[0m",
      "\u001b[1;31mTypeError\u001b[0m                                 Traceback (most recent call last)",
      "\u001b[1;32m/home/emerick/Research/dwarfs/analysis/analytic_model/dwarf_model.py\u001b[0m in \u001b[0;36m<lambda>\u001b[1;34m(y, t, A, B)\u001b[0m\n\u001b[0;32m    152\u001b[0m     \u001b[0mode_function\u001b[0m \u001b[1;33m=\u001b[0m \u001b[1;32mlambda\u001b[0m \u001b[0my\u001b[0m\u001b[1;33m,\u001b[0m \u001b[0mt\u001b[0m\u001b[1;33m,\u001b[0m \u001b[0mA\u001b[0m\u001b[1;33m,\u001b[0m \u001b[0mB\u001b[0m\u001b[1;33m:\u001b[0m\u001b[0;31m\\\u001b[0m\u001b[1;33m\u001b[0m\u001b[0m\n\u001b[0;32m    153\u001b[0m                  A *  _KH_evolution(y, t, halo_gas_density, galaxy_velocity,\n\u001b[1;32m--> 154\u001b[1;33m                                                  galaxy_gas_density,physics_kwargs['KH'])+\\\n\u001b[0m\u001b[0;32m    155\u001b[0m                  B * _RPS_evolution(y, t, halo_gas_density, galaxy_velocity,\n\u001b[0;32m    156\u001b[0m                                            galaxy_gas_density, galaxy_gas_density(0.0),physics_kwargs['RPS'])\n",
      "\u001b[1;31mTypeError\u001b[0m: _KH_evolution() takes exactly 5 arguments (6 given)"
     ]
    },
    {
     "ename": "TypeError",
     "evalue": "_KH_evolution() takes exactly 5 arguments (6 given)",
     "output_type": "error",
     "traceback": [
      "\u001b[1;31m---------------------------------------------------------------------------\u001b[0m",
      "\u001b[1;31mTypeError\u001b[0m                                 Traceback (most recent call last)",
      "\u001b[1;32m/home/emerick/Research/dwarfs/analysis/analytic_model/dwarf_model.py\u001b[0m in \u001b[0;36m<lambda>\u001b[1;34m(y, t, A, B)\u001b[0m\n\u001b[0;32m    152\u001b[0m     \u001b[0mode_function\u001b[0m \u001b[1;33m=\u001b[0m \u001b[1;32mlambda\u001b[0m \u001b[0my\u001b[0m\u001b[1;33m,\u001b[0m \u001b[0mt\u001b[0m\u001b[1;33m,\u001b[0m \u001b[0mA\u001b[0m\u001b[1;33m,\u001b[0m \u001b[0mB\u001b[0m\u001b[1;33m:\u001b[0m\u001b[0;31m\\\u001b[0m\u001b[1;33m\u001b[0m\u001b[0m\n\u001b[0;32m    153\u001b[0m                  A *  _KH_evolution(y, t, halo_gas_density, galaxy_velocity,\n\u001b[1;32m--> 154\u001b[1;33m                                                  galaxy_gas_density,physics_kwargs['KH'])+\\\n\u001b[0m\u001b[0;32m    155\u001b[0m                  B * _RPS_evolution(y, t, halo_gas_density, galaxy_velocity,\n\u001b[0;32m    156\u001b[0m                                            galaxy_gas_density, galaxy_gas_density(0.0),physics_kwargs['RPS'])\n",
      "\u001b[1;31mTypeError\u001b[0m: _KH_evolution() takes exactly 5 arguments (6 given)"
     ]
    },
    {
     "ename": "TypeError",
     "evalue": "_KH_evolution() takes exactly 5 arguments (6 given)",
     "output_type": "error",
     "traceback": [
      "\u001b[1;31m---------------------------------------------------------------------------\u001b[0m",
      "\u001b[1;31mTypeError\u001b[0m                                 Traceback (most recent call last)",
      "\u001b[1;32m/home/emerick/Research/dwarfs/analysis/analytic_model/dwarf_model.py\u001b[0m in \u001b[0;36m<lambda>\u001b[1;34m(y, t, A, B)\u001b[0m\n\u001b[0;32m    152\u001b[0m     \u001b[0mode_function\u001b[0m \u001b[1;33m=\u001b[0m \u001b[1;32mlambda\u001b[0m \u001b[0my\u001b[0m\u001b[1;33m,\u001b[0m \u001b[0mt\u001b[0m\u001b[1;33m,\u001b[0m \u001b[0mA\u001b[0m\u001b[1;33m,\u001b[0m \u001b[0mB\u001b[0m\u001b[1;33m:\u001b[0m\u001b[0;31m\\\u001b[0m\u001b[1;33m\u001b[0m\u001b[0m\n\u001b[0;32m    153\u001b[0m                  A *  _KH_evolution(y, t, halo_gas_density, galaxy_velocity,\n\u001b[1;32m--> 154\u001b[1;33m                                                  galaxy_gas_density,physics_kwargs['KH'])+\\\n\u001b[0m\u001b[0;32m    155\u001b[0m                  B * _RPS_evolution(y, t, halo_gas_density, galaxy_velocity,\n\u001b[0;32m    156\u001b[0m                                            galaxy_gas_density, galaxy_gas_density(0.0),physics_kwargs['RPS'])\n",
      "\u001b[1;31mTypeError\u001b[0m: _KH_evolution() takes exactly 5 arguments (6 given)"
     ]
    },
    {
     "ename": "TypeError",
     "evalue": "_KH_evolution() takes exactly 5 arguments (6 given)",
     "output_type": "error",
     "traceback": [
      "\u001b[1;31m---------------------------------------------------------------------------\u001b[0m",
      "\u001b[1;31mTypeError\u001b[0m                                 Traceback (most recent call last)",
      "\u001b[1;32m/home/emerick/Research/dwarfs/analysis/analytic_model/dwarf_model.py\u001b[0m in \u001b[0;36m<lambda>\u001b[1;34m(y, t, A, B)\u001b[0m\n\u001b[0;32m    152\u001b[0m     \u001b[0mode_function\u001b[0m \u001b[1;33m=\u001b[0m \u001b[1;32mlambda\u001b[0m \u001b[0my\u001b[0m\u001b[1;33m,\u001b[0m \u001b[0mt\u001b[0m\u001b[1;33m,\u001b[0m \u001b[0mA\u001b[0m\u001b[1;33m,\u001b[0m \u001b[0mB\u001b[0m\u001b[1;33m:\u001b[0m\u001b[0;31m\\\u001b[0m\u001b[1;33m\u001b[0m\u001b[0m\n\u001b[0;32m    153\u001b[0m                  A *  _KH_evolution(y, t, halo_gas_density, galaxy_velocity,\n\u001b[1;32m--> 154\u001b[1;33m                                                  galaxy_gas_density,physics_kwargs['KH'])+\\\n\u001b[0m\u001b[0;32m    155\u001b[0m                  B * _RPS_evolution(y, t, halo_gas_density, galaxy_velocity,\n\u001b[0;32m    156\u001b[0m                                            galaxy_gas_density, galaxy_gas_density(0.0),physics_kwargs['RPS'])\n",
      "\u001b[1;31mTypeError\u001b[0m: _KH_evolution() takes exactly 5 arguments (6 given)"
     ]
    },
    {
     "ename": "TypeError",
     "evalue": "_KH_evolution() takes exactly 5 arguments (6 given)",
     "output_type": "error",
     "traceback": [
      "\u001b[1;31m---------------------------------------------------------------------------\u001b[0m",
      "\u001b[1;31mTypeError\u001b[0m                                 Traceback (most recent call last)",
      "\u001b[1;32m/home/emerick/Research/dwarfs/analysis/analytic_model/dwarf_model.py\u001b[0m in \u001b[0;36m<lambda>\u001b[1;34m(y, t, A, B)\u001b[0m\n\u001b[0;32m    152\u001b[0m     \u001b[0mode_function\u001b[0m \u001b[1;33m=\u001b[0m \u001b[1;32mlambda\u001b[0m \u001b[0my\u001b[0m\u001b[1;33m,\u001b[0m \u001b[0mt\u001b[0m\u001b[1;33m,\u001b[0m \u001b[0mA\u001b[0m\u001b[1;33m,\u001b[0m \u001b[0mB\u001b[0m\u001b[1;33m:\u001b[0m\u001b[0;31m\\\u001b[0m\u001b[1;33m\u001b[0m\u001b[0m\n\u001b[0;32m    153\u001b[0m                  A *  _KH_evolution(y, t, halo_gas_density, galaxy_velocity,\n\u001b[1;32m--> 154\u001b[1;33m                                                  galaxy_gas_density,physics_kwargs['KH'])+\\\n\u001b[0m\u001b[0;32m    155\u001b[0m                  B * _RPS_evolution(y, t, halo_gas_density, galaxy_velocity,\n\u001b[0;32m    156\u001b[0m                                            galaxy_gas_density, galaxy_gas_density(0.0),physics_kwargs['RPS'])\n",
      "\u001b[1;31mTypeError\u001b[0m: _KH_evolution() takes exactly 5 arguments (6 given)"
     ]
    },
    {
     "ename": "TypeError",
     "evalue": "_KH_evolution() takes exactly 5 arguments (6 given)",
     "output_type": "error",
     "traceback": [
      "\u001b[1;31m---------------------------------------------------------------------------\u001b[0m",
      "\u001b[1;31mTypeError\u001b[0m                                 Traceback (most recent call last)",
      "\u001b[1;32m/home/emerick/Research/dwarfs/analysis/analytic_model/dwarf_model.py\u001b[0m in \u001b[0;36m<lambda>\u001b[1;34m(y, t, A, B)\u001b[0m\n\u001b[0;32m    152\u001b[0m     \u001b[0mode_function\u001b[0m \u001b[1;33m=\u001b[0m \u001b[1;32mlambda\u001b[0m \u001b[0my\u001b[0m\u001b[1;33m,\u001b[0m \u001b[0mt\u001b[0m\u001b[1;33m,\u001b[0m \u001b[0mA\u001b[0m\u001b[1;33m,\u001b[0m \u001b[0mB\u001b[0m\u001b[1;33m:\u001b[0m\u001b[0;31m\\\u001b[0m\u001b[1;33m\u001b[0m\u001b[0m\n\u001b[0;32m    153\u001b[0m                  A *  _KH_evolution(y, t, halo_gas_density, galaxy_velocity,\n\u001b[1;32m--> 154\u001b[1;33m                                                  galaxy_gas_density,physics_kwargs['KH'])+\\\n\u001b[0m\u001b[0;32m    155\u001b[0m                  B * _RPS_evolution(y, t, halo_gas_density, galaxy_velocity,\n\u001b[0;32m    156\u001b[0m                                            galaxy_gas_density, galaxy_gas_density(0.0),physics_kwargs['RPS'])\n",
      "\u001b[1;31mTypeError\u001b[0m: _KH_evolution() takes exactly 5 arguments (6 given)"
     ]
    },
    {
     "ename": "TypeError",
     "evalue": "_KH_evolution() takes exactly 5 arguments (6 given)",
     "output_type": "error",
     "traceback": [
      "\u001b[1;31m---------------------------------------------------------------------------\u001b[0m",
      "\u001b[1;31mTypeError\u001b[0m                                 Traceback (most recent call last)",
      "\u001b[1;32m/home/emerick/Research/dwarfs/analysis/analytic_model/dwarf_model.py\u001b[0m in \u001b[0;36m<lambda>\u001b[1;34m(y, t, A, B)\u001b[0m\n\u001b[0;32m    152\u001b[0m     \u001b[0mode_function\u001b[0m \u001b[1;33m=\u001b[0m \u001b[1;32mlambda\u001b[0m \u001b[0my\u001b[0m\u001b[1;33m,\u001b[0m \u001b[0mt\u001b[0m\u001b[1;33m,\u001b[0m \u001b[0mA\u001b[0m\u001b[1;33m,\u001b[0m \u001b[0mB\u001b[0m\u001b[1;33m:\u001b[0m\u001b[0;31m\\\u001b[0m\u001b[1;33m\u001b[0m\u001b[0m\n\u001b[0;32m    153\u001b[0m                  A *  _KH_evolution(y, t, halo_gas_density, galaxy_velocity,\n\u001b[1;32m--> 154\u001b[1;33m                                                  galaxy_gas_density,physics_kwargs['KH'])+\\\n\u001b[0m\u001b[0;32m    155\u001b[0m                  B * _RPS_evolution(y, t, halo_gas_density, galaxy_velocity,\n\u001b[0;32m    156\u001b[0m                                            galaxy_gas_density, galaxy_gas_density(0.0),physics_kwargs['RPS'])\n",
      "\u001b[1;31mTypeError\u001b[0m: _KH_evolution() takes exactly 5 arguments (6 given)"
     ]
    },
    {
     "ename": "TypeError",
     "evalue": "_KH_evolution() takes exactly 5 arguments (6 given)",
     "output_type": "error",
     "traceback": [
      "\u001b[1;31m---------------------------------------------------------------------------\u001b[0m",
      "\u001b[1;31mTypeError\u001b[0m                                 Traceback (most recent call last)",
      "\u001b[1;32m/home/emerick/Research/dwarfs/analysis/analytic_model/dwarf_model.py\u001b[0m in \u001b[0;36m<lambda>\u001b[1;34m(y, t, A, B)\u001b[0m\n\u001b[0;32m    152\u001b[0m     \u001b[0mode_function\u001b[0m \u001b[1;33m=\u001b[0m \u001b[1;32mlambda\u001b[0m \u001b[0my\u001b[0m\u001b[1;33m,\u001b[0m \u001b[0mt\u001b[0m\u001b[1;33m,\u001b[0m \u001b[0mA\u001b[0m\u001b[1;33m,\u001b[0m \u001b[0mB\u001b[0m\u001b[1;33m:\u001b[0m\u001b[0;31m\\\u001b[0m\u001b[1;33m\u001b[0m\u001b[0m\n\u001b[0;32m    153\u001b[0m                  A *  _KH_evolution(y, t, halo_gas_density, galaxy_velocity,\n\u001b[1;32m--> 154\u001b[1;33m                                                  galaxy_gas_density,physics_kwargs['KH'])+\\\n\u001b[0m\u001b[0;32m    155\u001b[0m                  B * _RPS_evolution(y, t, halo_gas_density, galaxy_velocity,\n\u001b[0;32m    156\u001b[0m                                            galaxy_gas_density, galaxy_gas_density(0.0),physics_kwargs['RPS'])\n",
      "\u001b[1;31mTypeError\u001b[0m: _KH_evolution() takes exactly 5 arguments (6 given)"
     ]
    },
    {
     "ename": "TypeError",
     "evalue": "_KH_evolution() takes exactly 5 arguments (6 given)",
     "output_type": "error",
     "traceback": [
      "\u001b[1;31m---------------------------------------------------------------------------\u001b[0m",
      "\u001b[1;31mTypeError\u001b[0m                                 Traceback (most recent call last)",
      "\u001b[1;32m/home/emerick/Research/dwarfs/analysis/analytic_model/dwarf_model.py\u001b[0m in \u001b[0;36m<lambda>\u001b[1;34m(y, t, A, B)\u001b[0m\n\u001b[0;32m    152\u001b[0m     \u001b[0mode_function\u001b[0m \u001b[1;33m=\u001b[0m \u001b[1;32mlambda\u001b[0m \u001b[0my\u001b[0m\u001b[1;33m,\u001b[0m \u001b[0mt\u001b[0m\u001b[1;33m,\u001b[0m \u001b[0mA\u001b[0m\u001b[1;33m,\u001b[0m \u001b[0mB\u001b[0m\u001b[1;33m:\u001b[0m\u001b[0;31m\\\u001b[0m\u001b[1;33m\u001b[0m\u001b[0m\n\u001b[0;32m    153\u001b[0m                  A *  _KH_evolution(y, t, halo_gas_density, galaxy_velocity,\n\u001b[1;32m--> 154\u001b[1;33m                                                  galaxy_gas_density,physics_kwargs['KH'])+\\\n\u001b[0m\u001b[0;32m    155\u001b[0m                  B * _RPS_evolution(y, t, halo_gas_density, galaxy_velocity,\n\u001b[0;32m    156\u001b[0m                                            galaxy_gas_density, galaxy_gas_density(0.0),physics_kwargs['RPS'])\n",
      "\u001b[1;31mTypeError\u001b[0m: _KH_evolution() takes exactly 5 arguments (6 given)"
     ]
    },
    {
     "ename": "TypeError",
     "evalue": "_KH_evolution() takes exactly 5 arguments (6 given)",
     "output_type": "error",
     "traceback": [
      "\u001b[1;31m---------------------------------------------------------------------------\u001b[0m",
      "\u001b[1;31mTypeError\u001b[0m                                 Traceback (most recent call last)",
      "\u001b[1;32m/home/emerick/Research/dwarfs/analysis/analytic_model/dwarf_model.py\u001b[0m in \u001b[0;36m<lambda>\u001b[1;34m(y, t, A, B)\u001b[0m\n\u001b[0;32m    152\u001b[0m     \u001b[0mode_function\u001b[0m \u001b[1;33m=\u001b[0m \u001b[1;32mlambda\u001b[0m \u001b[0my\u001b[0m\u001b[1;33m,\u001b[0m \u001b[0mt\u001b[0m\u001b[1;33m,\u001b[0m \u001b[0mA\u001b[0m\u001b[1;33m,\u001b[0m \u001b[0mB\u001b[0m\u001b[1;33m:\u001b[0m\u001b[0;31m\\\u001b[0m\u001b[1;33m\u001b[0m\u001b[0m\n\u001b[0;32m    153\u001b[0m                  A *  _KH_evolution(y, t, halo_gas_density, galaxy_velocity,\n\u001b[1;32m--> 154\u001b[1;33m                                                  galaxy_gas_density,physics_kwargs['KH'])+\\\n\u001b[0m\u001b[0;32m    155\u001b[0m                  B * _RPS_evolution(y, t, halo_gas_density, galaxy_velocity,\n\u001b[0;32m    156\u001b[0m                                            galaxy_gas_density, galaxy_gas_density(0.0),physics_kwargs['RPS'])\n",
      "\u001b[1;31mTypeError\u001b[0m: _KH_evolution() takes exactly 5 arguments (6 given)"
     ]
    },
    {
     "ename": "TypeError",
     "evalue": "_KH_evolution() takes exactly 5 arguments (6 given)",
     "output_type": "error",
     "traceback": [
      "\u001b[1;31m---------------------------------------------------------------------------\u001b[0m",
      "\u001b[1;31mTypeError\u001b[0m                                 Traceback (most recent call last)",
      "\u001b[1;32m/home/emerick/Research/dwarfs/analysis/analytic_model/dwarf_model.py\u001b[0m in \u001b[0;36m<lambda>\u001b[1;34m(y, t, A, B)\u001b[0m\n\u001b[0;32m    152\u001b[0m     \u001b[0mode_function\u001b[0m \u001b[1;33m=\u001b[0m \u001b[1;32mlambda\u001b[0m \u001b[0my\u001b[0m\u001b[1;33m,\u001b[0m \u001b[0mt\u001b[0m\u001b[1;33m,\u001b[0m \u001b[0mA\u001b[0m\u001b[1;33m,\u001b[0m \u001b[0mB\u001b[0m\u001b[1;33m:\u001b[0m\u001b[0;31m\\\u001b[0m\u001b[1;33m\u001b[0m\u001b[0m\n\u001b[0;32m    153\u001b[0m                  A *  _KH_evolution(y, t, halo_gas_density, galaxy_velocity,\n\u001b[1;32m--> 154\u001b[1;33m                                                  galaxy_gas_density,physics_kwargs['KH'])+\\\n\u001b[0m\u001b[0;32m    155\u001b[0m                  B * _RPS_evolution(y, t, halo_gas_density, galaxy_velocity,\n\u001b[0;32m    156\u001b[0m                                            galaxy_gas_density, galaxy_gas_density(0.0),physics_kwargs['RPS'])\n",
      "\u001b[1;31mTypeError\u001b[0m: _KH_evolution() takes exactly 5 arguments (6 given)"
     ]
    },
    {
     "ename": "TypeError",
     "evalue": "_KH_evolution() takes exactly 5 arguments (6 given)",
     "output_type": "error",
     "traceback": [
      "\u001b[1;31m---------------------------------------------------------------------------\u001b[0m",
      "\u001b[1;31mTypeError\u001b[0m                                 Traceback (most recent call last)",
      "\u001b[1;32m/home/emerick/Research/dwarfs/analysis/analytic_model/dwarf_model.py\u001b[0m in \u001b[0;36m<lambda>\u001b[1;34m(y, t, A, B)\u001b[0m\n\u001b[0;32m    152\u001b[0m     \u001b[0mode_function\u001b[0m \u001b[1;33m=\u001b[0m \u001b[1;32mlambda\u001b[0m \u001b[0my\u001b[0m\u001b[1;33m,\u001b[0m \u001b[0mt\u001b[0m\u001b[1;33m,\u001b[0m \u001b[0mA\u001b[0m\u001b[1;33m,\u001b[0m \u001b[0mB\u001b[0m\u001b[1;33m:\u001b[0m\u001b[0;31m\\\u001b[0m\u001b[1;33m\u001b[0m\u001b[0m\n\u001b[0;32m    153\u001b[0m                  A *  _KH_evolution(y, t, halo_gas_density, galaxy_velocity,\n\u001b[1;32m--> 154\u001b[1;33m                                                  galaxy_gas_density,physics_kwargs['KH'])+\\\n\u001b[0m\u001b[0;32m    155\u001b[0m                  B * _RPS_evolution(y, t, halo_gas_density, galaxy_velocity,\n\u001b[0;32m    156\u001b[0m                                            galaxy_gas_density, galaxy_gas_density(0.0),physics_kwargs['RPS'])\n",
      "\u001b[1;31mTypeError\u001b[0m: _KH_evolution() takes exactly 5 arguments (6 given)"
     ]
    },
    {
     "ename": "TypeError",
     "evalue": "_KH_evolution() takes exactly 5 arguments (6 given)",
     "output_type": "error",
     "traceback": [
      "\u001b[1;31m---------------------------------------------------------------------------\u001b[0m",
      "\u001b[1;31mTypeError\u001b[0m                                 Traceback (most recent call last)",
      "\u001b[1;32m/home/emerick/Research/dwarfs/analysis/analytic_model/dwarf_model.py\u001b[0m in \u001b[0;36m<lambda>\u001b[1;34m(y, t, A, B)\u001b[0m\n\u001b[0;32m    152\u001b[0m     \u001b[0mode_function\u001b[0m \u001b[1;33m=\u001b[0m \u001b[1;32mlambda\u001b[0m \u001b[0my\u001b[0m\u001b[1;33m,\u001b[0m \u001b[0mt\u001b[0m\u001b[1;33m,\u001b[0m \u001b[0mA\u001b[0m\u001b[1;33m,\u001b[0m \u001b[0mB\u001b[0m\u001b[1;33m:\u001b[0m\u001b[0;31m\\\u001b[0m\u001b[1;33m\u001b[0m\u001b[0m\n\u001b[0;32m    153\u001b[0m                  A *  _KH_evolution(y, t, halo_gas_density, galaxy_velocity,\n\u001b[1;32m--> 154\u001b[1;33m                                                  galaxy_gas_density,physics_kwargs['KH'])+\\\n\u001b[0m\u001b[0;32m    155\u001b[0m                  B * _RPS_evolution(y, t, halo_gas_density, galaxy_velocity,\n\u001b[0;32m    156\u001b[0m                                            galaxy_gas_density, galaxy_gas_density(0.0),physics_kwargs['RPS'])\n",
      "\u001b[1;31mTypeError\u001b[0m: _KH_evolution() takes exactly 5 arguments (6 given)"
     ]
    },
    {
     "ename": "TypeError",
     "evalue": "_KH_evolution() takes exactly 5 arguments (6 given)",
     "output_type": "error",
     "traceback": [
      "\u001b[1;31m---------------------------------------------------------------------------\u001b[0m",
      "\u001b[1;31mTypeError\u001b[0m                                 Traceback (most recent call last)",
      "\u001b[1;32m/home/emerick/Research/dwarfs/analysis/analytic_model/dwarf_model.py\u001b[0m in \u001b[0;36m<lambda>\u001b[1;34m(y, t, A, B)\u001b[0m\n\u001b[0;32m    152\u001b[0m     \u001b[0mode_function\u001b[0m \u001b[1;33m=\u001b[0m \u001b[1;32mlambda\u001b[0m \u001b[0my\u001b[0m\u001b[1;33m,\u001b[0m \u001b[0mt\u001b[0m\u001b[1;33m,\u001b[0m \u001b[0mA\u001b[0m\u001b[1;33m,\u001b[0m \u001b[0mB\u001b[0m\u001b[1;33m:\u001b[0m\u001b[0;31m\\\u001b[0m\u001b[1;33m\u001b[0m\u001b[0m\n\u001b[0;32m    153\u001b[0m                  A *  _KH_evolution(y, t, halo_gas_density, galaxy_velocity,\n\u001b[1;32m--> 154\u001b[1;33m                                                  galaxy_gas_density,physics_kwargs['KH'])+\\\n\u001b[0m\u001b[0;32m    155\u001b[0m                  B * _RPS_evolution(y, t, halo_gas_density, galaxy_velocity,\n\u001b[0;32m    156\u001b[0m                                            galaxy_gas_density, galaxy_gas_density(0.0),physics_kwargs['RPS'])\n",
      "\u001b[1;31mTypeError\u001b[0m: _KH_evolution() takes exactly 5 arguments (6 given)"
     ]
    },
    {
     "ename": "TypeError",
     "evalue": "_KH_evolution() takes exactly 5 arguments (6 given)",
     "output_type": "error",
     "traceback": [
      "\u001b[1;31m---------------------------------------------------------------------------\u001b[0m",
      "\u001b[1;31mTypeError\u001b[0m                                 Traceback (most recent call last)",
      "\u001b[1;32m/home/emerick/Research/dwarfs/analysis/analytic_model/dwarf_model.py\u001b[0m in \u001b[0;36m<lambda>\u001b[1;34m(y, t, A, B)\u001b[0m\n\u001b[0;32m    152\u001b[0m     \u001b[0mode_function\u001b[0m \u001b[1;33m=\u001b[0m \u001b[1;32mlambda\u001b[0m \u001b[0my\u001b[0m\u001b[1;33m,\u001b[0m \u001b[0mt\u001b[0m\u001b[1;33m,\u001b[0m \u001b[0mA\u001b[0m\u001b[1;33m,\u001b[0m \u001b[0mB\u001b[0m\u001b[1;33m:\u001b[0m\u001b[0;31m\\\u001b[0m\u001b[1;33m\u001b[0m\u001b[0m\n\u001b[0;32m    153\u001b[0m                  A *  _KH_evolution(y, t, halo_gas_density, galaxy_velocity,\n\u001b[1;32m--> 154\u001b[1;33m                                                  galaxy_gas_density,physics_kwargs['KH'])+\\\n\u001b[0m\u001b[0;32m    155\u001b[0m                  B * _RPS_evolution(y, t, halo_gas_density, galaxy_velocity,\n\u001b[0;32m    156\u001b[0m                                            galaxy_gas_density, galaxy_gas_density(0.0),physics_kwargs['RPS'])\n",
      "\u001b[1;31mTypeError\u001b[0m: _KH_evolution() takes exactly 5 arguments (6 given)"
     ]
    },
    {
     "ename": "TypeError",
     "evalue": "_KH_evolution() takes exactly 5 arguments (6 given)",
     "output_type": "error",
     "traceback": [
      "\u001b[1;31m---------------------------------------------------------------------------\u001b[0m",
      "\u001b[1;31mTypeError\u001b[0m                                 Traceback (most recent call last)",
      "\u001b[1;32m/home/emerick/Research/dwarfs/analysis/analytic_model/dwarf_model.py\u001b[0m in \u001b[0;36m<lambda>\u001b[1;34m(y, t, A, B)\u001b[0m\n\u001b[0;32m    152\u001b[0m     \u001b[0mode_function\u001b[0m \u001b[1;33m=\u001b[0m \u001b[1;32mlambda\u001b[0m \u001b[0my\u001b[0m\u001b[1;33m,\u001b[0m \u001b[0mt\u001b[0m\u001b[1;33m,\u001b[0m \u001b[0mA\u001b[0m\u001b[1;33m,\u001b[0m \u001b[0mB\u001b[0m\u001b[1;33m:\u001b[0m\u001b[0;31m\\\u001b[0m\u001b[1;33m\u001b[0m\u001b[0m\n\u001b[0;32m    153\u001b[0m                  A *  _KH_evolution(y, t, halo_gas_density, galaxy_velocity,\n\u001b[1;32m--> 154\u001b[1;33m                                                  galaxy_gas_density,physics_kwargs['KH'])+\\\n\u001b[0m\u001b[0;32m    155\u001b[0m                  B * _RPS_evolution(y, t, halo_gas_density, galaxy_velocity,\n\u001b[0;32m    156\u001b[0m                                            galaxy_gas_density, galaxy_gas_density(0.0),physics_kwargs['RPS'])\n",
      "\u001b[1;31mTypeError\u001b[0m: _KH_evolution() takes exactly 5 arguments (6 given)"
     ]
    },
    {
     "ename": "TypeError",
     "evalue": "_KH_evolution() takes exactly 5 arguments (6 given)",
     "output_type": "error",
     "traceback": [
      "\u001b[1;31m---------------------------------------------------------------------------\u001b[0m",
      "\u001b[1;31mTypeError\u001b[0m                                 Traceback (most recent call last)",
      "\u001b[1;32m/home/emerick/Research/dwarfs/analysis/analytic_model/dwarf_model.py\u001b[0m in \u001b[0;36m<lambda>\u001b[1;34m(y, t, A, B)\u001b[0m\n\u001b[0;32m    152\u001b[0m     \u001b[0mode_function\u001b[0m \u001b[1;33m=\u001b[0m \u001b[1;32mlambda\u001b[0m \u001b[0my\u001b[0m\u001b[1;33m,\u001b[0m \u001b[0mt\u001b[0m\u001b[1;33m,\u001b[0m \u001b[0mA\u001b[0m\u001b[1;33m,\u001b[0m \u001b[0mB\u001b[0m\u001b[1;33m:\u001b[0m\u001b[0;31m\\\u001b[0m\u001b[1;33m\u001b[0m\u001b[0m\n\u001b[0;32m    153\u001b[0m                  A *  _KH_evolution(y, t, halo_gas_density, galaxy_velocity,\n\u001b[1;32m--> 154\u001b[1;33m                                                  galaxy_gas_density,physics_kwargs['KH'])+\\\n\u001b[0m\u001b[0;32m    155\u001b[0m                  B * _RPS_evolution(y, t, halo_gas_density, galaxy_velocity,\n\u001b[0;32m    156\u001b[0m                                            galaxy_gas_density, galaxy_gas_density(0.0),physics_kwargs['RPS'])\n",
      "\u001b[1;31mTypeError\u001b[0m: _KH_evolution() takes exactly 5 arguments (6 given)"
     ]
    },
    {
     "ename": "TypeError",
     "evalue": "_KH_evolution() takes exactly 5 arguments (6 given)",
     "output_type": "error",
     "traceback": [
      "\u001b[1;31m---------------------------------------------------------------------------\u001b[0m",
      "\u001b[1;31mTypeError\u001b[0m                                 Traceback (most recent call last)",
      "\u001b[1;32m/home/emerick/Research/dwarfs/analysis/analytic_model/dwarf_model.py\u001b[0m in \u001b[0;36m<lambda>\u001b[1;34m(y, t, A, B)\u001b[0m\n\u001b[0;32m    152\u001b[0m     \u001b[0mode_function\u001b[0m \u001b[1;33m=\u001b[0m \u001b[1;32mlambda\u001b[0m \u001b[0my\u001b[0m\u001b[1;33m,\u001b[0m \u001b[0mt\u001b[0m\u001b[1;33m,\u001b[0m \u001b[0mA\u001b[0m\u001b[1;33m,\u001b[0m \u001b[0mB\u001b[0m\u001b[1;33m:\u001b[0m\u001b[0;31m\\\u001b[0m\u001b[1;33m\u001b[0m\u001b[0m\n\u001b[0;32m    153\u001b[0m                  A *  _KH_evolution(y, t, halo_gas_density, galaxy_velocity,\n\u001b[1;32m--> 154\u001b[1;33m                                                  galaxy_gas_density,physics_kwargs['KH'])+\\\n\u001b[0m\u001b[0;32m    155\u001b[0m                  B * _RPS_evolution(y, t, halo_gas_density, galaxy_velocity,\n\u001b[0;32m    156\u001b[0m                                            galaxy_gas_density, galaxy_gas_density(0.0),physics_kwargs['RPS'])\n",
      "\u001b[1;31mTypeError\u001b[0m: _KH_evolution() takes exactly 5 arguments (6 given)"
     ]
    },
    {
     "ename": "TypeError",
     "evalue": "_KH_evolution() takes exactly 5 arguments (6 given)",
     "output_type": "error",
     "traceback": [
      "\u001b[1;31m---------------------------------------------------------------------------\u001b[0m",
      "\u001b[1;31mTypeError\u001b[0m                                 Traceback (most recent call last)",
      "\u001b[1;32m/home/emerick/Research/dwarfs/analysis/analytic_model/dwarf_model.py\u001b[0m in \u001b[0;36m<lambda>\u001b[1;34m(y, t, A, B)\u001b[0m\n\u001b[0;32m    152\u001b[0m     \u001b[0mode_function\u001b[0m \u001b[1;33m=\u001b[0m \u001b[1;32mlambda\u001b[0m \u001b[0my\u001b[0m\u001b[1;33m,\u001b[0m \u001b[0mt\u001b[0m\u001b[1;33m,\u001b[0m \u001b[0mA\u001b[0m\u001b[1;33m,\u001b[0m \u001b[0mB\u001b[0m\u001b[1;33m:\u001b[0m\u001b[0;31m\\\u001b[0m\u001b[1;33m\u001b[0m\u001b[0m\n\u001b[0;32m    153\u001b[0m                  A *  _KH_evolution(y, t, halo_gas_density, galaxy_velocity,\n\u001b[1;32m--> 154\u001b[1;33m                                                  galaxy_gas_density,physics_kwargs['KH'])+\\\n\u001b[0m\u001b[0;32m    155\u001b[0m                  B * _RPS_evolution(y, t, halo_gas_density, galaxy_velocity,\n\u001b[0;32m    156\u001b[0m                                            galaxy_gas_density, galaxy_gas_density(0.0),physics_kwargs['RPS'])\n",
      "\u001b[1;31mTypeError\u001b[0m: _KH_evolution() takes exactly 5 arguments (6 given)"
     ]
    },
    {
     "ename": "TypeError",
     "evalue": "_KH_evolution() takes exactly 5 arguments (6 given)",
     "output_type": "error",
     "traceback": [
      "\u001b[1;31m---------------------------------------------------------------------------\u001b[0m",
      "\u001b[1;31mTypeError\u001b[0m                                 Traceback (most recent call last)",
      "\u001b[1;32m/home/emerick/Research/dwarfs/analysis/analytic_model/dwarf_model.py\u001b[0m in \u001b[0;36m<lambda>\u001b[1;34m(y, t, A, B)\u001b[0m\n\u001b[0;32m    152\u001b[0m     \u001b[0mode_function\u001b[0m \u001b[1;33m=\u001b[0m \u001b[1;32mlambda\u001b[0m \u001b[0my\u001b[0m\u001b[1;33m,\u001b[0m \u001b[0mt\u001b[0m\u001b[1;33m,\u001b[0m \u001b[0mA\u001b[0m\u001b[1;33m,\u001b[0m \u001b[0mB\u001b[0m\u001b[1;33m:\u001b[0m\u001b[0;31m\\\u001b[0m\u001b[1;33m\u001b[0m\u001b[0m\n\u001b[0;32m    153\u001b[0m                  A *  _KH_evolution(y, t, halo_gas_density, galaxy_velocity,\n\u001b[1;32m--> 154\u001b[1;33m                                                  galaxy_gas_density,physics_kwargs['KH'])+\\\n\u001b[0m\u001b[0;32m    155\u001b[0m                  B * _RPS_evolution(y, t, halo_gas_density, galaxy_velocity,\n\u001b[0;32m    156\u001b[0m                                            galaxy_gas_density, galaxy_gas_density(0.0),physics_kwargs['RPS'])\n",
      "\u001b[1;31mTypeError\u001b[0m: _KH_evolution() takes exactly 5 arguments (6 given)"
     ]
    },
    {
     "ename": "TypeError",
     "evalue": "_KH_evolution() takes exactly 5 arguments (6 given)",
     "output_type": "error",
     "traceback": [
      "\u001b[1;31m---------------------------------------------------------------------------\u001b[0m",
      "\u001b[1;31mTypeError\u001b[0m                                 Traceback (most recent call last)",
      "\u001b[1;32m/home/emerick/Research/dwarfs/analysis/analytic_model/dwarf_model.py\u001b[0m in \u001b[0;36m<lambda>\u001b[1;34m(y, t, A, B)\u001b[0m\n\u001b[0;32m    152\u001b[0m     \u001b[0mode_function\u001b[0m \u001b[1;33m=\u001b[0m \u001b[1;32mlambda\u001b[0m \u001b[0my\u001b[0m\u001b[1;33m,\u001b[0m \u001b[0mt\u001b[0m\u001b[1;33m,\u001b[0m \u001b[0mA\u001b[0m\u001b[1;33m,\u001b[0m \u001b[0mB\u001b[0m\u001b[1;33m:\u001b[0m\u001b[0;31m\\\u001b[0m\u001b[1;33m\u001b[0m\u001b[0m\n\u001b[0;32m    153\u001b[0m                  A *  _KH_evolution(y, t, halo_gas_density, galaxy_velocity,\n\u001b[1;32m--> 154\u001b[1;33m                                                  galaxy_gas_density,physics_kwargs['KH'])+\\\n\u001b[0m\u001b[0;32m    155\u001b[0m                  B * _RPS_evolution(y, t, halo_gas_density, galaxy_velocity,\n\u001b[0;32m    156\u001b[0m                                            galaxy_gas_density, galaxy_gas_density(0.0),physics_kwargs['RPS'])\n",
      "\u001b[1;31mTypeError\u001b[0m: _KH_evolution() takes exactly 5 arguments (6 given)"
     ]
    },
    {
     "ename": "TypeError",
     "evalue": "_KH_evolution() takes exactly 5 arguments (6 given)",
     "output_type": "error",
     "traceback": [
      "\u001b[1;31m---------------------------------------------------------------------------\u001b[0m",
      "\u001b[1;31mTypeError\u001b[0m                                 Traceback (most recent call last)",
      "\u001b[1;32m/home/emerick/Research/dwarfs/analysis/analytic_model/dwarf_model.py\u001b[0m in \u001b[0;36m<lambda>\u001b[1;34m(y, t, A, B)\u001b[0m\n\u001b[0;32m    152\u001b[0m     \u001b[0mode_function\u001b[0m \u001b[1;33m=\u001b[0m \u001b[1;32mlambda\u001b[0m \u001b[0my\u001b[0m\u001b[1;33m,\u001b[0m \u001b[0mt\u001b[0m\u001b[1;33m,\u001b[0m \u001b[0mA\u001b[0m\u001b[1;33m,\u001b[0m \u001b[0mB\u001b[0m\u001b[1;33m:\u001b[0m\u001b[0;31m\\\u001b[0m\u001b[1;33m\u001b[0m\u001b[0m\n\u001b[0;32m    153\u001b[0m                  A *  _KH_evolution(y, t, halo_gas_density, galaxy_velocity,\n\u001b[1;32m--> 154\u001b[1;33m                                                  galaxy_gas_density,physics_kwargs['KH'])+\\\n\u001b[0m\u001b[0;32m    155\u001b[0m                  B * _RPS_evolution(y, t, halo_gas_density, galaxy_velocity,\n\u001b[0;32m    156\u001b[0m                                            galaxy_gas_density, galaxy_gas_density(0.0),physics_kwargs['RPS'])\n",
      "\u001b[1;31mTypeError\u001b[0m: _KH_evolution() takes exactly 5 arguments (6 given)"
     ]
    },
    {
     "ename": "TypeError",
     "evalue": "_KH_evolution() takes exactly 5 arguments (6 given)",
     "output_type": "error",
     "traceback": [
      "\u001b[1;31m---------------------------------------------------------------------------\u001b[0m",
      "\u001b[1;31mTypeError\u001b[0m                                 Traceback (most recent call last)",
      "\u001b[1;32m/home/emerick/Research/dwarfs/analysis/analytic_model/dwarf_model.py\u001b[0m in \u001b[0;36m<lambda>\u001b[1;34m(y, t, A, B)\u001b[0m\n\u001b[0;32m    152\u001b[0m     \u001b[0mode_function\u001b[0m \u001b[1;33m=\u001b[0m \u001b[1;32mlambda\u001b[0m \u001b[0my\u001b[0m\u001b[1;33m,\u001b[0m \u001b[0mt\u001b[0m\u001b[1;33m,\u001b[0m \u001b[0mA\u001b[0m\u001b[1;33m,\u001b[0m \u001b[0mB\u001b[0m\u001b[1;33m:\u001b[0m\u001b[0;31m\\\u001b[0m\u001b[1;33m\u001b[0m\u001b[0m\n\u001b[0;32m    153\u001b[0m                  A *  _KH_evolution(y, t, halo_gas_density, galaxy_velocity,\n\u001b[1;32m--> 154\u001b[1;33m                                                  galaxy_gas_density,physics_kwargs['KH'])+\\\n\u001b[0m\u001b[0;32m    155\u001b[0m                  B * _RPS_evolution(y, t, halo_gas_density, galaxy_velocity,\n\u001b[0;32m    156\u001b[0m                                            galaxy_gas_density, galaxy_gas_density(0.0),physics_kwargs['RPS'])\n",
      "\u001b[1;31mTypeError\u001b[0m: _KH_evolution() takes exactly 5 arguments (6 given)"
     ]
    },
    {
     "ename": "TypeError",
     "evalue": "_KH_evolution() takes exactly 5 arguments (6 given)",
     "output_type": "error",
     "traceback": [
      "\u001b[1;31m---------------------------------------------------------------------------\u001b[0m",
      "\u001b[1;31mTypeError\u001b[0m                                 Traceback (most recent call last)",
      "\u001b[1;32m/home/emerick/Research/dwarfs/analysis/analytic_model/dwarf_model.py\u001b[0m in \u001b[0;36m<lambda>\u001b[1;34m(y, t, A, B)\u001b[0m\n\u001b[0;32m    152\u001b[0m     \u001b[0mode_function\u001b[0m \u001b[1;33m=\u001b[0m \u001b[1;32mlambda\u001b[0m \u001b[0my\u001b[0m\u001b[1;33m,\u001b[0m \u001b[0mt\u001b[0m\u001b[1;33m,\u001b[0m \u001b[0mA\u001b[0m\u001b[1;33m,\u001b[0m \u001b[0mB\u001b[0m\u001b[1;33m:\u001b[0m\u001b[0;31m\\\u001b[0m\u001b[1;33m\u001b[0m\u001b[0m\n\u001b[0;32m    153\u001b[0m                  A *  _KH_evolution(y, t, halo_gas_density, galaxy_velocity,\n\u001b[1;32m--> 154\u001b[1;33m                                                  galaxy_gas_density,physics_kwargs['KH'])+\\\n\u001b[0m\u001b[0;32m    155\u001b[0m                  B * _RPS_evolution(y, t, halo_gas_density, galaxy_velocity,\n\u001b[0;32m    156\u001b[0m                                            galaxy_gas_density, galaxy_gas_density(0.0),physics_kwargs['RPS'])\n",
      "\u001b[1;31mTypeError\u001b[0m: _KH_evolution() takes exactly 5 arguments (6 given)"
     ]
    },
    {
     "ename": "TypeError",
     "evalue": "_KH_evolution() takes exactly 5 arguments (6 given)",
     "output_type": "error",
     "traceback": [
      "\u001b[1;31m---------------------------------------------------------------------------\u001b[0m",
      "\u001b[1;31mTypeError\u001b[0m                                 Traceback (most recent call last)",
      "\u001b[1;32m/home/emerick/Research/dwarfs/analysis/analytic_model/dwarf_model.py\u001b[0m in \u001b[0;36m<lambda>\u001b[1;34m(y, t, A, B)\u001b[0m\n\u001b[0;32m    152\u001b[0m     \u001b[0mode_function\u001b[0m \u001b[1;33m=\u001b[0m \u001b[1;32mlambda\u001b[0m \u001b[0my\u001b[0m\u001b[1;33m,\u001b[0m \u001b[0mt\u001b[0m\u001b[1;33m,\u001b[0m \u001b[0mA\u001b[0m\u001b[1;33m,\u001b[0m \u001b[0mB\u001b[0m\u001b[1;33m:\u001b[0m\u001b[0;31m\\\u001b[0m\u001b[1;33m\u001b[0m\u001b[0m\n\u001b[0;32m    153\u001b[0m                  A *  _KH_evolution(y, t, halo_gas_density, galaxy_velocity,\n\u001b[1;32m--> 154\u001b[1;33m                                                  galaxy_gas_density,physics_kwargs['KH'])+\\\n\u001b[0m\u001b[0;32m    155\u001b[0m                  B * _RPS_evolution(y, t, halo_gas_density, galaxy_velocity,\n\u001b[0;32m    156\u001b[0m                                            galaxy_gas_density, galaxy_gas_density(0.0),physics_kwargs['RPS'])\n",
      "\u001b[1;31mTypeError\u001b[0m: _KH_evolution() takes exactly 5 arguments (6 given)"
     ]
    },
    {
     "ename": "TypeError",
     "evalue": "_KH_evolution() takes exactly 5 arguments (6 given)",
     "output_type": "error",
     "traceback": [
      "\u001b[1;31m---------------------------------------------------------------------------\u001b[0m",
      "\u001b[1;31mTypeError\u001b[0m                                 Traceback (most recent call last)",
      "\u001b[1;32m/home/emerick/Research/dwarfs/analysis/analytic_model/dwarf_model.py\u001b[0m in \u001b[0;36m<lambda>\u001b[1;34m(y, t, A, B)\u001b[0m\n\u001b[0;32m    152\u001b[0m     \u001b[0mode_function\u001b[0m \u001b[1;33m=\u001b[0m \u001b[1;32mlambda\u001b[0m \u001b[0my\u001b[0m\u001b[1;33m,\u001b[0m \u001b[0mt\u001b[0m\u001b[1;33m,\u001b[0m \u001b[0mA\u001b[0m\u001b[1;33m,\u001b[0m \u001b[0mB\u001b[0m\u001b[1;33m:\u001b[0m\u001b[0;31m\\\u001b[0m\u001b[1;33m\u001b[0m\u001b[0m\n\u001b[0;32m    153\u001b[0m                  A *  _KH_evolution(y, t, halo_gas_density, galaxy_velocity,\n\u001b[1;32m--> 154\u001b[1;33m                                                  galaxy_gas_density,physics_kwargs['KH'])+\\\n\u001b[0m\u001b[0;32m    155\u001b[0m                  B * _RPS_evolution(y, t, halo_gas_density, galaxy_velocity,\n\u001b[0;32m    156\u001b[0m                                            galaxy_gas_density, galaxy_gas_density(0.0),physics_kwargs['RPS'])\n",
      "\u001b[1;31mTypeError\u001b[0m: _KH_evolution() takes exactly 5 arguments (6 given)"
     ]
    },
    {
     "ename": "TypeError",
     "evalue": "_KH_evolution() takes exactly 5 arguments (6 given)",
     "output_type": "error",
     "traceback": [
      "\u001b[1;31m---------------------------------------------------------------------------\u001b[0m",
      "\u001b[1;31mTypeError\u001b[0m                                 Traceback (most recent call last)",
      "\u001b[1;32m/home/emerick/Research/dwarfs/analysis/analytic_model/dwarf_model.py\u001b[0m in \u001b[0;36m<lambda>\u001b[1;34m(y, t, A, B)\u001b[0m\n\u001b[0;32m    152\u001b[0m     \u001b[0mode_function\u001b[0m \u001b[1;33m=\u001b[0m \u001b[1;32mlambda\u001b[0m \u001b[0my\u001b[0m\u001b[1;33m,\u001b[0m \u001b[0mt\u001b[0m\u001b[1;33m,\u001b[0m \u001b[0mA\u001b[0m\u001b[1;33m,\u001b[0m \u001b[0mB\u001b[0m\u001b[1;33m:\u001b[0m\u001b[0;31m\\\u001b[0m\u001b[1;33m\u001b[0m\u001b[0m\n\u001b[0;32m    153\u001b[0m                  A *  _KH_evolution(y, t, halo_gas_density, galaxy_velocity,\n\u001b[1;32m--> 154\u001b[1;33m                                                  galaxy_gas_density,physics_kwargs['KH'])+\\\n\u001b[0m\u001b[0;32m    155\u001b[0m                  B * _RPS_evolution(y, t, halo_gas_density, galaxy_velocity,\n\u001b[0;32m    156\u001b[0m                                            galaxy_gas_density, galaxy_gas_density(0.0),physics_kwargs['RPS'])\n",
      "\u001b[1;31mTypeError\u001b[0m: _KH_evolution() takes exactly 5 arguments (6 given)"
     ]
    },
    {
     "ename": "TypeError",
     "evalue": "_KH_evolution() takes exactly 5 arguments (6 given)",
     "output_type": "error",
     "traceback": [
      "\u001b[1;31m---------------------------------------------------------------------------\u001b[0m",
      "\u001b[1;31mTypeError\u001b[0m                                 Traceback (most recent call last)",
      "\u001b[1;32m/home/emerick/Research/dwarfs/analysis/analytic_model/dwarf_model.py\u001b[0m in \u001b[0;36m<lambda>\u001b[1;34m(y, t, A, B)\u001b[0m\n\u001b[0;32m    152\u001b[0m     \u001b[0mode_function\u001b[0m \u001b[1;33m=\u001b[0m \u001b[1;32mlambda\u001b[0m \u001b[0my\u001b[0m\u001b[1;33m,\u001b[0m \u001b[0mt\u001b[0m\u001b[1;33m,\u001b[0m \u001b[0mA\u001b[0m\u001b[1;33m,\u001b[0m \u001b[0mB\u001b[0m\u001b[1;33m:\u001b[0m\u001b[0;31m\\\u001b[0m\u001b[1;33m\u001b[0m\u001b[0m\n\u001b[0;32m    153\u001b[0m                  A *  _KH_evolution(y, t, halo_gas_density, galaxy_velocity,\n\u001b[1;32m--> 154\u001b[1;33m                                                  galaxy_gas_density,physics_kwargs['KH'])+\\\n\u001b[0m\u001b[0;32m    155\u001b[0m                  B * _RPS_evolution(y, t, halo_gas_density, galaxy_velocity,\n\u001b[0;32m    156\u001b[0m                                            galaxy_gas_density, galaxy_gas_density(0.0),physics_kwargs['RPS'])\n",
      "\u001b[1;31mTypeError\u001b[0m: _KH_evolution() takes exactly 5 arguments (6 given)"
     ]
    },
    {
     "ename": "TypeError",
     "evalue": "_KH_evolution() takes exactly 5 arguments (6 given)",
     "output_type": "error",
     "traceback": [
      "\u001b[1;31m---------------------------------------------------------------------------\u001b[0m",
      "\u001b[1;31mTypeError\u001b[0m                                 Traceback (most recent call last)",
      "\u001b[1;32m/home/emerick/Research/dwarfs/analysis/analytic_model/dwarf_model.py\u001b[0m in \u001b[0;36m<lambda>\u001b[1;34m(y, t, A, B)\u001b[0m\n\u001b[0;32m    152\u001b[0m     \u001b[0mode_function\u001b[0m \u001b[1;33m=\u001b[0m \u001b[1;32mlambda\u001b[0m \u001b[0my\u001b[0m\u001b[1;33m,\u001b[0m \u001b[0mt\u001b[0m\u001b[1;33m,\u001b[0m \u001b[0mA\u001b[0m\u001b[1;33m,\u001b[0m \u001b[0mB\u001b[0m\u001b[1;33m:\u001b[0m\u001b[0;31m\\\u001b[0m\u001b[1;33m\u001b[0m\u001b[0m\n\u001b[0;32m    153\u001b[0m                  A *  _KH_evolution(y, t, halo_gas_density, galaxy_velocity,\n\u001b[1;32m--> 154\u001b[1;33m                                                  galaxy_gas_density,physics_kwargs['KH'])+\\\n\u001b[0m\u001b[0;32m    155\u001b[0m                  B * _RPS_evolution(y, t, halo_gas_density, galaxy_velocity,\n\u001b[0;32m    156\u001b[0m                                            galaxy_gas_density, galaxy_gas_density(0.0),physics_kwargs['RPS'])\n",
      "\u001b[1;31mTypeError\u001b[0m: _KH_evolution() takes exactly 5 arguments (6 given)"
     ]
    },
    {
     "ename": "TypeError",
     "evalue": "_KH_evolution() takes exactly 5 arguments (6 given)",
     "output_type": "error",
     "traceback": [
      "\u001b[1;31m---------------------------------------------------------------------------\u001b[0m",
      "\u001b[1;31mTypeError\u001b[0m                                 Traceback (most recent call last)",
      "\u001b[1;32m/home/emerick/Research/dwarfs/analysis/analytic_model/dwarf_model.py\u001b[0m in \u001b[0;36m<lambda>\u001b[1;34m(y, t, A, B)\u001b[0m\n\u001b[0;32m    152\u001b[0m     \u001b[0mode_function\u001b[0m \u001b[1;33m=\u001b[0m \u001b[1;32mlambda\u001b[0m \u001b[0my\u001b[0m\u001b[1;33m,\u001b[0m \u001b[0mt\u001b[0m\u001b[1;33m,\u001b[0m \u001b[0mA\u001b[0m\u001b[1;33m,\u001b[0m \u001b[0mB\u001b[0m\u001b[1;33m:\u001b[0m\u001b[0;31m\\\u001b[0m\u001b[1;33m\u001b[0m\u001b[0m\n\u001b[0;32m    153\u001b[0m                  A *  _KH_evolution(y, t, halo_gas_density, galaxy_velocity,\n\u001b[1;32m--> 154\u001b[1;33m                                                  galaxy_gas_density,physics_kwargs['KH'])+\\\n\u001b[0m\u001b[0;32m    155\u001b[0m                  B * _RPS_evolution(y, t, halo_gas_density, galaxy_velocity,\n\u001b[0;32m    156\u001b[0m                                            galaxy_gas_density, galaxy_gas_density(0.0),physics_kwargs['RPS'])\n",
      "\u001b[1;31mTypeError\u001b[0m: _KH_evolution() takes exactly 5 arguments (6 given)"
     ]
    },
    {
     "ename": "TypeError",
     "evalue": "_KH_evolution() takes exactly 5 arguments (6 given)",
     "output_type": "error",
     "traceback": [
      "\u001b[1;31m---------------------------------------------------------------------------\u001b[0m",
      "\u001b[1;31mTypeError\u001b[0m                                 Traceback (most recent call last)",
      "\u001b[1;32m/home/emerick/Research/dwarfs/analysis/analytic_model/dwarf_model.py\u001b[0m in \u001b[0;36m<lambda>\u001b[1;34m(y, t, A, B)\u001b[0m\n\u001b[0;32m    152\u001b[0m     \u001b[0mode_function\u001b[0m \u001b[1;33m=\u001b[0m \u001b[1;32mlambda\u001b[0m \u001b[0my\u001b[0m\u001b[1;33m,\u001b[0m \u001b[0mt\u001b[0m\u001b[1;33m,\u001b[0m \u001b[0mA\u001b[0m\u001b[1;33m,\u001b[0m \u001b[0mB\u001b[0m\u001b[1;33m:\u001b[0m\u001b[0;31m\\\u001b[0m\u001b[1;33m\u001b[0m\u001b[0m\n\u001b[0;32m    153\u001b[0m                  A *  _KH_evolution(y, t, halo_gas_density, galaxy_velocity,\n\u001b[1;32m--> 154\u001b[1;33m                                                  galaxy_gas_density,physics_kwargs['KH'])+\\\n\u001b[0m\u001b[0;32m    155\u001b[0m                  B * _RPS_evolution(y, t, halo_gas_density, galaxy_velocity,\n\u001b[0;32m    156\u001b[0m                                            galaxy_gas_density, galaxy_gas_density(0.0),physics_kwargs['RPS'])\n",
      "\u001b[1;31mTypeError\u001b[0m: _KH_evolution() takes exactly 5 arguments (6 given)"
     ]
    },
    {
     "ename": "TypeError",
     "evalue": "_KH_evolution() takes exactly 5 arguments (6 given)",
     "output_type": "error",
     "traceback": [
      "\u001b[1;31m---------------------------------------------------------------------------\u001b[0m",
      "\u001b[1;31mTypeError\u001b[0m                                 Traceback (most recent call last)",
      "\u001b[1;32m/home/emerick/Research/dwarfs/analysis/analytic_model/dwarf_model.py\u001b[0m in \u001b[0;36m<lambda>\u001b[1;34m(y, t, A, B)\u001b[0m\n\u001b[0;32m    152\u001b[0m     \u001b[0mode_function\u001b[0m \u001b[1;33m=\u001b[0m \u001b[1;32mlambda\u001b[0m \u001b[0my\u001b[0m\u001b[1;33m,\u001b[0m \u001b[0mt\u001b[0m\u001b[1;33m,\u001b[0m \u001b[0mA\u001b[0m\u001b[1;33m,\u001b[0m \u001b[0mB\u001b[0m\u001b[1;33m:\u001b[0m\u001b[0;31m\\\u001b[0m\u001b[1;33m\u001b[0m\u001b[0m\n\u001b[0;32m    153\u001b[0m                  A *  _KH_evolution(y, t, halo_gas_density, galaxy_velocity,\n\u001b[1;32m--> 154\u001b[1;33m                                                  galaxy_gas_density,physics_kwargs['KH'])+\\\n\u001b[0m\u001b[0;32m    155\u001b[0m                  B * _RPS_evolution(y, t, halo_gas_density, galaxy_velocity,\n\u001b[0;32m    156\u001b[0m                                            galaxy_gas_density, galaxy_gas_density(0.0),physics_kwargs['RPS'])\n",
      "\u001b[1;31mTypeError\u001b[0m: _KH_evolution() takes exactly 5 arguments (6 given)"
     ]
    },
    {
     "ename": "TypeError",
     "evalue": "_KH_evolution() takes exactly 5 arguments (6 given)",
     "output_type": "error",
     "traceback": [
      "\u001b[1;31m---------------------------------------------------------------------------\u001b[0m",
      "\u001b[1;31mTypeError\u001b[0m                                 Traceback (most recent call last)",
      "\u001b[1;32m/home/emerick/Research/dwarfs/analysis/analytic_model/dwarf_model.py\u001b[0m in \u001b[0;36m<lambda>\u001b[1;34m(y, t, A, B)\u001b[0m\n\u001b[0;32m    152\u001b[0m     \u001b[0mode_function\u001b[0m \u001b[1;33m=\u001b[0m \u001b[1;32mlambda\u001b[0m \u001b[0my\u001b[0m\u001b[1;33m,\u001b[0m \u001b[0mt\u001b[0m\u001b[1;33m,\u001b[0m \u001b[0mA\u001b[0m\u001b[1;33m,\u001b[0m \u001b[0mB\u001b[0m\u001b[1;33m:\u001b[0m\u001b[0;31m\\\u001b[0m\u001b[1;33m\u001b[0m\u001b[0m\n\u001b[0;32m    153\u001b[0m                  A *  _KH_evolution(y, t, halo_gas_density, galaxy_velocity,\n\u001b[1;32m--> 154\u001b[1;33m                                                  galaxy_gas_density,physics_kwargs['KH'])+\\\n\u001b[0m\u001b[0;32m    155\u001b[0m                  B * _RPS_evolution(y, t, halo_gas_density, galaxy_velocity,\n\u001b[0;32m    156\u001b[0m                                            galaxy_gas_density, galaxy_gas_density(0.0),physics_kwargs['RPS'])\n",
      "\u001b[1;31mTypeError\u001b[0m: _KH_evolution() takes exactly 5 arguments (6 given)"
     ]
    },
    {
     "ename": "TypeError",
     "evalue": "_KH_evolution() takes exactly 5 arguments (6 given)",
     "output_type": "error",
     "traceback": [
      "\u001b[1;31m---------------------------------------------------------------------------\u001b[0m",
      "\u001b[1;31mTypeError\u001b[0m                                 Traceback (most recent call last)",
      "\u001b[1;32m/home/emerick/Research/dwarfs/analysis/analytic_model/dwarf_model.py\u001b[0m in \u001b[0;36m<lambda>\u001b[1;34m(y, t, A, B)\u001b[0m\n\u001b[0;32m    152\u001b[0m     \u001b[0mode_function\u001b[0m \u001b[1;33m=\u001b[0m \u001b[1;32mlambda\u001b[0m \u001b[0my\u001b[0m\u001b[1;33m,\u001b[0m \u001b[0mt\u001b[0m\u001b[1;33m,\u001b[0m \u001b[0mA\u001b[0m\u001b[1;33m,\u001b[0m \u001b[0mB\u001b[0m\u001b[1;33m:\u001b[0m\u001b[0;31m\\\u001b[0m\u001b[1;33m\u001b[0m\u001b[0m\n\u001b[0;32m    153\u001b[0m                  A *  _KH_evolution(y, t, halo_gas_density, galaxy_velocity,\n\u001b[1;32m--> 154\u001b[1;33m                                                  galaxy_gas_density,physics_kwargs['KH'])+\\\n\u001b[0m\u001b[0;32m    155\u001b[0m                  B * _RPS_evolution(y, t, halo_gas_density, galaxy_velocity,\n\u001b[0;32m    156\u001b[0m                                            galaxy_gas_density, galaxy_gas_density(0.0),physics_kwargs['RPS'])\n",
      "\u001b[1;31mTypeError\u001b[0m: _KH_evolution() takes exactly 5 arguments (6 given)"
     ]
    },
    {
     "ename": "TypeError",
     "evalue": "_KH_evolution() takes exactly 5 arguments (6 given)",
     "output_type": "error",
     "traceback": [
      "\u001b[1;31m---------------------------------------------------------------------------\u001b[0m",
      "\u001b[1;31mTypeError\u001b[0m                                 Traceback (most recent call last)",
      "\u001b[1;32m/home/emerick/Research/dwarfs/analysis/analytic_model/dwarf_model.py\u001b[0m in \u001b[0;36m<lambda>\u001b[1;34m(y, t, A, B)\u001b[0m\n\u001b[0;32m    152\u001b[0m     \u001b[0mode_function\u001b[0m \u001b[1;33m=\u001b[0m \u001b[1;32mlambda\u001b[0m \u001b[0my\u001b[0m\u001b[1;33m,\u001b[0m \u001b[0mt\u001b[0m\u001b[1;33m,\u001b[0m \u001b[0mA\u001b[0m\u001b[1;33m,\u001b[0m \u001b[0mB\u001b[0m\u001b[1;33m:\u001b[0m\u001b[0;31m\\\u001b[0m\u001b[1;33m\u001b[0m\u001b[0m\n\u001b[0;32m    153\u001b[0m                  A *  _KH_evolution(y, t, halo_gas_density, galaxy_velocity,\n\u001b[1;32m--> 154\u001b[1;33m                                                  galaxy_gas_density,physics_kwargs['KH'])+\\\n\u001b[0m\u001b[0;32m    155\u001b[0m                  B * _RPS_evolution(y, t, halo_gas_density, galaxy_velocity,\n\u001b[0;32m    156\u001b[0m                                            galaxy_gas_density, galaxy_gas_density(0.0),physics_kwargs['RPS'])\n",
      "\u001b[1;31mTypeError\u001b[0m: _KH_evolution() takes exactly 5 arguments (6 given)"
     ]
    },
    {
     "ename": "TypeError",
     "evalue": "_KH_evolution() takes exactly 5 arguments (6 given)",
     "output_type": "error",
     "traceback": [
      "\u001b[1;31m---------------------------------------------------------------------------\u001b[0m",
      "\u001b[1;31mTypeError\u001b[0m                                 Traceback (most recent call last)",
      "\u001b[1;32m/home/emerick/Research/dwarfs/analysis/analytic_model/dwarf_model.py\u001b[0m in \u001b[0;36m<lambda>\u001b[1;34m(y, t, A, B)\u001b[0m\n\u001b[0;32m    152\u001b[0m     \u001b[0mode_function\u001b[0m \u001b[1;33m=\u001b[0m \u001b[1;32mlambda\u001b[0m \u001b[0my\u001b[0m\u001b[1;33m,\u001b[0m \u001b[0mt\u001b[0m\u001b[1;33m,\u001b[0m \u001b[0mA\u001b[0m\u001b[1;33m,\u001b[0m \u001b[0mB\u001b[0m\u001b[1;33m:\u001b[0m\u001b[0;31m\\\u001b[0m\u001b[1;33m\u001b[0m\u001b[0m\n\u001b[0;32m    153\u001b[0m                  A *  _KH_evolution(y, t, halo_gas_density, galaxy_velocity,\n\u001b[1;32m--> 154\u001b[1;33m                                                  galaxy_gas_density,physics_kwargs['KH'])+\\\n\u001b[0m\u001b[0;32m    155\u001b[0m                  B * _RPS_evolution(y, t, halo_gas_density, galaxy_velocity,\n\u001b[0;32m    156\u001b[0m                                            galaxy_gas_density, galaxy_gas_density(0.0),physics_kwargs['RPS'])\n",
      "\u001b[1;31mTypeError\u001b[0m: _KH_evolution() takes exactly 5 arguments (6 given)"
     ]
    },
    {
     "ename": "TypeError",
     "evalue": "_KH_evolution() takes exactly 5 arguments (6 given)",
     "output_type": "error",
     "traceback": [
      "\u001b[1;31m---------------------------------------------------------------------------\u001b[0m",
      "\u001b[1;31mTypeError\u001b[0m                                 Traceback (most recent call last)",
      "\u001b[1;32m/home/emerick/Research/dwarfs/analysis/analytic_model/dwarf_model.py\u001b[0m in \u001b[0;36m<lambda>\u001b[1;34m(y, t, A, B)\u001b[0m\n\u001b[0;32m    152\u001b[0m     \u001b[0mode_function\u001b[0m \u001b[1;33m=\u001b[0m \u001b[1;32mlambda\u001b[0m \u001b[0my\u001b[0m\u001b[1;33m,\u001b[0m \u001b[0mt\u001b[0m\u001b[1;33m,\u001b[0m \u001b[0mA\u001b[0m\u001b[1;33m,\u001b[0m \u001b[0mB\u001b[0m\u001b[1;33m:\u001b[0m\u001b[0;31m\\\u001b[0m\u001b[1;33m\u001b[0m\u001b[0m\n\u001b[0;32m    153\u001b[0m                  A *  _KH_evolution(y, t, halo_gas_density, galaxy_velocity,\n\u001b[1;32m--> 154\u001b[1;33m                                                  galaxy_gas_density,physics_kwargs['KH'])+\\\n\u001b[0m\u001b[0;32m    155\u001b[0m                  B * _RPS_evolution(y, t, halo_gas_density, galaxy_velocity,\n\u001b[0;32m    156\u001b[0m                                            galaxy_gas_density, galaxy_gas_density(0.0),physics_kwargs['RPS'])\n",
      "\u001b[1;31mTypeError\u001b[0m: _KH_evolution() takes exactly 5 arguments (6 given)"
     ]
    },
    {
     "ename": "TypeError",
     "evalue": "_KH_evolution() takes exactly 5 arguments (6 given)",
     "output_type": "error",
     "traceback": [
      "\u001b[1;31m---------------------------------------------------------------------------\u001b[0m",
      "\u001b[1;31mTypeError\u001b[0m                                 Traceback (most recent call last)",
      "\u001b[1;32m/home/emerick/Research/dwarfs/analysis/analytic_model/dwarf_model.py\u001b[0m in \u001b[0;36m<lambda>\u001b[1;34m(y, t, A, B)\u001b[0m\n\u001b[0;32m    152\u001b[0m     \u001b[0mode_function\u001b[0m \u001b[1;33m=\u001b[0m \u001b[1;32mlambda\u001b[0m \u001b[0my\u001b[0m\u001b[1;33m,\u001b[0m \u001b[0mt\u001b[0m\u001b[1;33m,\u001b[0m \u001b[0mA\u001b[0m\u001b[1;33m,\u001b[0m \u001b[0mB\u001b[0m\u001b[1;33m:\u001b[0m\u001b[0;31m\\\u001b[0m\u001b[1;33m\u001b[0m\u001b[0m\n\u001b[0;32m    153\u001b[0m                  A *  _KH_evolution(y, t, halo_gas_density, galaxy_velocity,\n\u001b[1;32m--> 154\u001b[1;33m                                                  galaxy_gas_density,physics_kwargs['KH'])+\\\n\u001b[0m\u001b[0;32m    155\u001b[0m                  B * _RPS_evolution(y, t, halo_gas_density, galaxy_velocity,\n\u001b[0;32m    156\u001b[0m                                            galaxy_gas_density, galaxy_gas_density(0.0),physics_kwargs['RPS'])\n",
      "\u001b[1;31mTypeError\u001b[0m: _KH_evolution() takes exactly 5 arguments (6 given)"
     ]
    },
    {
     "ename": "TypeError",
     "evalue": "_KH_evolution() takes exactly 5 arguments (6 given)",
     "output_type": "error",
     "traceback": [
      "\u001b[1;31m---------------------------------------------------------------------------\u001b[0m",
      "\u001b[1;31mTypeError\u001b[0m                                 Traceback (most recent call last)",
      "\u001b[1;32m/home/emerick/Research/dwarfs/analysis/analytic_model/dwarf_model.py\u001b[0m in \u001b[0;36m<lambda>\u001b[1;34m(y, t, A, B)\u001b[0m\n\u001b[0;32m    152\u001b[0m     \u001b[0mode_function\u001b[0m \u001b[1;33m=\u001b[0m \u001b[1;32mlambda\u001b[0m \u001b[0my\u001b[0m\u001b[1;33m,\u001b[0m \u001b[0mt\u001b[0m\u001b[1;33m,\u001b[0m \u001b[0mA\u001b[0m\u001b[1;33m,\u001b[0m \u001b[0mB\u001b[0m\u001b[1;33m:\u001b[0m\u001b[0;31m\\\u001b[0m\u001b[1;33m\u001b[0m\u001b[0m\n\u001b[0;32m    153\u001b[0m                  A *  _KH_evolution(y, t, halo_gas_density, galaxy_velocity,\n\u001b[1;32m--> 154\u001b[1;33m                                                  galaxy_gas_density,physics_kwargs['KH'])+\\\n\u001b[0m\u001b[0;32m    155\u001b[0m                  B * _RPS_evolution(y, t, halo_gas_density, galaxy_velocity,\n\u001b[0;32m    156\u001b[0m                                            galaxy_gas_density, galaxy_gas_density(0.0),physics_kwargs['RPS'])\n",
      "\u001b[1;31mTypeError\u001b[0m: _KH_evolution() takes exactly 5 arguments (6 given)"
     ]
    },
    {
     "ename": "TypeError",
     "evalue": "_KH_evolution() takes exactly 5 arguments (6 given)",
     "output_type": "error",
     "traceback": [
      "\u001b[1;31m---------------------------------------------------------------------------\u001b[0m",
      "\u001b[1;31mTypeError\u001b[0m                                 Traceback (most recent call last)",
      "\u001b[1;32m/home/emerick/Research/dwarfs/analysis/analytic_model/dwarf_model.py\u001b[0m in \u001b[0;36m<lambda>\u001b[1;34m(y, t, A, B)\u001b[0m\n\u001b[0;32m    152\u001b[0m     \u001b[0mode_function\u001b[0m \u001b[1;33m=\u001b[0m \u001b[1;32mlambda\u001b[0m \u001b[0my\u001b[0m\u001b[1;33m,\u001b[0m \u001b[0mt\u001b[0m\u001b[1;33m,\u001b[0m \u001b[0mA\u001b[0m\u001b[1;33m,\u001b[0m \u001b[0mB\u001b[0m\u001b[1;33m:\u001b[0m\u001b[0;31m\\\u001b[0m\u001b[1;33m\u001b[0m\u001b[0m\n\u001b[0;32m    153\u001b[0m                  A *  _KH_evolution(y, t, halo_gas_density, galaxy_velocity,\n\u001b[1;32m--> 154\u001b[1;33m                                                  galaxy_gas_density,physics_kwargs['KH'])+\\\n\u001b[0m\u001b[0;32m    155\u001b[0m                  B * _RPS_evolution(y, t, halo_gas_density, galaxy_velocity,\n\u001b[0;32m    156\u001b[0m                                            galaxy_gas_density, galaxy_gas_density(0.0),physics_kwargs['RPS'])\n",
      "\u001b[1;31mTypeError\u001b[0m: _KH_evolution() takes exactly 5 arguments (6 given)"
     ]
    },
    {
     "ename": "TypeError",
     "evalue": "_KH_evolution() takes exactly 5 arguments (6 given)",
     "output_type": "error",
     "traceback": [
      "\u001b[1;31m---------------------------------------------------------------------------\u001b[0m",
      "\u001b[1;31mTypeError\u001b[0m                                 Traceback (most recent call last)",
      "\u001b[1;32m/home/emerick/Research/dwarfs/analysis/analytic_model/dwarf_model.py\u001b[0m in \u001b[0;36m<lambda>\u001b[1;34m(y, t, A, B)\u001b[0m\n\u001b[0;32m    152\u001b[0m     \u001b[0mode_function\u001b[0m \u001b[1;33m=\u001b[0m \u001b[1;32mlambda\u001b[0m \u001b[0my\u001b[0m\u001b[1;33m,\u001b[0m \u001b[0mt\u001b[0m\u001b[1;33m,\u001b[0m \u001b[0mA\u001b[0m\u001b[1;33m,\u001b[0m \u001b[0mB\u001b[0m\u001b[1;33m:\u001b[0m\u001b[0;31m\\\u001b[0m\u001b[1;33m\u001b[0m\u001b[0m\n\u001b[0;32m    153\u001b[0m                  A *  _KH_evolution(y, t, halo_gas_density, galaxy_velocity,\n\u001b[1;32m--> 154\u001b[1;33m                                                  galaxy_gas_density,physics_kwargs['KH'])+\\\n\u001b[0m\u001b[0;32m    155\u001b[0m                  B * _RPS_evolution(y, t, halo_gas_density, galaxy_velocity,\n\u001b[0;32m    156\u001b[0m                                            galaxy_gas_density, galaxy_gas_density(0.0),physics_kwargs['RPS'])\n",
      "\u001b[1;31mTypeError\u001b[0m: _KH_evolution() takes exactly 5 arguments (6 given)"
     ]
    },
    {
     "ename": "TypeError",
     "evalue": "_KH_evolution() takes exactly 5 arguments (6 given)",
     "output_type": "error",
     "traceback": [
      "\u001b[1;31m---------------------------------------------------------------------------\u001b[0m",
      "\u001b[1;31mTypeError\u001b[0m                                 Traceback (most recent call last)",
      "\u001b[1;32m/home/emerick/Research/dwarfs/analysis/analytic_model/dwarf_model.py\u001b[0m in \u001b[0;36m<lambda>\u001b[1;34m(y, t, A, B)\u001b[0m\n\u001b[0;32m    152\u001b[0m     \u001b[0mode_function\u001b[0m \u001b[1;33m=\u001b[0m \u001b[1;32mlambda\u001b[0m \u001b[0my\u001b[0m\u001b[1;33m,\u001b[0m \u001b[0mt\u001b[0m\u001b[1;33m,\u001b[0m \u001b[0mA\u001b[0m\u001b[1;33m,\u001b[0m \u001b[0mB\u001b[0m\u001b[1;33m:\u001b[0m\u001b[0;31m\\\u001b[0m\u001b[1;33m\u001b[0m\u001b[0m\n\u001b[0;32m    153\u001b[0m                  A *  _KH_evolution(y, t, halo_gas_density, galaxy_velocity,\n\u001b[1;32m--> 154\u001b[1;33m                                                  galaxy_gas_density,physics_kwargs['KH'])+\\\n\u001b[0m\u001b[0;32m    155\u001b[0m                  B * _RPS_evolution(y, t, halo_gas_density, galaxy_velocity,\n\u001b[0;32m    156\u001b[0m                                            galaxy_gas_density, galaxy_gas_density(0.0),physics_kwargs['RPS'])\n",
      "\u001b[1;31mTypeError\u001b[0m: _KH_evolution() takes exactly 5 arguments (6 given)"
     ]
    },
    {
     "ename": "TypeError",
     "evalue": "_KH_evolution() takes exactly 5 arguments (6 given)",
     "output_type": "error",
     "traceback": [
      "\u001b[1;31m---------------------------------------------------------------------------\u001b[0m",
      "\u001b[1;31mTypeError\u001b[0m                                 Traceback (most recent call last)",
      "\u001b[1;32m/home/emerick/Research/dwarfs/analysis/analytic_model/dwarf_model.py\u001b[0m in \u001b[0;36m<lambda>\u001b[1;34m(y, t, A, B)\u001b[0m\n\u001b[0;32m    152\u001b[0m     \u001b[0mode_function\u001b[0m \u001b[1;33m=\u001b[0m \u001b[1;32mlambda\u001b[0m \u001b[0my\u001b[0m\u001b[1;33m,\u001b[0m \u001b[0mt\u001b[0m\u001b[1;33m,\u001b[0m \u001b[0mA\u001b[0m\u001b[1;33m,\u001b[0m \u001b[0mB\u001b[0m\u001b[1;33m:\u001b[0m\u001b[0;31m\\\u001b[0m\u001b[1;33m\u001b[0m\u001b[0m\n\u001b[0;32m    153\u001b[0m                  A *  _KH_evolution(y, t, halo_gas_density, galaxy_velocity,\n\u001b[1;32m--> 154\u001b[1;33m                                                  galaxy_gas_density,physics_kwargs['KH'])+\\\n\u001b[0m\u001b[0;32m    155\u001b[0m                  B * _RPS_evolution(y, t, halo_gas_density, galaxy_velocity,\n\u001b[0;32m    156\u001b[0m                                            galaxy_gas_density, galaxy_gas_density(0.0),physics_kwargs['RPS'])\n",
      "\u001b[1;31mTypeError\u001b[0m: _KH_evolution() takes exactly 5 arguments (6 given)"
     ]
    },
    {
     "ename": "TypeError",
     "evalue": "_KH_evolution() takes exactly 5 arguments (6 given)",
     "output_type": "error",
     "traceback": [
      "\u001b[1;31m---------------------------------------------------------------------------\u001b[0m",
      "\u001b[1;31mTypeError\u001b[0m                                 Traceback (most recent call last)",
      "\u001b[1;32m/home/emerick/Research/dwarfs/analysis/analytic_model/dwarf_model.py\u001b[0m in \u001b[0;36m<lambda>\u001b[1;34m(y, t, A, B)\u001b[0m\n\u001b[0;32m    152\u001b[0m     \u001b[0mode_function\u001b[0m \u001b[1;33m=\u001b[0m \u001b[1;32mlambda\u001b[0m \u001b[0my\u001b[0m\u001b[1;33m,\u001b[0m \u001b[0mt\u001b[0m\u001b[1;33m,\u001b[0m \u001b[0mA\u001b[0m\u001b[1;33m,\u001b[0m \u001b[0mB\u001b[0m\u001b[1;33m:\u001b[0m\u001b[0;31m\\\u001b[0m\u001b[1;33m\u001b[0m\u001b[0m\n\u001b[0;32m    153\u001b[0m                  A *  _KH_evolution(y, t, halo_gas_density, galaxy_velocity,\n\u001b[1;32m--> 154\u001b[1;33m                                                  galaxy_gas_density,physics_kwargs['KH'])+\\\n\u001b[0m\u001b[0;32m    155\u001b[0m                  B * _RPS_evolution(y, t, halo_gas_density, galaxy_velocity,\n\u001b[0;32m    156\u001b[0m                                            galaxy_gas_density, galaxy_gas_density(0.0),physics_kwargs['RPS'])\n",
      "\u001b[1;31mTypeError\u001b[0m: _KH_evolution() takes exactly 5 arguments (6 given)"
     ]
    },
    {
     "ename": "TypeError",
     "evalue": "_KH_evolution() takes exactly 5 arguments (6 given)",
     "output_type": "error",
     "traceback": [
      "\u001b[1;31m---------------------------------------------------------------------------\u001b[0m",
      "\u001b[1;31mTypeError\u001b[0m                                 Traceback (most recent call last)",
      "\u001b[1;32m/home/emerick/Research/dwarfs/analysis/analytic_model/dwarf_model.py\u001b[0m in \u001b[0;36m<lambda>\u001b[1;34m(y, t, A, B)\u001b[0m\n\u001b[0;32m    152\u001b[0m     \u001b[0mode_function\u001b[0m \u001b[1;33m=\u001b[0m \u001b[1;32mlambda\u001b[0m \u001b[0my\u001b[0m\u001b[1;33m,\u001b[0m \u001b[0mt\u001b[0m\u001b[1;33m,\u001b[0m \u001b[0mA\u001b[0m\u001b[1;33m,\u001b[0m \u001b[0mB\u001b[0m\u001b[1;33m:\u001b[0m\u001b[0;31m\\\u001b[0m\u001b[1;33m\u001b[0m\u001b[0m\n\u001b[0;32m    153\u001b[0m                  A *  _KH_evolution(y, t, halo_gas_density, galaxy_velocity,\n\u001b[1;32m--> 154\u001b[1;33m                                                  galaxy_gas_density,physics_kwargs['KH'])+\\\n\u001b[0m\u001b[0;32m    155\u001b[0m                  B * _RPS_evolution(y, t, halo_gas_density, galaxy_velocity,\n\u001b[0;32m    156\u001b[0m                                            galaxy_gas_density, galaxy_gas_density(0.0),physics_kwargs['RPS'])\n",
      "\u001b[1;31mTypeError\u001b[0m: _KH_evolution() takes exactly 5 arguments (6 given)"
     ]
    },
    {
     "ename": "TypeError",
     "evalue": "_KH_evolution() takes exactly 5 arguments (6 given)",
     "output_type": "error",
     "traceback": [
      "\u001b[1;31m---------------------------------------------------------------------------\u001b[0m",
      "\u001b[1;31mTypeError\u001b[0m                                 Traceback (most recent call last)",
      "\u001b[1;32m/home/emerick/Research/dwarfs/analysis/analytic_model/dwarf_model.py\u001b[0m in \u001b[0;36m<lambda>\u001b[1;34m(y, t, A, B)\u001b[0m\n\u001b[0;32m    152\u001b[0m     \u001b[0mode_function\u001b[0m \u001b[1;33m=\u001b[0m \u001b[1;32mlambda\u001b[0m \u001b[0my\u001b[0m\u001b[1;33m,\u001b[0m \u001b[0mt\u001b[0m\u001b[1;33m,\u001b[0m \u001b[0mA\u001b[0m\u001b[1;33m,\u001b[0m \u001b[0mB\u001b[0m\u001b[1;33m:\u001b[0m\u001b[0;31m\\\u001b[0m\u001b[1;33m\u001b[0m\u001b[0m\n\u001b[0;32m    153\u001b[0m                  A *  _KH_evolution(y, t, halo_gas_density, galaxy_velocity,\n\u001b[1;32m--> 154\u001b[1;33m                                                  galaxy_gas_density,physics_kwargs['KH'])+\\\n\u001b[0m\u001b[0;32m    155\u001b[0m                  B * _RPS_evolution(y, t, halo_gas_density, galaxy_velocity,\n\u001b[0;32m    156\u001b[0m                                            galaxy_gas_density, galaxy_gas_density(0.0),physics_kwargs['RPS'])\n",
      "\u001b[1;31mTypeError\u001b[0m: _KH_evolution() takes exactly 5 arguments (6 given)"
     ]
    },
    {
     "ename": "TypeError",
     "evalue": "_KH_evolution() takes exactly 5 arguments (6 given)",
     "output_type": "error",
     "traceback": [
      "\u001b[1;31m---------------------------------------------------------------------------\u001b[0m",
      "\u001b[1;31mTypeError\u001b[0m                                 Traceback (most recent call last)",
      "\u001b[1;32m/home/emerick/Research/dwarfs/analysis/analytic_model/dwarf_model.py\u001b[0m in \u001b[0;36m<lambda>\u001b[1;34m(y, t, A, B)\u001b[0m\n\u001b[0;32m    152\u001b[0m     \u001b[0mode_function\u001b[0m \u001b[1;33m=\u001b[0m \u001b[1;32mlambda\u001b[0m \u001b[0my\u001b[0m\u001b[1;33m,\u001b[0m \u001b[0mt\u001b[0m\u001b[1;33m,\u001b[0m \u001b[0mA\u001b[0m\u001b[1;33m,\u001b[0m \u001b[0mB\u001b[0m\u001b[1;33m:\u001b[0m\u001b[0;31m\\\u001b[0m\u001b[1;33m\u001b[0m\u001b[0m\n\u001b[0;32m    153\u001b[0m                  A *  _KH_evolution(y, t, halo_gas_density, galaxy_velocity,\n\u001b[1;32m--> 154\u001b[1;33m                                                  galaxy_gas_density,physics_kwargs['KH'])+\\\n\u001b[0m\u001b[0;32m    155\u001b[0m                  B * _RPS_evolution(y, t, halo_gas_density, galaxy_velocity,\n\u001b[0;32m    156\u001b[0m                                            galaxy_gas_density, galaxy_gas_density(0.0),physics_kwargs['RPS'])\n",
      "\u001b[1;31mTypeError\u001b[0m: _KH_evolution() takes exactly 5 arguments (6 given)"
     ]
    },
    {
     "ename": "TypeError",
     "evalue": "_KH_evolution() takes exactly 5 arguments (6 given)",
     "output_type": "error",
     "traceback": [
      "\u001b[1;31m---------------------------------------------------------------------------\u001b[0m",
      "\u001b[1;31mTypeError\u001b[0m                                 Traceback (most recent call last)",
      "\u001b[1;32m/home/emerick/Research/dwarfs/analysis/analytic_model/dwarf_model.py\u001b[0m in \u001b[0;36m<lambda>\u001b[1;34m(y, t, A, B)\u001b[0m\n\u001b[0;32m    152\u001b[0m     \u001b[0mode_function\u001b[0m \u001b[1;33m=\u001b[0m \u001b[1;32mlambda\u001b[0m \u001b[0my\u001b[0m\u001b[1;33m,\u001b[0m \u001b[0mt\u001b[0m\u001b[1;33m,\u001b[0m \u001b[0mA\u001b[0m\u001b[1;33m,\u001b[0m \u001b[0mB\u001b[0m\u001b[1;33m:\u001b[0m\u001b[0;31m\\\u001b[0m\u001b[1;33m\u001b[0m\u001b[0m\n\u001b[0;32m    153\u001b[0m                  A *  _KH_evolution(y, t, halo_gas_density, galaxy_velocity,\n\u001b[1;32m--> 154\u001b[1;33m                                                  galaxy_gas_density,physics_kwargs['KH'])+\\\n\u001b[0m\u001b[0;32m    155\u001b[0m                  B * _RPS_evolution(y, t, halo_gas_density, galaxy_velocity,\n\u001b[0;32m    156\u001b[0m                                            galaxy_gas_density, galaxy_gas_density(0.0),physics_kwargs['RPS'])\n",
      "\u001b[1;31mTypeError\u001b[0m: _KH_evolution() takes exactly 5 arguments (6 given)"
     ]
    },
    {
     "ename": "TypeError",
     "evalue": "_KH_evolution() takes exactly 5 arguments (6 given)",
     "output_type": "error",
     "traceback": [
      "\u001b[1;31m---------------------------------------------------------------------------\u001b[0m",
      "\u001b[1;31mTypeError\u001b[0m                                 Traceback (most recent call last)",
      "\u001b[1;32m/home/emerick/Research/dwarfs/analysis/analytic_model/dwarf_model.py\u001b[0m in \u001b[0;36m<lambda>\u001b[1;34m(y, t, A, B)\u001b[0m\n\u001b[0;32m    152\u001b[0m     \u001b[0mode_function\u001b[0m \u001b[1;33m=\u001b[0m \u001b[1;32mlambda\u001b[0m \u001b[0my\u001b[0m\u001b[1;33m,\u001b[0m \u001b[0mt\u001b[0m\u001b[1;33m,\u001b[0m \u001b[0mA\u001b[0m\u001b[1;33m,\u001b[0m \u001b[0mB\u001b[0m\u001b[1;33m:\u001b[0m\u001b[0;31m\\\u001b[0m\u001b[1;33m\u001b[0m\u001b[0m\n\u001b[0;32m    153\u001b[0m                  A *  _KH_evolution(y, t, halo_gas_density, galaxy_velocity,\n\u001b[1;32m--> 154\u001b[1;33m                                                  galaxy_gas_density,physics_kwargs['KH'])+\\\n\u001b[0m\u001b[0;32m    155\u001b[0m                  B * _RPS_evolution(y, t, halo_gas_density, galaxy_velocity,\n\u001b[0;32m    156\u001b[0m                                            galaxy_gas_density, galaxy_gas_density(0.0),physics_kwargs['RPS'])\n",
      "\u001b[1;31mTypeError\u001b[0m: _KH_evolution() takes exactly 5 arguments (6 given)"
     ]
    },
    {
     "ename": "TypeError",
     "evalue": "_KH_evolution() takes exactly 5 arguments (6 given)",
     "output_type": "error",
     "traceback": [
      "\u001b[1;31m---------------------------------------------------------------------------\u001b[0m",
      "\u001b[1;31mTypeError\u001b[0m                                 Traceback (most recent call last)",
      "\u001b[1;32m/home/emerick/Research/dwarfs/analysis/analytic_model/dwarf_model.py\u001b[0m in \u001b[0;36m<lambda>\u001b[1;34m(y, t, A, B)\u001b[0m\n\u001b[0;32m    152\u001b[0m     \u001b[0mode_function\u001b[0m \u001b[1;33m=\u001b[0m \u001b[1;32mlambda\u001b[0m \u001b[0my\u001b[0m\u001b[1;33m,\u001b[0m \u001b[0mt\u001b[0m\u001b[1;33m,\u001b[0m \u001b[0mA\u001b[0m\u001b[1;33m,\u001b[0m \u001b[0mB\u001b[0m\u001b[1;33m:\u001b[0m\u001b[0;31m\\\u001b[0m\u001b[1;33m\u001b[0m\u001b[0m\n\u001b[0;32m    153\u001b[0m                  A *  _KH_evolution(y, t, halo_gas_density, galaxy_velocity,\n\u001b[1;32m--> 154\u001b[1;33m                                                  galaxy_gas_density,physics_kwargs['KH'])+\\\n\u001b[0m\u001b[0;32m    155\u001b[0m                  B * _RPS_evolution(y, t, halo_gas_density, galaxy_velocity,\n\u001b[0;32m    156\u001b[0m                                            galaxy_gas_density, galaxy_gas_density(0.0),physics_kwargs['RPS'])\n",
      "\u001b[1;31mTypeError\u001b[0m: _KH_evolution() takes exactly 5 arguments (6 given)"
     ]
    },
    {
     "ename": "TypeError",
     "evalue": "_KH_evolution() takes exactly 5 arguments (6 given)",
     "output_type": "error",
     "traceback": [
      "\u001b[1;31m---------------------------------------------------------------------------\u001b[0m",
      "\u001b[1;31mTypeError\u001b[0m                                 Traceback (most recent call last)",
      "\u001b[1;32m/home/emerick/Research/dwarfs/analysis/analytic_model/dwarf_model.py\u001b[0m in \u001b[0;36m<lambda>\u001b[1;34m(y, t, A, B)\u001b[0m\n\u001b[0;32m    152\u001b[0m     \u001b[0mode_function\u001b[0m \u001b[1;33m=\u001b[0m \u001b[1;32mlambda\u001b[0m \u001b[0my\u001b[0m\u001b[1;33m,\u001b[0m \u001b[0mt\u001b[0m\u001b[1;33m,\u001b[0m \u001b[0mA\u001b[0m\u001b[1;33m,\u001b[0m \u001b[0mB\u001b[0m\u001b[1;33m:\u001b[0m\u001b[0;31m\\\u001b[0m\u001b[1;33m\u001b[0m\u001b[0m\n\u001b[0;32m    153\u001b[0m                  A *  _KH_evolution(y, t, halo_gas_density, galaxy_velocity,\n\u001b[1;32m--> 154\u001b[1;33m                                                  galaxy_gas_density,physics_kwargs['KH'])+\\\n\u001b[0m\u001b[0;32m    155\u001b[0m                  B * _RPS_evolution(y, t, halo_gas_density, galaxy_velocity,\n\u001b[0;32m    156\u001b[0m                                            galaxy_gas_density, galaxy_gas_density(0.0),physics_kwargs['RPS'])\n",
      "\u001b[1;31mTypeError\u001b[0m: _KH_evolution() takes exactly 5 arguments (6 given)"
     ]
    },
    {
     "ename": "TypeError",
     "evalue": "_KH_evolution() takes exactly 5 arguments (6 given)",
     "output_type": "error",
     "traceback": [
      "\u001b[1;31m---------------------------------------------------------------------------\u001b[0m",
      "\u001b[1;31mTypeError\u001b[0m                                 Traceback (most recent call last)",
      "\u001b[1;32m/home/emerick/Research/dwarfs/analysis/analytic_model/dwarf_model.py\u001b[0m in \u001b[0;36m<lambda>\u001b[1;34m(y, t, A, B)\u001b[0m\n\u001b[0;32m    152\u001b[0m     \u001b[0mode_function\u001b[0m \u001b[1;33m=\u001b[0m \u001b[1;32mlambda\u001b[0m \u001b[0my\u001b[0m\u001b[1;33m,\u001b[0m \u001b[0mt\u001b[0m\u001b[1;33m,\u001b[0m \u001b[0mA\u001b[0m\u001b[1;33m,\u001b[0m \u001b[0mB\u001b[0m\u001b[1;33m:\u001b[0m\u001b[0;31m\\\u001b[0m\u001b[1;33m\u001b[0m\u001b[0m\n\u001b[0;32m    153\u001b[0m                  A *  _KH_evolution(y, t, halo_gas_density, galaxy_velocity,\n\u001b[1;32m--> 154\u001b[1;33m                                                  galaxy_gas_density,physics_kwargs['KH'])+\\\n\u001b[0m\u001b[0;32m    155\u001b[0m                  B * _RPS_evolution(y, t, halo_gas_density, galaxy_velocity,\n\u001b[0;32m    156\u001b[0m                                            galaxy_gas_density, galaxy_gas_density(0.0),physics_kwargs['RPS'])\n",
      "\u001b[1;31mTypeError\u001b[0m: _KH_evolution() takes exactly 5 arguments (6 given)"
     ]
    },
    {
     "ename": "TypeError",
     "evalue": "_KH_evolution() takes exactly 5 arguments (6 given)",
     "output_type": "error",
     "traceback": [
      "\u001b[1;31m---------------------------------------------------------------------------\u001b[0m",
      "\u001b[1;31mTypeError\u001b[0m                                 Traceback (most recent call last)",
      "\u001b[1;32m/home/emerick/Research/dwarfs/analysis/analytic_model/dwarf_model.py\u001b[0m in \u001b[0;36m<lambda>\u001b[1;34m(y, t, A, B)\u001b[0m\n\u001b[0;32m    152\u001b[0m     \u001b[0mode_function\u001b[0m \u001b[1;33m=\u001b[0m \u001b[1;32mlambda\u001b[0m \u001b[0my\u001b[0m\u001b[1;33m,\u001b[0m \u001b[0mt\u001b[0m\u001b[1;33m,\u001b[0m \u001b[0mA\u001b[0m\u001b[1;33m,\u001b[0m \u001b[0mB\u001b[0m\u001b[1;33m:\u001b[0m\u001b[0;31m\\\u001b[0m\u001b[1;33m\u001b[0m\u001b[0m\n\u001b[0;32m    153\u001b[0m                  A *  _KH_evolution(y, t, halo_gas_density, galaxy_velocity,\n\u001b[1;32m--> 154\u001b[1;33m                                                  galaxy_gas_density,physics_kwargs['KH'])+\\\n\u001b[0m\u001b[0;32m    155\u001b[0m                  B * _RPS_evolution(y, t, halo_gas_density, galaxy_velocity,\n\u001b[0;32m    156\u001b[0m                                            galaxy_gas_density, galaxy_gas_density(0.0),physics_kwargs['RPS'])\n",
      "\u001b[1;31mTypeError\u001b[0m: _KH_evolution() takes exactly 5 arguments (6 given)"
     ]
    },
    {
     "ename": "TypeError",
     "evalue": "_KH_evolution() takes exactly 5 arguments (6 given)",
     "output_type": "error",
     "traceback": [
      "\u001b[1;31m---------------------------------------------------------------------------\u001b[0m",
      "\u001b[1;31mTypeError\u001b[0m                                 Traceback (most recent call last)",
      "\u001b[1;32m/home/emerick/Research/dwarfs/analysis/analytic_model/dwarf_model.py\u001b[0m in \u001b[0;36m<lambda>\u001b[1;34m(y, t, A, B)\u001b[0m\n\u001b[0;32m    152\u001b[0m     \u001b[0mode_function\u001b[0m \u001b[1;33m=\u001b[0m \u001b[1;32mlambda\u001b[0m \u001b[0my\u001b[0m\u001b[1;33m,\u001b[0m \u001b[0mt\u001b[0m\u001b[1;33m,\u001b[0m \u001b[0mA\u001b[0m\u001b[1;33m,\u001b[0m \u001b[0mB\u001b[0m\u001b[1;33m:\u001b[0m\u001b[0;31m\\\u001b[0m\u001b[1;33m\u001b[0m\u001b[0m\n\u001b[0;32m    153\u001b[0m                  A *  _KH_evolution(y, t, halo_gas_density, galaxy_velocity,\n\u001b[1;32m--> 154\u001b[1;33m                                                  galaxy_gas_density,physics_kwargs['KH'])+\\\n\u001b[0m\u001b[0;32m    155\u001b[0m                  B * _RPS_evolution(y, t, halo_gas_density, galaxy_velocity,\n\u001b[0;32m    156\u001b[0m                                            galaxy_gas_density, galaxy_gas_density(0.0),physics_kwargs['RPS'])\n",
      "\u001b[1;31mTypeError\u001b[0m: _KH_evolution() takes exactly 5 arguments (6 given)"
     ]
    },
    {
     "ename": "TypeError",
     "evalue": "_KH_evolution() takes exactly 5 arguments (6 given)",
     "output_type": "error",
     "traceback": [
      "\u001b[1;31m---------------------------------------------------------------------------\u001b[0m",
      "\u001b[1;31mTypeError\u001b[0m                                 Traceback (most recent call last)",
      "\u001b[1;32m/home/emerick/Research/dwarfs/analysis/analytic_model/dwarf_model.py\u001b[0m in \u001b[0;36m<lambda>\u001b[1;34m(y, t, A, B)\u001b[0m\n\u001b[0;32m    152\u001b[0m     \u001b[0mode_function\u001b[0m \u001b[1;33m=\u001b[0m \u001b[1;32mlambda\u001b[0m \u001b[0my\u001b[0m\u001b[1;33m,\u001b[0m \u001b[0mt\u001b[0m\u001b[1;33m,\u001b[0m \u001b[0mA\u001b[0m\u001b[1;33m,\u001b[0m \u001b[0mB\u001b[0m\u001b[1;33m:\u001b[0m\u001b[0;31m\\\u001b[0m\u001b[1;33m\u001b[0m\u001b[0m\n\u001b[0;32m    153\u001b[0m                  A *  _KH_evolution(y, t, halo_gas_density, galaxy_velocity,\n\u001b[1;32m--> 154\u001b[1;33m                                                  galaxy_gas_density,physics_kwargs['KH'])+\\\n\u001b[0m\u001b[0;32m    155\u001b[0m                  B * _RPS_evolution(y, t, halo_gas_density, galaxy_velocity,\n\u001b[0;32m    156\u001b[0m                                            galaxy_gas_density, galaxy_gas_density(0.0),physics_kwargs['RPS'])\n",
      "\u001b[1;31mTypeError\u001b[0m: _KH_evolution() takes exactly 5 arguments (6 given)"
     ]
    },
    {
     "ename": "TypeError",
     "evalue": "_KH_evolution() takes exactly 5 arguments (6 given)",
     "output_type": "error",
     "traceback": [
      "\u001b[1;31m---------------------------------------------------------------------------\u001b[0m",
      "\u001b[1;31mTypeError\u001b[0m                                 Traceback (most recent call last)",
      "\u001b[1;32m/home/emerick/Research/dwarfs/analysis/analytic_model/dwarf_model.py\u001b[0m in \u001b[0;36m<lambda>\u001b[1;34m(y, t, A, B)\u001b[0m\n\u001b[0;32m    152\u001b[0m     \u001b[0mode_function\u001b[0m \u001b[1;33m=\u001b[0m \u001b[1;32mlambda\u001b[0m \u001b[0my\u001b[0m\u001b[1;33m,\u001b[0m \u001b[0mt\u001b[0m\u001b[1;33m,\u001b[0m \u001b[0mA\u001b[0m\u001b[1;33m,\u001b[0m \u001b[0mB\u001b[0m\u001b[1;33m:\u001b[0m\u001b[0;31m\\\u001b[0m\u001b[1;33m\u001b[0m\u001b[0m\n\u001b[0;32m    153\u001b[0m                  A *  _KH_evolution(y, t, halo_gas_density, galaxy_velocity,\n\u001b[1;32m--> 154\u001b[1;33m                                                  galaxy_gas_density,physics_kwargs['KH'])+\\\n\u001b[0m\u001b[0;32m    155\u001b[0m                  B * _RPS_evolution(y, t, halo_gas_density, galaxy_velocity,\n\u001b[0;32m    156\u001b[0m                                            galaxy_gas_density, galaxy_gas_density(0.0),physics_kwargs['RPS'])\n",
      "\u001b[1;31mTypeError\u001b[0m: _KH_evolution() takes exactly 5 arguments (6 given)"
     ]
    },
    {
     "ename": "TypeError",
     "evalue": "_KH_evolution() takes exactly 5 arguments (6 given)",
     "output_type": "error",
     "traceback": [
      "\u001b[1;31m---------------------------------------------------------------------------\u001b[0m",
      "\u001b[1;31mTypeError\u001b[0m                                 Traceback (most recent call last)",
      "\u001b[1;32m/home/emerick/Research/dwarfs/analysis/analytic_model/dwarf_model.py\u001b[0m in \u001b[0;36m<lambda>\u001b[1;34m(y, t, A, B)\u001b[0m\n\u001b[0;32m    152\u001b[0m     \u001b[0mode_function\u001b[0m \u001b[1;33m=\u001b[0m \u001b[1;32mlambda\u001b[0m \u001b[0my\u001b[0m\u001b[1;33m,\u001b[0m \u001b[0mt\u001b[0m\u001b[1;33m,\u001b[0m \u001b[0mA\u001b[0m\u001b[1;33m,\u001b[0m \u001b[0mB\u001b[0m\u001b[1;33m:\u001b[0m\u001b[0;31m\\\u001b[0m\u001b[1;33m\u001b[0m\u001b[0m\n\u001b[0;32m    153\u001b[0m                  A *  _KH_evolution(y, t, halo_gas_density, galaxy_velocity,\n\u001b[1;32m--> 154\u001b[1;33m                                                  galaxy_gas_density,physics_kwargs['KH'])+\\\n\u001b[0m\u001b[0;32m    155\u001b[0m                  B * _RPS_evolution(y, t, halo_gas_density, galaxy_velocity,\n\u001b[0;32m    156\u001b[0m                                            galaxy_gas_density, galaxy_gas_density(0.0),physics_kwargs['RPS'])\n",
      "\u001b[1;31mTypeError\u001b[0m: _KH_evolution() takes exactly 5 arguments (6 given)"
     ]
    },
    {
     "ename": "TypeError",
     "evalue": "_KH_evolution() takes exactly 5 arguments (6 given)",
     "output_type": "error",
     "traceback": [
      "\u001b[1;31m---------------------------------------------------------------------------\u001b[0m",
      "\u001b[1;31mTypeError\u001b[0m                                 Traceback (most recent call last)",
      "\u001b[1;32m/home/emerick/Research/dwarfs/analysis/analytic_model/dwarf_model.py\u001b[0m in \u001b[0;36m<lambda>\u001b[1;34m(y, t, A, B)\u001b[0m\n\u001b[0;32m    152\u001b[0m     \u001b[0mode_function\u001b[0m \u001b[1;33m=\u001b[0m \u001b[1;32mlambda\u001b[0m \u001b[0my\u001b[0m\u001b[1;33m,\u001b[0m \u001b[0mt\u001b[0m\u001b[1;33m,\u001b[0m \u001b[0mA\u001b[0m\u001b[1;33m,\u001b[0m \u001b[0mB\u001b[0m\u001b[1;33m:\u001b[0m\u001b[0;31m\\\u001b[0m\u001b[1;33m\u001b[0m\u001b[0m\n\u001b[0;32m    153\u001b[0m                  A *  _KH_evolution(y, t, halo_gas_density, galaxy_velocity,\n\u001b[1;32m--> 154\u001b[1;33m                                                  galaxy_gas_density,physics_kwargs['KH'])+\\\n\u001b[0m\u001b[0;32m    155\u001b[0m                  B * _RPS_evolution(y, t, halo_gas_density, galaxy_velocity,\n\u001b[0;32m    156\u001b[0m                                            galaxy_gas_density, galaxy_gas_density(0.0),physics_kwargs['RPS'])\n",
      "\u001b[1;31mTypeError\u001b[0m: _KH_evolution() takes exactly 5 arguments (6 given)"
     ]
    },
    {
     "ename": "TypeError",
     "evalue": "_KH_evolution() takes exactly 5 arguments (6 given)",
     "output_type": "error",
     "traceback": [
      "\u001b[1;31m---------------------------------------------------------------------------\u001b[0m",
      "\u001b[1;31mTypeError\u001b[0m                                 Traceback (most recent call last)",
      "\u001b[1;32m/home/emerick/Research/dwarfs/analysis/analytic_model/dwarf_model.py\u001b[0m in \u001b[0;36m<lambda>\u001b[1;34m(y, t, A, B)\u001b[0m\n\u001b[0;32m    152\u001b[0m     \u001b[0mode_function\u001b[0m \u001b[1;33m=\u001b[0m \u001b[1;32mlambda\u001b[0m \u001b[0my\u001b[0m\u001b[1;33m,\u001b[0m \u001b[0mt\u001b[0m\u001b[1;33m,\u001b[0m \u001b[0mA\u001b[0m\u001b[1;33m,\u001b[0m \u001b[0mB\u001b[0m\u001b[1;33m:\u001b[0m\u001b[0;31m\\\u001b[0m\u001b[1;33m\u001b[0m\u001b[0m\n\u001b[0;32m    153\u001b[0m                  A *  _KH_evolution(y, t, halo_gas_density, galaxy_velocity,\n\u001b[1;32m--> 154\u001b[1;33m                                                  galaxy_gas_density,physics_kwargs['KH'])+\\\n\u001b[0m\u001b[0;32m    155\u001b[0m                  B * _RPS_evolution(y, t, halo_gas_density, galaxy_velocity,\n\u001b[0;32m    156\u001b[0m                                            galaxy_gas_density, galaxy_gas_density(0.0),physics_kwargs['RPS'])\n",
      "\u001b[1;31mTypeError\u001b[0m: _KH_evolution() takes exactly 5 arguments (6 given)"
     ]
    },
    {
     "ename": "TypeError",
     "evalue": "_KH_evolution() takes exactly 5 arguments (6 given)",
     "output_type": "error",
     "traceback": [
      "\u001b[1;31m---------------------------------------------------------------------------\u001b[0m",
      "\u001b[1;31mTypeError\u001b[0m                                 Traceback (most recent call last)",
      "\u001b[1;32m/home/emerick/Research/dwarfs/analysis/analytic_model/dwarf_model.py\u001b[0m in \u001b[0;36m<lambda>\u001b[1;34m(y, t, A, B)\u001b[0m\n\u001b[0;32m    152\u001b[0m     \u001b[0mode_function\u001b[0m \u001b[1;33m=\u001b[0m \u001b[1;32mlambda\u001b[0m \u001b[0my\u001b[0m\u001b[1;33m,\u001b[0m \u001b[0mt\u001b[0m\u001b[1;33m,\u001b[0m \u001b[0mA\u001b[0m\u001b[1;33m,\u001b[0m \u001b[0mB\u001b[0m\u001b[1;33m:\u001b[0m\u001b[0;31m\\\u001b[0m\u001b[1;33m\u001b[0m\u001b[0m\n\u001b[0;32m    153\u001b[0m                  A *  _KH_evolution(y, t, halo_gas_density, galaxy_velocity,\n\u001b[1;32m--> 154\u001b[1;33m                                                  galaxy_gas_density,physics_kwargs['KH'])+\\\n\u001b[0m\u001b[0;32m    155\u001b[0m                  B * _RPS_evolution(y, t, halo_gas_density, galaxy_velocity,\n\u001b[0;32m    156\u001b[0m                                            galaxy_gas_density, galaxy_gas_density(0.0),physics_kwargs['RPS'])\n",
      "\u001b[1;31mTypeError\u001b[0m: _KH_evolution() takes exactly 5 arguments (6 given)"
     ]
    },
    {
     "ename": "TypeError",
     "evalue": "_KH_evolution() takes exactly 5 arguments (6 given)",
     "output_type": "error",
     "traceback": [
      "\u001b[1;31m---------------------------------------------------------------------------\u001b[0m",
      "\u001b[1;31mTypeError\u001b[0m                                 Traceback (most recent call last)",
      "\u001b[1;32m/home/emerick/Research/dwarfs/analysis/analytic_model/dwarf_model.py\u001b[0m in \u001b[0;36m<lambda>\u001b[1;34m(y, t, A, B)\u001b[0m\n\u001b[0;32m    152\u001b[0m     \u001b[0mode_function\u001b[0m \u001b[1;33m=\u001b[0m \u001b[1;32mlambda\u001b[0m \u001b[0my\u001b[0m\u001b[1;33m,\u001b[0m \u001b[0mt\u001b[0m\u001b[1;33m,\u001b[0m \u001b[0mA\u001b[0m\u001b[1;33m,\u001b[0m \u001b[0mB\u001b[0m\u001b[1;33m:\u001b[0m\u001b[0;31m\\\u001b[0m\u001b[1;33m\u001b[0m\u001b[0m\n\u001b[0;32m    153\u001b[0m                  A *  _KH_evolution(y, t, halo_gas_density, galaxy_velocity,\n\u001b[1;32m--> 154\u001b[1;33m                                                  galaxy_gas_density,physics_kwargs['KH'])+\\\n\u001b[0m\u001b[0;32m    155\u001b[0m                  B * _RPS_evolution(y, t, halo_gas_density, galaxy_velocity,\n\u001b[0;32m    156\u001b[0m                                            galaxy_gas_density, galaxy_gas_density(0.0),physics_kwargs['RPS'])\n",
      "\u001b[1;31mTypeError\u001b[0m: _KH_evolution() takes exactly 5 arguments (6 given)"
     ]
    },
    {
     "ename": "TypeError",
     "evalue": "_KH_evolution() takes exactly 5 arguments (6 given)",
     "output_type": "error",
     "traceback": [
      "\u001b[1;31m---------------------------------------------------------------------------\u001b[0m",
      "\u001b[1;31mTypeError\u001b[0m                                 Traceback (most recent call last)",
      "\u001b[1;32m/home/emerick/Research/dwarfs/analysis/analytic_model/dwarf_model.py\u001b[0m in \u001b[0;36m<lambda>\u001b[1;34m(y, t, A, B)\u001b[0m\n\u001b[0;32m    152\u001b[0m     \u001b[0mode_function\u001b[0m \u001b[1;33m=\u001b[0m \u001b[1;32mlambda\u001b[0m \u001b[0my\u001b[0m\u001b[1;33m,\u001b[0m \u001b[0mt\u001b[0m\u001b[1;33m,\u001b[0m \u001b[0mA\u001b[0m\u001b[1;33m,\u001b[0m \u001b[0mB\u001b[0m\u001b[1;33m:\u001b[0m\u001b[0;31m\\\u001b[0m\u001b[1;33m\u001b[0m\u001b[0m\n\u001b[0;32m    153\u001b[0m                  A *  _KH_evolution(y, t, halo_gas_density, galaxy_velocity,\n\u001b[1;32m--> 154\u001b[1;33m                                                  galaxy_gas_density,physics_kwargs['KH'])+\\\n\u001b[0m\u001b[0;32m    155\u001b[0m                  B * _RPS_evolution(y, t, halo_gas_density, galaxy_velocity,\n\u001b[0;32m    156\u001b[0m                                            galaxy_gas_density, galaxy_gas_density(0.0),physics_kwargs['RPS'])\n",
      "\u001b[1;31mTypeError\u001b[0m: _KH_evolution() takes exactly 5 arguments (6 given)"
     ]
    },
    {
     "ename": "TypeError",
     "evalue": "_KH_evolution() takes exactly 5 arguments (6 given)",
     "output_type": "error",
     "traceback": [
      "\u001b[1;31m---------------------------------------------------------------------------\u001b[0m",
      "\u001b[1;31mTypeError\u001b[0m                                 Traceback (most recent call last)",
      "\u001b[1;32m/home/emerick/Research/dwarfs/analysis/analytic_model/dwarf_model.py\u001b[0m in \u001b[0;36m<lambda>\u001b[1;34m(y, t, A, B)\u001b[0m\n\u001b[0;32m    152\u001b[0m     \u001b[0mode_function\u001b[0m \u001b[1;33m=\u001b[0m \u001b[1;32mlambda\u001b[0m \u001b[0my\u001b[0m\u001b[1;33m,\u001b[0m \u001b[0mt\u001b[0m\u001b[1;33m,\u001b[0m \u001b[0mA\u001b[0m\u001b[1;33m,\u001b[0m \u001b[0mB\u001b[0m\u001b[1;33m:\u001b[0m\u001b[0;31m\\\u001b[0m\u001b[1;33m\u001b[0m\u001b[0m\n\u001b[0;32m    153\u001b[0m                  A *  _KH_evolution(y, t, halo_gas_density, galaxy_velocity,\n\u001b[1;32m--> 154\u001b[1;33m                                                  galaxy_gas_density,physics_kwargs['KH'])+\\\n\u001b[0m\u001b[0;32m    155\u001b[0m                  B * _RPS_evolution(y, t, halo_gas_density, galaxy_velocity,\n\u001b[0;32m    156\u001b[0m                                            galaxy_gas_density, galaxy_gas_density(0.0),physics_kwargs['RPS'])\n",
      "\u001b[1;31mTypeError\u001b[0m: _KH_evolution() takes exactly 5 arguments (6 given)"
     ]
    },
    {
     "ename": "TypeError",
     "evalue": "_KH_evolution() takes exactly 5 arguments (6 given)",
     "output_type": "error",
     "traceback": [
      "\u001b[1;31m---------------------------------------------------------------------------\u001b[0m",
      "\u001b[1;31mTypeError\u001b[0m                                 Traceback (most recent call last)",
      "\u001b[1;32m/home/emerick/Research/dwarfs/analysis/analytic_model/dwarf_model.py\u001b[0m in \u001b[0;36m<lambda>\u001b[1;34m(y, t, A, B)\u001b[0m\n\u001b[0;32m    152\u001b[0m     \u001b[0mode_function\u001b[0m \u001b[1;33m=\u001b[0m \u001b[1;32mlambda\u001b[0m \u001b[0my\u001b[0m\u001b[1;33m,\u001b[0m \u001b[0mt\u001b[0m\u001b[1;33m,\u001b[0m \u001b[0mA\u001b[0m\u001b[1;33m,\u001b[0m \u001b[0mB\u001b[0m\u001b[1;33m:\u001b[0m\u001b[0;31m\\\u001b[0m\u001b[1;33m\u001b[0m\u001b[0m\n\u001b[0;32m    153\u001b[0m                  A *  _KH_evolution(y, t, halo_gas_density, galaxy_velocity,\n\u001b[1;32m--> 154\u001b[1;33m                                                  galaxy_gas_density,physics_kwargs['KH'])+\\\n\u001b[0m\u001b[0;32m    155\u001b[0m                  B * _RPS_evolution(y, t, halo_gas_density, galaxy_velocity,\n\u001b[0;32m    156\u001b[0m                                            galaxy_gas_density, galaxy_gas_density(0.0),physics_kwargs['RPS'])\n",
      "\u001b[1;31mTypeError\u001b[0m: _KH_evolution() takes exactly 5 arguments (6 given)"
     ]
    },
    {
     "ename": "TypeError",
     "evalue": "_KH_evolution() takes exactly 5 arguments (6 given)",
     "output_type": "error",
     "traceback": [
      "\u001b[1;31m---------------------------------------------------------------------------\u001b[0m",
      "\u001b[1;31mTypeError\u001b[0m                                 Traceback (most recent call last)",
      "\u001b[1;32m/home/emerick/Research/dwarfs/analysis/analytic_model/dwarf_model.py\u001b[0m in \u001b[0;36m<lambda>\u001b[1;34m(y, t, A, B)\u001b[0m\n\u001b[0;32m    152\u001b[0m     \u001b[0mode_function\u001b[0m \u001b[1;33m=\u001b[0m \u001b[1;32mlambda\u001b[0m \u001b[0my\u001b[0m\u001b[1;33m,\u001b[0m \u001b[0mt\u001b[0m\u001b[1;33m,\u001b[0m \u001b[0mA\u001b[0m\u001b[1;33m,\u001b[0m \u001b[0mB\u001b[0m\u001b[1;33m:\u001b[0m\u001b[0;31m\\\u001b[0m\u001b[1;33m\u001b[0m\u001b[0m\n\u001b[0;32m    153\u001b[0m                  A *  _KH_evolution(y, t, halo_gas_density, galaxy_velocity,\n\u001b[1;32m--> 154\u001b[1;33m                                                  galaxy_gas_density,physics_kwargs['KH'])+\\\n\u001b[0m\u001b[0;32m    155\u001b[0m                  B * _RPS_evolution(y, t, halo_gas_density, galaxy_velocity,\n\u001b[0;32m    156\u001b[0m                                            galaxy_gas_density, galaxy_gas_density(0.0),physics_kwargs['RPS'])\n",
      "\u001b[1;31mTypeError\u001b[0m: _KH_evolution() takes exactly 5 arguments (6 given)"
     ]
    },
    {
     "ename": "TypeError",
     "evalue": "_KH_evolution() takes exactly 5 arguments (6 given)",
     "output_type": "error",
     "traceback": [
      "\u001b[1;31m---------------------------------------------------------------------------\u001b[0m",
      "\u001b[1;31mTypeError\u001b[0m                                 Traceback (most recent call last)",
      "\u001b[1;32m/home/emerick/Research/dwarfs/analysis/analytic_model/dwarf_model.py\u001b[0m in \u001b[0;36m<lambda>\u001b[1;34m(y, t, A, B)\u001b[0m\n\u001b[0;32m    152\u001b[0m     \u001b[0mode_function\u001b[0m \u001b[1;33m=\u001b[0m \u001b[1;32mlambda\u001b[0m \u001b[0my\u001b[0m\u001b[1;33m,\u001b[0m \u001b[0mt\u001b[0m\u001b[1;33m,\u001b[0m \u001b[0mA\u001b[0m\u001b[1;33m,\u001b[0m \u001b[0mB\u001b[0m\u001b[1;33m:\u001b[0m\u001b[0;31m\\\u001b[0m\u001b[1;33m\u001b[0m\u001b[0m\n\u001b[0;32m    153\u001b[0m                  A *  _KH_evolution(y, t, halo_gas_density, galaxy_velocity,\n\u001b[1;32m--> 154\u001b[1;33m                                                  galaxy_gas_density,physics_kwargs['KH'])+\\\n\u001b[0m\u001b[0;32m    155\u001b[0m                  B * _RPS_evolution(y, t, halo_gas_density, galaxy_velocity,\n\u001b[0;32m    156\u001b[0m                                            galaxy_gas_density, galaxy_gas_density(0.0),physics_kwargs['RPS'])\n",
      "\u001b[1;31mTypeError\u001b[0m: _KH_evolution() takes exactly 5 arguments (6 given)"
     ]
    },
    {
     "ename": "TypeError",
     "evalue": "_KH_evolution() takes exactly 5 arguments (6 given)",
     "output_type": "error",
     "traceback": [
      "\u001b[1;31m---------------------------------------------------------------------------\u001b[0m",
      "\u001b[1;31mTypeError\u001b[0m                                 Traceback (most recent call last)",
      "\u001b[1;32m/home/emerick/Research/dwarfs/analysis/analytic_model/dwarf_model.py\u001b[0m in \u001b[0;36m<lambda>\u001b[1;34m(y, t, A, B)\u001b[0m\n\u001b[0;32m    152\u001b[0m     \u001b[0mode_function\u001b[0m \u001b[1;33m=\u001b[0m \u001b[1;32mlambda\u001b[0m \u001b[0my\u001b[0m\u001b[1;33m,\u001b[0m \u001b[0mt\u001b[0m\u001b[1;33m,\u001b[0m \u001b[0mA\u001b[0m\u001b[1;33m,\u001b[0m \u001b[0mB\u001b[0m\u001b[1;33m:\u001b[0m\u001b[0;31m\\\u001b[0m\u001b[1;33m\u001b[0m\u001b[0m\n\u001b[0;32m    153\u001b[0m                  A *  _KH_evolution(y, t, halo_gas_density, galaxy_velocity,\n\u001b[1;32m--> 154\u001b[1;33m                                                  galaxy_gas_density,physics_kwargs['KH'])+\\\n\u001b[0m\u001b[0;32m    155\u001b[0m                  B * _RPS_evolution(y, t, halo_gas_density, galaxy_velocity,\n\u001b[0;32m    156\u001b[0m                                            galaxy_gas_density, galaxy_gas_density(0.0),physics_kwargs['RPS'])\n",
      "\u001b[1;31mTypeError\u001b[0m: _KH_evolution() takes exactly 5 arguments (6 given)"
     ]
    },
    {
     "ename": "TypeError",
     "evalue": "_KH_evolution() takes exactly 5 arguments (6 given)",
     "output_type": "error",
     "traceback": [
      "\u001b[1;31m---------------------------------------------------------------------------\u001b[0m",
      "\u001b[1;31mTypeError\u001b[0m                                 Traceback (most recent call last)",
      "\u001b[1;32m/home/emerick/Research/dwarfs/analysis/analytic_model/dwarf_model.py\u001b[0m in \u001b[0;36m<lambda>\u001b[1;34m(y, t, A, B)\u001b[0m\n\u001b[0;32m    152\u001b[0m     \u001b[0mode_function\u001b[0m \u001b[1;33m=\u001b[0m \u001b[1;32mlambda\u001b[0m \u001b[0my\u001b[0m\u001b[1;33m,\u001b[0m \u001b[0mt\u001b[0m\u001b[1;33m,\u001b[0m \u001b[0mA\u001b[0m\u001b[1;33m,\u001b[0m \u001b[0mB\u001b[0m\u001b[1;33m:\u001b[0m\u001b[0;31m\\\u001b[0m\u001b[1;33m\u001b[0m\u001b[0m\n\u001b[0;32m    153\u001b[0m                  A *  _KH_evolution(y, t, halo_gas_density, galaxy_velocity,\n\u001b[1;32m--> 154\u001b[1;33m                                                  galaxy_gas_density,physics_kwargs['KH'])+\\\n\u001b[0m\u001b[0;32m    155\u001b[0m                  B * _RPS_evolution(y, t, halo_gas_density, galaxy_velocity,\n\u001b[0;32m    156\u001b[0m                                            galaxy_gas_density, galaxy_gas_density(0.0),physics_kwargs['RPS'])\n",
      "\u001b[1;31mTypeError\u001b[0m: _KH_evolution() takes exactly 5 arguments (6 given)"
     ]
    },
    {
     "ename": "TypeError",
     "evalue": "_KH_evolution() takes exactly 5 arguments (6 given)",
     "output_type": "error",
     "traceback": [
      "\u001b[1;31m---------------------------------------------------------------------------\u001b[0m",
      "\u001b[1;31mTypeError\u001b[0m                                 Traceback (most recent call last)",
      "\u001b[1;32m/home/emerick/Research/dwarfs/analysis/analytic_model/dwarf_model.py\u001b[0m in \u001b[0;36m<lambda>\u001b[1;34m(y, t, A, B)\u001b[0m\n\u001b[0;32m    152\u001b[0m     \u001b[0mode_function\u001b[0m \u001b[1;33m=\u001b[0m \u001b[1;32mlambda\u001b[0m \u001b[0my\u001b[0m\u001b[1;33m,\u001b[0m \u001b[0mt\u001b[0m\u001b[1;33m,\u001b[0m \u001b[0mA\u001b[0m\u001b[1;33m,\u001b[0m \u001b[0mB\u001b[0m\u001b[1;33m:\u001b[0m\u001b[0;31m\\\u001b[0m\u001b[1;33m\u001b[0m\u001b[0m\n\u001b[0;32m    153\u001b[0m                  A *  _KH_evolution(y, t, halo_gas_density, galaxy_velocity,\n\u001b[1;32m--> 154\u001b[1;33m                                                  galaxy_gas_density,physics_kwargs['KH'])+\\\n\u001b[0m\u001b[0;32m    155\u001b[0m                  B * _RPS_evolution(y, t, halo_gas_density, galaxy_velocity,\n\u001b[0;32m    156\u001b[0m                                            galaxy_gas_density, galaxy_gas_density(0.0),physics_kwargs['RPS'])\n",
      "\u001b[1;31mTypeError\u001b[0m: _KH_evolution() takes exactly 5 arguments (6 given)"
     ]
    },
    {
     "ename": "TypeError",
     "evalue": "_KH_evolution() takes exactly 5 arguments (6 given)",
     "output_type": "error",
     "traceback": [
      "\u001b[1;31m---------------------------------------------------------------------------\u001b[0m",
      "\u001b[1;31mTypeError\u001b[0m                                 Traceback (most recent call last)",
      "\u001b[1;32m/home/emerick/Research/dwarfs/analysis/analytic_model/dwarf_model.py\u001b[0m in \u001b[0;36m<lambda>\u001b[1;34m(y, t, A, B)\u001b[0m\n\u001b[0;32m    152\u001b[0m     \u001b[0mode_function\u001b[0m \u001b[1;33m=\u001b[0m \u001b[1;32mlambda\u001b[0m \u001b[0my\u001b[0m\u001b[1;33m,\u001b[0m \u001b[0mt\u001b[0m\u001b[1;33m,\u001b[0m \u001b[0mA\u001b[0m\u001b[1;33m,\u001b[0m \u001b[0mB\u001b[0m\u001b[1;33m:\u001b[0m\u001b[0;31m\\\u001b[0m\u001b[1;33m\u001b[0m\u001b[0m\n\u001b[0;32m    153\u001b[0m                  A *  _KH_evolution(y, t, halo_gas_density, galaxy_velocity,\n\u001b[1;32m--> 154\u001b[1;33m                                                  galaxy_gas_density,physics_kwargs['KH'])+\\\n\u001b[0m\u001b[0;32m    155\u001b[0m                  B * _RPS_evolution(y, t, halo_gas_density, galaxy_velocity,\n\u001b[0;32m    156\u001b[0m                                            galaxy_gas_density, galaxy_gas_density(0.0),physics_kwargs['RPS'])\n",
      "\u001b[1;31mTypeError\u001b[0m: _KH_evolution() takes exactly 5 arguments (6 given)"
     ]
    },
    {
     "ename": "TypeError",
     "evalue": "_KH_evolution() takes exactly 5 arguments (6 given)",
     "output_type": "error",
     "traceback": [
      "\u001b[1;31m---------------------------------------------------------------------------\u001b[0m",
      "\u001b[1;31mTypeError\u001b[0m                                 Traceback (most recent call last)",
      "\u001b[1;32m/home/emerick/Research/dwarfs/analysis/analytic_model/dwarf_model.py\u001b[0m in \u001b[0;36m<lambda>\u001b[1;34m(y, t, A, B)\u001b[0m\n\u001b[0;32m    152\u001b[0m     \u001b[0mode_function\u001b[0m \u001b[1;33m=\u001b[0m \u001b[1;32mlambda\u001b[0m \u001b[0my\u001b[0m\u001b[1;33m,\u001b[0m \u001b[0mt\u001b[0m\u001b[1;33m,\u001b[0m \u001b[0mA\u001b[0m\u001b[1;33m,\u001b[0m \u001b[0mB\u001b[0m\u001b[1;33m:\u001b[0m\u001b[0;31m\\\u001b[0m\u001b[1;33m\u001b[0m\u001b[0m\n\u001b[0;32m    153\u001b[0m                  A *  _KH_evolution(y, t, halo_gas_density, galaxy_velocity,\n\u001b[1;32m--> 154\u001b[1;33m                                                  galaxy_gas_density,physics_kwargs['KH'])+\\\n\u001b[0m\u001b[0;32m    155\u001b[0m                  B * _RPS_evolution(y, t, halo_gas_density, galaxy_velocity,\n\u001b[0;32m    156\u001b[0m                                            galaxy_gas_density, galaxy_gas_density(0.0),physics_kwargs['RPS'])\n",
      "\u001b[1;31mTypeError\u001b[0m: _KH_evolution() takes exactly 5 arguments (6 given)"
     ]
    },
    {
     "ename": "TypeError",
     "evalue": "_KH_evolution() takes exactly 5 arguments (6 given)",
     "output_type": "error",
     "traceback": [
      "\u001b[1;31m---------------------------------------------------------------------------\u001b[0m",
      "\u001b[1;31mTypeError\u001b[0m                                 Traceback (most recent call last)",
      "\u001b[1;32m/home/emerick/Research/dwarfs/analysis/analytic_model/dwarf_model.py\u001b[0m in \u001b[0;36m<lambda>\u001b[1;34m(y, t, A, B)\u001b[0m\n\u001b[0;32m    152\u001b[0m     \u001b[0mode_function\u001b[0m \u001b[1;33m=\u001b[0m \u001b[1;32mlambda\u001b[0m \u001b[0my\u001b[0m\u001b[1;33m,\u001b[0m \u001b[0mt\u001b[0m\u001b[1;33m,\u001b[0m \u001b[0mA\u001b[0m\u001b[1;33m,\u001b[0m \u001b[0mB\u001b[0m\u001b[1;33m:\u001b[0m\u001b[0;31m\\\u001b[0m\u001b[1;33m\u001b[0m\u001b[0m\n\u001b[0;32m    153\u001b[0m                  A *  _KH_evolution(y, t, halo_gas_density, galaxy_velocity,\n\u001b[1;32m--> 154\u001b[1;33m                                                  galaxy_gas_density,physics_kwargs['KH'])+\\\n\u001b[0m\u001b[0;32m    155\u001b[0m                  B * _RPS_evolution(y, t, halo_gas_density, galaxy_velocity,\n\u001b[0;32m    156\u001b[0m                                            galaxy_gas_density, galaxy_gas_density(0.0),physics_kwargs['RPS'])\n",
      "\u001b[1;31mTypeError\u001b[0m: _KH_evolution() takes exactly 5 arguments (6 given)"
     ]
    },
    {
     "ename": "TypeError",
     "evalue": "_KH_evolution() takes exactly 5 arguments (6 given)",
     "output_type": "error",
     "traceback": [
      "\u001b[1;31m---------------------------------------------------------------------------\u001b[0m",
      "\u001b[1;31mTypeError\u001b[0m                                 Traceback (most recent call last)",
      "\u001b[1;32m/home/emerick/Research/dwarfs/analysis/analytic_model/dwarf_model.py\u001b[0m in \u001b[0;36m<lambda>\u001b[1;34m(y, t, A, B)\u001b[0m\n\u001b[0;32m    152\u001b[0m     \u001b[0mode_function\u001b[0m \u001b[1;33m=\u001b[0m \u001b[1;32mlambda\u001b[0m \u001b[0my\u001b[0m\u001b[1;33m,\u001b[0m \u001b[0mt\u001b[0m\u001b[1;33m,\u001b[0m \u001b[0mA\u001b[0m\u001b[1;33m,\u001b[0m \u001b[0mB\u001b[0m\u001b[1;33m:\u001b[0m\u001b[0;31m\\\u001b[0m\u001b[1;33m\u001b[0m\u001b[0m\n\u001b[0;32m    153\u001b[0m                  A *  _KH_evolution(y, t, halo_gas_density, galaxy_velocity,\n\u001b[1;32m--> 154\u001b[1;33m                                                  galaxy_gas_density,physics_kwargs['KH'])+\\\n\u001b[0m\u001b[0;32m    155\u001b[0m                  B * _RPS_evolution(y, t, halo_gas_density, galaxy_velocity,\n\u001b[0;32m    156\u001b[0m                                            galaxy_gas_density, galaxy_gas_density(0.0),physics_kwargs['RPS'])\n",
      "\u001b[1;31mTypeError\u001b[0m: _KH_evolution() takes exactly 5 arguments (6 given)"
     ]
    },
    {
     "ename": "TypeError",
     "evalue": "_KH_evolution() takes exactly 5 arguments (6 given)",
     "output_type": "error",
     "traceback": [
      "\u001b[1;31m---------------------------------------------------------------------------\u001b[0m",
      "\u001b[1;31mTypeError\u001b[0m                                 Traceback (most recent call last)",
      "\u001b[1;32m/home/emerick/Research/dwarfs/analysis/analytic_model/dwarf_model.py\u001b[0m in \u001b[0;36m<lambda>\u001b[1;34m(y, t, A, B)\u001b[0m\n\u001b[0;32m    152\u001b[0m     \u001b[0mode_function\u001b[0m \u001b[1;33m=\u001b[0m \u001b[1;32mlambda\u001b[0m \u001b[0my\u001b[0m\u001b[1;33m,\u001b[0m \u001b[0mt\u001b[0m\u001b[1;33m,\u001b[0m \u001b[0mA\u001b[0m\u001b[1;33m,\u001b[0m \u001b[0mB\u001b[0m\u001b[1;33m:\u001b[0m\u001b[0;31m\\\u001b[0m\u001b[1;33m\u001b[0m\u001b[0m\n\u001b[0;32m    153\u001b[0m                  A *  _KH_evolution(y, t, halo_gas_density, galaxy_velocity,\n\u001b[1;32m--> 154\u001b[1;33m                                                  galaxy_gas_density,physics_kwargs['KH'])+\\\n\u001b[0m\u001b[0;32m    155\u001b[0m                  B * _RPS_evolution(y, t, halo_gas_density, galaxy_velocity,\n\u001b[0;32m    156\u001b[0m                                            galaxy_gas_density, galaxy_gas_density(0.0),physics_kwargs['RPS'])\n",
      "\u001b[1;31mTypeError\u001b[0m: _KH_evolution() takes exactly 5 arguments (6 given)"
     ]
    },
    {
     "ename": "TypeError",
     "evalue": "_KH_evolution() takes exactly 5 arguments (6 given)",
     "output_type": "error",
     "traceback": [
      "\u001b[1;31m---------------------------------------------------------------------------\u001b[0m",
      "\u001b[1;31mTypeError\u001b[0m                                 Traceback (most recent call last)",
      "\u001b[1;32m/home/emerick/Research/dwarfs/analysis/analytic_model/dwarf_model.py\u001b[0m in \u001b[0;36m<lambda>\u001b[1;34m(y, t, A, B)\u001b[0m\n\u001b[0;32m    152\u001b[0m     \u001b[0mode_function\u001b[0m \u001b[1;33m=\u001b[0m \u001b[1;32mlambda\u001b[0m \u001b[0my\u001b[0m\u001b[1;33m,\u001b[0m \u001b[0mt\u001b[0m\u001b[1;33m,\u001b[0m \u001b[0mA\u001b[0m\u001b[1;33m,\u001b[0m \u001b[0mB\u001b[0m\u001b[1;33m:\u001b[0m\u001b[0;31m\\\u001b[0m\u001b[1;33m\u001b[0m\u001b[0m\n\u001b[0;32m    153\u001b[0m                  A *  _KH_evolution(y, t, halo_gas_density, galaxy_velocity,\n\u001b[1;32m--> 154\u001b[1;33m                                                  galaxy_gas_density,physics_kwargs['KH'])+\\\n\u001b[0m\u001b[0;32m    155\u001b[0m                  B * _RPS_evolution(y, t, halo_gas_density, galaxy_velocity,\n\u001b[0;32m    156\u001b[0m                                            galaxy_gas_density, galaxy_gas_density(0.0),physics_kwargs['RPS'])\n",
      "\u001b[1;31mTypeError\u001b[0m: _KH_evolution() takes exactly 5 arguments (6 given)"
     ]
    },
    {
     "ename": "TypeError",
     "evalue": "_KH_evolution() takes exactly 5 arguments (6 given)",
     "output_type": "error",
     "traceback": [
      "\u001b[1;31m---------------------------------------------------------------------------\u001b[0m",
      "\u001b[1;31mTypeError\u001b[0m                                 Traceback (most recent call last)",
      "\u001b[1;32m/home/emerick/Research/dwarfs/analysis/analytic_model/dwarf_model.py\u001b[0m in \u001b[0;36m<lambda>\u001b[1;34m(y, t, A, B)\u001b[0m\n\u001b[0;32m    152\u001b[0m     \u001b[0mode_function\u001b[0m \u001b[1;33m=\u001b[0m \u001b[1;32mlambda\u001b[0m \u001b[0my\u001b[0m\u001b[1;33m,\u001b[0m \u001b[0mt\u001b[0m\u001b[1;33m,\u001b[0m \u001b[0mA\u001b[0m\u001b[1;33m,\u001b[0m \u001b[0mB\u001b[0m\u001b[1;33m:\u001b[0m\u001b[0;31m\\\u001b[0m\u001b[1;33m\u001b[0m\u001b[0m\n\u001b[0;32m    153\u001b[0m                  A *  _KH_evolution(y, t, halo_gas_density, galaxy_velocity,\n\u001b[1;32m--> 154\u001b[1;33m                                                  galaxy_gas_density,physics_kwargs['KH'])+\\\n\u001b[0m\u001b[0;32m    155\u001b[0m                  B * _RPS_evolution(y, t, halo_gas_density, galaxy_velocity,\n\u001b[0;32m    156\u001b[0m                                            galaxy_gas_density, galaxy_gas_density(0.0),physics_kwargs['RPS'])\n",
      "\u001b[1;31mTypeError\u001b[0m: _KH_evolution() takes exactly 5 arguments (6 given)"
     ]
    },
    {
     "ename": "TypeError",
     "evalue": "_KH_evolution() takes exactly 5 arguments (6 given)",
     "output_type": "error",
     "traceback": [
      "\u001b[1;31m---------------------------------------------------------------------------\u001b[0m",
      "\u001b[1;31mTypeError\u001b[0m                                 Traceback (most recent call last)",
      "\u001b[1;32m/home/emerick/Research/dwarfs/analysis/analytic_model/dwarf_model.py\u001b[0m in \u001b[0;36m<lambda>\u001b[1;34m(y, t, A, B)\u001b[0m\n\u001b[0;32m    152\u001b[0m     \u001b[0mode_function\u001b[0m \u001b[1;33m=\u001b[0m \u001b[1;32mlambda\u001b[0m \u001b[0my\u001b[0m\u001b[1;33m,\u001b[0m \u001b[0mt\u001b[0m\u001b[1;33m,\u001b[0m \u001b[0mA\u001b[0m\u001b[1;33m,\u001b[0m \u001b[0mB\u001b[0m\u001b[1;33m:\u001b[0m\u001b[0;31m\\\u001b[0m\u001b[1;33m\u001b[0m\u001b[0m\n\u001b[0;32m    153\u001b[0m                  A *  _KH_evolution(y, t, halo_gas_density, galaxy_velocity,\n\u001b[1;32m--> 154\u001b[1;33m                                                  galaxy_gas_density,physics_kwargs['KH'])+\\\n\u001b[0m\u001b[0;32m    155\u001b[0m                  B * _RPS_evolution(y, t, halo_gas_density, galaxy_velocity,\n\u001b[0;32m    156\u001b[0m                                            galaxy_gas_density, galaxy_gas_density(0.0),physics_kwargs['RPS'])\n",
      "\u001b[1;31mTypeError\u001b[0m: _KH_evolution() takes exactly 5 arguments (6 given)"
     ]
    },
    {
     "ename": "TypeError",
     "evalue": "_KH_evolution() takes exactly 5 arguments (6 given)",
     "output_type": "error",
     "traceback": [
      "\u001b[1;31m---------------------------------------------------------------------------\u001b[0m",
      "\u001b[1;31mTypeError\u001b[0m                                 Traceback (most recent call last)",
      "\u001b[1;32m/home/emerick/Research/dwarfs/analysis/analytic_model/dwarf_model.py\u001b[0m in \u001b[0;36m<lambda>\u001b[1;34m(y, t, A, B)\u001b[0m\n\u001b[0;32m    152\u001b[0m     \u001b[0mode_function\u001b[0m \u001b[1;33m=\u001b[0m \u001b[1;32mlambda\u001b[0m \u001b[0my\u001b[0m\u001b[1;33m,\u001b[0m \u001b[0mt\u001b[0m\u001b[1;33m,\u001b[0m \u001b[0mA\u001b[0m\u001b[1;33m,\u001b[0m \u001b[0mB\u001b[0m\u001b[1;33m:\u001b[0m\u001b[0;31m\\\u001b[0m\u001b[1;33m\u001b[0m\u001b[0m\n\u001b[0;32m    153\u001b[0m                  A *  _KH_evolution(y, t, halo_gas_density, galaxy_velocity,\n\u001b[1;32m--> 154\u001b[1;33m                                                  galaxy_gas_density,physics_kwargs['KH'])+\\\n\u001b[0m\u001b[0;32m    155\u001b[0m                  B * _RPS_evolution(y, t, halo_gas_density, galaxy_velocity,\n\u001b[0;32m    156\u001b[0m                                            galaxy_gas_density, galaxy_gas_density(0.0),physics_kwargs['RPS'])\n",
      "\u001b[1;31mTypeError\u001b[0m: _KH_evolution() takes exactly 5 arguments (6 given)"
     ]
    },
    {
     "ename": "TypeError",
     "evalue": "_KH_evolution() takes exactly 5 arguments (6 given)",
     "output_type": "error",
     "traceback": [
      "\u001b[1;31m---------------------------------------------------------------------------\u001b[0m",
      "\u001b[1;31mTypeError\u001b[0m                                 Traceback (most recent call last)",
      "\u001b[1;32m/home/emerick/Research/dwarfs/analysis/analytic_model/dwarf_model.py\u001b[0m in \u001b[0;36m<lambda>\u001b[1;34m(y, t, A, B)\u001b[0m\n\u001b[0;32m    152\u001b[0m     \u001b[0mode_function\u001b[0m \u001b[1;33m=\u001b[0m \u001b[1;32mlambda\u001b[0m \u001b[0my\u001b[0m\u001b[1;33m,\u001b[0m \u001b[0mt\u001b[0m\u001b[1;33m,\u001b[0m \u001b[0mA\u001b[0m\u001b[1;33m,\u001b[0m \u001b[0mB\u001b[0m\u001b[1;33m:\u001b[0m\u001b[0;31m\\\u001b[0m\u001b[1;33m\u001b[0m\u001b[0m\n\u001b[0;32m    153\u001b[0m                  A *  _KH_evolution(y, t, halo_gas_density, galaxy_velocity,\n\u001b[1;32m--> 154\u001b[1;33m                                                  galaxy_gas_density,physics_kwargs['KH'])+\\\n\u001b[0m\u001b[0;32m    155\u001b[0m                  B * _RPS_evolution(y, t, halo_gas_density, galaxy_velocity,\n\u001b[0;32m    156\u001b[0m                                            galaxy_gas_density, galaxy_gas_density(0.0),physics_kwargs['RPS'])\n",
      "\u001b[1;31mTypeError\u001b[0m: _KH_evolution() takes exactly 5 arguments (6 given)"
     ]
    },
    {
     "ename": "TypeError",
     "evalue": "_KH_evolution() takes exactly 5 arguments (6 given)",
     "output_type": "error",
     "traceback": [
      "\u001b[1;31m---------------------------------------------------------------------------\u001b[0m",
      "\u001b[1;31mTypeError\u001b[0m                                 Traceback (most recent call last)",
      "\u001b[1;32m/home/emerick/Research/dwarfs/analysis/analytic_model/dwarf_model.py\u001b[0m in \u001b[0;36m<lambda>\u001b[1;34m(y, t, A, B)\u001b[0m\n\u001b[0;32m    152\u001b[0m     \u001b[0mode_function\u001b[0m \u001b[1;33m=\u001b[0m \u001b[1;32mlambda\u001b[0m \u001b[0my\u001b[0m\u001b[1;33m,\u001b[0m \u001b[0mt\u001b[0m\u001b[1;33m,\u001b[0m \u001b[0mA\u001b[0m\u001b[1;33m,\u001b[0m \u001b[0mB\u001b[0m\u001b[1;33m:\u001b[0m\u001b[0;31m\\\u001b[0m\u001b[1;33m\u001b[0m\u001b[0m\n\u001b[0;32m    153\u001b[0m                  A *  _KH_evolution(y, t, halo_gas_density, galaxy_velocity,\n\u001b[1;32m--> 154\u001b[1;33m                                                  galaxy_gas_density,physics_kwargs['KH'])+\\\n\u001b[0m\u001b[0;32m    155\u001b[0m                  B * _RPS_evolution(y, t, halo_gas_density, galaxy_velocity,\n\u001b[0;32m    156\u001b[0m                                            galaxy_gas_density, galaxy_gas_density(0.0),physics_kwargs['RPS'])\n",
      "\u001b[1;31mTypeError\u001b[0m: _KH_evolution() takes exactly 5 arguments (6 given)"
     ]
    },
    {
     "ename": "TypeError",
     "evalue": "_KH_evolution() takes exactly 5 arguments (6 given)",
     "output_type": "error",
     "traceback": [
      "\u001b[1;31m---------------------------------------------------------------------------\u001b[0m",
      "\u001b[1;31mTypeError\u001b[0m                                 Traceback (most recent call last)",
      "\u001b[1;32m/home/emerick/Research/dwarfs/analysis/analytic_model/dwarf_model.py\u001b[0m in \u001b[0;36m<lambda>\u001b[1;34m(y, t, A, B)\u001b[0m\n\u001b[0;32m    152\u001b[0m     \u001b[0mode_function\u001b[0m \u001b[1;33m=\u001b[0m \u001b[1;32mlambda\u001b[0m \u001b[0my\u001b[0m\u001b[1;33m,\u001b[0m \u001b[0mt\u001b[0m\u001b[1;33m,\u001b[0m \u001b[0mA\u001b[0m\u001b[1;33m,\u001b[0m \u001b[0mB\u001b[0m\u001b[1;33m:\u001b[0m\u001b[0;31m\\\u001b[0m\u001b[1;33m\u001b[0m\u001b[0m\n\u001b[0;32m    153\u001b[0m                  A *  _KH_evolution(y, t, halo_gas_density, galaxy_velocity,\n\u001b[1;32m--> 154\u001b[1;33m                                                  galaxy_gas_density,physics_kwargs['KH'])+\\\n\u001b[0m\u001b[0;32m    155\u001b[0m                  B * _RPS_evolution(y, t, halo_gas_density, galaxy_velocity,\n\u001b[0;32m    156\u001b[0m                                            galaxy_gas_density, galaxy_gas_density(0.0),physics_kwargs['RPS'])\n",
      "\u001b[1;31mTypeError\u001b[0m: _KH_evolution() takes exactly 5 arguments (6 given)"
     ]
    },
    {
     "ename": "TypeError",
     "evalue": "_KH_evolution() takes exactly 5 arguments (6 given)",
     "output_type": "error",
     "traceback": [
      "\u001b[1;31m---------------------------------------------------------------------------\u001b[0m",
      "\u001b[1;31mTypeError\u001b[0m                                 Traceback (most recent call last)",
      "\u001b[1;32m/home/emerick/Research/dwarfs/analysis/analytic_model/dwarf_model.py\u001b[0m in \u001b[0;36m<lambda>\u001b[1;34m(y, t, A, B)\u001b[0m\n\u001b[0;32m    152\u001b[0m     \u001b[0mode_function\u001b[0m \u001b[1;33m=\u001b[0m \u001b[1;32mlambda\u001b[0m \u001b[0my\u001b[0m\u001b[1;33m,\u001b[0m \u001b[0mt\u001b[0m\u001b[1;33m,\u001b[0m \u001b[0mA\u001b[0m\u001b[1;33m,\u001b[0m \u001b[0mB\u001b[0m\u001b[1;33m:\u001b[0m\u001b[0;31m\\\u001b[0m\u001b[1;33m\u001b[0m\u001b[0m\n\u001b[0;32m    153\u001b[0m                  A *  _KH_evolution(y, t, halo_gas_density, galaxy_velocity,\n\u001b[1;32m--> 154\u001b[1;33m                                                  galaxy_gas_density,physics_kwargs['KH'])+\\\n\u001b[0m\u001b[0;32m    155\u001b[0m                  B * _RPS_evolution(y, t, halo_gas_density, galaxy_velocity,\n\u001b[0;32m    156\u001b[0m                                            galaxy_gas_density, galaxy_gas_density(0.0),physics_kwargs['RPS'])\n",
      "\u001b[1;31mTypeError\u001b[0m: _KH_evolution() takes exactly 5 arguments (6 given)"
     ]
    },
    {
     "ename": "TypeError",
     "evalue": "_KH_evolution() takes exactly 5 arguments (6 given)",
     "output_type": "error",
     "traceback": [
      "\u001b[1;31m---------------------------------------------------------------------------\u001b[0m",
      "\u001b[1;31mTypeError\u001b[0m                                 Traceback (most recent call last)",
      "\u001b[1;32m/home/emerick/Research/dwarfs/analysis/analytic_model/dwarf_model.py\u001b[0m in \u001b[0;36m<lambda>\u001b[1;34m(y, t, A, B)\u001b[0m\n\u001b[0;32m    152\u001b[0m     \u001b[0mode_function\u001b[0m \u001b[1;33m=\u001b[0m \u001b[1;32mlambda\u001b[0m \u001b[0my\u001b[0m\u001b[1;33m,\u001b[0m \u001b[0mt\u001b[0m\u001b[1;33m,\u001b[0m \u001b[0mA\u001b[0m\u001b[1;33m,\u001b[0m \u001b[0mB\u001b[0m\u001b[1;33m:\u001b[0m\u001b[0;31m\\\u001b[0m\u001b[1;33m\u001b[0m\u001b[0m\n\u001b[0;32m    153\u001b[0m                  A *  _KH_evolution(y, t, halo_gas_density, galaxy_velocity,\n\u001b[1;32m--> 154\u001b[1;33m                                                  galaxy_gas_density,physics_kwargs['KH'])+\\\n\u001b[0m\u001b[0;32m    155\u001b[0m                  B * _RPS_evolution(y, t, halo_gas_density, galaxy_velocity,\n\u001b[0;32m    156\u001b[0m                                            galaxy_gas_density, galaxy_gas_density(0.0),physics_kwargs['RPS'])\n",
      "\u001b[1;31mTypeError\u001b[0m: _KH_evolution() takes exactly 5 arguments (6 given)"
     ]
    },
    {
     "ename": "TypeError",
     "evalue": "_KH_evolution() takes exactly 5 arguments (6 given)",
     "output_type": "error",
     "traceback": [
      "\u001b[1;31m---------------------------------------------------------------------------\u001b[0m",
      "\u001b[1;31mTypeError\u001b[0m                                 Traceback (most recent call last)",
      "\u001b[1;32m/home/emerick/Research/dwarfs/analysis/analytic_model/dwarf_model.py\u001b[0m in \u001b[0;36m<lambda>\u001b[1;34m(y, t, A, B)\u001b[0m\n\u001b[0;32m    152\u001b[0m     \u001b[0mode_function\u001b[0m \u001b[1;33m=\u001b[0m \u001b[1;32mlambda\u001b[0m \u001b[0my\u001b[0m\u001b[1;33m,\u001b[0m \u001b[0mt\u001b[0m\u001b[1;33m,\u001b[0m \u001b[0mA\u001b[0m\u001b[1;33m,\u001b[0m \u001b[0mB\u001b[0m\u001b[1;33m:\u001b[0m\u001b[0;31m\\\u001b[0m\u001b[1;33m\u001b[0m\u001b[0m\n\u001b[0;32m    153\u001b[0m                  A *  _KH_evolution(y, t, halo_gas_density, galaxy_velocity,\n\u001b[1;32m--> 154\u001b[1;33m                                                  galaxy_gas_density,physics_kwargs['KH'])+\\\n\u001b[0m\u001b[0;32m    155\u001b[0m                  B * _RPS_evolution(y, t, halo_gas_density, galaxy_velocity,\n\u001b[0;32m    156\u001b[0m                                            galaxy_gas_density, galaxy_gas_density(0.0),physics_kwargs['RPS'])\n",
      "\u001b[1;31mTypeError\u001b[0m: _KH_evolution() takes exactly 5 arguments (6 given)"
     ]
    },
    {
     "ename": "TypeError",
     "evalue": "_KH_evolution() takes exactly 5 arguments (6 given)",
     "output_type": "error",
     "traceback": [
      "\u001b[1;31m---------------------------------------------------------------------------\u001b[0m",
      "\u001b[1;31mTypeError\u001b[0m                                 Traceback (most recent call last)",
      "\u001b[1;32m/home/emerick/Research/dwarfs/analysis/analytic_model/dwarf_model.py\u001b[0m in \u001b[0;36m<lambda>\u001b[1;34m(y, t, A, B)\u001b[0m\n\u001b[0;32m    152\u001b[0m     \u001b[0mode_function\u001b[0m \u001b[1;33m=\u001b[0m \u001b[1;32mlambda\u001b[0m \u001b[0my\u001b[0m\u001b[1;33m,\u001b[0m \u001b[0mt\u001b[0m\u001b[1;33m,\u001b[0m \u001b[0mA\u001b[0m\u001b[1;33m,\u001b[0m \u001b[0mB\u001b[0m\u001b[1;33m:\u001b[0m\u001b[0;31m\\\u001b[0m\u001b[1;33m\u001b[0m\u001b[0m\n\u001b[0;32m    153\u001b[0m                  A *  _KH_evolution(y, t, halo_gas_density, galaxy_velocity,\n\u001b[1;32m--> 154\u001b[1;33m                                                  galaxy_gas_density,physics_kwargs['KH'])+\\\n\u001b[0m\u001b[0;32m    155\u001b[0m                  B * _RPS_evolution(y, t, halo_gas_density, galaxy_velocity,\n\u001b[0;32m    156\u001b[0m                                            galaxy_gas_density, galaxy_gas_density(0.0),physics_kwargs['RPS'])\n",
      "\u001b[1;31mTypeError\u001b[0m: _KH_evolution() takes exactly 5 arguments (6 given)"
     ]
    },
    {
     "ename": "TypeError",
     "evalue": "_KH_evolution() takes exactly 5 arguments (6 given)",
     "output_type": "error",
     "traceback": [
      "\u001b[1;31m---------------------------------------------------------------------------\u001b[0m",
      "\u001b[1;31mTypeError\u001b[0m                                 Traceback (most recent call last)",
      "\u001b[1;32m/home/emerick/Research/dwarfs/analysis/analytic_model/dwarf_model.py\u001b[0m in \u001b[0;36m<lambda>\u001b[1;34m(y, t, A, B)\u001b[0m\n\u001b[0;32m    152\u001b[0m     \u001b[0mode_function\u001b[0m \u001b[1;33m=\u001b[0m \u001b[1;32mlambda\u001b[0m \u001b[0my\u001b[0m\u001b[1;33m,\u001b[0m \u001b[0mt\u001b[0m\u001b[1;33m,\u001b[0m \u001b[0mA\u001b[0m\u001b[1;33m,\u001b[0m \u001b[0mB\u001b[0m\u001b[1;33m:\u001b[0m\u001b[0;31m\\\u001b[0m\u001b[1;33m\u001b[0m\u001b[0m\n\u001b[0;32m    153\u001b[0m                  A *  _KH_evolution(y, t, halo_gas_density, galaxy_velocity,\n\u001b[1;32m--> 154\u001b[1;33m                                                  galaxy_gas_density,physics_kwargs['KH'])+\\\n\u001b[0m\u001b[0;32m    155\u001b[0m                  B * _RPS_evolution(y, t, halo_gas_density, galaxy_velocity,\n\u001b[0;32m    156\u001b[0m                                            galaxy_gas_density, galaxy_gas_density(0.0),physics_kwargs['RPS'])\n",
      "\u001b[1;31mTypeError\u001b[0m: _KH_evolution() takes exactly 5 arguments (6 given)"
     ]
    },
    {
     "ename": "TypeError",
     "evalue": "_KH_evolution() takes exactly 5 arguments (6 given)",
     "output_type": "error",
     "traceback": [
      "\u001b[1;31m---------------------------------------------------------------------------\u001b[0m",
      "\u001b[1;31mTypeError\u001b[0m                                 Traceback (most recent call last)",
      "\u001b[1;32m/home/emerick/Research/dwarfs/analysis/analytic_model/dwarf_model.py\u001b[0m in \u001b[0;36m<lambda>\u001b[1;34m(y, t, A, B)\u001b[0m\n\u001b[0;32m    152\u001b[0m     \u001b[0mode_function\u001b[0m \u001b[1;33m=\u001b[0m \u001b[1;32mlambda\u001b[0m \u001b[0my\u001b[0m\u001b[1;33m,\u001b[0m \u001b[0mt\u001b[0m\u001b[1;33m,\u001b[0m \u001b[0mA\u001b[0m\u001b[1;33m,\u001b[0m \u001b[0mB\u001b[0m\u001b[1;33m:\u001b[0m\u001b[0;31m\\\u001b[0m\u001b[1;33m\u001b[0m\u001b[0m\n\u001b[0;32m    153\u001b[0m                  A *  _KH_evolution(y, t, halo_gas_density, galaxy_velocity,\n\u001b[1;32m--> 154\u001b[1;33m                                                  galaxy_gas_density,physics_kwargs['KH'])+\\\n\u001b[0m\u001b[0;32m    155\u001b[0m                  B * _RPS_evolution(y, t, halo_gas_density, galaxy_velocity,\n\u001b[0;32m    156\u001b[0m                                            galaxy_gas_density, galaxy_gas_density(0.0),physics_kwargs['RPS'])\n",
      "\u001b[1;31mTypeError\u001b[0m: _KH_evolution() takes exactly 5 arguments (6 given)"
     ]
    },
    {
     "ename": "TypeError",
     "evalue": "_KH_evolution() takes exactly 5 arguments (6 given)",
     "output_type": "error",
     "traceback": [
      "\u001b[1;31m---------------------------------------------------------------------------\u001b[0m",
      "\u001b[1;31mTypeError\u001b[0m                                 Traceback (most recent call last)",
      "\u001b[1;32m/home/emerick/Research/dwarfs/analysis/analytic_model/dwarf_model.py\u001b[0m in \u001b[0;36m<lambda>\u001b[1;34m(y, t, A, B)\u001b[0m\n\u001b[0;32m    152\u001b[0m     \u001b[0mode_function\u001b[0m \u001b[1;33m=\u001b[0m \u001b[1;32mlambda\u001b[0m \u001b[0my\u001b[0m\u001b[1;33m,\u001b[0m \u001b[0mt\u001b[0m\u001b[1;33m,\u001b[0m \u001b[0mA\u001b[0m\u001b[1;33m,\u001b[0m \u001b[0mB\u001b[0m\u001b[1;33m:\u001b[0m\u001b[0;31m\\\u001b[0m\u001b[1;33m\u001b[0m\u001b[0m\n\u001b[0;32m    153\u001b[0m                  A *  _KH_evolution(y, t, halo_gas_density, galaxy_velocity,\n\u001b[1;32m--> 154\u001b[1;33m                                                  galaxy_gas_density,physics_kwargs['KH'])+\\\n\u001b[0m\u001b[0;32m    155\u001b[0m                  B * _RPS_evolution(y, t, halo_gas_density, galaxy_velocity,\n\u001b[0;32m    156\u001b[0m                                            galaxy_gas_density, galaxy_gas_density(0.0),physics_kwargs['RPS'])\n",
      "\u001b[1;31mTypeError\u001b[0m: _KH_evolution() takes exactly 5 arguments (6 given)"
     ]
    },
    {
     "ename": "TypeError",
     "evalue": "_KH_evolution() takes exactly 5 arguments (6 given)",
     "output_type": "error",
     "traceback": [
      "\u001b[1;31m---------------------------------------------------------------------------\u001b[0m",
      "\u001b[1;31mTypeError\u001b[0m                                 Traceback (most recent call last)",
      "\u001b[1;32m/home/emerick/Research/dwarfs/analysis/analytic_model/dwarf_model.py\u001b[0m in \u001b[0;36m<lambda>\u001b[1;34m(y, t, A, B)\u001b[0m\n\u001b[0;32m    152\u001b[0m     \u001b[0mode_function\u001b[0m \u001b[1;33m=\u001b[0m \u001b[1;32mlambda\u001b[0m \u001b[0my\u001b[0m\u001b[1;33m,\u001b[0m \u001b[0mt\u001b[0m\u001b[1;33m,\u001b[0m \u001b[0mA\u001b[0m\u001b[1;33m,\u001b[0m \u001b[0mB\u001b[0m\u001b[1;33m:\u001b[0m\u001b[0;31m\\\u001b[0m\u001b[1;33m\u001b[0m\u001b[0m\n\u001b[0;32m    153\u001b[0m                  A *  _KH_evolution(y, t, halo_gas_density, galaxy_velocity,\n\u001b[1;32m--> 154\u001b[1;33m                                                  galaxy_gas_density,physics_kwargs['KH'])+\\\n\u001b[0m\u001b[0;32m    155\u001b[0m                  B * _RPS_evolution(y, t, halo_gas_density, galaxy_velocity,\n\u001b[0;32m    156\u001b[0m                                            galaxy_gas_density, galaxy_gas_density(0.0),physics_kwargs['RPS'])\n",
      "\u001b[1;31mTypeError\u001b[0m: _KH_evolution() takes exactly 5 arguments (6 given)"
     ]
    },
    {
     "ename": "TypeError",
     "evalue": "_KH_evolution() takes exactly 5 arguments (6 given)",
     "output_type": "error",
     "traceback": [
      "\u001b[1;31m---------------------------------------------------------------------------\u001b[0m",
      "\u001b[1;31mTypeError\u001b[0m                                 Traceback (most recent call last)",
      "\u001b[1;32m/home/emerick/Research/dwarfs/analysis/analytic_model/dwarf_model.py\u001b[0m in \u001b[0;36m<lambda>\u001b[1;34m(y, t, A, B)\u001b[0m\n\u001b[0;32m    152\u001b[0m     \u001b[0mode_function\u001b[0m \u001b[1;33m=\u001b[0m \u001b[1;32mlambda\u001b[0m \u001b[0my\u001b[0m\u001b[1;33m,\u001b[0m \u001b[0mt\u001b[0m\u001b[1;33m,\u001b[0m \u001b[0mA\u001b[0m\u001b[1;33m,\u001b[0m \u001b[0mB\u001b[0m\u001b[1;33m:\u001b[0m\u001b[0;31m\\\u001b[0m\u001b[1;33m\u001b[0m\u001b[0m\n\u001b[0;32m    153\u001b[0m                  A *  _KH_evolution(y, t, halo_gas_density, galaxy_velocity,\n\u001b[1;32m--> 154\u001b[1;33m                                                  galaxy_gas_density,physics_kwargs['KH'])+\\\n\u001b[0m\u001b[0;32m    155\u001b[0m                  B * _RPS_evolution(y, t, halo_gas_density, galaxy_velocity,\n\u001b[0;32m    156\u001b[0m                                            galaxy_gas_density, galaxy_gas_density(0.0),physics_kwargs['RPS'])\n",
      "\u001b[1;31mTypeError\u001b[0m: _KH_evolution() takes exactly 5 arguments (6 given)"
     ]
    },
    {
     "ename": "TypeError",
     "evalue": "_KH_evolution() takes exactly 5 arguments (6 given)",
     "output_type": "error",
     "traceback": [
      "\u001b[1;31m---------------------------------------------------------------------------\u001b[0m",
      "\u001b[1;31mTypeError\u001b[0m                                 Traceback (most recent call last)",
      "\u001b[1;32m/home/emerick/Research/dwarfs/analysis/analytic_model/dwarf_model.py\u001b[0m in \u001b[0;36m<lambda>\u001b[1;34m(y, t, A, B)\u001b[0m\n\u001b[0;32m    152\u001b[0m     \u001b[0mode_function\u001b[0m \u001b[1;33m=\u001b[0m \u001b[1;32mlambda\u001b[0m \u001b[0my\u001b[0m\u001b[1;33m,\u001b[0m \u001b[0mt\u001b[0m\u001b[1;33m,\u001b[0m \u001b[0mA\u001b[0m\u001b[1;33m,\u001b[0m \u001b[0mB\u001b[0m\u001b[1;33m:\u001b[0m\u001b[0;31m\\\u001b[0m\u001b[1;33m\u001b[0m\u001b[0m\n\u001b[0;32m    153\u001b[0m                  A *  _KH_evolution(y, t, halo_gas_density, galaxy_velocity,\n\u001b[1;32m--> 154\u001b[1;33m                                                  galaxy_gas_density,physics_kwargs['KH'])+\\\n\u001b[0m\u001b[0;32m    155\u001b[0m                  B * _RPS_evolution(y, t, halo_gas_density, galaxy_velocity,\n\u001b[0;32m    156\u001b[0m                                            galaxy_gas_density, galaxy_gas_density(0.0),physics_kwargs['RPS'])\n",
      "\u001b[1;31mTypeError\u001b[0m: _KH_evolution() takes exactly 5 arguments (6 given)"
     ]
    },
    {
     "ename": "TypeError",
     "evalue": "_KH_evolution() takes exactly 5 arguments (6 given)",
     "output_type": "error",
     "traceback": [
      "\u001b[1;31m---------------------------------------------------------------------------\u001b[0m",
      "\u001b[1;31mTypeError\u001b[0m                                 Traceback (most recent call last)",
      "\u001b[1;32m/home/emerick/Research/dwarfs/analysis/analytic_model/dwarf_model.py\u001b[0m in \u001b[0;36m<lambda>\u001b[1;34m(y, t, A, B)\u001b[0m\n\u001b[0;32m    152\u001b[0m     \u001b[0mode_function\u001b[0m \u001b[1;33m=\u001b[0m \u001b[1;32mlambda\u001b[0m \u001b[0my\u001b[0m\u001b[1;33m,\u001b[0m \u001b[0mt\u001b[0m\u001b[1;33m,\u001b[0m \u001b[0mA\u001b[0m\u001b[1;33m,\u001b[0m \u001b[0mB\u001b[0m\u001b[1;33m:\u001b[0m\u001b[0;31m\\\u001b[0m\u001b[1;33m\u001b[0m\u001b[0m\n\u001b[0;32m    153\u001b[0m                  A *  _KH_evolution(y, t, halo_gas_density, galaxy_velocity,\n\u001b[1;32m--> 154\u001b[1;33m                                                  galaxy_gas_density,physics_kwargs['KH'])+\\\n\u001b[0m\u001b[0;32m    155\u001b[0m                  B * _RPS_evolution(y, t, halo_gas_density, galaxy_velocity,\n\u001b[0;32m    156\u001b[0m                                            galaxy_gas_density, galaxy_gas_density(0.0),physics_kwargs['RPS'])\n",
      "\u001b[1;31mTypeError\u001b[0m: _KH_evolution() takes exactly 5 arguments (6 given)"
     ]
    },
    {
     "ename": "TypeError",
     "evalue": "_KH_evolution() takes exactly 5 arguments (6 given)",
     "output_type": "error",
     "traceback": [
      "\u001b[1;31m---------------------------------------------------------------------------\u001b[0m",
      "\u001b[1;31mTypeError\u001b[0m                                 Traceback (most recent call last)",
      "\u001b[1;32m/home/emerick/Research/dwarfs/analysis/analytic_model/dwarf_model.py\u001b[0m in \u001b[0;36m<lambda>\u001b[1;34m(y, t, A, B)\u001b[0m\n\u001b[0;32m    152\u001b[0m     \u001b[0mode_function\u001b[0m \u001b[1;33m=\u001b[0m \u001b[1;32mlambda\u001b[0m \u001b[0my\u001b[0m\u001b[1;33m,\u001b[0m \u001b[0mt\u001b[0m\u001b[1;33m,\u001b[0m \u001b[0mA\u001b[0m\u001b[1;33m,\u001b[0m \u001b[0mB\u001b[0m\u001b[1;33m:\u001b[0m\u001b[0;31m\\\u001b[0m\u001b[1;33m\u001b[0m\u001b[0m\n\u001b[0;32m    153\u001b[0m                  A *  _KH_evolution(y, t, halo_gas_density, galaxy_velocity,\n\u001b[1;32m--> 154\u001b[1;33m                                                  galaxy_gas_density,physics_kwargs['KH'])+\\\n\u001b[0m\u001b[0;32m    155\u001b[0m                  B * _RPS_evolution(y, t, halo_gas_density, galaxy_velocity,\n\u001b[0;32m    156\u001b[0m                                            galaxy_gas_density, galaxy_gas_density(0.0),physics_kwargs['RPS'])\n",
      "\u001b[1;31mTypeError\u001b[0m: _KH_evolution() takes exactly 5 arguments (6 given)"
     ]
    },
    {
     "ename": "TypeError",
     "evalue": "_KH_evolution() takes exactly 5 arguments (6 given)",
     "output_type": "error",
     "traceback": [
      "\u001b[1;31m---------------------------------------------------------------------------\u001b[0m",
      "\u001b[1;31mTypeError\u001b[0m                                 Traceback (most recent call last)",
      "\u001b[1;32m/home/emerick/Research/dwarfs/analysis/analytic_model/dwarf_model.py\u001b[0m in \u001b[0;36m<lambda>\u001b[1;34m(y, t, A, B)\u001b[0m\n\u001b[0;32m    152\u001b[0m     \u001b[0mode_function\u001b[0m \u001b[1;33m=\u001b[0m \u001b[1;32mlambda\u001b[0m \u001b[0my\u001b[0m\u001b[1;33m,\u001b[0m \u001b[0mt\u001b[0m\u001b[1;33m,\u001b[0m \u001b[0mA\u001b[0m\u001b[1;33m,\u001b[0m \u001b[0mB\u001b[0m\u001b[1;33m:\u001b[0m\u001b[0;31m\\\u001b[0m\u001b[1;33m\u001b[0m\u001b[0m\n\u001b[0;32m    153\u001b[0m                  A *  _KH_evolution(y, t, halo_gas_density, galaxy_velocity,\n\u001b[1;32m--> 154\u001b[1;33m                                                  galaxy_gas_density,physics_kwargs['KH'])+\\\n\u001b[0m\u001b[0;32m    155\u001b[0m                  B * _RPS_evolution(y, t, halo_gas_density, galaxy_velocity,\n\u001b[0;32m    156\u001b[0m                                            galaxy_gas_density, galaxy_gas_density(0.0),physics_kwargs['RPS'])\n",
      "\u001b[1;31mTypeError\u001b[0m: _KH_evolution() takes exactly 5 arguments (6 given)"
     ]
    },
    {
     "ename": "TypeError",
     "evalue": "_KH_evolution() takes exactly 5 arguments (6 given)",
     "output_type": "error",
     "traceback": [
      "\u001b[1;31m---------------------------------------------------------------------------\u001b[0m",
      "\u001b[1;31mTypeError\u001b[0m                                 Traceback (most recent call last)",
      "\u001b[1;32m/home/emerick/Research/dwarfs/analysis/analytic_model/dwarf_model.py\u001b[0m in \u001b[0;36m<lambda>\u001b[1;34m(y, t, A, B)\u001b[0m\n\u001b[0;32m    152\u001b[0m     \u001b[0mode_function\u001b[0m \u001b[1;33m=\u001b[0m \u001b[1;32mlambda\u001b[0m \u001b[0my\u001b[0m\u001b[1;33m,\u001b[0m \u001b[0mt\u001b[0m\u001b[1;33m,\u001b[0m \u001b[0mA\u001b[0m\u001b[1;33m,\u001b[0m \u001b[0mB\u001b[0m\u001b[1;33m:\u001b[0m\u001b[0;31m\\\u001b[0m\u001b[1;33m\u001b[0m\u001b[0m\n\u001b[0;32m    153\u001b[0m                  A *  _KH_evolution(y, t, halo_gas_density, galaxy_velocity,\n\u001b[1;32m--> 154\u001b[1;33m                                                  galaxy_gas_density,physics_kwargs['KH'])+\\\n\u001b[0m\u001b[0;32m    155\u001b[0m                  B * _RPS_evolution(y, t, halo_gas_density, galaxy_velocity,\n\u001b[0;32m    156\u001b[0m                                            galaxy_gas_density, galaxy_gas_density(0.0),physics_kwargs['RPS'])\n",
      "\u001b[1;31mTypeError\u001b[0m: _KH_evolution() takes exactly 5 arguments (6 given)"
     ]
    },
    {
     "ename": "TypeError",
     "evalue": "_KH_evolution() takes exactly 5 arguments (6 given)",
     "output_type": "error",
     "traceback": [
      "\u001b[1;31m---------------------------------------------------------------------------\u001b[0m",
      "\u001b[1;31mTypeError\u001b[0m                                 Traceback (most recent call last)",
      "\u001b[1;32m/home/emerick/Research/dwarfs/analysis/analytic_model/dwarf_model.py\u001b[0m in \u001b[0;36m<lambda>\u001b[1;34m(y, t, A, B)\u001b[0m\n\u001b[0;32m    152\u001b[0m     \u001b[0mode_function\u001b[0m \u001b[1;33m=\u001b[0m \u001b[1;32mlambda\u001b[0m \u001b[0my\u001b[0m\u001b[1;33m,\u001b[0m \u001b[0mt\u001b[0m\u001b[1;33m,\u001b[0m \u001b[0mA\u001b[0m\u001b[1;33m,\u001b[0m \u001b[0mB\u001b[0m\u001b[1;33m:\u001b[0m\u001b[0;31m\\\u001b[0m\u001b[1;33m\u001b[0m\u001b[0m\n\u001b[0;32m    153\u001b[0m                  A *  _KH_evolution(y, t, halo_gas_density, galaxy_velocity,\n\u001b[1;32m--> 154\u001b[1;33m                                                  galaxy_gas_density,physics_kwargs['KH'])+\\\n\u001b[0m\u001b[0;32m    155\u001b[0m                  B * _RPS_evolution(y, t, halo_gas_density, galaxy_velocity,\n\u001b[0;32m    156\u001b[0m                                            galaxy_gas_density, galaxy_gas_density(0.0),physics_kwargs['RPS'])\n",
      "\u001b[1;31mTypeError\u001b[0m: _KH_evolution() takes exactly 5 arguments (6 given)"
     ]
    },
    {
     "ename": "TypeError",
     "evalue": "_KH_evolution() takes exactly 5 arguments (6 given)",
     "output_type": "error",
     "traceback": [
      "\u001b[1;31m---------------------------------------------------------------------------\u001b[0m",
      "\u001b[1;31mTypeError\u001b[0m                                 Traceback (most recent call last)",
      "\u001b[1;32m/home/emerick/Research/dwarfs/analysis/analytic_model/dwarf_model.py\u001b[0m in \u001b[0;36m<lambda>\u001b[1;34m(y, t, A, B)\u001b[0m\n\u001b[0;32m    152\u001b[0m     \u001b[0mode_function\u001b[0m \u001b[1;33m=\u001b[0m \u001b[1;32mlambda\u001b[0m \u001b[0my\u001b[0m\u001b[1;33m,\u001b[0m \u001b[0mt\u001b[0m\u001b[1;33m,\u001b[0m \u001b[0mA\u001b[0m\u001b[1;33m,\u001b[0m \u001b[0mB\u001b[0m\u001b[1;33m:\u001b[0m\u001b[0;31m\\\u001b[0m\u001b[1;33m\u001b[0m\u001b[0m\n\u001b[0;32m    153\u001b[0m                  A *  _KH_evolution(y, t, halo_gas_density, galaxy_velocity,\n\u001b[1;32m--> 154\u001b[1;33m                                                  galaxy_gas_density,physics_kwargs['KH'])+\\\n\u001b[0m\u001b[0;32m    155\u001b[0m                  B * _RPS_evolution(y, t, halo_gas_density, galaxy_velocity,\n\u001b[0;32m    156\u001b[0m                                            galaxy_gas_density, galaxy_gas_density(0.0),physics_kwargs['RPS'])\n",
      "\u001b[1;31mTypeError\u001b[0m: _KH_evolution() takes exactly 5 arguments (6 given)"
     ]
    },
    {
     "ename": "TypeError",
     "evalue": "_KH_evolution() takes exactly 5 arguments (6 given)",
     "output_type": "error",
     "traceback": [
      "\u001b[1;31m---------------------------------------------------------------------------\u001b[0m",
      "\u001b[1;31mTypeError\u001b[0m                                 Traceback (most recent call last)",
      "\u001b[1;32m/home/emerick/Research/dwarfs/analysis/analytic_model/dwarf_model.py\u001b[0m in \u001b[0;36m<lambda>\u001b[1;34m(y, t, A, B)\u001b[0m\n\u001b[0;32m    152\u001b[0m     \u001b[0mode_function\u001b[0m \u001b[1;33m=\u001b[0m \u001b[1;32mlambda\u001b[0m \u001b[0my\u001b[0m\u001b[1;33m,\u001b[0m \u001b[0mt\u001b[0m\u001b[1;33m,\u001b[0m \u001b[0mA\u001b[0m\u001b[1;33m,\u001b[0m \u001b[0mB\u001b[0m\u001b[1;33m:\u001b[0m\u001b[0;31m\\\u001b[0m\u001b[1;33m\u001b[0m\u001b[0m\n\u001b[0;32m    153\u001b[0m                  A *  _KH_evolution(y, t, halo_gas_density, galaxy_velocity,\n\u001b[1;32m--> 154\u001b[1;33m                                                  galaxy_gas_density,physics_kwargs['KH'])+\\\n\u001b[0m\u001b[0;32m    155\u001b[0m                  B * _RPS_evolution(y, t, halo_gas_density, galaxy_velocity,\n\u001b[0;32m    156\u001b[0m                                            galaxy_gas_density, galaxy_gas_density(0.0),physics_kwargs['RPS'])\n",
      "\u001b[1;31mTypeError\u001b[0m: _KH_evolution() takes exactly 5 arguments (6 given)"
     ]
    },
    {
     "ename": "TypeError",
     "evalue": "_KH_evolution() takes exactly 5 arguments (6 given)",
     "output_type": "error",
     "traceback": [
      "\u001b[1;31m---------------------------------------------------------------------------\u001b[0m",
      "\u001b[1;31mTypeError\u001b[0m                                 Traceback (most recent call last)",
      "\u001b[1;32m/home/emerick/Research/dwarfs/analysis/analytic_model/dwarf_model.py\u001b[0m in \u001b[0;36m<lambda>\u001b[1;34m(y, t, A, B)\u001b[0m\n\u001b[0;32m    152\u001b[0m     \u001b[0mode_function\u001b[0m \u001b[1;33m=\u001b[0m \u001b[1;32mlambda\u001b[0m \u001b[0my\u001b[0m\u001b[1;33m,\u001b[0m \u001b[0mt\u001b[0m\u001b[1;33m,\u001b[0m \u001b[0mA\u001b[0m\u001b[1;33m,\u001b[0m \u001b[0mB\u001b[0m\u001b[1;33m:\u001b[0m\u001b[0;31m\\\u001b[0m\u001b[1;33m\u001b[0m\u001b[0m\n\u001b[0;32m    153\u001b[0m                  A *  _KH_evolution(y, t, halo_gas_density, galaxy_velocity,\n\u001b[1;32m--> 154\u001b[1;33m                                                  galaxy_gas_density,physics_kwargs['KH'])+\\\n\u001b[0m\u001b[0;32m    155\u001b[0m                  B * _RPS_evolution(y, t, halo_gas_density, galaxy_velocity,\n\u001b[0;32m    156\u001b[0m                                            galaxy_gas_density, galaxy_gas_density(0.0),physics_kwargs['RPS'])\n",
      "\u001b[1;31mTypeError\u001b[0m: _KH_evolution() takes exactly 5 arguments (6 given)"
     ]
    },
    {
     "ename": "TypeError",
     "evalue": "_KH_evolution() takes exactly 5 arguments (6 given)",
     "output_type": "error",
     "traceback": [
      "\u001b[1;31m---------------------------------------------------------------------------\u001b[0m",
      "\u001b[1;31mTypeError\u001b[0m                                 Traceback (most recent call last)",
      "\u001b[1;32m/home/emerick/Research/dwarfs/analysis/analytic_model/dwarf_model.py\u001b[0m in \u001b[0;36m<lambda>\u001b[1;34m(y, t, A, B)\u001b[0m\n\u001b[0;32m    152\u001b[0m     \u001b[0mode_function\u001b[0m \u001b[1;33m=\u001b[0m \u001b[1;32mlambda\u001b[0m \u001b[0my\u001b[0m\u001b[1;33m,\u001b[0m \u001b[0mt\u001b[0m\u001b[1;33m,\u001b[0m \u001b[0mA\u001b[0m\u001b[1;33m,\u001b[0m \u001b[0mB\u001b[0m\u001b[1;33m:\u001b[0m\u001b[0;31m\\\u001b[0m\u001b[1;33m\u001b[0m\u001b[0m\n\u001b[0;32m    153\u001b[0m                  A *  _KH_evolution(y, t, halo_gas_density, galaxy_velocity,\n\u001b[1;32m--> 154\u001b[1;33m                                                  galaxy_gas_density,physics_kwargs['KH'])+\\\n\u001b[0m\u001b[0;32m    155\u001b[0m                  B * _RPS_evolution(y, t, halo_gas_density, galaxy_velocity,\n\u001b[0;32m    156\u001b[0m                                            galaxy_gas_density, galaxy_gas_density(0.0),physics_kwargs['RPS'])\n",
      "\u001b[1;31mTypeError\u001b[0m: _KH_evolution() takes exactly 5 arguments (6 given)"
     ]
    },
    {
     "ename": "TypeError",
     "evalue": "_KH_evolution() takes exactly 5 arguments (6 given)",
     "output_type": "error",
     "traceback": [
      "\u001b[1;31m---------------------------------------------------------------------------\u001b[0m",
      "\u001b[1;31mTypeError\u001b[0m                                 Traceback (most recent call last)",
      "\u001b[1;32m/home/emerick/Research/dwarfs/analysis/analytic_model/dwarf_model.py\u001b[0m in \u001b[0;36m<lambda>\u001b[1;34m(y, t, A, B)\u001b[0m\n\u001b[0;32m    152\u001b[0m     \u001b[0mode_function\u001b[0m \u001b[1;33m=\u001b[0m \u001b[1;32mlambda\u001b[0m \u001b[0my\u001b[0m\u001b[1;33m,\u001b[0m \u001b[0mt\u001b[0m\u001b[1;33m,\u001b[0m \u001b[0mA\u001b[0m\u001b[1;33m,\u001b[0m \u001b[0mB\u001b[0m\u001b[1;33m:\u001b[0m\u001b[0;31m\\\u001b[0m\u001b[1;33m\u001b[0m\u001b[0m\n\u001b[0;32m    153\u001b[0m                  A *  _KH_evolution(y, t, halo_gas_density, galaxy_velocity,\n\u001b[1;32m--> 154\u001b[1;33m                                                  galaxy_gas_density,physics_kwargs['KH'])+\\\n\u001b[0m\u001b[0;32m    155\u001b[0m                  B * _RPS_evolution(y, t, halo_gas_density, galaxy_velocity,\n\u001b[0;32m    156\u001b[0m                                            galaxy_gas_density, galaxy_gas_density(0.0),physics_kwargs['RPS'])\n",
      "\u001b[1;31mTypeError\u001b[0m: _KH_evolution() takes exactly 5 arguments (6 given)"
     ]
    },
    {
     "ename": "TypeError",
     "evalue": "_KH_evolution() takes exactly 5 arguments (6 given)",
     "output_type": "error",
     "traceback": [
      "\u001b[1;31m---------------------------------------------------------------------------\u001b[0m",
      "\u001b[1;31mTypeError\u001b[0m                                 Traceback (most recent call last)",
      "\u001b[1;32m/home/emerick/Research/dwarfs/analysis/analytic_model/dwarf_model.py\u001b[0m in \u001b[0;36m<lambda>\u001b[1;34m(y, t, A, B)\u001b[0m\n\u001b[0;32m    152\u001b[0m     \u001b[0mode_function\u001b[0m \u001b[1;33m=\u001b[0m \u001b[1;32mlambda\u001b[0m \u001b[0my\u001b[0m\u001b[1;33m,\u001b[0m \u001b[0mt\u001b[0m\u001b[1;33m,\u001b[0m \u001b[0mA\u001b[0m\u001b[1;33m,\u001b[0m \u001b[0mB\u001b[0m\u001b[1;33m:\u001b[0m\u001b[0;31m\\\u001b[0m\u001b[1;33m\u001b[0m\u001b[0m\n\u001b[0;32m    153\u001b[0m                  A *  _KH_evolution(y, t, halo_gas_density, galaxy_velocity,\n\u001b[1;32m--> 154\u001b[1;33m                                                  galaxy_gas_density,physics_kwargs['KH'])+\\\n\u001b[0m\u001b[0;32m    155\u001b[0m                  B * _RPS_evolution(y, t, halo_gas_density, galaxy_velocity,\n\u001b[0;32m    156\u001b[0m                                            galaxy_gas_density, galaxy_gas_density(0.0),physics_kwargs['RPS'])\n",
      "\u001b[1;31mTypeError\u001b[0m: _KH_evolution() takes exactly 5 arguments (6 given)"
     ]
    },
    {
     "ename": "TypeError",
     "evalue": "_KH_evolution() takes exactly 5 arguments (6 given)",
     "output_type": "error",
     "traceback": [
      "\u001b[1;31m---------------------------------------------------------------------------\u001b[0m",
      "\u001b[1;31mTypeError\u001b[0m                                 Traceback (most recent call last)",
      "\u001b[1;32m/home/emerick/Research/dwarfs/analysis/analytic_model/dwarf_model.py\u001b[0m in \u001b[0;36m<lambda>\u001b[1;34m(y, t, A, B)\u001b[0m\n\u001b[0;32m    152\u001b[0m     \u001b[0mode_function\u001b[0m \u001b[1;33m=\u001b[0m \u001b[1;32mlambda\u001b[0m \u001b[0my\u001b[0m\u001b[1;33m,\u001b[0m \u001b[0mt\u001b[0m\u001b[1;33m,\u001b[0m \u001b[0mA\u001b[0m\u001b[1;33m,\u001b[0m \u001b[0mB\u001b[0m\u001b[1;33m:\u001b[0m\u001b[0;31m\\\u001b[0m\u001b[1;33m\u001b[0m\u001b[0m\n\u001b[0;32m    153\u001b[0m                  A *  _KH_evolution(y, t, halo_gas_density, galaxy_velocity,\n\u001b[1;32m--> 154\u001b[1;33m                                                  galaxy_gas_density,physics_kwargs['KH'])+\\\n\u001b[0m\u001b[0;32m    155\u001b[0m                  B * _RPS_evolution(y, t, halo_gas_density, galaxy_velocity,\n\u001b[0;32m    156\u001b[0m                                            galaxy_gas_density, galaxy_gas_density(0.0),physics_kwargs['RPS'])\n",
      "\u001b[1;31mTypeError\u001b[0m: _KH_evolution() takes exactly 5 arguments (6 given)"
     ]
    },
    {
     "ename": "TypeError",
     "evalue": "_KH_evolution() takes exactly 5 arguments (6 given)",
     "output_type": "error",
     "traceback": [
      "\u001b[1;31m---------------------------------------------------------------------------\u001b[0m",
      "\u001b[1;31mTypeError\u001b[0m                                 Traceback (most recent call last)",
      "\u001b[1;32m/home/emerick/Research/dwarfs/analysis/analytic_model/dwarf_model.py\u001b[0m in \u001b[0;36m<lambda>\u001b[1;34m(y, t, A, B)\u001b[0m\n\u001b[0;32m    152\u001b[0m     \u001b[0mode_function\u001b[0m \u001b[1;33m=\u001b[0m \u001b[1;32mlambda\u001b[0m \u001b[0my\u001b[0m\u001b[1;33m,\u001b[0m \u001b[0mt\u001b[0m\u001b[1;33m,\u001b[0m \u001b[0mA\u001b[0m\u001b[1;33m,\u001b[0m \u001b[0mB\u001b[0m\u001b[1;33m:\u001b[0m\u001b[0;31m\\\u001b[0m\u001b[1;33m\u001b[0m\u001b[0m\n\u001b[0;32m    153\u001b[0m                  A *  _KH_evolution(y, t, halo_gas_density, galaxy_velocity,\n\u001b[1;32m--> 154\u001b[1;33m                                                  galaxy_gas_density,physics_kwargs['KH'])+\\\n\u001b[0m\u001b[0;32m    155\u001b[0m                  B * _RPS_evolution(y, t, halo_gas_density, galaxy_velocity,\n\u001b[0;32m    156\u001b[0m                                            galaxy_gas_density, galaxy_gas_density(0.0),physics_kwargs['RPS'])\n",
      "\u001b[1;31mTypeError\u001b[0m: _KH_evolution() takes exactly 5 arguments (6 given)"
     ]
    },
    {
     "ename": "TypeError",
     "evalue": "_KH_evolution() takes exactly 5 arguments (6 given)",
     "output_type": "error",
     "traceback": [
      "\u001b[1;31m---------------------------------------------------------------------------\u001b[0m",
      "\u001b[1;31mTypeError\u001b[0m                                 Traceback (most recent call last)",
      "\u001b[1;32m/home/emerick/Research/dwarfs/analysis/analytic_model/dwarf_model.py\u001b[0m in \u001b[0;36m<lambda>\u001b[1;34m(y, t, A, B)\u001b[0m\n\u001b[0;32m    152\u001b[0m     \u001b[0mode_function\u001b[0m \u001b[1;33m=\u001b[0m \u001b[1;32mlambda\u001b[0m \u001b[0my\u001b[0m\u001b[1;33m,\u001b[0m \u001b[0mt\u001b[0m\u001b[1;33m,\u001b[0m \u001b[0mA\u001b[0m\u001b[1;33m,\u001b[0m \u001b[0mB\u001b[0m\u001b[1;33m:\u001b[0m\u001b[0;31m\\\u001b[0m\u001b[1;33m\u001b[0m\u001b[0m\n\u001b[0;32m    153\u001b[0m                  A *  _KH_evolution(y, t, halo_gas_density, galaxy_velocity,\n\u001b[1;32m--> 154\u001b[1;33m                                                  galaxy_gas_density,physics_kwargs['KH'])+\\\n\u001b[0m\u001b[0;32m    155\u001b[0m                  B * _RPS_evolution(y, t, halo_gas_density, galaxy_velocity,\n\u001b[0;32m    156\u001b[0m                                            galaxy_gas_density, galaxy_gas_density(0.0),physics_kwargs['RPS'])\n",
      "\u001b[1;31mTypeError\u001b[0m: _KH_evolution() takes exactly 5 arguments (6 given)"
     ]
    },
    {
     "ename": "TypeError",
     "evalue": "_KH_evolution() takes exactly 5 arguments (6 given)",
     "output_type": "error",
     "traceback": [
      "\u001b[1;31m---------------------------------------------------------------------------\u001b[0m",
      "\u001b[1;31mTypeError\u001b[0m                                 Traceback (most recent call last)",
      "\u001b[1;32m/home/emerick/Research/dwarfs/analysis/analytic_model/dwarf_model.py\u001b[0m in \u001b[0;36m<lambda>\u001b[1;34m(y, t, A, B)\u001b[0m\n\u001b[0;32m    152\u001b[0m     \u001b[0mode_function\u001b[0m \u001b[1;33m=\u001b[0m \u001b[1;32mlambda\u001b[0m \u001b[0my\u001b[0m\u001b[1;33m,\u001b[0m \u001b[0mt\u001b[0m\u001b[1;33m,\u001b[0m \u001b[0mA\u001b[0m\u001b[1;33m,\u001b[0m \u001b[0mB\u001b[0m\u001b[1;33m:\u001b[0m\u001b[0;31m\\\u001b[0m\u001b[1;33m\u001b[0m\u001b[0m\n\u001b[0;32m    153\u001b[0m                  A *  _KH_evolution(y, t, halo_gas_density, galaxy_velocity,\n\u001b[1;32m--> 154\u001b[1;33m                                                  galaxy_gas_density,physics_kwargs['KH'])+\\\n\u001b[0m\u001b[0;32m    155\u001b[0m                  B * _RPS_evolution(y, t, halo_gas_density, galaxy_velocity,\n\u001b[0;32m    156\u001b[0m                                            galaxy_gas_density, galaxy_gas_density(0.0),physics_kwargs['RPS'])\n",
      "\u001b[1;31mTypeError\u001b[0m: _KH_evolution() takes exactly 5 arguments (6 given)"
     ]
    },
    {
     "ename": "TypeError",
     "evalue": "_KH_evolution() takes exactly 5 arguments (6 given)",
     "output_type": "error",
     "traceback": [
      "\u001b[1;31m---------------------------------------------------------------------------\u001b[0m",
      "\u001b[1;31mTypeError\u001b[0m                                 Traceback (most recent call last)",
      "\u001b[1;32m/home/emerick/Research/dwarfs/analysis/analytic_model/dwarf_model.py\u001b[0m in \u001b[0;36m<lambda>\u001b[1;34m(y, t, A, B)\u001b[0m\n\u001b[0;32m    152\u001b[0m     \u001b[0mode_function\u001b[0m \u001b[1;33m=\u001b[0m \u001b[1;32mlambda\u001b[0m \u001b[0my\u001b[0m\u001b[1;33m,\u001b[0m \u001b[0mt\u001b[0m\u001b[1;33m,\u001b[0m \u001b[0mA\u001b[0m\u001b[1;33m,\u001b[0m \u001b[0mB\u001b[0m\u001b[1;33m:\u001b[0m\u001b[0;31m\\\u001b[0m\u001b[1;33m\u001b[0m\u001b[0m\n\u001b[0;32m    153\u001b[0m                  A *  _KH_evolution(y, t, halo_gas_density, galaxy_velocity,\n\u001b[1;32m--> 154\u001b[1;33m                                                  galaxy_gas_density,physics_kwargs['KH'])+\\\n\u001b[0m\u001b[0;32m    155\u001b[0m                  B * _RPS_evolution(y, t, halo_gas_density, galaxy_velocity,\n\u001b[0;32m    156\u001b[0m                                            galaxy_gas_density, galaxy_gas_density(0.0),physics_kwargs['RPS'])\n",
      "\u001b[1;31mTypeError\u001b[0m: _KH_evolution() takes exactly 5 arguments (6 given)"
     ]
    },
    {
     "ename": "TypeError",
     "evalue": "_KH_evolution() takes exactly 5 arguments (6 given)",
     "output_type": "error",
     "traceback": [
      "\u001b[1;31m---------------------------------------------------------------------------\u001b[0m",
      "\u001b[1;31mTypeError\u001b[0m                                 Traceback (most recent call last)",
      "\u001b[1;32m/home/emerick/Research/dwarfs/analysis/analytic_model/dwarf_model.py\u001b[0m in \u001b[0;36m<lambda>\u001b[1;34m(y, t, A, B)\u001b[0m\n\u001b[0;32m    152\u001b[0m     \u001b[0mode_function\u001b[0m \u001b[1;33m=\u001b[0m \u001b[1;32mlambda\u001b[0m \u001b[0my\u001b[0m\u001b[1;33m,\u001b[0m \u001b[0mt\u001b[0m\u001b[1;33m,\u001b[0m \u001b[0mA\u001b[0m\u001b[1;33m,\u001b[0m \u001b[0mB\u001b[0m\u001b[1;33m:\u001b[0m\u001b[0;31m\\\u001b[0m\u001b[1;33m\u001b[0m\u001b[0m\n\u001b[0;32m    153\u001b[0m                  A *  _KH_evolution(y, t, halo_gas_density, galaxy_velocity,\n\u001b[1;32m--> 154\u001b[1;33m                                                  galaxy_gas_density,physics_kwargs['KH'])+\\\n\u001b[0m\u001b[0;32m    155\u001b[0m                  B * _RPS_evolution(y, t, halo_gas_density, galaxy_velocity,\n\u001b[0;32m    156\u001b[0m                                            galaxy_gas_density, galaxy_gas_density(0.0),physics_kwargs['RPS'])\n",
      "\u001b[1;31mTypeError\u001b[0m: _KH_evolution() takes exactly 5 arguments (6 given)"
     ]
    },
    {
     "ename": "TypeError",
     "evalue": "_KH_evolution() takes exactly 5 arguments (6 given)",
     "output_type": "error",
     "traceback": [
      "\u001b[1;31m---------------------------------------------------------------------------\u001b[0m",
      "\u001b[1;31mTypeError\u001b[0m                                 Traceback (most recent call last)",
      "\u001b[1;32m/home/emerick/Research/dwarfs/analysis/analytic_model/dwarf_model.py\u001b[0m in \u001b[0;36m<lambda>\u001b[1;34m(y, t, A, B)\u001b[0m\n\u001b[0;32m    152\u001b[0m     \u001b[0mode_function\u001b[0m \u001b[1;33m=\u001b[0m \u001b[1;32mlambda\u001b[0m \u001b[0my\u001b[0m\u001b[1;33m,\u001b[0m \u001b[0mt\u001b[0m\u001b[1;33m,\u001b[0m \u001b[0mA\u001b[0m\u001b[1;33m,\u001b[0m \u001b[0mB\u001b[0m\u001b[1;33m:\u001b[0m\u001b[0;31m\\\u001b[0m\u001b[1;33m\u001b[0m\u001b[0m\n\u001b[0;32m    153\u001b[0m                  A *  _KH_evolution(y, t, halo_gas_density, galaxy_velocity,\n\u001b[1;32m--> 154\u001b[1;33m                                                  galaxy_gas_density,physics_kwargs['KH'])+\\\n\u001b[0m\u001b[0;32m    155\u001b[0m                  B * _RPS_evolution(y, t, halo_gas_density, galaxy_velocity,\n\u001b[0;32m    156\u001b[0m                                            galaxy_gas_density, galaxy_gas_density(0.0),physics_kwargs['RPS'])\n",
      "\u001b[1;31mTypeError\u001b[0m: _KH_evolution() takes exactly 5 arguments (6 given)"
     ]
    },
    {
     "ename": "TypeError",
     "evalue": "_KH_evolution() takes exactly 5 arguments (6 given)",
     "output_type": "error",
     "traceback": [
      "\u001b[1;31m---------------------------------------------------------------------------\u001b[0m",
      "\u001b[1;31mTypeError\u001b[0m                                 Traceback (most recent call last)",
      "\u001b[1;32m/home/emerick/Research/dwarfs/analysis/analytic_model/dwarf_model.py\u001b[0m in \u001b[0;36m<lambda>\u001b[1;34m(y, t, A, B)\u001b[0m\n\u001b[0;32m    152\u001b[0m     \u001b[0mode_function\u001b[0m \u001b[1;33m=\u001b[0m \u001b[1;32mlambda\u001b[0m \u001b[0my\u001b[0m\u001b[1;33m,\u001b[0m \u001b[0mt\u001b[0m\u001b[1;33m,\u001b[0m \u001b[0mA\u001b[0m\u001b[1;33m,\u001b[0m \u001b[0mB\u001b[0m\u001b[1;33m:\u001b[0m\u001b[0;31m\\\u001b[0m\u001b[1;33m\u001b[0m\u001b[0m\n\u001b[0;32m    153\u001b[0m                  A *  _KH_evolution(y, t, halo_gas_density, galaxy_velocity,\n\u001b[1;32m--> 154\u001b[1;33m                                                  galaxy_gas_density,physics_kwargs['KH'])+\\\n\u001b[0m\u001b[0;32m    155\u001b[0m                  B * _RPS_evolution(y, t, halo_gas_density, galaxy_velocity,\n\u001b[0;32m    156\u001b[0m                                            galaxy_gas_density, galaxy_gas_density(0.0),physics_kwargs['RPS'])\n",
      "\u001b[1;31mTypeError\u001b[0m: _KH_evolution() takes exactly 5 arguments (6 given)"
     ]
    },
    {
     "ename": "TypeError",
     "evalue": "_KH_evolution() takes exactly 5 arguments (6 given)",
     "output_type": "error",
     "traceback": [
      "\u001b[1;31m---------------------------------------------------------------------------\u001b[0m",
      "\u001b[1;31mTypeError\u001b[0m                                 Traceback (most recent call last)",
      "\u001b[1;32m/home/emerick/Research/dwarfs/analysis/analytic_model/dwarf_model.py\u001b[0m in \u001b[0;36m<lambda>\u001b[1;34m(y, t, A, B)\u001b[0m\n\u001b[0;32m    152\u001b[0m     \u001b[0mode_function\u001b[0m \u001b[1;33m=\u001b[0m \u001b[1;32mlambda\u001b[0m \u001b[0my\u001b[0m\u001b[1;33m,\u001b[0m \u001b[0mt\u001b[0m\u001b[1;33m,\u001b[0m \u001b[0mA\u001b[0m\u001b[1;33m,\u001b[0m \u001b[0mB\u001b[0m\u001b[1;33m:\u001b[0m\u001b[0;31m\\\u001b[0m\u001b[1;33m\u001b[0m\u001b[0m\n\u001b[0;32m    153\u001b[0m                  A *  _KH_evolution(y, t, halo_gas_density, galaxy_velocity,\n\u001b[1;32m--> 154\u001b[1;33m                                                  galaxy_gas_density,physics_kwargs['KH'])+\\\n\u001b[0m\u001b[0;32m    155\u001b[0m                  B * _RPS_evolution(y, t, halo_gas_density, galaxy_velocity,\n\u001b[0;32m    156\u001b[0m                                            galaxy_gas_density, galaxy_gas_density(0.0),physics_kwargs['RPS'])\n",
      "\u001b[1;31mTypeError\u001b[0m: _KH_evolution() takes exactly 5 arguments (6 given)"
     ]
    },
    {
     "ename": "TypeError",
     "evalue": "_KH_evolution() takes exactly 5 arguments (6 given)",
     "output_type": "error",
     "traceback": [
      "\u001b[1;31m---------------------------------------------------------------------------\u001b[0m",
      "\u001b[1;31mTypeError\u001b[0m                                 Traceback (most recent call last)",
      "\u001b[1;32m/home/emerick/Research/dwarfs/analysis/analytic_model/dwarf_model.py\u001b[0m in \u001b[0;36m<lambda>\u001b[1;34m(y, t, A, B)\u001b[0m\n\u001b[0;32m    152\u001b[0m     \u001b[0mode_function\u001b[0m \u001b[1;33m=\u001b[0m \u001b[1;32mlambda\u001b[0m \u001b[0my\u001b[0m\u001b[1;33m,\u001b[0m \u001b[0mt\u001b[0m\u001b[1;33m,\u001b[0m \u001b[0mA\u001b[0m\u001b[1;33m,\u001b[0m \u001b[0mB\u001b[0m\u001b[1;33m:\u001b[0m\u001b[0;31m\\\u001b[0m\u001b[1;33m\u001b[0m\u001b[0m\n\u001b[0;32m    153\u001b[0m                  A *  _KH_evolution(y, t, halo_gas_density, galaxy_velocity,\n\u001b[1;32m--> 154\u001b[1;33m                                                  galaxy_gas_density,physics_kwargs['KH'])+\\\n\u001b[0m\u001b[0;32m    155\u001b[0m                  B * _RPS_evolution(y, t, halo_gas_density, galaxy_velocity,\n\u001b[0;32m    156\u001b[0m                                            galaxy_gas_density, galaxy_gas_density(0.0),physics_kwargs['RPS'])\n",
      "\u001b[1;31mTypeError\u001b[0m: _KH_evolution() takes exactly 5 arguments (6 given)"
     ]
    },
    {
     "ename": "TypeError",
     "evalue": "_KH_evolution() takes exactly 5 arguments (6 given)",
     "output_type": "error",
     "traceback": [
      "\u001b[1;31m---------------------------------------------------------------------------\u001b[0m",
      "\u001b[1;31mTypeError\u001b[0m                                 Traceback (most recent call last)",
      "\u001b[1;32m/home/emerick/Research/dwarfs/analysis/analytic_model/dwarf_model.py\u001b[0m in \u001b[0;36m<lambda>\u001b[1;34m(y, t, A, B)\u001b[0m\n\u001b[0;32m    152\u001b[0m     \u001b[0mode_function\u001b[0m \u001b[1;33m=\u001b[0m \u001b[1;32mlambda\u001b[0m \u001b[0my\u001b[0m\u001b[1;33m,\u001b[0m \u001b[0mt\u001b[0m\u001b[1;33m,\u001b[0m \u001b[0mA\u001b[0m\u001b[1;33m,\u001b[0m \u001b[0mB\u001b[0m\u001b[1;33m:\u001b[0m\u001b[0;31m\\\u001b[0m\u001b[1;33m\u001b[0m\u001b[0m\n\u001b[0;32m    153\u001b[0m                  A *  _KH_evolution(y, t, halo_gas_density, galaxy_velocity,\n\u001b[1;32m--> 154\u001b[1;33m                                                  galaxy_gas_density,physics_kwargs['KH'])+\\\n\u001b[0m\u001b[0;32m    155\u001b[0m                  B * _RPS_evolution(y, t, halo_gas_density, galaxy_velocity,\n\u001b[0;32m    156\u001b[0m                                            galaxy_gas_density, galaxy_gas_density(0.0),physics_kwargs['RPS'])\n",
      "\u001b[1;31mTypeError\u001b[0m: _KH_evolution() takes exactly 5 arguments (6 given)"
     ]
    },
    {
     "ename": "TypeError",
     "evalue": "_KH_evolution() takes exactly 5 arguments (6 given)",
     "output_type": "error",
     "traceback": [
      "\u001b[1;31m---------------------------------------------------------------------------\u001b[0m",
      "\u001b[1;31mTypeError\u001b[0m                                 Traceback (most recent call last)",
      "\u001b[1;32m/home/emerick/Research/dwarfs/analysis/analytic_model/dwarf_model.py\u001b[0m in \u001b[0;36m<lambda>\u001b[1;34m(y, t, A, B)\u001b[0m\n\u001b[0;32m    152\u001b[0m     \u001b[0mode_function\u001b[0m \u001b[1;33m=\u001b[0m \u001b[1;32mlambda\u001b[0m \u001b[0my\u001b[0m\u001b[1;33m,\u001b[0m \u001b[0mt\u001b[0m\u001b[1;33m,\u001b[0m \u001b[0mA\u001b[0m\u001b[1;33m,\u001b[0m \u001b[0mB\u001b[0m\u001b[1;33m:\u001b[0m\u001b[0;31m\\\u001b[0m\u001b[1;33m\u001b[0m\u001b[0m\n\u001b[0;32m    153\u001b[0m                  A *  _KH_evolution(y, t, halo_gas_density, galaxy_velocity,\n\u001b[1;32m--> 154\u001b[1;33m                                                  galaxy_gas_density,physics_kwargs['KH'])+\\\n\u001b[0m\u001b[0;32m    155\u001b[0m                  B * _RPS_evolution(y, t, halo_gas_density, galaxy_velocity,\n\u001b[0;32m    156\u001b[0m                                            galaxy_gas_density, galaxy_gas_density(0.0),physics_kwargs['RPS'])\n",
      "\u001b[1;31mTypeError\u001b[0m: _KH_evolution() takes exactly 5 arguments (6 given)"
     ]
    },
    {
     "ename": "TypeError",
     "evalue": "_KH_evolution() takes exactly 5 arguments (6 given)",
     "output_type": "error",
     "traceback": [
      "\u001b[1;31m---------------------------------------------------------------------------\u001b[0m",
      "\u001b[1;31mTypeError\u001b[0m                                 Traceback (most recent call last)",
      "\u001b[1;32m/home/emerick/Research/dwarfs/analysis/analytic_model/dwarf_model.py\u001b[0m in \u001b[0;36m<lambda>\u001b[1;34m(y, t, A, B)\u001b[0m\n\u001b[0;32m    152\u001b[0m     \u001b[0mode_function\u001b[0m \u001b[1;33m=\u001b[0m \u001b[1;32mlambda\u001b[0m \u001b[0my\u001b[0m\u001b[1;33m,\u001b[0m \u001b[0mt\u001b[0m\u001b[1;33m,\u001b[0m \u001b[0mA\u001b[0m\u001b[1;33m,\u001b[0m \u001b[0mB\u001b[0m\u001b[1;33m:\u001b[0m\u001b[0;31m\\\u001b[0m\u001b[1;33m\u001b[0m\u001b[0m\n\u001b[0;32m    153\u001b[0m                  A *  _KH_evolution(y, t, halo_gas_density, galaxy_velocity,\n\u001b[1;32m--> 154\u001b[1;33m                                                  galaxy_gas_density,physics_kwargs['KH'])+\\\n\u001b[0m\u001b[0;32m    155\u001b[0m                  B * _RPS_evolution(y, t, halo_gas_density, galaxy_velocity,\n\u001b[0;32m    156\u001b[0m                                            galaxy_gas_density, galaxy_gas_density(0.0),physics_kwargs['RPS'])\n",
      "\u001b[1;31mTypeError\u001b[0m: _KH_evolution() takes exactly 5 arguments (6 given)"
     ]
    },
    {
     "ename": "TypeError",
     "evalue": "_KH_evolution() takes exactly 5 arguments (6 given)",
     "output_type": "error",
     "traceback": [
      "\u001b[1;31m---------------------------------------------------------------------------\u001b[0m",
      "\u001b[1;31mTypeError\u001b[0m                                 Traceback (most recent call last)",
      "\u001b[1;32m/home/emerick/Research/dwarfs/analysis/analytic_model/dwarf_model.py\u001b[0m in \u001b[0;36m<lambda>\u001b[1;34m(y, t, A, B)\u001b[0m\n\u001b[0;32m    152\u001b[0m     \u001b[0mode_function\u001b[0m \u001b[1;33m=\u001b[0m \u001b[1;32mlambda\u001b[0m \u001b[0my\u001b[0m\u001b[1;33m,\u001b[0m \u001b[0mt\u001b[0m\u001b[1;33m,\u001b[0m \u001b[0mA\u001b[0m\u001b[1;33m,\u001b[0m \u001b[0mB\u001b[0m\u001b[1;33m:\u001b[0m\u001b[0;31m\\\u001b[0m\u001b[1;33m\u001b[0m\u001b[0m\n\u001b[0;32m    153\u001b[0m                  A *  _KH_evolution(y, t, halo_gas_density, galaxy_velocity,\n\u001b[1;32m--> 154\u001b[1;33m                                                  galaxy_gas_density,physics_kwargs['KH'])+\\\n\u001b[0m\u001b[0;32m    155\u001b[0m                  B * _RPS_evolution(y, t, halo_gas_density, galaxy_velocity,\n\u001b[0;32m    156\u001b[0m                                            galaxy_gas_density, galaxy_gas_density(0.0),physics_kwargs['RPS'])\n",
      "\u001b[1;31mTypeError\u001b[0m: _KH_evolution() takes exactly 5 arguments (6 given)"
     ]
    },
    {
     "ename": "TypeError",
     "evalue": "_KH_evolution() takes exactly 5 arguments (6 given)",
     "output_type": "error",
     "traceback": [
      "\u001b[1;31m---------------------------------------------------------------------------\u001b[0m",
      "\u001b[1;31mTypeError\u001b[0m                                 Traceback (most recent call last)",
      "\u001b[1;32m/home/emerick/Research/dwarfs/analysis/analytic_model/dwarf_model.py\u001b[0m in \u001b[0;36m<lambda>\u001b[1;34m(y, t, A, B)\u001b[0m\n\u001b[0;32m    152\u001b[0m     \u001b[0mode_function\u001b[0m \u001b[1;33m=\u001b[0m \u001b[1;32mlambda\u001b[0m \u001b[0my\u001b[0m\u001b[1;33m,\u001b[0m \u001b[0mt\u001b[0m\u001b[1;33m,\u001b[0m \u001b[0mA\u001b[0m\u001b[1;33m,\u001b[0m \u001b[0mB\u001b[0m\u001b[1;33m:\u001b[0m\u001b[0;31m\\\u001b[0m\u001b[1;33m\u001b[0m\u001b[0m\n\u001b[0;32m    153\u001b[0m                  A *  _KH_evolution(y, t, halo_gas_density, galaxy_velocity,\n\u001b[1;32m--> 154\u001b[1;33m                                                  galaxy_gas_density,physics_kwargs['KH'])+\\\n\u001b[0m\u001b[0;32m    155\u001b[0m                  B * _RPS_evolution(y, t, halo_gas_density, galaxy_velocity,\n\u001b[0;32m    156\u001b[0m                                            galaxy_gas_density, galaxy_gas_density(0.0),physics_kwargs['RPS'])\n",
      "\u001b[1;31mTypeError\u001b[0m: _KH_evolution() takes exactly 5 arguments (6 given)"
     ]
    },
    {
     "ename": "TypeError",
     "evalue": "_KH_evolution() takes exactly 5 arguments (6 given)",
     "output_type": "error",
     "traceback": [
      "\u001b[1;31m---------------------------------------------------------------------------\u001b[0m",
      "\u001b[1;31mTypeError\u001b[0m                                 Traceback (most recent call last)",
      "\u001b[1;32m/home/emerick/Research/dwarfs/analysis/analytic_model/dwarf_model.py\u001b[0m in \u001b[0;36m<lambda>\u001b[1;34m(y, t, A, B)\u001b[0m\n\u001b[0;32m    152\u001b[0m     \u001b[0mode_function\u001b[0m \u001b[1;33m=\u001b[0m \u001b[1;32mlambda\u001b[0m \u001b[0my\u001b[0m\u001b[1;33m,\u001b[0m \u001b[0mt\u001b[0m\u001b[1;33m,\u001b[0m \u001b[0mA\u001b[0m\u001b[1;33m,\u001b[0m \u001b[0mB\u001b[0m\u001b[1;33m:\u001b[0m\u001b[0;31m\\\u001b[0m\u001b[1;33m\u001b[0m\u001b[0m\n\u001b[0;32m    153\u001b[0m                  A *  _KH_evolution(y, t, halo_gas_density, galaxy_velocity,\n\u001b[1;32m--> 154\u001b[1;33m                                                  galaxy_gas_density,physics_kwargs['KH'])+\\\n\u001b[0m\u001b[0;32m    155\u001b[0m                  B * _RPS_evolution(y, t, halo_gas_density, galaxy_velocity,\n\u001b[0;32m    156\u001b[0m                                            galaxy_gas_density, galaxy_gas_density(0.0),physics_kwargs['RPS'])\n",
      "\u001b[1;31mTypeError\u001b[0m: _KH_evolution() takes exactly 5 arguments (6 given)"
     ]
    },
    {
     "ename": "TypeError",
     "evalue": "_KH_evolution() takes exactly 5 arguments (6 given)",
     "output_type": "error",
     "traceback": [
      "\u001b[1;31m---------------------------------------------------------------------------\u001b[0m",
      "\u001b[1;31mTypeError\u001b[0m                                 Traceback (most recent call last)",
      "\u001b[1;32m/home/emerick/Research/dwarfs/analysis/analytic_model/dwarf_model.py\u001b[0m in \u001b[0;36m<lambda>\u001b[1;34m(y, t, A, B)\u001b[0m\n\u001b[0;32m    152\u001b[0m     \u001b[0mode_function\u001b[0m \u001b[1;33m=\u001b[0m \u001b[1;32mlambda\u001b[0m \u001b[0my\u001b[0m\u001b[1;33m,\u001b[0m \u001b[0mt\u001b[0m\u001b[1;33m,\u001b[0m \u001b[0mA\u001b[0m\u001b[1;33m,\u001b[0m \u001b[0mB\u001b[0m\u001b[1;33m:\u001b[0m\u001b[0;31m\\\u001b[0m\u001b[1;33m\u001b[0m\u001b[0m\n\u001b[0;32m    153\u001b[0m                  A *  _KH_evolution(y, t, halo_gas_density, galaxy_velocity,\n\u001b[1;32m--> 154\u001b[1;33m                                                  galaxy_gas_density,physics_kwargs['KH'])+\\\n\u001b[0m\u001b[0;32m    155\u001b[0m                  B * _RPS_evolution(y, t, halo_gas_density, galaxy_velocity,\n\u001b[0;32m    156\u001b[0m                                            galaxy_gas_density, galaxy_gas_density(0.0),physics_kwargs['RPS'])\n",
      "\u001b[1;31mTypeError\u001b[0m: _KH_evolution() takes exactly 5 arguments (6 given)"
     ]
    },
    {
     "ename": "TypeError",
     "evalue": "_KH_evolution() takes exactly 5 arguments (6 given)",
     "output_type": "error",
     "traceback": [
      "\u001b[1;31m---------------------------------------------------------------------------\u001b[0m",
      "\u001b[1;31mTypeError\u001b[0m                                 Traceback (most recent call last)",
      "\u001b[1;32m/home/emerick/Research/dwarfs/analysis/analytic_model/dwarf_model.py\u001b[0m in \u001b[0;36m<lambda>\u001b[1;34m(y, t, A, B)\u001b[0m\n\u001b[0;32m    152\u001b[0m     \u001b[0mode_function\u001b[0m \u001b[1;33m=\u001b[0m \u001b[1;32mlambda\u001b[0m \u001b[0my\u001b[0m\u001b[1;33m,\u001b[0m \u001b[0mt\u001b[0m\u001b[1;33m,\u001b[0m \u001b[0mA\u001b[0m\u001b[1;33m,\u001b[0m \u001b[0mB\u001b[0m\u001b[1;33m:\u001b[0m\u001b[0;31m\\\u001b[0m\u001b[1;33m\u001b[0m\u001b[0m\n\u001b[0;32m    153\u001b[0m                  A *  _KH_evolution(y, t, halo_gas_density, galaxy_velocity,\n\u001b[1;32m--> 154\u001b[1;33m                                                  galaxy_gas_density,physics_kwargs['KH'])+\\\n\u001b[0m\u001b[0;32m    155\u001b[0m                  B * _RPS_evolution(y, t, halo_gas_density, galaxy_velocity,\n\u001b[0;32m    156\u001b[0m                                            galaxy_gas_density, galaxy_gas_density(0.0),physics_kwargs['RPS'])\n",
      "\u001b[1;31mTypeError\u001b[0m: _KH_evolution() takes exactly 5 arguments (6 given)"
     ]
    },
    {
     "ename": "TypeError",
     "evalue": "_KH_evolution() takes exactly 5 arguments (6 given)",
     "output_type": "error",
     "traceback": [
      "\u001b[1;31m---------------------------------------------------------------------------\u001b[0m",
      "\u001b[1;31mTypeError\u001b[0m                                 Traceback (most recent call last)",
      "\u001b[1;32m/home/emerick/Research/dwarfs/analysis/analytic_model/dwarf_model.py\u001b[0m in \u001b[0;36m<lambda>\u001b[1;34m(y, t, A, B)\u001b[0m\n\u001b[0;32m    152\u001b[0m     \u001b[0mode_function\u001b[0m \u001b[1;33m=\u001b[0m \u001b[1;32mlambda\u001b[0m \u001b[0my\u001b[0m\u001b[1;33m,\u001b[0m \u001b[0mt\u001b[0m\u001b[1;33m,\u001b[0m \u001b[0mA\u001b[0m\u001b[1;33m,\u001b[0m \u001b[0mB\u001b[0m\u001b[1;33m:\u001b[0m\u001b[0;31m\\\u001b[0m\u001b[1;33m\u001b[0m\u001b[0m\n\u001b[0;32m    153\u001b[0m                  A *  _KH_evolution(y, t, halo_gas_density, galaxy_velocity,\n\u001b[1;32m--> 154\u001b[1;33m                                                  galaxy_gas_density,physics_kwargs['KH'])+\\\n\u001b[0m\u001b[0;32m    155\u001b[0m                  B * _RPS_evolution(y, t, halo_gas_density, galaxy_velocity,\n\u001b[0;32m    156\u001b[0m                                            galaxy_gas_density, galaxy_gas_density(0.0),physics_kwargs['RPS'])\n",
      "\u001b[1;31mTypeError\u001b[0m: _KH_evolution() takes exactly 5 arguments (6 given)"
     ]
    },
    {
     "ename": "TypeError",
     "evalue": "_KH_evolution() takes exactly 5 arguments (6 given)",
     "output_type": "error",
     "traceback": [
      "\u001b[1;31m---------------------------------------------------------------------------\u001b[0m",
      "\u001b[1;31mTypeError\u001b[0m                                 Traceback (most recent call last)",
      "\u001b[1;32m/home/emerick/Research/dwarfs/analysis/analytic_model/dwarf_model.py\u001b[0m in \u001b[0;36m<lambda>\u001b[1;34m(y, t, A, B)\u001b[0m\n\u001b[0;32m    152\u001b[0m     \u001b[0mode_function\u001b[0m \u001b[1;33m=\u001b[0m \u001b[1;32mlambda\u001b[0m \u001b[0my\u001b[0m\u001b[1;33m,\u001b[0m \u001b[0mt\u001b[0m\u001b[1;33m,\u001b[0m \u001b[0mA\u001b[0m\u001b[1;33m,\u001b[0m \u001b[0mB\u001b[0m\u001b[1;33m:\u001b[0m\u001b[0;31m\\\u001b[0m\u001b[1;33m\u001b[0m\u001b[0m\n\u001b[0;32m    153\u001b[0m                  A *  _KH_evolution(y, t, halo_gas_density, galaxy_velocity,\n\u001b[1;32m--> 154\u001b[1;33m                                                  galaxy_gas_density,physics_kwargs['KH'])+\\\n\u001b[0m\u001b[0;32m    155\u001b[0m                  B * _RPS_evolution(y, t, halo_gas_density, galaxy_velocity,\n\u001b[0;32m    156\u001b[0m                                            galaxy_gas_density, galaxy_gas_density(0.0),physics_kwargs['RPS'])\n",
      "\u001b[1;31mTypeError\u001b[0m: _KH_evolution() takes exactly 5 arguments (6 given)"
     ]
    },
    {
     "ename": "TypeError",
     "evalue": "_KH_evolution() takes exactly 5 arguments (6 given)",
     "output_type": "error",
     "traceback": [
      "\u001b[1;31m---------------------------------------------------------------------------\u001b[0m",
      "\u001b[1;31mTypeError\u001b[0m                                 Traceback (most recent call last)",
      "\u001b[1;32m/home/emerick/Research/dwarfs/analysis/analytic_model/dwarf_model.py\u001b[0m in \u001b[0;36m<lambda>\u001b[1;34m(y, t, A, B)\u001b[0m\n\u001b[0;32m    152\u001b[0m     \u001b[0mode_function\u001b[0m \u001b[1;33m=\u001b[0m \u001b[1;32mlambda\u001b[0m \u001b[0my\u001b[0m\u001b[1;33m,\u001b[0m \u001b[0mt\u001b[0m\u001b[1;33m,\u001b[0m \u001b[0mA\u001b[0m\u001b[1;33m,\u001b[0m \u001b[0mB\u001b[0m\u001b[1;33m:\u001b[0m\u001b[0;31m\\\u001b[0m\u001b[1;33m\u001b[0m\u001b[0m\n\u001b[0;32m    153\u001b[0m                  A *  _KH_evolution(y, t, halo_gas_density, galaxy_velocity,\n\u001b[1;32m--> 154\u001b[1;33m                                                  galaxy_gas_density,physics_kwargs['KH'])+\\\n\u001b[0m\u001b[0;32m    155\u001b[0m                  B * _RPS_evolution(y, t, halo_gas_density, galaxy_velocity,\n\u001b[0;32m    156\u001b[0m                                            galaxy_gas_density, galaxy_gas_density(0.0),physics_kwargs['RPS'])\n",
      "\u001b[1;31mTypeError\u001b[0m: _KH_evolution() takes exactly 5 arguments (6 given)"
     ]
    },
    {
     "ename": "TypeError",
     "evalue": "_KH_evolution() takes exactly 5 arguments (6 given)",
     "output_type": "error",
     "traceback": [
      "\u001b[1;31m---------------------------------------------------------------------------\u001b[0m",
      "\u001b[1;31mTypeError\u001b[0m                                 Traceback (most recent call last)",
      "\u001b[1;32m/home/emerick/Research/dwarfs/analysis/analytic_model/dwarf_model.py\u001b[0m in \u001b[0;36m<lambda>\u001b[1;34m(y, t, A, B)\u001b[0m\n\u001b[0;32m    152\u001b[0m     \u001b[0mode_function\u001b[0m \u001b[1;33m=\u001b[0m \u001b[1;32mlambda\u001b[0m \u001b[0my\u001b[0m\u001b[1;33m,\u001b[0m \u001b[0mt\u001b[0m\u001b[1;33m,\u001b[0m \u001b[0mA\u001b[0m\u001b[1;33m,\u001b[0m \u001b[0mB\u001b[0m\u001b[1;33m:\u001b[0m\u001b[0;31m\\\u001b[0m\u001b[1;33m\u001b[0m\u001b[0m\n\u001b[0;32m    153\u001b[0m                  A *  _KH_evolution(y, t, halo_gas_density, galaxy_velocity,\n\u001b[1;32m--> 154\u001b[1;33m                                                  galaxy_gas_density,physics_kwargs['KH'])+\\\n\u001b[0m\u001b[0;32m    155\u001b[0m                  B * _RPS_evolution(y, t, halo_gas_density, galaxy_velocity,\n\u001b[0;32m    156\u001b[0m                                            galaxy_gas_density, galaxy_gas_density(0.0),physics_kwargs['RPS'])\n",
      "\u001b[1;31mTypeError\u001b[0m: _KH_evolution() takes exactly 5 arguments (6 given)"
     ]
    },
    {
     "ename": "TypeError",
     "evalue": "_KH_evolution() takes exactly 5 arguments (6 given)",
     "output_type": "error",
     "traceback": [
      "\u001b[1;31m---------------------------------------------------------------------------\u001b[0m",
      "\u001b[1;31mTypeError\u001b[0m                                 Traceback (most recent call last)",
      "\u001b[1;32m/home/emerick/Research/dwarfs/analysis/analytic_model/dwarf_model.py\u001b[0m in \u001b[0;36m<lambda>\u001b[1;34m(y, t, A, B)\u001b[0m\n\u001b[0;32m    152\u001b[0m     \u001b[0mode_function\u001b[0m \u001b[1;33m=\u001b[0m \u001b[1;32mlambda\u001b[0m \u001b[0my\u001b[0m\u001b[1;33m,\u001b[0m \u001b[0mt\u001b[0m\u001b[1;33m,\u001b[0m \u001b[0mA\u001b[0m\u001b[1;33m,\u001b[0m \u001b[0mB\u001b[0m\u001b[1;33m:\u001b[0m\u001b[0;31m\\\u001b[0m\u001b[1;33m\u001b[0m\u001b[0m\n\u001b[0;32m    153\u001b[0m                  A *  _KH_evolution(y, t, halo_gas_density, galaxy_velocity,\n\u001b[1;32m--> 154\u001b[1;33m                                                  galaxy_gas_density,physics_kwargs['KH'])+\\\n\u001b[0m\u001b[0;32m    155\u001b[0m                  B * _RPS_evolution(y, t, halo_gas_density, galaxy_velocity,\n\u001b[0;32m    156\u001b[0m                                            galaxy_gas_density, galaxy_gas_density(0.0),physics_kwargs['RPS'])\n",
      "\u001b[1;31mTypeError\u001b[0m: _KH_evolution() takes exactly 5 arguments (6 given)"
     ]
    },
    {
     "ename": "TypeError",
     "evalue": "_KH_evolution() takes exactly 5 arguments (6 given)",
     "output_type": "error",
     "traceback": [
      "\u001b[1;31m---------------------------------------------------------------------------\u001b[0m",
      "\u001b[1;31mTypeError\u001b[0m                                 Traceback (most recent call last)",
      "\u001b[1;32m/home/emerick/Research/dwarfs/analysis/analytic_model/dwarf_model.py\u001b[0m in \u001b[0;36m<lambda>\u001b[1;34m(y, t, A, B)\u001b[0m\n\u001b[0;32m    152\u001b[0m     \u001b[0mode_function\u001b[0m \u001b[1;33m=\u001b[0m \u001b[1;32mlambda\u001b[0m \u001b[0my\u001b[0m\u001b[1;33m,\u001b[0m \u001b[0mt\u001b[0m\u001b[1;33m,\u001b[0m \u001b[0mA\u001b[0m\u001b[1;33m,\u001b[0m \u001b[0mB\u001b[0m\u001b[1;33m:\u001b[0m\u001b[0;31m\\\u001b[0m\u001b[1;33m\u001b[0m\u001b[0m\n\u001b[0;32m    153\u001b[0m                  A *  _KH_evolution(y, t, halo_gas_density, galaxy_velocity,\n\u001b[1;32m--> 154\u001b[1;33m                                                  galaxy_gas_density,physics_kwargs['KH'])+\\\n\u001b[0m\u001b[0;32m    155\u001b[0m                  B * _RPS_evolution(y, t, halo_gas_density, galaxy_velocity,\n\u001b[0;32m    156\u001b[0m                                            galaxy_gas_density, galaxy_gas_density(0.0),physics_kwargs['RPS'])\n",
      "\u001b[1;31mTypeError\u001b[0m: _KH_evolution() takes exactly 5 arguments (6 given)"
     ]
    },
    {
     "ename": "TypeError",
     "evalue": "_KH_evolution() takes exactly 5 arguments (6 given)",
     "output_type": "error",
     "traceback": [
      "\u001b[1;31m---------------------------------------------------------------------------\u001b[0m",
      "\u001b[1;31mTypeError\u001b[0m                                 Traceback (most recent call last)",
      "\u001b[1;32m/home/emerick/Research/dwarfs/analysis/analytic_model/dwarf_model.py\u001b[0m in \u001b[0;36m<lambda>\u001b[1;34m(y, t, A, B)\u001b[0m\n\u001b[0;32m    152\u001b[0m     \u001b[0mode_function\u001b[0m \u001b[1;33m=\u001b[0m \u001b[1;32mlambda\u001b[0m \u001b[0my\u001b[0m\u001b[1;33m,\u001b[0m \u001b[0mt\u001b[0m\u001b[1;33m,\u001b[0m \u001b[0mA\u001b[0m\u001b[1;33m,\u001b[0m \u001b[0mB\u001b[0m\u001b[1;33m:\u001b[0m\u001b[0;31m\\\u001b[0m\u001b[1;33m\u001b[0m\u001b[0m\n\u001b[0;32m    153\u001b[0m                  A *  _KH_evolution(y, t, halo_gas_density, galaxy_velocity,\n\u001b[1;32m--> 154\u001b[1;33m                                                  galaxy_gas_density,physics_kwargs['KH'])+\\\n\u001b[0m\u001b[0;32m    155\u001b[0m                  B * _RPS_evolution(y, t, halo_gas_density, galaxy_velocity,\n\u001b[0;32m    156\u001b[0m                                            galaxy_gas_density, galaxy_gas_density(0.0),physics_kwargs['RPS'])\n",
      "\u001b[1;31mTypeError\u001b[0m: _KH_evolution() takes exactly 5 arguments (6 given)"
     ]
    },
    {
     "ename": "TypeError",
     "evalue": "_KH_evolution() takes exactly 5 arguments (6 given)",
     "output_type": "error",
     "traceback": [
      "\u001b[1;31m---------------------------------------------------------------------------\u001b[0m",
      "\u001b[1;31mTypeError\u001b[0m                                 Traceback (most recent call last)",
      "\u001b[1;32m/home/emerick/Research/dwarfs/analysis/analytic_model/dwarf_model.py\u001b[0m in \u001b[0;36m<lambda>\u001b[1;34m(y, t, A, B)\u001b[0m\n\u001b[0;32m    152\u001b[0m     \u001b[0mode_function\u001b[0m \u001b[1;33m=\u001b[0m \u001b[1;32mlambda\u001b[0m \u001b[0my\u001b[0m\u001b[1;33m,\u001b[0m \u001b[0mt\u001b[0m\u001b[1;33m,\u001b[0m \u001b[0mA\u001b[0m\u001b[1;33m,\u001b[0m \u001b[0mB\u001b[0m\u001b[1;33m:\u001b[0m\u001b[0;31m\\\u001b[0m\u001b[1;33m\u001b[0m\u001b[0m\n\u001b[0;32m    153\u001b[0m                  A *  _KH_evolution(y, t, halo_gas_density, galaxy_velocity,\n\u001b[1;32m--> 154\u001b[1;33m                                                  galaxy_gas_density,physics_kwargs['KH'])+\\\n\u001b[0m\u001b[0;32m    155\u001b[0m                  B * _RPS_evolution(y, t, halo_gas_density, galaxy_velocity,\n\u001b[0;32m    156\u001b[0m                                            galaxy_gas_density, galaxy_gas_density(0.0),physics_kwargs['RPS'])\n",
      "\u001b[1;31mTypeError\u001b[0m: _KH_evolution() takes exactly 5 arguments (6 given)"
     ]
    },
    {
     "ename": "TypeError",
     "evalue": "_KH_evolution() takes exactly 5 arguments (6 given)",
     "output_type": "error",
     "traceback": [
      "\u001b[1;31m---------------------------------------------------------------------------\u001b[0m",
      "\u001b[1;31mTypeError\u001b[0m                                 Traceback (most recent call last)",
      "\u001b[1;32m/home/emerick/Research/dwarfs/analysis/analytic_model/dwarf_model.py\u001b[0m in \u001b[0;36m<lambda>\u001b[1;34m(y, t, A, B)\u001b[0m\n\u001b[0;32m    152\u001b[0m     \u001b[0mode_function\u001b[0m \u001b[1;33m=\u001b[0m \u001b[1;32mlambda\u001b[0m \u001b[0my\u001b[0m\u001b[1;33m,\u001b[0m \u001b[0mt\u001b[0m\u001b[1;33m,\u001b[0m \u001b[0mA\u001b[0m\u001b[1;33m,\u001b[0m \u001b[0mB\u001b[0m\u001b[1;33m:\u001b[0m\u001b[0;31m\\\u001b[0m\u001b[1;33m\u001b[0m\u001b[0m\n\u001b[0;32m    153\u001b[0m                  A *  _KH_evolution(y, t, halo_gas_density, galaxy_velocity,\n\u001b[1;32m--> 154\u001b[1;33m                                                  galaxy_gas_density,physics_kwargs['KH'])+\\\n\u001b[0m\u001b[0;32m    155\u001b[0m                  B * _RPS_evolution(y, t, halo_gas_density, galaxy_velocity,\n\u001b[0;32m    156\u001b[0m                                            galaxy_gas_density, galaxy_gas_density(0.0),physics_kwargs['RPS'])\n",
      "\u001b[1;31mTypeError\u001b[0m: _KH_evolution() takes exactly 5 arguments (6 given)"
     ]
    },
    {
     "ename": "TypeError",
     "evalue": "_KH_evolution() takes exactly 5 arguments (6 given)",
     "output_type": "error",
     "traceback": [
      "\u001b[1;31m---------------------------------------------------------------------------\u001b[0m",
      "\u001b[1;31mTypeError\u001b[0m                                 Traceback (most recent call last)",
      "\u001b[1;32m/home/emerick/Research/dwarfs/analysis/analytic_model/dwarf_model.py\u001b[0m in \u001b[0;36m<lambda>\u001b[1;34m(y, t, A, B)\u001b[0m\n\u001b[0;32m    152\u001b[0m     \u001b[0mode_function\u001b[0m \u001b[1;33m=\u001b[0m \u001b[1;32mlambda\u001b[0m \u001b[0my\u001b[0m\u001b[1;33m,\u001b[0m \u001b[0mt\u001b[0m\u001b[1;33m,\u001b[0m \u001b[0mA\u001b[0m\u001b[1;33m,\u001b[0m \u001b[0mB\u001b[0m\u001b[1;33m:\u001b[0m\u001b[0;31m\\\u001b[0m\u001b[1;33m\u001b[0m\u001b[0m\n\u001b[0;32m    153\u001b[0m                  A *  _KH_evolution(y, t, halo_gas_density, galaxy_velocity,\n\u001b[1;32m--> 154\u001b[1;33m                                                  galaxy_gas_density,physics_kwargs['KH'])+\\\n\u001b[0m\u001b[0;32m    155\u001b[0m                  B * _RPS_evolution(y, t, halo_gas_density, galaxy_velocity,\n\u001b[0;32m    156\u001b[0m                                            galaxy_gas_density, galaxy_gas_density(0.0),physics_kwargs['RPS'])\n",
      "\u001b[1;31mTypeError\u001b[0m: _KH_evolution() takes exactly 5 arguments (6 given)"
     ]
    },
    {
     "ename": "TypeError",
     "evalue": "_KH_evolution() takes exactly 5 arguments (6 given)",
     "output_type": "error",
     "traceback": [
      "\u001b[1;31m---------------------------------------------------------------------------\u001b[0m",
      "\u001b[1;31mTypeError\u001b[0m                                 Traceback (most recent call last)",
      "\u001b[1;32m/home/emerick/Research/dwarfs/analysis/analytic_model/dwarf_model.py\u001b[0m in \u001b[0;36m<lambda>\u001b[1;34m(y, t, A, B)\u001b[0m\n\u001b[0;32m    152\u001b[0m     \u001b[0mode_function\u001b[0m \u001b[1;33m=\u001b[0m \u001b[1;32mlambda\u001b[0m \u001b[0my\u001b[0m\u001b[1;33m,\u001b[0m \u001b[0mt\u001b[0m\u001b[1;33m,\u001b[0m \u001b[0mA\u001b[0m\u001b[1;33m,\u001b[0m \u001b[0mB\u001b[0m\u001b[1;33m:\u001b[0m\u001b[0;31m\\\u001b[0m\u001b[1;33m\u001b[0m\u001b[0m\n\u001b[0;32m    153\u001b[0m                  A *  _KH_evolution(y, t, halo_gas_density, galaxy_velocity,\n\u001b[1;32m--> 154\u001b[1;33m                                                  galaxy_gas_density,physics_kwargs['KH'])+\\\n\u001b[0m\u001b[0;32m    155\u001b[0m                  B * _RPS_evolution(y, t, halo_gas_density, galaxy_velocity,\n\u001b[0;32m    156\u001b[0m                                            galaxy_gas_density, galaxy_gas_density(0.0),physics_kwargs['RPS'])\n",
      "\u001b[1;31mTypeError\u001b[0m: _KH_evolution() takes exactly 5 arguments (6 given)"
     ]
    },
    {
     "ename": "TypeError",
     "evalue": "_KH_evolution() takes exactly 5 arguments (6 given)",
     "output_type": "error",
     "traceback": [
      "\u001b[1;31m---------------------------------------------------------------------------\u001b[0m",
      "\u001b[1;31mTypeError\u001b[0m                                 Traceback (most recent call last)",
      "\u001b[1;32m/home/emerick/Research/dwarfs/analysis/analytic_model/dwarf_model.py\u001b[0m in \u001b[0;36m<lambda>\u001b[1;34m(y, t, A, B)\u001b[0m\n\u001b[0;32m    152\u001b[0m     \u001b[0mode_function\u001b[0m \u001b[1;33m=\u001b[0m \u001b[1;32mlambda\u001b[0m \u001b[0my\u001b[0m\u001b[1;33m,\u001b[0m \u001b[0mt\u001b[0m\u001b[1;33m,\u001b[0m \u001b[0mA\u001b[0m\u001b[1;33m,\u001b[0m \u001b[0mB\u001b[0m\u001b[1;33m:\u001b[0m\u001b[0;31m\\\u001b[0m\u001b[1;33m\u001b[0m\u001b[0m\n\u001b[0;32m    153\u001b[0m                  A *  _KH_evolution(y, t, halo_gas_density, galaxy_velocity,\n\u001b[1;32m--> 154\u001b[1;33m                                                  galaxy_gas_density,physics_kwargs['KH'])+\\\n\u001b[0m\u001b[0;32m    155\u001b[0m                  B * _RPS_evolution(y, t, halo_gas_density, galaxy_velocity,\n\u001b[0;32m    156\u001b[0m                                            galaxy_gas_density, galaxy_gas_density(0.0),physics_kwargs['RPS'])\n",
      "\u001b[1;31mTypeError\u001b[0m: _KH_evolution() takes exactly 5 arguments (6 given)"
     ]
    },
    {
     "ename": "TypeError",
     "evalue": "_KH_evolution() takes exactly 5 arguments (6 given)",
     "output_type": "error",
     "traceback": [
      "\u001b[1;31m---------------------------------------------------------------------------\u001b[0m",
      "\u001b[1;31mTypeError\u001b[0m                                 Traceback (most recent call last)",
      "\u001b[1;32m/home/emerick/Research/dwarfs/analysis/analytic_model/dwarf_model.py\u001b[0m in \u001b[0;36m<lambda>\u001b[1;34m(y, t, A, B)\u001b[0m\n\u001b[0;32m    152\u001b[0m     \u001b[0mode_function\u001b[0m \u001b[1;33m=\u001b[0m \u001b[1;32mlambda\u001b[0m \u001b[0my\u001b[0m\u001b[1;33m,\u001b[0m \u001b[0mt\u001b[0m\u001b[1;33m,\u001b[0m \u001b[0mA\u001b[0m\u001b[1;33m,\u001b[0m \u001b[0mB\u001b[0m\u001b[1;33m:\u001b[0m\u001b[0;31m\\\u001b[0m\u001b[1;33m\u001b[0m\u001b[0m\n\u001b[0;32m    153\u001b[0m                  A *  _KH_evolution(y, t, halo_gas_density, galaxy_velocity,\n\u001b[1;32m--> 154\u001b[1;33m                                                  galaxy_gas_density,physics_kwargs['KH'])+\\\n\u001b[0m\u001b[0;32m    155\u001b[0m                  B * _RPS_evolution(y, t, halo_gas_density, galaxy_velocity,\n\u001b[0;32m    156\u001b[0m                                            galaxy_gas_density, galaxy_gas_density(0.0),physics_kwargs['RPS'])\n",
      "\u001b[1;31mTypeError\u001b[0m: _KH_evolution() takes exactly 5 arguments (6 given)"
     ]
    },
    {
     "ename": "TypeError",
     "evalue": "_KH_evolution() takes exactly 5 arguments (6 given)",
     "output_type": "error",
     "traceback": [
      "\u001b[1;31m---------------------------------------------------------------------------\u001b[0m",
      "\u001b[1;31mTypeError\u001b[0m                                 Traceback (most recent call last)",
      "\u001b[1;32m/home/emerick/Research/dwarfs/analysis/analytic_model/dwarf_model.py\u001b[0m in \u001b[0;36m<lambda>\u001b[1;34m(y, t, A, B)\u001b[0m\n\u001b[0;32m    152\u001b[0m     \u001b[0mode_function\u001b[0m \u001b[1;33m=\u001b[0m \u001b[1;32mlambda\u001b[0m \u001b[0my\u001b[0m\u001b[1;33m,\u001b[0m \u001b[0mt\u001b[0m\u001b[1;33m,\u001b[0m \u001b[0mA\u001b[0m\u001b[1;33m,\u001b[0m \u001b[0mB\u001b[0m\u001b[1;33m:\u001b[0m\u001b[0;31m\\\u001b[0m\u001b[1;33m\u001b[0m\u001b[0m\n\u001b[0;32m    153\u001b[0m                  A *  _KH_evolution(y, t, halo_gas_density, galaxy_velocity,\n\u001b[1;32m--> 154\u001b[1;33m                                                  galaxy_gas_density,physics_kwargs['KH'])+\\\n\u001b[0m\u001b[0;32m    155\u001b[0m                  B * _RPS_evolution(y, t, halo_gas_density, galaxy_velocity,\n\u001b[0;32m    156\u001b[0m                                            galaxy_gas_density, galaxy_gas_density(0.0),physics_kwargs['RPS'])\n",
      "\u001b[1;31mTypeError\u001b[0m: _KH_evolution() takes exactly 5 arguments (6 given)"
     ]
    },
    {
     "ename": "TypeError",
     "evalue": "_KH_evolution() takes exactly 5 arguments (6 given)",
     "output_type": "error",
     "traceback": [
      "\u001b[1;31m---------------------------------------------------------------------------\u001b[0m",
      "\u001b[1;31mTypeError\u001b[0m                                 Traceback (most recent call last)",
      "\u001b[1;32m/home/emerick/Research/dwarfs/analysis/analytic_model/dwarf_model.py\u001b[0m in \u001b[0;36m<lambda>\u001b[1;34m(y, t, A, B)\u001b[0m\n\u001b[0;32m    152\u001b[0m     \u001b[0mode_function\u001b[0m \u001b[1;33m=\u001b[0m \u001b[1;32mlambda\u001b[0m \u001b[0my\u001b[0m\u001b[1;33m,\u001b[0m \u001b[0mt\u001b[0m\u001b[1;33m,\u001b[0m \u001b[0mA\u001b[0m\u001b[1;33m,\u001b[0m \u001b[0mB\u001b[0m\u001b[1;33m:\u001b[0m\u001b[0;31m\\\u001b[0m\u001b[1;33m\u001b[0m\u001b[0m\n\u001b[0;32m    153\u001b[0m                  A *  _KH_evolution(y, t, halo_gas_density, galaxy_velocity,\n\u001b[1;32m--> 154\u001b[1;33m                                                  galaxy_gas_density,physics_kwargs['KH'])+\\\n\u001b[0m\u001b[0;32m    155\u001b[0m                  B * _RPS_evolution(y, t, halo_gas_density, galaxy_velocity,\n\u001b[0;32m    156\u001b[0m                                            galaxy_gas_density, galaxy_gas_density(0.0),physics_kwargs['RPS'])\n",
      "\u001b[1;31mTypeError\u001b[0m: _KH_evolution() takes exactly 5 arguments (6 given)"
     ]
    },
    {
     "ename": "TypeError",
     "evalue": "_KH_evolution() takes exactly 5 arguments (6 given)",
     "output_type": "error",
     "traceback": [
      "\u001b[1;31m---------------------------------------------------------------------------\u001b[0m",
      "\u001b[1;31mTypeError\u001b[0m                                 Traceback (most recent call last)",
      "\u001b[1;32m/home/emerick/Research/dwarfs/analysis/analytic_model/dwarf_model.py\u001b[0m in \u001b[0;36m<lambda>\u001b[1;34m(y, t, A, B)\u001b[0m\n\u001b[0;32m    152\u001b[0m     \u001b[0mode_function\u001b[0m \u001b[1;33m=\u001b[0m \u001b[1;32mlambda\u001b[0m \u001b[0my\u001b[0m\u001b[1;33m,\u001b[0m \u001b[0mt\u001b[0m\u001b[1;33m,\u001b[0m \u001b[0mA\u001b[0m\u001b[1;33m,\u001b[0m \u001b[0mB\u001b[0m\u001b[1;33m:\u001b[0m\u001b[0;31m\\\u001b[0m\u001b[1;33m\u001b[0m\u001b[0m\n\u001b[0;32m    153\u001b[0m                  A *  _KH_evolution(y, t, halo_gas_density, galaxy_velocity,\n\u001b[1;32m--> 154\u001b[1;33m                                                  galaxy_gas_density,physics_kwargs['KH'])+\\\n\u001b[0m\u001b[0;32m    155\u001b[0m                  B * _RPS_evolution(y, t, halo_gas_density, galaxy_velocity,\n\u001b[0;32m    156\u001b[0m                                            galaxy_gas_density, galaxy_gas_density(0.0),physics_kwargs['RPS'])\n",
      "\u001b[1;31mTypeError\u001b[0m: _KH_evolution() takes exactly 5 arguments (6 given)"
     ]
    },
    {
     "ename": "TypeError",
     "evalue": "_KH_evolution() takes exactly 5 arguments (6 given)",
     "output_type": "error",
     "traceback": [
      "\u001b[1;31m---------------------------------------------------------------------------\u001b[0m",
      "\u001b[1;31mTypeError\u001b[0m                                 Traceback (most recent call last)",
      "\u001b[1;32m/home/emerick/Research/dwarfs/analysis/analytic_model/dwarf_model.py\u001b[0m in \u001b[0;36m<lambda>\u001b[1;34m(y, t, A, B)\u001b[0m\n\u001b[0;32m    152\u001b[0m     \u001b[0mode_function\u001b[0m \u001b[1;33m=\u001b[0m \u001b[1;32mlambda\u001b[0m \u001b[0my\u001b[0m\u001b[1;33m,\u001b[0m \u001b[0mt\u001b[0m\u001b[1;33m,\u001b[0m \u001b[0mA\u001b[0m\u001b[1;33m,\u001b[0m \u001b[0mB\u001b[0m\u001b[1;33m:\u001b[0m\u001b[0;31m\\\u001b[0m\u001b[1;33m\u001b[0m\u001b[0m\n\u001b[0;32m    153\u001b[0m                  A *  _KH_evolution(y, t, halo_gas_density, galaxy_velocity,\n\u001b[1;32m--> 154\u001b[1;33m                                                  galaxy_gas_density,physics_kwargs['KH'])+\\\n\u001b[0m\u001b[0;32m    155\u001b[0m                  B * _RPS_evolution(y, t, halo_gas_density, galaxy_velocity,\n\u001b[0;32m    156\u001b[0m                                            galaxy_gas_density, galaxy_gas_density(0.0),physics_kwargs['RPS'])\n",
      "\u001b[1;31mTypeError\u001b[0m: _KH_evolution() takes exactly 5 arguments (6 given)"
     ]
    },
    {
     "ename": "TypeError",
     "evalue": "_KH_evolution() takes exactly 5 arguments (6 given)",
     "output_type": "error",
     "traceback": [
      "\u001b[1;31m---------------------------------------------------------------------------\u001b[0m",
      "\u001b[1;31mTypeError\u001b[0m                                 Traceback (most recent call last)",
      "\u001b[1;32m/home/emerick/Research/dwarfs/analysis/analytic_model/dwarf_model.py\u001b[0m in \u001b[0;36m<lambda>\u001b[1;34m(y, t, A, B)\u001b[0m\n\u001b[0;32m    152\u001b[0m     \u001b[0mode_function\u001b[0m \u001b[1;33m=\u001b[0m \u001b[1;32mlambda\u001b[0m \u001b[0my\u001b[0m\u001b[1;33m,\u001b[0m \u001b[0mt\u001b[0m\u001b[1;33m,\u001b[0m \u001b[0mA\u001b[0m\u001b[1;33m,\u001b[0m \u001b[0mB\u001b[0m\u001b[1;33m:\u001b[0m\u001b[0;31m\\\u001b[0m\u001b[1;33m\u001b[0m\u001b[0m\n\u001b[0;32m    153\u001b[0m                  A *  _KH_evolution(y, t, halo_gas_density, galaxy_velocity,\n\u001b[1;32m--> 154\u001b[1;33m                                                  galaxy_gas_density,physics_kwargs['KH'])+\\\n\u001b[0m\u001b[0;32m    155\u001b[0m                  B * _RPS_evolution(y, t, halo_gas_density, galaxy_velocity,\n\u001b[0;32m    156\u001b[0m                                            galaxy_gas_density, galaxy_gas_density(0.0),physics_kwargs['RPS'])\n",
      "\u001b[1;31mTypeError\u001b[0m: _KH_evolution() takes exactly 5 arguments (6 given)"
     ]
    },
    {
     "ename": "TypeError",
     "evalue": "_KH_evolution() takes exactly 5 arguments (6 given)",
     "output_type": "error",
     "traceback": [
      "\u001b[1;31m---------------------------------------------------------------------------\u001b[0m",
      "\u001b[1;31mTypeError\u001b[0m                                 Traceback (most recent call last)",
      "\u001b[1;32m/home/emerick/Research/dwarfs/analysis/analytic_model/dwarf_model.py\u001b[0m in \u001b[0;36m<lambda>\u001b[1;34m(y, t, A, B)\u001b[0m\n\u001b[0;32m    152\u001b[0m     \u001b[0mode_function\u001b[0m \u001b[1;33m=\u001b[0m \u001b[1;32mlambda\u001b[0m \u001b[0my\u001b[0m\u001b[1;33m,\u001b[0m \u001b[0mt\u001b[0m\u001b[1;33m,\u001b[0m \u001b[0mA\u001b[0m\u001b[1;33m,\u001b[0m \u001b[0mB\u001b[0m\u001b[1;33m:\u001b[0m\u001b[0;31m\\\u001b[0m\u001b[1;33m\u001b[0m\u001b[0m\n\u001b[0;32m    153\u001b[0m                  A *  _KH_evolution(y, t, halo_gas_density, galaxy_velocity,\n\u001b[1;32m--> 154\u001b[1;33m                                                  galaxy_gas_density,physics_kwargs['KH'])+\\\n\u001b[0m\u001b[0;32m    155\u001b[0m                  B * _RPS_evolution(y, t, halo_gas_density, galaxy_velocity,\n\u001b[0;32m    156\u001b[0m                                            galaxy_gas_density, galaxy_gas_density(0.0),physics_kwargs['RPS'])\n",
      "\u001b[1;31mTypeError\u001b[0m: _KH_evolution() takes exactly 5 arguments (6 given)"
     ]
    },
    {
     "ename": "TypeError",
     "evalue": "_KH_evolution() takes exactly 5 arguments (6 given)",
     "output_type": "error",
     "traceback": [
      "\u001b[1;31m---------------------------------------------------------------------------\u001b[0m",
      "\u001b[1;31mTypeError\u001b[0m                                 Traceback (most recent call last)",
      "\u001b[1;32m/home/emerick/Research/dwarfs/analysis/analytic_model/dwarf_model.py\u001b[0m in \u001b[0;36m<lambda>\u001b[1;34m(y, t, A, B)\u001b[0m\n\u001b[0;32m    152\u001b[0m     \u001b[0mode_function\u001b[0m \u001b[1;33m=\u001b[0m \u001b[1;32mlambda\u001b[0m \u001b[0my\u001b[0m\u001b[1;33m,\u001b[0m \u001b[0mt\u001b[0m\u001b[1;33m,\u001b[0m \u001b[0mA\u001b[0m\u001b[1;33m,\u001b[0m \u001b[0mB\u001b[0m\u001b[1;33m:\u001b[0m\u001b[0;31m\\\u001b[0m\u001b[1;33m\u001b[0m\u001b[0m\n\u001b[0;32m    153\u001b[0m                  A *  _KH_evolution(y, t, halo_gas_density, galaxy_velocity,\n\u001b[1;32m--> 154\u001b[1;33m                                                  galaxy_gas_density,physics_kwargs['KH'])+\\\n\u001b[0m\u001b[0;32m    155\u001b[0m                  B * _RPS_evolution(y, t, halo_gas_density, galaxy_velocity,\n\u001b[0;32m    156\u001b[0m                                            galaxy_gas_density, galaxy_gas_density(0.0),physics_kwargs['RPS'])\n",
      "\u001b[1;31mTypeError\u001b[0m: _KH_evolution() takes exactly 5 arguments (6 given)"
     ]
    },
    {
     "ename": "TypeError",
     "evalue": "_KH_evolution() takes exactly 5 arguments (6 given)",
     "output_type": "error",
     "traceback": [
      "\u001b[1;31m---------------------------------------------------------------------------\u001b[0m",
      "\u001b[1;31mTypeError\u001b[0m                                 Traceback (most recent call last)",
      "\u001b[1;32m/home/emerick/Research/dwarfs/analysis/analytic_model/dwarf_model.py\u001b[0m in \u001b[0;36m<lambda>\u001b[1;34m(y, t, A, B)\u001b[0m\n\u001b[0;32m    152\u001b[0m     \u001b[0mode_function\u001b[0m \u001b[1;33m=\u001b[0m \u001b[1;32mlambda\u001b[0m \u001b[0my\u001b[0m\u001b[1;33m,\u001b[0m \u001b[0mt\u001b[0m\u001b[1;33m,\u001b[0m \u001b[0mA\u001b[0m\u001b[1;33m,\u001b[0m \u001b[0mB\u001b[0m\u001b[1;33m:\u001b[0m\u001b[0;31m\\\u001b[0m\u001b[1;33m\u001b[0m\u001b[0m\n\u001b[0;32m    153\u001b[0m                  A *  _KH_evolution(y, t, halo_gas_density, galaxy_velocity,\n\u001b[1;32m--> 154\u001b[1;33m                                                  galaxy_gas_density,physics_kwargs['KH'])+\\\n\u001b[0m\u001b[0;32m    155\u001b[0m                  B * _RPS_evolution(y, t, halo_gas_density, galaxy_velocity,\n\u001b[0;32m    156\u001b[0m                                            galaxy_gas_density, galaxy_gas_density(0.0),physics_kwargs['RPS'])\n",
      "\u001b[1;31mTypeError\u001b[0m: _KH_evolution() takes exactly 5 arguments (6 given)"
     ]
    },
    {
     "ename": "TypeError",
     "evalue": "_KH_evolution() takes exactly 5 arguments (6 given)",
     "output_type": "error",
     "traceback": [
      "\u001b[1;31m---------------------------------------------------------------------------\u001b[0m",
      "\u001b[1;31mTypeError\u001b[0m                                 Traceback (most recent call last)",
      "\u001b[1;32m/home/emerick/Research/dwarfs/analysis/analytic_model/dwarf_model.py\u001b[0m in \u001b[0;36m<lambda>\u001b[1;34m(y, t, A, B)\u001b[0m\n\u001b[0;32m    152\u001b[0m     \u001b[0mode_function\u001b[0m \u001b[1;33m=\u001b[0m \u001b[1;32mlambda\u001b[0m \u001b[0my\u001b[0m\u001b[1;33m,\u001b[0m \u001b[0mt\u001b[0m\u001b[1;33m,\u001b[0m \u001b[0mA\u001b[0m\u001b[1;33m,\u001b[0m \u001b[0mB\u001b[0m\u001b[1;33m:\u001b[0m\u001b[0;31m\\\u001b[0m\u001b[1;33m\u001b[0m\u001b[0m\n\u001b[0;32m    153\u001b[0m                  A *  _KH_evolution(y, t, halo_gas_density, galaxy_velocity,\n\u001b[1;32m--> 154\u001b[1;33m                                                  galaxy_gas_density,physics_kwargs['KH'])+\\\n\u001b[0m\u001b[0;32m    155\u001b[0m                  B * _RPS_evolution(y, t, halo_gas_density, galaxy_velocity,\n\u001b[0;32m    156\u001b[0m                                            galaxy_gas_density, galaxy_gas_density(0.0),physics_kwargs['RPS'])\n",
      "\u001b[1;31mTypeError\u001b[0m: _KH_evolution() takes exactly 5 arguments (6 given)"
     ]
    },
    {
     "ename": "TypeError",
     "evalue": "_KH_evolution() takes exactly 5 arguments (6 given)",
     "output_type": "error",
     "traceback": [
      "\u001b[1;31m---------------------------------------------------------------------------\u001b[0m",
      "\u001b[1;31mTypeError\u001b[0m                                 Traceback (most recent call last)",
      "\u001b[1;32m/home/emerick/Research/dwarfs/analysis/analytic_model/dwarf_model.py\u001b[0m in \u001b[0;36m<lambda>\u001b[1;34m(y, t, A, B)\u001b[0m\n\u001b[0;32m    152\u001b[0m     \u001b[0mode_function\u001b[0m \u001b[1;33m=\u001b[0m \u001b[1;32mlambda\u001b[0m \u001b[0my\u001b[0m\u001b[1;33m,\u001b[0m \u001b[0mt\u001b[0m\u001b[1;33m,\u001b[0m \u001b[0mA\u001b[0m\u001b[1;33m,\u001b[0m \u001b[0mB\u001b[0m\u001b[1;33m:\u001b[0m\u001b[0;31m\\\u001b[0m\u001b[1;33m\u001b[0m\u001b[0m\n\u001b[0;32m    153\u001b[0m                  A *  _KH_evolution(y, t, halo_gas_density, galaxy_velocity,\n\u001b[1;32m--> 154\u001b[1;33m                                                  galaxy_gas_density,physics_kwargs['KH'])+\\\n\u001b[0m\u001b[0;32m    155\u001b[0m                  B * _RPS_evolution(y, t, halo_gas_density, galaxy_velocity,\n\u001b[0;32m    156\u001b[0m                                            galaxy_gas_density, galaxy_gas_density(0.0),physics_kwargs['RPS'])\n",
      "\u001b[1;31mTypeError\u001b[0m: _KH_evolution() takes exactly 5 arguments (6 given)"
     ]
    },
    {
     "ename": "TypeError",
     "evalue": "_KH_evolution() takes exactly 5 arguments (6 given)",
     "output_type": "error",
     "traceback": [
      "\u001b[1;31m---------------------------------------------------------------------------\u001b[0m",
      "\u001b[1;31mTypeError\u001b[0m                                 Traceback (most recent call last)",
      "\u001b[1;32m/home/emerick/Research/dwarfs/analysis/analytic_model/dwarf_model.py\u001b[0m in \u001b[0;36m<lambda>\u001b[1;34m(y, t, A, B)\u001b[0m\n\u001b[0;32m    152\u001b[0m     \u001b[0mode_function\u001b[0m \u001b[1;33m=\u001b[0m \u001b[1;32mlambda\u001b[0m \u001b[0my\u001b[0m\u001b[1;33m,\u001b[0m \u001b[0mt\u001b[0m\u001b[1;33m,\u001b[0m \u001b[0mA\u001b[0m\u001b[1;33m,\u001b[0m \u001b[0mB\u001b[0m\u001b[1;33m:\u001b[0m\u001b[0;31m\\\u001b[0m\u001b[1;33m\u001b[0m\u001b[0m\n\u001b[0;32m    153\u001b[0m                  A *  _KH_evolution(y, t, halo_gas_density, galaxy_velocity,\n\u001b[1;32m--> 154\u001b[1;33m                                                  galaxy_gas_density,physics_kwargs['KH'])+\\\n\u001b[0m\u001b[0;32m    155\u001b[0m                  B * _RPS_evolution(y, t, halo_gas_density, galaxy_velocity,\n\u001b[0;32m    156\u001b[0m                                            galaxy_gas_density, galaxy_gas_density(0.0),physics_kwargs['RPS'])\n",
      "\u001b[1;31mTypeError\u001b[0m: _KH_evolution() takes exactly 5 arguments (6 given)"
     ]
    },
    {
     "ename": "TypeError",
     "evalue": "_KH_evolution() takes exactly 5 arguments (6 given)",
     "output_type": "error",
     "traceback": [
      "\u001b[1;31m---------------------------------------------------------------------------\u001b[0m",
      "\u001b[1;31mTypeError\u001b[0m                                 Traceback (most recent call last)",
      "\u001b[1;32m/home/emerick/Research/dwarfs/analysis/analytic_model/dwarf_model.py\u001b[0m in \u001b[0;36m<lambda>\u001b[1;34m(y, t, A, B)\u001b[0m\n\u001b[0;32m    152\u001b[0m     \u001b[0mode_function\u001b[0m \u001b[1;33m=\u001b[0m \u001b[1;32mlambda\u001b[0m \u001b[0my\u001b[0m\u001b[1;33m,\u001b[0m \u001b[0mt\u001b[0m\u001b[1;33m,\u001b[0m \u001b[0mA\u001b[0m\u001b[1;33m,\u001b[0m \u001b[0mB\u001b[0m\u001b[1;33m:\u001b[0m\u001b[0;31m\\\u001b[0m\u001b[1;33m\u001b[0m\u001b[0m\n\u001b[0;32m    153\u001b[0m                  A *  _KH_evolution(y, t, halo_gas_density, galaxy_velocity,\n\u001b[1;32m--> 154\u001b[1;33m                                                  galaxy_gas_density,physics_kwargs['KH'])+\\\n\u001b[0m\u001b[0;32m    155\u001b[0m                  B * _RPS_evolution(y, t, halo_gas_density, galaxy_velocity,\n\u001b[0;32m    156\u001b[0m                                            galaxy_gas_density, galaxy_gas_density(0.0),physics_kwargs['RPS'])\n",
      "\u001b[1;31mTypeError\u001b[0m: _KH_evolution() takes exactly 5 arguments (6 given)"
     ]
    },
    {
     "ename": "TypeError",
     "evalue": "_KH_evolution() takes exactly 5 arguments (6 given)",
     "output_type": "error",
     "traceback": [
      "\u001b[1;31m---------------------------------------------------------------------------\u001b[0m",
      "\u001b[1;31mTypeError\u001b[0m                                 Traceback (most recent call last)",
      "\u001b[1;32m/home/emerick/Research/dwarfs/analysis/analytic_model/dwarf_model.py\u001b[0m in \u001b[0;36m<lambda>\u001b[1;34m(y, t, A, B)\u001b[0m\n\u001b[0;32m    152\u001b[0m     \u001b[0mode_function\u001b[0m \u001b[1;33m=\u001b[0m \u001b[1;32mlambda\u001b[0m \u001b[0my\u001b[0m\u001b[1;33m,\u001b[0m \u001b[0mt\u001b[0m\u001b[1;33m,\u001b[0m \u001b[0mA\u001b[0m\u001b[1;33m,\u001b[0m \u001b[0mB\u001b[0m\u001b[1;33m:\u001b[0m\u001b[0;31m\\\u001b[0m\u001b[1;33m\u001b[0m\u001b[0m\n\u001b[0;32m    153\u001b[0m                  A *  _KH_evolution(y, t, halo_gas_density, galaxy_velocity,\n\u001b[1;32m--> 154\u001b[1;33m                                                  galaxy_gas_density,physics_kwargs['KH'])+\\\n\u001b[0m\u001b[0;32m    155\u001b[0m                  B * _RPS_evolution(y, t, halo_gas_density, galaxy_velocity,\n\u001b[0;32m    156\u001b[0m                                            galaxy_gas_density, galaxy_gas_density(0.0),physics_kwargs['RPS'])\n",
      "\u001b[1;31mTypeError\u001b[0m: _KH_evolution() takes exactly 5 arguments (6 given)"
     ]
    },
    {
     "ename": "TypeError",
     "evalue": "_KH_evolution() takes exactly 5 arguments (6 given)",
     "output_type": "error",
     "traceback": [
      "\u001b[1;31m---------------------------------------------------------------------------\u001b[0m",
      "\u001b[1;31mTypeError\u001b[0m                                 Traceback (most recent call last)",
      "\u001b[1;32m/home/emerick/Research/dwarfs/analysis/analytic_model/dwarf_model.py\u001b[0m in \u001b[0;36m<lambda>\u001b[1;34m(y, t, A, B)\u001b[0m\n\u001b[0;32m    152\u001b[0m     \u001b[0mode_function\u001b[0m \u001b[1;33m=\u001b[0m \u001b[1;32mlambda\u001b[0m \u001b[0my\u001b[0m\u001b[1;33m,\u001b[0m \u001b[0mt\u001b[0m\u001b[1;33m,\u001b[0m \u001b[0mA\u001b[0m\u001b[1;33m,\u001b[0m \u001b[0mB\u001b[0m\u001b[1;33m:\u001b[0m\u001b[0;31m\\\u001b[0m\u001b[1;33m\u001b[0m\u001b[0m\n\u001b[0;32m    153\u001b[0m                  A *  _KH_evolution(y, t, halo_gas_density, galaxy_velocity,\n\u001b[1;32m--> 154\u001b[1;33m                                                  galaxy_gas_density,physics_kwargs['KH'])+\\\n\u001b[0m\u001b[0;32m    155\u001b[0m                  B * _RPS_evolution(y, t, halo_gas_density, galaxy_velocity,\n\u001b[0;32m    156\u001b[0m                                            galaxy_gas_density, galaxy_gas_density(0.0),physics_kwargs['RPS'])\n",
      "\u001b[1;31mTypeError\u001b[0m: _KH_evolution() takes exactly 5 arguments (6 given)"
     ]
    },
    {
     "ename": "TypeError",
     "evalue": "_KH_evolution() takes exactly 5 arguments (6 given)",
     "output_type": "error",
     "traceback": [
      "\u001b[1;31m---------------------------------------------------------------------------\u001b[0m",
      "\u001b[1;31mTypeError\u001b[0m                                 Traceback (most recent call last)",
      "\u001b[1;32m/home/emerick/Research/dwarfs/analysis/analytic_model/dwarf_model.py\u001b[0m in \u001b[0;36m<lambda>\u001b[1;34m(y, t, A, B)\u001b[0m\n\u001b[0;32m    152\u001b[0m     \u001b[0mode_function\u001b[0m \u001b[1;33m=\u001b[0m \u001b[1;32mlambda\u001b[0m \u001b[0my\u001b[0m\u001b[1;33m,\u001b[0m \u001b[0mt\u001b[0m\u001b[1;33m,\u001b[0m \u001b[0mA\u001b[0m\u001b[1;33m,\u001b[0m \u001b[0mB\u001b[0m\u001b[1;33m:\u001b[0m\u001b[0;31m\\\u001b[0m\u001b[1;33m\u001b[0m\u001b[0m\n\u001b[0;32m    153\u001b[0m                  A *  _KH_evolution(y, t, halo_gas_density, galaxy_velocity,\n\u001b[1;32m--> 154\u001b[1;33m                                                  galaxy_gas_density,physics_kwargs['KH'])+\\\n\u001b[0m\u001b[0;32m    155\u001b[0m                  B * _RPS_evolution(y, t, halo_gas_density, galaxy_velocity,\n\u001b[0;32m    156\u001b[0m                                            galaxy_gas_density, galaxy_gas_density(0.0),physics_kwargs['RPS'])\n",
      "\u001b[1;31mTypeError\u001b[0m: _KH_evolution() takes exactly 5 arguments (6 given)"
     ]
    },
    {
     "ename": "TypeError",
     "evalue": "_KH_evolution() takes exactly 5 arguments (6 given)",
     "output_type": "error",
     "traceback": [
      "\u001b[1;31m---------------------------------------------------------------------------\u001b[0m",
      "\u001b[1;31mTypeError\u001b[0m                                 Traceback (most recent call last)",
      "\u001b[1;32m/home/emerick/Research/dwarfs/analysis/analytic_model/dwarf_model.py\u001b[0m in \u001b[0;36m<lambda>\u001b[1;34m(y, t, A, B)\u001b[0m\n\u001b[0;32m    152\u001b[0m     \u001b[0mode_function\u001b[0m \u001b[1;33m=\u001b[0m \u001b[1;32mlambda\u001b[0m \u001b[0my\u001b[0m\u001b[1;33m,\u001b[0m \u001b[0mt\u001b[0m\u001b[1;33m,\u001b[0m \u001b[0mA\u001b[0m\u001b[1;33m,\u001b[0m \u001b[0mB\u001b[0m\u001b[1;33m:\u001b[0m\u001b[0;31m\\\u001b[0m\u001b[1;33m\u001b[0m\u001b[0m\n\u001b[0;32m    153\u001b[0m                  A *  _KH_evolution(y, t, halo_gas_density, galaxy_velocity,\n\u001b[1;32m--> 154\u001b[1;33m                                                  galaxy_gas_density,physics_kwargs['KH'])+\\\n\u001b[0m\u001b[0;32m    155\u001b[0m                  B * _RPS_evolution(y, t, halo_gas_density, galaxy_velocity,\n\u001b[0;32m    156\u001b[0m                                            galaxy_gas_density, galaxy_gas_density(0.0),physics_kwargs['RPS'])\n",
      "\u001b[1;31mTypeError\u001b[0m: _KH_evolution() takes exactly 5 arguments (6 given)"
     ]
    },
    {
     "ename": "TypeError",
     "evalue": "_KH_evolution() takes exactly 5 arguments (6 given)",
     "output_type": "error",
     "traceback": [
      "\u001b[1;31m---------------------------------------------------------------------------\u001b[0m",
      "\u001b[1;31mTypeError\u001b[0m                                 Traceback (most recent call last)",
      "\u001b[1;32m/home/emerick/Research/dwarfs/analysis/analytic_model/dwarf_model.py\u001b[0m in \u001b[0;36m<lambda>\u001b[1;34m(y, t, A, B)\u001b[0m\n\u001b[0;32m    152\u001b[0m     \u001b[0mode_function\u001b[0m \u001b[1;33m=\u001b[0m \u001b[1;32mlambda\u001b[0m \u001b[0my\u001b[0m\u001b[1;33m,\u001b[0m \u001b[0mt\u001b[0m\u001b[1;33m,\u001b[0m \u001b[0mA\u001b[0m\u001b[1;33m,\u001b[0m \u001b[0mB\u001b[0m\u001b[1;33m:\u001b[0m\u001b[0;31m\\\u001b[0m\u001b[1;33m\u001b[0m\u001b[0m\n\u001b[0;32m    153\u001b[0m                  A *  _KH_evolution(y, t, halo_gas_density, galaxy_velocity,\n\u001b[1;32m--> 154\u001b[1;33m                                                  galaxy_gas_density,physics_kwargs['KH'])+\\\n\u001b[0m\u001b[0;32m    155\u001b[0m                  B * _RPS_evolution(y, t, halo_gas_density, galaxy_velocity,\n\u001b[0;32m    156\u001b[0m                                            galaxy_gas_density, galaxy_gas_density(0.0),physics_kwargs['RPS'])\n",
      "\u001b[1;31mTypeError\u001b[0m: _KH_evolution() takes exactly 5 arguments (6 given)"
     ]
    },
    {
     "ename": "TypeError",
     "evalue": "_KH_evolution() takes exactly 5 arguments (6 given)",
     "output_type": "error",
     "traceback": [
      "\u001b[1;31m---------------------------------------------------------------------------\u001b[0m",
      "\u001b[1;31mTypeError\u001b[0m                                 Traceback (most recent call last)",
      "\u001b[1;32m/home/emerick/Research/dwarfs/analysis/analytic_model/dwarf_model.py\u001b[0m in \u001b[0;36m<lambda>\u001b[1;34m(y, t, A, B)\u001b[0m\n\u001b[0;32m    152\u001b[0m     \u001b[0mode_function\u001b[0m \u001b[1;33m=\u001b[0m \u001b[1;32mlambda\u001b[0m \u001b[0my\u001b[0m\u001b[1;33m,\u001b[0m \u001b[0mt\u001b[0m\u001b[1;33m,\u001b[0m \u001b[0mA\u001b[0m\u001b[1;33m,\u001b[0m \u001b[0mB\u001b[0m\u001b[1;33m:\u001b[0m\u001b[0;31m\\\u001b[0m\u001b[1;33m\u001b[0m\u001b[0m\n\u001b[0;32m    153\u001b[0m                  A *  _KH_evolution(y, t, halo_gas_density, galaxy_velocity,\n\u001b[1;32m--> 154\u001b[1;33m                                                  galaxy_gas_density,physics_kwargs['KH'])+\\\n\u001b[0m\u001b[0;32m    155\u001b[0m                  B * _RPS_evolution(y, t, halo_gas_density, galaxy_velocity,\n\u001b[0;32m    156\u001b[0m                                            galaxy_gas_density, galaxy_gas_density(0.0),physics_kwargs['RPS'])\n",
      "\u001b[1;31mTypeError\u001b[0m: _KH_evolution() takes exactly 5 arguments (6 given)"
     ]
    },
    {
     "ename": "TypeError",
     "evalue": "_KH_evolution() takes exactly 5 arguments (6 given)",
     "output_type": "error",
     "traceback": [
      "\u001b[1;31m---------------------------------------------------------------------------\u001b[0m",
      "\u001b[1;31mTypeError\u001b[0m                                 Traceback (most recent call last)",
      "\u001b[1;32m/home/emerick/Research/dwarfs/analysis/analytic_model/dwarf_model.py\u001b[0m in \u001b[0;36m<lambda>\u001b[1;34m(y, t, A, B)\u001b[0m\n\u001b[0;32m    152\u001b[0m     \u001b[0mode_function\u001b[0m \u001b[1;33m=\u001b[0m \u001b[1;32mlambda\u001b[0m \u001b[0my\u001b[0m\u001b[1;33m,\u001b[0m \u001b[0mt\u001b[0m\u001b[1;33m,\u001b[0m \u001b[0mA\u001b[0m\u001b[1;33m,\u001b[0m \u001b[0mB\u001b[0m\u001b[1;33m:\u001b[0m\u001b[0;31m\\\u001b[0m\u001b[1;33m\u001b[0m\u001b[0m\n\u001b[0;32m    153\u001b[0m                  A *  _KH_evolution(y, t, halo_gas_density, galaxy_velocity,\n\u001b[1;32m--> 154\u001b[1;33m                                                  galaxy_gas_density,physics_kwargs['KH'])+\\\n\u001b[0m\u001b[0;32m    155\u001b[0m                  B * _RPS_evolution(y, t, halo_gas_density, galaxy_velocity,\n\u001b[0;32m    156\u001b[0m                                            galaxy_gas_density, galaxy_gas_density(0.0),physics_kwargs['RPS'])\n",
      "\u001b[1;31mTypeError\u001b[0m: _KH_evolution() takes exactly 5 arguments (6 given)"
     ]
    },
    {
     "ename": "TypeError",
     "evalue": "_KH_evolution() takes exactly 5 arguments (6 given)",
     "output_type": "error",
     "traceback": [
      "\u001b[1;31m---------------------------------------------------------------------------\u001b[0m",
      "\u001b[1;31mTypeError\u001b[0m                                 Traceback (most recent call last)",
      "\u001b[1;32m/home/emerick/Research/dwarfs/analysis/analytic_model/dwarf_model.py\u001b[0m in \u001b[0;36m<lambda>\u001b[1;34m(y, t, A, B)\u001b[0m\n\u001b[0;32m    152\u001b[0m     \u001b[0mode_function\u001b[0m \u001b[1;33m=\u001b[0m \u001b[1;32mlambda\u001b[0m \u001b[0my\u001b[0m\u001b[1;33m,\u001b[0m \u001b[0mt\u001b[0m\u001b[1;33m,\u001b[0m \u001b[0mA\u001b[0m\u001b[1;33m,\u001b[0m \u001b[0mB\u001b[0m\u001b[1;33m:\u001b[0m\u001b[0;31m\\\u001b[0m\u001b[1;33m\u001b[0m\u001b[0m\n\u001b[0;32m    153\u001b[0m                  A *  _KH_evolution(y, t, halo_gas_density, galaxy_velocity,\n\u001b[1;32m--> 154\u001b[1;33m                                                  galaxy_gas_density,physics_kwargs['KH'])+\\\n\u001b[0m\u001b[0;32m    155\u001b[0m                  B * _RPS_evolution(y, t, halo_gas_density, galaxy_velocity,\n\u001b[0;32m    156\u001b[0m                                            galaxy_gas_density, galaxy_gas_density(0.0),physics_kwargs['RPS'])\n",
      "\u001b[1;31mTypeError\u001b[0m: _KH_evolution() takes exactly 5 arguments (6 given)"
     ]
    },
    {
     "ename": "TypeError",
     "evalue": "_KH_evolution() takes exactly 5 arguments (6 given)",
     "output_type": "error",
     "traceback": [
      "\u001b[1;31m---------------------------------------------------------------------------\u001b[0m",
      "\u001b[1;31mTypeError\u001b[0m                                 Traceback (most recent call last)",
      "\u001b[1;32m/home/emerick/Research/dwarfs/analysis/analytic_model/dwarf_model.py\u001b[0m in \u001b[0;36m<lambda>\u001b[1;34m(y, t, A, B)\u001b[0m\n\u001b[0;32m    152\u001b[0m     \u001b[0mode_function\u001b[0m \u001b[1;33m=\u001b[0m \u001b[1;32mlambda\u001b[0m \u001b[0my\u001b[0m\u001b[1;33m,\u001b[0m \u001b[0mt\u001b[0m\u001b[1;33m,\u001b[0m \u001b[0mA\u001b[0m\u001b[1;33m,\u001b[0m \u001b[0mB\u001b[0m\u001b[1;33m:\u001b[0m\u001b[0;31m\\\u001b[0m\u001b[1;33m\u001b[0m\u001b[0m\n\u001b[0;32m    153\u001b[0m                  A *  _KH_evolution(y, t, halo_gas_density, galaxy_velocity,\n\u001b[1;32m--> 154\u001b[1;33m                                                  galaxy_gas_density,physics_kwargs['KH'])+\\\n\u001b[0m\u001b[0;32m    155\u001b[0m                  B * _RPS_evolution(y, t, halo_gas_density, galaxy_velocity,\n\u001b[0;32m    156\u001b[0m                                            galaxy_gas_density, galaxy_gas_density(0.0),physics_kwargs['RPS'])\n",
      "\u001b[1;31mTypeError\u001b[0m: _KH_evolution() takes exactly 5 arguments (6 given)"
     ]
    },
    {
     "ename": "TypeError",
     "evalue": "_KH_evolution() takes exactly 5 arguments (6 given)",
     "output_type": "error",
     "traceback": [
      "\u001b[1;31m---------------------------------------------------------------------------\u001b[0m",
      "\u001b[1;31mTypeError\u001b[0m                                 Traceback (most recent call last)",
      "\u001b[1;32m/home/emerick/Research/dwarfs/analysis/analytic_model/dwarf_model.py\u001b[0m in \u001b[0;36m<lambda>\u001b[1;34m(y, t, A, B)\u001b[0m\n\u001b[0;32m    152\u001b[0m     \u001b[0mode_function\u001b[0m \u001b[1;33m=\u001b[0m \u001b[1;32mlambda\u001b[0m \u001b[0my\u001b[0m\u001b[1;33m,\u001b[0m \u001b[0mt\u001b[0m\u001b[1;33m,\u001b[0m \u001b[0mA\u001b[0m\u001b[1;33m,\u001b[0m \u001b[0mB\u001b[0m\u001b[1;33m:\u001b[0m\u001b[0;31m\\\u001b[0m\u001b[1;33m\u001b[0m\u001b[0m\n\u001b[0;32m    153\u001b[0m                  A *  _KH_evolution(y, t, halo_gas_density, galaxy_velocity,\n\u001b[1;32m--> 154\u001b[1;33m                                                  galaxy_gas_density,physics_kwargs['KH'])+\\\n\u001b[0m\u001b[0;32m    155\u001b[0m                  B * _RPS_evolution(y, t, halo_gas_density, galaxy_velocity,\n\u001b[0;32m    156\u001b[0m                                            galaxy_gas_density, galaxy_gas_density(0.0),physics_kwargs['RPS'])\n",
      "\u001b[1;31mTypeError\u001b[0m: _KH_evolution() takes exactly 5 arguments (6 given)"
     ]
    },
    {
     "ename": "TypeError",
     "evalue": "_KH_evolution() takes exactly 5 arguments (6 given)",
     "output_type": "error",
     "traceback": [
      "\u001b[1;31m---------------------------------------------------------------------------\u001b[0m",
      "\u001b[1;31mTypeError\u001b[0m                                 Traceback (most recent call last)",
      "\u001b[1;32m/home/emerick/Research/dwarfs/analysis/analytic_model/dwarf_model.py\u001b[0m in \u001b[0;36m<lambda>\u001b[1;34m(y, t, A, B)\u001b[0m\n\u001b[0;32m    152\u001b[0m     \u001b[0mode_function\u001b[0m \u001b[1;33m=\u001b[0m \u001b[1;32mlambda\u001b[0m \u001b[0my\u001b[0m\u001b[1;33m,\u001b[0m \u001b[0mt\u001b[0m\u001b[1;33m,\u001b[0m \u001b[0mA\u001b[0m\u001b[1;33m,\u001b[0m \u001b[0mB\u001b[0m\u001b[1;33m:\u001b[0m\u001b[0;31m\\\u001b[0m\u001b[1;33m\u001b[0m\u001b[0m\n\u001b[0;32m    153\u001b[0m                  A *  _KH_evolution(y, t, halo_gas_density, galaxy_velocity,\n\u001b[1;32m--> 154\u001b[1;33m                                                  galaxy_gas_density,physics_kwargs['KH'])+\\\n\u001b[0m\u001b[0;32m    155\u001b[0m                  B * _RPS_evolution(y, t, halo_gas_density, galaxy_velocity,\n\u001b[0;32m    156\u001b[0m                                            galaxy_gas_density, galaxy_gas_density(0.0),physics_kwargs['RPS'])\n",
      "\u001b[1;31mTypeError\u001b[0m: _KH_evolution() takes exactly 5 arguments (6 given)"
     ]
    },
    {
     "ename": "TypeError",
     "evalue": "_KH_evolution() takes exactly 5 arguments (6 given)",
     "output_type": "error",
     "traceback": [
      "\u001b[1;31m---------------------------------------------------------------------------\u001b[0m",
      "\u001b[1;31mTypeError\u001b[0m                                 Traceback (most recent call last)",
      "\u001b[1;32m/home/emerick/Research/dwarfs/analysis/analytic_model/dwarf_model.py\u001b[0m in \u001b[0;36m<lambda>\u001b[1;34m(y, t, A, B)\u001b[0m\n\u001b[0;32m    152\u001b[0m     \u001b[0mode_function\u001b[0m \u001b[1;33m=\u001b[0m \u001b[1;32mlambda\u001b[0m \u001b[0my\u001b[0m\u001b[1;33m,\u001b[0m \u001b[0mt\u001b[0m\u001b[1;33m,\u001b[0m \u001b[0mA\u001b[0m\u001b[1;33m,\u001b[0m \u001b[0mB\u001b[0m\u001b[1;33m:\u001b[0m\u001b[0;31m\\\u001b[0m\u001b[1;33m\u001b[0m\u001b[0m\n\u001b[0;32m    153\u001b[0m                  A *  _KH_evolution(y, t, halo_gas_density, galaxy_velocity,\n\u001b[1;32m--> 154\u001b[1;33m                                                  galaxy_gas_density,physics_kwargs['KH'])+\\\n\u001b[0m\u001b[0;32m    155\u001b[0m                  B * _RPS_evolution(y, t, halo_gas_density, galaxy_velocity,\n\u001b[0;32m    156\u001b[0m                                            galaxy_gas_density, galaxy_gas_density(0.0),physics_kwargs['RPS'])\n",
      "\u001b[1;31mTypeError\u001b[0m: _KH_evolution() takes exactly 5 arguments (6 given)"
     ]
    },
    {
     "ename": "TypeError",
     "evalue": "_KH_evolution() takes exactly 5 arguments (6 given)",
     "output_type": "error",
     "traceback": [
      "\u001b[1;31m---------------------------------------------------------------------------\u001b[0m",
      "\u001b[1;31mTypeError\u001b[0m                                 Traceback (most recent call last)",
      "\u001b[1;32m/home/emerick/Research/dwarfs/analysis/analytic_model/dwarf_model.py\u001b[0m in \u001b[0;36m<lambda>\u001b[1;34m(y, t, A, B)\u001b[0m\n\u001b[0;32m    152\u001b[0m     \u001b[0mode_function\u001b[0m \u001b[1;33m=\u001b[0m \u001b[1;32mlambda\u001b[0m \u001b[0my\u001b[0m\u001b[1;33m,\u001b[0m \u001b[0mt\u001b[0m\u001b[1;33m,\u001b[0m \u001b[0mA\u001b[0m\u001b[1;33m,\u001b[0m \u001b[0mB\u001b[0m\u001b[1;33m:\u001b[0m\u001b[0;31m\\\u001b[0m\u001b[1;33m\u001b[0m\u001b[0m\n\u001b[0;32m    153\u001b[0m                  A *  _KH_evolution(y, t, halo_gas_density, galaxy_velocity,\n\u001b[1;32m--> 154\u001b[1;33m                                                  galaxy_gas_density,physics_kwargs['KH'])+\\\n\u001b[0m\u001b[0;32m    155\u001b[0m                  B * _RPS_evolution(y, t, halo_gas_density, galaxy_velocity,\n\u001b[0;32m    156\u001b[0m                                            galaxy_gas_density, galaxy_gas_density(0.0),physics_kwargs['RPS'])\n",
      "\u001b[1;31mTypeError\u001b[0m: _KH_evolution() takes exactly 5 arguments (6 given)"
     ]
    },
    {
     "ename": "TypeError",
     "evalue": "_KH_evolution() takes exactly 5 arguments (6 given)",
     "output_type": "error",
     "traceback": [
      "\u001b[1;31m---------------------------------------------------------------------------\u001b[0m",
      "\u001b[1;31mTypeError\u001b[0m                                 Traceback (most recent call last)",
      "\u001b[1;32m/home/emerick/Research/dwarfs/analysis/analytic_model/dwarf_model.py\u001b[0m in \u001b[0;36m<lambda>\u001b[1;34m(y, t, A, B)\u001b[0m\n\u001b[0;32m    152\u001b[0m     \u001b[0mode_function\u001b[0m \u001b[1;33m=\u001b[0m \u001b[1;32mlambda\u001b[0m \u001b[0my\u001b[0m\u001b[1;33m,\u001b[0m \u001b[0mt\u001b[0m\u001b[1;33m,\u001b[0m \u001b[0mA\u001b[0m\u001b[1;33m,\u001b[0m \u001b[0mB\u001b[0m\u001b[1;33m:\u001b[0m\u001b[0;31m\\\u001b[0m\u001b[1;33m\u001b[0m\u001b[0m\n\u001b[0;32m    153\u001b[0m                  A *  _KH_evolution(y, t, halo_gas_density, galaxy_velocity,\n\u001b[1;32m--> 154\u001b[1;33m                                                  galaxy_gas_density,physics_kwargs['KH'])+\\\n\u001b[0m\u001b[0;32m    155\u001b[0m                  B * _RPS_evolution(y, t, halo_gas_density, galaxy_velocity,\n\u001b[0;32m    156\u001b[0m                                            galaxy_gas_density, galaxy_gas_density(0.0),physics_kwargs['RPS'])\n",
      "\u001b[1;31mTypeError\u001b[0m: _KH_evolution() takes exactly 5 arguments (6 given)"
     ]
    },
    {
     "ename": "TypeError",
     "evalue": "_KH_evolution() takes exactly 5 arguments (6 given)",
     "output_type": "error",
     "traceback": [
      "\u001b[1;31m---------------------------------------------------------------------------\u001b[0m",
      "\u001b[1;31mTypeError\u001b[0m                                 Traceback (most recent call last)",
      "\u001b[1;32m/home/emerick/Research/dwarfs/analysis/analytic_model/dwarf_model.py\u001b[0m in \u001b[0;36m<lambda>\u001b[1;34m(y, t, A, B)\u001b[0m\n\u001b[0;32m    152\u001b[0m     \u001b[0mode_function\u001b[0m \u001b[1;33m=\u001b[0m \u001b[1;32mlambda\u001b[0m \u001b[0my\u001b[0m\u001b[1;33m,\u001b[0m \u001b[0mt\u001b[0m\u001b[1;33m,\u001b[0m \u001b[0mA\u001b[0m\u001b[1;33m,\u001b[0m \u001b[0mB\u001b[0m\u001b[1;33m:\u001b[0m\u001b[0;31m\\\u001b[0m\u001b[1;33m\u001b[0m\u001b[0m\n\u001b[0;32m    153\u001b[0m                  A *  _KH_evolution(y, t, halo_gas_density, galaxy_velocity,\n\u001b[1;32m--> 154\u001b[1;33m                                                  galaxy_gas_density,physics_kwargs['KH'])+\\\n\u001b[0m\u001b[0;32m    155\u001b[0m                  B * _RPS_evolution(y, t, halo_gas_density, galaxy_velocity,\n\u001b[0;32m    156\u001b[0m                                            galaxy_gas_density, galaxy_gas_density(0.0),physics_kwargs['RPS'])\n",
      "\u001b[1;31mTypeError\u001b[0m: _KH_evolution() takes exactly 5 arguments (6 given)"
     ]
    },
    {
     "ename": "TypeError",
     "evalue": "_KH_evolution() takes exactly 5 arguments (6 given)",
     "output_type": "error",
     "traceback": [
      "\u001b[1;31m---------------------------------------------------------------------------\u001b[0m",
      "\u001b[1;31mTypeError\u001b[0m                                 Traceback (most recent call last)",
      "\u001b[1;32m/home/emerick/Research/dwarfs/analysis/analytic_model/dwarf_model.py\u001b[0m in \u001b[0;36m<lambda>\u001b[1;34m(y, t, A, B)\u001b[0m\n\u001b[0;32m    152\u001b[0m     \u001b[0mode_function\u001b[0m \u001b[1;33m=\u001b[0m \u001b[1;32mlambda\u001b[0m \u001b[0my\u001b[0m\u001b[1;33m,\u001b[0m \u001b[0mt\u001b[0m\u001b[1;33m,\u001b[0m \u001b[0mA\u001b[0m\u001b[1;33m,\u001b[0m \u001b[0mB\u001b[0m\u001b[1;33m:\u001b[0m\u001b[0;31m\\\u001b[0m\u001b[1;33m\u001b[0m\u001b[0m\n\u001b[0;32m    153\u001b[0m                  A *  _KH_evolution(y, t, halo_gas_density, galaxy_velocity,\n\u001b[1;32m--> 154\u001b[1;33m                                                  galaxy_gas_density,physics_kwargs['KH'])+\\\n\u001b[0m\u001b[0;32m    155\u001b[0m                  B * _RPS_evolution(y, t, halo_gas_density, galaxy_velocity,\n\u001b[0;32m    156\u001b[0m                                            galaxy_gas_density, galaxy_gas_density(0.0),physics_kwargs['RPS'])\n",
      "\u001b[1;31mTypeError\u001b[0m: _KH_evolution() takes exactly 5 arguments (6 given)"
     ]
    },
    {
     "ename": "TypeError",
     "evalue": "_KH_evolution() takes exactly 5 arguments (6 given)",
     "output_type": "error",
     "traceback": [
      "\u001b[1;31m---------------------------------------------------------------------------\u001b[0m",
      "\u001b[1;31mTypeError\u001b[0m                                 Traceback (most recent call last)",
      "\u001b[1;32m/home/emerick/Research/dwarfs/analysis/analytic_model/dwarf_model.py\u001b[0m in \u001b[0;36m<lambda>\u001b[1;34m(y, t, A, B)\u001b[0m\n\u001b[0;32m    152\u001b[0m     \u001b[0mode_function\u001b[0m \u001b[1;33m=\u001b[0m \u001b[1;32mlambda\u001b[0m \u001b[0my\u001b[0m\u001b[1;33m,\u001b[0m \u001b[0mt\u001b[0m\u001b[1;33m,\u001b[0m \u001b[0mA\u001b[0m\u001b[1;33m,\u001b[0m \u001b[0mB\u001b[0m\u001b[1;33m:\u001b[0m\u001b[0;31m\\\u001b[0m\u001b[1;33m\u001b[0m\u001b[0m\n\u001b[0;32m    153\u001b[0m                  A *  _KH_evolution(y, t, halo_gas_density, galaxy_velocity,\n\u001b[1;32m--> 154\u001b[1;33m                                                  galaxy_gas_density,physics_kwargs['KH'])+\\\n\u001b[0m\u001b[0;32m    155\u001b[0m                  B * _RPS_evolution(y, t, halo_gas_density, galaxy_velocity,\n\u001b[0;32m    156\u001b[0m                                            galaxy_gas_density, galaxy_gas_density(0.0),physics_kwargs['RPS'])\n",
      "\u001b[1;31mTypeError\u001b[0m: _KH_evolution() takes exactly 5 arguments (6 given)"
     ]
    },
    {
     "ename": "TypeError",
     "evalue": "_KH_evolution() takes exactly 5 arguments (6 given)",
     "output_type": "error",
     "traceback": [
      "\u001b[1;31m---------------------------------------------------------------------------\u001b[0m",
      "\u001b[1;31mTypeError\u001b[0m                                 Traceback (most recent call last)",
      "\u001b[1;32m/home/emerick/Research/dwarfs/analysis/analytic_model/dwarf_model.py\u001b[0m in \u001b[0;36m<lambda>\u001b[1;34m(y, t, A, B)\u001b[0m\n\u001b[0;32m    152\u001b[0m     \u001b[0mode_function\u001b[0m \u001b[1;33m=\u001b[0m \u001b[1;32mlambda\u001b[0m \u001b[0my\u001b[0m\u001b[1;33m,\u001b[0m \u001b[0mt\u001b[0m\u001b[1;33m,\u001b[0m \u001b[0mA\u001b[0m\u001b[1;33m,\u001b[0m \u001b[0mB\u001b[0m\u001b[1;33m:\u001b[0m\u001b[0;31m\\\u001b[0m\u001b[1;33m\u001b[0m\u001b[0m\n\u001b[0;32m    153\u001b[0m                  A *  _KH_evolution(y, t, halo_gas_density, galaxy_velocity,\n\u001b[1;32m--> 154\u001b[1;33m                                                  galaxy_gas_density,physics_kwargs['KH'])+\\\n\u001b[0m\u001b[0;32m    155\u001b[0m                  B * _RPS_evolution(y, t, halo_gas_density, galaxy_velocity,\n\u001b[0;32m    156\u001b[0m                                            galaxy_gas_density, galaxy_gas_density(0.0),physics_kwargs['RPS'])\n",
      "\u001b[1;31mTypeError\u001b[0m: _KH_evolution() takes exactly 5 arguments (6 given)"
     ]
    },
    {
     "ename": "TypeError",
     "evalue": "_KH_evolution() takes exactly 5 arguments (6 given)",
     "output_type": "error",
     "traceback": [
      "\u001b[1;31m---------------------------------------------------------------------------\u001b[0m",
      "\u001b[1;31mTypeError\u001b[0m                                 Traceback (most recent call last)",
      "\u001b[1;32m/home/emerick/Research/dwarfs/analysis/analytic_model/dwarf_model.py\u001b[0m in \u001b[0;36m<lambda>\u001b[1;34m(y, t, A, B)\u001b[0m\n\u001b[0;32m    152\u001b[0m     \u001b[0mode_function\u001b[0m \u001b[1;33m=\u001b[0m \u001b[1;32mlambda\u001b[0m \u001b[0my\u001b[0m\u001b[1;33m,\u001b[0m \u001b[0mt\u001b[0m\u001b[1;33m,\u001b[0m \u001b[0mA\u001b[0m\u001b[1;33m,\u001b[0m \u001b[0mB\u001b[0m\u001b[1;33m:\u001b[0m\u001b[0;31m\\\u001b[0m\u001b[1;33m\u001b[0m\u001b[0m\n\u001b[0;32m    153\u001b[0m                  A *  _KH_evolution(y, t, halo_gas_density, galaxy_velocity,\n\u001b[1;32m--> 154\u001b[1;33m                                                  galaxy_gas_density,physics_kwargs['KH'])+\\\n\u001b[0m\u001b[0;32m    155\u001b[0m                  B * _RPS_evolution(y, t, halo_gas_density, galaxy_velocity,\n\u001b[0;32m    156\u001b[0m                                            galaxy_gas_density, galaxy_gas_density(0.0),physics_kwargs['RPS'])\n",
      "\u001b[1;31mTypeError\u001b[0m: _KH_evolution() takes exactly 5 arguments (6 given)"
     ]
    },
    {
     "ename": "TypeError",
     "evalue": "_KH_evolution() takes exactly 5 arguments (6 given)",
     "output_type": "error",
     "traceback": [
      "\u001b[1;31m---------------------------------------------------------------------------\u001b[0m",
      "\u001b[1;31mTypeError\u001b[0m                                 Traceback (most recent call last)",
      "\u001b[1;32m/home/emerick/Research/dwarfs/analysis/analytic_model/dwarf_model.py\u001b[0m in \u001b[0;36m<lambda>\u001b[1;34m(y, t, A, B)\u001b[0m\n\u001b[0;32m    152\u001b[0m     \u001b[0mode_function\u001b[0m \u001b[1;33m=\u001b[0m \u001b[1;32mlambda\u001b[0m \u001b[0my\u001b[0m\u001b[1;33m,\u001b[0m \u001b[0mt\u001b[0m\u001b[1;33m,\u001b[0m \u001b[0mA\u001b[0m\u001b[1;33m,\u001b[0m \u001b[0mB\u001b[0m\u001b[1;33m:\u001b[0m\u001b[0;31m\\\u001b[0m\u001b[1;33m\u001b[0m\u001b[0m\n\u001b[0;32m    153\u001b[0m                  A *  _KH_evolution(y, t, halo_gas_density, galaxy_velocity,\n\u001b[1;32m--> 154\u001b[1;33m                                                  galaxy_gas_density,physics_kwargs['KH'])+\\\n\u001b[0m\u001b[0;32m    155\u001b[0m                  B * _RPS_evolution(y, t, halo_gas_density, galaxy_velocity,\n\u001b[0;32m    156\u001b[0m                                            galaxy_gas_density, galaxy_gas_density(0.0),physics_kwargs['RPS'])\n",
      "\u001b[1;31mTypeError\u001b[0m: _KH_evolution() takes exactly 5 arguments (6 given)"
     ]
    },
    {
     "ename": "TypeError",
     "evalue": "_KH_evolution() takes exactly 5 arguments (6 given)",
     "output_type": "error",
     "traceback": [
      "\u001b[1;31m---------------------------------------------------------------------------\u001b[0m",
      "\u001b[1;31mTypeError\u001b[0m                                 Traceback (most recent call last)",
      "\u001b[1;32m/home/emerick/Research/dwarfs/analysis/analytic_model/dwarf_model.py\u001b[0m in \u001b[0;36m<lambda>\u001b[1;34m(y, t, A, B)\u001b[0m\n\u001b[0;32m    152\u001b[0m     \u001b[0mode_function\u001b[0m \u001b[1;33m=\u001b[0m \u001b[1;32mlambda\u001b[0m \u001b[0my\u001b[0m\u001b[1;33m,\u001b[0m \u001b[0mt\u001b[0m\u001b[1;33m,\u001b[0m \u001b[0mA\u001b[0m\u001b[1;33m,\u001b[0m \u001b[0mB\u001b[0m\u001b[1;33m:\u001b[0m\u001b[0;31m\\\u001b[0m\u001b[1;33m\u001b[0m\u001b[0m\n\u001b[0;32m    153\u001b[0m                  A *  _KH_evolution(y, t, halo_gas_density, galaxy_velocity,\n\u001b[1;32m--> 154\u001b[1;33m                                                  galaxy_gas_density,physics_kwargs['KH'])+\\\n\u001b[0m\u001b[0;32m    155\u001b[0m                  B * _RPS_evolution(y, t, halo_gas_density, galaxy_velocity,\n\u001b[0;32m    156\u001b[0m                                            galaxy_gas_density, galaxy_gas_density(0.0),physics_kwargs['RPS'])\n",
      "\u001b[1;31mTypeError\u001b[0m: _KH_evolution() takes exactly 5 arguments (6 given)"
     ]
    },
    {
     "ename": "TypeError",
     "evalue": "_KH_evolution() takes exactly 5 arguments (6 given)",
     "output_type": "error",
     "traceback": [
      "\u001b[1;31m---------------------------------------------------------------------------\u001b[0m",
      "\u001b[1;31mTypeError\u001b[0m                                 Traceback (most recent call last)",
      "\u001b[1;32m/home/emerick/Research/dwarfs/analysis/analytic_model/dwarf_model.py\u001b[0m in \u001b[0;36m<lambda>\u001b[1;34m(y, t, A, B)\u001b[0m\n\u001b[0;32m    152\u001b[0m     \u001b[0mode_function\u001b[0m \u001b[1;33m=\u001b[0m \u001b[1;32mlambda\u001b[0m \u001b[0my\u001b[0m\u001b[1;33m,\u001b[0m \u001b[0mt\u001b[0m\u001b[1;33m,\u001b[0m \u001b[0mA\u001b[0m\u001b[1;33m,\u001b[0m \u001b[0mB\u001b[0m\u001b[1;33m:\u001b[0m\u001b[0;31m\\\u001b[0m\u001b[1;33m\u001b[0m\u001b[0m\n\u001b[0;32m    153\u001b[0m                  A *  _KH_evolution(y, t, halo_gas_density, galaxy_velocity,\n\u001b[1;32m--> 154\u001b[1;33m                                                  galaxy_gas_density,physics_kwargs['KH'])+\\\n\u001b[0m\u001b[0;32m    155\u001b[0m                  B * _RPS_evolution(y, t, halo_gas_density, galaxy_velocity,\n\u001b[0;32m    156\u001b[0m                                            galaxy_gas_density, galaxy_gas_density(0.0),physics_kwargs['RPS'])\n",
      "\u001b[1;31mTypeError\u001b[0m: _KH_evolution() takes exactly 5 arguments (6 given)"
     ]
    },
    {
     "ename": "TypeError",
     "evalue": "_KH_evolution() takes exactly 5 arguments (6 given)",
     "output_type": "error",
     "traceback": [
      "\u001b[1;31m---------------------------------------------------------------------------\u001b[0m",
      "\u001b[1;31mTypeError\u001b[0m                                 Traceback (most recent call last)",
      "\u001b[1;32m/home/emerick/Research/dwarfs/analysis/analytic_model/dwarf_model.py\u001b[0m in \u001b[0;36m<lambda>\u001b[1;34m(y, t, A, B)\u001b[0m\n\u001b[0;32m    152\u001b[0m     \u001b[0mode_function\u001b[0m \u001b[1;33m=\u001b[0m \u001b[1;32mlambda\u001b[0m \u001b[0my\u001b[0m\u001b[1;33m,\u001b[0m \u001b[0mt\u001b[0m\u001b[1;33m,\u001b[0m \u001b[0mA\u001b[0m\u001b[1;33m,\u001b[0m \u001b[0mB\u001b[0m\u001b[1;33m:\u001b[0m\u001b[0;31m\\\u001b[0m\u001b[1;33m\u001b[0m\u001b[0m\n\u001b[0;32m    153\u001b[0m                  A *  _KH_evolution(y, t, halo_gas_density, galaxy_velocity,\n\u001b[1;32m--> 154\u001b[1;33m                                                  galaxy_gas_density,physics_kwargs['KH'])+\\\n\u001b[0m\u001b[0;32m    155\u001b[0m                  B * _RPS_evolution(y, t, halo_gas_density, galaxy_velocity,\n\u001b[0;32m    156\u001b[0m                                            galaxy_gas_density, galaxy_gas_density(0.0),physics_kwargs['RPS'])\n",
      "\u001b[1;31mTypeError\u001b[0m: _KH_evolution() takes exactly 5 arguments (6 given)"
     ]
    },
    {
     "ename": "TypeError",
     "evalue": "_KH_evolution() takes exactly 5 arguments (6 given)",
     "output_type": "error",
     "traceback": [
      "\u001b[1;31m---------------------------------------------------------------------------\u001b[0m",
      "\u001b[1;31mTypeError\u001b[0m                                 Traceback (most recent call last)",
      "\u001b[1;32m/home/emerick/Research/dwarfs/analysis/analytic_model/dwarf_model.py\u001b[0m in \u001b[0;36m<lambda>\u001b[1;34m(y, t, A, B)\u001b[0m\n\u001b[0;32m    152\u001b[0m     \u001b[0mode_function\u001b[0m \u001b[1;33m=\u001b[0m \u001b[1;32mlambda\u001b[0m \u001b[0my\u001b[0m\u001b[1;33m,\u001b[0m \u001b[0mt\u001b[0m\u001b[1;33m,\u001b[0m \u001b[0mA\u001b[0m\u001b[1;33m,\u001b[0m \u001b[0mB\u001b[0m\u001b[1;33m:\u001b[0m\u001b[0;31m\\\u001b[0m\u001b[1;33m\u001b[0m\u001b[0m\n\u001b[0;32m    153\u001b[0m                  A *  _KH_evolution(y, t, halo_gas_density, galaxy_velocity,\n\u001b[1;32m--> 154\u001b[1;33m                                                  galaxy_gas_density,physics_kwargs['KH'])+\\\n\u001b[0m\u001b[0;32m    155\u001b[0m                  B * _RPS_evolution(y, t, halo_gas_density, galaxy_velocity,\n\u001b[0;32m    156\u001b[0m                                            galaxy_gas_density, galaxy_gas_density(0.0),physics_kwargs['RPS'])\n",
      "\u001b[1;31mTypeError\u001b[0m: _KH_evolution() takes exactly 5 arguments (6 given)"
     ]
    },
    {
     "ename": "TypeError",
     "evalue": "_KH_evolution() takes exactly 5 arguments (6 given)",
     "output_type": "error",
     "traceback": [
      "\u001b[1;31m---------------------------------------------------------------------------\u001b[0m",
      "\u001b[1;31mTypeError\u001b[0m                                 Traceback (most recent call last)",
      "\u001b[1;32m/home/emerick/Research/dwarfs/analysis/analytic_model/dwarf_model.py\u001b[0m in \u001b[0;36m<lambda>\u001b[1;34m(y, t, A, B)\u001b[0m\n\u001b[0;32m    152\u001b[0m     \u001b[0mode_function\u001b[0m \u001b[1;33m=\u001b[0m \u001b[1;32mlambda\u001b[0m \u001b[0my\u001b[0m\u001b[1;33m,\u001b[0m \u001b[0mt\u001b[0m\u001b[1;33m,\u001b[0m \u001b[0mA\u001b[0m\u001b[1;33m,\u001b[0m \u001b[0mB\u001b[0m\u001b[1;33m:\u001b[0m\u001b[0;31m\\\u001b[0m\u001b[1;33m\u001b[0m\u001b[0m\n\u001b[0;32m    153\u001b[0m                  A *  _KH_evolution(y, t, halo_gas_density, galaxy_velocity,\n\u001b[1;32m--> 154\u001b[1;33m                                                  galaxy_gas_density,physics_kwargs['KH'])+\\\n\u001b[0m\u001b[0;32m    155\u001b[0m                  B * _RPS_evolution(y, t, halo_gas_density, galaxy_velocity,\n\u001b[0;32m    156\u001b[0m                                            galaxy_gas_density, galaxy_gas_density(0.0),physics_kwargs['RPS'])\n",
      "\u001b[1;31mTypeError\u001b[0m: _KH_evolution() takes exactly 5 arguments (6 given)"
     ]
    },
    {
     "ename": "TypeError",
     "evalue": "_KH_evolution() takes exactly 5 arguments (6 given)",
     "output_type": "error",
     "traceback": [
      "\u001b[1;31m---------------------------------------------------------------------------\u001b[0m",
      "\u001b[1;31mTypeError\u001b[0m                                 Traceback (most recent call last)",
      "\u001b[1;32m/home/emerick/Research/dwarfs/analysis/analytic_model/dwarf_model.py\u001b[0m in \u001b[0;36m<lambda>\u001b[1;34m(y, t, A, B)\u001b[0m\n\u001b[0;32m    152\u001b[0m     \u001b[0mode_function\u001b[0m \u001b[1;33m=\u001b[0m \u001b[1;32mlambda\u001b[0m \u001b[0my\u001b[0m\u001b[1;33m,\u001b[0m \u001b[0mt\u001b[0m\u001b[1;33m,\u001b[0m \u001b[0mA\u001b[0m\u001b[1;33m,\u001b[0m \u001b[0mB\u001b[0m\u001b[1;33m:\u001b[0m\u001b[0;31m\\\u001b[0m\u001b[1;33m\u001b[0m\u001b[0m\n\u001b[0;32m    153\u001b[0m                  A *  _KH_evolution(y, t, halo_gas_density, galaxy_velocity,\n\u001b[1;32m--> 154\u001b[1;33m                                                  galaxy_gas_density,physics_kwargs['KH'])+\\\n\u001b[0m\u001b[0;32m    155\u001b[0m                  B * _RPS_evolution(y, t, halo_gas_density, galaxy_velocity,\n\u001b[0;32m    156\u001b[0m                                            galaxy_gas_density, galaxy_gas_density(0.0),physics_kwargs['RPS'])\n",
      "\u001b[1;31mTypeError\u001b[0m: _KH_evolution() takes exactly 5 arguments (6 given)"
     ]
    },
    {
     "ename": "TypeError",
     "evalue": "_KH_evolution() takes exactly 5 arguments (6 given)",
     "output_type": "error",
     "traceback": [
      "\u001b[1;31m---------------------------------------------------------------------------\u001b[0m",
      "\u001b[1;31mTypeError\u001b[0m                                 Traceback (most recent call last)",
      "\u001b[1;32m/home/emerick/Research/dwarfs/analysis/analytic_model/dwarf_model.py\u001b[0m in \u001b[0;36m<lambda>\u001b[1;34m(y, t, A, B)\u001b[0m\n\u001b[0;32m    152\u001b[0m     \u001b[0mode_function\u001b[0m \u001b[1;33m=\u001b[0m \u001b[1;32mlambda\u001b[0m \u001b[0my\u001b[0m\u001b[1;33m,\u001b[0m \u001b[0mt\u001b[0m\u001b[1;33m,\u001b[0m \u001b[0mA\u001b[0m\u001b[1;33m,\u001b[0m \u001b[0mB\u001b[0m\u001b[1;33m:\u001b[0m\u001b[0;31m\\\u001b[0m\u001b[1;33m\u001b[0m\u001b[0m\n\u001b[0;32m    153\u001b[0m                  A *  _KH_evolution(y, t, halo_gas_density, galaxy_velocity,\n\u001b[1;32m--> 154\u001b[1;33m                                                  galaxy_gas_density,physics_kwargs['KH'])+\\\n\u001b[0m\u001b[0;32m    155\u001b[0m                  B * _RPS_evolution(y, t, halo_gas_density, galaxy_velocity,\n\u001b[0;32m    156\u001b[0m                                            galaxy_gas_density, galaxy_gas_density(0.0),physics_kwargs['RPS'])\n",
      "\u001b[1;31mTypeError\u001b[0m: _KH_evolution() takes exactly 5 arguments (6 given)"
     ]
    },
    {
     "ename": "TypeError",
     "evalue": "_KH_evolution() takes exactly 5 arguments (6 given)",
     "output_type": "error",
     "traceback": [
      "\u001b[1;31m---------------------------------------------------------------------------\u001b[0m",
      "\u001b[1;31mTypeError\u001b[0m                                 Traceback (most recent call last)",
      "\u001b[1;32m/home/emerick/Research/dwarfs/analysis/analytic_model/dwarf_model.py\u001b[0m in \u001b[0;36m<lambda>\u001b[1;34m(y, t, A, B)\u001b[0m\n\u001b[0;32m    152\u001b[0m     \u001b[0mode_function\u001b[0m \u001b[1;33m=\u001b[0m \u001b[1;32mlambda\u001b[0m \u001b[0my\u001b[0m\u001b[1;33m,\u001b[0m \u001b[0mt\u001b[0m\u001b[1;33m,\u001b[0m \u001b[0mA\u001b[0m\u001b[1;33m,\u001b[0m \u001b[0mB\u001b[0m\u001b[1;33m:\u001b[0m\u001b[0;31m\\\u001b[0m\u001b[1;33m\u001b[0m\u001b[0m\n\u001b[0;32m    153\u001b[0m                  A *  _KH_evolution(y, t, halo_gas_density, galaxy_velocity,\n\u001b[1;32m--> 154\u001b[1;33m                                                  galaxy_gas_density,physics_kwargs['KH'])+\\\n\u001b[0m\u001b[0;32m    155\u001b[0m                  B * _RPS_evolution(y, t, halo_gas_density, galaxy_velocity,\n\u001b[0;32m    156\u001b[0m                                            galaxy_gas_density, galaxy_gas_density(0.0),physics_kwargs['RPS'])\n",
      "\u001b[1;31mTypeError\u001b[0m: _KH_evolution() takes exactly 5 arguments (6 given)"
     ]
    },
    {
     "ename": "TypeError",
     "evalue": "_KH_evolution() takes exactly 5 arguments (6 given)",
     "output_type": "error",
     "traceback": [
      "\u001b[1;31m---------------------------------------------------------------------------\u001b[0m",
      "\u001b[1;31mTypeError\u001b[0m                                 Traceback (most recent call last)",
      "\u001b[1;32m/home/emerick/Research/dwarfs/analysis/analytic_model/dwarf_model.py\u001b[0m in \u001b[0;36m<lambda>\u001b[1;34m(y, t, A, B)\u001b[0m\n\u001b[0;32m    152\u001b[0m     \u001b[0mode_function\u001b[0m \u001b[1;33m=\u001b[0m \u001b[1;32mlambda\u001b[0m \u001b[0my\u001b[0m\u001b[1;33m,\u001b[0m \u001b[0mt\u001b[0m\u001b[1;33m,\u001b[0m \u001b[0mA\u001b[0m\u001b[1;33m,\u001b[0m \u001b[0mB\u001b[0m\u001b[1;33m:\u001b[0m\u001b[0;31m\\\u001b[0m\u001b[1;33m\u001b[0m\u001b[0m\n\u001b[0;32m    153\u001b[0m                  A *  _KH_evolution(y, t, halo_gas_density, galaxy_velocity,\n\u001b[1;32m--> 154\u001b[1;33m                                                  galaxy_gas_density,physics_kwargs['KH'])+\\\n\u001b[0m\u001b[0;32m    155\u001b[0m                  B * _RPS_evolution(y, t, halo_gas_density, galaxy_velocity,\n\u001b[0;32m    156\u001b[0m                                            galaxy_gas_density, galaxy_gas_density(0.0),physics_kwargs['RPS'])\n",
      "\u001b[1;31mTypeError\u001b[0m: _KH_evolution() takes exactly 5 arguments (6 given)"
     ]
    },
    {
     "ename": "TypeError",
     "evalue": "_KH_evolution() takes exactly 5 arguments (6 given)",
     "output_type": "error",
     "traceback": [
      "\u001b[1;31m---------------------------------------------------------------------------\u001b[0m",
      "\u001b[1;31mTypeError\u001b[0m                                 Traceback (most recent call last)",
      "\u001b[1;32m/home/emerick/Research/dwarfs/analysis/analytic_model/dwarf_model.py\u001b[0m in \u001b[0;36m<lambda>\u001b[1;34m(y, t, A, B)\u001b[0m\n\u001b[0;32m    152\u001b[0m     \u001b[0mode_function\u001b[0m \u001b[1;33m=\u001b[0m \u001b[1;32mlambda\u001b[0m \u001b[0my\u001b[0m\u001b[1;33m,\u001b[0m \u001b[0mt\u001b[0m\u001b[1;33m,\u001b[0m \u001b[0mA\u001b[0m\u001b[1;33m,\u001b[0m \u001b[0mB\u001b[0m\u001b[1;33m:\u001b[0m\u001b[0;31m\\\u001b[0m\u001b[1;33m\u001b[0m\u001b[0m\n\u001b[0;32m    153\u001b[0m                  A *  _KH_evolution(y, t, halo_gas_density, galaxy_velocity,\n\u001b[1;32m--> 154\u001b[1;33m                                                  galaxy_gas_density,physics_kwargs['KH'])+\\\n\u001b[0m\u001b[0;32m    155\u001b[0m                  B * _RPS_evolution(y, t, halo_gas_density, galaxy_velocity,\n\u001b[0;32m    156\u001b[0m                                            galaxy_gas_density, galaxy_gas_density(0.0),physics_kwargs['RPS'])\n",
      "\u001b[1;31mTypeError\u001b[0m: _KH_evolution() takes exactly 5 arguments (6 given)"
     ]
    },
    {
     "ename": "TypeError",
     "evalue": "_KH_evolution() takes exactly 5 arguments (6 given)",
     "output_type": "error",
     "traceback": [
      "\u001b[1;31m---------------------------------------------------------------------------\u001b[0m",
      "\u001b[1;31mTypeError\u001b[0m                                 Traceback (most recent call last)",
      "\u001b[1;32m/home/emerick/Research/dwarfs/analysis/analytic_model/dwarf_model.py\u001b[0m in \u001b[0;36m<lambda>\u001b[1;34m(y, t, A, B)\u001b[0m\n\u001b[0;32m    152\u001b[0m     \u001b[0mode_function\u001b[0m \u001b[1;33m=\u001b[0m \u001b[1;32mlambda\u001b[0m \u001b[0my\u001b[0m\u001b[1;33m,\u001b[0m \u001b[0mt\u001b[0m\u001b[1;33m,\u001b[0m \u001b[0mA\u001b[0m\u001b[1;33m,\u001b[0m \u001b[0mB\u001b[0m\u001b[1;33m:\u001b[0m\u001b[0;31m\\\u001b[0m\u001b[1;33m\u001b[0m\u001b[0m\n\u001b[0;32m    153\u001b[0m                  A *  _KH_evolution(y, t, halo_gas_density, galaxy_velocity,\n\u001b[1;32m--> 154\u001b[1;33m                                                  galaxy_gas_density,physics_kwargs['KH'])+\\\n\u001b[0m\u001b[0;32m    155\u001b[0m                  B * _RPS_evolution(y, t, halo_gas_density, galaxy_velocity,\n\u001b[0;32m    156\u001b[0m                                            galaxy_gas_density, galaxy_gas_density(0.0),physics_kwargs['RPS'])\n",
      "\u001b[1;31mTypeError\u001b[0m: _KH_evolution() takes exactly 5 arguments (6 given)"
     ]
    },
    {
     "ename": "TypeError",
     "evalue": "_KH_evolution() takes exactly 5 arguments (6 given)",
     "output_type": "error",
     "traceback": [
      "\u001b[1;31m---------------------------------------------------------------------------\u001b[0m",
      "\u001b[1;31mTypeError\u001b[0m                                 Traceback (most recent call last)",
      "\u001b[1;32m/home/emerick/Research/dwarfs/analysis/analytic_model/dwarf_model.py\u001b[0m in \u001b[0;36m<lambda>\u001b[1;34m(y, t, A, B)\u001b[0m\n\u001b[0;32m    152\u001b[0m     \u001b[0mode_function\u001b[0m \u001b[1;33m=\u001b[0m \u001b[1;32mlambda\u001b[0m \u001b[0my\u001b[0m\u001b[1;33m,\u001b[0m \u001b[0mt\u001b[0m\u001b[1;33m,\u001b[0m \u001b[0mA\u001b[0m\u001b[1;33m,\u001b[0m \u001b[0mB\u001b[0m\u001b[1;33m:\u001b[0m\u001b[0;31m\\\u001b[0m\u001b[1;33m\u001b[0m\u001b[0m\n\u001b[0;32m    153\u001b[0m                  A *  _KH_evolution(y, t, halo_gas_density, galaxy_velocity,\n\u001b[1;32m--> 154\u001b[1;33m                                                  galaxy_gas_density,physics_kwargs['KH'])+\\\n\u001b[0m\u001b[0;32m    155\u001b[0m                  B * _RPS_evolution(y, t, halo_gas_density, galaxy_velocity,\n\u001b[0;32m    156\u001b[0m                                            galaxy_gas_density, galaxy_gas_density(0.0),physics_kwargs['RPS'])\n",
      "\u001b[1;31mTypeError\u001b[0m: _KH_evolution() takes exactly 5 arguments (6 given)"
     ]
    },
    {
     "ename": "TypeError",
     "evalue": "_KH_evolution() takes exactly 5 arguments (6 given)",
     "output_type": "error",
     "traceback": [
      "\u001b[1;31m---------------------------------------------------------------------------\u001b[0m",
      "\u001b[1;31mTypeError\u001b[0m                                 Traceback (most recent call last)",
      "\u001b[1;32m/home/emerick/Research/dwarfs/analysis/analytic_model/dwarf_model.py\u001b[0m in \u001b[0;36m<lambda>\u001b[1;34m(y, t, A, B)\u001b[0m\n\u001b[0;32m    152\u001b[0m     \u001b[0mode_function\u001b[0m \u001b[1;33m=\u001b[0m \u001b[1;32mlambda\u001b[0m \u001b[0my\u001b[0m\u001b[1;33m,\u001b[0m \u001b[0mt\u001b[0m\u001b[1;33m,\u001b[0m \u001b[0mA\u001b[0m\u001b[1;33m,\u001b[0m \u001b[0mB\u001b[0m\u001b[1;33m:\u001b[0m\u001b[0;31m\\\u001b[0m\u001b[1;33m\u001b[0m\u001b[0m\n\u001b[0;32m    153\u001b[0m                  A *  _KH_evolution(y, t, halo_gas_density, galaxy_velocity,\n\u001b[1;32m--> 154\u001b[1;33m                                                  galaxy_gas_density,physics_kwargs['KH'])+\\\n\u001b[0m\u001b[0;32m    155\u001b[0m                  B * _RPS_evolution(y, t, halo_gas_density, galaxy_velocity,\n\u001b[0;32m    156\u001b[0m                                            galaxy_gas_density, galaxy_gas_density(0.0),physics_kwargs['RPS'])\n",
      "\u001b[1;31mTypeError\u001b[0m: _KH_evolution() takes exactly 5 arguments (6 given)"
     ]
    },
    {
     "ename": "TypeError",
     "evalue": "_KH_evolution() takes exactly 5 arguments (6 given)",
     "output_type": "error",
     "traceback": [
      "\u001b[1;31m---------------------------------------------------------------------------\u001b[0m",
      "\u001b[1;31mTypeError\u001b[0m                                 Traceback (most recent call last)",
      "\u001b[1;32m/home/emerick/Research/dwarfs/analysis/analytic_model/dwarf_model.py\u001b[0m in \u001b[0;36m<lambda>\u001b[1;34m(y, t, A, B)\u001b[0m\n\u001b[0;32m    152\u001b[0m     \u001b[0mode_function\u001b[0m \u001b[1;33m=\u001b[0m \u001b[1;32mlambda\u001b[0m \u001b[0my\u001b[0m\u001b[1;33m,\u001b[0m \u001b[0mt\u001b[0m\u001b[1;33m,\u001b[0m \u001b[0mA\u001b[0m\u001b[1;33m,\u001b[0m \u001b[0mB\u001b[0m\u001b[1;33m:\u001b[0m\u001b[0;31m\\\u001b[0m\u001b[1;33m\u001b[0m\u001b[0m\n\u001b[0;32m    153\u001b[0m                  A *  _KH_evolution(y, t, halo_gas_density, galaxy_velocity,\n\u001b[1;32m--> 154\u001b[1;33m                                                  galaxy_gas_density,physics_kwargs['KH'])+\\\n\u001b[0m\u001b[0;32m    155\u001b[0m                  B * _RPS_evolution(y, t, halo_gas_density, galaxy_velocity,\n\u001b[0;32m    156\u001b[0m                                            galaxy_gas_density, galaxy_gas_density(0.0),physics_kwargs['RPS'])\n",
      "\u001b[1;31mTypeError\u001b[0m: _KH_evolution() takes exactly 5 arguments (6 given)"
     ]
    },
    {
     "ename": "TypeError",
     "evalue": "_KH_evolution() takes exactly 5 arguments (6 given)",
     "output_type": "error",
     "traceback": [
      "\u001b[1;31m---------------------------------------------------------------------------\u001b[0m",
      "\u001b[1;31mTypeError\u001b[0m                                 Traceback (most recent call last)",
      "\u001b[1;32m/home/emerick/Research/dwarfs/analysis/analytic_model/dwarf_model.py\u001b[0m in \u001b[0;36m<lambda>\u001b[1;34m(y, t, A, B)\u001b[0m\n\u001b[0;32m    152\u001b[0m     \u001b[0mode_function\u001b[0m \u001b[1;33m=\u001b[0m \u001b[1;32mlambda\u001b[0m \u001b[0my\u001b[0m\u001b[1;33m,\u001b[0m \u001b[0mt\u001b[0m\u001b[1;33m,\u001b[0m \u001b[0mA\u001b[0m\u001b[1;33m,\u001b[0m \u001b[0mB\u001b[0m\u001b[1;33m:\u001b[0m\u001b[0;31m\\\u001b[0m\u001b[1;33m\u001b[0m\u001b[0m\n\u001b[0;32m    153\u001b[0m                  A *  _KH_evolution(y, t, halo_gas_density, galaxy_velocity,\n\u001b[1;32m--> 154\u001b[1;33m                                                  galaxy_gas_density,physics_kwargs['KH'])+\\\n\u001b[0m\u001b[0;32m    155\u001b[0m                  B * _RPS_evolution(y, t, halo_gas_density, galaxy_velocity,\n\u001b[0;32m    156\u001b[0m                                            galaxy_gas_density, galaxy_gas_density(0.0),physics_kwargs['RPS'])\n",
      "\u001b[1;31mTypeError\u001b[0m: _KH_evolution() takes exactly 5 arguments (6 given)"
     ]
    },
    {
     "ename": "TypeError",
     "evalue": "_KH_evolution() takes exactly 5 arguments (6 given)",
     "output_type": "error",
     "traceback": [
      "\u001b[1;31m---------------------------------------------------------------------------\u001b[0m",
      "\u001b[1;31mTypeError\u001b[0m                                 Traceback (most recent call last)",
      "\u001b[1;32m/home/emerick/Research/dwarfs/analysis/analytic_model/dwarf_model.py\u001b[0m in \u001b[0;36m<lambda>\u001b[1;34m(y, t, A, B)\u001b[0m\n\u001b[0;32m    152\u001b[0m     \u001b[0mode_function\u001b[0m \u001b[1;33m=\u001b[0m \u001b[1;32mlambda\u001b[0m \u001b[0my\u001b[0m\u001b[1;33m,\u001b[0m \u001b[0mt\u001b[0m\u001b[1;33m,\u001b[0m \u001b[0mA\u001b[0m\u001b[1;33m,\u001b[0m \u001b[0mB\u001b[0m\u001b[1;33m:\u001b[0m\u001b[0;31m\\\u001b[0m\u001b[1;33m\u001b[0m\u001b[0m\n\u001b[0;32m    153\u001b[0m                  A *  _KH_evolution(y, t, halo_gas_density, galaxy_velocity,\n\u001b[1;32m--> 154\u001b[1;33m                                                  galaxy_gas_density,physics_kwargs['KH'])+\\\n\u001b[0m\u001b[0;32m    155\u001b[0m                  B * _RPS_evolution(y, t, halo_gas_density, galaxy_velocity,\n\u001b[0;32m    156\u001b[0m                                            galaxy_gas_density, galaxy_gas_density(0.0),physics_kwargs['RPS'])\n",
      "\u001b[1;31mTypeError\u001b[0m: _KH_evolution() takes exactly 5 arguments (6 given)"
     ]
    },
    {
     "ename": "TypeError",
     "evalue": "_KH_evolution() takes exactly 5 arguments (6 given)",
     "output_type": "error",
     "traceback": [
      "\u001b[1;31m---------------------------------------------------------------------------\u001b[0m",
      "\u001b[1;31mTypeError\u001b[0m                                 Traceback (most recent call last)",
      "\u001b[1;32m/home/emerick/Research/dwarfs/analysis/analytic_model/dwarf_model.py\u001b[0m in \u001b[0;36m<lambda>\u001b[1;34m(y, t, A, B)\u001b[0m\n\u001b[0;32m    152\u001b[0m     \u001b[0mode_function\u001b[0m \u001b[1;33m=\u001b[0m \u001b[1;32mlambda\u001b[0m \u001b[0my\u001b[0m\u001b[1;33m,\u001b[0m \u001b[0mt\u001b[0m\u001b[1;33m,\u001b[0m \u001b[0mA\u001b[0m\u001b[1;33m,\u001b[0m \u001b[0mB\u001b[0m\u001b[1;33m:\u001b[0m\u001b[0;31m\\\u001b[0m\u001b[1;33m\u001b[0m\u001b[0m\n\u001b[0;32m    153\u001b[0m                  A *  _KH_evolution(y, t, halo_gas_density, galaxy_velocity,\n\u001b[1;32m--> 154\u001b[1;33m                                                  galaxy_gas_density,physics_kwargs['KH'])+\\\n\u001b[0m\u001b[0;32m    155\u001b[0m                  B * _RPS_evolution(y, t, halo_gas_density, galaxy_velocity,\n\u001b[0;32m    156\u001b[0m                                            galaxy_gas_density, galaxy_gas_density(0.0),physics_kwargs['RPS'])\n",
      "\u001b[1;31mTypeError\u001b[0m: _KH_evolution() takes exactly 5 arguments (6 given)"
     ]
    },
    {
     "ename": "TypeError",
     "evalue": "_KH_evolution() takes exactly 5 arguments (6 given)",
     "output_type": "error",
     "traceback": [
      "\u001b[1;31m---------------------------------------------------------------------------\u001b[0m",
      "\u001b[1;31mTypeError\u001b[0m                                 Traceback (most recent call last)",
      "\u001b[1;32m/home/emerick/Research/dwarfs/analysis/analytic_model/dwarf_model.py\u001b[0m in \u001b[0;36m<lambda>\u001b[1;34m(y, t, A, B)\u001b[0m\n\u001b[0;32m    152\u001b[0m     \u001b[0mode_function\u001b[0m \u001b[1;33m=\u001b[0m \u001b[1;32mlambda\u001b[0m \u001b[0my\u001b[0m\u001b[1;33m,\u001b[0m \u001b[0mt\u001b[0m\u001b[1;33m,\u001b[0m \u001b[0mA\u001b[0m\u001b[1;33m,\u001b[0m \u001b[0mB\u001b[0m\u001b[1;33m:\u001b[0m\u001b[0;31m\\\u001b[0m\u001b[1;33m\u001b[0m\u001b[0m\n\u001b[0;32m    153\u001b[0m                  A *  _KH_evolution(y, t, halo_gas_density, galaxy_velocity,\n\u001b[1;32m--> 154\u001b[1;33m                                                  galaxy_gas_density,physics_kwargs['KH'])+\\\n\u001b[0m\u001b[0;32m    155\u001b[0m                  B * _RPS_evolution(y, t, halo_gas_density, galaxy_velocity,\n\u001b[0;32m    156\u001b[0m                                            galaxy_gas_density, galaxy_gas_density(0.0),physics_kwargs['RPS'])\n",
      "\u001b[1;31mTypeError\u001b[0m: _KH_evolution() takes exactly 5 arguments (6 given)"
     ]
    },
    {
     "ename": "TypeError",
     "evalue": "_KH_evolution() takes exactly 5 arguments (6 given)",
     "output_type": "error",
     "traceback": [
      "\u001b[1;31m---------------------------------------------------------------------------\u001b[0m",
      "\u001b[1;31mTypeError\u001b[0m                                 Traceback (most recent call last)",
      "\u001b[1;32m/home/emerick/Research/dwarfs/analysis/analytic_model/dwarf_model.py\u001b[0m in \u001b[0;36m<lambda>\u001b[1;34m(y, t, A, B)\u001b[0m\n\u001b[0;32m    152\u001b[0m     \u001b[0mode_function\u001b[0m \u001b[1;33m=\u001b[0m \u001b[1;32mlambda\u001b[0m \u001b[0my\u001b[0m\u001b[1;33m,\u001b[0m \u001b[0mt\u001b[0m\u001b[1;33m,\u001b[0m \u001b[0mA\u001b[0m\u001b[1;33m,\u001b[0m \u001b[0mB\u001b[0m\u001b[1;33m:\u001b[0m\u001b[0;31m\\\u001b[0m\u001b[1;33m\u001b[0m\u001b[0m\n\u001b[0;32m    153\u001b[0m                  A *  _KH_evolution(y, t, halo_gas_density, galaxy_velocity,\n\u001b[1;32m--> 154\u001b[1;33m                                                  galaxy_gas_density,physics_kwargs['KH'])+\\\n\u001b[0m\u001b[0;32m    155\u001b[0m                  B * _RPS_evolution(y, t, halo_gas_density, galaxy_velocity,\n\u001b[0;32m    156\u001b[0m                                            galaxy_gas_density, galaxy_gas_density(0.0),physics_kwargs['RPS'])\n",
      "\u001b[1;31mTypeError\u001b[0m: _KH_evolution() takes exactly 5 arguments (6 given)"
     ]
    },
    {
     "ename": "TypeError",
     "evalue": "_KH_evolution() takes exactly 5 arguments (6 given)",
     "output_type": "error",
     "traceback": [
      "\u001b[1;31m---------------------------------------------------------------------------\u001b[0m",
      "\u001b[1;31mTypeError\u001b[0m                                 Traceback (most recent call last)",
      "\u001b[1;32m/home/emerick/Research/dwarfs/analysis/analytic_model/dwarf_model.py\u001b[0m in \u001b[0;36m<lambda>\u001b[1;34m(y, t, A, B)\u001b[0m\n\u001b[0;32m    152\u001b[0m     \u001b[0mode_function\u001b[0m \u001b[1;33m=\u001b[0m \u001b[1;32mlambda\u001b[0m \u001b[0my\u001b[0m\u001b[1;33m,\u001b[0m \u001b[0mt\u001b[0m\u001b[1;33m,\u001b[0m \u001b[0mA\u001b[0m\u001b[1;33m,\u001b[0m \u001b[0mB\u001b[0m\u001b[1;33m:\u001b[0m\u001b[0;31m\\\u001b[0m\u001b[1;33m\u001b[0m\u001b[0m\n\u001b[0;32m    153\u001b[0m                  A *  _KH_evolution(y, t, halo_gas_density, galaxy_velocity,\n\u001b[1;32m--> 154\u001b[1;33m                                                  galaxy_gas_density,physics_kwargs['KH'])+\\\n\u001b[0m\u001b[0;32m    155\u001b[0m                  B * _RPS_evolution(y, t, halo_gas_density, galaxy_velocity,\n\u001b[0;32m    156\u001b[0m                                            galaxy_gas_density, galaxy_gas_density(0.0),physics_kwargs['RPS'])\n",
      "\u001b[1;31mTypeError\u001b[0m: _KH_evolution() takes exactly 5 arguments (6 given)"
     ]
    },
    {
     "ename": "TypeError",
     "evalue": "_KH_evolution() takes exactly 5 arguments (6 given)",
     "output_type": "error",
     "traceback": [
      "\u001b[1;31m---------------------------------------------------------------------------\u001b[0m",
      "\u001b[1;31mTypeError\u001b[0m                                 Traceback (most recent call last)",
      "\u001b[1;32m/home/emerick/Research/dwarfs/analysis/analytic_model/dwarf_model.py\u001b[0m in \u001b[0;36m<lambda>\u001b[1;34m(y, t, A, B)\u001b[0m\n\u001b[0;32m    152\u001b[0m     \u001b[0mode_function\u001b[0m \u001b[1;33m=\u001b[0m \u001b[1;32mlambda\u001b[0m \u001b[0my\u001b[0m\u001b[1;33m,\u001b[0m \u001b[0mt\u001b[0m\u001b[1;33m,\u001b[0m \u001b[0mA\u001b[0m\u001b[1;33m,\u001b[0m \u001b[0mB\u001b[0m\u001b[1;33m:\u001b[0m\u001b[0;31m\\\u001b[0m\u001b[1;33m\u001b[0m\u001b[0m\n\u001b[0;32m    153\u001b[0m                  A *  _KH_evolution(y, t, halo_gas_density, galaxy_velocity,\n\u001b[1;32m--> 154\u001b[1;33m                                                  galaxy_gas_density,physics_kwargs['KH'])+\\\n\u001b[0m\u001b[0;32m    155\u001b[0m                  B * _RPS_evolution(y, t, halo_gas_density, galaxy_velocity,\n\u001b[0;32m    156\u001b[0m                                            galaxy_gas_density, galaxy_gas_density(0.0),physics_kwargs['RPS'])\n",
      "\u001b[1;31mTypeError\u001b[0m: _KH_evolution() takes exactly 5 arguments (6 given)"
     ]
    },
    {
     "ename": "TypeError",
     "evalue": "_KH_evolution() takes exactly 5 arguments (6 given)",
     "output_type": "error",
     "traceback": [
      "\u001b[1;31m---------------------------------------------------------------------------\u001b[0m",
      "\u001b[1;31mTypeError\u001b[0m                                 Traceback (most recent call last)",
      "\u001b[1;32m/home/emerick/Research/dwarfs/analysis/analytic_model/dwarf_model.py\u001b[0m in \u001b[0;36m<lambda>\u001b[1;34m(y, t, A, B)\u001b[0m\n\u001b[0;32m    152\u001b[0m     \u001b[0mode_function\u001b[0m \u001b[1;33m=\u001b[0m \u001b[1;32mlambda\u001b[0m \u001b[0my\u001b[0m\u001b[1;33m,\u001b[0m \u001b[0mt\u001b[0m\u001b[1;33m,\u001b[0m \u001b[0mA\u001b[0m\u001b[1;33m,\u001b[0m \u001b[0mB\u001b[0m\u001b[1;33m:\u001b[0m\u001b[0;31m\\\u001b[0m\u001b[1;33m\u001b[0m\u001b[0m\n\u001b[0;32m    153\u001b[0m                  A *  _KH_evolution(y, t, halo_gas_density, galaxy_velocity,\n\u001b[1;32m--> 154\u001b[1;33m                                                  galaxy_gas_density,physics_kwargs['KH'])+\\\n\u001b[0m\u001b[0;32m    155\u001b[0m                  B * _RPS_evolution(y, t, halo_gas_density, galaxy_velocity,\n\u001b[0;32m    156\u001b[0m                                            galaxy_gas_density, galaxy_gas_density(0.0),physics_kwargs['RPS'])\n",
      "\u001b[1;31mTypeError\u001b[0m: _KH_evolution() takes exactly 5 arguments (6 given)"
     ]
    },
    {
     "ename": "TypeError",
     "evalue": "_KH_evolution() takes exactly 5 arguments (6 given)",
     "output_type": "error",
     "traceback": [
      "\u001b[1;31m---------------------------------------------------------------------------\u001b[0m",
      "\u001b[1;31mTypeError\u001b[0m                                 Traceback (most recent call last)",
      "\u001b[1;32m/home/emerick/Research/dwarfs/analysis/analytic_model/dwarf_model.py\u001b[0m in \u001b[0;36m<lambda>\u001b[1;34m(y, t, A, B)\u001b[0m\n\u001b[0;32m    152\u001b[0m     \u001b[0mode_function\u001b[0m \u001b[1;33m=\u001b[0m \u001b[1;32mlambda\u001b[0m \u001b[0my\u001b[0m\u001b[1;33m,\u001b[0m \u001b[0mt\u001b[0m\u001b[1;33m,\u001b[0m \u001b[0mA\u001b[0m\u001b[1;33m,\u001b[0m \u001b[0mB\u001b[0m\u001b[1;33m:\u001b[0m\u001b[0;31m\\\u001b[0m\u001b[1;33m\u001b[0m\u001b[0m\n\u001b[0;32m    153\u001b[0m                  A *  _KH_evolution(y, t, halo_gas_density, galaxy_velocity,\n\u001b[1;32m--> 154\u001b[1;33m                                                  galaxy_gas_density,physics_kwargs['KH'])+\\\n\u001b[0m\u001b[0;32m    155\u001b[0m                  B * _RPS_evolution(y, t, halo_gas_density, galaxy_velocity,\n\u001b[0;32m    156\u001b[0m                                            galaxy_gas_density, galaxy_gas_density(0.0),physics_kwargs['RPS'])\n",
      "\u001b[1;31mTypeError\u001b[0m: _KH_evolution() takes exactly 5 arguments (6 given)"
     ]
    },
    {
     "ename": "TypeError",
     "evalue": "_KH_evolution() takes exactly 5 arguments (6 given)",
     "output_type": "error",
     "traceback": [
      "\u001b[1;31m---------------------------------------------------------------------------\u001b[0m",
      "\u001b[1;31mTypeError\u001b[0m                                 Traceback (most recent call last)",
      "\u001b[1;32m/home/emerick/Research/dwarfs/analysis/analytic_model/dwarf_model.py\u001b[0m in \u001b[0;36m<lambda>\u001b[1;34m(y, t, A, B)\u001b[0m\n\u001b[0;32m    152\u001b[0m     \u001b[0mode_function\u001b[0m \u001b[1;33m=\u001b[0m \u001b[1;32mlambda\u001b[0m \u001b[0my\u001b[0m\u001b[1;33m,\u001b[0m \u001b[0mt\u001b[0m\u001b[1;33m,\u001b[0m \u001b[0mA\u001b[0m\u001b[1;33m,\u001b[0m \u001b[0mB\u001b[0m\u001b[1;33m:\u001b[0m\u001b[0;31m\\\u001b[0m\u001b[1;33m\u001b[0m\u001b[0m\n\u001b[0;32m    153\u001b[0m                  A *  _KH_evolution(y, t, halo_gas_density, galaxy_velocity,\n\u001b[1;32m--> 154\u001b[1;33m                                                  galaxy_gas_density,physics_kwargs['KH'])+\\\n\u001b[0m\u001b[0;32m    155\u001b[0m                  B * _RPS_evolution(y, t, halo_gas_density, galaxy_velocity,\n\u001b[0;32m    156\u001b[0m                                            galaxy_gas_density, galaxy_gas_density(0.0),physics_kwargs['RPS'])\n",
      "\u001b[1;31mTypeError\u001b[0m: _KH_evolution() takes exactly 5 arguments (6 given)"
     ]
    },
    {
     "ename": "TypeError",
     "evalue": "_KH_evolution() takes exactly 5 arguments (6 given)",
     "output_type": "error",
     "traceback": [
      "\u001b[1;31m---------------------------------------------------------------------------\u001b[0m",
      "\u001b[1;31mTypeError\u001b[0m                                 Traceback (most recent call last)",
      "\u001b[1;32m/home/emerick/Research/dwarfs/analysis/analytic_model/dwarf_model.py\u001b[0m in \u001b[0;36m<lambda>\u001b[1;34m(y, t, A, B)\u001b[0m\n\u001b[0;32m    152\u001b[0m     \u001b[0mode_function\u001b[0m \u001b[1;33m=\u001b[0m \u001b[1;32mlambda\u001b[0m \u001b[0my\u001b[0m\u001b[1;33m,\u001b[0m \u001b[0mt\u001b[0m\u001b[1;33m,\u001b[0m \u001b[0mA\u001b[0m\u001b[1;33m,\u001b[0m \u001b[0mB\u001b[0m\u001b[1;33m:\u001b[0m\u001b[0;31m\\\u001b[0m\u001b[1;33m\u001b[0m\u001b[0m\n\u001b[0;32m    153\u001b[0m                  A *  _KH_evolution(y, t, halo_gas_density, galaxy_velocity,\n\u001b[1;32m--> 154\u001b[1;33m                                                  galaxy_gas_density,physics_kwargs['KH'])+\\\n\u001b[0m\u001b[0;32m    155\u001b[0m                  B * _RPS_evolution(y, t, halo_gas_density, galaxy_velocity,\n\u001b[0;32m    156\u001b[0m                                            galaxy_gas_density, galaxy_gas_density(0.0),physics_kwargs['RPS'])\n",
      "\u001b[1;31mTypeError\u001b[0m: _KH_evolution() takes exactly 5 arguments (6 given)"
     ]
    },
    {
     "ename": "TypeError",
     "evalue": "_KH_evolution() takes exactly 5 arguments (6 given)",
     "output_type": "error",
     "traceback": [
      "\u001b[1;31m---------------------------------------------------------------------------\u001b[0m",
      "\u001b[1;31mTypeError\u001b[0m                                 Traceback (most recent call last)",
      "\u001b[1;32m/home/emerick/Research/dwarfs/analysis/analytic_model/dwarf_model.py\u001b[0m in \u001b[0;36m<lambda>\u001b[1;34m(y, t, A, B)\u001b[0m\n\u001b[0;32m    152\u001b[0m     \u001b[0mode_function\u001b[0m \u001b[1;33m=\u001b[0m \u001b[1;32mlambda\u001b[0m \u001b[0my\u001b[0m\u001b[1;33m,\u001b[0m \u001b[0mt\u001b[0m\u001b[1;33m,\u001b[0m \u001b[0mA\u001b[0m\u001b[1;33m,\u001b[0m \u001b[0mB\u001b[0m\u001b[1;33m:\u001b[0m\u001b[0;31m\\\u001b[0m\u001b[1;33m\u001b[0m\u001b[0m\n\u001b[0;32m    153\u001b[0m                  A *  _KH_evolution(y, t, halo_gas_density, galaxy_velocity,\n\u001b[1;32m--> 154\u001b[1;33m                                                  galaxy_gas_density,physics_kwargs['KH'])+\\\n\u001b[0m\u001b[0;32m    155\u001b[0m                  B * _RPS_evolution(y, t, halo_gas_density, galaxy_velocity,\n\u001b[0;32m    156\u001b[0m                                            galaxy_gas_density, galaxy_gas_density(0.0),physics_kwargs['RPS'])\n",
      "\u001b[1;31mTypeError\u001b[0m: _KH_evolution() takes exactly 5 arguments (6 given)"
     ]
    },
    {
     "ename": "TypeError",
     "evalue": "_KH_evolution() takes exactly 5 arguments (6 given)",
     "output_type": "error",
     "traceback": [
      "\u001b[1;31m---------------------------------------------------------------------------\u001b[0m",
      "\u001b[1;31mTypeError\u001b[0m                                 Traceback (most recent call last)",
      "\u001b[1;32m/home/emerick/Research/dwarfs/analysis/analytic_model/dwarf_model.py\u001b[0m in \u001b[0;36m<lambda>\u001b[1;34m(y, t, A, B)\u001b[0m\n\u001b[0;32m    152\u001b[0m     \u001b[0mode_function\u001b[0m \u001b[1;33m=\u001b[0m \u001b[1;32mlambda\u001b[0m \u001b[0my\u001b[0m\u001b[1;33m,\u001b[0m \u001b[0mt\u001b[0m\u001b[1;33m,\u001b[0m \u001b[0mA\u001b[0m\u001b[1;33m,\u001b[0m \u001b[0mB\u001b[0m\u001b[1;33m:\u001b[0m\u001b[0;31m\\\u001b[0m\u001b[1;33m\u001b[0m\u001b[0m\n\u001b[0;32m    153\u001b[0m                  A *  _KH_evolution(y, t, halo_gas_density, galaxy_velocity,\n\u001b[1;32m--> 154\u001b[1;33m                                                  galaxy_gas_density,physics_kwargs['KH'])+\\\n\u001b[0m\u001b[0;32m    155\u001b[0m                  B * _RPS_evolution(y, t, halo_gas_density, galaxy_velocity,\n\u001b[0;32m    156\u001b[0m                                            galaxy_gas_density, galaxy_gas_density(0.0),physics_kwargs['RPS'])\n",
      "\u001b[1;31mTypeError\u001b[0m: _KH_evolution() takes exactly 5 arguments (6 given)"
     ]
    },
    {
     "ename": "TypeError",
     "evalue": "_KH_evolution() takes exactly 5 arguments (6 given)",
     "output_type": "error",
     "traceback": [
      "\u001b[1;31m---------------------------------------------------------------------------\u001b[0m",
      "\u001b[1;31mTypeError\u001b[0m                                 Traceback (most recent call last)",
      "\u001b[1;32m/home/emerick/Research/dwarfs/analysis/analytic_model/dwarf_model.py\u001b[0m in \u001b[0;36m<lambda>\u001b[1;34m(y, t, A, B)\u001b[0m\n\u001b[0;32m    152\u001b[0m     \u001b[0mode_function\u001b[0m \u001b[1;33m=\u001b[0m \u001b[1;32mlambda\u001b[0m \u001b[0my\u001b[0m\u001b[1;33m,\u001b[0m \u001b[0mt\u001b[0m\u001b[1;33m,\u001b[0m \u001b[0mA\u001b[0m\u001b[1;33m,\u001b[0m \u001b[0mB\u001b[0m\u001b[1;33m:\u001b[0m\u001b[0;31m\\\u001b[0m\u001b[1;33m\u001b[0m\u001b[0m\n\u001b[0;32m    153\u001b[0m                  A *  _KH_evolution(y, t, halo_gas_density, galaxy_velocity,\n\u001b[1;32m--> 154\u001b[1;33m                                                  galaxy_gas_density,physics_kwargs['KH'])+\\\n\u001b[0m\u001b[0;32m    155\u001b[0m                  B * _RPS_evolution(y, t, halo_gas_density, galaxy_velocity,\n\u001b[0;32m    156\u001b[0m                                            galaxy_gas_density, galaxy_gas_density(0.0),physics_kwargs['RPS'])\n",
      "\u001b[1;31mTypeError\u001b[0m: _KH_evolution() takes exactly 5 arguments (6 given)"
     ]
    },
    {
     "ename": "TypeError",
     "evalue": "_KH_evolution() takes exactly 5 arguments (6 given)",
     "output_type": "error",
     "traceback": [
      "\u001b[1;31m---------------------------------------------------------------------------\u001b[0m",
      "\u001b[1;31mTypeError\u001b[0m                                 Traceback (most recent call last)",
      "\u001b[1;32m/home/emerick/Research/dwarfs/analysis/analytic_model/dwarf_model.py\u001b[0m in \u001b[0;36m<lambda>\u001b[1;34m(y, t, A, B)\u001b[0m\n\u001b[0;32m    152\u001b[0m     \u001b[0mode_function\u001b[0m \u001b[1;33m=\u001b[0m \u001b[1;32mlambda\u001b[0m \u001b[0my\u001b[0m\u001b[1;33m,\u001b[0m \u001b[0mt\u001b[0m\u001b[1;33m,\u001b[0m \u001b[0mA\u001b[0m\u001b[1;33m,\u001b[0m \u001b[0mB\u001b[0m\u001b[1;33m:\u001b[0m\u001b[0;31m\\\u001b[0m\u001b[1;33m\u001b[0m\u001b[0m\n\u001b[0;32m    153\u001b[0m                  A *  _KH_evolution(y, t, halo_gas_density, galaxy_velocity,\n\u001b[1;32m--> 154\u001b[1;33m                                                  galaxy_gas_density,physics_kwargs['KH'])+\\\n\u001b[0m\u001b[0;32m    155\u001b[0m                  B * _RPS_evolution(y, t, halo_gas_density, galaxy_velocity,\n\u001b[0;32m    156\u001b[0m                                            galaxy_gas_density, galaxy_gas_density(0.0),physics_kwargs['RPS'])\n",
      "\u001b[1;31mTypeError\u001b[0m: _KH_evolution() takes exactly 5 arguments (6 given)"
     ]
    },
    {
     "ename": "TypeError",
     "evalue": "_KH_evolution() takes exactly 5 arguments (6 given)",
     "output_type": "error",
     "traceback": [
      "\u001b[1;31m---------------------------------------------------------------------------\u001b[0m",
      "\u001b[1;31mTypeError\u001b[0m                                 Traceback (most recent call last)",
      "\u001b[1;32m/home/emerick/Research/dwarfs/analysis/analytic_model/dwarf_model.py\u001b[0m in \u001b[0;36m<lambda>\u001b[1;34m(y, t, A, B)\u001b[0m\n\u001b[0;32m    152\u001b[0m     \u001b[0mode_function\u001b[0m \u001b[1;33m=\u001b[0m \u001b[1;32mlambda\u001b[0m \u001b[0my\u001b[0m\u001b[1;33m,\u001b[0m \u001b[0mt\u001b[0m\u001b[1;33m,\u001b[0m \u001b[0mA\u001b[0m\u001b[1;33m,\u001b[0m \u001b[0mB\u001b[0m\u001b[1;33m:\u001b[0m\u001b[0;31m\\\u001b[0m\u001b[1;33m\u001b[0m\u001b[0m\n\u001b[0;32m    153\u001b[0m                  A *  _KH_evolution(y, t, halo_gas_density, galaxy_velocity,\n\u001b[1;32m--> 154\u001b[1;33m                                                  galaxy_gas_density,physics_kwargs['KH'])+\\\n\u001b[0m\u001b[0;32m    155\u001b[0m                  B * _RPS_evolution(y, t, halo_gas_density, galaxy_velocity,\n\u001b[0;32m    156\u001b[0m                                            galaxy_gas_density, galaxy_gas_density(0.0),physics_kwargs['RPS'])\n",
      "\u001b[1;31mTypeError\u001b[0m: _KH_evolution() takes exactly 5 arguments (6 given)"
     ]
    },
    {
     "ename": "TypeError",
     "evalue": "_KH_evolution() takes exactly 5 arguments (6 given)",
     "output_type": "error",
     "traceback": [
      "\u001b[1;31m---------------------------------------------------------------------------\u001b[0m",
      "\u001b[1;31mTypeError\u001b[0m                                 Traceback (most recent call last)",
      "\u001b[1;32m/home/emerick/Research/dwarfs/analysis/analytic_model/dwarf_model.py\u001b[0m in \u001b[0;36m<lambda>\u001b[1;34m(y, t, A, B)\u001b[0m\n\u001b[0;32m    152\u001b[0m     \u001b[0mode_function\u001b[0m \u001b[1;33m=\u001b[0m \u001b[1;32mlambda\u001b[0m \u001b[0my\u001b[0m\u001b[1;33m,\u001b[0m \u001b[0mt\u001b[0m\u001b[1;33m,\u001b[0m \u001b[0mA\u001b[0m\u001b[1;33m,\u001b[0m \u001b[0mB\u001b[0m\u001b[1;33m:\u001b[0m\u001b[0;31m\\\u001b[0m\u001b[1;33m\u001b[0m\u001b[0m\n\u001b[0;32m    153\u001b[0m                  A *  _KH_evolution(y, t, halo_gas_density, galaxy_velocity,\n\u001b[1;32m--> 154\u001b[1;33m                                                  galaxy_gas_density,physics_kwargs['KH'])+\\\n\u001b[0m\u001b[0;32m    155\u001b[0m                  B * _RPS_evolution(y, t, halo_gas_density, galaxy_velocity,\n\u001b[0;32m    156\u001b[0m                                            galaxy_gas_density, galaxy_gas_density(0.0),physics_kwargs['RPS'])\n",
      "\u001b[1;31mTypeError\u001b[0m: _KH_evolution() takes exactly 5 arguments (6 given)"
     ]
    },
    {
     "ename": "TypeError",
     "evalue": "_KH_evolution() takes exactly 5 arguments (6 given)",
     "output_type": "error",
     "traceback": [
      "\u001b[1;31m---------------------------------------------------------------------------\u001b[0m",
      "\u001b[1;31mTypeError\u001b[0m                                 Traceback (most recent call last)",
      "\u001b[1;32m/home/emerick/Research/dwarfs/analysis/analytic_model/dwarf_model.py\u001b[0m in \u001b[0;36m<lambda>\u001b[1;34m(y, t, A, B)\u001b[0m\n\u001b[0;32m    152\u001b[0m     \u001b[0mode_function\u001b[0m \u001b[1;33m=\u001b[0m \u001b[1;32mlambda\u001b[0m \u001b[0my\u001b[0m\u001b[1;33m,\u001b[0m \u001b[0mt\u001b[0m\u001b[1;33m,\u001b[0m \u001b[0mA\u001b[0m\u001b[1;33m,\u001b[0m \u001b[0mB\u001b[0m\u001b[1;33m:\u001b[0m\u001b[0;31m\\\u001b[0m\u001b[1;33m\u001b[0m\u001b[0m\n\u001b[0;32m    153\u001b[0m                  A *  _KH_evolution(y, t, halo_gas_density, galaxy_velocity,\n\u001b[1;32m--> 154\u001b[1;33m                                                  galaxy_gas_density,physics_kwargs['KH'])+\\\n\u001b[0m\u001b[0;32m    155\u001b[0m                  B * _RPS_evolution(y, t, halo_gas_density, galaxy_velocity,\n\u001b[0;32m    156\u001b[0m                                            galaxy_gas_density, galaxy_gas_density(0.0),physics_kwargs['RPS'])\n",
      "\u001b[1;31mTypeError\u001b[0m: _KH_evolution() takes exactly 5 arguments (6 given)"
     ]
    },
    {
     "ename": "TypeError",
     "evalue": "_KH_evolution() takes exactly 5 arguments (6 given)",
     "output_type": "error",
     "traceback": [
      "\u001b[1;31m---------------------------------------------------------------------------\u001b[0m",
      "\u001b[1;31mTypeError\u001b[0m                                 Traceback (most recent call last)",
      "\u001b[1;32m/home/emerick/Research/dwarfs/analysis/analytic_model/dwarf_model.py\u001b[0m in \u001b[0;36m<lambda>\u001b[1;34m(y, t, A, B)\u001b[0m\n\u001b[0;32m    152\u001b[0m     \u001b[0mode_function\u001b[0m \u001b[1;33m=\u001b[0m \u001b[1;32mlambda\u001b[0m \u001b[0my\u001b[0m\u001b[1;33m,\u001b[0m \u001b[0mt\u001b[0m\u001b[1;33m,\u001b[0m \u001b[0mA\u001b[0m\u001b[1;33m,\u001b[0m \u001b[0mB\u001b[0m\u001b[1;33m:\u001b[0m\u001b[0;31m\\\u001b[0m\u001b[1;33m\u001b[0m\u001b[0m\n\u001b[0;32m    153\u001b[0m                  A *  _KH_evolution(y, t, halo_gas_density, galaxy_velocity,\n\u001b[1;32m--> 154\u001b[1;33m                                                  galaxy_gas_density,physics_kwargs['KH'])+\\\n\u001b[0m\u001b[0;32m    155\u001b[0m                  B * _RPS_evolution(y, t, halo_gas_density, galaxy_velocity,\n\u001b[0;32m    156\u001b[0m                                            galaxy_gas_density, galaxy_gas_density(0.0),physics_kwargs['RPS'])\n",
      "\u001b[1;31mTypeError\u001b[0m: _KH_evolution() takes exactly 5 arguments (6 given)"
     ]
    },
    {
     "ename": "TypeError",
     "evalue": "_KH_evolution() takes exactly 5 arguments (6 given)",
     "output_type": "error",
     "traceback": [
      "\u001b[1;31m---------------------------------------------------------------------------\u001b[0m",
      "\u001b[1;31mTypeError\u001b[0m                                 Traceback (most recent call last)",
      "\u001b[1;32m/home/emerick/Research/dwarfs/analysis/analytic_model/dwarf_model.py\u001b[0m in \u001b[0;36m<lambda>\u001b[1;34m(y, t, A, B)\u001b[0m\n\u001b[0;32m    152\u001b[0m     \u001b[0mode_function\u001b[0m \u001b[1;33m=\u001b[0m \u001b[1;32mlambda\u001b[0m \u001b[0my\u001b[0m\u001b[1;33m,\u001b[0m \u001b[0mt\u001b[0m\u001b[1;33m,\u001b[0m \u001b[0mA\u001b[0m\u001b[1;33m,\u001b[0m \u001b[0mB\u001b[0m\u001b[1;33m:\u001b[0m\u001b[0;31m\\\u001b[0m\u001b[1;33m\u001b[0m\u001b[0m\n\u001b[0;32m    153\u001b[0m                  A *  _KH_evolution(y, t, halo_gas_density, galaxy_velocity,\n\u001b[1;32m--> 154\u001b[1;33m                                                  galaxy_gas_density,physics_kwargs['KH'])+\\\n\u001b[0m\u001b[0;32m    155\u001b[0m                  B * _RPS_evolution(y, t, halo_gas_density, galaxy_velocity,\n\u001b[0;32m    156\u001b[0m                                            galaxy_gas_density, galaxy_gas_density(0.0),physics_kwargs['RPS'])\n",
      "\u001b[1;31mTypeError\u001b[0m: _KH_evolution() takes exactly 5 arguments (6 given)"
     ]
    },
    {
     "ename": "TypeError",
     "evalue": "_KH_evolution() takes exactly 5 arguments (6 given)",
     "output_type": "error",
     "traceback": [
      "\u001b[1;31m---------------------------------------------------------------------------\u001b[0m",
      "\u001b[1;31mTypeError\u001b[0m                                 Traceback (most recent call last)",
      "\u001b[1;32m/home/emerick/Research/dwarfs/analysis/analytic_model/dwarf_model.py\u001b[0m in \u001b[0;36m<lambda>\u001b[1;34m(y, t, A, B)\u001b[0m\n\u001b[0;32m    152\u001b[0m     \u001b[0mode_function\u001b[0m \u001b[1;33m=\u001b[0m \u001b[1;32mlambda\u001b[0m \u001b[0my\u001b[0m\u001b[1;33m,\u001b[0m \u001b[0mt\u001b[0m\u001b[1;33m,\u001b[0m \u001b[0mA\u001b[0m\u001b[1;33m,\u001b[0m \u001b[0mB\u001b[0m\u001b[1;33m:\u001b[0m\u001b[0;31m\\\u001b[0m\u001b[1;33m\u001b[0m\u001b[0m\n\u001b[0;32m    153\u001b[0m                  A *  _KH_evolution(y, t, halo_gas_density, galaxy_velocity,\n\u001b[1;32m--> 154\u001b[1;33m                                                  galaxy_gas_density,physics_kwargs['KH'])+\\\n\u001b[0m\u001b[0;32m    155\u001b[0m                  B * _RPS_evolution(y, t, halo_gas_density, galaxy_velocity,\n\u001b[0;32m    156\u001b[0m                                            galaxy_gas_density, galaxy_gas_density(0.0),physics_kwargs['RPS'])\n",
      "\u001b[1;31mTypeError\u001b[0m: _KH_evolution() takes exactly 5 arguments (6 given)"
     ]
    },
    {
     "ename": "TypeError",
     "evalue": "_KH_evolution() takes exactly 5 arguments (6 given)",
     "output_type": "error",
     "traceback": [
      "\u001b[1;31m---------------------------------------------------------------------------\u001b[0m",
      "\u001b[1;31mTypeError\u001b[0m                                 Traceback (most recent call last)",
      "\u001b[1;32m/home/emerick/Research/dwarfs/analysis/analytic_model/dwarf_model.py\u001b[0m in \u001b[0;36m<lambda>\u001b[1;34m(y, t, A, B)\u001b[0m\n\u001b[0;32m    152\u001b[0m     \u001b[0mode_function\u001b[0m \u001b[1;33m=\u001b[0m \u001b[1;32mlambda\u001b[0m \u001b[0my\u001b[0m\u001b[1;33m,\u001b[0m \u001b[0mt\u001b[0m\u001b[1;33m,\u001b[0m \u001b[0mA\u001b[0m\u001b[1;33m,\u001b[0m \u001b[0mB\u001b[0m\u001b[1;33m:\u001b[0m\u001b[0;31m\\\u001b[0m\u001b[1;33m\u001b[0m\u001b[0m\n\u001b[0;32m    153\u001b[0m                  A *  _KH_evolution(y, t, halo_gas_density, galaxy_velocity,\n\u001b[1;32m--> 154\u001b[1;33m                                                  galaxy_gas_density,physics_kwargs['KH'])+\\\n\u001b[0m\u001b[0;32m    155\u001b[0m                  B * _RPS_evolution(y, t, halo_gas_density, galaxy_velocity,\n\u001b[0;32m    156\u001b[0m                                            galaxy_gas_density, galaxy_gas_density(0.0),physics_kwargs['RPS'])\n",
      "\u001b[1;31mTypeError\u001b[0m: _KH_evolution() takes exactly 5 arguments (6 given)"
     ]
    },
    {
     "ename": "TypeError",
     "evalue": "_KH_evolution() takes exactly 5 arguments (6 given)",
     "output_type": "error",
     "traceback": [
      "\u001b[1;31m---------------------------------------------------------------------------\u001b[0m",
      "\u001b[1;31mTypeError\u001b[0m                                 Traceback (most recent call last)",
      "\u001b[1;32m/home/emerick/Research/dwarfs/analysis/analytic_model/dwarf_model.py\u001b[0m in \u001b[0;36m<lambda>\u001b[1;34m(y, t, A, B)\u001b[0m\n\u001b[0;32m    152\u001b[0m     \u001b[0mode_function\u001b[0m \u001b[1;33m=\u001b[0m \u001b[1;32mlambda\u001b[0m \u001b[0my\u001b[0m\u001b[1;33m,\u001b[0m \u001b[0mt\u001b[0m\u001b[1;33m,\u001b[0m \u001b[0mA\u001b[0m\u001b[1;33m,\u001b[0m \u001b[0mB\u001b[0m\u001b[1;33m:\u001b[0m\u001b[0;31m\\\u001b[0m\u001b[1;33m\u001b[0m\u001b[0m\n\u001b[0;32m    153\u001b[0m                  A *  _KH_evolution(y, t, halo_gas_density, galaxy_velocity,\n\u001b[1;32m--> 154\u001b[1;33m                                                  galaxy_gas_density,physics_kwargs['KH'])+\\\n\u001b[0m\u001b[0;32m    155\u001b[0m                  B * _RPS_evolution(y, t, halo_gas_density, galaxy_velocity,\n\u001b[0;32m    156\u001b[0m                                            galaxy_gas_density, galaxy_gas_density(0.0),physics_kwargs['RPS'])\n",
      "\u001b[1;31mTypeError\u001b[0m: _KH_evolution() takes exactly 5 arguments (6 given)"
     ]
    },
    {
     "ename": "TypeError",
     "evalue": "_KH_evolution() takes exactly 5 arguments (6 given)",
     "output_type": "error",
     "traceback": [
      "\u001b[1;31m---------------------------------------------------------------------------\u001b[0m",
      "\u001b[1;31mTypeError\u001b[0m                                 Traceback (most recent call last)",
      "\u001b[1;32m/home/emerick/Research/dwarfs/analysis/analytic_model/dwarf_model.py\u001b[0m in \u001b[0;36m<lambda>\u001b[1;34m(y, t, A, B)\u001b[0m\n\u001b[0;32m    152\u001b[0m     \u001b[0mode_function\u001b[0m \u001b[1;33m=\u001b[0m \u001b[1;32mlambda\u001b[0m \u001b[0my\u001b[0m\u001b[1;33m,\u001b[0m \u001b[0mt\u001b[0m\u001b[1;33m,\u001b[0m \u001b[0mA\u001b[0m\u001b[1;33m,\u001b[0m \u001b[0mB\u001b[0m\u001b[1;33m:\u001b[0m\u001b[0;31m\\\u001b[0m\u001b[1;33m\u001b[0m\u001b[0m\n\u001b[0;32m    153\u001b[0m                  A *  _KH_evolution(y, t, halo_gas_density, galaxy_velocity,\n\u001b[1;32m--> 154\u001b[1;33m                                                  galaxy_gas_density,physics_kwargs['KH'])+\\\n\u001b[0m\u001b[0;32m    155\u001b[0m                  B * _RPS_evolution(y, t, halo_gas_density, galaxy_velocity,\n\u001b[0;32m    156\u001b[0m                                            galaxy_gas_density, galaxy_gas_density(0.0),physics_kwargs['RPS'])\n",
      "\u001b[1;31mTypeError\u001b[0m: _KH_evolution() takes exactly 5 arguments (6 given)"
     ]
    },
    {
     "ename": "TypeError",
     "evalue": "_KH_evolution() takes exactly 5 arguments (6 given)",
     "output_type": "error",
     "traceback": [
      "\u001b[1;31m---------------------------------------------------------------------------\u001b[0m",
      "\u001b[1;31mTypeError\u001b[0m                                 Traceback (most recent call last)",
      "\u001b[1;32m/home/emerick/Research/dwarfs/analysis/analytic_model/dwarf_model.py\u001b[0m in \u001b[0;36m<lambda>\u001b[1;34m(y, t, A, B)\u001b[0m\n\u001b[0;32m    152\u001b[0m     \u001b[0mode_function\u001b[0m \u001b[1;33m=\u001b[0m \u001b[1;32mlambda\u001b[0m \u001b[0my\u001b[0m\u001b[1;33m,\u001b[0m \u001b[0mt\u001b[0m\u001b[1;33m,\u001b[0m \u001b[0mA\u001b[0m\u001b[1;33m,\u001b[0m \u001b[0mB\u001b[0m\u001b[1;33m:\u001b[0m\u001b[0;31m\\\u001b[0m\u001b[1;33m\u001b[0m\u001b[0m\n\u001b[0;32m    153\u001b[0m                  A *  _KH_evolution(y, t, halo_gas_density, galaxy_velocity,\n\u001b[1;32m--> 154\u001b[1;33m                                                  galaxy_gas_density,physics_kwargs['KH'])+\\\n\u001b[0m\u001b[0;32m    155\u001b[0m                  B * _RPS_evolution(y, t, halo_gas_density, galaxy_velocity,\n\u001b[0;32m    156\u001b[0m                                            galaxy_gas_density, galaxy_gas_density(0.0),physics_kwargs['RPS'])\n",
      "\u001b[1;31mTypeError\u001b[0m: _KH_evolution() takes exactly 5 arguments (6 given)"
     ]
    },
    {
     "ename": "TypeError",
     "evalue": "_KH_evolution() takes exactly 5 arguments (6 given)",
     "output_type": "error",
     "traceback": [
      "\u001b[1;31m---------------------------------------------------------------------------\u001b[0m",
      "\u001b[1;31mTypeError\u001b[0m                                 Traceback (most recent call last)",
      "\u001b[1;32m/home/emerick/Research/dwarfs/analysis/analytic_model/dwarf_model.py\u001b[0m in \u001b[0;36m<lambda>\u001b[1;34m(y, t, A, B)\u001b[0m\n\u001b[0;32m    152\u001b[0m     \u001b[0mode_function\u001b[0m \u001b[1;33m=\u001b[0m \u001b[1;32mlambda\u001b[0m \u001b[0my\u001b[0m\u001b[1;33m,\u001b[0m \u001b[0mt\u001b[0m\u001b[1;33m,\u001b[0m \u001b[0mA\u001b[0m\u001b[1;33m,\u001b[0m \u001b[0mB\u001b[0m\u001b[1;33m:\u001b[0m\u001b[0;31m\\\u001b[0m\u001b[1;33m\u001b[0m\u001b[0m\n\u001b[0;32m    153\u001b[0m                  A *  _KH_evolution(y, t, halo_gas_density, galaxy_velocity,\n\u001b[1;32m--> 154\u001b[1;33m                                                  galaxy_gas_density,physics_kwargs['KH'])+\\\n\u001b[0m\u001b[0;32m    155\u001b[0m                  B * _RPS_evolution(y, t, halo_gas_density, galaxy_velocity,\n\u001b[0;32m    156\u001b[0m                                            galaxy_gas_density, galaxy_gas_density(0.0),physics_kwargs['RPS'])\n",
      "\u001b[1;31mTypeError\u001b[0m: _KH_evolution() takes exactly 5 arguments (6 given)"
     ]
    },
    {
     "ename": "TypeError",
     "evalue": "_KH_evolution() takes exactly 5 arguments (6 given)",
     "output_type": "error",
     "traceback": [
      "\u001b[1;31m---------------------------------------------------------------------------\u001b[0m",
      "\u001b[1;31mTypeError\u001b[0m                                 Traceback (most recent call last)",
      "\u001b[1;32m/home/emerick/Research/dwarfs/analysis/analytic_model/dwarf_model.py\u001b[0m in \u001b[0;36m<lambda>\u001b[1;34m(y, t, A, B)\u001b[0m\n\u001b[0;32m    152\u001b[0m     \u001b[0mode_function\u001b[0m \u001b[1;33m=\u001b[0m \u001b[1;32mlambda\u001b[0m \u001b[0my\u001b[0m\u001b[1;33m,\u001b[0m \u001b[0mt\u001b[0m\u001b[1;33m,\u001b[0m \u001b[0mA\u001b[0m\u001b[1;33m,\u001b[0m \u001b[0mB\u001b[0m\u001b[1;33m:\u001b[0m\u001b[0;31m\\\u001b[0m\u001b[1;33m\u001b[0m\u001b[0m\n\u001b[0;32m    153\u001b[0m                  A *  _KH_evolution(y, t, halo_gas_density, galaxy_velocity,\n\u001b[1;32m--> 154\u001b[1;33m                                                  galaxy_gas_density,physics_kwargs['KH'])+\\\n\u001b[0m\u001b[0;32m    155\u001b[0m                  B * _RPS_evolution(y, t, halo_gas_density, galaxy_velocity,\n\u001b[0;32m    156\u001b[0m                                            galaxy_gas_density, galaxy_gas_density(0.0),physics_kwargs['RPS'])\n",
      "\u001b[1;31mTypeError\u001b[0m: _KH_evolution() takes exactly 5 arguments (6 given)"
     ]
    },
    {
     "ename": "TypeError",
     "evalue": "_KH_evolution() takes exactly 5 arguments (6 given)",
     "output_type": "error",
     "traceback": [
      "\u001b[1;31m---------------------------------------------------------------------------\u001b[0m",
      "\u001b[1;31mTypeError\u001b[0m                                 Traceback (most recent call last)",
      "\u001b[1;32m/home/emerick/Research/dwarfs/analysis/analytic_model/dwarf_model.py\u001b[0m in \u001b[0;36m<lambda>\u001b[1;34m(y, t, A, B)\u001b[0m\n\u001b[0;32m    152\u001b[0m     \u001b[0mode_function\u001b[0m \u001b[1;33m=\u001b[0m \u001b[1;32mlambda\u001b[0m \u001b[0my\u001b[0m\u001b[1;33m,\u001b[0m \u001b[0mt\u001b[0m\u001b[1;33m,\u001b[0m \u001b[0mA\u001b[0m\u001b[1;33m,\u001b[0m \u001b[0mB\u001b[0m\u001b[1;33m:\u001b[0m\u001b[0;31m\\\u001b[0m\u001b[1;33m\u001b[0m\u001b[0m\n\u001b[0;32m    153\u001b[0m                  A *  _KH_evolution(y, t, halo_gas_density, galaxy_velocity,\n\u001b[1;32m--> 154\u001b[1;33m                                                  galaxy_gas_density,physics_kwargs['KH'])+\\\n\u001b[0m\u001b[0;32m    155\u001b[0m                  B * _RPS_evolution(y, t, halo_gas_density, galaxy_velocity,\n\u001b[0;32m    156\u001b[0m                                            galaxy_gas_density, galaxy_gas_density(0.0),physics_kwargs['RPS'])\n",
      "\u001b[1;31mTypeError\u001b[0m: _KH_evolution() takes exactly 5 arguments (6 given)"
     ]
    },
    {
     "ename": "TypeError",
     "evalue": "_KH_evolution() takes exactly 5 arguments (6 given)",
     "output_type": "error",
     "traceback": [
      "\u001b[1;31m---------------------------------------------------------------------------\u001b[0m",
      "\u001b[1;31mTypeError\u001b[0m                                 Traceback (most recent call last)",
      "\u001b[1;32m/home/emerick/Research/dwarfs/analysis/analytic_model/dwarf_model.py\u001b[0m in \u001b[0;36m<lambda>\u001b[1;34m(y, t, A, B)\u001b[0m\n\u001b[0;32m    152\u001b[0m     \u001b[0mode_function\u001b[0m \u001b[1;33m=\u001b[0m \u001b[1;32mlambda\u001b[0m \u001b[0my\u001b[0m\u001b[1;33m,\u001b[0m \u001b[0mt\u001b[0m\u001b[1;33m,\u001b[0m \u001b[0mA\u001b[0m\u001b[1;33m,\u001b[0m \u001b[0mB\u001b[0m\u001b[1;33m:\u001b[0m\u001b[0;31m\\\u001b[0m\u001b[1;33m\u001b[0m\u001b[0m\n\u001b[0;32m    153\u001b[0m                  A *  _KH_evolution(y, t, halo_gas_density, galaxy_velocity,\n\u001b[1;32m--> 154\u001b[1;33m                                                  galaxy_gas_density,physics_kwargs['KH'])+\\\n\u001b[0m\u001b[0;32m    155\u001b[0m                  B * _RPS_evolution(y, t, halo_gas_density, galaxy_velocity,\n\u001b[0;32m    156\u001b[0m                                            galaxy_gas_density, galaxy_gas_density(0.0),physics_kwargs['RPS'])\n",
      "\u001b[1;31mTypeError\u001b[0m: _KH_evolution() takes exactly 5 arguments (6 given)"
     ]
    },
    {
     "ename": "TypeError",
     "evalue": "_KH_evolution() takes exactly 5 arguments (6 given)",
     "output_type": "error",
     "traceback": [
      "\u001b[1;31m---------------------------------------------------------------------------\u001b[0m",
      "\u001b[1;31mTypeError\u001b[0m                                 Traceback (most recent call last)",
      "\u001b[1;32m/home/emerick/Research/dwarfs/analysis/analytic_model/dwarf_model.py\u001b[0m in \u001b[0;36m<lambda>\u001b[1;34m(y, t, A, B)\u001b[0m\n\u001b[0;32m    152\u001b[0m     \u001b[0mode_function\u001b[0m \u001b[1;33m=\u001b[0m \u001b[1;32mlambda\u001b[0m \u001b[0my\u001b[0m\u001b[1;33m,\u001b[0m \u001b[0mt\u001b[0m\u001b[1;33m,\u001b[0m \u001b[0mA\u001b[0m\u001b[1;33m,\u001b[0m \u001b[0mB\u001b[0m\u001b[1;33m:\u001b[0m\u001b[0;31m\\\u001b[0m\u001b[1;33m\u001b[0m\u001b[0m\n\u001b[0;32m    153\u001b[0m                  A *  _KH_evolution(y, t, halo_gas_density, galaxy_velocity,\n\u001b[1;32m--> 154\u001b[1;33m                                                  galaxy_gas_density,physics_kwargs['KH'])+\\\n\u001b[0m\u001b[0;32m    155\u001b[0m                  B * _RPS_evolution(y, t, halo_gas_density, galaxy_velocity,\n\u001b[0;32m    156\u001b[0m                                            galaxy_gas_density, galaxy_gas_density(0.0),physics_kwargs['RPS'])\n",
      "\u001b[1;31mTypeError\u001b[0m: _KH_evolution() takes exactly 5 arguments (6 given)"
     ]
    },
    {
     "ename": "TypeError",
     "evalue": "_KH_evolution() takes exactly 5 arguments (6 given)",
     "output_type": "error",
     "traceback": [
      "\u001b[1;31m---------------------------------------------------------------------------\u001b[0m",
      "\u001b[1;31mTypeError\u001b[0m                                 Traceback (most recent call last)",
      "\u001b[1;32m/home/emerick/Research/dwarfs/analysis/analytic_model/dwarf_model.py\u001b[0m in \u001b[0;36m<lambda>\u001b[1;34m(y, t, A, B)\u001b[0m\n\u001b[0;32m    152\u001b[0m     \u001b[0mode_function\u001b[0m \u001b[1;33m=\u001b[0m \u001b[1;32mlambda\u001b[0m \u001b[0my\u001b[0m\u001b[1;33m,\u001b[0m \u001b[0mt\u001b[0m\u001b[1;33m,\u001b[0m \u001b[0mA\u001b[0m\u001b[1;33m,\u001b[0m \u001b[0mB\u001b[0m\u001b[1;33m:\u001b[0m\u001b[0;31m\\\u001b[0m\u001b[1;33m\u001b[0m\u001b[0m\n\u001b[0;32m    153\u001b[0m                  A *  _KH_evolution(y, t, halo_gas_density, galaxy_velocity,\n\u001b[1;32m--> 154\u001b[1;33m                                                  galaxy_gas_density,physics_kwargs['KH'])+\\\n\u001b[0m\u001b[0;32m    155\u001b[0m                  B * _RPS_evolution(y, t, halo_gas_density, galaxy_velocity,\n\u001b[0;32m    156\u001b[0m                                            galaxy_gas_density, galaxy_gas_density(0.0),physics_kwargs['RPS'])\n",
      "\u001b[1;31mTypeError\u001b[0m: _KH_evolution() takes exactly 5 arguments (6 given)"
     ]
    },
    {
     "ename": "TypeError",
     "evalue": "_KH_evolution() takes exactly 5 arguments (6 given)",
     "output_type": "error",
     "traceback": [
      "\u001b[1;31m---------------------------------------------------------------------------\u001b[0m",
      "\u001b[1;31mTypeError\u001b[0m                                 Traceback (most recent call last)",
      "\u001b[1;32m/home/emerick/Research/dwarfs/analysis/analytic_model/dwarf_model.py\u001b[0m in \u001b[0;36m<lambda>\u001b[1;34m(y, t, A, B)\u001b[0m\n\u001b[0;32m    152\u001b[0m     \u001b[0mode_function\u001b[0m \u001b[1;33m=\u001b[0m \u001b[1;32mlambda\u001b[0m \u001b[0my\u001b[0m\u001b[1;33m,\u001b[0m \u001b[0mt\u001b[0m\u001b[1;33m,\u001b[0m \u001b[0mA\u001b[0m\u001b[1;33m,\u001b[0m \u001b[0mB\u001b[0m\u001b[1;33m:\u001b[0m\u001b[0;31m\\\u001b[0m\u001b[1;33m\u001b[0m\u001b[0m\n\u001b[0;32m    153\u001b[0m                  A *  _KH_evolution(y, t, halo_gas_density, galaxy_velocity,\n\u001b[1;32m--> 154\u001b[1;33m                                                  galaxy_gas_density,physics_kwargs['KH'])+\\\n\u001b[0m\u001b[0;32m    155\u001b[0m                  B * _RPS_evolution(y, t, halo_gas_density, galaxy_velocity,\n\u001b[0;32m    156\u001b[0m                                            galaxy_gas_density, galaxy_gas_density(0.0),physics_kwargs['RPS'])\n",
      "\u001b[1;31mTypeError\u001b[0m: _KH_evolution() takes exactly 5 arguments (6 given)"
     ]
    },
    {
     "ename": "TypeError",
     "evalue": "_KH_evolution() takes exactly 5 arguments (6 given)",
     "output_type": "error",
     "traceback": [
      "\u001b[1;31m---------------------------------------------------------------------------\u001b[0m",
      "\u001b[1;31mTypeError\u001b[0m                                 Traceback (most recent call last)",
      "\u001b[1;32m/home/emerick/Research/dwarfs/analysis/analytic_model/dwarf_model.py\u001b[0m in \u001b[0;36m<lambda>\u001b[1;34m(y, t, A, B)\u001b[0m\n\u001b[0;32m    152\u001b[0m     \u001b[0mode_function\u001b[0m \u001b[1;33m=\u001b[0m \u001b[1;32mlambda\u001b[0m \u001b[0my\u001b[0m\u001b[1;33m,\u001b[0m \u001b[0mt\u001b[0m\u001b[1;33m,\u001b[0m \u001b[0mA\u001b[0m\u001b[1;33m,\u001b[0m \u001b[0mB\u001b[0m\u001b[1;33m:\u001b[0m\u001b[0;31m\\\u001b[0m\u001b[1;33m\u001b[0m\u001b[0m\n\u001b[0;32m    153\u001b[0m                  A *  _KH_evolution(y, t, halo_gas_density, galaxy_velocity,\n\u001b[1;32m--> 154\u001b[1;33m                                                  galaxy_gas_density,physics_kwargs['KH'])+\\\n\u001b[0m\u001b[0;32m    155\u001b[0m                  B * _RPS_evolution(y, t, halo_gas_density, galaxy_velocity,\n\u001b[0;32m    156\u001b[0m                                            galaxy_gas_density, galaxy_gas_density(0.0),physics_kwargs['RPS'])\n",
      "\u001b[1;31mTypeError\u001b[0m: _KH_evolution() takes exactly 5 arguments (6 given)"
     ]
    },
    {
     "ename": "TypeError",
     "evalue": "_KH_evolution() takes exactly 5 arguments (6 given)",
     "output_type": "error",
     "traceback": [
      "\u001b[1;31m---------------------------------------------------------------------------\u001b[0m",
      "\u001b[1;31mTypeError\u001b[0m                                 Traceback (most recent call last)",
      "\u001b[1;32m/home/emerick/Research/dwarfs/analysis/analytic_model/dwarf_model.py\u001b[0m in \u001b[0;36m<lambda>\u001b[1;34m(y, t, A, B)\u001b[0m\n\u001b[0;32m    152\u001b[0m     \u001b[0mode_function\u001b[0m \u001b[1;33m=\u001b[0m \u001b[1;32mlambda\u001b[0m \u001b[0my\u001b[0m\u001b[1;33m,\u001b[0m \u001b[0mt\u001b[0m\u001b[1;33m,\u001b[0m \u001b[0mA\u001b[0m\u001b[1;33m,\u001b[0m \u001b[0mB\u001b[0m\u001b[1;33m:\u001b[0m\u001b[0;31m\\\u001b[0m\u001b[1;33m\u001b[0m\u001b[0m\n\u001b[0;32m    153\u001b[0m                  A *  _KH_evolution(y, t, halo_gas_density, galaxy_velocity,\n\u001b[1;32m--> 154\u001b[1;33m                                                  galaxy_gas_density,physics_kwargs['KH'])+\\\n\u001b[0m\u001b[0;32m    155\u001b[0m                  B * _RPS_evolution(y, t, halo_gas_density, galaxy_velocity,\n\u001b[0;32m    156\u001b[0m                                            galaxy_gas_density, galaxy_gas_density(0.0),physics_kwargs['RPS'])\n",
      "\u001b[1;31mTypeError\u001b[0m: _KH_evolution() takes exactly 5 arguments (6 given)"
     ]
    },
    {
     "ename": "TypeError",
     "evalue": "_KH_evolution() takes exactly 5 arguments (6 given)",
     "output_type": "error",
     "traceback": [
      "\u001b[1;31m---------------------------------------------------------------------------\u001b[0m",
      "\u001b[1;31mTypeError\u001b[0m                                 Traceback (most recent call last)",
      "\u001b[1;32m/home/emerick/Research/dwarfs/analysis/analytic_model/dwarf_model.py\u001b[0m in \u001b[0;36m<lambda>\u001b[1;34m(y, t, A, B)\u001b[0m\n\u001b[0;32m    152\u001b[0m     \u001b[0mode_function\u001b[0m \u001b[1;33m=\u001b[0m \u001b[1;32mlambda\u001b[0m \u001b[0my\u001b[0m\u001b[1;33m,\u001b[0m \u001b[0mt\u001b[0m\u001b[1;33m,\u001b[0m \u001b[0mA\u001b[0m\u001b[1;33m,\u001b[0m \u001b[0mB\u001b[0m\u001b[1;33m:\u001b[0m\u001b[0;31m\\\u001b[0m\u001b[1;33m\u001b[0m\u001b[0m\n\u001b[0;32m    153\u001b[0m                  A *  _KH_evolution(y, t, halo_gas_density, galaxy_velocity,\n\u001b[1;32m--> 154\u001b[1;33m                                                  galaxy_gas_density,physics_kwargs['KH'])+\\\n\u001b[0m\u001b[0;32m    155\u001b[0m                  B * _RPS_evolution(y, t, halo_gas_density, galaxy_velocity,\n\u001b[0;32m    156\u001b[0m                                            galaxy_gas_density, galaxy_gas_density(0.0),physics_kwargs['RPS'])\n",
      "\u001b[1;31mTypeError\u001b[0m: _KH_evolution() takes exactly 5 arguments (6 given)"
     ]
    },
    {
     "ename": "TypeError",
     "evalue": "_KH_evolution() takes exactly 5 arguments (6 given)",
     "output_type": "error",
     "traceback": [
      "\u001b[1;31m---------------------------------------------------------------------------\u001b[0m",
      "\u001b[1;31mTypeError\u001b[0m                                 Traceback (most recent call last)",
      "\u001b[1;32m/home/emerick/Research/dwarfs/analysis/analytic_model/dwarf_model.py\u001b[0m in \u001b[0;36m<lambda>\u001b[1;34m(y, t, A, B)\u001b[0m\n\u001b[0;32m    152\u001b[0m     \u001b[0mode_function\u001b[0m \u001b[1;33m=\u001b[0m \u001b[1;32mlambda\u001b[0m \u001b[0my\u001b[0m\u001b[1;33m,\u001b[0m \u001b[0mt\u001b[0m\u001b[1;33m,\u001b[0m \u001b[0mA\u001b[0m\u001b[1;33m,\u001b[0m \u001b[0mB\u001b[0m\u001b[1;33m:\u001b[0m\u001b[0;31m\\\u001b[0m\u001b[1;33m\u001b[0m\u001b[0m\n\u001b[0;32m    153\u001b[0m                  A *  _KH_evolution(y, t, halo_gas_density, galaxy_velocity,\n\u001b[1;32m--> 154\u001b[1;33m                                                  galaxy_gas_density,physics_kwargs['KH'])+\\\n\u001b[0m\u001b[0;32m    155\u001b[0m                  B * _RPS_evolution(y, t, halo_gas_density, galaxy_velocity,\n\u001b[0;32m    156\u001b[0m                                            galaxy_gas_density, galaxy_gas_density(0.0),physics_kwargs['RPS'])\n",
      "\u001b[1;31mTypeError\u001b[0m: _KH_evolution() takes exactly 5 arguments (6 given)"
     ]
    },
    {
     "ename": "TypeError",
     "evalue": "_KH_evolution() takes exactly 5 arguments (6 given)",
     "output_type": "error",
     "traceback": [
      "\u001b[1;31m---------------------------------------------------------------------------\u001b[0m",
      "\u001b[1;31mTypeError\u001b[0m                                 Traceback (most recent call last)",
      "\u001b[1;32m/home/emerick/Research/dwarfs/analysis/analytic_model/dwarf_model.py\u001b[0m in \u001b[0;36m<lambda>\u001b[1;34m(y, t, A, B)\u001b[0m\n\u001b[0;32m    152\u001b[0m     \u001b[0mode_function\u001b[0m \u001b[1;33m=\u001b[0m \u001b[1;32mlambda\u001b[0m \u001b[0my\u001b[0m\u001b[1;33m,\u001b[0m \u001b[0mt\u001b[0m\u001b[1;33m,\u001b[0m \u001b[0mA\u001b[0m\u001b[1;33m,\u001b[0m \u001b[0mB\u001b[0m\u001b[1;33m:\u001b[0m\u001b[0;31m\\\u001b[0m\u001b[1;33m\u001b[0m\u001b[0m\n\u001b[0;32m    153\u001b[0m                  A *  _KH_evolution(y, t, halo_gas_density, galaxy_velocity,\n\u001b[1;32m--> 154\u001b[1;33m                                                  galaxy_gas_density,physics_kwargs['KH'])+\\\n\u001b[0m\u001b[0;32m    155\u001b[0m                  B * _RPS_evolution(y, t, halo_gas_density, galaxy_velocity,\n\u001b[0;32m    156\u001b[0m                                            galaxy_gas_density, galaxy_gas_density(0.0),physics_kwargs['RPS'])\n",
      "\u001b[1;31mTypeError\u001b[0m: _KH_evolution() takes exactly 5 arguments (6 given)"
     ]
    },
    {
     "ename": "TypeError",
     "evalue": "_KH_evolution() takes exactly 5 arguments (6 given)",
     "output_type": "error",
     "traceback": [
      "\u001b[1;31m---------------------------------------------------------------------------\u001b[0m",
      "\u001b[1;31mTypeError\u001b[0m                                 Traceback (most recent call last)",
      "\u001b[1;32m/home/emerick/Research/dwarfs/analysis/analytic_model/dwarf_model.py\u001b[0m in \u001b[0;36m<lambda>\u001b[1;34m(y, t, A, B)\u001b[0m\n\u001b[0;32m    152\u001b[0m     \u001b[0mode_function\u001b[0m \u001b[1;33m=\u001b[0m \u001b[1;32mlambda\u001b[0m \u001b[0my\u001b[0m\u001b[1;33m,\u001b[0m \u001b[0mt\u001b[0m\u001b[1;33m,\u001b[0m \u001b[0mA\u001b[0m\u001b[1;33m,\u001b[0m \u001b[0mB\u001b[0m\u001b[1;33m:\u001b[0m\u001b[0;31m\\\u001b[0m\u001b[1;33m\u001b[0m\u001b[0m\n\u001b[0;32m    153\u001b[0m                  A *  _KH_evolution(y, t, halo_gas_density, galaxy_velocity,\n\u001b[1;32m--> 154\u001b[1;33m                                                  galaxy_gas_density,physics_kwargs['KH'])+\\\n\u001b[0m\u001b[0;32m    155\u001b[0m                  B * _RPS_evolution(y, t, halo_gas_density, galaxy_velocity,\n\u001b[0;32m    156\u001b[0m                                            galaxy_gas_density, galaxy_gas_density(0.0),physics_kwargs['RPS'])\n",
      "\u001b[1;31mTypeError\u001b[0m: _KH_evolution() takes exactly 5 arguments (6 given)"
     ]
    },
    {
     "ename": "TypeError",
     "evalue": "_KH_evolution() takes exactly 5 arguments (6 given)",
     "output_type": "error",
     "traceback": [
      "\u001b[1;31m---------------------------------------------------------------------------\u001b[0m",
      "\u001b[1;31mTypeError\u001b[0m                                 Traceback (most recent call last)",
      "\u001b[1;32m/home/emerick/Research/dwarfs/analysis/analytic_model/dwarf_model.py\u001b[0m in \u001b[0;36m<lambda>\u001b[1;34m(y, t, A, B)\u001b[0m\n\u001b[0;32m    152\u001b[0m     \u001b[0mode_function\u001b[0m \u001b[1;33m=\u001b[0m \u001b[1;32mlambda\u001b[0m \u001b[0my\u001b[0m\u001b[1;33m,\u001b[0m \u001b[0mt\u001b[0m\u001b[1;33m,\u001b[0m \u001b[0mA\u001b[0m\u001b[1;33m,\u001b[0m \u001b[0mB\u001b[0m\u001b[1;33m:\u001b[0m\u001b[0;31m\\\u001b[0m\u001b[1;33m\u001b[0m\u001b[0m\n\u001b[0;32m    153\u001b[0m                  A *  _KH_evolution(y, t, halo_gas_density, galaxy_velocity,\n\u001b[1;32m--> 154\u001b[1;33m                                                  galaxy_gas_density,physics_kwargs['KH'])+\\\n\u001b[0m\u001b[0;32m    155\u001b[0m                  B * _RPS_evolution(y, t, halo_gas_density, galaxy_velocity,\n\u001b[0;32m    156\u001b[0m                                            galaxy_gas_density, galaxy_gas_density(0.0),physics_kwargs['RPS'])\n",
      "\u001b[1;31mTypeError\u001b[0m: _KH_evolution() takes exactly 5 arguments (6 given)"
     ]
    },
    {
     "ename": "TypeError",
     "evalue": "_KH_evolution() takes exactly 5 arguments (6 given)",
     "output_type": "error",
     "traceback": [
      "\u001b[1;31m---------------------------------------------------------------------------\u001b[0m",
      "\u001b[1;31mTypeError\u001b[0m                                 Traceback (most recent call last)",
      "\u001b[1;32m/home/emerick/Research/dwarfs/analysis/analytic_model/dwarf_model.py\u001b[0m in \u001b[0;36m<lambda>\u001b[1;34m(y, t, A, B)\u001b[0m\n\u001b[0;32m    152\u001b[0m     \u001b[0mode_function\u001b[0m \u001b[1;33m=\u001b[0m \u001b[1;32mlambda\u001b[0m \u001b[0my\u001b[0m\u001b[1;33m,\u001b[0m \u001b[0mt\u001b[0m\u001b[1;33m,\u001b[0m \u001b[0mA\u001b[0m\u001b[1;33m,\u001b[0m \u001b[0mB\u001b[0m\u001b[1;33m:\u001b[0m\u001b[0;31m\\\u001b[0m\u001b[1;33m\u001b[0m\u001b[0m\n\u001b[0;32m    153\u001b[0m                  A *  _KH_evolution(y, t, halo_gas_density, galaxy_velocity,\n\u001b[1;32m--> 154\u001b[1;33m                                                  galaxy_gas_density,physics_kwargs['KH'])+\\\n\u001b[0m\u001b[0;32m    155\u001b[0m                  B * _RPS_evolution(y, t, halo_gas_density, galaxy_velocity,\n\u001b[0;32m    156\u001b[0m                                            galaxy_gas_density, galaxy_gas_density(0.0),physics_kwargs['RPS'])\n",
      "\u001b[1;31mTypeError\u001b[0m: _KH_evolution() takes exactly 5 arguments (6 given)"
     ]
    },
    {
     "ename": "TypeError",
     "evalue": "_KH_evolution() takes exactly 5 arguments (6 given)",
     "output_type": "error",
     "traceback": [
      "\u001b[1;31m---------------------------------------------------------------------------\u001b[0m",
      "\u001b[1;31mTypeError\u001b[0m                                 Traceback (most recent call last)",
      "\u001b[1;32m/home/emerick/Research/dwarfs/analysis/analytic_model/dwarf_model.py\u001b[0m in \u001b[0;36m<lambda>\u001b[1;34m(y, t, A, B)\u001b[0m\n\u001b[0;32m    152\u001b[0m     \u001b[0mode_function\u001b[0m \u001b[1;33m=\u001b[0m \u001b[1;32mlambda\u001b[0m \u001b[0my\u001b[0m\u001b[1;33m,\u001b[0m \u001b[0mt\u001b[0m\u001b[1;33m,\u001b[0m \u001b[0mA\u001b[0m\u001b[1;33m,\u001b[0m \u001b[0mB\u001b[0m\u001b[1;33m:\u001b[0m\u001b[0;31m\\\u001b[0m\u001b[1;33m\u001b[0m\u001b[0m\n\u001b[0;32m    153\u001b[0m                  A *  _KH_evolution(y, t, halo_gas_density, galaxy_velocity,\n\u001b[1;32m--> 154\u001b[1;33m                                                  galaxy_gas_density,physics_kwargs['KH'])+\\\n\u001b[0m\u001b[0;32m    155\u001b[0m                  B * _RPS_evolution(y, t, halo_gas_density, galaxy_velocity,\n\u001b[0;32m    156\u001b[0m                                            galaxy_gas_density, galaxy_gas_density(0.0),physics_kwargs['RPS'])\n",
      "\u001b[1;31mTypeError\u001b[0m: _KH_evolution() takes exactly 5 arguments (6 given)"
     ]
    },
    {
     "ename": "TypeError",
     "evalue": "_KH_evolution() takes exactly 5 arguments (6 given)",
     "output_type": "error",
     "traceback": [
      "\u001b[1;31m---------------------------------------------------------------------------\u001b[0m",
      "\u001b[1;31mTypeError\u001b[0m                                 Traceback (most recent call last)",
      "\u001b[1;32m/home/emerick/Research/dwarfs/analysis/analytic_model/dwarf_model.py\u001b[0m in \u001b[0;36m<lambda>\u001b[1;34m(y, t, A, B)\u001b[0m\n\u001b[0;32m    152\u001b[0m     \u001b[0mode_function\u001b[0m \u001b[1;33m=\u001b[0m \u001b[1;32mlambda\u001b[0m \u001b[0my\u001b[0m\u001b[1;33m,\u001b[0m \u001b[0mt\u001b[0m\u001b[1;33m,\u001b[0m \u001b[0mA\u001b[0m\u001b[1;33m,\u001b[0m \u001b[0mB\u001b[0m\u001b[1;33m:\u001b[0m\u001b[0;31m\\\u001b[0m\u001b[1;33m\u001b[0m\u001b[0m\n\u001b[0;32m    153\u001b[0m                  A *  _KH_evolution(y, t, halo_gas_density, galaxy_velocity,\n\u001b[1;32m--> 154\u001b[1;33m                                                  galaxy_gas_density,physics_kwargs['KH'])+\\\n\u001b[0m\u001b[0;32m    155\u001b[0m                  B * _RPS_evolution(y, t, halo_gas_density, galaxy_velocity,\n\u001b[0;32m    156\u001b[0m                                            galaxy_gas_density, galaxy_gas_density(0.0),physics_kwargs['RPS'])\n",
      "\u001b[1;31mTypeError\u001b[0m: _KH_evolution() takes exactly 5 arguments (6 given)"
     ]
    },
    {
     "ename": "TypeError",
     "evalue": "_KH_evolution() takes exactly 5 arguments (6 given)",
     "output_type": "error",
     "traceback": [
      "\u001b[1;31m---------------------------------------------------------------------------\u001b[0m",
      "\u001b[1;31mTypeError\u001b[0m                                 Traceback (most recent call last)",
      "\u001b[1;32m/home/emerick/Research/dwarfs/analysis/analytic_model/dwarf_model.py\u001b[0m in \u001b[0;36m<lambda>\u001b[1;34m(y, t, A, B)\u001b[0m\n\u001b[0;32m    152\u001b[0m     \u001b[0mode_function\u001b[0m \u001b[1;33m=\u001b[0m \u001b[1;32mlambda\u001b[0m \u001b[0my\u001b[0m\u001b[1;33m,\u001b[0m \u001b[0mt\u001b[0m\u001b[1;33m,\u001b[0m \u001b[0mA\u001b[0m\u001b[1;33m,\u001b[0m \u001b[0mB\u001b[0m\u001b[1;33m:\u001b[0m\u001b[0;31m\\\u001b[0m\u001b[1;33m\u001b[0m\u001b[0m\n\u001b[0;32m    153\u001b[0m                  A *  _KH_evolution(y, t, halo_gas_density, galaxy_velocity,\n\u001b[1;32m--> 154\u001b[1;33m                                                  galaxy_gas_density,physics_kwargs['KH'])+\\\n\u001b[0m\u001b[0;32m    155\u001b[0m                  B * _RPS_evolution(y, t, halo_gas_density, galaxy_velocity,\n\u001b[0;32m    156\u001b[0m                                            galaxy_gas_density, galaxy_gas_density(0.0),physics_kwargs['RPS'])\n",
      "\u001b[1;31mTypeError\u001b[0m: _KH_evolution() takes exactly 5 arguments (6 given)"
     ]
    },
    {
     "ename": "TypeError",
     "evalue": "_KH_evolution() takes exactly 5 arguments (6 given)",
     "output_type": "error",
     "traceback": [
      "\u001b[1;31m---------------------------------------------------------------------------\u001b[0m",
      "\u001b[1;31mTypeError\u001b[0m                                 Traceback (most recent call last)",
      "\u001b[1;32m/home/emerick/Research/dwarfs/analysis/analytic_model/dwarf_model.py\u001b[0m in \u001b[0;36m<lambda>\u001b[1;34m(y, t, A, B)\u001b[0m\n\u001b[0;32m    152\u001b[0m     \u001b[0mode_function\u001b[0m \u001b[1;33m=\u001b[0m \u001b[1;32mlambda\u001b[0m \u001b[0my\u001b[0m\u001b[1;33m,\u001b[0m \u001b[0mt\u001b[0m\u001b[1;33m,\u001b[0m \u001b[0mA\u001b[0m\u001b[1;33m,\u001b[0m \u001b[0mB\u001b[0m\u001b[1;33m:\u001b[0m\u001b[0;31m\\\u001b[0m\u001b[1;33m\u001b[0m\u001b[0m\n\u001b[0;32m    153\u001b[0m                  A *  _KH_evolution(y, t, halo_gas_density, galaxy_velocity,\n\u001b[1;32m--> 154\u001b[1;33m                                                  galaxy_gas_density,physics_kwargs['KH'])+\\\n\u001b[0m\u001b[0;32m    155\u001b[0m                  B * _RPS_evolution(y, t, halo_gas_density, galaxy_velocity,\n\u001b[0;32m    156\u001b[0m                                            galaxy_gas_density, galaxy_gas_density(0.0),physics_kwargs['RPS'])\n",
      "\u001b[1;31mTypeError\u001b[0m: _KH_evolution() takes exactly 5 arguments (6 given)"
     ]
    },
    {
     "ename": "TypeError",
     "evalue": "_KH_evolution() takes exactly 5 arguments (6 given)",
     "output_type": "error",
     "traceback": [
      "\u001b[1;31m---------------------------------------------------------------------------\u001b[0m",
      "\u001b[1;31mTypeError\u001b[0m                                 Traceback (most recent call last)",
      "\u001b[1;32m/home/emerick/Research/dwarfs/analysis/analytic_model/dwarf_model.py\u001b[0m in \u001b[0;36m<lambda>\u001b[1;34m(y, t, A, B)\u001b[0m\n\u001b[0;32m    152\u001b[0m     \u001b[0mode_function\u001b[0m \u001b[1;33m=\u001b[0m \u001b[1;32mlambda\u001b[0m \u001b[0my\u001b[0m\u001b[1;33m,\u001b[0m \u001b[0mt\u001b[0m\u001b[1;33m,\u001b[0m \u001b[0mA\u001b[0m\u001b[1;33m,\u001b[0m \u001b[0mB\u001b[0m\u001b[1;33m:\u001b[0m\u001b[0;31m\\\u001b[0m\u001b[1;33m\u001b[0m\u001b[0m\n\u001b[0;32m    153\u001b[0m                  A *  _KH_evolution(y, t, halo_gas_density, galaxy_velocity,\n\u001b[1;32m--> 154\u001b[1;33m                                                  galaxy_gas_density,physics_kwargs['KH'])+\\\n\u001b[0m\u001b[0;32m    155\u001b[0m                  B * _RPS_evolution(y, t, halo_gas_density, galaxy_velocity,\n\u001b[0;32m    156\u001b[0m                                            galaxy_gas_density, galaxy_gas_density(0.0),physics_kwargs['RPS'])\n",
      "\u001b[1;31mTypeError\u001b[0m: _KH_evolution() takes exactly 5 arguments (6 given)"
     ]
    },
    {
     "ename": "TypeError",
     "evalue": "_KH_evolution() takes exactly 5 arguments (6 given)",
     "output_type": "error",
     "traceback": [
      "\u001b[1;31m---------------------------------------------------------------------------\u001b[0m",
      "\u001b[1;31mTypeError\u001b[0m                                 Traceback (most recent call last)",
      "\u001b[1;32m/home/emerick/Research/dwarfs/analysis/analytic_model/dwarf_model.py\u001b[0m in \u001b[0;36m<lambda>\u001b[1;34m(y, t, A, B)\u001b[0m\n\u001b[0;32m    152\u001b[0m     \u001b[0mode_function\u001b[0m \u001b[1;33m=\u001b[0m \u001b[1;32mlambda\u001b[0m \u001b[0my\u001b[0m\u001b[1;33m,\u001b[0m \u001b[0mt\u001b[0m\u001b[1;33m,\u001b[0m \u001b[0mA\u001b[0m\u001b[1;33m,\u001b[0m \u001b[0mB\u001b[0m\u001b[1;33m:\u001b[0m\u001b[0;31m\\\u001b[0m\u001b[1;33m\u001b[0m\u001b[0m\n\u001b[0;32m    153\u001b[0m                  A *  _KH_evolution(y, t, halo_gas_density, galaxy_velocity,\n\u001b[1;32m--> 154\u001b[1;33m                                                  galaxy_gas_density,physics_kwargs['KH'])+\\\n\u001b[0m\u001b[0;32m    155\u001b[0m                  B * _RPS_evolution(y, t, halo_gas_density, galaxy_velocity,\n\u001b[0;32m    156\u001b[0m                                            galaxy_gas_density, galaxy_gas_density(0.0),physics_kwargs['RPS'])\n",
      "\u001b[1;31mTypeError\u001b[0m: _KH_evolution() takes exactly 5 arguments (6 given)"
     ]
    },
    {
     "ename": "TypeError",
     "evalue": "_KH_evolution() takes exactly 5 arguments (6 given)",
     "output_type": "error",
     "traceback": [
      "\u001b[1;31m---------------------------------------------------------------------------\u001b[0m",
      "\u001b[1;31mTypeError\u001b[0m                                 Traceback (most recent call last)",
      "\u001b[1;32m/home/emerick/Research/dwarfs/analysis/analytic_model/dwarf_model.py\u001b[0m in \u001b[0;36m<lambda>\u001b[1;34m(y, t, A, B)\u001b[0m\n\u001b[0;32m    152\u001b[0m     \u001b[0mode_function\u001b[0m \u001b[1;33m=\u001b[0m \u001b[1;32mlambda\u001b[0m \u001b[0my\u001b[0m\u001b[1;33m,\u001b[0m \u001b[0mt\u001b[0m\u001b[1;33m,\u001b[0m \u001b[0mA\u001b[0m\u001b[1;33m,\u001b[0m \u001b[0mB\u001b[0m\u001b[1;33m:\u001b[0m\u001b[0;31m\\\u001b[0m\u001b[1;33m\u001b[0m\u001b[0m\n\u001b[0;32m    153\u001b[0m                  A *  _KH_evolution(y, t, halo_gas_density, galaxy_velocity,\n\u001b[1;32m--> 154\u001b[1;33m                                                  galaxy_gas_density,physics_kwargs['KH'])+\\\n\u001b[0m\u001b[0;32m    155\u001b[0m                  B * _RPS_evolution(y, t, halo_gas_density, galaxy_velocity,\n\u001b[0;32m    156\u001b[0m                                            galaxy_gas_density, galaxy_gas_density(0.0),physics_kwargs['RPS'])\n",
      "\u001b[1;31mTypeError\u001b[0m: _KH_evolution() takes exactly 5 arguments (6 given)"
     ]
    },
    {
     "ename": "TypeError",
     "evalue": "_KH_evolution() takes exactly 5 arguments (6 given)",
     "output_type": "error",
     "traceback": [
      "\u001b[1;31m---------------------------------------------------------------------------\u001b[0m",
      "\u001b[1;31mTypeError\u001b[0m                                 Traceback (most recent call last)",
      "\u001b[1;32m/home/emerick/Research/dwarfs/analysis/analytic_model/dwarf_model.py\u001b[0m in \u001b[0;36m<lambda>\u001b[1;34m(y, t, A, B)\u001b[0m\n\u001b[0;32m    152\u001b[0m     \u001b[0mode_function\u001b[0m \u001b[1;33m=\u001b[0m \u001b[1;32mlambda\u001b[0m \u001b[0my\u001b[0m\u001b[1;33m,\u001b[0m \u001b[0mt\u001b[0m\u001b[1;33m,\u001b[0m \u001b[0mA\u001b[0m\u001b[1;33m,\u001b[0m \u001b[0mB\u001b[0m\u001b[1;33m:\u001b[0m\u001b[0;31m\\\u001b[0m\u001b[1;33m\u001b[0m\u001b[0m\n\u001b[0;32m    153\u001b[0m                  A *  _KH_evolution(y, t, halo_gas_density, galaxy_velocity,\n\u001b[1;32m--> 154\u001b[1;33m                                                  galaxy_gas_density,physics_kwargs['KH'])+\\\n\u001b[0m\u001b[0;32m    155\u001b[0m                  B * _RPS_evolution(y, t, halo_gas_density, galaxy_velocity,\n\u001b[0;32m    156\u001b[0m                                            galaxy_gas_density, galaxy_gas_density(0.0),physics_kwargs['RPS'])\n",
      "\u001b[1;31mTypeError\u001b[0m: _KH_evolution() takes exactly 5 arguments (6 given)"
     ]
    },
    {
     "ename": "TypeError",
     "evalue": "_KH_evolution() takes exactly 5 arguments (6 given)",
     "output_type": "error",
     "traceback": [
      "\u001b[1;31m---------------------------------------------------------------------------\u001b[0m",
      "\u001b[1;31mTypeError\u001b[0m                                 Traceback (most recent call last)",
      "\u001b[1;32m/home/emerick/Research/dwarfs/analysis/analytic_model/dwarf_model.py\u001b[0m in \u001b[0;36m<lambda>\u001b[1;34m(y, t, A, B)\u001b[0m\n\u001b[0;32m    152\u001b[0m     \u001b[0mode_function\u001b[0m \u001b[1;33m=\u001b[0m \u001b[1;32mlambda\u001b[0m \u001b[0my\u001b[0m\u001b[1;33m,\u001b[0m \u001b[0mt\u001b[0m\u001b[1;33m,\u001b[0m \u001b[0mA\u001b[0m\u001b[1;33m,\u001b[0m \u001b[0mB\u001b[0m\u001b[1;33m:\u001b[0m\u001b[0;31m\\\u001b[0m\u001b[1;33m\u001b[0m\u001b[0m\n\u001b[0;32m    153\u001b[0m                  A *  _KH_evolution(y, t, halo_gas_density, galaxy_velocity,\n\u001b[1;32m--> 154\u001b[1;33m                                                  galaxy_gas_density,physics_kwargs['KH'])+\\\n\u001b[0m\u001b[0;32m    155\u001b[0m                  B * _RPS_evolution(y, t, halo_gas_density, galaxy_velocity,\n\u001b[0;32m    156\u001b[0m                                            galaxy_gas_density, galaxy_gas_density(0.0),physics_kwargs['RPS'])\n",
      "\u001b[1;31mTypeError\u001b[0m: _KH_evolution() takes exactly 5 arguments (6 given)"
     ]
    },
    {
     "ename": "TypeError",
     "evalue": "_KH_evolution() takes exactly 5 arguments (6 given)",
     "output_type": "error",
     "traceback": [
      "\u001b[1;31m---------------------------------------------------------------------------\u001b[0m",
      "\u001b[1;31mTypeError\u001b[0m                                 Traceback (most recent call last)",
      "\u001b[1;32m/home/emerick/Research/dwarfs/analysis/analytic_model/dwarf_model.py\u001b[0m in \u001b[0;36m<lambda>\u001b[1;34m(y, t, A, B)\u001b[0m\n\u001b[0;32m    152\u001b[0m     \u001b[0mode_function\u001b[0m \u001b[1;33m=\u001b[0m \u001b[1;32mlambda\u001b[0m \u001b[0my\u001b[0m\u001b[1;33m,\u001b[0m \u001b[0mt\u001b[0m\u001b[1;33m,\u001b[0m \u001b[0mA\u001b[0m\u001b[1;33m,\u001b[0m \u001b[0mB\u001b[0m\u001b[1;33m:\u001b[0m\u001b[0;31m\\\u001b[0m\u001b[1;33m\u001b[0m\u001b[0m\n\u001b[0;32m    153\u001b[0m                  A *  _KH_evolution(y, t, halo_gas_density, galaxy_velocity,\n\u001b[1;32m--> 154\u001b[1;33m                                                  galaxy_gas_density,physics_kwargs['KH'])+\\\n\u001b[0m\u001b[0;32m    155\u001b[0m                  B * _RPS_evolution(y, t, halo_gas_density, galaxy_velocity,\n\u001b[0;32m    156\u001b[0m                                            galaxy_gas_density, galaxy_gas_density(0.0),physics_kwargs['RPS'])\n",
      "\u001b[1;31mTypeError\u001b[0m: _KH_evolution() takes exactly 5 arguments (6 given)"
     ]
    },
    {
     "ename": "TypeError",
     "evalue": "_KH_evolution() takes exactly 5 arguments (6 given)",
     "output_type": "error",
     "traceback": [
      "\u001b[1;31m---------------------------------------------------------------------------\u001b[0m",
      "\u001b[1;31mTypeError\u001b[0m                                 Traceback (most recent call last)",
      "\u001b[1;32m/home/emerick/Research/dwarfs/analysis/analytic_model/dwarf_model.py\u001b[0m in \u001b[0;36m<lambda>\u001b[1;34m(y, t, A, B)\u001b[0m\n\u001b[0;32m    152\u001b[0m     \u001b[0mode_function\u001b[0m \u001b[1;33m=\u001b[0m \u001b[1;32mlambda\u001b[0m \u001b[0my\u001b[0m\u001b[1;33m,\u001b[0m \u001b[0mt\u001b[0m\u001b[1;33m,\u001b[0m \u001b[0mA\u001b[0m\u001b[1;33m,\u001b[0m \u001b[0mB\u001b[0m\u001b[1;33m:\u001b[0m\u001b[0;31m\\\u001b[0m\u001b[1;33m\u001b[0m\u001b[0m\n\u001b[0;32m    153\u001b[0m                  A *  _KH_evolution(y, t, halo_gas_density, galaxy_velocity,\n\u001b[1;32m--> 154\u001b[1;33m                                                  galaxy_gas_density,physics_kwargs['KH'])+\\\n\u001b[0m\u001b[0;32m    155\u001b[0m                  B * _RPS_evolution(y, t, halo_gas_density, galaxy_velocity,\n\u001b[0;32m    156\u001b[0m                                            galaxy_gas_density, galaxy_gas_density(0.0),physics_kwargs['RPS'])\n",
      "\u001b[1;31mTypeError\u001b[0m: _KH_evolution() takes exactly 5 arguments (6 given)"
     ]
    },
    {
     "ename": "TypeError",
     "evalue": "_KH_evolution() takes exactly 5 arguments (6 given)",
     "output_type": "error",
     "traceback": [
      "\u001b[1;31m---------------------------------------------------------------------------\u001b[0m",
      "\u001b[1;31mTypeError\u001b[0m                                 Traceback (most recent call last)",
      "\u001b[1;32m/home/emerick/Research/dwarfs/analysis/analytic_model/dwarf_model.py\u001b[0m in \u001b[0;36m<lambda>\u001b[1;34m(y, t, A, B)\u001b[0m\n\u001b[0;32m    152\u001b[0m     \u001b[0mode_function\u001b[0m \u001b[1;33m=\u001b[0m \u001b[1;32mlambda\u001b[0m \u001b[0my\u001b[0m\u001b[1;33m,\u001b[0m \u001b[0mt\u001b[0m\u001b[1;33m,\u001b[0m \u001b[0mA\u001b[0m\u001b[1;33m,\u001b[0m \u001b[0mB\u001b[0m\u001b[1;33m:\u001b[0m\u001b[0;31m\\\u001b[0m\u001b[1;33m\u001b[0m\u001b[0m\n\u001b[0;32m    153\u001b[0m                  A *  _KH_evolution(y, t, halo_gas_density, galaxy_velocity,\n\u001b[1;32m--> 154\u001b[1;33m                                                  galaxy_gas_density,physics_kwargs['KH'])+\\\n\u001b[0m\u001b[0;32m    155\u001b[0m                  B * _RPS_evolution(y, t, halo_gas_density, galaxy_velocity,\n\u001b[0;32m    156\u001b[0m                                            galaxy_gas_density, galaxy_gas_density(0.0),physics_kwargs['RPS'])\n",
      "\u001b[1;31mTypeError\u001b[0m: _KH_evolution() takes exactly 5 arguments (6 given)"
     ]
    },
    {
     "ename": "TypeError",
     "evalue": "_KH_evolution() takes exactly 5 arguments (6 given)",
     "output_type": "error",
     "traceback": [
      "\u001b[1;31m---------------------------------------------------------------------------\u001b[0m",
      "\u001b[1;31mTypeError\u001b[0m                                 Traceback (most recent call last)",
      "\u001b[1;32m/home/emerick/Research/dwarfs/analysis/analytic_model/dwarf_model.py\u001b[0m in \u001b[0;36m<lambda>\u001b[1;34m(y, t, A, B)\u001b[0m\n\u001b[0;32m    152\u001b[0m     \u001b[0mode_function\u001b[0m \u001b[1;33m=\u001b[0m \u001b[1;32mlambda\u001b[0m \u001b[0my\u001b[0m\u001b[1;33m,\u001b[0m \u001b[0mt\u001b[0m\u001b[1;33m,\u001b[0m \u001b[0mA\u001b[0m\u001b[1;33m,\u001b[0m \u001b[0mB\u001b[0m\u001b[1;33m:\u001b[0m\u001b[0;31m\\\u001b[0m\u001b[1;33m\u001b[0m\u001b[0m\n\u001b[0;32m    153\u001b[0m                  A *  _KH_evolution(y, t, halo_gas_density, galaxy_velocity,\n\u001b[1;32m--> 154\u001b[1;33m                                                  galaxy_gas_density,physics_kwargs['KH'])+\\\n\u001b[0m\u001b[0;32m    155\u001b[0m                  B * _RPS_evolution(y, t, halo_gas_density, galaxy_velocity,\n\u001b[0;32m    156\u001b[0m                                            galaxy_gas_density, galaxy_gas_density(0.0),physics_kwargs['RPS'])\n",
      "\u001b[1;31mTypeError\u001b[0m: _KH_evolution() takes exactly 5 arguments (6 given)"
     ]
    },
    {
     "ename": "TypeError",
     "evalue": "_KH_evolution() takes exactly 5 arguments (6 given)",
     "output_type": "error",
     "traceback": [
      "\u001b[1;31m---------------------------------------------------------------------------\u001b[0m",
      "\u001b[1;31mTypeError\u001b[0m                                 Traceback (most recent call last)",
      "\u001b[1;32m/home/emerick/Research/dwarfs/analysis/analytic_model/dwarf_model.py\u001b[0m in \u001b[0;36m<lambda>\u001b[1;34m(y, t, A, B)\u001b[0m\n\u001b[0;32m    152\u001b[0m     \u001b[0mode_function\u001b[0m \u001b[1;33m=\u001b[0m \u001b[1;32mlambda\u001b[0m \u001b[0my\u001b[0m\u001b[1;33m,\u001b[0m \u001b[0mt\u001b[0m\u001b[1;33m,\u001b[0m \u001b[0mA\u001b[0m\u001b[1;33m,\u001b[0m \u001b[0mB\u001b[0m\u001b[1;33m:\u001b[0m\u001b[0;31m\\\u001b[0m\u001b[1;33m\u001b[0m\u001b[0m\n\u001b[0;32m    153\u001b[0m                  A *  _KH_evolution(y, t, halo_gas_density, galaxy_velocity,\n\u001b[1;32m--> 154\u001b[1;33m                                                  galaxy_gas_density,physics_kwargs['KH'])+\\\n\u001b[0m\u001b[0;32m    155\u001b[0m                  B * _RPS_evolution(y, t, halo_gas_density, galaxy_velocity,\n\u001b[0;32m    156\u001b[0m                                            galaxy_gas_density, galaxy_gas_density(0.0),physics_kwargs['RPS'])\n",
      "\u001b[1;31mTypeError\u001b[0m: _KH_evolution() takes exactly 5 arguments (6 given)"
     ]
    },
    {
     "ename": "TypeError",
     "evalue": "_KH_evolution() takes exactly 5 arguments (6 given)",
     "output_type": "error",
     "traceback": [
      "\u001b[1;31m---------------------------------------------------------------------------\u001b[0m",
      "\u001b[1;31mTypeError\u001b[0m                                 Traceback (most recent call last)",
      "\u001b[1;32m/home/emerick/Research/dwarfs/analysis/analytic_model/dwarf_model.py\u001b[0m in \u001b[0;36m<lambda>\u001b[1;34m(y, t, A, B)\u001b[0m\n\u001b[0;32m    152\u001b[0m     \u001b[0mode_function\u001b[0m \u001b[1;33m=\u001b[0m \u001b[1;32mlambda\u001b[0m \u001b[0my\u001b[0m\u001b[1;33m,\u001b[0m \u001b[0mt\u001b[0m\u001b[1;33m,\u001b[0m \u001b[0mA\u001b[0m\u001b[1;33m,\u001b[0m \u001b[0mB\u001b[0m\u001b[1;33m:\u001b[0m\u001b[0;31m\\\u001b[0m\u001b[1;33m\u001b[0m\u001b[0m\n\u001b[0;32m    153\u001b[0m                  A *  _KH_evolution(y, t, halo_gas_density, galaxy_velocity,\n\u001b[1;32m--> 154\u001b[1;33m                                                  galaxy_gas_density,physics_kwargs['KH'])+\\\n\u001b[0m\u001b[0;32m    155\u001b[0m                  B * _RPS_evolution(y, t, halo_gas_density, galaxy_velocity,\n\u001b[0;32m    156\u001b[0m                                            galaxy_gas_density, galaxy_gas_density(0.0),physics_kwargs['RPS'])\n",
      "\u001b[1;31mTypeError\u001b[0m: _KH_evolution() takes exactly 5 arguments (6 given)"
     ]
    },
    {
     "ename": "TypeError",
     "evalue": "_KH_evolution() takes exactly 5 arguments (6 given)",
     "output_type": "error",
     "traceback": [
      "\u001b[1;31m---------------------------------------------------------------------------\u001b[0m",
      "\u001b[1;31mTypeError\u001b[0m                                 Traceback (most recent call last)",
      "\u001b[1;32m/home/emerick/Research/dwarfs/analysis/analytic_model/dwarf_model.py\u001b[0m in \u001b[0;36m<lambda>\u001b[1;34m(y, t, A, B)\u001b[0m\n\u001b[0;32m    152\u001b[0m     \u001b[0mode_function\u001b[0m \u001b[1;33m=\u001b[0m \u001b[1;32mlambda\u001b[0m \u001b[0my\u001b[0m\u001b[1;33m,\u001b[0m \u001b[0mt\u001b[0m\u001b[1;33m,\u001b[0m \u001b[0mA\u001b[0m\u001b[1;33m,\u001b[0m \u001b[0mB\u001b[0m\u001b[1;33m:\u001b[0m\u001b[0;31m\\\u001b[0m\u001b[1;33m\u001b[0m\u001b[0m\n\u001b[0;32m    153\u001b[0m                  A *  _KH_evolution(y, t, halo_gas_density, galaxy_velocity,\n\u001b[1;32m--> 154\u001b[1;33m                                                  galaxy_gas_density,physics_kwargs['KH'])+\\\n\u001b[0m\u001b[0;32m    155\u001b[0m                  B * _RPS_evolution(y, t, halo_gas_density, galaxy_velocity,\n\u001b[0;32m    156\u001b[0m                                            galaxy_gas_density, galaxy_gas_density(0.0),physics_kwargs['RPS'])\n",
      "\u001b[1;31mTypeError\u001b[0m: _KH_evolution() takes exactly 5 arguments (6 given)"
     ]
    },
    {
     "ename": "TypeError",
     "evalue": "_KH_evolution() takes exactly 5 arguments (6 given)",
     "output_type": "error",
     "traceback": [
      "\u001b[1;31m---------------------------------------------------------------------------\u001b[0m",
      "\u001b[1;31mTypeError\u001b[0m                                 Traceback (most recent call last)",
      "\u001b[1;32m/home/emerick/Research/dwarfs/analysis/analytic_model/dwarf_model.py\u001b[0m in \u001b[0;36m<lambda>\u001b[1;34m(y, t, A, B)\u001b[0m\n\u001b[0;32m    152\u001b[0m     \u001b[0mode_function\u001b[0m \u001b[1;33m=\u001b[0m \u001b[1;32mlambda\u001b[0m \u001b[0my\u001b[0m\u001b[1;33m,\u001b[0m \u001b[0mt\u001b[0m\u001b[1;33m,\u001b[0m \u001b[0mA\u001b[0m\u001b[1;33m,\u001b[0m \u001b[0mB\u001b[0m\u001b[1;33m:\u001b[0m\u001b[0;31m\\\u001b[0m\u001b[1;33m\u001b[0m\u001b[0m\n\u001b[0;32m    153\u001b[0m                  A *  _KH_evolution(y, t, halo_gas_density, galaxy_velocity,\n\u001b[1;32m--> 154\u001b[1;33m                                                  galaxy_gas_density,physics_kwargs['KH'])+\\\n\u001b[0m\u001b[0;32m    155\u001b[0m                  B * _RPS_evolution(y, t, halo_gas_density, galaxy_velocity,\n\u001b[0;32m    156\u001b[0m                                            galaxy_gas_density, galaxy_gas_density(0.0),physics_kwargs['RPS'])\n",
      "\u001b[1;31mTypeError\u001b[0m: _KH_evolution() takes exactly 5 arguments (6 given)"
     ]
    },
    {
     "ename": "TypeError",
     "evalue": "_KH_evolution() takes exactly 5 arguments (6 given)",
     "output_type": "error",
     "traceback": [
      "\u001b[1;31m---------------------------------------------------------------------------\u001b[0m",
      "\u001b[1;31mTypeError\u001b[0m                                 Traceback (most recent call last)",
      "\u001b[1;32m/home/emerick/Research/dwarfs/analysis/analytic_model/dwarf_model.py\u001b[0m in \u001b[0;36m<lambda>\u001b[1;34m(y, t, A, B)\u001b[0m\n\u001b[0;32m    152\u001b[0m     \u001b[0mode_function\u001b[0m \u001b[1;33m=\u001b[0m \u001b[1;32mlambda\u001b[0m \u001b[0my\u001b[0m\u001b[1;33m,\u001b[0m \u001b[0mt\u001b[0m\u001b[1;33m,\u001b[0m \u001b[0mA\u001b[0m\u001b[1;33m,\u001b[0m \u001b[0mB\u001b[0m\u001b[1;33m:\u001b[0m\u001b[0;31m\\\u001b[0m\u001b[1;33m\u001b[0m\u001b[0m\n\u001b[0;32m    153\u001b[0m                  A *  _KH_evolution(y, t, halo_gas_density, galaxy_velocity,\n\u001b[1;32m--> 154\u001b[1;33m                                                  galaxy_gas_density,physics_kwargs['KH'])+\\\n\u001b[0m\u001b[0;32m    155\u001b[0m                  B * _RPS_evolution(y, t, halo_gas_density, galaxy_velocity,\n\u001b[0;32m    156\u001b[0m                                            galaxy_gas_density, galaxy_gas_density(0.0),physics_kwargs['RPS'])\n",
      "\u001b[1;31mTypeError\u001b[0m: _KH_evolution() takes exactly 5 arguments (6 given)"
     ]
    },
    {
     "ename": "TypeError",
     "evalue": "_KH_evolution() takes exactly 5 arguments (6 given)",
     "output_type": "error",
     "traceback": [
      "\u001b[1;31m---------------------------------------------------------------------------\u001b[0m",
      "\u001b[1;31mTypeError\u001b[0m                                 Traceback (most recent call last)",
      "\u001b[1;32m/home/emerick/Research/dwarfs/analysis/analytic_model/dwarf_model.py\u001b[0m in \u001b[0;36m<lambda>\u001b[1;34m(y, t, A, B)\u001b[0m\n\u001b[0;32m    152\u001b[0m     \u001b[0mode_function\u001b[0m \u001b[1;33m=\u001b[0m \u001b[1;32mlambda\u001b[0m \u001b[0my\u001b[0m\u001b[1;33m,\u001b[0m \u001b[0mt\u001b[0m\u001b[1;33m,\u001b[0m \u001b[0mA\u001b[0m\u001b[1;33m,\u001b[0m \u001b[0mB\u001b[0m\u001b[1;33m:\u001b[0m\u001b[0;31m\\\u001b[0m\u001b[1;33m\u001b[0m\u001b[0m\n\u001b[0;32m    153\u001b[0m                  A *  _KH_evolution(y, t, halo_gas_density, galaxy_velocity,\n\u001b[1;32m--> 154\u001b[1;33m                                                  galaxy_gas_density,physics_kwargs['KH'])+\\\n\u001b[0m\u001b[0;32m    155\u001b[0m                  B * _RPS_evolution(y, t, halo_gas_density, galaxy_velocity,\n\u001b[0;32m    156\u001b[0m                                            galaxy_gas_density, galaxy_gas_density(0.0),physics_kwargs['RPS'])\n",
      "\u001b[1;31mTypeError\u001b[0m: _KH_evolution() takes exactly 5 arguments (6 given)"
     ]
    },
    {
     "ename": "TypeError",
     "evalue": "_KH_evolution() takes exactly 5 arguments (6 given)",
     "output_type": "error",
     "traceback": [
      "\u001b[1;31m---------------------------------------------------------------------------\u001b[0m",
      "\u001b[1;31mTypeError\u001b[0m                                 Traceback (most recent call last)",
      "\u001b[1;32m/home/emerick/Research/dwarfs/analysis/analytic_model/dwarf_model.py\u001b[0m in \u001b[0;36m<lambda>\u001b[1;34m(y, t, A, B)\u001b[0m\n\u001b[0;32m    152\u001b[0m     \u001b[0mode_function\u001b[0m \u001b[1;33m=\u001b[0m \u001b[1;32mlambda\u001b[0m \u001b[0my\u001b[0m\u001b[1;33m,\u001b[0m \u001b[0mt\u001b[0m\u001b[1;33m,\u001b[0m \u001b[0mA\u001b[0m\u001b[1;33m,\u001b[0m \u001b[0mB\u001b[0m\u001b[1;33m:\u001b[0m\u001b[0;31m\\\u001b[0m\u001b[1;33m\u001b[0m\u001b[0m\n\u001b[0;32m    153\u001b[0m                  A *  _KH_evolution(y, t, halo_gas_density, galaxy_velocity,\n\u001b[1;32m--> 154\u001b[1;33m                                                  galaxy_gas_density,physics_kwargs['KH'])+\\\n\u001b[0m\u001b[0;32m    155\u001b[0m                  B * _RPS_evolution(y, t, halo_gas_density, galaxy_velocity,\n\u001b[0;32m    156\u001b[0m                                            galaxy_gas_density, galaxy_gas_density(0.0),physics_kwargs['RPS'])\n",
      "\u001b[1;31mTypeError\u001b[0m: _KH_evolution() takes exactly 5 arguments (6 given)"
     ]
    },
    {
     "ename": "TypeError",
     "evalue": "_KH_evolution() takes exactly 5 arguments (6 given)",
     "output_type": "error",
     "traceback": [
      "\u001b[1;31m---------------------------------------------------------------------------\u001b[0m",
      "\u001b[1;31mTypeError\u001b[0m                                 Traceback (most recent call last)",
      "\u001b[1;32m/home/emerick/Research/dwarfs/analysis/analytic_model/dwarf_model.py\u001b[0m in \u001b[0;36m<lambda>\u001b[1;34m(y, t, A, B)\u001b[0m\n\u001b[0;32m    152\u001b[0m     \u001b[0mode_function\u001b[0m \u001b[1;33m=\u001b[0m \u001b[1;32mlambda\u001b[0m \u001b[0my\u001b[0m\u001b[1;33m,\u001b[0m \u001b[0mt\u001b[0m\u001b[1;33m,\u001b[0m \u001b[0mA\u001b[0m\u001b[1;33m,\u001b[0m \u001b[0mB\u001b[0m\u001b[1;33m:\u001b[0m\u001b[0;31m\\\u001b[0m\u001b[1;33m\u001b[0m\u001b[0m\n\u001b[0;32m    153\u001b[0m                  A *  _KH_evolution(y, t, halo_gas_density, galaxy_velocity,\n\u001b[1;32m--> 154\u001b[1;33m                                                  galaxy_gas_density,physics_kwargs['KH'])+\\\n\u001b[0m\u001b[0;32m    155\u001b[0m                  B * _RPS_evolution(y, t, halo_gas_density, galaxy_velocity,\n\u001b[0;32m    156\u001b[0m                                            galaxy_gas_density, galaxy_gas_density(0.0),physics_kwargs['RPS'])\n",
      "\u001b[1;31mTypeError\u001b[0m: _KH_evolution() takes exactly 5 arguments (6 given)"
     ]
    },
    {
     "ename": "TypeError",
     "evalue": "_KH_evolution() takes exactly 5 arguments (6 given)",
     "output_type": "error",
     "traceback": [
      "\u001b[1;31m---------------------------------------------------------------------------\u001b[0m",
      "\u001b[1;31mTypeError\u001b[0m                                 Traceback (most recent call last)",
      "\u001b[1;32m/home/emerick/Research/dwarfs/analysis/analytic_model/dwarf_model.py\u001b[0m in \u001b[0;36m<lambda>\u001b[1;34m(y, t, A, B)\u001b[0m\n\u001b[0;32m    152\u001b[0m     \u001b[0mode_function\u001b[0m \u001b[1;33m=\u001b[0m \u001b[1;32mlambda\u001b[0m \u001b[0my\u001b[0m\u001b[1;33m,\u001b[0m \u001b[0mt\u001b[0m\u001b[1;33m,\u001b[0m \u001b[0mA\u001b[0m\u001b[1;33m,\u001b[0m \u001b[0mB\u001b[0m\u001b[1;33m:\u001b[0m\u001b[0;31m\\\u001b[0m\u001b[1;33m\u001b[0m\u001b[0m\n\u001b[0;32m    153\u001b[0m                  A *  _KH_evolution(y, t, halo_gas_density, galaxy_velocity,\n\u001b[1;32m--> 154\u001b[1;33m                                                  galaxy_gas_density,physics_kwargs['KH'])+\\\n\u001b[0m\u001b[0;32m    155\u001b[0m                  B * _RPS_evolution(y, t, halo_gas_density, galaxy_velocity,\n\u001b[0;32m    156\u001b[0m                                            galaxy_gas_density, galaxy_gas_density(0.0),physics_kwargs['RPS'])\n",
      "\u001b[1;31mTypeError\u001b[0m: _KH_evolution() takes exactly 5 arguments (6 given)"
     ]
    },
    {
     "ename": "TypeError",
     "evalue": "_KH_evolution() takes exactly 5 arguments (6 given)",
     "output_type": "error",
     "traceback": [
      "\u001b[1;31m---------------------------------------------------------------------------\u001b[0m",
      "\u001b[1;31mTypeError\u001b[0m                                 Traceback (most recent call last)",
      "\u001b[1;32m/home/emerick/Research/dwarfs/analysis/analytic_model/dwarf_model.py\u001b[0m in \u001b[0;36m<lambda>\u001b[1;34m(y, t, A, B)\u001b[0m\n\u001b[0;32m    152\u001b[0m     \u001b[0mode_function\u001b[0m \u001b[1;33m=\u001b[0m \u001b[1;32mlambda\u001b[0m \u001b[0my\u001b[0m\u001b[1;33m,\u001b[0m \u001b[0mt\u001b[0m\u001b[1;33m,\u001b[0m \u001b[0mA\u001b[0m\u001b[1;33m,\u001b[0m \u001b[0mB\u001b[0m\u001b[1;33m:\u001b[0m\u001b[0;31m\\\u001b[0m\u001b[1;33m\u001b[0m\u001b[0m\n\u001b[0;32m    153\u001b[0m                  A *  _KH_evolution(y, t, halo_gas_density, galaxy_velocity,\n\u001b[1;32m--> 154\u001b[1;33m                                                  galaxy_gas_density,physics_kwargs['KH'])+\\\n\u001b[0m\u001b[0;32m    155\u001b[0m                  B * _RPS_evolution(y, t, halo_gas_density, galaxy_velocity,\n\u001b[0;32m    156\u001b[0m                                            galaxy_gas_density, galaxy_gas_density(0.0),physics_kwargs['RPS'])\n",
      "\u001b[1;31mTypeError\u001b[0m: _KH_evolution() takes exactly 5 arguments (6 given)"
     ]
    },
    {
     "ename": "TypeError",
     "evalue": "_KH_evolution() takes exactly 5 arguments (6 given)",
     "output_type": "error",
     "traceback": [
      "\u001b[1;31m---------------------------------------------------------------------------\u001b[0m",
      "\u001b[1;31mTypeError\u001b[0m                                 Traceback (most recent call last)",
      "\u001b[1;32m/home/emerick/Research/dwarfs/analysis/analytic_model/dwarf_model.py\u001b[0m in \u001b[0;36m<lambda>\u001b[1;34m(y, t, A, B)\u001b[0m\n\u001b[0;32m    152\u001b[0m     \u001b[0mode_function\u001b[0m \u001b[1;33m=\u001b[0m \u001b[1;32mlambda\u001b[0m \u001b[0my\u001b[0m\u001b[1;33m,\u001b[0m \u001b[0mt\u001b[0m\u001b[1;33m,\u001b[0m \u001b[0mA\u001b[0m\u001b[1;33m,\u001b[0m \u001b[0mB\u001b[0m\u001b[1;33m:\u001b[0m\u001b[0;31m\\\u001b[0m\u001b[1;33m\u001b[0m\u001b[0m\n\u001b[0;32m    153\u001b[0m                  A *  _KH_evolution(y, t, halo_gas_density, galaxy_velocity,\n\u001b[1;32m--> 154\u001b[1;33m                                                  galaxy_gas_density,physics_kwargs['KH'])+\\\n\u001b[0m\u001b[0;32m    155\u001b[0m                  B * _RPS_evolution(y, t, halo_gas_density, galaxy_velocity,\n\u001b[0;32m    156\u001b[0m                                            galaxy_gas_density, galaxy_gas_density(0.0),physics_kwargs['RPS'])\n",
      "\u001b[1;31mTypeError\u001b[0m: _KH_evolution() takes exactly 5 arguments (6 given)"
     ]
    },
    {
     "ename": "TypeError",
     "evalue": "_KH_evolution() takes exactly 5 arguments (6 given)",
     "output_type": "error",
     "traceback": [
      "\u001b[1;31m---------------------------------------------------------------------------\u001b[0m",
      "\u001b[1;31mTypeError\u001b[0m                                 Traceback (most recent call last)",
      "\u001b[1;32m/home/emerick/Research/dwarfs/analysis/analytic_model/dwarf_model.py\u001b[0m in \u001b[0;36m<lambda>\u001b[1;34m(y, t, A, B)\u001b[0m\n\u001b[0;32m    152\u001b[0m     \u001b[0mode_function\u001b[0m \u001b[1;33m=\u001b[0m \u001b[1;32mlambda\u001b[0m \u001b[0my\u001b[0m\u001b[1;33m,\u001b[0m \u001b[0mt\u001b[0m\u001b[1;33m,\u001b[0m \u001b[0mA\u001b[0m\u001b[1;33m,\u001b[0m \u001b[0mB\u001b[0m\u001b[1;33m:\u001b[0m\u001b[0;31m\\\u001b[0m\u001b[1;33m\u001b[0m\u001b[0m\n\u001b[0;32m    153\u001b[0m                  A *  _KH_evolution(y, t, halo_gas_density, galaxy_velocity,\n\u001b[1;32m--> 154\u001b[1;33m                                                  galaxy_gas_density,physics_kwargs['KH'])+\\\n\u001b[0m\u001b[0;32m    155\u001b[0m                  B * _RPS_evolution(y, t, halo_gas_density, galaxy_velocity,\n\u001b[0;32m    156\u001b[0m                                            galaxy_gas_density, galaxy_gas_density(0.0),physics_kwargs['RPS'])\n",
      "\u001b[1;31mTypeError\u001b[0m: _KH_evolution() takes exactly 5 arguments (6 given)"
     ]
    },
    {
     "ename": "TypeError",
     "evalue": "_KH_evolution() takes exactly 5 arguments (6 given)",
     "output_type": "error",
     "traceback": [
      "\u001b[1;31m---------------------------------------------------------------------------\u001b[0m",
      "\u001b[1;31mTypeError\u001b[0m                                 Traceback (most recent call last)",
      "\u001b[1;32m/home/emerick/Research/dwarfs/analysis/analytic_model/dwarf_model.py\u001b[0m in \u001b[0;36m<lambda>\u001b[1;34m(y, t, A, B)\u001b[0m\n\u001b[0;32m    152\u001b[0m     \u001b[0mode_function\u001b[0m \u001b[1;33m=\u001b[0m \u001b[1;32mlambda\u001b[0m \u001b[0my\u001b[0m\u001b[1;33m,\u001b[0m \u001b[0mt\u001b[0m\u001b[1;33m,\u001b[0m \u001b[0mA\u001b[0m\u001b[1;33m,\u001b[0m \u001b[0mB\u001b[0m\u001b[1;33m:\u001b[0m\u001b[0;31m\\\u001b[0m\u001b[1;33m\u001b[0m\u001b[0m\n\u001b[0;32m    153\u001b[0m                  A *  _KH_evolution(y, t, halo_gas_density, galaxy_velocity,\n\u001b[1;32m--> 154\u001b[1;33m                                                  galaxy_gas_density,physics_kwargs['KH'])+\\\n\u001b[0m\u001b[0;32m    155\u001b[0m                  B * _RPS_evolution(y, t, halo_gas_density, galaxy_velocity,\n\u001b[0;32m    156\u001b[0m                                            galaxy_gas_density, galaxy_gas_density(0.0),physics_kwargs['RPS'])\n",
      "\u001b[1;31mTypeError\u001b[0m: _KH_evolution() takes exactly 5 arguments (6 given)"
     ]
    },
    {
     "ename": "TypeError",
     "evalue": "_KH_evolution() takes exactly 5 arguments (6 given)",
     "output_type": "error",
     "traceback": [
      "\u001b[1;31m---------------------------------------------------------------------------\u001b[0m",
      "\u001b[1;31mTypeError\u001b[0m                                 Traceback (most recent call last)",
      "\u001b[1;32m/home/emerick/Research/dwarfs/analysis/analytic_model/dwarf_model.py\u001b[0m in \u001b[0;36m<lambda>\u001b[1;34m(y, t, A, B)\u001b[0m\n\u001b[0;32m    152\u001b[0m     \u001b[0mode_function\u001b[0m \u001b[1;33m=\u001b[0m \u001b[1;32mlambda\u001b[0m \u001b[0my\u001b[0m\u001b[1;33m,\u001b[0m \u001b[0mt\u001b[0m\u001b[1;33m,\u001b[0m \u001b[0mA\u001b[0m\u001b[1;33m,\u001b[0m \u001b[0mB\u001b[0m\u001b[1;33m:\u001b[0m\u001b[0;31m\\\u001b[0m\u001b[1;33m\u001b[0m\u001b[0m\n\u001b[0;32m    153\u001b[0m                  A *  _KH_evolution(y, t, halo_gas_density, galaxy_velocity,\n\u001b[1;32m--> 154\u001b[1;33m                                                  galaxy_gas_density,physics_kwargs['KH'])+\\\n\u001b[0m\u001b[0;32m    155\u001b[0m                  B * _RPS_evolution(y, t, halo_gas_density, galaxy_velocity,\n\u001b[0;32m    156\u001b[0m                                            galaxy_gas_density, galaxy_gas_density(0.0),physics_kwargs['RPS'])\n",
      "\u001b[1;31mTypeError\u001b[0m: _KH_evolution() takes exactly 5 arguments (6 given)"
     ]
    },
    {
     "ename": "TypeError",
     "evalue": "_KH_evolution() takes exactly 5 arguments (6 given)",
     "output_type": "error",
     "traceback": [
      "\u001b[1;31m---------------------------------------------------------------------------\u001b[0m",
      "\u001b[1;31mTypeError\u001b[0m                                 Traceback (most recent call last)",
      "\u001b[1;32m/home/emerick/Research/dwarfs/analysis/analytic_model/dwarf_model.py\u001b[0m in \u001b[0;36m<lambda>\u001b[1;34m(y, t, A, B)\u001b[0m\n\u001b[0;32m    152\u001b[0m     \u001b[0mode_function\u001b[0m \u001b[1;33m=\u001b[0m \u001b[1;32mlambda\u001b[0m \u001b[0my\u001b[0m\u001b[1;33m,\u001b[0m \u001b[0mt\u001b[0m\u001b[1;33m,\u001b[0m \u001b[0mA\u001b[0m\u001b[1;33m,\u001b[0m \u001b[0mB\u001b[0m\u001b[1;33m:\u001b[0m\u001b[0;31m\\\u001b[0m\u001b[1;33m\u001b[0m\u001b[0m\n\u001b[0;32m    153\u001b[0m                  A *  _KH_evolution(y, t, halo_gas_density, galaxy_velocity,\n\u001b[1;32m--> 154\u001b[1;33m                                                  galaxy_gas_density,physics_kwargs['KH'])+\\\n\u001b[0m\u001b[0;32m    155\u001b[0m                  B * _RPS_evolution(y, t, halo_gas_density, galaxy_velocity,\n\u001b[0;32m    156\u001b[0m                                            galaxy_gas_density, galaxy_gas_density(0.0),physics_kwargs['RPS'])\n",
      "\u001b[1;31mTypeError\u001b[0m: _KH_evolution() takes exactly 5 arguments (6 given)"
     ]
    },
    {
     "ename": "TypeError",
     "evalue": "_KH_evolution() takes exactly 5 arguments (6 given)",
     "output_type": "error",
     "traceback": [
      "\u001b[1;31m---------------------------------------------------------------------------\u001b[0m",
      "\u001b[1;31mTypeError\u001b[0m                                 Traceback (most recent call last)",
      "\u001b[1;32m/home/emerick/Research/dwarfs/analysis/analytic_model/dwarf_model.py\u001b[0m in \u001b[0;36m<lambda>\u001b[1;34m(y, t, A, B)\u001b[0m\n\u001b[0;32m    152\u001b[0m     \u001b[0mode_function\u001b[0m \u001b[1;33m=\u001b[0m \u001b[1;32mlambda\u001b[0m \u001b[0my\u001b[0m\u001b[1;33m,\u001b[0m \u001b[0mt\u001b[0m\u001b[1;33m,\u001b[0m \u001b[0mA\u001b[0m\u001b[1;33m,\u001b[0m \u001b[0mB\u001b[0m\u001b[1;33m:\u001b[0m\u001b[0;31m\\\u001b[0m\u001b[1;33m\u001b[0m\u001b[0m\n\u001b[0;32m    153\u001b[0m                  A *  _KH_evolution(y, t, halo_gas_density, galaxy_velocity,\n\u001b[1;32m--> 154\u001b[1;33m                                                  galaxy_gas_density,physics_kwargs['KH'])+\\\n\u001b[0m\u001b[0;32m    155\u001b[0m                  B * _RPS_evolution(y, t, halo_gas_density, galaxy_velocity,\n\u001b[0;32m    156\u001b[0m                                            galaxy_gas_density, galaxy_gas_density(0.0),physics_kwargs['RPS'])\n",
      "\u001b[1;31mTypeError\u001b[0m: _KH_evolution() takes exactly 5 arguments (6 given)"
     ]
    },
    {
     "ename": "TypeError",
     "evalue": "_KH_evolution() takes exactly 5 arguments (6 given)",
     "output_type": "error",
     "traceback": [
      "\u001b[1;31m---------------------------------------------------------------------------\u001b[0m",
      "\u001b[1;31mTypeError\u001b[0m                                 Traceback (most recent call last)",
      "\u001b[1;32m/home/emerick/Research/dwarfs/analysis/analytic_model/dwarf_model.py\u001b[0m in \u001b[0;36m<lambda>\u001b[1;34m(y, t, A, B)\u001b[0m\n\u001b[0;32m    152\u001b[0m     \u001b[0mode_function\u001b[0m \u001b[1;33m=\u001b[0m \u001b[1;32mlambda\u001b[0m \u001b[0my\u001b[0m\u001b[1;33m,\u001b[0m \u001b[0mt\u001b[0m\u001b[1;33m,\u001b[0m \u001b[0mA\u001b[0m\u001b[1;33m,\u001b[0m \u001b[0mB\u001b[0m\u001b[1;33m:\u001b[0m\u001b[0;31m\\\u001b[0m\u001b[1;33m\u001b[0m\u001b[0m\n\u001b[0;32m    153\u001b[0m                  A *  _KH_evolution(y, t, halo_gas_density, galaxy_velocity,\n\u001b[1;32m--> 154\u001b[1;33m                                                  galaxy_gas_density,physics_kwargs['KH'])+\\\n\u001b[0m\u001b[0;32m    155\u001b[0m                  B * _RPS_evolution(y, t, halo_gas_density, galaxy_velocity,\n\u001b[0;32m    156\u001b[0m                                            galaxy_gas_density, galaxy_gas_density(0.0),physics_kwargs['RPS'])\n",
      "\u001b[1;31mTypeError\u001b[0m: _KH_evolution() takes exactly 5 arguments (6 given)"
     ]
    },
    {
     "ename": "TypeError",
     "evalue": "_KH_evolution() takes exactly 5 arguments (6 given)",
     "output_type": "error",
     "traceback": [
      "\u001b[1;31m---------------------------------------------------------------------------\u001b[0m",
      "\u001b[1;31mTypeError\u001b[0m                                 Traceback (most recent call last)",
      "\u001b[1;32m/home/emerick/Research/dwarfs/analysis/analytic_model/dwarf_model.py\u001b[0m in \u001b[0;36m<lambda>\u001b[1;34m(y, t, A, B)\u001b[0m\n\u001b[0;32m    152\u001b[0m     \u001b[0mode_function\u001b[0m \u001b[1;33m=\u001b[0m \u001b[1;32mlambda\u001b[0m \u001b[0my\u001b[0m\u001b[1;33m,\u001b[0m \u001b[0mt\u001b[0m\u001b[1;33m,\u001b[0m \u001b[0mA\u001b[0m\u001b[1;33m,\u001b[0m \u001b[0mB\u001b[0m\u001b[1;33m:\u001b[0m\u001b[0;31m\\\u001b[0m\u001b[1;33m\u001b[0m\u001b[0m\n\u001b[0;32m    153\u001b[0m                  A *  _KH_evolution(y, t, halo_gas_density, galaxy_velocity,\n\u001b[1;32m--> 154\u001b[1;33m                                                  galaxy_gas_density,physics_kwargs['KH'])+\\\n\u001b[0m\u001b[0;32m    155\u001b[0m                  B * _RPS_evolution(y, t, halo_gas_density, galaxy_velocity,\n\u001b[0;32m    156\u001b[0m                                            galaxy_gas_density, galaxy_gas_density(0.0),physics_kwargs['RPS'])\n",
      "\u001b[1;31mTypeError\u001b[0m: _KH_evolution() takes exactly 5 arguments (6 given)"
     ]
    },
    {
     "ename": "TypeError",
     "evalue": "_KH_evolution() takes exactly 5 arguments (6 given)",
     "output_type": "error",
     "traceback": [
      "\u001b[1;31m---------------------------------------------------------------------------\u001b[0m",
      "\u001b[1;31mTypeError\u001b[0m                                 Traceback (most recent call last)",
      "\u001b[1;32m/home/emerick/Research/dwarfs/analysis/analytic_model/dwarf_model.py\u001b[0m in \u001b[0;36m<lambda>\u001b[1;34m(y, t, A, B)\u001b[0m\n\u001b[0;32m    152\u001b[0m     \u001b[0mode_function\u001b[0m \u001b[1;33m=\u001b[0m \u001b[1;32mlambda\u001b[0m \u001b[0my\u001b[0m\u001b[1;33m,\u001b[0m \u001b[0mt\u001b[0m\u001b[1;33m,\u001b[0m \u001b[0mA\u001b[0m\u001b[1;33m,\u001b[0m \u001b[0mB\u001b[0m\u001b[1;33m:\u001b[0m\u001b[0;31m\\\u001b[0m\u001b[1;33m\u001b[0m\u001b[0m\n\u001b[0;32m    153\u001b[0m                  A *  _KH_evolution(y, t, halo_gas_density, galaxy_velocity,\n\u001b[1;32m--> 154\u001b[1;33m                                                  galaxy_gas_density,physics_kwargs['KH'])+\\\n\u001b[0m\u001b[0;32m    155\u001b[0m                  B * _RPS_evolution(y, t, halo_gas_density, galaxy_velocity,\n\u001b[0;32m    156\u001b[0m                                            galaxy_gas_density, galaxy_gas_density(0.0),physics_kwargs['RPS'])\n",
      "\u001b[1;31mTypeError\u001b[0m: _KH_evolution() takes exactly 5 arguments (6 given)"
     ]
    },
    {
     "ename": "TypeError",
     "evalue": "_KH_evolution() takes exactly 5 arguments (6 given)",
     "output_type": "error",
     "traceback": [
      "\u001b[1;31m---------------------------------------------------------------------------\u001b[0m",
      "\u001b[1;31mTypeError\u001b[0m                                 Traceback (most recent call last)",
      "\u001b[1;32m/home/emerick/Research/dwarfs/analysis/analytic_model/dwarf_model.py\u001b[0m in \u001b[0;36m<lambda>\u001b[1;34m(y, t, A, B)\u001b[0m\n\u001b[0;32m    152\u001b[0m     \u001b[0mode_function\u001b[0m \u001b[1;33m=\u001b[0m \u001b[1;32mlambda\u001b[0m \u001b[0my\u001b[0m\u001b[1;33m,\u001b[0m \u001b[0mt\u001b[0m\u001b[1;33m,\u001b[0m \u001b[0mA\u001b[0m\u001b[1;33m,\u001b[0m \u001b[0mB\u001b[0m\u001b[1;33m:\u001b[0m\u001b[0;31m\\\u001b[0m\u001b[1;33m\u001b[0m\u001b[0m\n\u001b[0;32m    153\u001b[0m                  A *  _KH_evolution(y, t, halo_gas_density, galaxy_velocity,\n\u001b[1;32m--> 154\u001b[1;33m                                                  galaxy_gas_density,physics_kwargs['KH'])+\\\n\u001b[0m\u001b[0;32m    155\u001b[0m                  B * _RPS_evolution(y, t, halo_gas_density, galaxy_velocity,\n\u001b[0;32m    156\u001b[0m                                            galaxy_gas_density, galaxy_gas_density(0.0),physics_kwargs['RPS'])\n",
      "\u001b[1;31mTypeError\u001b[0m: _KH_evolution() takes exactly 5 arguments (6 given)"
     ]
    },
    {
     "ename": "TypeError",
     "evalue": "_KH_evolution() takes exactly 5 arguments (6 given)",
     "output_type": "error",
     "traceback": [
      "\u001b[1;31m---------------------------------------------------------------------------\u001b[0m",
      "\u001b[1;31mTypeError\u001b[0m                                 Traceback (most recent call last)",
      "\u001b[1;32m/home/emerick/Research/dwarfs/analysis/analytic_model/dwarf_model.py\u001b[0m in \u001b[0;36m<lambda>\u001b[1;34m(y, t, A, B)\u001b[0m\n\u001b[0;32m    152\u001b[0m     \u001b[0mode_function\u001b[0m \u001b[1;33m=\u001b[0m \u001b[1;32mlambda\u001b[0m \u001b[0my\u001b[0m\u001b[1;33m,\u001b[0m \u001b[0mt\u001b[0m\u001b[1;33m,\u001b[0m \u001b[0mA\u001b[0m\u001b[1;33m,\u001b[0m \u001b[0mB\u001b[0m\u001b[1;33m:\u001b[0m\u001b[0;31m\\\u001b[0m\u001b[1;33m\u001b[0m\u001b[0m\n\u001b[0;32m    153\u001b[0m                  A *  _KH_evolution(y, t, halo_gas_density, galaxy_velocity,\n\u001b[1;32m--> 154\u001b[1;33m                                                  galaxy_gas_density,physics_kwargs['KH'])+\\\n\u001b[0m\u001b[0;32m    155\u001b[0m                  B * _RPS_evolution(y, t, halo_gas_density, galaxy_velocity,\n\u001b[0;32m    156\u001b[0m                                            galaxy_gas_density, galaxy_gas_density(0.0),physics_kwargs['RPS'])\n",
      "\u001b[1;31mTypeError\u001b[0m: _KH_evolution() takes exactly 5 arguments (6 given)"
     ]
    },
    {
     "ename": "TypeError",
     "evalue": "_KH_evolution() takes exactly 5 arguments (6 given)",
     "output_type": "error",
     "traceback": [
      "\u001b[1;31m---------------------------------------------------------------------------\u001b[0m",
      "\u001b[1;31mTypeError\u001b[0m                                 Traceback (most recent call last)",
      "\u001b[1;32m/home/emerick/Research/dwarfs/analysis/analytic_model/dwarf_model.py\u001b[0m in \u001b[0;36m<lambda>\u001b[1;34m(y, t, A, B)\u001b[0m\n\u001b[0;32m    152\u001b[0m     \u001b[0mode_function\u001b[0m \u001b[1;33m=\u001b[0m \u001b[1;32mlambda\u001b[0m \u001b[0my\u001b[0m\u001b[1;33m,\u001b[0m \u001b[0mt\u001b[0m\u001b[1;33m,\u001b[0m \u001b[0mA\u001b[0m\u001b[1;33m,\u001b[0m \u001b[0mB\u001b[0m\u001b[1;33m:\u001b[0m\u001b[0;31m\\\u001b[0m\u001b[1;33m\u001b[0m\u001b[0m\n\u001b[0;32m    153\u001b[0m                  A *  _KH_evolution(y, t, halo_gas_density, galaxy_velocity,\n\u001b[1;32m--> 154\u001b[1;33m                                                  galaxy_gas_density,physics_kwargs['KH'])+\\\n\u001b[0m\u001b[0;32m    155\u001b[0m                  B * _RPS_evolution(y, t, halo_gas_density, galaxy_velocity,\n\u001b[0;32m    156\u001b[0m                                            galaxy_gas_density, galaxy_gas_density(0.0),physics_kwargs['RPS'])\n",
      "\u001b[1;31mTypeError\u001b[0m: _KH_evolution() takes exactly 5 arguments (6 given)"
     ]
    },
    {
     "ename": "TypeError",
     "evalue": "_KH_evolution() takes exactly 5 arguments (6 given)",
     "output_type": "error",
     "traceback": [
      "\u001b[1;31m---------------------------------------------------------------------------\u001b[0m",
      "\u001b[1;31mTypeError\u001b[0m                                 Traceback (most recent call last)",
      "\u001b[1;32m/home/emerick/Research/dwarfs/analysis/analytic_model/dwarf_model.py\u001b[0m in \u001b[0;36m<lambda>\u001b[1;34m(y, t, A, B)\u001b[0m\n\u001b[0;32m    152\u001b[0m     \u001b[0mode_function\u001b[0m \u001b[1;33m=\u001b[0m \u001b[1;32mlambda\u001b[0m \u001b[0my\u001b[0m\u001b[1;33m,\u001b[0m \u001b[0mt\u001b[0m\u001b[1;33m,\u001b[0m \u001b[0mA\u001b[0m\u001b[1;33m,\u001b[0m \u001b[0mB\u001b[0m\u001b[1;33m:\u001b[0m\u001b[0;31m\\\u001b[0m\u001b[1;33m\u001b[0m\u001b[0m\n\u001b[0;32m    153\u001b[0m                  A *  _KH_evolution(y, t, halo_gas_density, galaxy_velocity,\n\u001b[1;32m--> 154\u001b[1;33m                                                  galaxy_gas_density,physics_kwargs['KH'])+\\\n\u001b[0m\u001b[0;32m    155\u001b[0m                  B * _RPS_evolution(y, t, halo_gas_density, galaxy_velocity,\n\u001b[0;32m    156\u001b[0m                                            galaxy_gas_density, galaxy_gas_density(0.0),physics_kwargs['RPS'])\n",
      "\u001b[1;31mTypeError\u001b[0m: _KH_evolution() takes exactly 5 arguments (6 given)"
     ]
    },
    {
     "ename": "IndexError",
     "evalue": "index 1 is out of bounds for axis 0 with size 1",
     "output_type": "error",
     "traceback": [
      "\u001b[1;31m---------------------------------------------------------------------------\u001b[0m",
      "\u001b[1;31mIndexError\u001b[0m                                Traceback (most recent call last)",
      "\u001b[1;32m<ipython-input-21-1e79bb081060>\u001b[0m in \u001b[0;36m<module>\u001b[1;34m()\u001b[0m\n\u001b[0;32m      2\u001b[0m \u001b[0manal_carina\u001b[0m\u001b[1;33m.\u001b[0m\u001b[0msetup_orbit\u001b[0m\u001b[1;33m(\u001b[0m\u001b[0mt_orbit\u001b[0m\u001b[1;33m,\u001b[0m\u001b[0mrho_halo\u001b[0m\u001b[1;33m,\u001b[0m\u001b[0mv_orbit\u001b[0m\u001b[1;33m)\u001b[0m\u001b[1;33m\u001b[0m\u001b[0m\n\u001b[0;32m      3\u001b[0m \u001b[0mt\u001b[0m \u001b[1;33m=\u001b[0m \u001b[0mnp\u001b[0m\u001b[1;33m.\u001b[0m\u001b[0mlinspace\u001b[0m\u001b[1;33m(\u001b[0m\u001b[1;36m0.0\u001b[0m\u001b[1;33m,\u001b[0m\u001b[1;36m500.0\u001b[0m\u001b[1;33m,\u001b[0m\u001b[1;36m100.0\u001b[0m\u001b[1;33m)\u001b[0m\u001b[1;33m*\u001b[0m\u001b[0mcgs\u001b[0m\u001b[1;33m.\u001b[0m\u001b[0mMyr\u001b[0m\u001b[1;33m\u001b[0m\u001b[0m\n\u001b[1;32m----> 4\u001b[1;33m \u001b[0mM\u001b[0m\u001b[1;33m,\u001b[0m\u001b[0mR\u001b[0m \u001b[1;33m=\u001b[0m \u001b[0manal_carina\u001b[0m\u001b[1;33m.\u001b[0m\u001b[0mevolve\u001b[0m\u001b[1;33m(\u001b[0m\u001b[0mt\u001b[0m\u001b[1;33m,\u001b[0m \u001b[1;33m[\u001b[0m\u001b[1;34m'RPS'\u001b[0m\u001b[1;33m,\u001b[0m\u001b[1;34m'KH'\u001b[0m\u001b[1;33m]\u001b[0m\u001b[1;33m)\u001b[0m\u001b[1;33m\u001b[0m\u001b[0m\n\u001b[0m",
      "\u001b[1;32m/home/emerick/Research/dwarfs/analysis/analytic_model/dwarf_model.py\u001b[0m in \u001b[0;36mevolve\u001b[1;34m(self, t, included_physics, physics_kwargs)\u001b[0m\n\u001b[0;32m    102\u001b[0m                 evolve_satellite(t, included_physics, self.halo_density, self.galaxy_velocity,\n\u001b[0;32m    103\u001b[0m                                               \u001b[0mself\u001b[0m\u001b[1;33m.\u001b[0m\u001b[0mgas_profile\u001b[0m\u001b[1;33m,\u001b[0m \u001b[0mself\u001b[0m\u001b[1;33m.\u001b[0m\u001b[0mDM_profile\u001b[0m\u001b[1;33m,\u001b[0m \u001b[0mself\u001b[0m\u001b[1;33m.\u001b[0m\u001b[0mM_o\u001b[0m\u001b[1;33m,\u001b[0m \u001b[0mself\u001b[0m\u001b[1;33m.\u001b[0m\u001b[0mR_o\u001b[0m\u001b[1;33m,\u001b[0m\u001b[1;33m\u001b[0m\u001b[0m\n\u001b[1;32m--> 104\u001b[1;33m                                               physics_kwargs={})\n\u001b[0m\u001b[0;32m    105\u001b[0m \u001b[1;33m\u001b[0m\u001b[0m\n\u001b[0;32m    106\u001b[0m         \u001b[0mself\u001b[0m\u001b[1;33m.\u001b[0m\u001b[0mM\u001b[0m \u001b[1;33m=\u001b[0m \u001b[0mM\u001b[0m\u001b[1;33m\u001b[0m\u001b[0m\n",
      "\u001b[1;32m/home/emerick/Research/dwarfs/analysis/analytic_model/dwarf_model.py\u001b[0m in \u001b[0;36mevolve_satellite\u001b[1;34m(t, included_physics, halo_gas_density, galaxy_velocity, galaxy_gas_density, rho_DM, M_o, R_o, physics_kwargs)\u001b[0m\n\u001b[0;32m    173\u001b[0m \u001b[1;33m\u001b[0m\u001b[0m\n\u001b[0;32m    174\u001b[0m         \u001b[0msoln\u001b[0m \u001b[1;33m=\u001b[0m \u001b[0mintegrate\u001b[0m\u001b[1;33m.\u001b[0m\u001b[0modeint\u001b[0m\u001b[1;33m(\u001b[0m\u001b[0mode_function\u001b[0m\u001b[1;33m,\u001b[0m \u001b[1;33m[\u001b[0m\u001b[0mM\u001b[0m\u001b[1;33m[\u001b[0m\u001b[0mi\u001b[0m\u001b[1;33m]\u001b[0m\u001b[1;33m,\u001b[0m\u001b[0mR\u001b[0m\u001b[1;33m[\u001b[0m\u001b[0mi\u001b[0m\u001b[1;33m]\u001b[0m\u001b[1;33m]\u001b[0m\u001b[1;33m,\u001b[0m \u001b[0mt\u001b[0m\u001b[1;33m[\u001b[0m\u001b[0mi\u001b[0m\u001b[1;33m:\u001b[0m\u001b[0mi\u001b[0m\u001b[1;33m+\u001b[0m\u001b[1;36m2\u001b[0m\u001b[1;33m]\u001b[0m\u001b[1;33m,\u001b[0m \u001b[0margs\u001b[0m\u001b[1;33m=\u001b[0m\u001b[1;33m(\u001b[0m\u001b[0mKH_const\u001b[0m\u001b[1;33m,\u001b[0m\u001b[0mRPS_const\u001b[0m\u001b[1;33m,\u001b[0m\u001b[1;33m)\u001b[0m \u001b[1;33m)\u001b[0m\u001b[1;33m\u001b[0m\u001b[0m\n\u001b[1;32m--> 175\u001b[1;33m         \u001b[0mM\u001b[0m\u001b[1;33m[\u001b[0m\u001b[0mi\u001b[0m\u001b[1;33m+\u001b[0m\u001b[1;36m1\u001b[0m\u001b[1;33m]\u001b[0m \u001b[1;33m=\u001b[0m \u001b[0msoln\u001b[0m\u001b[1;33m[\u001b[0m\u001b[1;36m1\u001b[0m\u001b[1;33m,\u001b[0m\u001b[1;36m0\u001b[0m\u001b[1;33m]\u001b[0m\u001b[1;33m;\u001b[0m \u001b[0mR\u001b[0m\u001b[1;33m[\u001b[0m\u001b[0mi\u001b[0m\u001b[1;33m+\u001b[0m\u001b[1;36m1\u001b[0m\u001b[1;33m]\u001b[0m \u001b[1;33m=\u001b[0m \u001b[0msoln\u001b[0m\u001b[1;33m[\u001b[0m\u001b[1;36m1\u001b[0m\u001b[1;33m,\u001b[0m\u001b[1;36m1\u001b[0m\u001b[1;33m]\u001b[0m\u001b[1;33m\u001b[0m\u001b[0m\n\u001b[0m\u001b[0;32m    176\u001b[0m \u001b[1;33m\u001b[0m\u001b[0m\n\u001b[0;32m    177\u001b[0m     \u001b[1;32mreturn\u001b[0m \u001b[0mM\u001b[0m\u001b[1;33m,\u001b[0m \u001b[0mR\u001b[0m\u001b[1;33m\u001b[0m\u001b[0m\n",
      "\u001b[1;31mIndexError\u001b[0m: index 1 is out of bounds for axis 0 with size 1"
     ]
    }
   ],
   "source": []
  }
 ],
 "metadata": {
  "kernelspec": {
   "display_name": "Python 2",
   "language": "python",
   "name": "python2"
  },
  "language_info": {
   "codemirror_mode": {
    "name": "ipython",
    "version": 2
   },
   "file_extension": ".py",
   "mimetype": "text/x-python",
   "name": "python",
   "nbconvert_exporter": "python",
   "pygments_lexer": "ipython2",
   "version": "2.7.9"
  }
 },
 "nbformat": 4,
 "nbformat_minor": 0
}
