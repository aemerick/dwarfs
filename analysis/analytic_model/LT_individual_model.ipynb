{
 "cells": [
  {
   "cell_type": "code",
   "execution_count": 1,
   "metadata": {
    "collapsed": false
   },
   "outputs": [
    {
     "name": "stdout",
     "output_type": "stream",
     "text": [
      "using cgs py\n",
      "Loading IC for  Leo_T_burkert\n",
      "Loading IC for  Leo_T\n",
      "MUST SET A 'potential_type'\n",
      "Loading IC for  LT_n020_v2_nh5\n",
      "If M200 or n_o are not set, they will be solved for\n",
      "using the profile choice\n",
      "NFW solve M200, R200, rho_s, r_s, c 6.15304635648e+41 4.22478106861e+22 1.69442491018e-24 2.4531136761e+21 17.2221169764\n",
      "Loading IC for  LT_n020_v2_nh4\n",
      "If M200 or n_o are not set, they will be solved for\n",
      "using the profile choice\n",
      "NFW solve M200, R200, rho_s, r_s, c 6.15304635648e+41 4.22478106861e+22 1.69442491018e-24 2.4531136761e+21 17.2221169764\n",
      "Loading IC for  LT_n020_v2_nh3\n",
      "If M200 or n_o are not set, they will be solved for\n",
      "using the profile choice\n",
      "NFW solve M200, R200, rho_s, r_s, c 6.15304635648e+41 4.22478106861e+22 1.69442491018e-24 2.4531136761e+21 17.2221169764\n",
      "Loading IC for  Leo_T_obs\n",
      "Assuming primordial neutral for dwarf mu = 1.31\n",
      "Assuming primordial ionized for halo mu = 0.6\n",
      "If M200 or n_o are not set, they will be solved for\n",
      "using the profile choice\n",
      "NFW solve M200, R200, rho_s, r_s, c 6.15304635648e+41 4.22478106861e+22 1.69442491018e-24 2.4531136761e+21 17.2221169764\n",
      "Loading IC for  LT_n075_v2_nh3\n",
      "If M200 or n_o are not set, they will be solved for\n",
      "using the profile choice\n",
      "NFW solve M200, R200, rho_s, r_s, c 6.15304635648e+41 4.22478106861e+22 1.69442491018e-24 2.4531136761e+21 17.2221169764\n",
      "Loading IC for  Sextans_test\n",
      "MUST SET A 'potential_type'\n",
      "Loading IC for  LT_n075_v2_nh5\n",
      "If M200 or n_o are not set, they will be solved for\n",
      "using the profile choice\n",
      "NFW solve M200, R200, rho_s, r_s, c 6.15304635648e+41 4.22478106861e+22 1.69442491018e-24 2.4531136761e+21 17.2221169764\n",
      "Loading IC for  LT_n075_v2_nh4\n",
      "If M200 or n_o are not set, they will be solved for\n",
      "using the profile choice\n",
      "NFW solve M200, R200, rho_s, r_s, c 6.15304635648e+41 4.22478106861e+22 1.69442491018e-24 2.4531136761e+21 17.2221169764\n",
      "Loading IC for  LT_n150_v2_nh3\n",
      "If M200 or n_o are not set, they will be solved for\n",
      "using the profile choice\n",
      "NFW solve M200, R200, rho_s, r_s, c 6.15304635648e+41 4.22478106861e+22 1.69442491018e-24 2.4531136761e+21 17.2221169764\n",
      "Loading IC for  LT_n150_v2_nh5\n",
      "If M200 or n_o are not set, they will be solved for\n",
      "using the profile choice\n",
      "NFW solve M200, R200, rho_s, r_s, c 6.15304635648e+41 4.22478106861e+22 1.69442491018e-24 2.4531136761e+21 17.2221169764\n",
      "Loading IC for  LT_n150_v2_nh4\n",
      "If M200 or n_o are not set, they will be solved for\n",
      "using the profile choice\n",
      "NFW solve M200, R200, rho_s, r_s, c 6.15304635648e+41 4.22478106861e+22 1.69442491018e-24 2.4531136761e+21 17.2221169764\n",
      "Loading IC for  CarinaMidMed\n",
      "If M200 or n_o are not set, they will be solved for\n",
      "using the profile choice\n",
      "NFW solve M200, R200, rho_s, r_s, c 6.74000417705e+41 4.3550605875e+22 1.83064844359e-24 2.4531136761e+21 17.7531951737\n",
      "Loading IC for  Leo_T_solve_burkert\n",
      "Assuming primordial neutral for dwarf mu = 1.31\n",
      "Assuming primordial ionized for halo mu = 0.6\n",
      "If M200 or n_o are not set, they will be solved for\n",
      "using the profile choice\n",
      "Loading IC for  Leo_test\n",
      "MUST SET A 'potential_type'\n",
      "Loaded IC's for  16  dwarf galaxies\n"
     ]
    }
   ],
   "source": [
    "%matplotlib inline\n",
    "import matplotlib.pyplot as plt\n",
    "import numpy as np\n",
    "from scipy import integrate\n",
    "import cgs as cgs\n",
    "from scipy import interpolate\n",
    "import dwarf_model as dw_model\n",
    "from initial_conditions import ic_list as icl ;\n",
    "from matplotlib import rc"
   ]
  },
  {
   "cell_type": "code",
   "execution_count": 8,
   "metadata": {
    "collapsed": false
   },
   "outputs": [],
   "source": [
    "simulation_dir = '/home/emerick/Research/dwarfs/flash_runs/leo_T/'\n",
    "model_name = \"LT_n020_v4_nh4\"\n",
    "sim_mass   = model_name + '_cont_mass_1-25.dat'"
   ]
  },
  {
   "cell_type": "code",
   "execution_count": 9,
   "metadata": {
    "collapsed": false
   },
   "outputs": [],
   "source": [
    "initial_conditions = icl.ic_object_dict['LT_n020_v2_nh4']"
   ]
  },
  {
   "cell_type": "code",
   "execution_count": 10,
   "metadata": {
    "collapsed": true
   },
   "outputs": [],
   "source": [
    "anal_model = dw_model.analytical_dwarf(model_name, initial_conditions.ic)"
   ]
  },
  {
   "cell_type": "code",
   "execution_count": 12,
   "metadata": {
    "collapsed": false
   },
   "outputs": [],
   "source": [
    "anal_model.load_simulation_mass(simulation_dir +model_name +'/' + sim_mass)"
   ]
  },
  {
   "cell_type": "code",
   "execution_count": 14,
   "metadata": {
    "collapsed": true
   },
   "outputs": [],
   "source": [
    "anal_model.setup_orbit(0.0, initial_conditions.ic['n_halo'], 400.0E5)"
   ]
  },
  {
   "cell_type": "code",
   "execution_count": 35,
   "metadata": {
    "collapsed": false
   },
   "outputs": [
    {
     "data": {
      "text/plain": [
       "(0, 800)"
      ]
     },
     "execution_count": 35,
     "metadata": {},
     "output_type": "execute_result"
    },
    {
     "data": {
      "image/png": "[encoded data removed]",
      "text/plain": [
       "<matplotlib.figure.Figure at 0x7fe918c63110>"
      ]
     },
     "metadata": {},
     "output_type": "display_data"
    }
   ],
   "source": [
    "fig = plt.figure()\n",
    "ax = fig.add_subplot(111)\n",
    "\n",
    "t = np.linspace(0.0, 1000.0, 100.0)*cgs.Myr\n",
    "\n",
    "shock_kwargs = {'RPS':{'alpha':3.85,'beta': 1.0,'method':'shock'},'KH':{'beta':5.}}\n",
    "\n",
    "M , R = anal_model.evolve(t, ['RPS'], physics_kwargs=shock_kwargs)\n",
    "\n",
    "ax.plot(anal_model.simulation_data['time'], anal_model.simulation_data['mass']/anal_model.simulation_data['mass'][0], label='9pc Sim', color='black',ls='-',lw=2)\n",
    "#ax.plot(LT_n075_v2_nh3_cont['t'], LT_n075_v2_nh3_cont['m']/LT_n075_v2_nh3_cont['m'][0], label='9pc Sim - Cont', color='black',ls=':',lw=2)\n",
    "ax.plot(t/cgs.Myr, M/M[0], label = 'Analytic', color='black',ls='--',lw=2)\n",
    "\n",
    "\n",
    "plt.xlim(0,800)"
   ]
  },
  {
   "cell_type": "code",
   "execution_count": null,
   "metadata": {
    "collapsed": true
   },
   "outputs": [],
   "source": []
  }
 ],
 "metadata": {
  "kernelspec": {
   "display_name": "Python 2",
   "language": "python",
   "name": "python2"
  },
  "language_info": {
   "codemirror_mode": {
    "name": "ipython",
    "version": 2
   },
   "file_extension": ".py",
   "mimetype": "text/x-python",
   "name": "python",
   "nbconvert_exporter": "python",
   "pygments_lexer": "ipython2",
   "version": "2.7.10"
  }
 },
 "nbformat": 4,
 "nbformat_minor": 0
}
