{
 "cells": [
  {
   "cell_type": "code",
   "execution_count": 1,
   "metadata": {
    "collapsed": false
   },
   "outputs": [
    {
     "name": "stdout",
     "output_type": "stream",
     "text": [
      "using cgs py\n",
      "Loading IC for  Leo_T_burkert\n",
      "Loading IC for  Leo_T\n",
      "MUST SET A 'potential_type'\n",
      "Loading IC for  LT_n020_v2_nh5\n",
      "If M200 or n_o are not set, they will be solved for\n",
      "using the profile choice\n",
      "NFW solve M200, R200, rho_s, r_s, c 6.15304635648e+41 4.22478106861e+22 1.69442491018e-24 2.4531136761e+21 17.2221169764\n",
      "Loading IC for  LT_n020_v2_nh4\n",
      "If M200 or n_o are not set, they will be solved for\n",
      "using the profile choice\n",
      "NFW solve M200, R200, rho_s, r_s, c 6.15304635648e+41 4.22478106861e+22 1.69442491018e-24 2.4531136761e+21 17.2221169764\n",
      "Loading IC for  LT_n020_v2_nh3\n",
      "If M200 or n_o are not set, they will be solved for\n",
      "using the profile choice\n",
      "NFW solve M200, R200, rho_s, r_s, c 6.15304635648e+41 4.22478106861e+22 1.69442491018e-24 2.4531136761e+21 17.2221169764\n",
      "Loading IC for  Leo_T_obs\n",
      "Assuming primordial neutral for dwarf mu = 1.31\n",
      "Assuming primordial ionized for halo mu = 0.6\n",
      "If M200 or n_o are not set, they will be solved for\n",
      "using the profile choice\n",
      "NFW solve M200, R200, rho_s, r_s, c 6.15304635648e+41 4.22478106861e+22 1.69442491018e-24 2.4531136761e+21 17.2221169764\n",
      "Loading IC for  LT_n075_v2_nh3\n",
      "If M200 or n_o are not set, they will be solved for\n",
      "using the profile choice\n",
      "NFW solve M200, R200, rho_s, r_s, c 6.15304635648e+41 4.22478106861e+22 1.69442491018e-24 2.4531136761e+21 17.2221169764\n",
      "Loading IC for  Sextans_test\n",
      "MUST SET A 'potential_type'\n",
      "Loading IC for  LT_n075_v2_nh5\n",
      "If M200 or n_o are not set, they will be solved for\n",
      "using the profile choice\n",
      "NFW solve M200, R200, rho_s, r_s, c 6.15304635648e+41 4.22478106861e+22 1.69442491018e-24 2.4531136761e+21 17.2221169764\n",
      "Loading IC for  LT_n075_v2_nh4\n",
      "If M200 or n_o are not set, they will be solved for\n",
      "using the profile choice\n",
      "NFW solve M200, R200, rho_s, r_s, c 6.15304635648e+41 4.22478106861e+22 1.69442491018e-24 2.4531136761e+21 17.2221169764\n",
      "Loading IC for  LT_n150_v2_nh3\n",
      "If M200 or n_o are not set, they will be solved for\n",
      "using the profile choice\n",
      "NFW solve M200, R200, rho_s, r_s, c 6.15304635648e+41 4.22478106861e+22 1.69442491018e-24 2.4531136761e+21 17.2221169764\n",
      "Loading IC for  LT_n150_v2_nh5\n",
      "If M200 or n_o are not set, they will be solved for\n",
      "using the profile choice\n",
      "NFW solve M200, R200, rho_s, r_s, c 6.15304635648e+41 4.22478106861e+22 1.69442491018e-24 2.4531136761e+21 17.2221169764\n",
      "Loading IC for  LT_n150_v2_nh4\n",
      "If M200 or n_o are not set, they will be solved for\n",
      "using the profile choice\n",
      "NFW solve M200, R200, rho_s, r_s, c 6.15304635648e+41 4.22478106861e+22 1.69442491018e-24 2.4531136761e+21 17.2221169764\n",
      "Loading IC for  CarinaMidMed\n",
      "If M200 or n_o are not set, they will be solved for\n",
      "using the profile choice\n",
      "NFW solve M200, R200, rho_s, r_s, c 6.74000417705e+41 4.3550605875e+22 1.83064844359e-24 2.4531136761e+21 17.7531951737\n",
      "Loading IC for  Leo_T_solve_burkert\n",
      "Assuming primordial neutral for dwarf mu = 1.31\n",
      "Assuming primordial ionized for halo mu = 0.6\n",
      "If M200 or n_o are not set, they will be solved for\n",
      "using the profile choice\n",
      "Loading IC for  Leo_test\n",
      "MUST SET A 'potential_type'\n",
      "Loaded IC's for  16  dwarf galaxies\n"
     ]
    }
   ],
   "source": [
    "%matplotlib inline\n",
    "import matplotlib.pyplot as plt\n",
    "import numpy as np\n",
    "from scipy import integrate\n",
    "import cgs as cgs\n",
    "from scipy import interpolate\n",
    "import dwarf_model as dw_model\n",
    "from initial_conditions import ic_list as icl ;\n",
    "from matplotlib import rc"
   ]
  },
  {
   "cell_type": "code",
   "execution_count": 34,
   "metadata": {
    "collapsed": false
   },
   "outputs": [],
   "source": [
    "simulation_dir = '/home/emerick/Research/dwarfs/flash_runs/leo_T/'\n",
    "model_name = \"LT_n075_v4_nh4\"\n",
    "sim_mass   = model_name + '_cont_mass_1-0.dat'"
   ]
  },
  {
   "cell_type": "code",
   "execution_count": 35,
   "metadata": {
    "collapsed": false
   },
   "outputs": [
    {
     "name": "stdout",
     "output_type": "stream",
     "text": [
      "LT_n075_v4_nh4\n"
     ]
    }
   ],
   "source": [
    "initial_conditions = icl.ic_object_dict[model_name.replace('v4','v2')]\n",
    "print model_name"
   ]
  },
  {
   "cell_type": "code",
   "execution_count": 36,
   "metadata": {
    "collapsed": true
   },
   "outputs": [],
   "source": [
    "anal_model = dw_model.analytical_dwarf(model_name, initial_conditions.ic)"
   ]
  },
  {
   "cell_type": "code",
   "execution_count": 37,
   "metadata": {
    "collapsed": false
   },
   "outputs": [],
   "source": [
    "anal_model.load_simulation_mass(simulation_dir +model_name +'/' + sim_mass)"
   ]
  },
  {
   "cell_type": "code",
   "execution_count": 38,
   "metadata": {
    "collapsed": false
   },
   "outputs": [],
   "source": [
    "if 'v4' in model_name:\n",
    "    velocity = 400.0E5\n",
    "elif 'v2' in model_name:\n",
    "    velocity = 200.0E5\n",
    "\n",
    "anal_model.setup_orbit(0.0, initial_conditions.ic['n_halo'], velocity)"
   ]
  },
  {
   "cell_type": "code",
   "execution_count": 39,
   "metadata": {
    "collapsed": false
   },
   "outputs": [
    {
     "name": "stdout",
     "output_type": "stream",
     "text": [
      "1370.02252\n"
     ]
    }
   ],
   "source": [
    "tmax = anal_model.simulation_data['time'][anal_model.simulation_data['mass'] == 0.0][5]\n",
    "print tmax"
   ]
  },
  {
   "cell_type": "code",
   "execution_count": 40,
   "metadata": {
    "collapsed": false,
    "scrolled": true
   },
   "outputs": [
    {
     "data": {
      "text/plain": [
       "(0, 200)"
      ]
     },
     "execution_count": 40,
     "metadata": {},
     "output_type": "execute_result"
    },
    {
     "data": {
      "image/png": "[encoded data removed]",
      "text/plain": [
       "<matplotlib.figure.Figure at 0x7f43dba6f590>"
      ]
     },
     "metadata": {},
     "output_type": "display_data"
    }
   ],
   "source": [
    "fig = plt.figure()\n",
    "ax = fig.add_subplot(111)\n",
    "\n",
    "# desired timestep size and start / end times... in Myr\n",
    "dt = 0.5\n",
    "tmin = 0.0\n",
    "\n",
    "npoints = np.ceil((tmax - tmin)/dt)\n",
    "\n",
    "t = np.linspace(tmin, tmax, npoints)*cgs.Myr\n",
    "\n",
    "shock_kwargs = {'RPS':{'alpha': 3.1111,'beta': 0.7500,'method':'shock'},'KH':{'beta': 6.}}\n",
    "\n",
    "M , R = anal_model.evolve(t, ['RPS','KH'], RPS_KH_exclusive = True, physics_kwargs=shock_kwargs)\n",
    "\n",
    "ax.plot(anal_model.simulation_data['time'], anal_model.simulation_data['mass']/anal_model.simulation_data['mass'][0], label='9pc Sim', color='black',ls='-',lw=2)\n",
    "#ax.plot(LT_n075_v2_nh3_cont['t'], LT_n075_v2_nh3_cont['m']/LT_n075_v2_nh3_cont['m'][0], label='9pc Sim - Cont', color='black',ls=':',lw=2)\n",
    "ax.plot(t/cgs.Myr, M/M[0], label = 'Analytic', color='black',ls='--',lw=2)\n",
    "\n",
    "\n",
    "plt.xlim(0,tmax)\n",
    "plt.xlim(0,200)"
   ]
  },
  {
   "cell_type": "code",
   "execution_count": 9,
   "metadata": {
    "collapsed": false
   },
   "outputs": [
    {
     "name": "stdout",
     "output_type": "stream",
     "text": [
      "853021121.995 853.021121995\n"
     ]
    }
   ],
   "source": [
    "# KY stripping timescale:\n",
    "F = initial_conditions.ic['M_HI'] / (initial_conditions.ic['M_HI'] + initial_conditions.ic['M_DM'])\n",
    "M_o = initial_conditions.ic['M_DM'] / cgs.Msun\n",
    "n_h = initial_conditions.ic['n_halo']\n",
    "\n",
    "tau_KH = 2.19E9*(F/0.1) * (M_o / 1.0E9)**(1.0/7.0) * (n_h / 1.0E-4)**(-1.0) * (velocity/1.0E8)**(-1)\n",
    "\n",
    "print tau_KH, tau_KH/1.0E6"
   ]
  },
  {
   "cell_type": "code",
   "execution_count": 10,
   "metadata": {
    "collapsed": false
   },
   "outputs": [
    {
     "data": {
      "text/plain": [
       "{'M200': 6.153046356477917e+41,\n",
       " 'M_DM': 1.452043e+40,\n",
       " 'M_HI': 4.7171426023269098e+38,\n",
       " 'R200': 4.224781068612719e+22,\n",
       " 'RM': 9.257032740000001e+20,\n",
       " 'T_dwarf': 6000.0,\n",
       " 'T_halo': 1459890.2102356313,\n",
       " 'b': 2.4531136761000005e+21,\n",
       " 'c': 17.22211697637003,\n",
       " 'mu_dwarf': 1.31,\n",
       " 'mu_halo': 0.6,\n",
       " 'n_halo': 0.0001,\n",
       " 'n_o': 0.75,\n",
       " 'potential_type': 'NFW',\n",
       " 'r_DM': 9.257032740000001e+20,\n",
       " 'r_HI': 9.257032740000001e+20,\n",
       " 'r_s': 2.4531136761000005e+21,\n",
       " 'rho_crit': 9.74e-30,\n",
       " 'v_halo': 20000000.0}"
      ]
     },
     "execution_count": 10,
     "metadata": {},
     "output_type": "execute_result"
    }
   ],
   "source": [
    "initial_conditions.ic"
   ]
  },
  {
   "cell_type": "code",
   "execution_count": 11,
   "metadata": {
    "collapsed": false
   },
   "outputs": [
    {
     "name": "stdout",
     "output_type": "stream",
     "text": [
      "879.997718407\n"
     ]
    }
   ],
   "source": [
    "print 2.777E16 / cgs.Myr"
   ]
  },
  {
   "cell_type": "code",
   "execution_count": 12,
   "metadata": {
    "collapsed": true
   },
   "outputs": [],
   "source": [
    "M = (cgs.mp * 1.31 * 2. * (9.0 * cgs.pc)**3)/cgs.Msun"
   ]
  },
  {
   "cell_type": "code",
   "execution_count": 13,
   "metadata": {
    "collapsed": false
   },
   "outputs": [
    {
     "name": "stdout",
     "output_type": "stream",
     "text": [
      "[  9.25703274e+20   9.23925896e+20   9.22157926e+20 ...,   9.39405896e+19\n",
      "   9.38524052e+19   9.37642549e+19]\n"
     ]
    }
   ],
   "source": [
    "print R"
   ]
  },
  {
   "cell_type": "code",
   "execution_count": null,
   "metadata": {
    "collapsed": true
   },
   "outputs": [],
   "source": []
  },
  {
   "cell_type": "code",
   "execution_count": 14,
   "metadata": {
    "collapsed": false
   },
   "outputs": [],
   "source": [
    "tau = anal_model.evaluate_KH_timescale()"
   ]
  },
  {
   "cell_type": "code",
   "execution_count": 15,
   "metadata": {
    "collapsed": false
   },
   "outputs": [
    {
     "name": "stdout",
     "output_type": "stream",
     "text": [
      "[ 853.95324528  854.36516583  854.77353174 ...,  277.68509901  277.42213577\n",
      "  277.15921481]\n"
     ]
    }
   ],
   "source": [
    "print tau / cgs.Myr"
   ]
  },
  {
   "cell_type": "code",
   "execution_count": 21,
   "metadata": {
    "collapsed": false
   },
   "outputs": [
    {
     "data": {
      "text/plain": [
       "(0, 1370.02252)"
      ]
     },
     "execution_count": 21,
     "metadata": {},
     "output_type": "execute_result"
    },
    {
     "data": {
      "image/png": "[encoded data removed]",
      "text/plain": [
       "<matplotlib.figure.Figure at 0x7f43dbe212d0>"
      ]
     },
     "metadata": {},
     "output_type": "display_data"
    }
   ],
   "source": [
    "fig = plt.figure()\n",
    "ax = fig.add_subplot(111)\n",
    "\n",
    "ax.plot(anal_model.simulation_data['time'], anal_model.simulation_data['mass']/anal_model.simulation_data['mass'][0], label='9pc Sim', color='black',ls='-',lw=2)\n",
    "#ax.plot(LT_n075_v2_nh3_cont['t'], LT_n075_v2_nh3_cont['m']/LT_n075_v2_nh3_cont['m'][0], label='9pc Sim - Cont', color='black',ls=':',lw=2)\n",
    "ax.plot(anal_model.t/cgs.Myr, anal_model.M/anal_model.M[0], label = 'Analytic', color='black',ls='--',lw=2)\n",
    "\n",
    "cs_KH = dw_model.KH_timescale(anal_model.M, anal_model.R, anal_model.ic['n_halo']*cgs.mp*anal_model.ic['mu_halo'],\n",
    "                        400.0E5, anal_model.ic['T_halo'], anal_model.ic['T_dwarf'])\n",
    "\n",
    "\n",
    "ax2 = ax.twinx()\n",
    "ax2.plot(t/cgs.Myr, anal_model.KH_timescale/cgs.Myr, color='red',lw=2,ls='-')\n",
    "ax2.plot(anal_model.t/cgs.Myr, cs_KH/cgs.Myr / 100.0,color='red',lw=2,ls='--')\n",
    "ax2.semilogy()\n",
    "ax.set_xlim(0,tmax)\n"
   ]
  },
  {
   "cell_type": "code",
   "execution_count": null,
   "metadata": {
    "collapsed": true
   },
   "outputs": [],
   "source": []
  },
  {
   "cell_type": "code",
   "execution_count": null,
   "metadata": {
    "collapsed": false
   },
   "outputs": [],
   "source": []
  },
  {
   "cell_type": "code",
   "execution_count": null,
   "metadata": {
    "collapsed": true
   },
   "outputs": [],
   "source": []
  }
 ],
 "metadata": {
  "kernelspec": {
   "display_name": "Python 2",
   "language": "python",
   "name": "python2"
  },
  "language_info": {
   "codemirror_mode": {
    "name": "ipython",
    "version": 2
   },
   "file_extension": ".py",
   "mimetype": "text/x-python",
   "name": "python",
   "nbconvert_exporter": "python",
   "pygments_lexer": "ipython2",
   "version": "2.7.10"
  }
 },
 "nbformat": 4,
 "nbformat_minor": 0
}
