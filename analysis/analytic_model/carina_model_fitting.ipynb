{
 "cells": [
  {
   "cell_type": "code",
   "execution_count": 2,
   "metadata": {
    "collapsed": false
   },
   "outputs": [
    {
     "name": "stdout",
     "output_type": "stream",
     "text": [
      "using cgs py\n",
      "Loading IC for  Leo_T_burkert\n",
      "Loading IC for  Leo_T\n",
      "MUST SET A 'potential_type'\n",
      "Loading IC for  Sextans_test\n",
      "MUST SET A 'potential_type'\n",
      "Loading IC for  Leo_T_obs\n",
      "Assuming primordial neutral for dwarf mu = 1.31\n",
      "Assuming primordial ionized for halo mu = 0.6\n",
      "If M200 or n_o are not set, they will be solved for\n",
      "using the profile choice\n",
      "Loading IC for  CarinaMidMed\n",
      "If M200 or n_o are not set, they will be solved for\n",
      "using the profile choice\n",
      "Loading IC for  Leo_T_solve_burkert\n",
      "Assuming primordial neutral for dwarf mu = 1.31\n",
      "Assuming primordial ionized for halo mu = 0.6\n",
      "If M200 or n_o are not set, they will be solved for\n",
      "using the profile choice\n",
      "Loading IC for  Leo_test\n",
      "MUST SET A 'potential_type'\n",
      "Loaded IC's for  7  dwarf galaxies\n"
     ]
    }
   ],
   "source": [
    "%matplotlib inline\n",
    "\n",
    "from scipy import interpolate\n",
    "import numpy as np\n",
    "import cgs as cgs\n",
    "import dwarf_model as dw_model\n",
    "from initial_conditions import ic_list as icl ;\n",
    "from matplotlib import rc\n",
    "from scipy.optimize import curve_fit\n",
    "\n",
    "import matplotlib.pyplot as plt\n",
    "import sys\n",
    "from __future__ import print_function"
   ]
  },
  {
   "cell_type": "code",
   "execution_count": 3,
   "metadata": {
    "collapsed": true
   },
   "outputs": [],
   "source": [
    "carina = icl.ic_object_dict['CarinaMidMed']\n",
    "\n",
    "carina_orbit = np.genfromtxt(\"./../orbits/carina_orbit_tab.dat\")\n",
    "t_orbit = carina_orbit[:,0] * cgs.Myr\n",
    "v_orbit = carina_orbit[:,2] * 1.0E5\n",
    "rho_halo = carina.ic['n_halo'] * cgs.mp * carina.ic['mu_halo']\n",
    "\n",
    "anal_carina = dw_model.analytical_dwarf('CarinaMidMed',carina.ic)\n",
    "anal_carina.setup_orbit(t_orbit,rho_halo,v_orbit)"
   ]
  },
  {
   "cell_type": "code",
   "execution_count": 4,
   "metadata": {
    "collapsed": false
   },
   "outputs": [
    {
     "data": {
      "text/plain": [
       "{'M200': 6.74000417704841e+41,\n",
       " 'M_DM': 7.3596700000000005e+40,\n",
       " 'RM': 1.3056121310209298e+21,\n",
       " 'T_dwarf': 10000.0,\n",
       " 'T_halo': 1800000.0,\n",
       " 'b': 2.4531136761000005e+21,\n",
       " 'c': 17.753195173656437,\n",
       " 'mu_dwarf': 1.297,\n",
       " 'mu_halo': 0.62,\n",
       " 'n_halo': 0.00017,\n",
       " 'n_o': 0.544,\n",
       " 'potential_type': 'NFW',\n",
       " 'r_DM': 2.6845394946e+21,\n",
       " 'r_s': 2.4531136761000005e+21,\n",
       " 'rho_crit': 9.74e-30}"
      ]
     },
     "execution_count": 4,
     "metadata": {},
     "output_type": "execute_result"
    }
   ],
   "source": [
    "anal_carina.ic"
   ]
  },
  {
   "cell_type": "code",
   "execution_count": 5,
   "metadata": {
    "collapsed": false
   },
   "outputs": [],
   "source": [
    "fpath=\"/home/emerick/Research/dwarfs/flash_runs/\"\n",
    "adiabatic = np.genfromtxt(fpath + \"carina_adiabatic/carina_adiabatic_mass_dt5Myr.dat\",names=True)\n",
    "adiabatic['t'] = adiabatic['t'] * cgs.Myr\n",
    "adiabatic['m'] = adiabatic['m'] * cgs.Msun"
   ]
  },
  {
   "cell_type": "code",
   "execution_count": 6,
   "metadata": {
    "collapsed": true
   },
   "outputs": [],
   "source": [
    "\n",
    "def function_to_fit(x, p0, p1, p2, dwarf, method):\n",
    "\n",
    "    def _mass_function(a,rpsb,khb,t,d,m):\n",
    "        M_fit, R_fit = d.evolve(t, ['RPS','KH'],\n",
    "                                   physics_kwargs={'RPS':{'alpha':a,'beta':rpsb, 'method':m,\n",
    "                                                                          'T_galaxy':d.ic['T_dwarf'],\n",
    "                                                                          'mu_galaxy':d.ic['mu_dwarf']},\n",
    "                                                   'KH':{'beta':khb}})\n",
    "        return M_fit\n",
    "    # parameters for fit\n",
    "    alpha     = p0\n",
    "    rps_beta  = p1\n",
    "    kh_beta   = p2\n",
    "    \n",
    "    t = np.linspace(0.0,np.max(t_orbit)/cgs.Myr,2000.0)*cgs.Myr\n",
    "    # evolve to get m as function of time\n",
    "    m = _mass_function(alpha,rps_beta,kh_beta,t,dwarf,method)\n",
    "    \n",
    "    # recast as callable function\n",
    "    function = interpolate.UnivariateSpline(t, m,k=3)\n",
    "    \n",
    "    return function(x)"
   ]
  },
  {
   "cell_type": "code",
   "execution_count": 7,
   "metadata": {
    "collapsed": false
   },
   "outputs": [],
   "source": [
    "#func = lambda x,alpha,beta: function_to_fit(x,alpha,beta,anal_carina,method='shock')\n",
    "\n",
    "#popt, pconv = curve_fit(func, adiabatic['m'], adiabatic['t'], p0=[0.75,25.0])"
   ]
  },
  {
   "cell_type": "code",
   "execution_count": 8,
   "metadata": {
    "collapsed": false
   },
   "outputs": [],
   "source": [
    "# time to do some manual fitting\n",
    "alphas     = np.linspace(0.5, 2.5,12)\n",
    "rps_betas  = np.linspace(0.1, 1.5,12)\n",
    "kh_betas   = np.linspace(0.1, 1.5,12)"
   ]
  },
  {
   "cell_type": "code",
   "execution_count": null,
   "metadata": {
    "collapsed": false
   },
   "outputs": [
    {
     "name": "stderr",
     "output_type": "stream",
     "text": [
      "/home/emerick/anaconda/lib/python2.7/site-packages/scipy/interpolate/fitpack2.py:188: UserWarning: \n",
      "A theoretically impossible result was found during the iteration\n",
      "proces for finding a smoothing spline with fp = s: s too small.\n",
      "There is an approximation returned but the corresponding weighted sum\n",
      "of squared residuals does not satisfy the condition abs(fp-s)/s < tol.\n",
      "  warnings.warn(message)\n",
      "1 of 1728 - alpha = 0.500 , rps_beta = 0.100, kh_beta 0.100, error = 7.41184e+78\n",
      "2 of 1728 - alpha = 0.500 , rps_beta = 0.100, kh_beta 0.227, error = 5.61466e+78\n",
      "3 of 1728 - alpha = 0.500 , rps_beta = 0.100, kh_beta 0.355, error = 4.16687e+78\n",
      "4 of 1728 - alpha = 0.500 , rps_beta = 0.100, kh_beta 0.482, error = 3.02538e+78\n",
      "5 of 1728 - alpha = 0.500 , rps_beta = 0.100, kh_beta 0.609, error = 2.15401e+78\n",
      "6 of 1728 - alpha = 0.500 , rps_beta = 0.100, kh_beta 0.736, error = 1.52254e+78"
     ]
    }
   ],
   "source": [
    "%%capture --no-stderr\n",
    "\n",
    "nparams = np.size(alphas)*np.size(rps_betas)*np.size(kh_betas)\n",
    "error  = np.zeros(nparams)\n",
    "params = np.array([[0.,0.,0.]]*nparams)*1.0\n",
    "i=0\n",
    "f = open('shock_parameter_study.dat','w')\n",
    "f.write(\"#alpha rps_beta kh_beta error\\n\")\n",
    "out_format = \"%8.8E %8.8E %8.8E %8.8E\\n\"\n",
    "for a in alphas:\n",
    "    for rps_b in rps_betas:\n",
    "        for kh_b in kh_betas:\n",
    "            m = function_to_fit(adiabatic['t'],a,rps_b,kh_b,anal_carina,method='shock');\n",
    "        \n",
    "            error[i] = np.sum((m - adiabatic['m'])**2)\n",
    "        \n",
    "            params[i][0] = a * 1.0 \n",
    "            params[i][1] = rps_b * 1.0\n",
    "            params[i][2] = kh_b*1.0\n",
    "            print('%i of %i - alpha = %.3f , rps_beta = %.3f, kh_beta %.3f, error = %.5e'%(i+1,nparams,a,rps_b,kh_b,error[i]),file=sys.stderr)\n",
    "            f.write(out_format%(a,rps_b,kh_b,error[i]))\n",
    "            i = i + 1\n",
    "        \n",
    "f.close()        \n",
    "params = np.array(params)\n"
   ]
  },
  {
   "cell_type": "code",
   "execution_count": 40,
   "metadata": {
    "collapsed": false
   },
   "outputs": [
    {
     "name": "stdout",
     "output_type": "stream",
     "text": [
      "12 6.05923450504e+77 8.33774207818e+78\n",
      "[ 0.5         0.18181818  0.1       ]\n",
      "best alpha  = 0.5000 - best beta = 0.1818\n",
      "\n"
     ]
    }
   ],
   "source": [
    "print(np.argmin(error), np.min(error) , np.median(error))\n",
    "print(params[np.argmin(error)])\n",
    "\n",
    "min_err_index = np.argmin(error)\n",
    "best_alpha = params[min_err_index][0]\n",
    "best_beta  = params[min_err_index][1]\n",
    "string = \"best alpha  = %.4f - best beta = %.4f\\n\"%(best_alpha,best_beta)\n",
    "print(string)\n",
    "outfile = open('outfile.dat','w')\n",
    "outfile.write('shock\\n')\n",
    "outfile.write(string)"
   ]
  },
  {
   "cell_type": "code",
   "execution_count": null,
   "metadata": {
    "collapsed": false
   },
   "outputs": [
    {
     "name": "stderr",
     "output_type": "stream",
     "text": [
      "1 of 1728 - alpha = 0.500 , rps_beta = 0.100, kh_beta = 0.100, error = 4.80482e+152\n",
      "2 of 1728 - alpha = 0.500 , rps_beta = 0.100, kh_beta = 0.545, error = 2.53393e+155\n",
      "3 of 1728 - alpha = 0.500 , rps_beta = 0.100, kh_beta = 0.991, error = 2.40015e+151\n",
      "4 of 1728 - alpha = 0.500 , rps_beta = 0.100, kh_beta = 1.436, error = 1.20197e+155\n",
      "5 of 1728 - alpha = 0.500 , rps_beta = 0.100, kh_beta = 1.882, error = 4.98475e+154\n",
      "6 of 1728 - alpha = 0.500 , rps_beta = 0.100, kh_beta = 2.327, error = 3.50021e+155\n",
      "7 of 1728 - alpha = 0.500 , rps_beta = 0.100, kh_beta = 2.773, error = 4.20273e+155\n",
      "8 of 1728 - alpha = 0.500 , rps_beta = 0.100, kh_beta = 3.218, error = 2.16344e+169\n",
      "9 of 1728 - alpha = 0.500 , rps_beta = 0.100, kh_beta = 3.664, error = 1.70150e+170"
     ]
    }
   ],
   "source": [
    "%%capture --no-stderr\n",
    "\n",
    "nparams = np.size(alphas)*np.size(rps_betas)*np.size(kh_betas)\n",
    "sound_error  = np.zeros(nparams)\n",
    "sound_params = np.array([[0.,0.,0.]]*nparams)*1.0\n",
    "i=0\n",
    "f = open('sound_parameter_study.dat','w')\n",
    "f.write(\"#alpha rps_beta kh_beta error\\n\")\n",
    "out_format = \"%8.8E %8.8E %8.8E %8.8E\\n\"\n",
    "for a in alphas:\n",
    "    for rps_b in rps_betas:\n",
    "        for kh_b in kh_betas:\n",
    "            m = function_to_fit(adiabatic['t'],a,rps_b,kh_b,anal_carina,method='sound');\n",
    "        \n",
    "            sound_error[i] = np.sum((m - adiabatic['m'])**2)\n",
    "        \n",
    "            sound_params[i][0] = a * 1.0 \n",
    "            sound_params[i][1] = rps_b * 1.0\n",
    "            sound_params[i][2] = kh_b*1.0\n",
    "            print('%i of %i - alpha = %.3f , rps_beta = %.3f, kh_beta = %.3f, error = %.5e'%(i+1,nparams,a,rps_b,kh_b,sound_error[i]),file=sys.stderr)\n",
    "            f.write(out_format%(a,rps_b,kh_b,error[i]))\n",
    "            i = i + 1\n",
    "f.close()        \n",
    "sound_params = np.array(sound_params)\n"
   ]
  },
  {
   "cell_type": "code",
   "execution_count": null,
   "metadata": {
    "collapsed": false
   },
   "outputs": [],
   "source": [
    "print(np.argmin(sound_error), np.min(sound_error) , np.median(sound_error))\n",
    "print(sound_params[np.argmin(sound_error)])\n",
    "\n",
    "min_err_index = np.argmin(sound_error)\n",
    "best_sound_alpha = sound_params[min_err_index][0]\n",
    "best_sound_beta  = sound_params[min_err_index][1]\n",
    "\n",
    "string = \"best alpha  = %.4f - best beta = %.4f\\n\"%(best_sound_alpha,best_sound_beta)\n",
    "print(string)\n",
    "outfile.write('sound\\n')\n",
    "outfile.write(string)"
   ]
  },
  {
   "cell_type": "code",
   "execution_count": null,
   "metadata": {
    "collapsed": false
   },
   "outputs": [],
   "source": [
    "alpha_shock = 0.5 #best_alpha\n",
    "rps_beta_shock  = 0.18181818 #best_beta\n",
    "kh_beta_shock = 0.1 #best_kh_beta\n",
    "#alpha_sound = best_sound_alpha 0.5         0.18181818  0.1  \n",
    "#beta_sound = best_sound_beta\n",
    "\n",
    "m_shock = function_to_fit(adiabatic['t'],alpha_shock,rps_beta_shock,kh_beta_shock,anal_carina,method='shock')\n",
    "#m_sound = function_to_fit(adiabatic['t'],alpha_sound,beta_sound,anal_carina,method='sound')\n",
    "\n",
    "error_shock = np.sum(((m_shock-adiabatic['m'])/adiabatic['m'][0])**2)\n",
    "#error_sound = np.sum(((m_sound-adiabatic['m'])/adiabatic['m'][0])**2)\n",
    "\n",
    "plt.plot(adiabatic['t']/cgs.Myr, adiabatic['m']/adiabatic['m'][0],color='red',lw=2,label='sim')\n",
    "plt.plot(adiabatic['t']/cgs.Myr, m_shock/m_shock[0] ,color='black',lw=2,label='model - shock')\n",
    "#plt.plot(adiabatic['t']/cgs.Myr, m_sound/m_sound[0] ,color='blue',lw=2,label='model - sound')\n",
    "\n",
    "plt.ylim(0,1)\n",
    "plt.legend(loc='best')"
   ]
  },
  {
   "cell_type": "code",
   "execution_count": null,
   "metadata": {
    "collapsed": true
   },
   "outputs": [],
   "source": [
    "outfile.close()"
   ]
  },
  {
   "cell_type": "code",
   "execution_count": null,
   "metadata": {
    "collapsed": true
   },
   "outputs": [],
   "source": [
    "f = open('alpha_beta_rps.dat','w')\n",
    "string = \"%8.8e %8.8e %8.8e %8.8e %8.8e %8.8e\\n\"\n",
    "\n",
    "f.write(\"alpha_shock beta_shock error_shock alpha_sound beta_sound error_sound\\n\")\n",
    "for i in np.arange(np.size(alpha_shock)):\n",
    "    f.write(string%(alpha_shock[i], beta_shock[i], error_shock[i], alpha_sound[i], beta_sound[i], error_sound[i]))\n",
    "    \n",
    "f.close()"
   ]
  },
  {
   "cell_type": "code",
   "execution_count": null,
   "metadata": {
    "collapsed": true
   },
   "outputs": [],
   "source": []
  },
  {
   "cell_type": "code",
   "execution_count": null,
   "metadata": {
    "collapsed": true
   },
   "outputs": [],
   "source": []
  }
 ],
 "metadata": {
  "kernelspec": {
   "display_name": "Python 2",
   "language": "python",
   "name": "python2"
  },
  "language_info": {
   "codemirror_mode": {
    "name": "ipython",
    "version": 2
   },
   "file_extension": ".py",
   "mimetype": "text/x-python",
   "name": "python",
   "nbconvert_exporter": "python",
   "pygments_lexer": "ipython2",
   "version": "2.7.9"
  }
 },
 "nbformat": 4,
 "nbformat_minor": 0
}
