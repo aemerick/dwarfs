{
 "metadata": {
  "name": "",
  "signature": "sha256:e90fc45959a27ff5ab76c216dc7b63f37b43999c776b63c15ce2232e83d6607e"
 },
 "nbformat": 3,
 "nbformat_minor": 0,
 "worksheets": [
  {
   "cells": [
    {
     "cell_type": "code",
     "collapsed": false,
     "input": [
      "%matplotlib inline\n",
      "\n",
      "from initial_conditions import profiles as prof\n",
      "from initial_conditions import ic_list as icl\n",
      "import cgs as cgs\n",
      "import numpy as np\n",
      "import matplotlib.pyplot as plt"
     ],
     "language": "python",
     "metadata": {},
     "outputs": [
      {
       "output_type": "stream",
       "stream": "stdout",
       "text": [
        "using cgs py\n",
        "Loading IC for "
       ]
      },
      {
       "output_type": "stream",
       "stream": "stdout",
       "text": [
        " Leo_T_burkert\n",
        "Loading IC for  Leo_T\n",
        "MUST SET A 'potential_type'\n",
        "Loading IC for  Sextans_test\n",
        "MUST SET A 'potential_type'\n",
        "Loading IC for  Leo_T_obs\n",
        "Assuming primordial neutral for dwarf mu = 1.31\n",
        "Assuming primordial ionized for halo mu = 0.6\n",
        "If M200 or n_o are not set, they will be solved for\n",
        "using the profile choice\n",
        "Loading IC for  CarinaMidMed\n",
        "Assuming primordial ionized for halo mu = 0.6\n",
        "If M200 or n_o are not set, they will be solved for\n",
        "using the profile choice\n",
        "Loading IC for  Leo_T_solve_burkert\n",
        "Assuming primordial neutral for dwarf mu = 1.31\n",
        "Assuming primordial ionized for halo mu = 0.6\n",
        "If M200 or n_o are not set, they will be solved for\n",
        "using the profile choice\n",
        "Loading IC for  Leo_test\n",
        "MUST SET A 'potential_type'\n",
        "Loaded IC's for  7  dwarf galaxies\n"
       ]
      }
     ],
     "prompt_number": 1
    },
    {
     "cell_type": "code",
     "collapsed": false,
     "input": [
      "leo_T_burkert = icl.ic_object_dict['Leo_T_solve_burkert']\n",
      "leo_T_NFW     = icl.ic_object_dict['Leo_T_obs']\n",
      "leo_T_NFW.FLASH_readable_ic()"
     ],
     "language": "python",
     "metadata": {},
     "outputs": [
      {
       "output_type": "stream",
       "stream": "stdout",
       "text": [
        "sim_rho_crit       = 9.74000000E-30\n",
        "sim_TCloud         = 6.00000000E+03\n",
        "sim_rhoCenter      = 1.93809813E-24\n",
        "sim_mu_halo        = 6.00000000E-01\n",
        "sim_TAmbient       = 3.82607607E+05\n",
        "sim_M200           = 6.15304636E+41\n",
        "sim_bparam         = 2.45311368E+21\n",
        "sim_rhoAmbient     = 4.51607400E-28\n",
        "sim_mu_dwarf       = 1.31000000E+00\n"
       ]
      }
     ],
     "prompt_number": 2
    },
    {
     "cell_type": "code",
     "collapsed": false,
     "input": [
      "for label in leo_T_burkert.ic:\n",
      "    try:\n",
      "        print \"%10s %8.8e %8.8e\"%(label, leo_T_NFW.ic[label],leo_T_burkert.ic[label])\n",
      "    except:\n",
      "        print \"-\"\n",
      "print 1.45204E40 / cgs.Msun\n",
      "print 9.25703274E20 / cgs.pc"
     ],
     "language": "python",
     "metadata": {},
     "outputs": [
      {
       "output_type": "stream",
       "stream": "stdout",
       "text": [
        "   T_dwarf 6.00000000e+03 6.00000000e+03\n",
        "         b 2.45311368e+21 1.45767409e+21\n",
        "   mu_halo 6.00000000e-01 6.00000000e-01\n",
        "      M200 6.15304636e+41 8.26147025e+41\n",
        "    n_halo 4.50000000e-04 4.50000000e-04\n",
        "       r_s 2.45311368e+21 1.45767409e+21\n",
        "       n_o 8.84519030e-01 5.11739818e-01\n",
        "      M_DM 1.45204300e+40 1.45204300e+40\n",
        "      M_HI 5.56948000e+38 5.56948000e+38\n",
        "    T_halo 3.82607607e+05 1.62436587e+05\n",
        "  rho_crit 9.74000000e-30 9.74000000e-30\n",
        "  mu_dwarf 1.31000000e+00 1.31000000e+00\n",
        "      r_HI 9.25703274e+20 9.25703274e+20\n",
        "-\n",
        "      r_DM 9.25703274e+20 9.25703274e+20\n",
        "7299984.9178\n",
        "300.0\n"
       ]
      }
     ],
     "prompt_number": 3
    },
    {
     "cell_type": "code",
     "collapsed": false,
     "input": [
      "for dwarf in [leo_T_burkert,leo_T_NFW]:\n",
      "    const = [1.0/cgs.Msun,1.0,1.0]\n",
      "    i = 0\n",
      "    print dwarf.name\n",
      "    for param in ['M200','n_o','T_halo']:\n",
      "        print param + \" = %5.5e\"%(dwarf.ic[param]*const[i])\n",
      "        i=i+1\n",
      "        "
     ],
     "language": "python",
     "metadata": {},
     "outputs": [
      {
       "output_type": "stream",
       "stream": "stdout",
       "text": [
        "Leo_T_solve_burkert\n",
        "M200 = 4.15337e+08\n",
        "n_o = 5.11740e-01\n",
        "T_halo = 1.62437e+05\n",
        "Leo_T_obs\n",
        "M200 = 3.09338e+08\n",
        "n_o = 8.84519e-01\n",
        "T_halo = 3.82608e+05\n"
       ]
      }
     ],
     "prompt_number": 4
    },
    {
     "cell_type": "code",
     "collapsed": false,
     "input": [
      "r      = np.linspace(0.0001,leo_T_burkert.ic['r_HI'],1000)\n",
      "radius = 350.0 * cgs.pc\n",
      "leo_T_burkert.find_density_profile(r,type='Burkert_isothermal')\n",
      "leo_T_NFW.find_density_profile(r,type='NFW_isothermal')\n",
      "\n",
      "leo_T_WNM = np.genfromtxt('/home/emerick/Research/dwarfs/analysis/initial_conditions/Leo_T_WNM.dat',names=True,delimiter=',')\n",
      "leo_T_WNM['r'] = leo_T_WNM['r'] * 1000.0 # kpc to pc\n",
      "leo_T_WNM['NHI'] = 10**(leo_T_WNM['NHI'])"
     ],
     "language": "python",
     "metadata": {},
     "outputs": [],
     "prompt_number": 5
    },
    {
     "cell_type": "code",
     "collapsed": false,
     "input": [
      "(1./2.645049E-12 - 378064559158) / 378064559158.\n",
      "\n"
     ],
     "language": "python",
     "metadata": {},
     "outputs": [
      {
       "metadata": {},
       "output_type": "pyout",
       "prompt_number": 6,
       "text": [
        "7.158642036833e-07"
       ]
      }
     ],
     "prompt_number": 6
    },
    {
     "cell_type": "code",
     "collapsed": false,
     "input": [
      "print leo_T_WNM['NHI']"
     ],
     "language": "python",
     "metadata": {},
     "outputs": [
      {
       "output_type": "stream",
       "stream": "stdout",
       "text": [
        "[  2.62580485e+20   2.48820073e+20   2.35795299e+20   2.26147768e+20\n",
        "   2.15614229e+20   2.06808881e+20   1.86921458e+20   1.66991955e+20\n",
        "   1.47474000e+20   1.34178985e+20   1.19968892e+20   1.07924449e+20\n",
        "   9.65455793e+19   8.68959361e+19   7.64268159e+19   6.76350418e+19\n",
        "   6.19938373e+19   5.39487427e+19   4.53712969e+19   3.68908991e+19\n",
        "   3.14275641e+19   2.81979445e+19   2.53068407e+19   2.28473425e+19\n",
        "   1.99430109e+19   1.80146245e+19   1.52138984e+19   1.27136934e+19\n",
        "   1.07513710e+19   9.40626860e+18   8.46426992e+18   7.36984364e+18]\n"
       ]
      }
     ],
     "prompt_number": 7
    },
    {
     "cell_type": "code",
     "collapsed": false,
     "input": [
      "print 3.0E-26 * 10.0*cgs.pc / (1.31*cgs.mp)"
     ],
     "language": "python",
     "metadata": {},
     "outputs": [
      {
       "output_type": "stream",
       "stream": "stdout",
       "text": [
        "4.22477144008e+17\n"
       ]
      }
     ],
     "prompt_number": 8
    },
    {
     "cell_type": "code",
     "collapsed": false,
     "input": [
      "r      = np.linspace(0.0001,300.0,1000) * cgs.pc\n",
      "\n",
      "fig = plt.figure(figsize=[12,6])\n",
      "ax1 = fig.add_subplot(1,2,1)\n",
      "ax1.plot(r/cgs.pc, leo_T_burkert.rho, lw = 2, label = 'Burkert',color='black')\n",
      "\n",
      "ax1.plot(r/cgs.pc, leo_T_NFW.rho, lw = 2, label = 'NFW',color='blue')\n",
      "ax1.set_xlabel('r (pc)')\n",
      "ax1.set_ylabel(r'$\\rho$ (g cm$^{-3}$)')\n",
      "ax1.legend(loc='best')\n",
      "ax1.semilogy()\n",
      "ax1.set_ylim(1.0E-26,1.0E-23)\n",
      "leo_T_burkert.rho[-1]/leo_T_NFW.rho[-1]\n",
      "\n",
      "leo_T_burkert.column_density(r, R = 300.0*cgs.pc)\n",
      "leo_T_NFW.column_density(r, R = 300.0*cgs.pc)\n",
      "N_HI_burkert = leo_T_burkert.NHI\n",
      "N_HI_NFW = leo_T_NFW.NHI\n",
      "print np.size(N_HI_burkert), np.size(r)\n",
      "ax2 = fig.add_subplot(1,2,2)\n",
      "#fig,ax1=plt.subplots(figsize=(8,8))\n",
      "ax2.plot(r/cgs.pc, N_HI_burkert, label=' Burkert', lw=2 ,color='black')\n",
      "ax2.plot(r/cgs.pc, N_HI_NFW, label='NFW', lw=2, color='blue')\n",
      "ax2.set_xlabel('r (pc)')\n",
      "ax2.set_ylabel(r'N$_{\\rm{HI}}$ (cm$^{-2}$)')\n",
      "ax2.semilogy()\n",
      "#plt.plot(plt.xlim(),[7.0E20,7.0E20],lw=1.0,color='red', label = r'N$_{\\rm{HI}}$ max - RW08')\n",
      "ax2.plot(plt.xlim(),[2.4E20,2.4E20],lw=1.0,color='red',ls='--', label = r'N$_{\\rm{HI}}$ max - F13')\n",
      "\n",
      "ax2.plot(leo_T_WNM['r'], leo_T_WNM['NHI'], lw=2.0, color='green', label=r'WNM from RW08')\n",
      "\n",
      "ax2.plot(plt.xlim(),[2.0E19,2.0E19],lw=1.0,ls='-.',color='red',label=r'WRST N$_{\\rm{HI}}$ limit')\n",
      "ax2.legend(loc='best')\n",
      "\n",
      "plt.savefig('/home/emerick/Research/dwarfs/analysis/initial_conditions/LT_density.png')"
     ],
     "language": "python",
     "metadata": {},
     "outputs": [
      {
       "output_type": "stream",
       "stream": "stderr",
       "text": [
        "/home/emerick/anaconda/lib/python2.7/site-packages/scipy/integrate/quadpack.py:321: IntegrationWarning: The algorithm does not converge.  Roundoff error is detected\n",
        "  in the extrapolation table.  It is assumed that the requested tolerance\n",
        "  cannot be achieved, and that the returned result (if full_output = 1) is \n",
        "  the best which can be obtained.\n",
        "  warnings.warn(msg, IntegrationWarning)\n",
        "/home/emerick/Research/dwarfs/analysis/initial_conditions/profiles.py:544: RuntimeWarning: divide by zero encountered in double_scalars\n",
        "  integrand = lambda x,b : 2.0*x/np.sqrt(x**2-b**2) * density_function(x,**kwargs)\n"
       ]
      },
      {
       "output_type": "stream",
       "stream": "stdout",
       "text": [
        "9.25703274e+20\n",
        "9.25703274e+20"
       ]
      },
      {
       "output_type": "stream",
       "stream": "stdout",
       "text": [
        "\n",
        "1000 1000\n"
       ]
      },
      {
       "output_type": "stream",
       "stream": "stderr",
       "text": [
        "/home/emerick/anaconda/lib/python2.7/site-packages/scipy/integrate/quadpack.py:321: IntegrationWarning: Extremely bad integrand behavior occurs at some points of the\n",
        "  integration interval.\n",
        "  warnings.warn(msg, IntegrationWarning)\n"
       ]
      },
      {
       "metadata": {},
       "output_type": "display_data",
       "png": "[encoded data removed]",
       "text": [
        "<matplotlib.figure.Figure at 0x7f0f60037710>"
       ]
      }
     ],
     "prompt_number": 9
    },
    {
     "cell_type": "code",
     "collapsed": false,
     "input": [
      "print N_HI_burkert"
     ],
     "language": "python",
     "metadata": {},
     "outputs": [
      {
       "output_type": "stream",
       "stream": "stdout",
       "text": [
        "[  1.74840721e+11   5.79651658e+11   4.43322931e+11   7.46619173e+11\n",
        "   2.20800903e+11   4.05437302e+11   5.33252865e+11   3.74386709e+11\n",
        "   3.90480360e+11   4.68977495e+11   7.41551143e+11   8.44897720e+11\n",
        "   4.75542168e+11   7.61931169e+11   6.80572527e+11   6.70968869e+11\n",
        "   6.73878037e+11   7.37057579e+11   8.23815240e+11   6.04440139e+11\n",
        "   6.89536369e+11   8.03794825e+11   5.30718867e+09   4.51969729e+10\n",
        "   6.10874540e+09   8.56311071e+08   6.11785916e+09   3.63475919e+09\n",
        "   3.43137993e+09   5.37109266e+09   6.90994116e+11   3.19409316e+09\n",
        "   3.68283967e+09   1.07360018e+09   6.16861876e+09   5.27514698e+09\n",
        "   9.24449014e+08   1.25775921e+09   3.22063909e+09   3.14127041e+09\n",
        "   6.29859156e+09   7.17463919e+11   6.54616510e+11   5.92470041e+11\n",
        "   5.50961936e+11   5.09287732e+11   4.78002902e+11   4.46508174e+11\n",
        "   4.17464809e+11   3.91881697e+11   3.66981435e+11   3.46620928e+11\n",
        "   3.40084499e+11   3.08108350e+11   2.92941833e+11   2.74934627e+11\n",
        "   2.60983446e+11   2.45473697e+11   2.35430946e+11   1.03730181e+10\n",
        "   1.30043363e+09   2.93540938e+09   2.16907878e+10   6.19614879e+11\n",
        "   1.88590924e+10   3.34308286e+09   1.66120473e+09   7.99037882e+09\n",
        "   2.53424828e+09   3.19476892e+09   1.37241682e+09   3.72293665e+09\n",
        "   3.00159779e+09   3.78807255e+08   1.22826393e+11   1.14138093e+11\n",
        "   1.10509984e+11   1.05676239e+11   1.00230280e+11   1.01386598e+11\n",
        "   9.31958241e+10   8.82217961e+10   8.59134065e+10   8.09608772e+10\n",
        "   8.16261222e+10   7.37502096e+10   7.24223629e+10   7.11609558e+10\n",
        "   6.55383735e+10   5.03306352e+11   4.73793754e+11   4.49412265e+11\n",
        "   4.19193309e+11   4.05087409e+11   3.83091262e+11   3.63710096e+11\n",
        "   3.41072834e+11   3.21401223e+11   3.05749877e+11   3.00712962e+11\n",
        "   2.72037622e+11   2.60911510e+11   2.46036066e+11   2.33882903e+11\n",
        "   2.19809619e+11   2.05697572e+11   1.96262979e+11   1.87990528e+11\n",
        "   1.49952392e+11   1.44081113e+11   1.32234303e+11   1.27238668e+11\n",
        "   1.20563745e+11   1.12740942e+11   1.09590313e+11   9.85185851e+10\n",
        "   9.26812134e+10   8.57649909e+10   7.92860796e+10   7.57781895e+10\n",
        "   7.00675732e+10   6.46634581e+10   6.13777938e+10   5.63930374e+10\n",
        "   3.64489048e+11   3.25988090e+11   2.90691649e+11   2.57053892e+11\n",
        "   2.22088464e+11   2.04544301e+11   1.84488710e+11   1.81602503e+11\n",
        "   2.00856671e+11   1.03549610e+10   1.85251333e+11   9.17735567e+10\n",
        "   1.26110939e+11   1.53242937e+11   8.59911486e+10   2.04203615e+11\n",
        "   2.43125967e+11   2.79247626e+11   3.11094385e+11   4.81587159e+10\n",
        "   5.85137247e+10   6.62083069e+10   7.51569764e+10   8.01769320e+10\n",
        "   9.08806590e+10   9.93278562e+10   1.05327972e+11   1.11841571e+11\n",
        "   1.14756406e+11   1.26776375e+11   1.25769986e+11   1.30902958e+11\n",
        "   1.41672242e+11   1.39608803e+11   1.43986543e+11   1.50253042e+11\n",
        "   1.57260256e+11   1.54691511e+11   1.58551531e+11   1.61091125e+11\n",
        "   1.60738257e+11   1.66322704e+11   1.69575214e+11   1.73366055e+11\n",
        "   1.75546180e+11   1.75546383e+11   1.88965590e+11   1.75970840e+11\n",
        "   1.77688114e+11   1.83541970e+11   1.85300903e+11   1.85689748e+11\n",
        "   1.84167355e+11   1.86824074e+11   1.91085796e+11   1.89244962e+11\n",
        "   1.91708342e+11   1.90323206e+11   1.92077459e+11   1.91154636e+11\n",
        "   1.91873239e+11   1.91744498e+11   1.91010885e+11   1.92860115e+11\n",
        "   1.92439330e+11   1.94363297e+11   1.92122310e+11   1.92837839e+11\n",
        "   1.93437111e+11   1.94429805e+11   2.10742722e+11   2.01229427e+11\n",
        "   1.92600274e+11   1.91942717e+11   1.91126838e+11   1.90937416e+11\n",
        "   1.90871882e+11   1.91550466e+11   1.90829776e+11   1.91549124e+11\n",
        "   1.88618582e+11   1.89914188e+11   1.90304510e+11   1.87295214e+11\n",
        "   1.86405631e+11   1.87523824e+11   1.85294494e+11   1.85110838e+11\n",
        "   1.84420363e+11   1.83099539e+11   1.83346265e+11   1.83311090e+11\n",
        "   1.80967144e+11   1.79725636e+09   1.77097834e+10   1.72427149e+09\n",
        "   7.36251884e+08   2.62283688e+09   1.40641253e+09   1.40179884e+09\n",
        "   3.45516003e+09   7.70265539e+08   1.14867960e+09   2.30690398e+10\n",
        "   1.99706546e+09   8.17135043e+08   3.43611023e+08   3.66077587e+10\n",
        "   2.12855572e+09   1.67384977e+09   1.14774221e+09   1.39939930e+09\n",
        "   8.11214684e+08   4.58482422e+08   1.50850134e+09   8.67878195e+08\n",
        "   7.64221092e+08   1.14899356e+09   5.97375824e+09   1.90081180e+09\n",
        "   1.55058522e+09   9.46267628e+08   1.19951245e+09   2.83697295e+08\n",
        "   3.91190671e+08   7.89508348e+09   3.20165567e+10   4.80118641e+08\n",
        "   9.83718380e+08   1.28783045e+09   2.96532214e+08   5.11061484e+08\n",
        "   1.44450929e+10   2.19875174e+10   3.89271040e+08   6.62032118e+08\n",
        "   3.71584717e+08   1.25116937e+10   4.29489560e+09   7.63537859e+08\n",
        "   6.67143660e+08   7.59360717e+08   8.88889487e+08   2.54220489e+09\n",
        "   1.58895692e+09   4.32863416e+08   8.68784189e+08   1.37754511e+10\n",
        "   1.19471935e+09   8.44527165e+08   3.08609147e+08   4.19488788e+08\n",
        "   7.00042015e+08   1.04833700e+09   5.35463526e+08   1.24308091e+09\n",
        "   2.86306140e+08   7.94429870e+08   2.94804785e+10   1.69389736e+10\n",
        "   3.33343089e+08   1.41398192e+09   8.38954553e+09   5.44692872e+10\n",
        "   5.80864154e+08   2.89076449e+08   6.29045555e+08   2.55288545e+08\n",
        "   4.93450660e+08   1.11649961e+09   1.00231967e+09   7.23753349e+08\n",
        "   1.41081281e+10   1.18353048e+09   5.55302707e+08   2.82703841e+08\n",
        "   1.43257723e+08   8.27893350e+08   9.40497521e+08   7.27413955e+08\n",
        "   7.75984067e+08   1.85845843e+10   1.32048496e+10   1.50258322e+09\n",
        "   1.12117011e+09   2.32405463e+08   1.21470056e+09   5.21442294e+08\n",
        "   1.17767665e+09   8.40916644e+08   1.13785102e+09   9.45709230e+08\n",
        "   3.08997857e+08   5.84334141e+08   1.41730241e+09   7.02514063e+08\n",
        "   4.05744886e+08   2.05359068e+09   1.62888196e+09   1.12085466e+09\n",
        "   5.56439685e+08   1.18552635e+09   9.49301064e+08   2.69838170e+10\n",
        "   1.90726514e+09   7.13262534e+10   7.46800138e+08   6.92471013e+10\n",
        "   3.67867883e+10   1.72339017e+09   6.83515529e+10   6.73153526e+10\n",
        "   6.74294361e+10   6.56143641e+10   6.55231136e+10   6.46389529e+10\n",
        "   6.41073466e+10   6.26613731e+10   6.22996459e+10   6.15417555e+10\n",
        "   6.12578086e+10   5.99657218e+10   5.93610715e+10   5.90967567e+10\n",
        "   5.82392055e+10   5.81588762e+10   5.65802941e+10   5.71298065e+10\n",
        "   5.64155744e+10   5.62003402e+10   5.46184638e+10   5.36797483e+10\n",
        "   5.36217281e+10   5.37112047e+10   5.20741838e+10   5.14732651e+10\n",
        "   5.18621378e+10   5.07720435e+10   4.96213225e+10   4.97121716e+10\n",
        "   4.98893637e+10   4.84413674e+10   4.76741106e+10   4.83544629e+10\n",
        "   4.67280074e+10   4.64745884e+10   4.55462157e+10   4.57176445e+10\n",
        "   4.52600919e+10   4.39098159e+10   4.37204299e+10   4.43575385e+10\n",
        "   4.29838625e+10   4.21503602e+10   4.18345232e+10   4.17654341e+10\n",
        "   4.09330003e+10   3.81611913e+09   4.02394127e+10   4.06115289e+10\n",
        "   3.97600207e+10   3.89927677e+10   3.85429953e+10   3.79432320e+10\n",
        "   3.79788577e+10   3.67110739e+10   3.68829167e+10   3.60539346e+10\n",
        "   3.63517810e+10   3.47629646e+10   3.47710524e+10   3.45769289e+10\n",
        "   3.47300367e+10   3.36261803e+10   3.29734002e+10   3.25875853e+10\n",
        "   3.22869336e+10   3.19982510e+10   3.20071947e+10   3.13526038e+10\n",
        "   3.08976807e+10   3.06074972e+10   3.08431140e+10   3.02456459e+10\n",
        "   2.94039145e+10   2.96117310e+10   2.88822188e+10   2.82857883e+10\n",
        "   2.81378877e+10   2.77453104e+10   2.76535370e+10   2.73932845e+10\n",
        "   2.64276778e+10   2.65487013e+10   2.59475091e+10   2.58561648e+10\n",
        "   2.57245669e+10   2.53326623e+10   2.52230254e+10   2.46074442e+10\n",
        "   2.49840986e+10   2.43652888e+10   2.40846552e+10   2.35749038e+10\n",
        "   2.34172649e+10   2.29256580e+10   2.29299121e+10   2.28841191e+10\n",
        "   2.35162306e+10   2.19966200e+10   2.14753406e+10   2.11967728e+10\n",
        "   2.10226092e+10   2.10012795e+10   2.05709255e+10   2.01551205e+10\n",
        "   2.13816962e+10   2.02542828e+10   1.98440629e+10   2.00377322e+10\n",
        "   1.93927009e+10   1.89289328e+10   1.87972822e+10   1.82892056e+10\n",
        "   1.82948691e+10   1.82604795e+10   1.82194048e+10   1.76014696e+10\n",
        "   1.75477315e+10   1.75268346e+10   1.70836662e+10   1.71583423e+10\n",
        "   1.66893692e+10   1.66004551e+10   1.59361382e+10   1.61407479e+10\n",
        "   1.57891159e+10   1.62005267e+10   1.54303338e+10   1.52987353e+10\n",
        "   1.51613156e+10   1.46004605e+10   1.49877861e+10   1.46031002e+10\n",
        "   1.43114096e+10   1.41021851e+10   1.41778336e+10   1.35074438e+10\n",
        "   1.34965125e+10   1.31934974e+10   1.38707841e+10   1.32043790e+10\n",
        "   1.30444404e+10   1.26443272e+10   1.28486231e+10   1.25080855e+10\n",
        "   1.23369751e+10   1.21895078e+10   1.21536679e+10   1.18556143e+10\n",
        "   1.14986761e+10   1.17270048e+10   1.11833957e+10   1.15935280e+10\n",
        "   1.10556496e+10   1.11209281e+10   1.20987117e+10   1.07009045e+10\n",
        "   1.09867911e+10   1.06045579e+10   1.01229768e+10   1.02317377e+10\n",
        "   1.02712434e+10   1.01069329e+10   9.89046254e+09   9.55986397e+09\n",
        "   9.78641018e+09   1.06899369e+10   9.47339870e+09   9.16170286e+09\n",
        "   9.27636532e+09   9.27681234e+09   8.99228511e+09   8.40821111e+09\n",
        "   8.57991346e+09   8.50850101e+09   8.37801279e+09   8.31950982e+09\n",
        "   8.10470453e+09   8.29804834e+09   8.20485222e+09   7.62688844e+09\n",
        "   7.73939244e+09   7.77534236e+09   7.41597380e+09   7.54847901e+09\n",
        "   7.22264158e+09   7.26607493e+09   6.99948874e+09   7.15880244e+09\n",
        "   7.09572371e+09   7.00593535e+09   6.72384690e+09   6.92213070e+09\n",
        "   6.88424881e+09   6.38656308e+09   6.39082132e+09   6.45826108e+09\n",
        "   6.36736676e+09   6.14151163e+09   6.13829057e+09   6.07317018e+09\n",
        "   6.11085789e+09   5.88210556e+09   5.86263584e+09   5.88178562e+09\n",
        "   5.72146874e+09   6.29115841e+09   5.42940334e+09   5.66078133e+09\n",
        "   1.19577035e+10   5.25991420e+09   5.05161775e+09   7.16707300e+09\n",
        "   5.42923664e+09   4.89614443e+09   5.11529431e+09   4.82986501e+09\n",
        "   4.97120236e+09   8.46726874e+09   5.83529072e+09   4.56908808e+09\n",
        "   4.71302511e+09   4.52333752e+09   4.48424185e+09   6.19812403e+09\n",
        "   4.49506790e+09   4.19465513e+09   4.38614032e+09   4.26068020e+09\n",
        "   3.99768080e+09   4.00587521e+09   4.07631897e+09   4.21748635e+09\n",
        "   7.03623364e+09   3.73879846e+09   3.79088164e+09   3.65932905e+09\n",
        "   3.60629316e+09   3.57034446e+09   3.60720663e+09   3.47179450e+09\n",
        "   3.56734148e+09   4.42273684e+09   8.66822893e+09   3.28398991e+09\n",
        "   3.73542378e+09   3.28223717e+09   3.17650794e+09   3.29698256e+09\n",
        "   4.89688037e+09   5.13469189e+09   3.07449407e+09   3.22589584e+09\n",
        "   3.35591395e+09   3.02084811e+09   2.75622650e+09   4.58410875e+09\n",
        "   2.83855517e+09   2.83434710e+09   2.88643673e+09   2.89794302e+09\n",
        "   4.01765500e+09   2.73930479e+09   3.08860930e+09   2.67593640e+09\n",
        "   2.50077004e+09   4.98066923e+09   2.46331050e+09   4.70945832e+09\n",
        "   2.34144129e+09   2.31634471e+09   2.47259022e+09   2.26494570e+09\n",
        "   4.15589827e+09   2.18270187e+09   2.18573428e+09   3.91519739e+09\n",
        "   2.11426230e+09   2.23019424e+09   1.94083766e+09   3.40129486e+09\n",
        "   2.82190949e+09   2.51713923e+09   2.02256514e+09   1.99934026e+09\n",
        "   1.90808685e+09   1.99276320e+09   5.71908397e+09   1.76193211e+09\n",
        "   1.70944098e+09   1.85957616e+09   1.71165700e+09   2.77420202e+09\n",
        "   1.75241431e+09   1.59527085e+09   1.81436737e+09   1.64217679e+09\n",
        "   1.71589609e+09   1.70972204e+09   1.61759506e+09   1.55850594e+09\n",
        "   1.99052905e+09   1.68023901e+09   1.94178692e+09   3.55775631e+09\n",
        "   1.68555734e+09   2.04650419e+09   1.54115684e+09   1.38818388e+09\n",
        "   1.33118960e+09   3.51358096e+09   1.59356033e+09   1.33964741e+09\n",
        "   1.58403310e+09   1.24984512e+09   1.19737903e+09   1.17535163e+09\n",
        "   1.65864008e+09   1.37474161e+09   1.88611495e+09   1.50118788e+09\n",
        "   1.78345419e+09   1.14105695e+09   1.28410934e+09   1.05005615e+09\n",
        "   9.68025412e+08   1.35268701e+09   1.26373774e+09   1.18636722e+09\n",
        "   1.20408601e+09   1.04780051e+09   4.36193104e+08   5.01952018e+08\n",
        "   7.72234880e+07   1.35350924e+08   7.04957426e+08   5.24970962e+08\n",
        "   3.46809475e+08   3.81478518e+08   2.43870831e+08   4.01879693e+08\n",
        "   2.36476971e+08   5.38904548e+08   3.87247784e+08   3.25697875e+08\n",
        "   4.36997155e+08   3.02609551e+08   9.47191749e+08   3.08714267e+08\n",
        "   2.30912012e+08   4.08928620e+08   2.40731995e+08   7.59744895e+08\n",
        "   1.92771238e+09   2.30625571e+08   6.65619747e+08   2.23063846e+08\n",
        "   6.48581149e+08   3.29131795e+08   7.66882310e+08   2.91891105e+09\n",
        "   6.42972787e+08   3.02313440e+08   3.53770848e+07   3.83012616e+08\n",
        "   6.95140760e+08   7.48686785e+08   7.44073793e+08   2.84780826e+09\n",
        "   6.08578458e+07   7.90545943e+08   1.18962744e+09   5.63284259e+08\n",
        "   4.91133628e+08   4.13338428e+08   2.10088954e+08   4.77868699e+08\n",
        "   1.70726597e+09   3.68549276e+09   3.31392388e+08   1.94276056e+08\n",
        "   5.28806300e+08   3.09444033e+08   2.55618248e+08   6.03079887e+08\n",
        "   3.48339087e+08   8.45933157e+08   7.20979583e+08   5.04129964e+08\n",
        "   5.44930307e+08   1.65402582e+08   2.30710368e+07   4.89389337e+08\n",
        "   4.63040238e+08   2.75617053e+09   4.63608166e+07   2.34616669e+09\n",
        "   1.08697491e+08   3.34653921e+09   2.03533835e+09   7.63662227e+07\n",
        "   3.96083283e+08   3.45999303e+08   5.38375911e+08   1.12812817e+09\n",
        "   2.87203585e+08   2.41905181e+08   6.28205062e+07   2.83840025e+08\n",
        "   1.11704352e+09   1.03042383e+09   3.19953277e+07   4.27100972e+08\n",
        "   1.34457824e+08   4.00271428e+08   2.31325717e+08   8.67316621e+07\n",
        "   1.75827730e+08   6.68443200e+08   6.44640995e+08   5.50107373e+08\n",
        "   3.76035988e+08   3.63647222e+07   3.11612098e+08   1.19839650e+08\n",
        "   9.88724638e+08   8.39270605e+07   1.26275933e+09   3.49896639e+08\n",
        "   7.57412960e+08   4.91706088e+08   7.03557508e+08   1.29959482e+08\n",
        "   2.76936911e+08   4.84169148e+08   7.65655816e+08   4.62021392e+08\n",
        "   5.75045902e+08   2.90832934e+07   5.54418905e+08   4.06601731e+08\n",
        "   3.47098812e+08   3.99547828e+08   7.10315462e+07   7.24140658e+08\n",
        "   4.01937790e+08   4.01243601e+08   8.54274032e+07   3.33218954e+07\n",
        "   5.61600563e+07   5.29148197e+08   1.04149752e+09   3.70324445e+07\n",
        "   3.34134268e+08   1.65114009e+09   4.71523586e+08   4.20977661e+08\n",
        "   1.44620966e+08   3.76123775e+08   5.22372699e+08   5.48916317e+07\n",
        "   9.32949204e+08   1.29811394e+09   3.22206863e+08   6.17387397e+08\n",
        "   2.80520289e+08   5.31219038e+08   3.06220143e+08   2.93511135e+08\n",
        "   4.28448914e+08   6.00354920e+08   9.05155616e+07   1.08741059e+09\n",
        "   8.04403002e+07   6.13954972e+08   1.26375654e+09   2.30774842e+08\n",
        "   1.90176521e+09   1.36779925e+08   5.97890627e+08   1.96471943e+08\n",
        "   9.09322806e+07   3.01834396e+08   2.60960750e+08   4.49739101e+07\n",
        "   9.29941510e+08   4.28237365e+08   1.05175438e+09   2.01305688e+08\n",
        "   2.15856889e+08   1.93194278e+08   4.93083838e+08   2.60440079e+08\n",
        "   8.97912614e+08   1.38737796e+08   3.69552630e+08   3.31982462e+08\n",
        "   1.52893139e+08   8.13347405e+08   2.16330746e+08   3.25979246e+08\n",
        "   3.94423322e+07   2.18492130e+08   1.87305444e+08   1.49898270e+08\n",
        "   3.01537596e+08   3.34797412e+08   1.83512422e+07   1.85824128e+08\n",
        "   4.76036411e+08   2.06047324e+08   1.52340932e+08   9.59995552e+07\n",
        "   7.29788043e+08   1.10576736e+09   1.02995527e+09   4.01869216e+08\n",
        "   1.18614465e+08   2.48280230e+08   1.04570000e+08   1.29788571e+09\n",
        "   1.60579583e+08   1.26631079e+09   7.63980566e+08   1.23863024e+08\n",
        "   7.79393085e+07   1.93411246e+08   3.33667816e+07   6.41739064e+08\n",
        "   4.01375024e+07   6.22803530e+07   1.83973724e+08   2.26493876e+08\n",
        "   1.25241848e+08   2.11317550e+08   3.96653641e+08   1.01720688e+08\n",
        "   2.36766460e+08   8.50482622e+08   8.99985756e+08   3.00436569e+08\n",
        "   1.82191181e+08   1.34902552e+08   9.62292272e+08   7.03012881e+08\n",
        "   2.25683903e+08   2.32125377e+08   2.09165790e+08   1.19393030e+08\n",
        "   4.13918807e+08   2.08678512e+08   1.51828974e+08   4.27657827e+07\n",
        "   5.69825736e+08   2.08606762e+08   8.49357815e+08   2.74642457e+08\n",
        "   2.65358165e+08   2.64366288e+07   8.92212074e+08   9.22398601e+08\n",
        "   9.46235694e+07   6.74787460e+08   1.21983432e+08   2.81506665e+08\n",
        "   5.18051426e+08   2.69368248e+08   4.02700762e+08   1.88492342e+08\n",
        "   3.13629152e+08   4.93344115e+08   8.46775437e+08   7.79020493e+07\n",
        "   7.44248268e+08   1.19422347e+08   1.94205346e+07   7.62381819e+08\n",
        "   2.05075641e+08   9.57331578e+07   3.87603428e+08   7.35694117e+07\n",
        "   2.10440651e+08   6.66788763e+08   9.74012194e+07   7.64122244e+07\n",
        "   2.87207912e+08   3.76906861e+08   5.69224263e+08   6.35718544e+08\n",
        "   6.58025679e+07   3.84219674e+07   3.50993402e+07   1.64663676e+08\n",
        "   1.95785305e+08   1.19808885e+08   1.97140757e+08   9.06344114e+07\n",
        "   4.77159770e+07   7.37125793e+07   3.82781398e+07   2.27830798e+08\n",
        "   2.20757706e+08   1.48339165e+08   3.26572531e+08   5.95126426e+07\n",
        "   9.95241120e+06   3.82701157e+07   2.12657065e+08   3.66780458e+08\n",
        "   1.63822016e+08   8.16064372e+07   3.87788877e+08   5.14988808e+08\n",
        "   4.78681440e+07   2.83278135e+07   4.27191708e+08   2.21130339e+08\n",
        "   2.13510225e+07   3.40570871e+07   2.47022545e+08   2.58313513e+08\n",
        "   5.86154668e+07   2.97276323e+07   4.60985481e+07   2.17340114e+08\n",
        "   1.00693870e+08   3.72132976e+07   5.06246882e+07   1.04876303e+08\n",
        "   4.32661598e+07   7.60209386e+07   2.79131326e+07   3.47492287e+08\n",
        "   3.52104725e+07   2.44009505e+08   1.48619573e+08   1.75819385e+08\n",
        "   2.97700757e+08   6.69656390e+07   6.97473740e+07   1.20789800e+08\n",
        "   2.07930730e+08   3.19659350e+07   5.89715958e+07   1.03913114e+08\n",
        "   2.08129731e+08   1.12022740e+08   1.19262418e+08   1.51433685e+08\n",
        "   2.18441045e+08   3.81262479e+08   8.24695853e+05   9.77596144e+07\n",
        "   1.28043177e+08   3.32883256e+08   9.00899088e+07   7.98379304e+07\n",
        "   6.71029870e+07   2.62164111e+05   2.83468738e+07   5.90569494e+06\n",
        "   3.21104168e+05   5.53386564e+06   2.86823066e+08              inf]\n"
       ]
      }
     ],
     "prompt_number": 10
    },
    {
     "cell_type": "code",
     "collapsed": false,
     "input": [
      "LT_B_mass = prof.cumulative_mass(r,leo_T_burkert.rho)\n",
      "LT_NFW_mass = prof.cumulative_mass(r, leo_T_NFW.rho)\n",
      "plt.plot(r/cgs.pc, LT_B_mass/cgs.Msun, color = 'black', lw = 2.0, label = 'Burkert')\n",
      "plt.plot(r/cgs.pc, LT_NFW_mass / cgs.Msun, color ='blue', lw=2.0, label = 'NFW')\n",
      "plt.plot(plt.xlim(),np.array([2.8E5,2.8E5]),label='RW08')\n",
      "plt.semilogy()\n",
      "print \"%5.5e %5.5e\"%(LT_NFW_mass[-1]/cgs.Msun,LT_B_mass[-1]/cgs.Msun)"
     ],
     "language": "python",
     "metadata": {},
     "outputs": [
      {
       "output_type": "stream",
       "stream": "stdout",
       "text": [
        "2.79685e+05 2.79866e+05\n"
       ]
      },
      {
       "metadata": {},
       "output_type": "display_data",
       "png": "[encoded data removed]",
       "text": [
        "<matplotlib.figure.Figure at 0x7f0f580fd090>"
       ]
      }
     ],
     "prompt_number": 11
    },
    {
     "cell_type": "code",
     "collapsed": false,
     "input": [
      "r = np.linspace(0.1,300,100)*cgs.pc\n",
      "LT_B_mass = prof.cumulative_mass(r,prof.burkert_DM(r,leo_T_burkert.ic['r_s'],leo_T_burkert.ic['M200']))\n",
      "LT_NFW_mass = prof.cumulative_mass(r, prof.NFW_DM(r,r_s=leo_T_NFW.ic['b'],M200=leo_T_NFW.ic['M200']))\n",
      "plt.plot(r/cgs.pc, LT_B_mass/cgs.Msun, color = 'black', lw = 2.0, label = 'Burkert')\n",
      "plt.plot(r/cgs.pc, LT_NFW_mass / cgs.Msun, color ='blue', lw=2.0, label = 'NFW')\n",
      "#plt.plot(plt.xlim(),np.array([2.8E5,2.8E5]),label='RW08')\n",
      "plt.semilogy()\n",
      "print \"%5.5e %5.5e\"%(LT_NFW_mass[-1]/cgs.Msun,LT_B_mass[-1]/cgs.Msun)"
     ],
     "language": "python",
     "metadata": {},
     "outputs": [
      {
       "output_type": "stream",
       "stream": "stdout",
       "text": [
        "7.18035e+06 7.12837e+06\n"
       ]
      },
      {
       "metadata": {},
       "output_type": "display_data",
       "png": "[encoded data removed]",
       "text": [
        "<matplotlib.figure.Figure at 0x7f0f581cf4d0>"
       ]
      }
     ],
     "prompt_number": 12
    },
    {
     "cell_type": "code",
     "collapsed": false,
     "input": [
      "N_HI_burkert = prof.column_density(r, leo_T_burkert.rho/(1.31*cgs.mp))\n",
      "N_HI_NFW     = prof.column_density(r, leo_T_NFW.rho/(1.31*cgs.mp))\n",
      "\n",
      "fig,ax1=plt.subplots(figsize=(8,8))\n",
      "ax1.plot(r/cgs.pc, N_HI_burkert, label=' Burkert', lw=2 ,color='black')\n",
      "ax1.plot(r/cgs.pc, N_HI_NFW, label='NFW', lw=2, color='blue')\n",
      "ax1.set_xlabel('r (pc)')\n",
      "ax1.set_ylabel(r'N$_{\\rm{HI}}$ (cm$^{-2}$)')\n",
      "ax1.semilogy()\n",
      "#plt.plot(plt.xlim(),[7.0E20,7.0E20],lw=1.0,color='red', label = r'N$_{\\rm{HI}}$ max - RW08')\n",
      "ax1.plot(plt.xlim(),[2.4E20,2.4E20],lw=1.0,color='red',ls='--', label = r'N$_{\\rm{HI}}$ max - F13')\n",
      "\n",
      "ax1.plot(leo_T_WNM['r'], leo_T_WNM['NHI'], lw=2.0, color='green', label=r'WNM from RW08')\n",
      "\n",
      "ax1.plot(plt.xlim(),[2.0E19,2.0E19],lw=1.0,ls='-.',color='red',label=r'WRST N$_{\\rm{HI}}$ limit')\n",
      "ax1.legend(loc='best')\n",
      "\n",
      "# average column in 50 pc bins\n",
      "bin_size = 50.0*cgs.pc\n",
      "avg_HI_burkert = np.average(N_HI_burkert[r<bin_size])\n",
      "avg_HI_NFW     = np.average(N_HI_NFW[r<bin_size])\n",
      "print avg_HI_burkert, avg_HI_NFW\n",
      "print 7.0E20 / (600*cgs.pc)\n",
      "plt.savefig('NHI_profiles.png')"
     ],
     "language": "python",
     "metadata": {},
     "outputs": [
      {
       "ename": "TypeError",
       "evalue": "'numpy.ndarray' object is not callable",
       "output_type": "pyerr",
       "traceback": [
        "\u001b[1;31m---------------------------------------------------------------------------\u001b[0m\n\u001b[1;31mTypeError\u001b[0m                                 Traceback (most recent call last)",
        "\u001b[1;32m<ipython-input-13-3818b1d6aa6b>\u001b[0m in \u001b[0;36m<module>\u001b[1;34m()\u001b[0m\n\u001b[1;32m----> 1\u001b[1;33m \u001b[0mN_HI_burkert\u001b[0m \u001b[1;33m=\u001b[0m \u001b[0mprof\u001b[0m\u001b[1;33m.\u001b[0m\u001b[0mcolumn_density\u001b[0m\u001b[1;33m(\u001b[0m\u001b[0mr\u001b[0m\u001b[1;33m,\u001b[0m \u001b[0mleo_T_burkert\u001b[0m\u001b[1;33m.\u001b[0m\u001b[0mrho\u001b[0m\u001b[1;33m/\u001b[0m\u001b[1;33m(\u001b[0m\u001b[1;36m1.31\u001b[0m\u001b[1;33m*\u001b[0m\u001b[0mcgs\u001b[0m\u001b[1;33m.\u001b[0m\u001b[0mmp\u001b[0m\u001b[1;33m)\u001b[0m\u001b[1;33m)\u001b[0m\u001b[1;33m\u001b[0m\u001b[0m\n\u001b[0m\u001b[0;32m      2\u001b[0m \u001b[0mN_HI_NFW\u001b[0m     \u001b[1;33m=\u001b[0m \u001b[0mprof\u001b[0m\u001b[1;33m.\u001b[0m\u001b[0mcolumn_density\u001b[0m\u001b[1;33m(\u001b[0m\u001b[0mr\u001b[0m\u001b[1;33m,\u001b[0m \u001b[0mleo_T_NFW\u001b[0m\u001b[1;33m.\u001b[0m\u001b[0mrho\u001b[0m\u001b[1;33m/\u001b[0m\u001b[1;33m(\u001b[0m\u001b[1;36m1.31\u001b[0m\u001b[1;33m*\u001b[0m\u001b[0mcgs\u001b[0m\u001b[1;33m.\u001b[0m\u001b[0mmp\u001b[0m\u001b[1;33m)\u001b[0m\u001b[1;33m)\u001b[0m\u001b[1;33m\u001b[0m\u001b[0m\n\u001b[0;32m      3\u001b[0m \u001b[1;33m\u001b[0m\u001b[0m\n\u001b[0;32m      4\u001b[0m \u001b[0mfig\u001b[0m\u001b[1;33m,\u001b[0m\u001b[0max1\u001b[0m\u001b[1;33m=\u001b[0m\u001b[0mplt\u001b[0m\u001b[1;33m.\u001b[0m\u001b[0msubplots\u001b[0m\u001b[1;33m(\u001b[0m\u001b[0mfigsize\u001b[0m\u001b[1;33m=\u001b[0m\u001b[1;33m(\u001b[0m\u001b[1;36m8\u001b[0m\u001b[1;33m,\u001b[0m\u001b[1;36m8\u001b[0m\u001b[1;33m)\u001b[0m\u001b[1;33m)\u001b[0m\u001b[1;33m\u001b[0m\u001b[0m\n\u001b[0;32m      5\u001b[0m \u001b[0max1\u001b[0m\u001b[1;33m.\u001b[0m\u001b[0mplot\u001b[0m\u001b[1;33m(\u001b[0m\u001b[0mr\u001b[0m\u001b[1;33m/\u001b[0m\u001b[0mcgs\u001b[0m\u001b[1;33m.\u001b[0m\u001b[0mpc\u001b[0m\u001b[1;33m,\u001b[0m \u001b[0mN_HI_burkert\u001b[0m\u001b[1;33m,\u001b[0m \u001b[0mlabel\u001b[0m\u001b[1;33m=\u001b[0m\u001b[1;34m' Burkert'\u001b[0m\u001b[1;33m,\u001b[0m \u001b[0mlw\u001b[0m\u001b[1;33m=\u001b[0m\u001b[1;36m2\u001b[0m \u001b[1;33m,\u001b[0m\u001b[0mcolor\u001b[0m\u001b[1;33m=\u001b[0m\u001b[1;34m'black'\u001b[0m\u001b[1;33m)\u001b[0m\u001b[1;33m\u001b[0m\u001b[0m\n",
        "\u001b[1;32m/home/emerick/Research/dwarfs/analysis/initial_conditions/profiles.py\u001b[0m in \u001b[0;36mcolumn_density\u001b[1;34m(r, density_function, R, f_H, f_ion, **kwargs)\u001b[0m\n\u001b[0;32m    549\u001b[0m         \u001b[0migrand\u001b[0m \u001b[1;33m=\u001b[0m \u001b[1;32mlambda\u001b[0m \u001b[0mx\u001b[0m\u001b[1;33m:\u001b[0m \u001b[0mintegrand\u001b[0m\u001b[1;33m(\u001b[0m\u001b[0mx\u001b[0m\u001b[1;33m,\u001b[0m\u001b[0mbval\u001b[0m\u001b[1;33m)\u001b[0m\u001b[1;33m\u001b[0m\u001b[0m\n\u001b[0;32m    550\u001b[0m \u001b[1;33m\u001b[0m\u001b[0m\n\u001b[1;32m--> 551\u001b[1;33m         \u001b[0mNHI\u001b[0m\u001b[1;33m[\u001b[0m\u001b[0mi\u001b[0m\u001b[1;33m]\u001b[0m \u001b[1;33m=\u001b[0m \u001b[0mintegrate\u001b[0m\u001b[1;33m.\u001b[0m\u001b[0mquad\u001b[0m\u001b[1;33m(\u001b[0m\u001b[0migrand\u001b[0m\u001b[1;33m,\u001b[0m \u001b[1;36m1.0000000001\u001b[0m\u001b[1;33m*\u001b[0m\u001b[0mbval\u001b[0m\u001b[1;33m,\u001b[0m \u001b[0mR\u001b[0m\u001b[1;33m)\u001b[0m\u001b[1;33m[\u001b[0m\u001b[1;36m1\u001b[0m\u001b[1;33m]\u001b[0m\u001b[1;33m\u001b[0m\u001b[0m\n\u001b[0m\u001b[0;32m    552\u001b[0m         \u001b[0mi\u001b[0m \u001b[1;33m=\u001b[0m \u001b[0mi\u001b[0m \u001b[1;33m+\u001b[0m \u001b[1;36m1\u001b[0m\u001b[1;33m\u001b[0m\u001b[0m\n\u001b[0;32m    553\u001b[0m \u001b[1;33m\u001b[0m\u001b[0m\n",
        "\u001b[1;32m/home/emerick/anaconda/lib/python2.7/site-packages/scipy/integrate/quadpack.pyc\u001b[0m in \u001b[0;36mquad\u001b[1;34m(func, a, b, args, full_output, epsabs, epsrel, limit, points, weight, wvar, wopts, maxp1, limlst)\u001b[0m\n\u001b[0;32m    279\u001b[0m         \u001b[0margs\u001b[0m \u001b[1;33m=\u001b[0m \u001b[1;33m(\u001b[0m\u001b[0margs\u001b[0m\u001b[1;33m,\u001b[0m\u001b[1;33m)\u001b[0m\u001b[1;33m\u001b[0m\u001b[0m\n\u001b[0;32m    280\u001b[0m     \u001b[1;32mif\u001b[0m \u001b[1;33m(\u001b[0m\u001b[0mweight\u001b[0m \u001b[1;32mis\u001b[0m \u001b[0mNone\u001b[0m\u001b[1;33m)\u001b[0m\u001b[1;33m:\u001b[0m\u001b[1;33m\u001b[0m\u001b[0m\n\u001b[1;32m--> 281\u001b[1;33m         \u001b[0mretval\u001b[0m \u001b[1;33m=\u001b[0m \u001b[0m_quad\u001b[0m\u001b[1;33m(\u001b[0m\u001b[0mfunc\u001b[0m\u001b[1;33m,\u001b[0m\u001b[0ma\u001b[0m\u001b[1;33m,\u001b[0m\u001b[0mb\u001b[0m\u001b[1;33m,\u001b[0m\u001b[0margs\u001b[0m\u001b[1;33m,\u001b[0m\u001b[0mfull_output\u001b[0m\u001b[1;33m,\u001b[0m\u001b[0mepsabs\u001b[0m\u001b[1;33m,\u001b[0m\u001b[0mepsrel\u001b[0m\u001b[1;33m,\u001b[0m\u001b[0mlimit\u001b[0m\u001b[1;33m,\u001b[0m\u001b[0mpoints\u001b[0m\u001b[1;33m)\u001b[0m\u001b[1;33m\u001b[0m\u001b[0m\n\u001b[0m\u001b[0;32m    282\u001b[0m     \u001b[1;32melse\u001b[0m\u001b[1;33m:\u001b[0m\u001b[1;33m\u001b[0m\u001b[0m\n\u001b[0;32m    283\u001b[0m         \u001b[0mretval\u001b[0m \u001b[1;33m=\u001b[0m \u001b[0m_quad_weight\u001b[0m\u001b[1;33m(\u001b[0m\u001b[0mfunc\u001b[0m\u001b[1;33m,\u001b[0m\u001b[0ma\u001b[0m\u001b[1;33m,\u001b[0m\u001b[0mb\u001b[0m\u001b[1;33m,\u001b[0m\u001b[0margs\u001b[0m\u001b[1;33m,\u001b[0m\u001b[0mfull_output\u001b[0m\u001b[1;33m,\u001b[0m\u001b[0mepsabs\u001b[0m\u001b[1;33m,\u001b[0m\u001b[0mepsrel\u001b[0m\u001b[1;33m,\u001b[0m\u001b[0mlimlst\u001b[0m\u001b[1;33m,\u001b[0m\u001b[0mlimit\u001b[0m\u001b[1;33m,\u001b[0m\u001b[0mmaxp1\u001b[0m\u001b[1;33m,\u001b[0m\u001b[0mweight\u001b[0m\u001b[1;33m,\u001b[0m\u001b[0mwvar\u001b[0m\u001b[1;33m,\u001b[0m\u001b[0mwopts\u001b[0m\u001b[1;33m)\u001b[0m\u001b[1;33m\u001b[0m\u001b[0m\n",
        "\u001b[1;32m/home/emerick/anaconda/lib/python2.7/site-packages/scipy/integrate/quadpack.pyc\u001b[0m in \u001b[0;36m_quad\u001b[1;34m(func, a, b, args, full_output, epsabs, epsrel, limit, points)\u001b[0m\n\u001b[0;32m    343\u001b[0m     \u001b[1;32mif\u001b[0m \u001b[0mpoints\u001b[0m \u001b[1;32mis\u001b[0m \u001b[0mNone\u001b[0m\u001b[1;33m:\u001b[0m\u001b[1;33m\u001b[0m\u001b[0m\n\u001b[0;32m    344\u001b[0m         \u001b[1;32mif\u001b[0m \u001b[0minfbounds\u001b[0m \u001b[1;33m==\u001b[0m \u001b[1;36m0\u001b[0m\u001b[1;33m:\u001b[0m\u001b[1;33m\u001b[0m\u001b[0m\n\u001b[1;32m--> 345\u001b[1;33m             \u001b[1;32mreturn\u001b[0m \u001b[0m_quadpack\u001b[0m\u001b[1;33m.\u001b[0m\u001b[0m_qagse\u001b[0m\u001b[1;33m(\u001b[0m\u001b[0mfunc\u001b[0m\u001b[1;33m,\u001b[0m\u001b[0ma\u001b[0m\u001b[1;33m,\u001b[0m\u001b[0mb\u001b[0m\u001b[1;33m,\u001b[0m\u001b[0margs\u001b[0m\u001b[1;33m,\u001b[0m\u001b[0mfull_output\u001b[0m\u001b[1;33m,\u001b[0m\u001b[0mepsabs\u001b[0m\u001b[1;33m,\u001b[0m\u001b[0mepsrel\u001b[0m\u001b[1;33m,\u001b[0m\u001b[0mlimit\u001b[0m\u001b[1;33m)\u001b[0m\u001b[1;33m\u001b[0m\u001b[0m\n\u001b[0m\u001b[0;32m    346\u001b[0m         \u001b[1;32melse\u001b[0m\u001b[1;33m:\u001b[0m\u001b[1;33m\u001b[0m\u001b[0m\n\u001b[0;32m    347\u001b[0m             \u001b[1;32mreturn\u001b[0m \u001b[0m_quadpack\u001b[0m\u001b[1;33m.\u001b[0m\u001b[0m_qagie\u001b[0m\u001b[1;33m(\u001b[0m\u001b[0mfunc\u001b[0m\u001b[1;33m,\u001b[0m\u001b[0mbound\u001b[0m\u001b[1;33m,\u001b[0m\u001b[0minfbounds\u001b[0m\u001b[1;33m,\u001b[0m\u001b[0margs\u001b[0m\u001b[1;33m,\u001b[0m\u001b[0mfull_output\u001b[0m\u001b[1;33m,\u001b[0m\u001b[0mepsabs\u001b[0m\u001b[1;33m,\u001b[0m\u001b[0mepsrel\u001b[0m\u001b[1;33m,\u001b[0m\u001b[0mlimit\u001b[0m\u001b[1;33m)\u001b[0m\u001b[1;33m\u001b[0m\u001b[0m\n",
        "\u001b[1;32m/home/emerick/Research/dwarfs/analysis/initial_conditions/profiles.py\u001b[0m in \u001b[0;36m<lambda>\u001b[1;34m(x)\u001b[0m\n\u001b[0;32m    547\u001b[0m     \u001b[1;32mfor\u001b[0m \u001b[0mbval\u001b[0m \u001b[1;32min\u001b[0m \u001b[0mr\u001b[0m\u001b[1;33m:\u001b[0m\u001b[1;33m\u001b[0m\u001b[0m\n\u001b[0;32m    548\u001b[0m \u001b[1;33m\u001b[0m\u001b[0m\n\u001b[1;32m--> 549\u001b[1;33m         \u001b[0migrand\u001b[0m \u001b[1;33m=\u001b[0m \u001b[1;32mlambda\u001b[0m \u001b[0mx\u001b[0m\u001b[1;33m:\u001b[0m \u001b[0mintegrand\u001b[0m\u001b[1;33m(\u001b[0m\u001b[0mx\u001b[0m\u001b[1;33m,\u001b[0m\u001b[0mbval\u001b[0m\u001b[1;33m)\u001b[0m\u001b[1;33m\u001b[0m\u001b[0m\n\u001b[0m\u001b[0;32m    550\u001b[0m \u001b[1;33m\u001b[0m\u001b[0m\n\u001b[0;32m    551\u001b[0m         \u001b[0mNHI\u001b[0m\u001b[1;33m[\u001b[0m\u001b[0mi\u001b[0m\u001b[1;33m]\u001b[0m \u001b[1;33m=\u001b[0m \u001b[0mintegrate\u001b[0m\u001b[1;33m.\u001b[0m\u001b[0mquad\u001b[0m\u001b[1;33m(\u001b[0m\u001b[0migrand\u001b[0m\u001b[1;33m,\u001b[0m \u001b[1;36m1.0000000001\u001b[0m\u001b[1;33m*\u001b[0m\u001b[0mbval\u001b[0m\u001b[1;33m,\u001b[0m \u001b[0mR\u001b[0m\u001b[1;33m)\u001b[0m\u001b[1;33m[\u001b[0m\u001b[1;36m1\u001b[0m\u001b[1;33m]\u001b[0m\u001b[1;33m\u001b[0m\u001b[0m\n",
        "\u001b[1;32m/home/emerick/Research/dwarfs/analysis/initial_conditions/profiles.py\u001b[0m in \u001b[0;36m<lambda>\u001b[1;34m(x, b)\u001b[0m\n\u001b[0;32m    542\u001b[0m     \u001b[0mHI_factor\u001b[0m \u001b[1;33m=\u001b[0m \u001b[0mf_H\u001b[0m \u001b[1;33m*\u001b[0m \u001b[1;33m(\u001b[0m\u001b[1;36m1.0\u001b[0m \u001b[1;33m-\u001b[0m \u001b[0mf_ion\u001b[0m\u001b[1;33m)\u001b[0m\u001b[1;33m\u001b[0m\u001b[0m\n\u001b[0;32m    543\u001b[0m \u001b[1;33m\u001b[0m\u001b[0m\n\u001b[1;32m--> 544\u001b[1;33m     \u001b[0mintegrand\u001b[0m \u001b[1;33m=\u001b[0m \u001b[1;32mlambda\u001b[0m \u001b[0mx\u001b[0m\u001b[1;33m,\u001b[0m\u001b[0mb\u001b[0m \u001b[1;33m:\u001b[0m \u001b[1;36m2.0\u001b[0m\u001b[1;33m*\u001b[0m\u001b[0mx\u001b[0m\u001b[1;33m/\u001b[0m\u001b[0mnp\u001b[0m\u001b[1;33m.\u001b[0m\u001b[0msqrt\u001b[0m\u001b[1;33m(\u001b[0m\u001b[0mx\u001b[0m\u001b[1;33m**\u001b[0m\u001b[1;36m2\u001b[0m\u001b[1;33m-\u001b[0m\u001b[0mb\u001b[0m\u001b[1;33m**\u001b[0m\u001b[1;36m2\u001b[0m\u001b[1;33m)\u001b[0m \u001b[1;33m*\u001b[0m \u001b[0mdensity_function\u001b[0m\u001b[1;33m(\u001b[0m\u001b[0mx\u001b[0m\u001b[1;33m,\u001b[0m\u001b[1;33m**\u001b[0m\u001b[0mkwargs\u001b[0m\u001b[1;33m)\u001b[0m\u001b[1;33m\u001b[0m\u001b[0m\n\u001b[0m\u001b[0;32m    545\u001b[0m \u001b[1;33m\u001b[0m\u001b[0m\n\u001b[0;32m    546\u001b[0m     \u001b[0mNHI\u001b[0m \u001b[1;33m=\u001b[0m \u001b[0mnp\u001b[0m\u001b[1;33m.\u001b[0m\u001b[0mzeros\u001b[0m\u001b[1;33m(\u001b[0m\u001b[0mnp\u001b[0m\u001b[1;33m.\u001b[0m\u001b[0msize\u001b[0m\u001b[1;33m(\u001b[0m\u001b[0mr\u001b[0m\u001b[1;33m)\u001b[0m\u001b[1;33m)\u001b[0m\u001b[1;33m;\u001b[0m \u001b[0mi\u001b[0m \u001b[1;33m=\u001b[0m \u001b[1;36m0\u001b[0m\u001b[1;33m\u001b[0m\u001b[0m\n",
        "\u001b[1;31mTypeError\u001b[0m: 'numpy.ndarray' object is not callable"
       ]
      }
     ],
     "prompt_number": 13
    },
    {
     "cell_type": "code",
     "collapsed": false,
     "input": [
      "r_s = leo_T.ic['b']\n",
      "M200 = leo_T.ic['M200']\n",
      "T_dwarf = leo_T.ic['T_dwarf']\n",
      "n_o = leo_T.ic['n_o']\n",
      "mu_dwarf = leo_T.ic['mu_dwarf']\n",
      "rho_crit = leo_T.ic['rho_crit']\n",
      "\n",
      "r = np.linspace(0.00001,500.0,1000)*cgs.pc\n",
      "\n",
      "gas_density = prof.Burkert_isothermal_gas(r, r_s, M200, T_dwarf, n_o, mu=mu_dwarf, rho_crit=rho_crit)\n",
      "\n",
      "\n",
      "n_dwarf = gas_density / (cgs.mp * mu_dwarf)\n",
      "\n",
      "P_dwarf = n_dwarf * cgs.kb * T_dwarf\n",
      "n_halo = leo_T.ic['n_halo']\n",
      "P_halo  = leo_T.ic['n_halo'] * leo_T.ic['T_halo'] * cgs.kb * np.ones(np.size(r))"
     ],
     "language": "python",
     "metadata": {},
     "outputs": []
    },
    {
     "cell_type": "code",
     "collapsed": false,
     "input": [
      "\n",
      "plt.plot(r/cgs.pc, gas_density/(cgs.mp*mu_dwarf), label='Burkert density',color='black',lw=1.75)\n",
      "plt.plot(plt.xlim(), [n_halo,n_halo], label='Halo', color='red',lw=1.75)\n",
      "plt.xlabel('r (pc)'); plt.ylabel('Number Density')\n",
      "plt.legend(loc='best')\n",
      "plt.semilogy()\n",
      "#plt.semilogy()"
     ],
     "language": "python",
     "metadata": {},
     "outputs": []
    },
    {
     "cell_type": "code",
     "collapsed": false,
     "input": [
      "plt.plot(r/cgs.pc, P_dwarf, label='Dwarf Pressure',color='black',lw=1.75)\n",
      "plt.plot(r/cgs.pc, P_halo , label='Halo Pressure', color='red', lw=1.75)\n",
      "plt.plot([350,350],plt.ylim())\n",
      "plt.xlabel('r (pc)'); plt.ylabel('Pressure')\n",
      "\n",
      "plt.legend(loc='best')"
     ],
     "language": "python",
     "metadata": {},
     "outputs": []
    },
    {
     "cell_type": "code",
     "collapsed": false,
     "input": [
      "from scipy import integrate \n",
      "integrand = lambda r : r*r*prof.Burkert_isothermal_gas(r, r_s, M200, T_dwarf, n_o, mu=mu_dwarf, rho_crit=rho_crit)\n",
      "mass_enclosed=np.zeros(np.size(r))\n",
      "for i in np.arange(np.size(r)):\n",
      "    mass_enclosed[i] = integrate.quad(integrand,0.000001,r[i])[0] * 4.0*np.pi\n",
      "plt.plot(r/cgs.pc, mass_enclosed/cgs.Msun)\n",
      "plt.ylim(10,1E8)\n",
      "plt.semilogy()"
     ],
     "language": "python",
     "metadata": {},
     "outputs": []
    },
    {
     "cell_type": "code",
     "collapsed": false,
     "input": [
      "R = 350*cgs.pc\n",
      "r_dwarf = r[r<=R]\n",
      "l = np.sqrt(R**2 - r_dwarf**2)\n",
      "n_dwarf = gas_density/(cgs.mp*1.31)\n",
      "\n",
      "N_dwarf = l*n_dwarf[r<=R]\n",
      "plt.plot(r_dwarf/cgs.pc,N_dwarf)\n",
      "plt.ylim(1.0E18,1.0E21)\n",
      "plt.semilogy()"
     ],
     "language": "python",
     "metadata": {},
     "outputs": []
    },
    {
     "cell_type": "heading",
     "level": 3,
     "metadata": {},
     "source": [
      "new things\n"
     ]
    },
    {
     "cell_type": "code",
     "collapsed": false,
     "input": [
      "leo_T_solve = icl.ic_object_dict['Leo_T_solve_burkert']\n",
      "leo_T_solve.set_ic(leo_T_solve.ic)"
     ],
     "language": "python",
     "metadata": {},
     "outputs": []
    },
    {
     "cell_type": "code",
     "collapsed": false,
     "input": [
      "leo_T_solve.ic"
     ],
     "language": "python",
     "metadata": {},
     "outputs": []
    },
    {
     "cell_type": "code",
     "collapsed": false,
     "input": [
      "print \"%5.4e\"%(7.57E40/cgs.Msun)"
     ],
     "language": "python",
     "metadata": {},
     "outputs": []
    },
    {
     "cell_type": "code",
     "collapsed": false,
     "input": [
      "1.0E-25*4.0*np.pi/3.0 * (350*cgs.pc)**3 / cgs.Msun\n"
     ],
     "language": "python",
     "metadata": {},
     "outputs": []
    },
    {
     "cell_type": "code",
     "collapsed": false,
     "input": [
      "gas_density"
     ],
     "language": "python",
     "metadata": {},
     "outputs": []
    },
    {
     "cell_type": "code",
     "collapsed": false,
     "input": [],
     "language": "python",
     "metadata": {},
     "outputs": []
    }
   ],
   "metadata": {}
  }
 ]
}