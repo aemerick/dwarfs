{
 "cells": [
  {
   "cell_type": "code",
   "execution_count": 68,
   "metadata": {
    "collapsed": false
   },
   "outputs": [],
   "source": [
    "%matplotlib inline\n",
    "\n",
    "import yt\n",
    "import cgs as cgs\n",
    "import numpy as np\n",
    "import matplotlib.pyplot as plt\n",
    "\n",
    "import dwarf as dw\n",
    "import copy"
   ]
  },
  {
   "cell_type": "code",
   "execution_count": 69,
   "metadata": {
    "collapsed": false
   },
   "outputs": [],
   "source": [
    "string = \"best alpha  = %.4f - best beta = %.4f\\n\"%(1,2)\n",
    "\n",
    "outfile = open('outfiasdfle.dat','w')\n",
    "outfile.write('shock\\n')\n",
    "outfile.write(string)"
   ]
  },
  {
   "cell_type": "code",
   "execution_count": 70,
   "metadata": {
    "collapsed": false
   },
   "outputs": [],
   "source": [
    "yt.funcs.mylog.setLevel(99999999)\n"
   ]
  },
  {
   "cell_type": "code",
   "execution_count": 71,
   "metadata": {
    "collapsed": false
   },
   "outputs": [
    {
     "name": "stdout",
     "output_type": "stream",
     "text": [
      "DWARF ANALYSIS : [INIT] Did not find parameter: sim_rhoCloud\n",
      "DWARF ANALYSIS : [INIT] Did not find parameter: sim_rho1rm\n",
      "DWARF ANALYSIS : [INIT] Did not find parameter: sim_rho2rm\n",
      "DWARF ANALYSIS : [INIT] Did not find parameter: sim_rhoRL\n",
      "DWARF ANALYSIS : [INIT] Did not find parameter: sim_pAmbient\n",
      "DWARF ANALYSIS : [INIT] Did not find parameter: sim_rScale\n",
      "DWARF ANALYSIS : [INIT] Did not find parameter: particleFileIntervalTime\n",
      "DWARF ANALYSIS : [INIT] Looking for supernova files\n",
      "DWARF ANALYSIS : [INIT] No supernova feedback file found at ./../../flash_runs/carina_test/HSE/SNfeedback.dat\n",
      "DWARF ANALYSIS : [INIT] No SB feedback file found at ./../../flash_runs/carina_test/HSE/SBfeedback.dat\n"
     ]
    }
   ],
   "source": [
    "sim_nophys = dw.simulation('dwarf_fullp_hdf5',ds_dir='./../../flash_runs/carina_test/HSE/',reload_times=False)"
   ]
  },
  {
   "cell_type": "code",
   "execution_count": 72,
   "metadata": {
    "collapsed": false
   },
   "outputs": [
    {
     "name": "stdout",
     "output_type": "stream",
     "text": [
      "DWARF ANALYSIS : [INIT] Did not find parameter: sim_rhoCloud\n",
      "DWARF ANALYSIS : [INIT] Did not find parameter: sim_rho1rm\n",
      "DWARF ANALYSIS : [INIT] Did not find parameter: sim_rho2rm\n",
      "DWARF ANALYSIS : [INIT] Did not find parameter: sim_rhoRL\n",
      "DWARF ANALYSIS : [INIT] Did not find parameter: sim_pAmbient\n",
      "DWARF ANALYSIS : [INIT] Did not find parameter: sim_rScale\n",
      "DWARF ANALYSIS : [INIT] Did not find parameter: particleFileIntervalTime\n",
      "DWARF ANALYSIS : [INIT] Looking for supernova files\n",
      "DWARF ANALYSIS : [INIT] No supernova feedback file found at ./../../flash_runs/carina_test/rad_on/SNfeedback.dat\n",
      "DWARF ANALYSIS : [INIT] No SB feedback file found at ./../../flash_runs/carina_test/rad_on/SBfeedback.dat\n"
     ]
    }
   ],
   "source": [
    "sim_nowind = dw.simulation('dwarf_fullp_hdf5',ds_dir='./../../flash_runs/carina_test/rad_on/',reload_times=False)"
   ]
  },
  {
   "cell_type": "code",
   "execution_count": 73,
   "metadata": {
    "collapsed": false
   },
   "outputs": [
    {
     "name": "stdout",
     "output_type": "stream",
     "text": [
      "DWARF ANALYSIS : [INIT] Did not find parameter: sim_rhoCloud\n",
      "DWARF ANALYSIS : [INIT] Did not find parameter: sim_rho1rm\n",
      "DWARF ANALYSIS : [INIT] Did not find parameter: sim_rho2rm\n",
      "DWARF ANALYSIS : [INIT] Did not find parameter: sim_rhoRL\n",
      "DWARF ANALYSIS : [INIT] Did not find parameter: sim_pAmbient\n",
      "DWARF ANALYSIS : [INIT] Did not find parameter: sim_RL\n",
      "DWARF ANALYSIS : [INIT] Did not find parameter: sim_rScale\n",
      "DWARF ANALYSIS : [INIT] Did not find parameter: particleFileIntervalTime\n",
      "DWARF ANALYSIS : [INIT] Looking for supernova files\n",
      "DWARF ANALYSIS : [INIT] No supernova feedback file found at ./../../flash_runs/carina_final/lowres_nosne/SNfeedback.dat\n",
      "DWARF ANALYSIS : [INIT] No SB feedback file found at ./../../flash_runs/carina_final/lowres_nosne/SBfeedback.dat\n"
     ]
    }
   ],
   "source": [
    "sim_nosne = dw.simulation('dwarf_fullp_hdf5',ds_dir='./../../flash_runs/carina_final/lowres_nosne/',reload_times=False)\n"
   ]
  },
  {
   "cell_type": "code",
   "execution_count": 74,
   "metadata": {
    "collapsed": false
   },
   "outputs": [
    {
     "name": "stdout",
     "output_type": "stream",
     "text": [
      "DWARF ANALYSIS : [INIT] Did not find parameter: sim_rhoCloud\n",
      "DWARF ANALYSIS : [INIT] Did not find parameter: sim_rho1rm\n",
      "DWARF ANALYSIS : [INIT] Did not find parameter: sim_rho2rm\n",
      "DWARF ANALYSIS : [INIT] Did not find parameter: sim_rhoRL\n",
      "DWARF ANALYSIS : [INIT] Did not find parameter: sim_pAmbient\n",
      "DWARF ANALYSIS : [INIT] Did not find parameter: sim_RL\n",
      "DWARF ANALYSIS : [INIT] Did not find parameter: sim_rScale\n",
      "DWARF ANALYSIS : [INIT] Did not find parameter: particleFileIntervalTime\n",
      "DWARF ANALYSIS : [INIT] Looking for supernova files\n",
      "DWARF ANALYSIS : trying to set units in supernova\n",
      "DWARF ANALYSIS : [INIT] No SB feedback file found at ./../../flash_runs/carina_final/lowres/SBfeedback.dat\n"
     ]
    }
   ],
   "source": [
    "sim_sne   = dw.simulation('dwarf_fullp_hdf5',ds_dir='./../../flash_runs/carina_final/lowres/',reload_times=False)"
   ]
  },
  {
   "cell_type": "code",
   "execution_count": 75,
   "metadata": {
    "collapsed": false,
    "scrolled": true
   },
   "outputs": [
    {
     "name": "stdout",
     "output_type": "stream",
     "text": [
      "DWARF ANALYSIS : [INIT] Did not find parameter: sim_rhoCloud\n",
      "DWARF ANALYSIS : [INIT] Did not find parameter: sim_rho1rm\n",
      "DWARF ANALYSIS : [INIT] Did not find parameter: sim_rho2rm\n",
      "DWARF ANALYSIS : [INIT] Did not find parameter: sim_rhoRL\n",
      "DWARF ANALYSIS : [INIT] Did not find parameter: sim_pAmbient\n",
      "DWARF ANALYSIS : [INIT] Did not find parameter: sim_RL\n",
      "DWARF ANALYSIS : [INIT] Did not find parameter: sim_rScale\n",
      "DWARF ANALYSIS : [INIT] Did not find parameter: particleFileIntervalTime\n",
      "DWARF ANALYSIS : [INIT] Looking for supernova files\n",
      "DWARF ANALYSIS : [INIT] No supernova feedback file found at ./../../flash_runs/carina_adiabatic/SNfeedback.dat\n",
      "DWARF ANALYSIS : [INIT] No SB feedback file found at ./../../flash_runs/carina_adiabatic/SBfeedback.dat\n"
     ]
    }
   ],
   "source": [
    "sim_ad    = dw.simulation('dwarf_fullp_hdf5',ds_dir='./../../flash_runs/carina_adiabatic/',reload_times=False)"
   ]
  },
  {
   "cell_type": "code",
   "execution_count": 76,
   "metadata": {
    "collapsed": false
   },
   "outputs": [
    {
     "name": "stdout",
     "output_type": "stream",
     "text": [
      "here\n"
     ]
    }
   ],
   "source": [
    "print \"here\""
   ]
  },
  {
   "cell_type": "code",
   "execution_count": 77,
   "metadata": {
    "collapsed": false
   },
   "outputs": [
    {
     "data": {
      "text/plain": [
       "514"
      ]
     },
     "execution_count": 77,
     "metadata": {},
     "output_type": "execute_result"
    }
   ],
   "source": [
    "len(sim_sne.plt_list)"
   ]
  },
  {
   "cell_type": "code",
   "execution_count": 78,
   "metadata": {
    "collapsed": false,
    "scrolled": false
   },
   "outputs": [],
   "source": [
    "ds_selection = [0,15,30,45,60,75,90,105,399]\n",
    "dw.profile_1D(sim_nowind,'radius','density',20,ds_selection=ds_selection)\n",
    "#dw.profile_1D(sim_nophys,'radius','density',20,ds_selection=ds_selection)\n",
    "dw.profile_1D(sim_sne,'radius','density', 20, ds_selection=ds_selection)\n",
    "dw.profile_1D(sim_nosne,'radius','density', 20, ds_selection=ds_selection)\n",
    "#dw.profile_1D(sim_ad,'radius','density', 20, ds_selection=ds_selection)\n"
   ]
  },
  {
   "cell_type": "code",
   "execution_count": 79,
   "metadata": {
    "collapsed": false
   },
   "outputs": [
    {
     "ename": "AttributeError",
     "evalue": "simulation instance has no attribute 'profiles'",
     "output_type": "error",
     "traceback": [
      "\u001b[1;31m---------------------------------------------------------------------------\u001b[0m",
      "\u001b[1;31mAttributeError\u001b[0m                            Traceback (most recent call last)",
      "\u001b[1;32m<ipython-input-79-b0f9458429b1>\u001b[0m in \u001b[0;36m<module>\u001b[1;34m()\u001b[0m\n\u001b[0;32m      5\u001b[0m \u001b[0mi\u001b[0m \u001b[1;33m=\u001b[0m \u001b[1;36m0\u001b[0m\u001b[1;33m\u001b[0m\u001b[0m\n\u001b[0;32m      6\u001b[0m \u001b[1;32mfor\u001b[0m \u001b[0ms\u001b[0m \u001b[1;32min\u001b[0m \u001b[0msim_list\u001b[0m\u001b[1;33m:\u001b[0m\u001b[1;33m\u001b[0m\u001b[0m\n\u001b[1;32m----> 7\u001b[1;33m     \u001b[0mdens_list\u001b[0m\u001b[1;33m[\u001b[0m\u001b[0mi\u001b[0m\u001b[1;33m]\u001b[0m \u001b[1;33m=\u001b[0m \u001b[0mcopy\u001b[0m\u001b[1;33m.\u001b[0m\u001b[0mdeepcopy\u001b[0m\u001b[1;33m(\u001b[0m\u001b[0ms\u001b[0m\u001b[1;33m.\u001b[0m\u001b[0mprofiles\u001b[0m\u001b[1;33m[\u001b[0m\u001b[1;34m'radius'\u001b[0m\u001b[1;33m]\u001b[0m\u001b[1;33m[\u001b[0m\u001b[1;34m'density'\u001b[0m\u001b[1;33m]\u001b[0m\u001b[1;33m)\u001b[0m\u001b[1;33m\u001b[0m\u001b[0m\n\u001b[0m\u001b[0;32m      8\u001b[0m     \u001b[0mtimes_list\u001b[0m\u001b[1;33m[\u001b[0m\u001b[0mi\u001b[0m\u001b[1;33m]\u001b[0m \u001b[1;33m=\u001b[0m \u001b[0mcopy\u001b[0m\u001b[1;33m.\u001b[0m\u001b[0mdeepcopy\u001b[0m\u001b[1;33m(\u001b[0m\u001b[0ms\u001b[0m\u001b[1;33m.\u001b[0m\u001b[0mprofile_times\u001b[0m\u001b[1;33m)\u001b[0m\u001b[1;33m\u001b[0m\u001b[0m\n\u001b[0;32m      9\u001b[0m     \u001b[0mr_list\u001b[0m\u001b[1;33m[\u001b[0m\u001b[0mi\u001b[0m\u001b[1;33m]\u001b[0m \u001b[1;33m=\u001b[0m \u001b[0mcopy\u001b[0m\u001b[1;33m.\u001b[0m\u001b[0mdeepcopy\u001b[0m\u001b[1;33m(\u001b[0m\u001b[0ms\u001b[0m\u001b[1;33m.\u001b[0m\u001b[0mprofile_bins\u001b[0m\u001b[1;33m[\u001b[0m\u001b[1;34m'radius'\u001b[0m\u001b[1;33m]\u001b[0m\u001b[1;33m)\u001b[0m\u001b[1;33m\u001b[0m\u001b[0m\n",
      "\u001b[1;31mAttributeError\u001b[0m: simulation instance has no attribute 'profiles'"
     ]
    }
   ],
   "source": [
    "sim_list   = [sim_sne, sim_nosne, sim_ad,sim_nowind,sim_nophys]\n",
    "dens_list  = [None]*len(sim_list)\n",
    "times_list = [None]*len(sim_list)\n",
    "r_list = [None]*len(sim_list)\n",
    "i = 0\n",
    "for s in sim_list:\n",
    "    dens_list[i] = copy.deepcopy(s.profiles['radius']['density'])\n",
    "    times_list[i] = copy.deepcopy(s.profile_times)\n",
    "    r_list[i] = copy.deepcopy(s.profile_bins['radius'])\n",
    "    \n",
    "    dens_list[i] = [x for x in dens_list[i] if x is not None]\n",
    "    times_list[i] = [x for x in times_list[i] if x is not None]\n",
    "    \n",
    "    r_list[i] = r_list[i].convert_to_units('pc').value\n",
    "    for j in np.arange(len(dens_list[i])):\n",
    "        dens_list[i][j] = dens_list[i][j].value\n",
    "        times_list[i][j] = times_list[i][j].value\n",
    "        \n",
    "    i = i + 1\n",
    "\n"
   ]
  },
  {
   "cell_type": "code",
   "execution_count": null,
   "metadata": {
    "collapsed": false,
    "scrolled": true
   },
   "outputs": [],
   "source": [
    "fig = plt.figure(figsize=[12,12])\n",
    "ax1 = fig.add_subplot(2,2,1)\n",
    "ax2 = fig.add_subplot(2,2,2)\n",
    "ax3 = fig.add_subplot(2,2,3)\n",
    "\n",
    "colors = ['black','blue','green','red']*3\n",
    "ls     = ['-']*4  + ['--']*4 + ['-.']*4\n",
    "\n",
    "print np.size(times_list)\n",
    "for i in np.arange(9):\n",
    "    ax3.plot(r_list[0], dens_list[0][i]/dens_list[0][0], lw=2, label=\"%.1f Myr\"%(times_list[0][i]),color=colors[i],ls=ls[i])\n",
    "    ax2.plot(r_list[1], dens_list[1][i]/dens_list[1][0], lw=2, label=\"%.1f Myr\"%(times_list[1][i]),color=colors[i],ls=ls[i])\n",
    "    ax1.plot(r_list[2], dens_list[2][i]/dens_list[2][0], lw=2, label=\"%.1f Myr\"%(times_list[2][i]),color=colors[i],ls=ls[i])\n",
    "\n",
    "ax3.set_title('Full Physics - Supernova')\n",
    "ax2.set_title('No Supernova')\n",
    "ax1.set_title('Adiabatic')\n",
    "#ax1.semilogy(); ax2.semilogy(); ax3.semilogy()\n",
    "ax3.legend(loc='center left', bbox_to_anchor=(1, 0.5))\n",
    "for a in [ax1,ax2,ax3]:\n",
    "    a.set_ylabel(r'Density (g/cm$^{3}$)')\n",
    "    a.set_xlabel(r'Radius (pc)')\n",
    "    a.set_ylim(0.2,1.8)\n",
    "    #a.set_ylim(1.0E-26,1.0E-24)\n",
    "\n",
    "fig.savefig('carina_simulation_density_profiles.png')"
   ]
  },
  {
   "cell_type": "code",
   "execution_count": null,
   "metadata": {
    "collapsed": false
   },
   "outputs": [],
   "source": [
    "fig = plt.figure(figsize=[12,12])\n",
    "ax1 = fig.add_subplot(2,2,1)\n",
    "ax2 = fig.add_subplot(2,2,3)\n",
    "\n",
    "colors = ['black','blue','green','red']*3\n",
    "ls     = ['-']*4  + ['--']*4 + ['-.']*4\n",
    "\n",
    "print np.size(times_list)\n",
    "for i in np.arange(9):\n",
    "    ax1.plot(r_list[3], dens_list[3][i]/dens_list[3][0], lw=2, label=\"%.1f Myr\"%(times_list[3][i]),color=colors[i],ls=ls[i])\n",
    "    ax2.plot(r_list[4], dens_list[4][i]/dens_list[4][0], lw=2, label=\"%.1f Myr\"%(times_list[4][i]),color=colors[i],ls=ls[i])\n",
    "\n",
    "ax2.set_title('No Physics')\n",
    "ax1.set_title('No Wind')\n",
    "\n",
    "ax2.legend(loc='center left', bbox_to_anchor=(1, 0.5))\n",
    "for a in [ax1,ax2]:\n",
    "    a.set_ylabel(r'Density (g/cm$^{3}$)')\n",
    "    a.set_xlabel(r'Radius (pc)')\n",
    "    #a.set_ylim(1.0E-26,1.0E-24)\n",
    "\n",
    "fig.savefig('carina_nowind_density_profiles.png')"
   ]
  },
  {
   "cell_type": "code",
   "execution_count": null,
   "metadata": {
    "collapsed": false
   },
   "outputs": [],
   "source": [
    "ds_selection = [0,20,40,60,80,100,120,140,160,180,200]\n",
    "dw.profile_1D(sim_sne,'radius','temperature', 20, ds_selection=ds_selection)\n",
    "dw.profile_1D(sim_nosne,'radius','temperature', 20, ds_selection=ds_selection)\n",
    "dw.profile_1D(sim_ad,'radius','temperature', 20, ds_selection=ds_selection)\n",
    "dw.profile_1D(sim_nowind,'radius','temperature',20,ds_selection=ds_selection)\n",
    "dw.profile_1D(sim_nophys,'radius','temperature',20,ds_selection=ds_selection)"
   ]
  },
  {
   "cell_type": "code",
   "execution_count": null,
   "metadata": {
    "collapsed": false
   },
   "outputs": [],
   "source": [
    "sim_list   = [sim_sne, sim_nosne, sim_ad,sim_nowind,sim_nophys]\n",
    "temp_list  = [None]*len(sim_list)\n",
    "times_list = [None]*len(sim_list)\n",
    "r_list = [None]*len(sim_list)\n",
    "i = 0\n",
    "for s in sim_list:\n",
    "    temp_list[i] = copy.deepcopy(s.profiles['radius']['temperature'])\n",
    "    times_list[i] = copy.deepcopy(s.profile_times)\n",
    "    r_list[i] = copy.deepcopy(s.profile_bins['radius'])\n",
    "    \n",
    "    temp_list[i] = [x for x in temp_list[i] if x is not None]\n",
    "    times_list[i] = [x for x in times_list[i] if x is not None]\n",
    "    \n",
    "    r_list[i] = r_list[i].convert_to_units('pc').value\n",
    "    for j in np.arange(len(dens_list[i])):\n",
    "        temp_list[i][j] = temp_list[i][j].value\n",
    "        times_list[i][j] = times_list[i][j].value\n",
    "        \n",
    "    i = i + 1\n",
    "\n"
   ]
  },
  {
   "cell_type": "code",
   "execution_count": null,
   "metadata": {
    "collapsed": false
   },
   "outputs": [],
   "source": [
    "fig = plt.figure(figsize=[12,12])\n",
    "ax1 = fig.add_subplot(2,2,1)\n",
    "ax2 = fig.add_subplot(2,2,2)\n",
    "ax3 = fig.add_subplot(2,2,3)\n",
    "\n",
    "colors = ['black','blue','green','red']*3\n",
    "ls     = ['-']*4  + ['--']*4 + ['-.']*4\n",
    "\n",
    "for i in np.arange(9):\n",
    "    ax3.plot(r_list[0], temp_list[0][i]/temp_list[0][0], lw=2, label=\"%.1f Myr\"%(times_list[0][i]),color=colors[i],ls=ls[i])\n",
    "    ax2.plot(r_list[1], temp_list[1][i]/temp_list[1][0], lw=2, label=\"%.1f Myr\"%(times_list[1][i]),color=colors[i],ls=ls[i])\n",
    "    ax1.plot(r_list[2], temp_list[2][i]/temp_list[2][0], lw=2, label=\"%.1f Myr\"%(times_list[2][i]),color=colors[i],ls=ls[i])\n",
    "    \n",
    "    \n",
    "ax3.set_title('Full Physics - Supernova')\n",
    "ax2.set_title('No Supernova')\n",
    "ax1.set_title('Adiabatic')\n",
    "#ax1.semilogy(); ax2.semilogy(); ax3.semilogy()\n",
    "ax3.legend(loc='center left', bbox_to_anchor=(1, 0.5))\n",
    "for a in [ax1,ax2,ax3]:\n",
    "    a.set_ylabel(r'Temperature (g/cm$^{3}$)')\n",
    "    a.set_xlabel(r'Radius (pc)')\n",
    "    a.set_ylim(1,5)\n",
    "    \n",
    "fig.savefig('carina_simulation_temperature_profiles.png')"
   ]
  },
  {
   "cell_type": "code",
   "execution_count": null,
   "metadata": {
    "collapsed": false
   },
   "outputs": [],
   "source": [
    "fig = plt.figure(figsize=[12,12])\n",
    "ax1 = fig.add_subplot(2,2,1)\n",
    "ax2 = fig.add_subplot(2,2,3)\n",
    "\n",
    "colors = ['black','blue','green','red']*3\n",
    "ls     = ['-']*4  + ['--']*4 + ['-.']*4\n",
    "\n",
    "for i in np.arange(9):\n",
    "    ax1.plot(r_list[3], temp_list[3][i]/temp_list[3][0], lw=2, label=\"%.1f Myr\"%(times_list[3][i]),color=colors[i],ls=ls[i])\n",
    "    ax2.plot(r_list[4], temp_list[4][i]/temp_list[4][0], lw=2, label=\"%.1f Myr\"%(times_list[4][i]),color=colors[i],ls=ls[i])\n",
    "    \n",
    "\n",
    "ax1.set_title('No Wind')\n",
    "ax2.set_title('No Physics')\n",
    "#ax1.semilogy(); ax2.semilogy(); ax3.semilogy()\n",
    "ax2.legend(loc='center left', bbox_to_anchor=(1, 0.5))\n",
    "for a in [ax1,ax2]:\n",
    "    a.set_ylabel(r'Temperature (g/cm$^{3}$)')\n",
    "    a.set_xlabel(r'Radius (pc)')\n",
    "    a.set_ylim(1,5)\n",
    "    \n",
    "fig.savefig('carina_nowind_temperature_profiles.png')"
   ]
  },
  {
   "cell_type": "code",
   "execution_count": null,
   "metadata": {
    "collapsed": true
   },
   "outputs": [],
   "source": []
  }
 ],
 "metadata": {
  "kernelspec": {
   "display_name": "Python 2",
   "language": "python",
   "name": "python2"
  },
  "language_info": {
   "codemirror_mode": {
    "name": "ipython",
    "version": 2
   },
   "file_extension": ".py",
   "mimetype": "text/x-python",
   "name": "python",
   "nbconvert_exporter": "python",
   "pygments_lexer": "ipython2",
   "version": "2.7.9"
  }
 },
 "nbformat": 4,
 "nbformat_minor": 0
}
