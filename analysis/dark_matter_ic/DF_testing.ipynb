{
 "cells": [
  {
   "cell_type": "code",
   "execution_count": 15,
   "metadata": {
    "collapsed": false
   },
   "outputs": [],
   "source": [
    "%matplotlib inline\n",
    "import numpy as np\n",
    "from scipy.integrate import quad\n",
    "import matplotlib.pyplot as plt\n",
    "from scipy.misc import derivative\n",
    "\n",
    "import dm_density_profiles as dmd\n",
    "import cgs as cgs\n",
    "\n",
    "import df as df\n",
    "\n",
    "import time"
   ]
  },
  {
   "cell_type": "code",
   "execution_count": 16,
   "metadata": {
    "collapsed": false
   },
   "outputs": [
    {
     "name": "stdout",
     "output_type": "stream",
     "text": [
      "OK False\n",
      "OK False\n",
      "OK True\n"
     ]
    }
   ],
   "source": [
    "NFW = dmd.general_dm_profile('Hernquist')\n",
    "NFW.set_params(profile_shape_params=[1.0,4.0,1.0])\n",
    "NFW.set_params(M_vir = 1.0E12 * cgs.Msun, r_vir = 240.0 * cgs.kpc)\n",
    "NFW.set_params(r_decay = 0.1*NFW.r_vir, r_s = (1.0/12.0)*NFW.r_vir)"
   ]
  },
  {
   "cell_type": "code",
   "execution_count": 17,
   "metadata": {
    "collapsed": true
   },
   "outputs": [],
   "source": [
    "NFW_DF = df.DF(NFW)\n",
    "\n",
    "N_DM = 1.0E4\n",
    "M_DM = NFW.M_vir / N_DM\n"
   ]
  },
  {
   "cell_type": "code",
   "execution_count": 18,
   "metadata": {
    "collapsed": false
   },
   "outputs": [
    {
     "name": "stdout",
     "output_type": "stream",
     "text": [
      "4.95033262938e+13 2.52467051746e+15\n",
      "-1.20049667371e+15 1.27467051746e+15\n",
      "4.95033262938e+13 2.52467051746e+15\n"
     ]
    }
   ],
   "source": [
    "# find the range of the potential\n",
    "r = np.linspace(0.0,1000.0,100.0)*cgs.kpc\n",
    "\n",
    "rel_pot = NFW_DF.relative_potential(r)\n",
    "\n",
    "# and pick a range of velocities\n",
    "v = np.linspace(0.0,500.0 * cgs.km,100.0)\n",
    "v_sqr = v*v\n",
    "\n",
    "evals_low = rel_pot - np.min(0.5*v_sqr)\n",
    "evals_high = rel_pot - np.max(0.5*v_sqr)\n",
    "\n",
    "print np.min(evals_low), np.max(evals_low)\n",
    "print np.min(evals_high), np.max(evals_high)\n",
    "\n",
    "print np.min(rel_pot), np.max(rel_pot)"
   ]
  },
  {
   "cell_type": "code",
   "execution_count": 19,
   "metadata": {
    "collapsed": true
   },
   "outputs": [],
   "source": [
    "#E = np.logspace(14, np.log10(1.23E15), 10.0)"
   ]
  },
  {
   "cell_type": "code",
   "execution_count": 20,
   "metadata": {
    "collapsed": false,
    "scrolled": true
   },
   "outputs": [
    {
     "name": "stdout",
     "output_type": "stream",
     "text": [
      "000 Computing value for E = 2.337E+11  - f = 1.029E-56\n",
      "001 Computing value for E = 2.488E+11  - f = 1.308E-56\n",
      "002 Computing value for E = 2.648E+11  - f = 1.603E-56\n",
      "003 Computing value for E = 2.818E+11  - f = 1.931E-56\n",
      "004 Computing value for E = 2.999E+11  - f = 2.302E-56\n",
      "005 Computing value for E = 3.192E+11  - f = 2.727E-56\n",
      "006 Computing value for E = 3.397E+11  - f = 3.217E-56\n",
      "007 Computing value for E = 3.616E+11  - f = 3.785E-56\n",
      "008 Computing value for E = 3.848E+11  - f = 4.444E-56\n",
      "009 Computing value for E = 4.096E+11  - f = 5.210E-56\n",
      "010 Computing value for E = 4.359E+11  - f = 6.103E-56\n",
      "011 Computing value for E = 4.640E+11  - f = 7.144E-56\n",
      "012 Computing value for E = 4.938E+11  - f = 8.359E-56\n",
      "013 Computing value for E = 5.256E+11  - f = 9.776E-56\n",
      "014 Computing value for E = 5.594E+11  - f = 1.143E-55\n",
      "015 Computing value for E = 5.953E+11  - f = 1.336E-55\n",
      "016 Computing value for E = 6.336E+11  - f = 1.562E-55\n",
      "017 Computing value for E = 6.744E+11  - f = 1.826E-55\n",
      "018 Computing value for E = 7.178E+11  - f = 2.134E-55\n",
      "019 Computing value for E = 7.639E+11  - f = 2.493E-55\n",
      "020 Computing value for E = 8.130E+11  - f = 2.914E-55\n",
      "021 Computing value for E = 8.653E+11  - f = 3.405E-55\n",
      "022 Computing value for E = 9.210E+11  - f = 3.979E-55\n",
      "023 Computing value for E = 9.802E+11  - f = 4.649E-55\n",
      "024 Computing value for E = 1.043E+12  - f = 5.433E-55\n",
      "025 Computing value for E = 1.110E+12  - f = 6.348E-55\n",
      "026 Computing value for E = 1.182E+12  - f = 7.418E-55\n",
      "027 Computing value for E = 1.258E+12  - f = 8.669E-55\n",
      "028 Computing value for E = 1.339E+12  - f = 1.013E-54\n",
      "029 Computing value for E = 1.425E+12  - f = 1.184E-54\n",
      "030 Computing value for E = 1.516E+12  - f = 1.383E-54\n",
      "031 Computing value for E = 1.614E+12  - f = 1.616E-54\n",
      "032 Computing value for E = 1.718E+12  - f = 1.889E-54\n",
      "033 Computing value for E = 1.828E+12  - f = 2.208E-54\n",
      "034 Computing value for E = 1.946E+12  - f = 2.580E-54\n",
      "035 Computing value for E = 2.071E+12  - f = 3.015E-54\n",
      "036 Computing value for E = 2.204E+12  - f = 3.523E-54\n",
      "037 Computing value for E = 2.346E+12  - f = 4.117E-54\n",
      "038 Computing value for E = 2.497E+12  - f = 4.812E-54\n",
      "039 Computing value for E = 2.657E+12  - f = 5.623E-54\n",
      "040 Computing value for E = 2.828E+12  - f = 6.572E-54\n",
      "041 Computing value for E = 3.010E+12  - f = 7.680E-54\n",
      "042 Computing value for E = 3.204E+12  - f = 8.976E-54\n",
      "043 Computing value for E = 3.410E+12  - f = 1.049E-53\n",
      "044 Computing value for E = 3.629E+12  - f = 1.226E-53\n",
      "045 Computing value for E = 3.863E+12  - f = 1.433E-53\n",
      "046 Computing value for E = 4.111E+12  - f = 1.675E-53\n",
      "047 Computing value for E = 4.375E+12  - f = 1.957E-53\n",
      "048 Computing value for E = 4.657E+12  - f = 2.288E-53\n",
      "049 Computing value for E = 4.956E+12  - f = 2.674E-53\n",
      "050 Computing value for E = 5.275E+12  - f = 3.125E-53\n",
      "051 Computing value for E = 5.614E+12  - f = 3.653E-53\n",
      "052 Computing value for E = 5.975E+12  - f = 4.269E-53\n",
      "053 Computing value for E = 6.360E+12  - f = 4.990E-53\n",
      "054 Computing value for E = 6.769E+12  - f = 5.833E-53\n",
      "055 Computing value for E = 7.204E+12  - f = 6.818E-53\n",
      "056 Computing value for E = 7.667E+12  - f = 7.970E-53\n",
      "057 Computing value for E = 8.161E+12  - f = 9.316E-53\n",
      "058 Computing value for E = 8.685E+12  - f = 1.089E-52\n",
      "059 Computing value for E = 9.244E+12  - f = 1.273E-52\n",
      "060 Computing value for E = 9.839E+12  - f = 1.488E-52\n",
      "061 Computing value for E = 1.047E+13  - f = 1.740E-52\n",
      "062 Computing value for E = 1.114E+13  - f = 2.034E-52\n",
      "063 Computing value for E = 1.186E+13  - f = 2.378E-52\n",
      "064 Computing value for E = 1.262E+13  - f = 2.780E-52\n",
      "065 Computing value for E = 1.344E+13  - f = 3.250E-52\n",
      "066 Computing value for E = 1.430E+13  - f = 3.800E-52\n",
      "067 Computing value for E = 1.522E+13  - f = 4.443E-52\n",
      "068 Computing value for E = 1.620E+13  - f = 5.195E-52\n",
      "069 Computing value for E = 1.724E+13  - f = 6.075E-52\n",
      "070 Computing value for E = 1.835E+13  - f = 7.103E-52\n",
      "071 Computing value for E = 1.953E+13  - f = 8.307E-52\n",
      "072 Computing value for E = 2.079E+13  - f = 9.714E-52\n",
      "073 Computing value for E = 2.212E+13  - f = 1.136E-51\n",
      "074 Computing value for E = 2.355E+13  - f = 1.329E-51\n",
      "075 Computing value for E = 2.506E+13  - f = 1.554E-51\n",
      "076 Computing value for E = 2.667E+13  - f = 1.818E-51\n",
      "077 Computing value for E = 2.839E+13  - f = 2.126E-51\n",
      "078 Computing value for E = 3.021E+13  - f = 2.488E-51\n",
      "079 Computing value for E = 3.216E+13  - f = 2.910E-51\n",
      "080 Computing value for E = 3.423E+13  - f = 3.405E-51\n",
      "081 Computing value for E = 3.643E+13  - f = 3.984E-51\n",
      "082 Computing value for E = 3.877E+13  - f = 4.663E-51\n",
      "083 Computing value for E = 4.126E+13  - f = 5.457E-51\n",
      "084 Computing value for E = 4.392E+13  - f = 6.386E-51\n",
      "085 Computing value for E = 4.674E+13  - f = 7.475E-51\n",
      "086 Computing value for E = 4.975E+13  - f = 8.751E-51\n",
      "087 Computing value for E = 5.295E+13  - f = 1.025E-50\n",
      "088 Computing value for E = 5.635E+13  - f = 1.200E-50\n",
      "089 Computing value for E = 5.998E+13  - f = 1.405E-50\n",
      "090 Computing value for E = 6.383E+13  - f = 1.646E-50\n",
      "091 Computing value for E = 6.794E+13  - f = 1.928E-50\n",
      "092 Computing value for E = 7.231E+13  - f = 2.258E-50\n",
      "093 Computing value for E = 7.696E+13  - f = 2.646E-50\n",
      "094 Computing value for E = 8.191E+13  - f = 3.102E-50\n",
      "095 Computing value for E = 8.718E+13  - f = 3.636E-50\n",
      "096 Computing value for E = 9.278E+13  - f = 4.263E-50\n",
      "097 Computing value for E = 9.875E+13  - f = 5.000E-50\n",
      "098 Computing value for E = 1.051E+14  - f = 5.865E-50\n",
      "099 Computing value for E = 1.119E+14  - f = 6.881E-50\n",
      "100 Computing value for E = 1.191E+14  - f = 8.076E-50\n",
      "101 Computing value for E = 1.267E+14  - f = 9.482E-50\n",
      "102 Computing value for E = 1.349E+14  - f = 1.114E-49\n",
      "103 Computing value for E = 1.435E+14  - f = 1.308E-49\n",
      "104 Computing value for E = 1.528E+14  - f = 1.537E-49\n",
      "105 Computing value for E = 1.626E+14  - f = 1.807E-49\n",
      "106 Computing value for E = 1.731E+14  - f = 2.126E-49\n",
      "107 Computing value for E = 1.842E+14  - f = 2.501E-49\n",
      "108 Computing value for E = 1.960E+14  - f = 2.945E-49\n",
      "109 Computing value for E = 2.086E+14  - f = 3.468E-49\n",
      "110 Computing value for E = 2.221E+14  - f = 4.088E-49\n",
      "111 Computing value for E = 2.363E+14  - f = 4.820E-49\n",
      "112 Computing value for E = 2.515E+14  - f = 5.688E-49\n",
      "113 Computing value for E = 2.677E+14  - f = 6.717E-49\n",
      "114 Computing value for E = 2.849E+14  - f = 7.938E-49\n",
      "115 Computing value for E = 3.033E+14  - f = 9.389E-49\n",
      "116 Computing value for E = 3.228E+14  - f = 1.112E-48\n",
      "117 Computing value for E = 3.435E+14  - f = 1.317E-48\n",
      "118 Computing value for E = 3.656E+14  - f = 1.563E-48\n",
      "119 Computing value for E = 3.891E+14  - f = 1.856E-48\n",
      "120 Computing value for E = 4.142E+14  - f = 2.207E-48\n",
      "121 Computing value for E = 4.408E+14  - f = 2.629E-48\n",
      "122 Computing value for E = 4.691E+14  - f = 3.135E-48\n",
      "123 Computing value for E = 4.993E+14  - f = 3.746E-48\n",
      "124 Computing value for E = 5.314E+14  - f = 4.484E-48\n",
      "125 Computing value for E = 5.656E+14  - f = 5.379E-48\n",
      "126 Computing value for E = 6.020E+14  - f = 6.468E-48\n",
      "127 Computing value for E = 6.407E+14  - f = 7.796E-48\n",
      "128 Computing value for E = 6.819E+14  - f = 9.425E-48\n",
      "129 Computing value for E = 7.258E+14  - f = 1.143E-47\n",
      "130 Computing value for E = 7.724E+14  - f = 1.391E-47\n",
      "131 Computing value for E = 8.221E+14  - f = 1.701E-47\n",
      "132 Computing value for E = 8.750E+14  - f = 2.089E-47\n",
      "133 Computing value for E = 9.313E+14  - f = 2.579E-47\n",
      "134 Computing value for E = 9.912E+14  - f = 3.204E-47\n",
      "135 Computing value for E = 1.055E+15  - f = 4.011E-47\n",
      "136 Computing value for E = 1.123E+15  - f = 5.063E-47\n",
      "137 Computing value for E = 1.195E+15  - f = 6.458E-47\n",
      "138 Computing value for E = 1.272E+15  - f = 8.340E-47\n",
      "139 Computing value for E = 1.354E+15  - f = 1.094E-46\n",
      "140 Computing value for E = 1.441E+15  - f = 1.461E-46\n",
      "141 Computing value for E = 1.533E+15  - f = 2.000E-46\n",
      "142 Computing value for E = 1.632E+15  - f = 2.824E-46\n",
      "143 Computing value for E = 1.737E+15  - f = 4.162E-46\n",
      "144 Computing value for E = 1.849E+15  - f = 6.512E-46\n",
      "145 Computing value for E = 1.968E+15  - f = 1.115E-45\n",
      "146 Computing value for E = 2.094E+15  - f = 2.209E-45\n",
      "147 Computing value for E = 2.229E+15  - f = 5.770E-45\n",
      "148 Computing value for E = 2.372E+15  - f = 3.004E-44\n",
      "149 Computing value for E = 2.525E+15  - f = 1.738E-39\n",
      "24.4823005517 1468.9380331\n"
     ]
    }
   ],
   "source": [
    "start = time.time()\n",
    "\n",
    "f = NFW_DF.compute(150, M_DM, N_DM)\n",
    "\n",
    "end = time.time()\n",
    "\n",
    "print (end-start)/60.0, end-start"
   ]
  },
  {
   "cell_type": "code",
   "execution_count": 21,
   "metadata": {
    "collapsed": false
   },
   "outputs": [
    {
     "name": "stdout",
     "output_type": "stream",
     "text": [
      "[  2.33726618e+11   2.48758896e+11   2.64757985e+11   2.81786066e+11\n",
      "   2.99909319e+11   3.19198181e+11   3.39727618e+11   3.61577419e+11\n",
      "   3.84832504e+11   4.09583255e+11   4.35925867e+11   4.63962721e+11\n",
      "   4.93802783e+11   5.25562028e+11   5.59363889e+11   5.95339739e+11\n",
      "   6.33629399e+11   6.74381683e+11   7.17754976e+11   7.63917851e+11\n",
      "   8.13049721e+11   8.65341539e+11   9.20996539e+11   9.80231027e+11\n",
      "   1.04327522e+12   1.11037414e+12   1.18178857e+12   1.25779606e+12\n",
      "   1.33869203e+12   1.42479087e+12   1.51642722e+12   1.61395721e+12\n",
      "   1.71775991e+12   1.82823875e+12   1.94582311e+12   2.07096998e+12\n",
      "   2.20416575e+12   2.34592809e+12   2.49680798e+12   2.65739179e+12\n",
      "   2.82830366e+12   3.01020784e+12   3.20381130e+12   3.40986650e+12\n",
      "   3.62917426e+12   3.86258695e+12   4.11101172e+12   4.37541410e+12\n",
      "   4.65682168e+12   4.95632818e+12   5.27509762e+12   5.61436894e+12\n",
      "   5.97546070e+12   6.35977631e+12   6.76880944e+12   7.20414979e+12\n",
      "   7.66748933e+12   8.16062886e+12   8.68548498e+12   9.24409756e+12\n",
      "   9.83863766e+12   1.04714160e+13   1.11448919e+13   1.18616828e+13\n",
      "   1.26245746e+13   1.34365323e+13   1.43007115e+13   1.52204710e+13\n",
      "   1.61993854e+13   1.72412594e+13   1.83501421e+13   1.95303434e+13\n",
      "   2.07864500e+13   2.21233440e+13   2.35462211e+13   2.50606115e+13\n",
      "   2.66724010e+13   2.83878537e+13   3.02136368e+13   3.21568464e+13\n",
      "   3.42250347e+13   3.64262399e+13   3.87690171e+13   4.12624715e+13\n",
      "   4.39162940e+13   4.67407988e+13   4.97469635e+13   5.29464715e+13\n",
      "   5.63517581e+13   5.99760578e+13   6.38334567e+13   6.79389467e+13\n",
      "   7.23084839e+13   7.69590508e+13   8.19087218e+13   8.71767342e+13\n",
      "   9.27835622e+13   9.87509969e+13   1.05102231e+14   1.11861949e+14\n",
      "   1.19056422e+14   1.26713613e+14   1.34863281e+14   1.43537100e+14\n",
      "   1.52768781e+14   1.62594204e+14   1.73051556e+14   1.84181478e+14\n",
      "   1.96027229e+14   2.08634847e+14   2.22053332e+14   2.36334835e+14\n",
      "   2.51534863e+14   2.67712490e+14   2.84930592e+14   3.03256087e+14\n",
      "   3.22760198e+14   3.43518728e+14   3.65612357e+14   3.89126952e+14\n",
      "   4.14153903e+14   4.40790479e+14   4.69140204e+14   4.99313259e+14\n",
      "   5.31426914e+14   5.65605979e+14   6.01983293e+14   6.40700237e+14\n",
      "   6.81907287e+14   7.25764594e+14   7.72442613e+14   8.22122759e+14\n",
      "   8.74998115e+14   9.31274184e+14   9.91169685e+14   1.05491740e+15\n",
      "   1.12276510e+15   1.19497646e+15   1.27183214e+15   1.35363085e+15\n",
      "   1.44069049e+15   1.53334943e+15   1.63196779e+15   1.73692885e+15\n",
      "   1.84864055e+15   1.96753706e+15   2.09408048e+15   2.22876262e+15\n",
      "   2.37210693e+15   2.52467052e+15]\n",
      "[  1.40149384e-43   1.78059982e-43   2.18313430e-43   2.62941816e-43\n",
      "   3.13466885e-43   3.71329739e-43   4.38050048e-43   5.15312540e-43\n",
      "   6.05030761e-43   7.09405206e-43   8.30983155e-43   9.72724279e-43\n",
      "   1.13807482e-42   1.33105280e-42   1.55634662e-42   1.81942974e-42\n",
      "   2.12669425e-42   2.48560663e-42   2.90488972e-42   3.39473516e-42\n",
      "   3.96705154e-42   4.63575443e-42   5.41710529e-42   6.33010742e-42\n",
      "   7.39696890e-42   8.64364348e-42   1.01004629e-41   1.18028757e-41\n",
      "   1.37923113e-41   1.61171895e-41   1.88341005e-41   2.20091844e-41\n",
      "   2.57197438e-41   3.00561289e-41   3.51239407e-41   4.10466067e-41\n",
      "   4.79683927e-41   5.60579226e-41   6.55122940e-41   7.65618897e-41\n",
      "   8.94760029e-41   1.04569414e-40   1.22210082e-40   1.42828134e-40\n",
      "   1.66926377e-40   1.95092598e-40   2.28013935e-40   2.66493689e-40\n",
      "   3.11470989e-40   3.64043785e-40   4.25495742e-40   4.97327697e-40\n",
      "   5.81294460e-40   6.79447855e-40   7.94187080e-40   9.28317624e-40\n",
      "   1.08512020e-39   1.26843140e-39   1.48273812e-39   1.73328798e-39\n",
      "   2.02621869e-39   2.36870935e-39   2.76915770e-39   3.23738753e-39\n",
      "   3.78489166e-39   4.42511639e-39   5.17379482e-39   6.04933713e-39\n",
      "   7.07328802e-39   8.27086264e-39   9.67157479e-39   1.13099733e-38\n",
      "   1.32265055e-38   1.54685297e-38   1.80915030e-38   2.11603753e-38\n",
      "   2.47512244e-38   2.89531762e-38   3.38706601e-38   3.96260570e-38\n",
      "   4.63628119e-38   5.42490926e-38   6.34820919e-38   7.42930887e-38\n",
      "   8.69534048e-38   1.01781419e-37   1.19150832e-37   1.39500403e-37\n",
      "   1.63345438e-37   1.91291349e-37   2.24049656e-37   2.62456906e-37\n",
      "   3.07497043e-37   3.60327882e-37   4.22312462e-37   4.95056235e-37\n",
      "   5.80451177e-37   6.80728207e-37   7.98519527e-37   9.36932838e-37\n",
      "   1.09963985e-36   1.29098190e-36   1.51609635e-36   1.78106775e-36\n",
      "   2.09310942e-36   2.46078143e-36   2.89425325e-36   3.40562055e-36\n",
      "   4.00928843e-36   4.72243593e-36   5.56558072e-36   6.56326737e-36\n",
      "   7.74490896e-36   9.14581939e-36   1.08084844e-35   1.27841320e-35\n",
      "   1.51346818e-35   1.79351744e-35   2.12768155e-35   2.52708076e-35\n",
      "   3.00532054e-35   3.57911020e-35   4.26905675e-35   5.10069117e-35\n",
      "   6.10580574e-35   7.32421242e-35   8.80607699e-35   1.06150509e-34\n",
      "   1.28325222e-34   1.55634606e-34   1.89445695e-34   2.31558341e-34\n",
      "   2.84371718e-34   3.51129119e-34   4.36285823e-34   5.46075791e-34\n",
      "   6.89409483e-34   8.79342772e-34   1.13557097e-33   1.48885061e-33\n",
      "   1.98924972e-33   2.72251445e-33   3.84506181e-33   5.66615964e-33\n",
      "   8.86585280e-33   1.51761262e-32   3.00817927e-32   7.85665078e-32\n",
      "   4.08979897e-31   2.36616856e-26]\n"
     ]
    }
   ],
   "source": [
    "print NFW_DF.E\n",
    "\n",
    "print NFW_DF.f * (NFW_DF.M_DM*NFW_DF.N_DM) * (NFW_DF.M_DM/NFW_DF.N_DM)**0.5 / NFW_DF.N_DM"
   ]
  },
  {
   "cell_type": "code",
   "execution_count": 22,
   "metadata": {
    "collapsed": false
   },
   "outputs": [],
   "source": [
    "\n",
    "f = open('hernquist_test.dat','w')\n",
    "\n",
    "for i in np.arange(np.size(NFW_DF.f)):\n",
    "    \n",
    "    f.write(\"%.8E %.8E\\n\"%(NFW_DF.E[i],NFW_DF.f[i]))\n",
    "    \n",
    "f.close()\n",
    "\n"
   ]
  },
  {
   "cell_type": "code",
   "execution_count": 30,
   "metadata": {
    "collapsed": false
   },
   "outputs": [
    {
     "data": {
      "text/plain": [
       "<matplotlib.text.Text at 0x7f282fe9be10>"
      ]
     },
     "execution_count": 30,
     "metadata": {},
     "output_type": "execute_result"
    },
    {
     "data": {
      "image/png": "[encoded data removed]",
      "text/plain": [
       "<matplotlib.figure.Figure at 0x7f28300edf90>"
      ]
     },
     "metadata": {},
     "output_type": "display_data"
    }
   ],
   "source": [
    "E_const = ((cgs.G * NFW_DF.dprof.M_vir) / NFW_DF.dprof.r_s)**(-1.0)\n",
    "f_const = (cgs.G  * NFW_DF.dprof.M_vir * NFW_DF.dprof.r_s)**(3.0/2.0)\n",
    "\n",
    "\n",
    "f_analytical = df.hernquist_df(NFW_DF.E, NFW_DF.dprof.M_sys, NFW_DF.dprof.r_s)\n",
    "\n",
    "plt.plot(NFW_DF.E*E_const, np.log10(NFW_DF.f * f_const))\n",
    "plt.plot(NFW_DF.E*E_const, np.log10(f_analytical * f_const))\n",
    "plt.xlim(0.0,1.5)\n",
    "plt.ylabel(r'log f(GM$_{\\rm{s}}$)$^{3/2}$')\n",
    "plt.xlabel(r'E/(GM$_{\\rm{vir}}$/r_${\\rm{s}}$)$^{-1}$')"
   ]
  },
  {
   "cell_type": "code",
   "execution_count": 31,
   "metadata": {
    "collapsed": false
   },
   "outputs": [
    {
     "data": {
      "text/plain": [
       "<matplotlib.text.Text at 0x7f282fddd910>"
      ]
     },
     "execution_count": 31,
     "metadata": {},
     "output_type": "execute_result"
    },
    {
     "data": {
      "image/png": "[encoded data removed]",
      "text/plain": [
       "<matplotlib.figure.Figure at 0x7f282fe06e50>"
      ]
     },
     "metadata": {},
     "output_type": "display_data"
    }
   ],
   "source": [
    "error = (NFW_DF.f - f_analytical)/f_analytical\n",
    "\n",
    "error = np.abs(error)\n",
    "\n",
    "plt.plot(NFW_DF.E * E_const, error)\n",
    "plt.xlabel(r'E/(GM$_{\\rm{vir}}$/r_${\\rm{s}}$)$^{-1}$')\n",
    "plt.xlim(0.0,1.5)\n",
    "plt.ylabel('Absolute Error')"
   ]
  },
  {
   "cell_type": "code",
   "execution_count": 32,
   "metadata": {
    "collapsed": false
   },
   "outputs": [
    {
     "name": "stdout",
     "output_type": "stream",
     "text": [
      "[  1.08649486e-04   1.15637348e-04   1.23074638e-04   1.30990263e-04\n",
      "   1.39414987e-04   1.48381552e-04   1.57924807e-04   1.68081843e-04\n",
      "   1.78892135e-04   1.90397698e-04   2.02643249e-04   2.15676381e-04\n",
      "   2.29547747e-04   2.44311258e-04   2.60024295e-04   2.76747925e-04\n",
      "   2.94547147e-04   3.13491137e-04   3.33653522e-04   3.55112663e-04\n",
      "   3.77951964e-04   4.02260189e-04   4.28131812e-04   4.55667386e-04\n",
      "   4.84973929e-04   5.16165340e-04   5.49362848e-04   5.84695474e-04\n",
      "   6.22300541e-04   6.62324202e-04   7.04922011e-04   7.50259526e-04\n",
      "   7.98512952e-04   8.49869828e-04   9.04529755e-04   9.62705170e-04\n",
      "   1.02462218e-03   1.09052141e-03   1.16065900e-03   1.23530753e-03\n",
      "   1.31475714e-03   1.39931659e-03   1.48931454e-03   1.58510077e-03\n",
      "   1.68704755e-03   1.79555110e-03   1.91103313e-03   2.03394246e-03\n",
      "   2.16475678e-03   2.30398451e-03   2.45216677e-03   2.60987946e-03\n",
      "   2.77773554e-03   2.95638740e-03   3.14652936e-03   3.34890043e-03\n",
      "   3.56428712e-03   3.79352655e-03   4.03750966e-03   4.29718470e-03\n",
      "   4.57356091e-03   4.86771244e-03   5.18078251e-03   5.51398788e-03\n",
      "   5.86862357e-03   6.24606789e-03   6.64778778e-03   7.07534455e-03\n",
      "   7.53039990e-03   8.01472244e-03   8.53019449e-03   9.07881946e-03\n",
      "   9.66272959e-03   1.02841943e-02   1.09456289e-02   1.16496041e-02\n",
      "   1.23988559e-02   1.31962963e-02   1.40450246e-02   1.49483395e-02\n",
      "   1.59097516e-02   1.69329975e-02   1.80220542e-02   1.91811543e-02\n",
      "   2.04148026e-02   2.17277938e-02   2.31252309e-02   2.46125451e-02\n",
      "   2.61955168e-02   2.78802984e-02   2.96734378e-02   3.15819041e-02\n",
      "   3.36131147e-02   3.57749638e-02   3.80758537e-02   4.05247269e-02\n",
      "   4.31311009e-02   4.59051055e-02   4.88575220e-02   5.19998251e-02\n",
      "   5.53442274e-02   5.89037271e-02   6.26921584e-02   6.67242451e-02\n",
      "   7.10156580e-02   7.55830759e-02   8.04442503e-02   8.56180742e-02\n",
      "   9.11246559e-02   9.69853970e-02   1.03223075e-01   1.09861934e-01\n",
      "   1.16927776e-01   1.24448061e-01   1.32452018e-01   1.40970756e-01\n",
      "   1.50037381e-01   1.59687132e-01   1.69957513e-01   1.80888440e-01\n",
      "   1.92522397e-01   2.04904599e-01   2.18083171e-01   2.32109331e-01\n",
      "   2.47037592e-01   2.62925975e-01   2.79836229e-01   2.97834076e-01\n",
      "   3.16989467e-01   3.37376850e-01   3.59075460e-01   3.82169630e-01\n",
      "   4.06749117e-01   4.32909449e-01   4.60752300e-01   4.90385881e-01\n",
      "   5.21925366e-01   5.55493333e-01   5.91220246e-01   6.29244958e-01\n",
      "   6.69715254e-01   7.12788423e-01   7.58631871e-01   8.07423769e-01\n",
      "   8.59353751e-01   9.14623642e-01   9.73448253e-01   1.03605621e+00\n",
      "   1.10269083e+00   1.17361110e+00]\n"
     ]
    }
   ],
   "source": [
    "print NFW_DF.E*E_const"
   ]
  },
  {
   "cell_type": "code",
   "execution_count": 33,
   "metadata": {
    "collapsed": false
   },
   "outputs": [
    {
     "data": {
      "text/plain": [
       "[]"
      ]
     },
     "execution_count": 33,
     "metadata": {},
     "output_type": "execute_result"
    },
    {
     "data": {
      "image/png": "[encoded data removed]",
      "text/plain": [
       "<matplotlib.figure.Figure at 0x7f282ffa8f10>"
      ]
     },
     "metadata": {},
     "output_type": "display_data"
    }
   ],
   "source": [
    "r = np.logspace(0.0,3.0,100.0)*cgs.kpc\n",
    "rel_pot = NFW_DF.relative_potential(r)\n",
    "\n",
    "plt.plot(r/cgs.kpc, rel_pot)\n",
    "plt.loglog()"
   ]
  },
  {
   "cell_type": "code",
   "execution_count": 34,
   "metadata": {
    "collapsed": false
   },
   "outputs": [
    {
     "data": {
      "text/plain": [
       "[]"
      ]
     },
     "execution_count": 34,
     "metadata": {},
     "output_type": "execute_result"
    },
    {
     "data": {
      "image/png": "[encoded data removed]",
      "text/plain": [
       "<matplotlib.figure.Figure at 0x7f282fea82d0>"
      ]
     },
     "metadata": {},
     "output_type": "display_data"
    }
   ],
   "source": [
    "r = np.logspace(0.0,3.0,100.0)*cgs.kpc\n",
    "density = NFW_DF.dprof.density(r)\n",
    "plt.plot(r/cgs.kpc, density)\n",
    "plt.loglog()"
   ]
  },
  {
   "cell_type": "code",
   "execution_count": 35,
   "metadata": {
    "collapsed": false
   },
   "outputs": [
    {
     "data": {
      "text/plain": [
       "[]"
      ]
     },
     "execution_count": 35,
     "metadata": {},
     "output_type": "execute_result"
    },
    {
     "data": {
      "image/png": "[encoded data removed]",
      "text/plain": [
       "<matplotlib.figure.Figure at 0x7f282fa30610>"
      ]
     },
     "metadata": {},
     "output_type": "display_data"
    }
   ],
   "source": [
    "deriv =  NFW_DF._d2rho_dPsi2(r)\n",
    "plt.plot(r/cgs.kpc,deriv)\n",
    "plt.loglog()"
   ]
  },
  {
   "cell_type": "code",
   "execution_count": null,
   "metadata": {
    "collapsed": true
   },
   "outputs": [],
   "source": []
  },
  {
   "cell_type": "code",
   "execution_count": null,
   "metadata": {
    "collapsed": true
   },
   "outputs": [],
   "source": []
  }
 ],
 "metadata": {
  "kernelspec": {
   "display_name": "Python 2",
   "language": "python",
   "name": "python2"
  },
  "language_info": {
   "codemirror_mode": {
    "name": "ipython",
    "version": 2
   },
   "file_extension": ".py",
   "mimetype": "text/x-python",
   "name": "python",
   "nbconvert_exporter": "python",
   "pygments_lexer": "ipython2",
   "version": "2.7.10"
  }
 },
 "nbformat": 4,
 "nbformat_minor": 0
}
