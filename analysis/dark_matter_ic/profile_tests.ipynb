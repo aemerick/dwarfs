{
 "cells": [
  {
   "cell_type": "code",
   "execution_count": 2,
   "metadata": {
    "collapsed": false
   },
   "outputs": [
    {
     "name": "stdout",
     "output_type": "stream",
     "text": [
      "using cgs py\n"
     ]
    }
   ],
   "source": [
    "%matplotlib inline\n",
    "import numpy as np\n",
    "from scipy.integrate import quad\n",
    "import matplotlib.pyplot as plt\n",
    "from scipy.misc import derivative\n",
    "\n",
    "import dm_density_profiles as dmd\n",
    "import cgs as cgs\n",
    "\n",
    "import df as df"
   ]
  },
  {
   "cell_type": "code",
   "execution_count": 7,
   "metadata": {
    "collapsed": false
   },
   "outputs": [
    {
     "data": {
      "text/plain": [
       "array([ 0.59740492])"
      ]
     },
     "execution_count": 7,
     "metadata": {},
     "output_type": "execute_result"
    }
   ],
   "source": [
    "np.random.rand(1)"
   ]
  },
  {
   "cell_type": "code",
   "execution_count": 2,
   "metadata": {
    "collapsed": false
   },
   "outputs": [],
   "source": [
    "def test_function(r):\n",
    "    r = np.asarray(r)\n",
    "    scalar_input = False\n",
    "    if r.ndim == 0:\n",
    "        r = r[None]\n",
    "        scalar_input = True\n",
    "    rho = np.zeros(np.shape(r))\n",
    "    rho[ r > 10 ] = r*r\n",
    "    rho[ r <= 10] = r\n",
    "            \n",
    "    if scalar_input:\n",
    "        return np.squeeze(rho)\n",
    "    else:\n",
    "        return rho"
   ]
  },
  {
   "cell_type": "code",
   "execution_count": 3,
   "metadata": {
    "collapsed": true
   },
   "outputs": [],
   "source": [
    "r = np.array([1.0,5.0,10.0,12.0])\n"
   ]
  },
  {
   "cell_type": "raw",
   "metadata": {},
   "source": []
  },
  {
   "cell_type": "code",
   "execution_count": 4,
   "metadata": {
    "collapsed": false
   },
   "outputs": [
    {
     "data": {
      "text/plain": [
       "array(1000000.0)"
      ]
     },
     "execution_count": 4,
     "metadata": {},
     "output_type": "execute_result"
    }
   ],
   "source": [
    "test_function(1000.0)"
   ]
  },
  {
   "cell_type": "code",
   "execution_count": 5,
   "metadata": {
    "collapsed": false
   },
   "outputs": [
    {
     "data": {
      "text/plain": [
       "(4324.666666666666, 1.997150138777215e-05)"
      ]
     },
     "execution_count": 5,
     "metadata": {},
     "output_type": "execute_result"
    }
   ],
   "source": [
    "quad(test_function, 0.0, 24.0)"
   ]
  },
  {
   "cell_type": "code",
   "execution_count": 6,
   "metadata": {
    "collapsed": true
   },
   "outputs": [],
   "source": [
    "func = lambda x : quad(test_function,0.0, x)"
   ]
  },
  {
   "cell_type": "code",
   "execution_count": null,
   "metadata": {
    "collapsed": false
   },
   "outputs": [],
   "source": []
  },
  {
   "cell_type": "code",
   "execution_count": 7,
   "metadata": {
    "collapsed": true
   },
   "outputs": [],
   "source": [
    "#rom sympy import *"
   ]
  },
  {
   "cell_type": "code",
   "execution_count": 8,
   "metadata": {
    "collapsed": true
   },
   "outputs": [],
   "source": [
    "#r = Symbol('r')\n",
    "#r_s = Symbol('r_s')dm_density_profiles.py:132: RuntimeWarning: divide by zero encountered in divide\n",
    "\n",
    "#gamma = Symbol('gamma')\n",
    "#alpha = Symbol('alpha')\n",
    "#beta  = Symbol('beta')\n",
    "#rho_s = Symbol('rho_s')\n",
    "\n"
   ]
  },
  {
   "cell_type": "code",
   "execution_count": 9,
   "metadata": {
    "collapsed": true
   },
   "outputs": [],
   "source": [
    "#rho = rho_s / ((r/r_s)**gamma * (1 + (r/r_s)**alpha)**((beta-gamma)/alpha))"
   ]
  },
  {
   "cell_type": "code",
   "execution_count": 10,
   "metadata": {
    "collapsed": false
   },
   "outputs": [],
   "source": [
    "#first_dir = diff(rho,r)"
   ]
  },
  {
   "cell_type": "code",
   "execution_count": 11,
   "metadata": {
    "collapsed": false
   },
   "outputs": [],
   "source": [
    "#first_dir"
   ]
  },
  {
   "cell_type": "code",
   "execution_count": 12,
   "metadata": {
    "collapsed": false
   },
   "outputs": [],
   "source": [
    "#first_dir.simplify()"
   ]
  },
  {
   "cell_type": "code",
   "execution_count": 13,
   "metadata": {
    "collapsed": false
   },
   "outputs": [],
   "source": [
    "#f = -(beta*(r/r_s)**alpha + gamma)/((r/r_s)**alpha + 1) * (1/r)\n",
    "#diff(f,r).simplify()"
   ]
  },
  {
   "cell_type": "code",
   "execution_count": null,
   "metadata": {
    "collapsed": false
   },
   "outputs": [],
   "source": []
  },
  {
   "cell_type": "code",
   "execution_count": 14,
   "metadata": {
    "collapsed": true
   },
   "outputs": [],
   "source": [
    "NFW = dmd.general_dm_profile('NFW')"
   ]
  },
  {
   "cell_type": "code",
   "execution_count": 15,
   "metadata": {
    "collapsed": false
   },
   "outputs": [],
   "source": [
    "NFW.set_params(profile_shape_params=[1.0,3.0,1.0])"
   ]
  },
  {
   "cell_type": "code",
   "execution_count": 16,
   "metadata": {
    "collapsed": false
   },
   "outputs": [],
   "source": [
    "NFW.set_params(M_vir = 1.0E12 * cgs.Msun, r_vir = 240.0 * cgs.kpc)\n",
    "NFW.set_params(r_decay = 0.1*NFW.r_vir, r_s = (1.0/12.0)*NFW.r_vir)"
   ]
  },
  {
   "cell_type": "code",
   "execution_count": 17,
   "metadata": {
    "collapsed": false
   },
   "outputs": [
    {
     "data": {
      "text/plain": [
       "array(7.440756927614033e-24)"
      ]
     },
     "execution_count": 17,
     "metadata": {},
     "output_type": "execute_result"
    }
   ],
   "source": [
    "NFW.density(1000.0*cgs.pc)"
   ]
  },
  {
   "cell_type": "code",
   "execution_count": 18,
   "metadata": {
    "collapsed": true
   },
   "outputs": [],
   "source": [
    "r = np.linspace(0.001,500.0,1000.0)*cgs.kpc"
   ]
  },
  {
   "cell_type": "code",
   "execution_count": 19,
   "metadata": {
    "collapsed": false
   },
   "outputs": [],
   "source": [
    "rho = NFW.density(r)"
   ]
  },
  {
   "cell_type": "code",
   "execution_count": 20,
   "metadata": {
    "collapsed": true
   },
   "outputs": [],
   "source": [
    "drho_dr = NFW.first_derivative(r)"
   ]
  },
  {
   "cell_type": "code",
   "execution_count": 21,
   "metadata": {
    "collapsed": false
   },
   "outputs": [],
   "source": [
    "drho_drdr = NFW.second_derivative(r)"
   ]
  },
  {
   "cell_type": "code",
   "execution_count": 22,
   "metadata": {
    "collapsed": false
   },
   "outputs": [
    {
     "data": {
      "text/plain": [
       "<matplotlib.text.Text at 0x7f7db77a7a90>"
      ]
     },
     "execution_count": 22,
     "metadata": {},
     "output_type": "execute_result"
    },
    {
     "data": {
      "image/png": "[encoded data removed]",
      "text/plain": [
       "<matplotlib.figure.Figure at 0x7f7db9be8810>"
      ]
     },
     "metadata": {},
     "output_type": "display_data"
    }
   ],
   "source": [
    "plt.plot(r/cgs.kpc,rho)\n",
    "\n",
    "plt.plot(r/cgs.kpc, NFW.rho_s/((r/NFW.r_s)*(1.0+(r/NFW.r_s))**2))\n",
    "\n",
    "plt.semilogy()\n",
    "plt.xlabel('r (kpc)')\n",
    "plt.ylabel('Density')"
   ]
  },
  {
   "cell_type": "code",
   "execution_count": 23,
   "metadata": {
    "collapsed": false
   },
   "outputs": [
    {
     "data": {
      "text/plain": [
       "<matplotlib.text.Text at 0x7f7db766b190>"
      ]
     },
     "execution_count": 23,
     "metadata": {},
     "output_type": "execute_result"
    },
    {
     "data": {
      "image/png": "[encoded data removed]",
      "text/plain": [
       "<matplotlib.figure.Figure at 0x7f7db9be8650>"
      ]
     },
     "metadata": {},
     "output_type": "display_data"
    }
   ],
   "source": [
    "plt.plot(r/cgs.kpc, np.log10(-NFW.first_derivative(r)))\n",
    "plt.xlabel('r (kpc)')\n",
    "plt.ylabel(r'First derivative')"
   ]
  },
  {
   "cell_type": "code",
   "execution_count": 24,
   "metadata": {
    "collapsed": false
   },
   "outputs": [
    {
     "name": "stderr",
     "output_type": "stream",
     "text": [
      "dm_density_profiles.py:151: RuntimeWarning: divide by zero encountered in true_divide\n",
      "  rho = self.rho_s / ( c**gamma * (1.0 + c**alpha)**((beta-gamma)/alpha) )\n"
     ]
    },
    {
     "data": {
      "text/plain": [
       "<matplotlib.text.Text at 0x7f7db745f290>"
      ]
     },
     "execution_count": 24,
     "metadata": {},
     "output_type": "execute_result"
    },
    {
     "data": {
      "image/png": "[encoded data removed]",
      "text/plain": [
       "<matplotlib.figure.Figure at 0x7f7db74aed90>"
      ]
     },
     "metadata": {},
     "output_type": "display_data"
    }
   ],
   "source": [
    "plt.plot(r/cgs.kpc, -derivative(NFW.density,r,dx=1.0*cgs.pc), color = 'red')\n",
    "plt.plot(r/cgs.kpc, -NFW.first_derivative(r), color='blue')\n",
    "\n",
    "plt.semilogy()\n",
    "plt.xlabel('R (kpc)')\n",
    "plt.ylabel('First Derivative')"
   ]
  },
  {
   "cell_type": "code",
   "execution_count": 25,
   "metadata": {
    "collapsed": false
   },
   "outputs": [
    {
     "data": {
      "text/plain": [
       "[]"
      ]
     },
     "execution_count": 25,
     "metadata": {},
     "output_type": "execute_result"
    },
    {
     "data": {
      "image/png": "[encoded data removed]",
      "text/plain": [
       "<matplotlib.figure.Figure at 0x7f7db74aec90>"
      ]
     },
     "metadata": {},
     "output_type": "display_data"
    }
   ],
   "source": [
    "plt.plot(r/cgs.kpc, NFW.second_derivative(r))\n",
    "plt.plot(r/cgs.kpc, derivative(NFW.first_derivative,r,dx=1.0*cgs.pc), color = 'red')\n",
    "\n",
    "plt.semilogy()"
   ]
  },
  {
   "cell_type": "code",
   "execution_count": 26,
   "metadata": {
    "collapsed": false,
    "scrolled": true
   },
   "outputs": [
    {
     "data": {
      "text/plain": [
       "[]"
      ]
     },
     "execution_count": 26,
     "metadata": {},
     "output_type": "execute_result"
    },
    {
     "data": {
      "image/png": "[encoded data removed]",
      "text/plain": [
       "<matplotlib.figure.Figure at 0x7f7db7567110>"
      ]
     },
     "metadata": {},
     "output_type": "display_data"
    }
   ],
   "source": [
    "plt.plot(r/cgs.kpc, NFW.cumulative_mass(r)/cgs.Msun)\n",
    "plt.semilogy()"
   ]
  },
  {
   "cell_type": "code",
   "execution_count": 27,
   "metadata": {
    "collapsed": false
   },
   "outputs": [
    {
     "name": "stdout",
     "output_type": "stream",
     "text": [
      "240.0\n",
      "1e+12\n",
      "1.0\n",
      "1.19533180003\n"
     ]
    }
   ],
   "source": [
    "print NFW.r_vir/cgs.kpc\n",
    "print NFW.M_vir/cgs.Msun\n",
    "\n",
    "print NFW.cumulative_mass(NFW.r_vir)/(NFW.M_vir)\n",
    "print NFW.cumulative_mass(500*cgs.kpc)/(NFW.M_vir)"
   ]
  },
  {
   "cell_type": "code",
   "execution_count": 28,
   "metadata": {
    "collapsed": false
   },
   "outputs": [
    {
     "data": {
      "text/plain": [
       "7.153846153846153"
      ]
     },
     "execution_count": 28,
     "metadata": {},
     "output_type": "execute_result"
    }
   ],
   "source": [
    "NFW.epsilon"
   ]
  },
  {
   "cell_type": "code",
   "execution_count": 29,
   "metadata": {
    "collapsed": false,
    "scrolled": true
   },
   "outputs": [
    {
     "data": {
      "text/plain": [
       "7.153846153846153"
      ]
     },
     "execution_count": 29,
     "metadata": {},
     "output_type": "execute_result"
    }
   ],
   "source": [
    "10 - 37/13.0"
   ]
  },
  {
   "cell_type": "code",
   "execution_count": 30,
   "metadata": {
    "collapsed": false
   },
   "outputs": [
    {
     "data": {
      "text/plain": [
       "9.42477796076938"
      ]
     },
     "execution_count": 30,
     "metadata": {},
     "output_type": "execute_result"
    }
   ],
   "source": [
    "np.pi * 3.0"
   ]
  },
  {
   "cell_type": "code",
   "execution_count": 31,
   "metadata": {
    "collapsed": false
   },
   "outputs": [],
   "source": [
    "rho_s = 12**3 * NFW.M_vir / (4.0 * np.pi * NFW.r_vir**3 * (np.log(1.0+12.0) - 12.0/(13.0)))"
   ]
  },
  {
   "cell_type": "code",
   "execution_count": 32,
   "metadata": {
    "collapsed": false
   },
   "outputs": [],
   "source": [
    "r = np.linspace(0.0, 500.0, 100.0)*cgs.kpc"
   ]
  },
  {
   "cell_type": "code",
   "execution_count": 33,
   "metadata": {
    "collapsed": false
   },
   "outputs": [
    {
     "name": "stderr",
     "output_type": "stream",
     "text": [
      "/home/emerick/anaconda/lib/python2.7/site-packages/IPython/kernel/__main__.py:1: RuntimeWarning: invalid value encountered in divide\n",
      "  if __name__ == '__main__':\n"
     ]
    }
   ],
   "source": [
    "pot_anal = -4.0*np.pi*cgs.G*NFW.rho_s*NFW.r_s**2 * np.log(1.0 + r / NFW.r_s) / (r/NFW.r_s)"
   ]
  },
  {
   "cell_type": "code",
   "execution_count": 34,
   "metadata": {
    "collapsed": false
   },
   "outputs": [
    {
     "ename": "ValueError",
     "evalue": "too many values to unpack",
     "output_type": "error",
     "traceback": [
      "\u001b[1;31m---------------------------------------------------------------------------\u001b[0m",
      "\u001b[1;31mValueError\u001b[0m                                Traceback (most recent call last)",
      "\u001b[1;32m<ipython-input-34-6aefba9db5cd>\u001b[0m in \u001b[0;36m<module>\u001b[1;34m()\u001b[0m\n\u001b[1;32m----> 1\u001b[1;33m \u001b[0mpot\u001b[0m\u001b[1;33m,\u001b[0m \u001b[0mA\u001b[0m\u001b[1;33m,\u001b[0m \u001b[0mB\u001b[0m \u001b[1;33m=\u001b[0m \u001b[0mNFW\u001b[0m\u001b[1;33m.\u001b[0m\u001b[0mpotential\u001b[0m\u001b[1;33m(\u001b[0m\u001b[0mr\u001b[0m\u001b[1;33m)\u001b[0m\u001b[1;33m\u001b[0m\u001b[0m\n\u001b[0m\u001b[0;32m      2\u001b[0m \u001b[1;33m\u001b[0m\u001b[0m\n\u001b[0;32m      3\u001b[0m \u001b[0manal_A\u001b[0m \u001b[1;33m=\u001b[0m \u001b[1;33m-\u001b[0m\u001b[1;36m4.0\u001b[0m\u001b[1;33m*\u001b[0m\u001b[0mnp\u001b[0m\u001b[1;33m.\u001b[0m\u001b[0mpi\u001b[0m\u001b[1;33m*\u001b[0m\u001b[0mcgs\u001b[0m\u001b[1;33m.\u001b[0m\u001b[0mG\u001b[0m\u001b[1;33m*\u001b[0m\u001b[1;33m(\u001b[0m\u001b[1;36m1.0\u001b[0m\u001b[1;33m/\u001b[0m\u001b[0mr\u001b[0m\u001b[1;33m)\u001b[0m \u001b[1;33m*\u001b[0m \u001b[1;33m(\u001b[0m\u001b[1;33m(\u001b[0m\u001b[1;36m1.0\u001b[0m\u001b[1;33m/\u001b[0m\u001b[1;33m(\u001b[0m\u001b[1;36m1.0\u001b[0m\u001b[1;33m+\u001b[0m\u001b[0mr\u001b[0m\u001b[1;33m/\u001b[0m\u001b[0mNFW\u001b[0m\u001b[1;33m.\u001b[0m\u001b[0mr_s\u001b[0m\u001b[1;33m)\u001b[0m\u001b[1;33m)\u001b[0m\u001b[1;33m+\u001b[0m\u001b[0mnp\u001b[0m\u001b[1;33m.\u001b[0m\u001b[0mlog\u001b[0m\u001b[1;33m(\u001b[0m\u001b[1;36m1.0\u001b[0m\u001b[1;33m+\u001b[0m\u001b[0mr\u001b[0m\u001b[1;33m/\u001b[0m\u001b[0mNFW\u001b[0m\u001b[1;33m.\u001b[0m\u001b[0mr_s\u001b[0m\u001b[1;33m)\u001b[0m\u001b[1;33m-\u001b[0m\u001b[1;36m1\u001b[0m\u001b[1;33m)\u001b[0m\u001b[1;33m*\u001b[0m\u001b[0mNFW\u001b[0m\u001b[1;33m.\u001b[0m\u001b[0mr_s\u001b[0m\u001b[1;33m**\u001b[0m\u001b[1;36m3\u001b[0m \u001b[1;33m*\u001b[0m \u001b[0mNFW\u001b[0m\u001b[1;33m.\u001b[0m\u001b[0mrho_s\u001b[0m\u001b[1;33m\u001b[0m\u001b[0m\n\u001b[0;32m      4\u001b[0m \u001b[0manal_B\u001b[0m \u001b[1;33m=\u001b[0m \u001b[1;33m-\u001b[0m\u001b[1;36m4.0\u001b[0m\u001b[1;33m*\u001b[0m\u001b[0mnp\u001b[0m\u001b[1;33m.\u001b[0m\u001b[0mpi\u001b[0m\u001b[1;33m*\u001b[0m\u001b[0mcgs\u001b[0m\u001b[1;33m.\u001b[0m\u001b[0mG\u001b[0m\u001b[1;33m*\u001b[0m\u001b[1;33m(\u001b[0m\u001b[0mNFW\u001b[0m\u001b[1;33m.\u001b[0m\u001b[0mr_s\u001b[0m\u001b[1;33m**\u001b[0m\u001b[1;36m2\u001b[0m \u001b[1;33m*\u001b[0m \u001b[0mNFW\u001b[0m\u001b[1;33m.\u001b[0m\u001b[0mrho_s\u001b[0m \u001b[1;33m/\u001b[0m \u001b[1;33m(\u001b[0m\u001b[1;36m1.0\u001b[0m \u001b[1;33m+\u001b[0m \u001b[1;33m(\u001b[0m\u001b[0mr\u001b[0m\u001b[1;33m/\u001b[0m\u001b[0mNFW\u001b[0m\u001b[1;33m.\u001b[0m\u001b[0mr_s\u001b[0m\u001b[1;33m)\u001b[0m\u001b[1;33m)\u001b[0m\u001b[1;33m)\u001b[0m\u001b[1;33m\u001b[0m\u001b[0m\n",
      "\u001b[1;31mValueError\u001b[0m: too many values to unpack"
     ]
    }
   ],
   "source": [
    "pot, A, B = NFW.potential(r)\n",
    "\n",
    "anal_A = -4.0*np.pi*cgs.G*(1.0/r) * ((1.0/(1.0+r/NFW.r_s))+np.log(1.0+r/NFW.r_s)-1)*NFW.r_s**3 * NFW.rho_s\n",
    "anal_B = -4.0*np.pi*cgs.G*(NFW.r_s**2 * NFW.rho_s / (1.0 + (r/NFW.r_s)))\n"
   ]
  },
  {
   "cell_type": "code",
   "execution_count": null,
   "metadata": {
    "collapsed": false
   },
   "outputs": [],
   "source": [
    "#NFW.large_r = 1.0E5*cgs.kpc\n",
    "\n",
    "pot, A, B = NFW.potential(r)\n",
    "\n",
    "print np.exp(-1.0E3),np.exp(-1.0E9),np.exp(-1.0E10)\n",
    "\n",
    "plt.plot(r/cgs.kpc, pot)\n",
    "plt.plot(r/cgs.kpc, pot_anal)\n",
    "plt.xlabel('R (kpc)')\n",
    "plt.ylabel('Potential')\n",
    "\n",
    "\n",
    "error = np.abs((pot-pot_anal)/pot_anal)\n",
    "error = error[r< 400*cgs.kpc]\n",
    "error = error[~np.isnan(error)]\n",
    "print np.average(error),np.max(error)"
   ]
  },
  {
   "cell_type": "code",
   "execution_count": null,
   "metadata": {
    "collapsed": false
   },
   "outputs": [],
   "source": [
    "print np.shape(r), np.shape(A)\n",
    "\n",
    "plt.plot(r[r>0]/cgs.kpc, A, color = 'black')\n",
    "plt.plot(r/cgs.kpc, anal_A, color = 'black',ls='--')\n",
    "\n",
    "print np.max((anal_A[r>0]-A)/A)"
   ]
  },
  {
   "cell_type": "code",
   "execution_count": null,
   "metadata": {
    "collapsed": false
   },
   "outputs": [],
   "source": [
    "def integrand(x):\n",
    "    \n",
    "    \n",
    "    density = NFW.rho_s / ((x/NFW.r_s)*(1.0+(x/NFW.r_s))**2)\n",
    "    \n",
    "    \n",
    "    return x * density\n",
    "\n",
    "def anal_B_func(x):\n",
    "    return -4.0*np.pi*cgs.G*(NFW.r_s**2 * NFW.rho_s / (1.0 + (x/NFW.r_s)))\n",
    "\n",
    "\n",
    "xval = 10.1010101*cgs.kpc\n",
    "xmax = 100000000*cgs.kpc\n",
    "\n",
    "integrated_B = quad(integrand, xval, xmax)\n",
    "    \n",
    "    \n",
    "print integrated_B\n",
    "\n",
    "final_B = -1.0*integrated_B[0] * 4.0 * cgs.G * np.pi\n",
    "\n",
    "print final_B\n",
    "print anal_B_func(xval)\n",
    "\n",
    "print (final_B-anal_B_func(xval))/anal_B_func(xval)"
   ]
  },
  {
   "cell_type": "code",
   "execution_count": null,
   "metadata": {
    "collapsed": false
   },
   "outputs": [],
   "source": [
    "pot, A, B = NFW.potential(r)\n",
    "\n",
    "plt.plot(r[r>0]/cgs.kpc, -B, color = 'black')\n",
    "plt.plot(r/cgs.kpc, -anal_B, color = 'black',ls='--')\n",
    "plt.semilogy()\n",
    "print np.max((anal_B[r>0]-B)/B)\n"
   ]
  },
  {
   "cell_type": "code",
   "execution_count": null,
   "metadata": {
    "collapsed": false
   },
   "outputs": [],
   "source": [
    "plt.plot(r/cgs.kpc, pot)\n",
    "plt.plot(r[r>0]/cgs.kpc, A+B)\n",
    "plt.plot(r/cgs.kpc, anal_A + anal_B)"
   ]
  },
  {
   "cell_type": "code",
   "execution_count": null,
   "metadata": {
    "collapsed": false
   },
   "outputs": [],
   "source": [
    "p = NFW.dPhi_dr(r)\n",
    "plt.plot(r/cgs.kpc, p)\n",
    "plt.xlabel('R (kpc)')\n",
    "plt.ylabel('First Derivative of Potential')"
   ]
  },
  {
   "cell_type": "code",
   "execution_count": null,
   "metadata": {
    "collapsed": false
   },
   "outputs": [],
   "source": [
    "p = NFW.d2Phi_dr2(r)\n",
    "plt.plot(r/cgs.kpc, p)\n",
    "plt.xlabel('R (kpc)')\n",
    "plt.ylabel('Second Derivative of Potential')"
   ]
  },
  {
   "cell_type": "code",
   "execution_count": null,
   "metadata": {
    "collapsed": false
   },
   "outputs": [],
   "source": [
    "dddr = NFW.first_derivative(1.0E2*cgs.kpc)\n",
    "dpdr = NFW.dPhi_dr(1.0E2*cgs.kpc)\n",
    "\n",
    "print dddr, dpdr, 1.0/dpdr\n",
    "print dddr/dpdr"
   ]
  },
  {
   "cell_type": "code",
   "execution_count": null,
   "metadata": {
    "collapsed": false
   },
   "outputs": [],
   "source": [
    "print 'line 1 %.2f'%(199.0),\n",
    "res = 10.0 + 1000.0\n",
    "print 'line 2'\n",
    "print res"
   ]
  },
  {
   "cell_type": "code",
   "execution_count": null,
   "metadata": {
    "collapsed": true
   },
   "outputs": [],
   "source": []
  }
 ],
 "metadata": {
  "kernelspec": {
   "display_name": "Python 2",
   "language": "python",
   "name": "python2"
  },
  "language_info": {
   "codemirror_mode": {
    "name": "ipython",
    "version": 2
   },
   "file_extension": ".py",
   "mimetype": "text/x-python",
   "name": "python",
   "nbconvert_exporter": "python",
   "pygments_lexer": "ipython2",
   "version": "2.7.10"
  }
 },
 "nbformat": 4,
 "nbformat_minor": 0
}
