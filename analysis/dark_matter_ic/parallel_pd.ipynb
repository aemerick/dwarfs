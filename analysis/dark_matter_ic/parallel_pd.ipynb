{
 "cells": [
  {
   "cell_type": "code",
   "execution_count": 6,
   "metadata": {
    "collapsed": false
   },
   "outputs": [],
   "source": [
    "%matplotlib inline\n",
    "\n",
    "import numpy as np\n",
    "import cgs as cgs\n",
    "\n",
    "import df as df\n",
    "import dm_density_profiles as dm\n",
    "import particle_distribution as pd\n",
    "\n",
    "from mpl_toolkits.mplot3d import Axes3D\n",
    "import matplotlib.pyplot as plt\n",
    "import time"
   ]
  },
  {
   "cell_type": "code",
   "execution_count": 7,
   "metadata": {
    "collapsed": false
   },
   "outputs": [
    {
     "name": "stdout",
     "output_type": "stream",
     "text": [
      " 500 DF points successfuly loaded from ./LT_NFW_500.dat\n"
     ]
    }
   ],
   "source": [
    "NFW = dm.general_dm_profile('LT_NFW')\n",
    "NFW.set_params(profile_shape_params=[1.0,3.0,1.0])\n",
    "NFW.set_params(M_vir = 3.1E8 * cgs.Msun, r_vir = 1370.0 * cgs.pc)\n",
    "NFW.set_params(r_decay = 0.1*NFW.r_vir, r_s = 795.0 * cgs.pc )\n",
    "\n",
    "df_filename = \"./LT_NFW_500.dat\"\n",
    "\n",
    "NFW_DF = df.DF(NFW)\n",
    "f = NFW_DF.load_df(df_filename)\n"
   ]
  },
  {
   "cell_type": "code",
   "execution_count": null,
   "metadata": {
    "collapsed": false
   },
   "outputs": [],
   "source": []
  },
  {
   "cell_type": "markdown",
   "metadata": {
    "collapsed": false
   },
   "source": [
    "Ncore = 1\n",
    "start = time.time()\n",
    "pos, vel = NFW_PD.parallel_generate_particle_distribution(100.0,Ncore=Ncore,outfile='lt_parallel.dat')\n",
    "end = time.time()\n",
    "\n",
    "print end - start"
   ]
  },
  {
   "cell_type": "markdown",
   "metadata": {
    "collapsed": false
   },
   "source": [
    "Ncore = 2\n",
    "start = time.time()\n",
    "NFW_PD = pd.particle_distribution(NFW_DF,10)\n",
    "pos, vel = NFW_PD.parallel_generate_particle_distribution(100.0,Ncore=Ncore,outfile='lt_parallel.dat')\n",
    "end = time.time()\n",
    "\n",
    "print end - start"
   ]
  },
  {
   "cell_type": "code",
   "execution_count": null,
   "metadata": {
    "collapsed": false
   },
   "outputs": [],
   "source": [
    "Ncore = 8\n",
    "start = time.time()\n",
    "NFW_PD = pd.particle_distribution(NFW_DF,1.0E4)\n",
    "pos, vel = NFW_PD.parallel_generate_particle_distribution(100000.0,Ncore=Ncore,outfile='lt_parallel.dat')\n",
    "end = time.time()\n",
    "\n",
    "print end - start"
   ]
  },
  {
   "cell_type": "code",
   "execution_count": null,
   "metadata": {
    "collapsed": false
   },
   "outputs": [],
   "source": [
    "pos"
   ]
  },
  {
   "cell_type": "code",
   "execution_count": null,
   "metadata": {
    "collapsed": false
   },
   "outputs": [],
   "source": []
  },
  {
   "cell_type": "code",
   "execution_count": null,
   "metadata": {
    "collapsed": false
   },
   "outputs": [],
   "source": []
  },
  {
   "cell_type": "code",
   "execution_count": null,
   "metadata": {
    "collapsed": false
   },
   "outputs": [],
   "source": []
  },
  {
   "cell_type": "code",
   "execution_count": null,
   "metadata": {
    "collapsed": true
   },
   "outputs": [],
   "source": []
  }
 ],
 "metadata": {
  "kernelspec": {
   "display_name": "Python 2",
   "language": "python",
   "name": "python2"
  },
  "language_info": {
   "codemirror_mode": {
    "name": "ipython",
    "version": 2
   },
   "file_extension": ".py",
   "mimetype": "text/x-python",
   "name": "python",
   "nbconvert_exporter": "python",
   "pygments_lexer": "ipython2",
   "version": "2.7.10"
  }
 },
 "nbformat": 4,
 "nbformat_minor": 0
}
