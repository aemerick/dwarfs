{
 "cells": [
  {
   "cell_type": "code",
   "execution_count": 1,
   "metadata": {
    "collapsed": false
   },
   "outputs": [
    {
     "name": "stdout",
     "output_type": "stream",
     "text": [
      "using cgs py\n"
     ]
    }
   ],
   "source": [
    "%matplotlib inline\n",
    "\n",
    "import numpy as np\n",
    "import cgs as cgs\n",
    "\n",
    "import df as df\n",
    "import dm_density_profiles as dm\n",
    "import particle_distribution as pd\n",
    "\n",
    "from mpl_toolkits.mplot3d import Axes3D\n",
    "import matplotlib.pyplot as plt\n",
    "import time"
   ]
  },
  {
   "cell_type": "code",
   "execution_count": 2,
   "metadata": {
    "collapsed": false
   },
   "outputs": [
    {
     "name": "stdout",
     "output_type": "stream",
     "text": [
      " 500 DF points successfuly loaded from ./LT_NFW_500.dat\n"
     ]
    }
   ],
   "source": [
    "NFW = dm.general_dm_profile('LT_NFW')\n",
    "NFW.set_params(profile_shape_params=[1.0,3.0,1.0])\n",
    "NFW.set_params(M_vir = 3.1E8 * cgs.Msun, r_vir = 1370.0 * cgs.pc)\n",
    "NFW.set_params(r_decay = 0.1*NFW.r_vir, r_s = 795.0 * cgs.pc )\n",
    "\n",
    "df_filename = \"./LT_NFW_500.dat\"\n",
    "\n",
    "NFW_DF = df.DF(NFW)\n",
    "f = NFW_DF.load_df(df_filename)\n"
   ]
  },
  {
   "cell_type": "code",
   "execution_count": 3,
   "metadata": {
    "collapsed": false
   },
   "outputs": [],
   "source": [
    "NFW_PD = pd.particle_distribution(NFW_DF,10)\n"
   ]
  },
  {
   "cell_type": "code",
   "execution_count": 4,
   "metadata": {
    "collapsed": false
   },
   "outputs": [
    {
     "name": "stdout",
     "output_type": "stream",
     "text": [
      "(1, 2, 10, 3)\n",
      "10\n",
      "47.8506369591\n"
     ]
    }
   ],
   "source": [
    "Ncore = 1\n",
    "start = time.time()\n",
    "pos, vel = NFW_PD.parallel_generate_particle_distribution(100.0,Ncore=Ncore,outfile='lt_parallel.dat')\n",
    "end = time.time()\n",
    "\n",
    "print end - start"
   ]
  },
  {
   "cell_type": "code",
   "execution_count": 5,
   "metadata": {
    "collapsed": false
   },
   "outputs": [
    {
     "name": "stdout",
     "output_type": "stream",
     "text": [
      "(2, 2, 5, 3)\n",
      "10\n",
      "12.3625891209\n"
     ]
    }
   ],
   "source": [
    "Ncore = 2\n",
    "start = time.time()\n",
    "NFW_PD = pd.particle_distribution(NFW_DF,10)\n",
    "pos, vel = NFW_PD.parallel_generate_particle_distribution(100.0,Ncore=Ncore,outfile='lt_parallel.dat')\n",
    "end = time.time()\n",
    "\n",
    "print end - start"
   ]
  },
  {
   "cell_type": "code",
   "execution_count": 6,
   "metadata": {
    "collapsed": false
   },
   "outputs": [
    {
     "name": "stdout",
     "output_type": "stream",
     "text": [
      "(5, 2, 10, 3)\n",
      "50\n",
      "53.3356161118\n"
     ]
    }
   ],
   "source": [
    "Ncore = 4\n",
    "start = time.time()\n",
    "NFW_PD = pd.particle_distribution(NFW_DF,1.0E4)\n",
    "pos, vel = NFW_PD.parallel_generate_particle_distribution(1000.0,Ncore=Ncore,outfile='lt_parallel.dat')\n",
    "end = time.time()\n",
    "\n",
    "print end - start"
   ]
  },
  {
   "cell_type": "code",
   "execution_count": 7,
   "metadata": {
    "collapsed": false
   },
   "outputs": [
    {
     "data": {
      "text/plain": [
       "array([[  1.12524531e+19,   1.69440710e+20,  -3.22972919e+20],\n",
       "       [  3.29199096e+19,  -8.13709321e+19,  -4.22760433e+19],\n",
       "       [ -4.34721531e+19,  -9.47489632e+19,   2.78414230e+20],\n",
       "       [  3.43513711e+20,   4.06138875e+20,   1.60473867e+20],\n",
       "       [  1.90918331e+20,   8.71941876e+19,  -3.83921561e+20],\n",
       "       [ -4.89575432e+20,  -9.58276900e+19,  -7.27132466e+20],\n",
       "       [  3.01209392e+19,  -3.99473569e+20,   3.48710824e+20],\n",
       "       [  9.81914411e+19,  -8.03600048e+20,  -4.58079893e+20],\n",
       "       [ -4.02761720e+18,  -1.90810593e+19,   7.10556900e+20],\n",
       "       [ -2.25329850e+20,   2.65417507e+19,  -6.33102388e+20],\n",
       "       [  1.12524531e+19,   1.69440710e+20,  -3.22972919e+20],\n",
       "       [  3.29199096e+19,  -8.13709321e+19,  -4.22760433e+19],\n",
       "       [ -4.34721531e+19,  -9.47489632e+19,   2.78414230e+20],\n",
       "       [  3.43513711e+20,   4.06138875e+20,   1.60473867e+20],\n",
       "       [  1.90918331e+20,   8.71941876e+19,  -3.83921561e+20],\n",
       "       [ -4.89575432e+20,  -9.58276900e+19,  -7.27132466e+20],\n",
       "       [  3.01209392e+19,  -3.99473569e+20,   3.48710824e+20],\n",
       "       [  9.81914411e+19,  -8.03600048e+20,  -4.58079893e+20],\n",
       "       [ -4.02761720e+18,  -1.90810593e+19,   7.10556900e+20],\n",
       "       [ -2.25329850e+20,   2.65417507e+19,  -6.33102388e+20],\n",
       "       [  1.12524531e+19,   1.69440710e+20,  -3.22972919e+20],\n",
       "       [  3.29199096e+19,  -8.13709321e+19,  -4.22760433e+19],\n",
       "       [ -4.34721531e+19,  -9.47489632e+19,   2.78414230e+20],\n",
       "       [  3.43513711e+20,   4.06138875e+20,   1.60473867e+20],\n",
       "       [  1.90918331e+20,   8.71941876e+19,  -3.83921561e+20],\n",
       "       [ -4.89575432e+20,  -9.58276900e+19,  -7.27132466e+20],\n",
       "       [  3.01209392e+19,  -3.99473569e+20,   3.48710824e+20],\n",
       "       [  9.81914411e+19,  -8.03600048e+20,  -4.58079893e+20],\n",
       "       [ -4.02761720e+18,  -1.90810593e+19,   7.10556900e+20],\n",
       "       [ -2.25329850e+20,   2.65417507e+19,  -6.33102388e+20],\n",
       "       [  1.12524531e+19,   1.69440710e+20,  -3.22972919e+20],\n",
       "       [  3.29199096e+19,  -8.13709321e+19,  -4.22760433e+19],\n",
       "       [ -4.34721531e+19,  -9.47489632e+19,   2.78414230e+20],\n",
       "       [  3.43513711e+20,   4.06138875e+20,   1.60473867e+20],\n",
       "       [  1.90918331e+20,   8.71941876e+19,  -3.83921561e+20],\n",
       "       [ -4.89575432e+20,  -9.58276900e+19,  -7.27132466e+20],\n",
       "       [  3.01209392e+19,  -3.99473569e+20,   3.48710824e+20],\n",
       "       [  9.81914411e+19,  -8.03600048e+20,  -4.58079893e+20],\n",
       "       [ -4.02761720e+18,  -1.90810593e+19,   7.10556900e+20],\n",
       "       [ -2.25329850e+20,   2.65417507e+19,  -6.33102388e+20],\n",
       "       [  1.12524531e+19,   1.69440710e+20,  -3.22972919e+20],\n",
       "       [  3.29199096e+19,  -8.13709321e+19,  -4.22760433e+19],\n",
       "       [ -4.34721531e+19,  -9.47489632e+19,   2.78414230e+20],\n",
       "       [  3.43513711e+20,   4.06138875e+20,   1.60473867e+20],\n",
       "       [  1.90918331e+20,   8.71941876e+19,  -3.83921561e+20],\n",
       "       [ -4.89575432e+20,  -9.58276900e+19,  -7.27132466e+20],\n",
       "       [  3.01209392e+19,  -3.99473569e+20,   3.48710824e+20],\n",
       "       [  9.81914411e+19,  -8.03600048e+20,  -4.58079893e+20],\n",
       "       [ -4.02761720e+18,  -1.90810593e+19,   7.10556900e+20],\n",
       "       [ -2.25329850e+20,   2.65417507e+19,  -6.33102388e+20]])"
      ]
     },
     "execution_count": 7,
     "metadata": {},
     "output_type": "execute_result"
    }
   ],
   "source": [
    "pos"
   ]
  },
  {
   "cell_type": "code",
   "execution_count": null,
   "metadata": {
    "collapsed": false
   },
   "outputs": [],
   "source": []
  },
  {
   "cell_type": "code",
   "execution_count": null,
   "metadata": {
    "collapsed": false
   },
   "outputs": [],
   "source": []
  },
  {
   "cell_type": "code",
   "execution_count": null,
   "metadata": {
    "collapsed": false
   },
   "outputs": [],
   "source": []
  },
  {
   "cell_type": "code",
   "execution_count": null,
   "metadata": {
    "collapsed": true
   },
   "outputs": [],
   "source": []
  }
 ],
 "metadata": {
  "kernelspec": {
   "display_name": "Python 2",
   "language": "python",
   "name": "python2"
  },
  "language_info": {
   "codemirror_mode": {
    "name": "ipython",
    "version": 2
   },
   "file_extension": ".py",
   "mimetype": "text/x-python",
   "name": "python",
   "nbconvert_exporter": "python",
   "pygments_lexer": "ipython2",
   "version": "2.7.10"
  }
 },
 "nbformat": 4,
 "nbformat_minor": 0
}
