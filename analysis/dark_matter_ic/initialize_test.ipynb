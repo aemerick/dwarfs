{
 "cells": [
  {
   "cell_type": "code",
   "execution_count": 1,
   "metadata": {
    "collapsed": false
   },
   "outputs": [
    {
     "name": "stdout",
     "output_type": "stream",
     "text": [
      "using cgs py\n"
     ]
    }
   ],
   "source": [
    "%matplotlib inline\n",
    "\n",
    "import numpy as np\n",
    "import cgs as cgs\n",
    "\n",
    "import df as df\n",
    "import dm_density_profiles as dm\n",
    "import particle_distribution as pd\n",
    "\n",
    "from mpl_toolkits.mplot3d import Axes3D\n",
    "import matplotlib.pyplot as plt\n"
   ]
  },
  {
   "cell_type": "code",
   "execution_count": 2,
   "metadata": {
    "collapsed": false
   },
   "outputs": [
    {
     "name": "stdout",
     "output_type": "stream",
     "text": [
      " 500 DF points successfuly loaded from ./NFW_500.dat\n"
     ]
    }
   ],
   "source": [
    "NFW = dm.general_dm_profile('NFW')\n",
    "NFW.set_params(profile_shape_params=[1.0,3.0,1.0])\n",
    "NFW.set_params(M_vir = 1.0E12 * cgs.Msun, r_vir = 240.0 * cgs.kpc)\n",
    "NFW.set_params(r_decay = 0.1*NFW.r_vir, r_s = (1.0/12.0)*NFW.r_vir)\n",
    "\n",
    "df_filename = \"./NFW_500.dat\"\n",
    "\n",
    "NFW_DF = df.DF(NFW)\n",
    "f = NFW_DF.load_df(df_filename)\n"
   ]
  },
  {
   "cell_type": "code",
   "execution_count": 3,
   "metadata": {
    "collapsed": true
   },
   "outputs": [],
   "source": [
    "NFW_PD = pd.particle_distribution(NFW_DF,1.0)"
   ]
  },
  {
   "cell_type": "code",
   "execution_count": null,
   "metadata": {
    "collapsed": false
   },
   "outputs": [],
   "source": [
    "pos, vel = NFW_PD.generate_particle_distribution(1.0E4)"
   ]
  },
  {
   "cell_type": "code",
   "execution_count": null,
   "metadata": {
    "collapsed": false
   },
   "outputs": [],
   "source": [
    "fig = plt.figure()\n",
    "ax = fig.add_subplot(111,projection='3d')\n",
    "pos = pos/cgs.kpc\n",
    "ax.scatter(pos[:,0], pos[:,1], pos[:,2])\n"
   ]
  },
  {
   "cell_type": "code",
   "execution_count": null,
   "metadata": {
    "collapsed": false
   },
   "outputs": [],
   "source": [
    "r = np.sqrt(NFW_PD.pos[:,0]**2 + NFW_PD.pos[:,1]**2 + NFW_PD.pos[:,2]**2)    \n",
    "\n",
    "r_bins = np.linspace(0.0, np.max(r), nbins + 1)\n",
    "# now bin with np hist\n",
    "r_hist, r_bins = np.histogram(r, bins = r_bins)\n",
    "\n",
    "# calculate the volume in each bin\n",
    "volume = 4.0 * np.pi * (r_bins[1:]**3 - r_bins[:-1]**3) / 3.0\n",
    "\n",
    "# now calculate the bin centers\n",
    "r_cent = 0.5*(r_bins[1:] + r_bins[:-1])\n",
    "\n",
    "# number density\n",
    "density = r_hist / volume\n"
   ]
  },
  {
   "cell_type": "code",
   "execution_count": null,
   "metadata": {
    "collapsed": false
   },
   "outputs": [],
   "source": [
    "nbins = 100\n",
    "#density = NFW_PD.density_profile(nbins)\n",
    "\n",
    "fig = plt.figure(figsize=(14,6))\n",
    "ax1 = fig.add_subplot(121)\n",
    "\n",
    "\n",
    "mass_density = density * (NFW_PD.DF.dprof.M_sys/NFW_PD.N_part)\n",
    "analytic_density =  NFW_PD.DF.dprof.density(r_cent)\n",
    "\n",
    "\n",
    "ax1.plot(r_cent/cgs.kpc, analytic_density, lw = 2.5, label = 'Analytic Profile')\n",
    "ax1.plot(r_cent/cgs.kpc, mass_density, lw = 2.5, label = 'Particle Distribution')\n",
    "ax1.semilogy()\n",
    "ax1.set_ylabel(r'Density (g/cm$^{-3}$)')\n",
    "ax1.set_xlabel(r'r (kpc)')\n",
    "ax1.legend(loc='best')\n",
    "\n",
    "\n",
    "error = (analytic_density - mass_density)/analytic_density\n",
    "error = np.abs(error)\n",
    "\n",
    "\n",
    "ax2 = fig.add_subplot(122)\n",
    "ax2.plot(r_cent/cgs.kpc, error, lw=2.5)\n",
    "ax2.set_xlabel(r'r (kpc)')\n",
    "ax2.set_ylabel(r'Absolute Error')\n"
   ]
  },
  {
   "cell_type": "code",
   "execution_count": null,
   "metadata": {
    "collapsed": true
   },
   "outputs": [],
   "source": []
  }
 ],
 "metadata": {
  "kernelspec": {
   "display_name": "Python 2",
   "language": "python",
   "name": "python2"
  },
  "language_info": {
   "codemirror_mode": {
    "name": "ipython",
    "version": 2
   },
   "file_extension": ".py",
   "mimetype": "text/x-python",
   "name": "python",
   "nbconvert_exporter": "python",
   "pygments_lexer": "ipython2",
   "version": "2.7.10"
  }
 },
 "nbformat": 4,
 "nbformat_minor": 0
}
