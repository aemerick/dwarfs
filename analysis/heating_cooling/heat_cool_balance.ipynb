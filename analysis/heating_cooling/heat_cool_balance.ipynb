{
 "cells": [
  {
   "cell_type": "code",
   "execution_count": 12,
   "metadata": {
    "collapsed": false
   },
   "outputs": [],
   "source": [
    "%matplotlib inline\n",
    "import matplotlib.pyplot as plt\n",
    "import numpy as np\n",
    "import heating as heat\n",
    "import cooling as cool\n",
    "import cgs as cgs"
   ]
  },
  {
   "cell_type": "code",
   "execution_count": 13,
   "metadata": {
    "collapsed": false
   },
   "outputs": [],
   "source": [
    "from initial_conditions import ic_list"
   ]
  },
  {
   "cell_type": "code",
   "execution_count": 14,
   "metadata": {
    "collapsed": false
   },
   "outputs": [],
   "source": [
    "carina = ic_list.ic_object_dict['CarinaMidMed']\n",
    "r_SF = 280*cgs.pc\n",
    "pe_heat = 0.5E-28"
   ]
  },
  {
   "cell_type": "code",
   "execution_count": 15,
   "metadata": {
    "collapsed": false
   },
   "outputs": [],
   "source": [
    "R = carina.ic['RM']\n",
    "r = np.linspace(0.0,R,1000)\n",
    "T = carina.ic['T_dwarf']"
   ]
  },
  {
   "cell_type": "code",
   "execution_count": 16,
   "metadata": {
    "collapsed": false
   },
   "outputs": [
    {
     "name": "stdout",
     "output_type": "stream",
     "text": [
      "sim_rho_crit       = 9.74000000E-30\n",
      "sim_TCloud         = 1.00000000E+04\n",
      "sim_rhoCenter      = 1.18014715E-24\n",
      "sim_mu_halo        = 6.20000000E-01\n",
      "sim_TAmbient       = 1.80000000E+06\n",
      "sim_M200           = 6.74000418E+41\n",
      "sim_bparam         = 2.45311368E+21\n",
      "sim_rhoAmbient     = 1.76294148E-28\n",
      "sim_mu_dwarf       = 1.29700000E+00\n"
     ]
    }
   ],
   "source": [
    "carina.find_density_profile(r)\n",
    "carina.FLASH_readable_ic()"
   ]
  },
  {
   "cell_type": "code",
   "execution_count": 17,
   "metadata": {
    "collapsed": false
   },
   "outputs": [],
   "source": [
    "n = carina.rho/(carina.ic['mu_dwarf']*cgs.mp)"
   ]
  },
  {
   "cell_type": "code",
   "execution_count": 18,
   "metadata": {
    "collapsed": false
   },
   "outputs": [],
   "source": [
    "heating_rate = heat.lower_bound_heating(r,n,T,r_uv=r_SF,pe_heat=pe_heat)\n",
    "cooling_rate = cool.radloss(n,T)"
   ]
  },
  {
   "cell_type": "code",
   "execution_count": 19,
   "metadata": {
    "collapsed": false
   },
   "outputs": [],
   "source": [
    "??heat.lower_bound_heating??"
   ]
  },
  {
   "cell_type": "code",
   "execution_count": null,
   "metadata": {
    "collapsed": true
   },
   "outputs": [],
   "source": [
    "??heat.lower_bound_heating"
   ]
  },
  {
   "cell_type": "code",
   "execution_count": 20,
   "metadata": {
    "collapsed": true
   },
   "outputs": [],
   "source": [
    "??heat.lower_bound_heating"
   ]
  },
  {
   "cell_type": "code",
   "execution_count": 21,
   "metadata": {
    "collapsed": false
   },
   "outputs": [
    {
     "name": "stdout",
     "output_type": "stream",
     "text": [
      "Object `lower_bound_heating` not found.\n"
     ]
    }
   ],
   "source": [
    "??lower_bound_heating"
   ]
  },
  {
   "cell_type": "code",
   "execution_count": 24,
   "metadata": {
    "collapsed": false
   },
   "outputs": [
    {
     "name": "stdout",
     "output_type": "stream",
     "text": [
      "-6.67240477976e-27\n",
      "6.6857645909e-27\n"
     ]
    },
    {
     "data": {
      "image/png": "[encoded data removed]",
      "text/plain": [
       "<matplotlib.figure.Figure at 0x7fa065f87890>"
      ]
     },
     "metadata": {},
     "output_type": "display_data"
    }
   ],
   "source": [
    "difference = n*cooling_rate - heating_rate\n",
    "plt.plot(r,difference)\n",
    "plt.plot(r,n*cooling_rate)\n",
    "print np.average(difference)\n",
    "print np.sum(difference*n)/(np.sum(n)*1.0)"
   ]
  },
  {
   "cell_type": "code",
   "execution_count": 23,
   "metadata": {
    "collapsed": false
   },
   "outputs": [
    {
     "name": "stdout",
     "output_type": "stream",
     "text": [
      "1.07267673331e-13\n"
     ]
    }
   ],
   "source": [
    "vol = 4.0*np.pi/3.0 * R**3\n",
    "sne = 1.0E51 / vol\n",
    "print sne"
   ]
  },
  {
   "cell_type": "code",
   "execution_count": null,
   "metadata": {
    "collapsed": false
   },
   "outputs": [],
   "source": []
  }
 ],
 "metadata": {
  "kernelspec": {
   "display_name": "Python 2",
   "language": "python",
   "name": "python2"
  },
  "language_info": {
   "codemirror_mode": {
    "name": "ipython",
    "version": 2
   },
   "file_extension": ".py",
   "mimetype": "text/x-python",
   "name": "python",
   "nbconvert_exporter": "python",
   "pygments_lexer": "ipython2",
   "version": "2.7.9"
  }
 },
 "nbformat": 4,
 "nbformat_minor": 0
}
