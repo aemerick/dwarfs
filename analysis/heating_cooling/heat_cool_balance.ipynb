{
 "metadata": {
  "name": "",
  "signature": "sha256:9c19dfaba2c0c409424514384bd41e55788c1fde9417ef8c8d3330956b56e2e8"
 },
 "nbformat": 3,
 "nbformat_minor": 0,
 "worksheets": [
  {
   "cells": [
    {
     "cell_type": "code",
     "collapsed": false,
     "input": [
      "%matplotlib inline\n",
      "import matplotlib.pyplot as plt\n",
      "import numpy as np\n",
      "import heating as heat\n",
      "import cooling as cool\n",
      "import cgs as cgs"
     ],
     "language": "python",
     "metadata": {},
     "outputs": [
      {
       "output_type": "stream",
       "stream": "stdout",
       "text": [
        "using cgs py\n"
       ]
      }
     ],
     "prompt_number": 1
    },
    {
     "cell_type": "code",
     "collapsed": false,
     "input": [
      "from initial_conditions import ic_list"
     ],
     "language": "python",
     "metadata": {},
     "outputs": [
      {
       "output_type": "stream",
       "stream": "stdout",
       "text": [
        "Loading IC for  Leo_T_burkert\n",
        "Loading IC for  Leo_T\n",
        "MUST SET A 'potential_type'\n",
        "Loading IC for  Sextans_test\n",
        "MUST SET A 'potential_type'\n",
        "Loading IC for  Leo_T_obs\n",
        "Assuming primordial neutral for dwarf mu = 1.31\n",
        "Assuming primordial ionized for halo mu = 0.6\n",
        "If M200 or n_o are not set, they will be solved for\n",
        "using the profile choice\n",
        "Loading IC for  CarinaMidMed\n",
        "Assuming primordial ionized for halo mu = 0.6\n",
        "If M200 or n_o are not set, they will be solved for\n",
        "using the profile choice\n",
        "Loading IC for  Leo_T_solve_burkert\n",
        "Assuming primordial neutral for dwarf mu = 1.31\n",
        "Assuming primordial ionized for halo mu = 0.6\n",
        "If M200 or n_o are not set, they will be solved for\n",
        "using the profile choice\n",
        "Loading IC for  Leo_test\n",
        "MUST SET A 'potential_type'\n",
        "Loaded IC's for  7  dwarf galaxies\n"
       ]
      }
     ],
     "prompt_number": 2
    },
    {
     "cell_type": "code",
     "collapsed": false,
     "input": [
      "carina = ic_list.ic_object_dict['CarinaMidMed']\n",
      "r_SF = 280*cgs.pc\n",
      "pe_heat = 2.538E-28"
     ],
     "language": "python",
     "metadata": {},
     "outputs": [],
     "prompt_number": 3
    },
    {
     "cell_type": "code",
     "collapsed": false,
     "input": [
      "R = carina.ic['RM']\n",
      "r = np.linspace(0.0,R,1000)\n",
      "T = carina.ic['T_dwarf']"
     ],
     "language": "python",
     "metadata": {},
     "outputs": [],
     "prompt_number": 4
    },
    {
     "cell_type": "code",
     "collapsed": false,
     "input": [
      "carina.find_density_profile(r)\n",
      "carina.FLASH_readable_ic()"
     ],
     "language": "python",
     "metadata": {},
     "outputs": [
      {
       "output_type": "stream",
       "stream": "stdout",
       "text": [
        "sim_rho_crit       = 9.74000000E-30\n",
        "sim_TCloud         = 1.00000000E+04\n",
        "sim_rhoCenter      = 8.76452880E-25\n",
        "sim_mu_halo        = 6.00000000E-01\n",
        "sim_TAmbient       = 1.80000000E+06\n",
        "sim_M200           = 6.74000418E+41\n",
        "sim_bparam         = 2.45311368E+21\n",
        "sim_rhoAmbient     = 1.70607240E-28\n",
        "sim_mu_dwarf       = 1.31000000E+00\n"
       ]
      }
     ],
     "prompt_number": 14
    },
    {
     "cell_type": "code",
     "collapsed": false,
     "input": [
      "n = carina.rho/(carina.ic['mu_dwarf']*cgs.mp)"
     ],
     "language": "python",
     "metadata": {},
     "outputs": [],
     "prompt_number": 6
    },
    {
     "cell_type": "code",
     "collapsed": false,
     "input": [
      "heating_rate = heat.lower_bound_heating(r,n,T,r_uv=r_SF,pe_heat=pe_heat)\n",
      "cooling_rate = cool.radloss(n,T)"
     ],
     "language": "python",
     "metadata": {},
     "outputs": [],
     "prompt_number": 8
    },
    {
     "cell_type": "code",
     "collapsed": false,
     "input": [
      "difference = n*cooling_rate - 0.75*heating_rate\n",
      "plt.plot(r,difference)\n",
      "print np.average(difference)\n",
      "print np.sum(difference*n)/(np.sum(n)*1.0)"
     ],
     "language": "python",
     "metadata": {},
     "outputs": [
      {
       "output_type": "stream",
       "stream": "stdout",
       "text": [
        "-3.63556621732e-27\n",
        "5.10272457269e-27\n"
       ]
      },
      {
       "metadata": {},
       "output_type": "display_data",
       "png": "[encoded data removed]",
       "text": [
        "<matplotlib.figure.Figure at 0x7f6ba7aace50>"
       ]
      }
     ],
     "prompt_number": 12
    },
    {
     "cell_type": "code",
     "collapsed": false,
     "input": [
      "vol = 4.0*np.pi/3.0 * R**3\n",
      "sne = 1.0E51 / vol\n",
      "print sne"
     ],
     "language": "python",
     "metadata": {},
     "outputs": [
      {
       "output_type": "stream",
       "stream": "stdout",
       "text": [
        "1.73633056408e-13\n"
       ]
      }
     ],
     "prompt_number": 13
    },
    {
     "cell_type": "code",
     "collapsed": false,
     "input": [],
     "language": "python",
     "metadata": {},
     "outputs": []
    }
   ],
   "metadata": {}
  }
 ]
}