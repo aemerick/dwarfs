{
 "metadata": {
  "name": "",
  "signature": "sha256:d2c93e90741769d12aaa0ed7834bfef237b91118d8317e6a321ef03cc899fb98"
 },
 "nbformat": 3,
 "nbformat_minor": 0,
 "worksheets": [
  {
   "cells": [
    {
     "cell_type": "code",
     "collapsed": false,
     "input": [
      "%matplotlib inline\n",
      "\n",
      "import profiles as prof\n",
      "import ic_list as icl\n",
      "import cgs as cgs\n",
      "import numpy as np\n",
      "import matplotlib.pyplot as plt"
     ],
     "language": "python",
     "metadata": {},
     "outputs": [
      {
       "output_type": "stream",
       "stream": "stdout",
       "text": [
        "using cgs py\n",
        "Loading IC for "
       ]
      },
      {
       "output_type": "stream",
       "stream": "stdout",
       "text": [
        " Leo_T_burkert\n",
        "Loading IC for  Leo_T\n",
        "MUST SET A 'potential_type'\n",
        "Loading IC for  Sextans_test\n",
        "MUST SET A 'potential_type'\n",
        "Loading IC for  Leo_T_obs\n",
        "Assuming primordial neutral for dwarf mu = 1.31\n",
        "Assuming primordial ionized for halo mu = 0.6\n",
        "If M200 or n_o are not set, they will be solved for\n",
        "using the profile choice\n",
        "Loading IC for  CarinaMidMed\n",
        "Assuming primordial ionized for halo mu = 0.6\n",
        "If M200 or n_o are not set, they will be solved for\n",
        "using the profile choice\n",
        "Loading IC for  Leo_T_solve_burkert\n",
        "Assuming primordial neutral for dwarf mu = 1.31\n",
        "Assuming primordial ionized for halo mu = 0.6\n",
        "If M200 or n_o are not set, they will be solved for\n",
        "using the profile choice\n",
        "rhoDM   cgas    dB   R200\n",
        "1.00363034969e-24 2.64504907109e-12 4.017498077e+12 3.15838062322e+22\n",
        "Loading IC for  Leo_test\n",
        "MUST SET A 'potential_type'\n",
        "Loaded IC's for  7  dwarf galaxies\n"
       ]
      }
     ],
     "prompt_number": 1
    },
    {
     "cell_type": "code",
     "collapsed": false,
     "input": [
      "leo_T_burkert = icl.ic_object_dict['Leo_T_solve_burkert']\n",
      "leo_T_NFW     = icl.ic_object_dict['Leo_T_obs']\n",
      "leo_T_burkert.FLASH_readable_ic()"
     ],
     "language": "python",
     "metadata": {},
     "outputs": [
      {
       "output_type": "stream",
       "stream": "stdout",
       "text": [
        "sim_rho_crit       = 9.74000000E-30\n",
        "sim_TCloud         = 6.00000000E+03\n",
        "sim_rhoCenter      = 9.24093553E-25\n",
        "sim_mu_halo        = 6.00000000E-01\n",
        "sim_TAmbient       = 3.27947744E+06\n",
        "sim_M200           = 2.57081581E+41\n",
        "sim_bparam         = 2.18465973E+21\n",
        "sim_rhoAmbient     = 4.51607400E-28\n",
        "sim_mu_dwarf       = 1.31000000E+00\n"
       ]
      }
     ],
     "prompt_number": 2
    },
    {
     "cell_type": "code",
     "collapsed": false,
     "input": [
      "for dwarf in [leo_T_burkert,leo_T_NFW]:\n",
      "    const = [1.0/cgs.Msun,1.0,1.0]\n",
      "    i = 0\n",
      "    print dwarf.name\n",
      "    for param in ['M200','n_o','T_halo']:\n",
      "        print param + \" = %5.5e\"%(dwarf.ic[param]*const[i])\n",
      "        i=i+1"
     ],
     "language": "python",
     "metadata": {},
     "outputs": [
      {
       "output_type": "stream",
       "stream": "stdout",
       "text": [
        "Leo_T_solve_burkert\n",
        "M200 = 1.29245e+08\n",
        "n_o = 4.21742e-01\n",
        "T_halo = 3.27948e+06\n",
        "Leo_T_obs\n",
        "M200 = 3.09338e+08\n",
        "n_o = 8.84519e-01\n",
        "T_halo = 3.82608e+05\n"
       ]
      }
     ],
     "prompt_number": 3
    },
    {
     "cell_type": "code",
     "collapsed": false,
     "input": [
      "r      = np.linspace(0.0,leo_T_burkert.ic['r_HI'],1000)\n",
      "radius = 350.0 * cgs.pc\n",
      "leo_T_burkert.find_density_profile(r,type='Burkert_isothermal')\n",
      "leo_T_NFW.find_density_profile(r,type='NFW_isothermal')\n",
      "\n",
      "leo_T_WNM = np.genfromtxt('Leo_T_WNM.dat',names=True,delimiter=',')\n",
      "leo_T_WNM['r'] = leo_T_WNM['r'] * 1000.0 # kpc to pc\n",
      "leo_T_WNM['NHI'] = 10**(leo_T_WNM['NHI'])"
     ],
     "language": "python",
     "metadata": {},
     "outputs": [
      {
       "output_type": "stream",
       "stream": "stdout",
       "text": [
        "rhoDM   cgas    dB   R200\n",
        "1.00363034969e-24 2.64504907109e-12 4.017498077e+12 3.15838062322e+22\n"
       ]
      }
     ],
     "prompt_number": 4
    },
    {
     "cell_type": "code",
     "collapsed": false,
     "input": [
      "(1./2.645049E-12 - 378064559158) / 378064559158.\n",
      "\n"
     ],
     "language": "python",
     "metadata": {},
     "outputs": [
      {
       "metadata": {},
       "output_type": "pyout",
       "prompt_number": 11,
       "text": [
        "7.158642036833e-07"
       ]
      }
     ],
     "prompt_number": 11
    },
    {
     "cell_type": "code",
     "collapsed": false,
     "input": [
      "print leo_T_WNM['NHI']"
     ],
     "language": "python",
     "metadata": {},
     "outputs": [
      {
       "output_type": "stream",
       "stream": "stdout",
       "text": [
        "[  2.62580485e+20   2.48820073e+20   2.35795299e+20   2.26147768e+20\n",
        "   2.15614229e+20   2.06808881e+20   1.86921458e+20   1.66991955e+20\n",
        "   1.47474000e+20   1.34178985e+20   1.19968892e+20   1.07924449e+20\n",
        "   9.65455793e+19   8.68959361e+19   7.64268159e+19   6.76350418e+19\n",
        "   6.19938373e+19   5.39487427e+19   4.53712969e+19   3.68908991e+19\n",
        "   3.14275641e+19   2.81979445e+19   2.53068407e+19   2.28473425e+19\n",
        "   1.99430109e+19   1.80146245e+19   1.52138984e+19   1.27136934e+19\n",
        "   1.07513710e+19   9.40626860e+18   8.46426992e+18   7.36984364e+18]\n"
       ]
      }
     ],
     "prompt_number": 5
    },
    {
     "cell_type": "code",
     "collapsed": false,
     "input": [
      "plt.plot(r/cgs.pc, leo_T_burkert.rho, lw = 2, label = 'Burkert',color='black')\n",
      "plt.plot(r/cgs.pc, leo_T_NFW.rho, lw = 2, label = 'NFW',color='blue')\n",
      "plt.xlabel('r (pc)')\n",
      "plt.ylabel(r'$\\rho$ (g cm$^{-3}$)')\n",
      "plt.legend(loc='best')\n",
      "plt.semilogy()\n",
      "leo_T_burkert.rho[-1]/leo_T_NFW.rho[-1]"
     ],
     "language": "python",
     "metadata": {},
     "outputs": [
      {
       "metadata": {},
       "output_type": "pyout",
       "prompt_number": 6,
       "text": [
        "8.5713858824794098"
       ]
      },
      {
       "metadata": {},
       "output_type": "display_data",
       "png": "[encoded data removed]",
       "text": [
        "<matplotlib.figure.Figure at 0x7f742a07ad10>"
       ]
      }
     ],
     "prompt_number": 6
    },
    {
     "cell_type": "code",
     "collapsed": false,
     "input": [
      "N_HI_burkert = prof.column_density(r, leo_T_burkert.rho/(1.31*cgs.mp))\n",
      "N_HI_NFW     = prof.column_density(r, leo_T_NFW.rho/(1.31*cgs.mp))\n",
      "\n",
      "fig,ax1=plt.subplots(figsize=(8,8))\n",
      "ax1.plot(r/cgs.pc, N_HI_burkert, label=' Burkert', lw=2 ,color='black')\n",
      "ax1.plot(r/cgs.pc, N_HI_NFW, label='NFW', lw=2, color='blue')\n",
      "ax1.set_xlabel('r (pc)')\n",
      "ax1.set_ylabel(r'N$_{\\rm{HI}}$ (cm$^{-2}$)')\n",
      "ax1.semilogy()\n",
      "#plt.plot(plt.xlim(),[7.0E20,7.0E20],lw=1.0,color='red', label = r'N$_{\\rm{HI}}$ max - RW08')\n",
      "ax1.plot(plt.xlim(),[2.4E20,2.4E20],lw=1.0,color='red',ls='--', label = r'N$_{\\rm{HI}}$ max - F13')\n",
      "\n",
      "ax1.plot(leo_T_WNM['r'], leo_T_WNM['NHI'], lw=2.0, color='green', label=r'WNM from RW08')\n",
      "\n",
      "ax1.plot(plt.xlim(),[2.0E19,2.0E19],lw=1.0,ls='-.',color='red',label=r'WRST N$_{\\rm{HI}}$ limit')\n",
      "ax1.legend(loc='best')\n",
      "\n",
      "# average column in 50 pc bins\n",
      "bin_size = 50.0*cgs.pc\n",
      "avg_HI_burkert = np.average(N_HI_burkert[r<bin_size])\n",
      "avg_HI_NFW     = np.average(N_HI_NFW[r<bin_size])\n",
      "print avg_HI_burkert, avg_HI_NFW\n",
      "print 7.0E20 / (600*cgs.pc)\n",
      "plt.savefig('NHI_profiles.png')"
     ],
     "language": "python",
     "metadata": {},
     "outputs": [
      {
       "output_type": "stream",
       "stream": "stdout",
       "text": [
        "2.82049808183e+20 4.29979695211e+20\n",
        "0.378090917285\n"
       ]
      },
      {
       "metadata": {},
       "output_type": "display_data",
       "png": "[encoded data removed]",
       "text": [
        "<matplotlib.figure.Figure at 0x7f7429d233d0>"
       ]
      }
     ],
     "prompt_number": 7
    },
    {
     "cell_type": "code",
     "collapsed": false,
     "input": [
      "r_s = leo_T.ic['b']\n",
      "M200 = leo_T.ic['M200']\n",
      "T_dwarf = leo_T.ic['T_dwarf']\n",
      "n_o = leo_T.ic['n_o']\n",
      "mu_dwarf = leo_T.ic['mu_dwarf']\n",
      "rho_crit = leo_T.ic['rho_crit']\n",
      "\n",
      "r = np.linspace(0.00001,500.0,1000)*cgs.pc\n",
      "\n",
      "gas_density = prof.Burkert_isothermal_gas(r, r_s, M200, T_dwarf, n_o, mu=mu_dwarf, rho_crit=rho_crit)\n",
      "\n",
      "\n",
      "n_dwarf = gas_density / (cgs.mp * mu_dwarf)\n",
      "\n",
      "P_dwarf = n_dwarf * cgs.kb * T_dwarf\n",
      "n_halo = leo_T.ic['n_halo']\n",
      "P_halo  = leo_T.ic['n_halo'] * leo_T.ic['T_halo'] * cgs.kb * np.ones(np.size(r))"
     ],
     "language": "python",
     "metadata": {},
     "outputs": [
      {
       "ename": "NameError",
       "evalue": "name 'leo_T' is not defined",
       "output_type": "pyerr",
       "traceback": [
        "\u001b[1;31m---------------------------------------------------------------------------\u001b[0m\n\u001b[1;31mNameError\u001b[0m                                 Traceback (most recent call last)",
        "\u001b[1;32m<ipython-input-8-98be88fbe3bb>\u001b[0m in \u001b[0;36m<module>\u001b[1;34m()\u001b[0m\n\u001b[1;32m----> 1\u001b[1;33m \u001b[0mr_s\u001b[0m \u001b[1;33m=\u001b[0m \u001b[0mleo_T\u001b[0m\u001b[1;33m.\u001b[0m\u001b[0mic\u001b[0m\u001b[1;33m[\u001b[0m\u001b[1;34m'b'\u001b[0m\u001b[1;33m]\u001b[0m\u001b[1;33m\u001b[0m\u001b[0m\n\u001b[0m\u001b[0;32m      2\u001b[0m \u001b[0mM200\u001b[0m \u001b[1;33m=\u001b[0m \u001b[0mleo_T\u001b[0m\u001b[1;33m.\u001b[0m\u001b[0mic\u001b[0m\u001b[1;33m[\u001b[0m\u001b[1;34m'M200'\u001b[0m\u001b[1;33m]\u001b[0m\u001b[1;33m\u001b[0m\u001b[0m\n\u001b[0;32m      3\u001b[0m \u001b[0mT_dwarf\u001b[0m \u001b[1;33m=\u001b[0m \u001b[0mleo_T\u001b[0m\u001b[1;33m.\u001b[0m\u001b[0mic\u001b[0m\u001b[1;33m[\u001b[0m\u001b[1;34m'T_dwarf'\u001b[0m\u001b[1;33m]\u001b[0m\u001b[1;33m\u001b[0m\u001b[0m\n\u001b[0;32m      4\u001b[0m \u001b[0mn_o\u001b[0m \u001b[1;33m=\u001b[0m \u001b[0mleo_T\u001b[0m\u001b[1;33m.\u001b[0m\u001b[0mic\u001b[0m\u001b[1;33m[\u001b[0m\u001b[1;34m'n_o'\u001b[0m\u001b[1;33m]\u001b[0m\u001b[1;33m\u001b[0m\u001b[0m\n\u001b[0;32m      5\u001b[0m \u001b[0mmu_dwarf\u001b[0m \u001b[1;33m=\u001b[0m \u001b[0mleo_T\u001b[0m\u001b[1;33m.\u001b[0m\u001b[0mic\u001b[0m\u001b[1;33m[\u001b[0m\u001b[1;34m'mu_dwarf'\u001b[0m\u001b[1;33m]\u001b[0m\u001b[1;33m\u001b[0m\u001b[0m\n",
        "\u001b[1;31mNameError\u001b[0m: name 'leo_T' is not defined"
       ]
      }
     ],
     "prompt_number": 8
    },
    {
     "cell_type": "code",
     "collapsed": false,
     "input": [
      "\n",
      "plt.plot(r/cgs.pc, gas_density/(cgs.mp*mu_dwarf), label='Burkert density',color='black',lw=1.75)\n",
      "plt.plot(plt.xlim(), [n_halo,n_halo], label='Halo', color='red',lw=1.75)\n",
      "plt.xlabel('r (pc)'); plt.ylabel('Number Density')\n",
      "plt.legend(loc='best')\n",
      "plt.semilogy()\n",
      "#plt.semilogy()"
     ],
     "language": "python",
     "metadata": {},
     "outputs": []
    },
    {
     "cell_type": "code",
     "collapsed": false,
     "input": [
      "plt.plot(r/cgs.pc, P_dwarf, label='Dwarf Pressure',color='black',lw=1.75)\n",
      "plt.plot(r/cgs.pc, P_halo , label='Halo Pressure', color='red', lw=1.75)\n",
      "plt.plot([350,350],plt.ylim())\n",
      "plt.xlabel('r (pc)'); plt.ylabel('Pressure')\n",
      "\n",
      "plt.legend(loc='best')"
     ],
     "language": "python",
     "metadata": {},
     "outputs": []
    },
    {
     "cell_type": "code",
     "collapsed": false,
     "input": [
      "from scipy import integrate \n",
      "integrand = lambda r : r*r*prof.Burkert_isothermal_gas(r, r_s, M200, T_dwarf, n_o, mu=mu_dwarf, rho_crit=rho_crit)\n",
      "mass_enclosed=np.zeros(np.size(r))\n",
      "for i in np.arange(np.size(r)):\n",
      "    mass_enclosed[i] = integrate.quad(integrand,0.000001,r[i])[0] * 4.0*np.pi\n",
      "plt.plot(r/cgs.pc, mass_enclosed/cgs.Msun)\n",
      "plt.ylim(10,1E8)\n",
      "plt.semilogy()"
     ],
     "language": "python",
     "metadata": {},
     "outputs": []
    },
    {
     "cell_type": "code",
     "collapsed": false,
     "input": [
      "R = 350*cgs.pc\n",
      "r_dwarf = r[r<=R]\n",
      "l = np.sqrt(R**2 - r_dwarf**2)\n",
      "n_dwarf = gas_density/(cgs.mp*1.31)\n",
      "\n",
      "N_dwarf = l*n_dwarf[r<=R]\n",
      "plt.plot(r_dwarf/cgs.pc,N_dwarf)\n",
      "plt.ylim(1.0E18,1.0E21)\n",
      "plt.semilogy()"
     ],
     "language": "python",
     "metadata": {},
     "outputs": []
    },
    {
     "cell_type": "heading",
     "level": 3,
     "metadata": {},
     "source": [
      "new things\n"
     ]
    },
    {
     "cell_type": "code",
     "collapsed": false,
     "input": [
      "leo_T_solve = icl.ic_object_dict['Leo_T_solve_burkert']\n",
      "leo_T_solve.set_ic(leo_T_solve.ic)"
     ],
     "language": "python",
     "metadata": {},
     "outputs": []
    },
    {
     "cell_type": "code",
     "collapsed": false,
     "input": [
      "leo_T_solve.ic"
     ],
     "language": "python",
     "metadata": {},
     "outputs": []
    },
    {
     "cell_type": "code",
     "collapsed": false,
     "input": [
      "print \"%5.4e\"%(7.57E40/cgs.Msun)"
     ],
     "language": "python",
     "metadata": {},
     "outputs": []
    },
    {
     "cell_type": "code",
     "collapsed": false,
     "input": [
      "1.0E-25*4.0*np.pi/3.0 * (350*cgs.pc)**3 / cgs.Msun\n"
     ],
     "language": "python",
     "metadata": {},
     "outputs": []
    },
    {
     "cell_type": "code",
     "collapsed": false,
     "input": [
      "gas_density"
     ],
     "language": "python",
     "metadata": {},
     "outputs": []
    },
    {
     "cell_type": "code",
     "collapsed": false,
     "input": [],
     "language": "python",
     "metadata": {},
     "outputs": []
    }
   ],
   "metadata": {}
  }
 ]
}