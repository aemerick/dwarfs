{
 "metadata": {
  "name": "",
  "signature": "sha256:d1cd44dcce454c84f80208d40796c1a759ed0804d42af23f81c818881da94cb7"
 },
 "nbformat": 3,
 "nbformat_minor": 0,
 "worksheets": [
  {
   "cells": [
    {
     "cell_type": "code",
     "collapsed": false,
     "input": [
      "%matplotlib inline\n",
      "\n",
      "import profiles as prof\n",
      "from scipy.optimize import leastsq\n",
      "import numpy as np\n",
      "import matplotlib.pyplot as plt\n",
      "import cgs as cgs"
     ],
     "language": "python",
     "metadata": {},
     "outputs": [
      {
       "output_type": "stream",
       "stream": "stdout",
       "text": [
        "using cgs py\n"
       ]
      }
     ],
     "prompt_number": 1
    },
    {
     "cell_type": "code",
     "collapsed": false,
     "input": [
      "leo_T_WNM = np.genfromtxt('Leo_T_WNM.dat',names=True,delimiter=',')\n",
      "r_RW08 = leo_T_WNM['r'] * 1000.0 *cgs.pc # kpc to pc\n",
      "NHI_RW08 = 10**(leo_T_WNM['NHI'])\n",
      "\n",
      "rmax = 300*cgs.pc\n",
      "r_RW08 = r_RW08[ r_RW08 <= rmax]\n",
      "NHI_RW08 = NHI_RW08[ r_RW08 <= rmax]"
     ],
     "language": "python",
     "metadata": {},
     "outputs": [],
     "prompt_number": 2
    },
    {
     "cell_type": "code",
     "collapsed": false,
     "input": [
      "T_dwarf = 6000.0\n",
      "mu_dwarf = 1.31\n",
      "\n",
      "def residuals(params, NHI, r):\n",
      "    r_s, M200, n_o = params\n",
      "    \n",
      "    if (((r_s > 1200*cgs.pc) or (r_s < 200*cgs.pc)) or ((M200 > 1.0E10*cgs.Msun) or (M200 < 1.0E4 * cgs.Msun)) or ((n_o > 10.0) or (n_o < 0.00001))):\n",
      "        return np.ones(np.size(r))* 1.0E99\n",
      "    \n",
      "    rho = prof.Burkert_isothermal_gas(r,r_s=r_s, M200=M200,n_o=n_o,T=T_dwarf,mu=mu_dwarf)\n",
      "    \n",
      "    err = NHI - prof.column_density(r,rho/(cgs.mp*mu_dwarf))\n",
      "\n",
      "    return err\n",
      "\n",
      "def NFW_residuals(params, NHI, r):\n",
      "    r_s, M200, n_o = params\n",
      "    if (((r_s > 1200*cgs.pc) or (r_s < 200*cgs.pc)) or ((M200 > 1.0E9*cgs.Msun) or (M200 < 1.0E5 * cgs.Msun)) or ((n_o > 10.0) or (n_o < 0.00001))):\n",
      "        return np.ones(np.size(r))* 1.0E9    \n",
      "    rho,rm = prof.NFW_isothermal_gas(r,r_s=r_s, M200=M200,n_o=n_o,T=T_dwarf,mu=mu_dwarf)\n",
      "    \n",
      "    err = prof.column_density(r,rho/(cgs.mp*mu_dwarf)) - NHI\n",
      "\n",
      "    return err\n",
      "\n",
      "\n",
      "def param_eval(r, params):\n",
      "    r_s, M200, n_o = params\n",
      "    return prof.Burkert_isothermal_gas(r,r_s=r_s, M200=M200,n_o=n_o,T=T_dwarf,mu=mu_dwarf)\n",
      "\n",
      "def NFW_param_eval(r, params):\n",
      "    r_s, M200, n_o = params\n",
      "    return prof.NFW_isothermal_gas(r,r_s=r_s, M200=M200,n_o=n_o,T=T_dwarf,mu=mu_dwarf)"
     ],
     "language": "python",
     "metadata": {},
     "outputs": [],
     "prompt_number": 3
    },
    {
     "cell_type": "code",
     "collapsed": false,
     "input": [
      "# params are 'r_s', 'M200' and gas 'n_o'\n",
      "p0 = [800*cgs.pc, 1.0E7*cgs.Msun, 0.2]\n",
      "\n",
      "pfit, i = leastsq(residuals, p0, args=(NHI_RW08, r_RW08))\n",
      "\n",
      "p0 = [800*cgs.pc, 3.3E6*cgs.Msun, 1.]\n",
      "\n",
      "p_NFW, i = leastsq(NFW_residuals, p0, args=(NHI_RW08, r_RW08))\n"
     ],
     "language": "python",
     "metadata": {},
     "outputs": [],
     "prompt_number": 4
    },
    {
     "cell_type": "code",
     "collapsed": false,
     "input": [
      "rval = np.linspace(0.0,rmax)\n",
      "\n",
      "print \"%3.3f %5.4e %3.3f\"%(pfit[0]/cgs.pc,pfit[1]/cgs.Msun,pfit[2])\n",
      "rho = param_eval(rval, pfit)\n",
      "M   = prof.cumulative_mass(rval,rho)\n",
      "NHI = prof.column_density(rval, rho/(cgs.mp*mu_dwarf))\n",
      "\n",
      "print \"%3.3f %5.4e %3.3f\"%(p_NFW[0]/cgs.pc,p_NFW[1]/cgs.Msun,p_NFW[2])\n",
      "rho_NFW = param_eval(rval, p_NFW)\n",
      "M_NFW   = prof.cumulative_mass(rval,rho_NFW)\n",
      "NHI_NFW = prof.column_density(rval, rho_NFW/(cgs.mp*mu_dwarf))"
     ],
     "language": "python",
     "metadata": {},
     "outputs": [
      {
       "output_type": "stream",
       "stream": "stdout",
       "text": [
        "978.239 1.0000e+04 0.210\n",
        "-4677.523 -1.8876e+07 0.403\n"
       ]
      },
      {
       "output_type": "stream",
       "stream": "stderr",
       "text": [
        "profiles.py:85: RuntimeWarning: invalid value encountered in double_scalars\n",
        "  R200 = (3.0*M200/(4.0*np.pi*200.0*rho_crit))**(1.0/3.0)\n"
       ]
      }
     ],
     "prompt_number": 5
    },
    {
     "cell_type": "code",
     "collapsed": false,
     "input": [
      "M/cgs.Msun"
     ],
     "language": "python",
     "metadata": {},
     "outputs": [
      {
       "metadata": {},
       "output_type": "pyout",
       "prompt_number": 6,
       "text": [
        "array([  0.00000000e+00,   0.00000000e+00,   9.82280231e+00,\n",
        "         5.89367246e+01,   1.86632530e+02,   4.32200273e+02,\n",
        "         8.34928944e+02,   1.43410613e+03,   2.26901765e+03,\n",
        "         3.37894724e+03,   4.80317621e+03,   6.58098309e+03,\n",
        "         8.75164331e+03,   1.13544289e+04,   1.44286081e+04,\n",
        "         1.80134452e+04,   2.21482000e+04,   2.68721276e+04,\n",
        "         3.22244782e+04,   3.82444966e+04,   4.49714223e+04,\n",
        "         5.24444885e+04,   6.07029225e+04,   6.97859452e+04,\n",
        "         7.97327705e+04,   9.05826058e+04,   1.02374651e+05,\n",
        "         1.15148098e+05,   1.28942131e+05,   1.43795928e+05,\n",
        "         1.59748656e+05,   1.76839476e+05,   1.95107538e+05,\n",
        "         2.14591984e+05,   2.35331948e+05,   2.57366553e+05,\n",
        "         2.80734913e+05,   3.05476132e+05,   3.31629304e+05,\n",
        "         3.59233513e+05,   3.88327833e+05,   4.18951327e+05,\n",
        "         4.51143046e+05,   4.84942033e+05,   5.20387317e+05,\n",
        "         5.57517919e+05,   5.96372844e+05,   6.36991089e+05,\n",
        "         6.79411640e+05,   7.23673468e+05])"
       ]
      }
     ],
     "prompt_number": 6
    },
    {
     "cell_type": "code",
     "collapsed": false,
     "input": [
      "plt.plot(rval/cgs.pc, NHI, label='Burkert Fit',lw=2)\n",
      "plt.plot(rval/cgs.pc, NHI_NFW, label='NFW Fit',lw=2)\n",
      "plt.plot(r_RW08/cgs.pc, NHI_RW08, label = 'RW08',lw=2)\n",
      "plt.semilogy()\n",
      "plt.legend(loc='best')"
     ],
     "language": "python",
     "metadata": {},
     "outputs": [
      {
       "metadata": {},
       "output_type": "pyout",
       "prompt_number": 7,
       "text": [
        "<matplotlib.legend.Legend at 0x7fa39446ce90>"
       ]
      },
      {
       "metadata": {},
       "output_type": "display_data",
       "png": "[encoded data removed]",
       "text": [
        "<matplotlib.figure.Figure at 0x7fa37c036190>"
       ]
      }
     ],
     "prompt_number": 7
    },
    {
     "cell_type": "code",
     "collapsed": false,
     "input": [
      "from scipy import integrate \n",
      "integrand = lambda x : x*x*param_eval(x,pfit)\n",
      "mass_enclosed = np.zeros(np.size(rval))\n",
      "for i in np.arange(np.size(rval)):\n",
      "    mass_enclosed[i] = integrate.quad(integrand,0.000001,rval[i])[0] * 4.0*np.pi"
     ],
     "language": "python",
     "metadata": {},
     "outputs": [],
     "prompt_number": 8
    },
    {
     "cell_type": "code",
     "collapsed": false,
     "input": [
      "print \"%5.4e\"%(mass_enclosed[-1]/cgs.Msun)"
     ],
     "language": "python",
     "metadata": {},
     "outputs": [
      {
       "output_type": "stream",
       "stream": "stdout",
       "text": [
        "7.6966e+05\n"
       ]
      }
     ],
     "prompt_number": 9
    },
    {
     "cell_type": "code",
     "collapsed": false,
     "input": [],
     "language": "python",
     "metadata": {},
     "outputs": [],
     "prompt_number": 9
    },
    {
     "cell_type": "code",
     "collapsed": false,
     "input": [],
     "language": "python",
     "metadata": {},
     "outputs": [],
     "prompt_number": 9
    }
   ],
   "metadata": {}
  }
 ]
}